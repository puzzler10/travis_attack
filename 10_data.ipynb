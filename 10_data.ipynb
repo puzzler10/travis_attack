{
 "cells": [
  {
   "cell_type": "code",
   "execution_count": null,
   "metadata": {},
   "outputs": [],
   "source": [
    "#default_exp data"
   ]
  },
  {
   "cell_type": "code",
   "execution_count": null,
   "metadata": {},
   "outputs": [],
   "source": [
    "#hide\n",
    "%load_ext autoreload\n",
    "%autoreload 2\n",
    "%load_ext line_profiler"
   ]
  },
  {
   "cell_type": "code",
   "execution_count": null,
   "metadata": {},
   "outputs": [],
   "source": [
    "#export\n",
    "import torch, random, pandas as pd\n",
    "from torch.utils.data import DataLoader, RandomSampler\n",
    "from datasets import load_dataset, load_from_disk, DatasetDict, ClassLabel\n",
    "from IPython.display import display, HTML\n",
    "from travis_attack.trainer import get_vm_probs\n",
    "from travis_attack.config import Config"
   ]
  },
  {
   "cell_type": "code",
   "execution_count": null,
   "metadata": {},
   "outputs": [],
   "source": [
    "#hide\n",
    "import inspect\n",
    "from IPython.core.debugger import set_trace"
   ]
  },
  {
   "cell_type": "markdown",
   "metadata": {},
   "source": [
    "# Preparing data"
   ]
  },
  {
   "cell_type": "markdown",
   "metadata": {},
   "source": [
    "## Classes "
   ]
  },
  {
   "cell_type": "markdown",
   "metadata": {},
   "source": [
    "### Base class"
   ]
  },
  {
   "cell_type": "code",
   "execution_count": null,
   "metadata": {},
   "outputs": [],
   "source": [
    "#export\n",
    "class ProcessedDataset: \n",
    "    \"\"\"Class that wraps a raw dataset (e.g. from huggingface datasets) and performs preprocessing on it.\"\"\"\n",
    "    def __init__(self, cfg, vm_tokenizer, vm_model, pp_tokenizer, sts_model): \n",
    "        self._cfg,self._vm_tokenizer,self._vm_model,self._pp_tokenizer,self._sts_model = cfg,vm_tokenizer,vm_model,pp_tokenizer,sts_model\n",
    "        if   self._cfg.dataset_name == \"simple\":          self._prep_dsd_raw_simple()\n",
    "        elif self._cfg.dataset_name == \"rotten_tomatoes\": self._prep_dsd_raw_rotten_tomatoes()\n",
    "        else: raise Exception(\"cfg.dataset_name must be either 'simple' or 'rotten_tomatoes'\")\n",
    "        self._preprocess_dataset() \n",
    "            \n",
    "    def _prep_dsd_raw_simple(self): \n",
    "        \"\"\"Load the simple dataset and package it up in a DatasetDict (dsd) \n",
    "        with splits for train, valid, test.\"\"\"\n",
    "        self.dsd_raw = DatasetDict()\n",
    "        for s in self._cfg.splits:  \n",
    "            self.dsd_raw[s] = load_dataset('csv', data_files=f\"{self._cfg.path_data}simple_dataset_{s}.csv\")['train']    \n",
    "        \n",
    "    def _prep_dsd_raw_rotten_tomatoes(self):\n",
    "        \"\"\"Load the rotten tomatoes dataet and package it up in a DatasetDict (dsd) \n",
    "        with splits for train, valid, test.\"\"\"\n",
    "        self.dsd_raw = load_dataset(\"rotten_tomatoes\")\n",
    "        self.dsd_raw['valid'] = self.dsd_raw.pop('validation')  # \"valid\" is easier than \"validation\" \n",
    "        # make sure that all datasets have the same number of labels as what the victim model predicts\n",
    "        for _,ds in self.dsd_raw.items(): assert ds.features[self._cfg.label_cname].num_classes == self._cfg.vm_num_labels \n",
    "\n",
    "    def _prep_dsd_raw_snli(self): \n",
    "        ## For snli\n",
    "        # remove_minus1_labels = lambda x: x[label_cname] != -1\n",
    "        # ds_train = ds_train.filter(remove_minus1_labels)\n",
    "        # valid = valid.filter(remove_minus1_labels)\n",
    "        # test = test.filter(remove_minus1_labels)\n",
    "        raise NotImplementedError(\"SNLI not implemented yet.\")\n",
    "    \n",
    "    def _preprocess_dataset(self): \n",
    "        \"\"\"Add columns, tokenize, transform, prepare dataloaders, and do other preprocessing tasks.\"\"\"\n",
    "        ##### TODO: why do you need train_eval? how is it different from train?\n",
    "        dsd = self.dsd_raw.map(self._add_idx, batched=True, with_indices=True)  # add idx column\n",
    "        if self._cfg.use_small_ds: dsd = self._prep_small_ds(dsd)  # do after adding idx so it's consistent across runs\n",
    "        dsd = dsd.map(self._add_vm_orig_score, batched=True)  # add VM score\n",
    "        if self._cfg.remove_misclassified_examples: dsd = dsd.filter(lambda x: x['orig_vm_predclass'] == x['label']) \n",
    "        dsd = dsd.map(self._add_sts_orig_embeddings, batched=True)  # add STS score \n",
    "        dsd = dsd.map(self._tokenize_fn,             batched=True)  # tokenize\n",
    "        dsd = dsd.map(self._add_n_tokens,            batched=True)  # add n_tokens\n",
    "        if self._cfg.bucket_by_length: dsd = dsd.sort(\"n_tokens\", reverse=True)  # sort by n_tokens (high to low), useful for cuda memory caching\n",
    "        self.dld_raw = self._get_dataloaders_dict(dsd, collate_fn=self._collate_fn_raw)  # dict of data loaders that serve raw text\n",
    "        self.dld_tkn = self._get_dataloaders_dict(dsd, collate_fn=self._collate_fn_tkn)  # dict of data loaders that serve tokenized text\n",
    "        self.dsd_tkn = dsd \n",
    "        \n",
    "    def _add_idx(self, batch, idx):\n",
    "        \"\"\"Add row numbers\"\"\"\n",
    "        batch['idx'] = idx \n",
    "        return batch   \n",
    "    \n",
    "    def _add_n_tokens(self, batch): \n",
    "        \"\"\"Add the number of tokens of the orig text \"\"\"\n",
    "        batch['n_tokens'] = [len(o) for o in batch['input_ids']]\n",
    "        return batch \n",
    "    \n",
    "    def _add_sts_orig_embeddings(self, batch): \n",
    "        \"\"\"Add the sts embeddings of the orig text\"\"\"\n",
    "        batch['orig_sts_embeddings'] = self._sts_model.encode(batch[self._cfg.orig_cname], batch_size=64, convert_to_tensor=False)\n",
    "        return batch\n",
    "    \n",
    "    def _add_vm_orig_score(self, batch): \n",
    "        \"\"\"Add the vm score of the orig text\"\"\"\n",
    "        labels = torch.tensor(batch[self._cfg.label_cname], device=self._cfg.device)\n",
    "        orig_probs,orig_predclass = get_vm_probs(batch[self._cfg.orig_cname], self._cfg, self._vm_tokenizer,\n",
    "                                                 self._vm_model, return_predclass=True)\n",
    "        batch['orig_truelabel_probs'] = torch.gather(orig_probs,1, labels[:,None]).squeeze().cpu().tolist()\n",
    "        batch['orig_vm_predclass'] = orig_predclass.cpu().tolist()\n",
    "        return batch\n",
    "    \n",
    "    def _tokenize_fn(self, batch):  \n",
    "        \"\"\"Tokenize a batch of orig text using the paraphrase tokenizer.\"\"\"\n",
    "        return self._pp_tokenizer(batch[self._cfg.orig_cname], truncation=True, max_length=self._cfg.orig_max_length)  \n",
    "    \n",
    "    def _collate_fn_tkn(self, x): \n",
    "        \"\"\"Collate function used by the DataLoader that serves tokenized data.\"\"\"\n",
    "        d = dict()\n",
    "        for k in ['idx', 'attention_mask', 'input_ids', 'label', 'orig_truelabel_probs', 'orig_sts_embeddings']: \n",
    "            d[k] = [o[k] for o in x]\n",
    "        return self._pp_tokenizer.pad(d, pad_to_multiple_of=self._cfg.orig_padding_multiple, return_tensors=\"pt\")\n",
    "\n",
    "    def _collate_fn_raw(self, x): \n",
    "        \"\"\"Collate function used by the DataLoader that serves raw data.\"\"\"\n",
    "        d = dict()\n",
    "        for k in [cfg.orig_cname, 'idx']: d[k] = [o[k] for o in x]\n",
    "        return d \n",
    "\n",
    "    def _get_sampler(self, ds): \n",
    "        \"\"\"Returns a RandomSampler. Used so we can keep the same shuffle order across multiple data loaders.\n",
    "        Used when self._cfg.shuffle_train = True\"\"\"\n",
    "        g = torch.Generator()\n",
    "        g.manual_seed(seed)\n",
    "        return RandomSampler(ds, generator=g)\n",
    "    \n",
    "    def _prep_small_ds(self, dsd):\n",
    "        \"\"\"Replaces a datasetdict with a smaller shard of itself.\"\"\"\n",
    "        for k,v in dsd.items():  \n",
    "            dsd[k] = v.shard(self._cfg.n_shards, 0, contiguous=self._cfg.shard_contiguous)\n",
    "        return dsd\n",
    "        \n",
    "    def _get_dataloaders_dict(self, dsd, collate_fn): \n",
    "        \"\"\"Prepare a dict of dataloaders for train, valid and test\"\"\"\n",
    "        if self._cfg.bucket_by_length and self._cfg.shuffle_train:  raise Exception(\"Can only do one of bucket by length or shuffle\")\n",
    "        d = dict()\n",
    "        for split, ds in dsd.items(): \n",
    "            if self._cfg.shuffle_train:\n",
    "                if split == \"train\": \n",
    "                    sampler = self.get_sampler(ds)\n",
    "                    d[split] =  DataLoader(ds, batch_size=self._cfg.batch_size_train, \n",
    "                                           sampler=sampler, collate_fn=collate_fn, \n",
    "                                           num_workers=self._cfg.n_wkrs, pin_memory=self._cfg.pin_memory) \n",
    "                else: \n",
    "                    d[split] =  DataLoader(ds, batch_size=self._cfg.batch_size_eval, \n",
    "                                           shuffle=False, collate_fn=collate_fn, \n",
    "                                           num_workers=self._cfg.n_wkrs, pin_memory=self._cfg.pin_memory) \n",
    "            if self._cfg.bucket_by_length: \n",
    "                batch_size = self._cfg.batch_size_train if split == \"train\" else self._cfg.batch_size_eval\n",
    "                d[split] =  DataLoader(ds, batch_size=batch_size, shuffle=False, collate_fn=collate_fn, \n",
    "                                       num_workers=self._cfg.n_wkrs, pin_memory=self._cfg.pin_memory) \n",
    "\n",
    "        # Add eval dataloader for train \n",
    "        d['train_eval'] = DataLoader(dsd['train'], batch_size=self._cfg.batch_size_eval, shuffle=False,\n",
    "                                    collate_fn=collate_fn, \n",
    "                                     num_workers=self._cfg.n_wkrs, pin_memory=self._cfg.pin_memory) \n",
    "        return d \n",
    "    \n",
    "    def show_random_elements(self, ds, num_examples=10):\n",
    "        \"\"\"Print some elements in a nice format so you can take a look at them. \n",
    "        Split is one of 'train', 'test', 'valid'. \n",
    "        Use for a dataset `ds` from the `dataset` package.  \"\"\"\n",
    "        assert num_examples <= len(ds), \"Can't pick more elements than there are in the dataset.\"\n",
    "        picks = []\n",
    "        for _ in range(num_examples):\n",
    "            pick = random.randint(0, len(ds)-1)\n",
    "            while pick in picks:\n",
    "                pick = random.randint(0, len(ds)-1)\n",
    "            picks.append(pick)\n",
    "        df = pd.DataFrame(ds[picks])\n",
    "        for column, typ in ds.features.items():\n",
    "            if isinstance(typ, ClassLabel):\n",
    "                df[column] = df[column].transform(lambda i: typ.names[i])\n",
    "        display(HTML(df.to_html()))"
   ]
  },
  {
   "cell_type": "markdown",
   "metadata": {},
   "source": [
    "## Usage "
   ]
  },
  {
   "cell_type": "markdown",
   "metadata": {},
   "source": [
    "### Basics "
   ]
  },
  {
   "cell_type": "markdown",
   "metadata": {},
   "source": [
    "Here we have defined a class `ProcessedDataset` that will load and preprocess a dataset. But before processing the dataset you must load both the config object and all models/tokenizers, so we do this first. "
   ]
  },
  {
   "cell_type": "code",
   "execution_count": null,
   "metadata": {},
   "outputs": [],
   "source": [
    "from travis_attack.models import prepare_models\n",
    "cfg = Config()\n",
    "vm_tokenizer, vm_model, pp_tokenizer, pp_model, sts_model, cfg = prepare_models(cfg)"
   ]
  },
  {
   "cell_type": "markdown",
   "metadata": {},
   "source": [
    "Currently there are two choices for dataset: \n",
    "\n",
    "* `simple`, a dataset of simple sentences with four elements each in the train, test and valid splits\n",
    "* `rotten_tomatoes`, a dataset of movie reviews scraped from the Rotten Tomatoes site. \n",
    "\n",
    "The dataset is specified by the config class. There are two ways to do this. \n",
    "\n",
    "1. Edit the `self.dataset_name` variable in the Config class to either `simple` or `rotten_tomatoes`. An error will be thrown if the name is not one of these two. This is the best way to use when doing runs.   \n",
    "2. Use the `adjust_dataset_...` methods of the config class: e.g. `cfg = cfg.adjust_dataset_for_rotten_tomatoes_dataset() = Config()`. This is easiest for automated testing so we will do this here. "
   ]
  },
  {
   "cell_type": "markdown",
   "metadata": {},
   "source": [
    "Once the config is specified and loaded, create an object of class `ProcessedDataset` by passing the config, models and tokenizers as variables. This will do all preprocessing automatically in creating the object (the preprocessing code is in the `__init__()` function of the class.  "
   ]
  },
  {
   "cell_type": "code",
   "execution_count": null,
   "metadata": {},
   "outputs": [
    {
     "name": "stderr",
     "output_type": "stream",
     "text": [
      "Using custom data configuration default-b253756c445fb811\n",
      "Reusing dataset csv (/data/tproth/.cache/huggingface/datasets/csv/default-b253756c445fb811/0.0.0/bf68a4c4aefa545d0712b2fcbb1b327f905bbe2f6425fbc5e8c25234acb9e14a)\n"
     ]
    },
    {
     "data": {
      "application/vnd.jupyter.widget-view+json": {
       "model_id": "dfc26bc27e75418aa94334b2647c9f04",
       "version_major": 2,
       "version_minor": 0
      },
      "text/plain": [
       "  0%|          | 0/1 [00:00<?, ?it/s]"
      ]
     },
     "metadata": {},
     "output_type": "display_data"
    },
    {
     "name": "stderr",
     "output_type": "stream",
     "text": [
      "Using custom data configuration default-c802946231f72062\n",
      "Reusing dataset csv (/data/tproth/.cache/huggingface/datasets/csv/default-c802946231f72062/0.0.0/bf68a4c4aefa545d0712b2fcbb1b327f905bbe2f6425fbc5e8c25234acb9e14a)\n"
     ]
    },
    {
     "data": {
      "application/vnd.jupyter.widget-view+json": {
       "model_id": "fb40ae271a9f40489ccb12f2b8d4ceb3",
       "version_major": 2,
       "version_minor": 0
      },
      "text/plain": [
       "  0%|          | 0/1 [00:00<?, ?it/s]"
      ]
     },
     "metadata": {},
     "output_type": "display_data"
    },
    {
     "name": "stderr",
     "output_type": "stream",
     "text": [
      "Using custom data configuration default-43a49c5188c42e69\n",
      "Reusing dataset csv (/data/tproth/.cache/huggingface/datasets/csv/default-43a49c5188c42e69/0.0.0/bf68a4c4aefa545d0712b2fcbb1b327f905bbe2f6425fbc5e8c25234acb9e14a)\n"
     ]
    },
    {
     "data": {
      "application/vnd.jupyter.widget-view+json": {
       "model_id": "678e99f123c1494ba5b08534d2791d1e",
       "version_major": 2,
       "version_minor": 0
      },
      "text/plain": [
       "  0%|          | 0/1 [00:00<?, ?it/s]"
      ]
     },
     "metadata": {},
     "output_type": "display_data"
    },
    {
     "data": {
      "application/vnd.jupyter.widget-view+json": {
       "model_id": "f4f9ffabab0f4a14800d4342035b5fb6",
       "version_major": 2,
       "version_minor": 0
      },
      "text/plain": [
       "  0%|          | 0/1 [00:00<?, ?ba/s]"
      ]
     },
     "metadata": {},
     "output_type": "display_data"
    },
    {
     "data": {
      "application/vnd.jupyter.widget-view+json": {
       "model_id": "dda0f13628534f50ae5584def1ab0bea",
       "version_major": 2,
       "version_minor": 0
      },
      "text/plain": [
       "  0%|          | 0/1 [00:00<?, ?ba/s]"
      ]
     },
     "metadata": {},
     "output_type": "display_data"
    },
    {
     "data": {
      "application/vnd.jupyter.widget-view+json": {
       "model_id": "40d86a5c545d4b2e928476baf7dace54",
       "version_major": 2,
       "version_minor": 0
      },
      "text/plain": [
       "  0%|          | 0/1 [00:00<?, ?ba/s]"
      ]
     },
     "metadata": {},
     "output_type": "display_data"
    },
    {
     "data": {
      "application/vnd.jupyter.widget-view+json": {
       "model_id": "11054693ebe54eda8661ff131d00c58c",
       "version_major": 2,
       "version_minor": 0
      },
      "text/plain": [
       "  0%|          | 0/1 [00:00<?, ?ba/s]"
      ]
     },
     "metadata": {},
     "output_type": "display_data"
    },
    {
     "data": {
      "application/vnd.jupyter.widget-view+json": {
       "model_id": "364a75c02ff84cb7a0443f4a7bb87f1b",
       "version_major": 2,
       "version_minor": 0
      },
      "text/plain": [
       "  0%|          | 0/1 [00:00<?, ?ba/s]"
      ]
     },
     "metadata": {},
     "output_type": "display_data"
    },
    {
     "data": {
      "application/vnd.jupyter.widget-view+json": {
       "model_id": "934194a4d9924bd7b68d8f8db8606bf0",
       "version_major": 2,
       "version_minor": 0
      },
      "text/plain": [
       "  0%|          | 0/1 [00:00<?, ?ba/s]"
      ]
     },
     "metadata": {},
     "output_type": "display_data"
    },
    {
     "data": {
      "application/vnd.jupyter.widget-view+json": {
       "model_id": "69bbd6b6fd664708a45ea27f8d748f8d",
       "version_major": 2,
       "version_minor": 0
      },
      "text/plain": [
       "  0%|          | 0/1 [00:00<?, ?ba/s]"
      ]
     },
     "metadata": {},
     "output_type": "display_data"
    },
    {
     "data": {
      "application/vnd.jupyter.widget-view+json": {
       "model_id": "74f8a62fd06642838667f5ed53dde54d",
       "version_major": 2,
       "version_minor": 0
      },
      "text/plain": [
       "  0%|          | 0/1 [00:00<?, ?ba/s]"
      ]
     },
     "metadata": {},
     "output_type": "display_data"
    },
    {
     "data": {
      "application/vnd.jupyter.widget-view+json": {
       "model_id": "054626fd72cd4c0abab80e0a4f5e95af",
       "version_major": 2,
       "version_minor": 0
      },
      "text/plain": [
       "  0%|          | 0/1 [00:00<?, ?ba/s]"
      ]
     },
     "metadata": {},
     "output_type": "display_data"
    },
    {
     "data": {
      "application/vnd.jupyter.widget-view+json": {
       "model_id": "46abf8e735d24574a8a7673c019a284b",
       "version_major": 2,
       "version_minor": 0
      },
      "text/plain": [
       "  0%|          | 0/1 [00:00<?, ?ba/s]"
      ]
     },
     "metadata": {},
     "output_type": "display_data"
    },
    {
     "data": {
      "application/vnd.jupyter.widget-view+json": {
       "model_id": "9a561fc59565436289a00cc7f23cbee3",
       "version_major": 2,
       "version_minor": 0
      },
      "text/plain": [
       "  0%|          | 0/1 [00:00<?, ?ba/s]"
      ]
     },
     "metadata": {},
     "output_type": "display_data"
    },
    {
     "data": {
      "application/vnd.jupyter.widget-view+json": {
       "model_id": "552f1da0d37642e584240420e9cebf5a",
       "version_major": 2,
       "version_minor": 0
      },
      "text/plain": [
       "  0%|          | 0/1 [00:00<?, ?ba/s]"
      ]
     },
     "metadata": {},
     "output_type": "display_data"
    },
    {
     "data": {
      "application/vnd.jupyter.widget-view+json": {
       "model_id": "5ce1194947574fcd850fd72f1428f55d",
       "version_major": 2,
       "version_minor": 0
      },
      "text/plain": [
       "  0%|          | 0/1 [00:00<?, ?ba/s]"
      ]
     },
     "metadata": {},
     "output_type": "display_data"
    },
    {
     "data": {
      "application/vnd.jupyter.widget-view+json": {
       "model_id": "4a848ede3f6b4ee487e57d7aa33c45ee",
       "version_major": 2,
       "version_minor": 0
      },
      "text/plain": [
       "  0%|          | 0/1 [00:00<?, ?ba/s]"
      ]
     },
     "metadata": {},
     "output_type": "display_data"
    },
    {
     "data": {
      "application/vnd.jupyter.widget-view+json": {
       "model_id": "0d4d503291184da0ba3abd9455506b77",
       "version_major": 2,
       "version_minor": 0
      },
      "text/plain": [
       "  0%|          | 0/1 [00:00<?, ?ba/s]"
      ]
     },
     "metadata": {},
     "output_type": "display_data"
    },
    {
     "data": {
      "application/vnd.jupyter.widget-view+json": {
       "model_id": "62e04a4fe8ae4f5aa534dfd47ff3e46d",
       "version_major": 2,
       "version_minor": 0
      },
      "text/plain": [
       "  0%|          | 0/1 [00:00<?, ?ba/s]"
      ]
     },
     "metadata": {},
     "output_type": "display_data"
    },
    {
     "data": {
      "application/vnd.jupyter.widget-view+json": {
       "model_id": "3dc56566b21a4386ae25389e2a6a7d19",
       "version_major": 2,
       "version_minor": 0
      },
      "text/plain": [
       "  0%|          | 0/1 [00:00<?, ?ba/s]"
      ]
     },
     "metadata": {},
     "output_type": "display_data"
    },
    {
     "data": {
      "application/vnd.jupyter.widget-view+json": {
       "model_id": "fdf8e22ec0d7475ba400727f6bb0b23e",
       "version_major": 2,
       "version_minor": 0
      },
      "text/plain": [
       "  0%|          | 0/1 [00:00<?, ?ba/s]"
      ]
     },
     "metadata": {},
     "output_type": "display_data"
    }
   ],
   "source": [
    "cfg_simple = cfg.adjust_config_for_simple_dataset()\n",
    "ds = ProcessedDataset(cfg_simple,  vm_tokenizer, vm_model, pp_tokenizer, sts_model)"
   ]
  },
  {
   "cell_type": "markdown",
   "metadata": {},
   "source": [
    "If you want to use the small dataset adjust the config before creating the `ProcessedDataset` object. "
   ]
  },
  {
   "cell_type": "code",
   "execution_count": null,
   "metadata": {},
   "outputs": [
    {
     "name": "stderr",
     "output_type": "stream",
     "text": [
      "Using custom data configuration default\n",
      "Reusing dataset rotten_tomatoes_movie_review (/data/tproth/.cache/huggingface/datasets/rotten_tomatoes_movie_review/default/1.0.0/e06abb624abab47e1a64608fdfe65a913f5a68c66118408032644a3285208fb5)\n"
     ]
    },
    {
     "data": {
      "application/vnd.jupyter.widget-view+json": {
       "model_id": "e59a1a4618e24ae0b959f891675b5441",
       "version_major": 2,
       "version_minor": 0
      },
      "text/plain": [
       "  0%|          | 0/3 [00:00<?, ?it/s]"
      ]
     },
     "metadata": {},
     "output_type": "display_data"
    },
    {
     "data": {
      "application/vnd.jupyter.widget-view+json": {
       "model_id": "e3820ce9e26946a6b51cd191bee9527d",
       "version_major": 2,
       "version_minor": 0
      },
      "text/plain": [
       "  0%|          | 0/9 [00:00<?, ?ba/s]"
      ]
     },
     "metadata": {},
     "output_type": "display_data"
    },
    {
     "data": {
      "application/vnd.jupyter.widget-view+json": {
       "model_id": "4a360989d6fe44ab82899a1fc616634e",
       "version_major": 2,
       "version_minor": 0
      },
      "text/plain": [
       "  0%|          | 0/2 [00:00<?, ?ba/s]"
      ]
     },
     "metadata": {},
     "output_type": "display_data"
    },
    {
     "data": {
      "application/vnd.jupyter.widget-view+json": {
       "model_id": "df8979a2133d464a8f06a11a94b66d39",
       "version_major": 2,
       "version_minor": 0
      },
      "text/plain": [
       "  0%|          | 0/2 [00:00<?, ?ba/s]"
      ]
     },
     "metadata": {},
     "output_type": "display_data"
    },
    {
     "data": {
      "application/vnd.jupyter.widget-view+json": {
       "model_id": "864a1a1eb1c44caa99a3dbf0f81e2935",
       "version_major": 2,
       "version_minor": 0
      },
      "text/plain": [
       "  0%|          | 0/1 [00:00<?, ?ba/s]"
      ]
     },
     "metadata": {},
     "output_type": "display_data"
    },
    {
     "data": {
      "application/vnd.jupyter.widget-view+json": {
       "model_id": "ebe1ab18d8f1416788719afc8cf8cb57",
       "version_major": 2,
       "version_minor": 0
      },
      "text/plain": [
       "  0%|          | 0/1 [00:00<?, ?ba/s]"
      ]
     },
     "metadata": {},
     "output_type": "display_data"
    },
    {
     "data": {
      "application/vnd.jupyter.widget-view+json": {
       "model_id": "1a780e7370dc436dac1213b339050af6",
       "version_major": 2,
       "version_minor": 0
      },
      "text/plain": [
       "  0%|          | 0/1 [00:00<?, ?ba/s]"
      ]
     },
     "metadata": {},
     "output_type": "display_data"
    },
    {
     "data": {
      "application/vnd.jupyter.widget-view+json": {
       "model_id": "cfd6979425474ccebd3bc3fdf226380f",
       "version_major": 2,
       "version_minor": 0
      },
      "text/plain": [
       "  0%|          | 0/1 [00:00<?, ?ba/s]"
      ]
     },
     "metadata": {},
     "output_type": "display_data"
    },
    {
     "data": {
      "application/vnd.jupyter.widget-view+json": {
       "model_id": "bfc97fb9a1a444f5b17d518257651c70",
       "version_major": 2,
       "version_minor": 0
      },
      "text/plain": [
       "  0%|          | 0/1 [00:00<?, ?ba/s]"
      ]
     },
     "metadata": {},
     "output_type": "display_data"
    },
    {
     "data": {
      "application/vnd.jupyter.widget-view+json": {
       "model_id": "ffe3694826f040b684763fcd1d97ae2d",
       "version_major": 2,
       "version_minor": 0
      },
      "text/plain": [
       "  0%|          | 0/1 [00:00<?, ?ba/s]"
      ]
     },
     "metadata": {},
     "output_type": "display_data"
    },
    {
     "data": {
      "application/vnd.jupyter.widget-view+json": {
       "model_id": "5fb46cabc5d74f03902194c0ad1bff96",
       "version_major": 2,
       "version_minor": 0
      },
      "text/plain": [
       "  0%|          | 0/1 [00:00<?, ?ba/s]"
      ]
     },
     "metadata": {},
     "output_type": "display_data"
    },
    {
     "data": {
      "application/vnd.jupyter.widget-view+json": {
       "model_id": "4ce853f4cc0f4eef957884886f1e1a54",
       "version_major": 2,
       "version_minor": 0
      },
      "text/plain": [
       "  0%|          | 0/1 [00:00<?, ?ba/s]"
      ]
     },
     "metadata": {},
     "output_type": "display_data"
    },
    {
     "data": {
      "application/vnd.jupyter.widget-view+json": {
       "model_id": "1a4066fa6f0e4f08b5a0eee453f6bba5",
       "version_major": 2,
       "version_minor": 0
      },
      "text/plain": [
       "  0%|          | 0/1 [00:00<?, ?ba/s]"
      ]
     },
     "metadata": {},
     "output_type": "display_data"
    },
    {
     "data": {
      "application/vnd.jupyter.widget-view+json": {
       "model_id": "7a79019b3149461aa316f102a3a33098",
       "version_major": 2,
       "version_minor": 0
      },
      "text/plain": [
       "  0%|          | 0/1 [00:00<?, ?ba/s]"
      ]
     },
     "metadata": {},
     "output_type": "display_data"
    },
    {
     "data": {
      "application/vnd.jupyter.widget-view+json": {
       "model_id": "6c7f73f13eae44268dbead3e52ee3cfe",
       "version_major": 2,
       "version_minor": 0
      },
      "text/plain": [
       "  0%|          | 0/1 [00:00<?, ?ba/s]"
      ]
     },
     "metadata": {},
     "output_type": "display_data"
    },
    {
     "data": {
      "application/vnd.jupyter.widget-view+json": {
       "model_id": "101d55aabb174434832cf41beb401eca",
       "version_major": 2,
       "version_minor": 0
      },
      "text/plain": [
       "  0%|          | 0/1 [00:00<?, ?ba/s]"
      ]
     },
     "metadata": {},
     "output_type": "display_data"
    },
    {
     "data": {
      "application/vnd.jupyter.widget-view+json": {
       "model_id": "ceed051eef0c4e29bdc3b244705ba2af",
       "version_major": 2,
       "version_minor": 0
      },
      "text/plain": [
       "  0%|          | 0/1 [00:00<?, ?ba/s]"
      ]
     },
     "metadata": {},
     "output_type": "display_data"
    },
    {
     "data": {
      "application/vnd.jupyter.widget-view+json": {
       "model_id": "31bb0f2f66e4429eae8d56dd4acfcb77",
       "version_major": 2,
       "version_minor": 0
      },
      "text/plain": [
       "  0%|          | 0/1 [00:00<?, ?ba/s]"
      ]
     },
     "metadata": {},
     "output_type": "display_data"
    },
    {
     "data": {
      "application/vnd.jupyter.widget-view+json": {
       "model_id": "717d9630580c47ab8f553f1b0cc1dd44",
       "version_major": 2,
       "version_minor": 0
      },
      "text/plain": [
       "  0%|          | 0/1 [00:00<?, ?ba/s]"
      ]
     },
     "metadata": {},
     "output_type": "display_data"
    }
   ],
   "source": [
    "cfg_rt_small_ds = cfg.adjust_config_for_rotten_tomatoes_dataset().small_ds()\n",
    "ds = ProcessedDataset(cfg_rt_small_ds,  vm_tokenizer, vm_model, pp_tokenizer, sts_model)"
   ]
  },
  {
   "cell_type": "markdown",
   "metadata": {},
   "source": [
    "### Accessing datasets"
   ]
  },
  {
   "cell_type": "markdown",
   "metadata": {},
   "source": [
    "You can access raw data with `ds.dsd_raw` and processed data with the `ds.dsd_tkn`. (The dsd here stands for \"DatasetDict\")"
   ]
  },
  {
   "cell_type": "code",
   "execution_count": null,
   "metadata": {},
   "outputs": [
    {
     "data": {
      "text/plain": [
       "DatasetDict({\n",
       "    train: Dataset({\n",
       "        features: ['text', 'label'],\n",
       "        num_rows: 8530\n",
       "    })\n",
       "    test: Dataset({\n",
       "        features: ['text', 'label'],\n",
       "        num_rows: 1066\n",
       "    })\n",
       "    valid: Dataset({\n",
       "        features: ['text', 'label'],\n",
       "        num_rows: 1066\n",
       "    })\n",
       "})"
      ]
     },
     "execution_count": null,
     "metadata": {},
     "output_type": "execute_result"
    }
   ],
   "source": [
    "ds.dsd_raw"
   ]
  },
  {
   "cell_type": "code",
   "execution_count": null,
   "metadata": {},
   "outputs": [
    {
     "data": {
      "text/plain": [
       "DatasetDict({\n",
       "    train: Dataset({\n",
       "        features: ['attention_mask', 'idx', 'input_ids', 'label', 'n_tokens', 'orig_sts_embeddings', 'orig_truelabel_probs', 'orig_vm_predclass', 'text'],\n",
       "        num_rows: 130\n",
       "    })\n",
       "    test: Dataset({\n",
       "        features: ['attention_mask', 'idx', 'input_ids', 'label', 'n_tokens', 'orig_sts_embeddings', 'orig_truelabel_probs', 'orig_vm_predclass', 'text'],\n",
       "        num_rows: 15\n",
       "    })\n",
       "    valid: Dataset({\n",
       "        features: ['attention_mask', 'idx', 'input_ids', 'label', 'n_tokens', 'orig_sts_embeddings', 'orig_truelabel_probs', 'orig_vm_predclass', 'text'],\n",
       "        num_rows: 16\n",
       "    })\n",
       "})"
      ]
     },
     "execution_count": null,
     "metadata": {},
     "output_type": "execute_result"
    }
   ],
   "source": [
    "ds.dsd_tkn"
   ]
  },
  {
   "cell_type": "markdown",
   "metadata": {},
   "source": [
    "You can access elements by indexing: "
   ]
  },
  {
   "cell_type": "code",
   "execution_count": null,
   "metadata": {},
   "outputs": [
    {
     "data": {
      "text/plain": [
       "{'text': ['compassionately explores the seemingly irreconcilable situation between conservative christian parents and their estranged gay and lesbian children .',\n",
       "  'the soundtrack alone is worth the price of admission .'],\n",
       " 'label': [1, 1]}"
      ]
     },
     "execution_count": null,
     "metadata": {},
     "output_type": "execute_result"
    }
   ],
   "source": [
    "ds.dsd_raw['valid'][0:2]"
   ]
  },
  {
   "cell_type": "code",
   "execution_count": null,
   "metadata": {},
   "outputs": [
    {
     "data": {
      "text/plain": [
       "{'attention_mask': [[1,\n",
       "   1,\n",
       "   1,\n",
       "   1,\n",
       "   1,\n",
       "   1,\n",
       "   1,\n",
       "   1,\n",
       "   1,\n",
       "   1,\n",
       "   1,\n",
       "   1,\n",
       "   1,\n",
       "   1,\n",
       "   1,\n",
       "   1,\n",
       "   1,\n",
       "   1,\n",
       "   1,\n",
       "   1,\n",
       "   1,\n",
       "   1,\n",
       "   1,\n",
       "   1,\n",
       "   1,\n",
       "   1,\n",
       "   1,\n",
       "   1,\n",
       "   1,\n",
       "   1,\n",
       "   1,\n",
       "   1,\n",
       "   1,\n",
       "   1,\n",
       "   1,\n",
       "   1,\n",
       "   1,\n",
       "   1,\n",
       "   1,\n",
       "   1,\n",
       "   1,\n",
       "   1,\n",
       "   1,\n",
       "   1,\n",
       "   1,\n",
       "   1,\n",
       "   1,\n",
       "   1,\n",
       "   1,\n",
       "   1,\n",
       "   1],\n",
       "  [1,\n",
       "   1,\n",
       "   1,\n",
       "   1,\n",
       "   1,\n",
       "   1,\n",
       "   1,\n",
       "   1,\n",
       "   1,\n",
       "   1,\n",
       "   1,\n",
       "   1,\n",
       "   1,\n",
       "   1,\n",
       "   1,\n",
       "   1,\n",
       "   1,\n",
       "   1,\n",
       "   1,\n",
       "   1,\n",
       "   1,\n",
       "   1,\n",
       "   1,\n",
       "   1,\n",
       "   1,\n",
       "   1,\n",
       "   1,\n",
       "   1,\n",
       "   1,\n",
       "   1,\n",
       "   1,\n",
       "   1,\n",
       "   1,\n",
       "   1,\n",
       "   1,\n",
       "   1,\n",
       "   1,\n",
       "   1,\n",
       "   1,\n",
       "   1,\n",
       "   1,\n",
       "   1]],\n",
       " 'idx': [60, 960],\n",
       " 'input_ids': [[0,\n",
       "   12979,\n",
       "   4104,\n",
       "   18701,\n",
       "   1116,\n",
       "   438,\n",
       "   5777,\n",
       "   18,\n",
       "   9869,\n",
       "   8,\n",
       "   2770,\n",
       "   2156,\n",
       "   31,\n",
       "   69,\n",
       "   308,\n",
       "   26735,\n",
       "   2156,\n",
       "   13855,\n",
       "   7,\n",
       "   5,\n",
       "   471,\n",
       "   9,\n",
       "   5,\n",
       "   1380,\n",
       "   9,\n",
       "   390,\n",
       "   18,\n",
       "   3541,\n",
       "   14,\n",
       "   3616,\n",
       "   7,\n",
       "   1877,\n",
       "   5,\n",
       "   42639,\n",
       "   9,\n",
       "   32693,\n",
       "   30802,\n",
       "   12,\n",
       "   506,\n",
       "   36562,\n",
       "   30,\n",
       "   8959,\n",
       "   2182,\n",
       "   40629,\n",
       "   918,\n",
       "   19,\n",
       "   10,\n",
       "   33937,\n",
       "   2496,\n",
       "   479,\n",
       "   2],\n",
       "  [0,\n",
       "   627,\n",
       "   822,\n",
       "   18,\n",
       "   240,\n",
       "   12445,\n",
       "   31861,\n",
       "   22845,\n",
       "   1239,\n",
       "   63,\n",
       "   109,\n",
       "   242,\n",
       "   12,\n",
       "   17178,\n",
       "   3977,\n",
       "   1906,\n",
       "   658,\n",
       "   66,\n",
       "   9,\n",
       "   1198,\n",
       "   12,\n",
       "   466,\n",
       "   73,\n",
       "   1225,\n",
       "   92,\n",
       "   1423,\n",
       "   9657,\n",
       "   8,\n",
       "   2500,\n",
       "   10,\n",
       "   2116,\n",
       "   12,\n",
       "   12659,\n",
       "   921,\n",
       "   1805,\n",
       "   9,\n",
       "   5,\n",
       "   9486,\n",
       "   41675,\n",
       "   761,\n",
       "   479,\n",
       "   2]],\n",
       " 'label': [1, 0],\n",
       " 'n_tokens': [51, 42],\n",
       " 'orig_sts_embeddings': [[-0.035452600568532944,\n",
       "   -0.13564260303974152,\n",
       "   -0.14826847612857819,\n",
       "   0.2662188708782196,\n",
       "   0.06366079300642014,\n",
       "   0.041258737444877625,\n",
       "   0.30590513348579407,\n",
       "   -0.10498373210430145,\n",
       "   -0.08220623433589935,\n",
       "   -0.029633959755301476,\n",
       "   0.06651423126459122,\n",
       "   0.1299939602613449,\n",
       "   -0.1945091038942337,\n",
       "   -0.09096262603998184,\n",
       "   -0.08678735047578812,\n",
       "   -0.007265331223607063,\n",
       "   0.4325464069843292,\n",
       "   0.27416107058525085,\n",
       "   0.15781256556510925,\n",
       "   0.5005889534950256,\n",
       "   -0.22918330132961273,\n",
       "   0.011485980823636055,\n",
       "   0.3205898404121399,\n",
       "   0.3560478389263153,\n",
       "   0.08322540670633316,\n",
       "   -0.4210033714771271,\n",
       "   0.15042510628700256,\n",
       "   -0.16101373732089996,\n",
       "   -0.2824612855911255,\n",
       "   -0.4281648099422455,\n",
       "   -0.22106225788593292,\n",
       "   0.2828320562839508,\n",
       "   -0.10114668309688568,\n",
       "   0.07884430140256882,\n",
       "   0.018434304744005203,\n",
       "   0.09508641064167023,\n",
       "   0.23577062785625458,\n",
       "   0.16705740988254547,\n",
       "   0.3459931015968323,\n",
       "   -0.4607778787612915,\n",
       "   -0.0687367245554924,\n",
       "   -0.15662889182567596,\n",
       "   -0.008858207613229752,\n",
       "   -0.07430347055196762,\n",
       "   -0.2095889449119568,\n",
       "   -0.12549099326133728,\n",
       "   0.08175195753574371,\n",
       "   0.4132963716983795,\n",
       "   0.18321049213409424,\n",
       "   -0.2590644061565399,\n",
       "   -0.1414955109357834,\n",
       "   -0.23928838968276978,\n",
       "   -0.26334723830223083,\n",
       "   -0.09279146790504456,\n",
       "   -0.16543468832969666,\n",
       "   -0.2681328058242798,\n",
       "   0.35268694162368774,\n",
       "   -0.001897403271868825,\n",
       "   -0.09803968667984009,\n",
       "   0.004184055607765913,\n",
       "   -0.2558741271495819,\n",
       "   0.3174647092819214,\n",
       "   -0.12886515259742737,\n",
       "   0.017932388931512833,\n",
       "   -0.05062665417790413,\n",
       "   -0.46169257164001465,\n",
       "   0.23727336525917053,\n",
       "   -0.04055221751332283,\n",
       "   -0.04827681928873062,\n",
       "   -0.13195210695266724,\n",
       "   0.06598299741744995,\n",
       "   0.10972275584936142,\n",
       "   0.21831290423870087,\n",
       "   0.10485749691724777,\n",
       "   0.21435120701789856,\n",
       "   0.0511179119348526,\n",
       "   0.17509609460830688,\n",
       "   -0.145342156291008,\n",
       "   -0.07691290229558945,\n",
       "   -0.05799674242734909,\n",
       "   0.03753451257944107,\n",
       "   -0.2034284919500351,\n",
       "   0.4679179787635803,\n",
       "   0.09755263477563858,\n",
       "   -0.02226966805756092,\n",
       "   -0.11773853749036789,\n",
       "   0.08996877819299698,\n",
       "   0.04547155275940895,\n",
       "   0.2657443583011627,\n",
       "   0.22855955362319946,\n",
       "   -0.5315561890602112,\n",
       "   0.11307649314403534,\n",
       "   0.29479312896728516,\n",
       "   0.0012379370164126158,\n",
       "   0.049809299409389496,\n",
       "   -0.00956721417605877,\n",
       "   -0.015498658642172813,\n",
       "   -0.10422828048467636,\n",
       "   -0.03309699892997742,\n",
       "   0.045277100056409836,\n",
       "   -0.2276381403207779,\n",
       "   0.13441753387451172,\n",
       "   0.22981220483779907,\n",
       "   -0.11161413788795471,\n",
       "   0.18309485912322998,\n",
       "   -0.27916890382766724,\n",
       "   0.4430604875087738,\n",
       "   -0.23407290875911713,\n",
       "   -0.26125818490982056,\n",
       "   -0.05790778249502182,\n",
       "   -0.3306516706943512,\n",
       "   -0.03687034919857979,\n",
       "   -0.041986241936683655,\n",
       "   -0.13806241750717163,\n",
       "   0.06727315485477448,\n",
       "   0.18283814191818237,\n",
       "   -0.020164046436548233,\n",
       "   0.3178975582122803,\n",
       "   0.03969334065914154,\n",
       "   -0.2337101697921753,\n",
       "   0.15792232751846313,\n",
       "   0.22001217305660248,\n",
       "   0.04600187763571739,\n",
       "   0.11436451226472855,\n",
       "   0.1404329389333725,\n",
       "   -0.21684545278549194,\n",
       "   -0.09802812337875366,\n",
       "   0.05185912549495697,\n",
       "   0.14453555643558502,\n",
       "   0.20612387359142303,\n",
       "   -0.04492481052875519,\n",
       "   0.11975274235010147,\n",
       "   0.15140148997306824,\n",
       "   0.3466002643108368,\n",
       "   -0.24729502201080322,\n",
       "   -0.03470633551478386,\n",
       "   0.0302731990814209,\n",
       "   0.05341700464487076,\n",
       "   0.0016136833000928164,\n",
       "   -0.319091796875,\n",
       "   0.026169301941990852,\n",
       "   -0.14843465387821198,\n",
       "   0.10837878286838531,\n",
       "   0.031632911413908005,\n",
       "   -0.03210330754518509,\n",
       "   -0.14470510184764862,\n",
       "   0.055920615792274475,\n",
       "   0.3640459179878235,\n",
       "   -0.2192087322473526,\n",
       "   0.5857056975364685,\n",
       "   -0.03178993985056877,\n",
       "   -0.06794741004705429,\n",
       "   -0.12787574529647827,\n",
       "   -0.05558299645781517,\n",
       "   -0.020376715809106827,\n",
       "   0.2529458999633789,\n",
       "   0.14895446598529816,\n",
       "   0.23470860719680786,\n",
       "   -0.10855302214622498,\n",
       "   -0.06658719480037689,\n",
       "   -0.037179794162511826,\n",
       "   0.16035278141498566,\n",
       "   -0.09690187871456146,\n",
       "   -0.11983900517225266,\n",
       "   -0.22793681919574738,\n",
       "   -0.1095421239733696,\n",
       "   0.2276058942079544,\n",
       "   0.2894386053085327,\n",
       "   -0.025067362934350967,\n",
       "   -0.04803164303302765,\n",
       "   0.1590307503938675,\n",
       "   -0.028042078018188477,\n",
       "   -0.2901986241340637,\n",
       "   0.10867677628993988,\n",
       "   -0.08573799580335617,\n",
       "   0.0025916278827935457,\n",
       "   -0.14137563109397888,\n",
       "   0.3469315767288208,\n",
       "   0.022760910913348198,\n",
       "   -0.03657681867480278,\n",
       "   0.14271412789821625,\n",
       "   0.17606085538864136,\n",
       "   -0.005239645019173622,\n",
       "   0.028716322034597397,\n",
       "   -0.11979407072067261,\n",
       "   -0.236829474568367,\n",
       "   0.22456087172031403,\n",
       "   0.024458806961774826,\n",
       "   -0.011358651332557201,\n",
       "   0.04678485170006752,\n",
       "   -0.19517219066619873,\n",
       "   -0.06841711699962616,\n",
       "   0.010018927976489067,\n",
       "   -0.02872954122722149,\n",
       "   0.2509438991546631,\n",
       "   0.08644162118434906,\n",
       "   0.04818614199757576,\n",
       "   0.2975391447544098,\n",
       "   -0.2379610389471054,\n",
       "   -0.031015288084745407,\n",
       "   -0.2528151869773865,\n",
       "   -0.21328824758529663,\n",
       "   -0.02759738080203533,\n",
       "   -0.23780852556228638,\n",
       "   0.31338009238243103,\n",
       "   -0.32250523567199707,\n",
       "   -0.027623837813735008,\n",
       "   -0.018396155908703804,\n",
       "   0.3411947190761566,\n",
       "   0.012433674186468124,\n",
       "   -0.0786285549402237,\n",
       "   -0.24630609154701233,\n",
       "   -0.2089306116104126,\n",
       "   -0.01798422820866108,\n",
       "   -0.07637768238782883,\n",
       "   0.07611828297376633,\n",
       "   0.12031542509794235,\n",
       "   -0.0715000107884407,\n",
       "   0.16978348791599274,\n",
       "   -0.23957553505897522,\n",
       "   0.08913587778806686,\n",
       "   -0.20221300423145294,\n",
       "   -0.33846840262413025,\n",
       "   -0.11371151357889175,\n",
       "   0.03385727107524872,\n",
       "   -0.25127631425857544,\n",
       "   -0.077598936855793,\n",
       "   -0.0460265688598156,\n",
       "   -0.46058085560798645,\n",
       "   -0.015822721645236015,\n",
       "   -0.33376172184944153,\n",
       "   -0.16104507446289062,\n",
       "   -0.06506156176328659,\n",
       "   -0.0560610294342041,\n",
       "   -0.19214178621768951,\n",
       "   -0.4722352623939514,\n",
       "   0.006361414212733507,\n",
       "   0.3409339487552643,\n",
       "   -0.1748882681131363,\n",
       "   -0.1606454849243164,\n",
       "   0.07299826294183731,\n",
       "   -0.2674446105957031,\n",
       "   0.07501792907714844,\n",
       "   0.23199462890625,\n",
       "   -0.05157209187746048,\n",
       "   0.04578346386551857,\n",
       "   0.06279070675373077,\n",
       "   0.07992308586835861,\n",
       "   0.15189507603645325,\n",
       "   0.295588880777359,\n",
       "   0.17373968660831451,\n",
       "   0.04767429456114769,\n",
       "   -0.051490891724824905,\n",
       "   0.06875527650117874,\n",
       "   -0.017434384673833847,\n",
       "   -0.04568933695554733,\n",
       "   -0.012407978065311909,\n",
       "   -0.04719478264451027,\n",
       "   0.22393518686294556,\n",
       "   0.3139801025390625,\n",
       "   -0.22561517357826233,\n",
       "   -0.0013117768103256822,\n",
       "   -0.3103269934654236,\n",
       "   -0.016929248347878456,\n",
       "   -0.21945373713970184,\n",
       "   -0.3130059540271759,\n",
       "   -0.2628694176673889,\n",
       "   0.08911554515361786,\n",
       "   0.11525005847215652,\n",
       "   -0.012713750824332237,\n",
       "   -0.026647163555026054,\n",
       "   -0.09545309096574783,\n",
       "   0.21898439526557922,\n",
       "   -0.04864431172609329,\n",
       "   -0.1303108185529709,\n",
       "   -0.1842149943113327,\n",
       "   0.07459535449743271,\n",
       "   -0.24751561880111694,\n",
       "   -0.07740898430347443,\n",
       "   -0.3127291798591614,\n",
       "   0.09571681171655655,\n",
       "   -0.007854585535824299,\n",
       "   0.37313342094421387,\n",
       "   0.20996129512786865,\n",
       "   -0.02744179591536522,\n",
       "   0.167498379945755,\n",
       "   0.020914185792207718,\n",
       "   -0.1409372240304947,\n",
       "   -0.07947328686714172,\n",
       "   -0.17651130259037018,\n",
       "   -0.17107200622558594,\n",
       "   0.23010343313217163,\n",
       "   -0.40056082606315613,\n",
       "   -0.045955389738082886,\n",
       "   0.051780205219984055,\n",
       "   0.09383579343557358,\n",
       "   -0.11384014040231705,\n",
       "   0.264272004365921,\n",
       "   -0.11708434671163559,\n",
       "   0.268379271030426,\n",
       "   0.26366615295410156,\n",
       "   -0.0067906612530350685,\n",
       "   -0.03653591498732567,\n",
       "   -0.016503140330314636,\n",
       "   0.26175257563591003,\n",
       "   -0.1447850614786148,\n",
       "   0.02376132272183895,\n",
       "   -0.23548783361911774,\n",
       "   -0.002070182468742132,\n",
       "   -0.07487344741821289,\n",
       "   -0.16005443036556244,\n",
       "   -0.22462040185928345,\n",
       "   0.06688866764307022,\n",
       "   -0.10350081324577332,\n",
       "   0.44427698850631714,\n",
       "   -0.04370512068271637,\n",
       "   0.38396841287612915,\n",
       "   -0.005657162517309189,\n",
       "   0.24379625916481018,\n",
       "   -0.17959672212600708,\n",
       "   -0.17595472931861877,\n",
       "   -0.17422139644622803,\n",
       "   -0.047675784677267075,\n",
       "   -0.17011554539203644,\n",
       "   0.029663382098078728,\n",
       "   0.21733058989048004,\n",
       "   -0.3206060230731964,\n",
       "   -0.041359949856996536,\n",
       "   0.0559656135737896,\n",
       "   0.18232522904872894,\n",
       "   -0.03045387752354145,\n",
       "   -0.05955476686358452,\n",
       "   0.19751732051372528,\n",
       "   0.1699255257844925,\n",
       "   0.17674078047275543,\n",
       "   0.2694605588912964,\n",
       "   -0.12956835329532623,\n",
       "   -0.031847819685935974,\n",
       "   -0.07093987613916397,\n",
       "   -0.04367838054895401,\n",
       "   0.24414566159248352,\n",
       "   -0.032035548239946365,\n",
       "   -0.06959792971611023,\n",
       "   -0.3719328045845032,\n",
       "   0.06475066393613815,\n",
       "   0.11017236113548279,\n",
       "   -0.142525315284729,\n",
       "   -0.01720806211233139,\n",
       "   0.00548524921759963,\n",
       "   -0.03341903164982796,\n",
       "   0.2809034287929535,\n",
       "   0.15490661561489105,\n",
       "   0.01978158764541149,\n",
       "   -0.2327093482017517,\n",
       "   0.03594719246029854,\n",
       "   0.08054174482822418,\n",
       "   -0.21020236611366272,\n",
       "   0.05137776583433151,\n",
       "   0.015649525448679924,\n",
       "   0.1053241565823555,\n",
       "   -0.2458527535200119,\n",
       "   0.010694705881178379,\n",
       "   -0.011513080447912216,\n",
       "   0.08770302683115005,\n",
       "   0.0612945556640625,\n",
       "   0.1347019374370575,\n",
       "   0.1743203103542328,\n",
       "   -0.04203492030501366,\n",
       "   -0.03389986231923103,\n",
       "   0.001672761864028871,\n",
       "   0.4360411465167999,\n",
       "   0.1429864764213562,\n",
       "   -0.0009335394715890288,\n",
       "   0.10370095819234848,\n",
       "   -0.06481797993183136,\n",
       "   0.014425023458898067,\n",
       "   -0.1085590273141861,\n",
       "   -0.030041813850402832,\n",
       "   -0.21864637732505798,\n",
       "   0.2569413483142853,\n",
       "   0.07658345997333527,\n",
       "   -0.04867466166615486,\n",
       "   0.11098486185073853,\n",
       "   0.06454223394393921],\n",
       "  [0.2417745590209961,\n",
       "   -0.20814357697963715,\n",
       "   -0.13526739180088043,\n",
       "   0.16777975857257843,\n",
       "   0.4036977291107178,\n",
       "   0.2127966284751892,\n",
       "   -0.096892811357975,\n",
       "   -0.2453441023826599,\n",
       "   -0.31457507610321045,\n",
       "   -0.1671421080827713,\n",
       "   0.22872252762317657,\n",
       "   0.2876869738101959,\n",
       "   0.0017334260046482086,\n",
       "   0.2809440493583679,\n",
       "   0.11956387758255005,\n",
       "   0.07825220376253128,\n",
       "   0.02262703888118267,\n",
       "   -0.039142824709415436,\n",
       "   0.1077255830168724,\n",
       "   0.13852255046367645,\n",
       "   -0.03142930567264557,\n",
       "   -0.14683140814304352,\n",
       "   0.2984640896320343,\n",
       "   0.06719323247671127,\n",
       "   0.259356290102005,\n",
       "   0.12058981508016586,\n",
       "   0.1359104961156845,\n",
       "   -0.032517824321985245,\n",
       "   -0.46078553795814514,\n",
       "   -0.3235926926136017,\n",
       "   -0.04414786025881767,\n",
       "   -0.15377579629421234,\n",
       "   -0.12206227332353592,\n",
       "   0.27464330196380615,\n",
       "   0.08494573831558228,\n",
       "   0.1415337473154068,\n",
       "   0.17891211807727814,\n",
       "   0.1680409163236618,\n",
       "   0.4406125545501709,\n",
       "   -0.14689281582832336,\n",
       "   -0.19252647459506989,\n",
       "   0.37978264689445496,\n",
       "   0.22658555209636688,\n",
       "   0.1498759537935257,\n",
       "   -0.12764202058315277,\n",
       "   0.07653962820768356,\n",
       "   -0.27512070536613464,\n",
       "   -0.08266136795282364,\n",
       "   0.08503347635269165,\n",
       "   -0.1569625735282898,\n",
       "   -0.007587796542793512,\n",
       "   0.01329604908823967,\n",
       "   -0.18594415485858917,\n",
       "   -0.2709343135356903,\n",
       "   -0.026064418256282806,\n",
       "   0.1665901392698288,\n",
       "   0.041135940700769424,\n",
       "   0.08107996731996536,\n",
       "   -0.019982635974884033,\n",
       "   0.027477411553263664,\n",
       "   -0.1495378464460373,\n",
       "   -0.3330165445804596,\n",
       "   -0.041994858533144,\n",
       "   0.15302430093288422,\n",
       "   0.1720142364501953,\n",
       "   -0.0475284568965435,\n",
       "   -0.17215628921985626,\n",
       "   -0.19383685290813446,\n",
       "   -0.1406276971101761,\n",
       "   -0.07545804232358932,\n",
       "   -0.14938713610172272,\n",
       "   0.2443821281194687,\n",
       "   0.006980167236179113,\n",
       "   -0.22489845752716064,\n",
       "   0.12840814888477325,\n",
       "   0.039605360478162766,\n",
       "   0.08637189120054245,\n",
       "   0.21548020839691162,\n",
       "   -0.31602904200553894,\n",
       "   -0.044235050678253174,\n",
       "   0.40986382961273193,\n",
       "   0.031946659088134766,\n",
       "   0.15868012607097626,\n",
       "   0.3974513113498688,\n",
       "   -0.10443254560232162,\n",
       "   0.1943233758211136,\n",
       "   0.1271785944700241,\n",
       "   0.11466222256422043,\n",
       "   -0.13344398140907288,\n",
       "   -0.08408787846565247,\n",
       "   0.01881047524511814,\n",
       "   -0.4295613467693329,\n",
       "   0.20380912721157074,\n",
       "   0.3867919147014618,\n",
       "   0.15845142304897308,\n",
       "   -0.18455924093723297,\n",
       "   0.2280002236366272,\n",
       "   0.1835627555847168,\n",
       "   0.19111794233322144,\n",
       "   -0.09477522224187851,\n",
       "   0.3023274838924408,\n",
       "   -0.3973570764064789,\n",
       "   0.018843311816453934,\n",
       "   0.1719634085893631,\n",
       "   0.24844245612621307,\n",
       "   -0.3785161077976227,\n",
       "   0.446765273809433,\n",
       "   -0.12259215116500854,\n",
       "   -0.018779108300805092,\n",
       "   -0.19549262523651123,\n",
       "   0.13658224046230316,\n",
       "   0.24071161448955536,\n",
       "   0.06408315151929855,\n",
       "   -0.003685559844598174,\n",
       "   0.17449253797531128,\n",
       "   -0.30901724100112915,\n",
       "   -0.2598080337047577,\n",
       "   0.2769094705581665,\n",
       "   -0.22976244986057281,\n",
       "   -0.014598190784454346,\n",
       "   0.2280239313840866,\n",
       "   -0.11582076549530029,\n",
       "   -0.0843818262219429,\n",
       "   0.06634078919887543,\n",
       "   -0.4354170858860016,\n",
       "   -0.13228031992912292,\n",
       "   0.21793048083782196,\n",
       "   -0.010577422566711903,\n",
       "   0.16091829538345337,\n",
       "   -0.0028227672446519136,\n",
       "   -0.28949853777885437,\n",
       "   0.00036346912384033203,\n",
       "   0.14776933193206787,\n",
       "   -0.04778679087758064,\n",
       "   -0.03770752623677254,\n",
       "   0.2084997147321701,\n",
       "   -0.2591932713985443,\n",
       "   0.19158191978931427,\n",
       "   -0.18650560081005096,\n",
       "   -0.1679406762123108,\n",
       "   -0.14483366906642914,\n",
       "   0.08260080963373184,\n",
       "   -0.10624752193689346,\n",
       "   0.04091499745845795,\n",
       "   -0.026594186201691628,\n",
       "   -0.012566008605062962,\n",
       "   -0.16503822803497314,\n",
       "   0.16462425887584686,\n",
       "   -0.1527540534734726,\n",
       "   0.18554721772670746,\n",
       "   0.20514845848083496,\n",
       "   -0.21899031102657318,\n",
       "   -0.17571406066417694,\n",
       "   -0.1479397714138031,\n",
       "   -0.3187689781188965,\n",
       "   0.24613340198993683,\n",
       "   -0.1669970601797104,\n",
       "   0.19664107263088226,\n",
       "   -0.19323082268238068,\n",
       "   0.3677233159542084,\n",
       "   0.03097236156463623,\n",
       "   0.13577015697956085,\n",
       "   0.3572021424770355,\n",
       "   0.10900578647851944,\n",
       "   0.0491514652967453,\n",
       "   -0.10193788260221481,\n",
       "   -0.08157289773225784,\n",
       "   -0.013785190880298615,\n",
       "   -0.25709110498428345,\n",
       "   0.205396831035614,\n",
       "   -0.16193725168704987,\n",
       "   -0.03759128972887993,\n",
       "   0.03627651929855347,\n",
       "   0.10575175285339355,\n",
       "   -0.017212431877851486,\n",
       "   0.05592609569430351,\n",
       "   -0.44536805152893066,\n",
       "   0.4426111876964569,\n",
       "   -0.013420921750366688,\n",
       "   0.08602968603372574,\n",
       "   -0.265728235244751,\n",
       "   -0.2234439253807068,\n",
       "   -0.33823826909065247,\n",
       "   -0.004634506534785032,\n",
       "   0.05707666277885437,\n",
       "   -0.13157427310943604,\n",
       "   0.3317972719669342,\n",
       "   0.059716369956731796,\n",
       "   0.1341017484664917,\n",
       "   0.104489266872406,\n",
       "   -0.10016638040542603,\n",
       "   0.00851370207965374,\n",
       "   0.09481378644704819,\n",
       "   0.1671120673418045,\n",
       "   -0.11554557085037231,\n",
       "   0.10710600018501282,\n",
       "   -0.036271870136260986,\n",
       "   0.46057307720184326,\n",
       "   -0.16027502715587616,\n",
       "   0.15999402105808258,\n",
       "   -0.44329071044921875,\n",
       "   -0.23846431076526642,\n",
       "   -0.25592195987701416,\n",
       "   -0.2236781269311905,\n",
       "   0.008390388451516628,\n",
       "   -0.27006274461746216,\n",
       "   0.26744183897972107,\n",
       "   -0.2926168143749237,\n",
       "   -0.21830622851848602,\n",
       "   0.21047699451446533,\n",
       "   0.17900289595127106,\n",
       "   -0.3646738827228546,\n",
       "   -0.054970305413007736,\n",
       "   0.4662351906299591,\n",
       "   0.004252305254340172,\n",
       "   -0.3424546718597412,\n",
       "   0.026542633771896362,\n",
       "   -0.11820516735315323,\n",
       "   -0.10154378414154053,\n",
       "   -0.05337877944111824,\n",
       "   -0.021690720692276955,\n",
       "   -0.4288313090801239,\n",
       "   0.26963451504707336,\n",
       "   -0.15197552740573883,\n",
       "   0.15821921825408936,\n",
       "   -0.3303138315677643,\n",
       "   -0.25521862506866455,\n",
       "   -0.16797251999378204,\n",
       "   -0.2770571708679199,\n",
       "   0.14892736077308655,\n",
       "   -0.10111869126558304,\n",
       "   0.340463787317276,\n",
       "   -0.1450011283159256,\n",
       "   0.09754589945077896,\n",
       "   -0.5288223028182983,\n",
       "   0.13407082855701447,\n",
       "   0.17925691604614258,\n",
       "   0.2168080359697342,\n",
       "   0.17522673308849335,\n",
       "   -0.21512646973133087,\n",
       "   0.11916884034872055,\n",
       "   0.064717136323452,\n",
       "   -0.16511040925979614,\n",
       "   0.3762578070163727,\n",
       "   0.37741661071777344,\n",
       "   -0.15590159595012665,\n",
       "   -0.08196593075990677,\n",
       "   -0.1571124941110611,\n",
       "   0.0688505694270134,\n",
       "   0.29660743474960327,\n",
       "   -0.0440155453979969,\n",
       "   0.0164793748408556,\n",
       "   -0.15646125376224518,\n",
       "   -0.07638449221849442,\n",
       "   -0.06002451851963997,\n",
       "   -0.005645057652145624,\n",
       "   -0.12492823600769043,\n",
       "   -0.06808779388666153,\n",
       "   -0.20281732082366943,\n",
       "   0.8208966255187988,\n",
       "   -0.18065495789051056,\n",
       "   -0.16784144937992096,\n",
       "   -0.0023078147787600756,\n",
       "   -0.10597159713506699,\n",
       "   -0.28108325600624084,\n",
       "   -0.02031085640192032,\n",
       "   0.013863968662917614,\n",
       "   -0.06274726986885071,\n",
       "   -0.07089222967624664,\n",
       "   0.019130107015371323,\n",
       "   -0.1995016187429428,\n",
       "   0.21573229134082794,\n",
       "   -0.14244864881038666,\n",
       "   -0.042426854372024536,\n",
       "   -0.03789771720767021,\n",
       "   0.18621301651000977,\n",
       "   -0.12967264652252197,\n",
       "   -0.08389756828546524,\n",
       "   -0.3601400852203369,\n",
       "   0.25227412581443787,\n",
       "   -0.31567710638046265,\n",
       "   0.012652426958084106,\n",
       "   0.10372594743967056,\n",
       "   -0.04187977313995361,\n",
       "   -0.14299173653125763,\n",
       "   -0.12508387863636017,\n",
       "   -0.1096271350979805,\n",
       "   -0.06238417699933052,\n",
       "   0.22540199756622314,\n",
       "   -0.27238619327545166,\n",
       "   -0.28380486369132996,\n",
       "   -0.0573146790266037,\n",
       "   -0.04111383855342865,\n",
       "   0.048127681016922,\n",
       "   -0.13877303898334503,\n",
       "   0.010220217518508434,\n",
       "   -0.20717422664165497,\n",
       "   0.11094006150960922,\n",
       "   -0.030300097540020943,\n",
       "   0.36370864510536194,\n",
       "   0.24852393567562103,\n",
       "   0.22027122974395752,\n",
       "   -0.532691478729248,\n",
       "   0.2604144215583801,\n",
       "   0.22819305956363678,\n",
       "   -0.10369140654802322,\n",
       "   -0.19826216995716095,\n",
       "   0.12771637737751007,\n",
       "   0.26630428433418274,\n",
       "   0.1280813366174698,\n",
       "   -0.35632213950157166,\n",
       "   -0.5247381329536438,\n",
       "   -0.41464194655418396,\n",
       "   0.5209605097770691,\n",
       "   0.25574934482574463,\n",
       "   0.2068033367395401,\n",
       "   0.18840914964675903,\n",
       "   0.12314588576555252,\n",
       "   0.10821441560983658,\n",
       "   -0.34096989035606384,\n",
       "   -0.12017504125833511,\n",
       "   -0.13315512239933014,\n",
       "   0.043044205754995346,\n",
       "   0.08081714808940887,\n",
       "   0.1933845728635788,\n",
       "   0.030923359096050262,\n",
       "   0.21681414544582367,\n",
       "   0.11588708311319351,\n",
       "   -0.13523051142692566,\n",
       "   -0.011950031854212284,\n",
       "   -0.22998976707458496,\n",
       "   0.01086095068603754,\n",
       "   -0.09560828655958176,\n",
       "   0.12485774606466293,\n",
       "   -0.1830003410577774,\n",
       "   0.4889705181121826,\n",
       "   0.22458887100219727,\n",
       "   0.11022033542394638,\n",
       "   0.028361955657601357,\n",
       "   0.4315749704837799,\n",
       "   -0.019923994317650795,\n",
       "   0.04961010813713074,\n",
       "   0.02667796052992344,\n",
       "   -0.1307116001844406,\n",
       "   0.3160575330257416,\n",
       "   0.22434532642364502,\n",
       "   -0.18410874903202057,\n",
       "   -0.1483345925807953,\n",
       "   0.31907323002815247,\n",
       "   0.14429016411304474,\n",
       "   -0.2112460881471634,\n",
       "   0.2751762866973877,\n",
       "   -0.27813830971717834,\n",
       "   0.06461352854967117,\n",
       "   -0.21094496548175812,\n",
       "   0.37170687317848206,\n",
       "   0.0940147265791893,\n",
       "   0.2331562042236328,\n",
       "   -0.010964171029627323,\n",
       "   -0.26745977997779846,\n",
       "   -0.01886199228465557,\n",
       "   -0.18366484344005585,\n",
       "   -0.09331106394529343,\n",
       "   0.06989465653896332,\n",
       "   -0.001417091698385775,\n",
       "   0.10957255959510803,\n",
       "   0.041244447231292725,\n",
       "   -0.35140299797058105,\n",
       "   -0.13143235445022583,\n",
       "   -0.23339350521564484,\n",
       "   0.21466012299060822,\n",
       "   -0.17189210653305054,\n",
       "   -0.28692781925201416,\n",
       "   0.2390490025281906,\n",
       "   -0.016640307381749153,\n",
       "   -0.009707430377602577,\n",
       "   -0.09676823019981384,\n",
       "   0.06114915385842323,\n",
       "   -0.1707744598388672,\n",
       "   0.19455647468566895,\n",
       "   -0.2306118607521057,\n",
       "   -0.009933270514011383,\n",
       "   0.06965208053588867,\n",
       "   -0.06076589599251747]],\n",
       " 'orig_truelabel_probs': [0.9445729851722717, 0.901823103427887],\n",
       " 'orig_vm_predclass': [1, 0],\n",
       " 'text': [\"nicole holofcener's lovely and amazing , from her own screenplay , jumps to the head of the class of women's films that manage to avoid the ghetto of sentimental chick-flicks by treating female follies with a satirical style .\",\n",
       "  \"the film's needlessly opaque intro takes its doe-eyed crudup out of pre-9/11 new york and onto a cross-country road trip of the homeric kind .\"]}"
      ]
     },
     "execution_count": null,
     "metadata": {},
     "output_type": "execute_result"
    }
   ],
   "source": [
    "ds.dsd_tkn['valid'][0:2]"
   ]
  },
  {
   "cell_type": "markdown",
   "metadata": {},
   "source": [
    "Alternately you can look at some random elements of a dataset with the `ds.show_random_elements()` method. "
   ]
  },
  {
   "cell_type": "code",
   "execution_count": null,
   "metadata": {},
   "outputs": [
    {
     "data": {
      "text/html": [
       "<table border=\"1\" class=\"dataframe\">\n",
       "  <thead>\n",
       "    <tr style=\"text-align: right;\">\n",
       "      <th></th>\n",
       "      <th>text</th>\n",
       "      <th>label</th>\n",
       "    </tr>\n",
       "  </thead>\n",
       "  <tbody>\n",
       "    <tr>\n",
       "      <th>0</th>\n",
       "      <td>some movies were made for the big screen , some for the small screen , and some , like ballistic : ecks vs . sever , were made for the palm screen .</td>\n",
       "      <td>neg</td>\n",
       "    </tr>\n",
       "    <tr>\n",
       "      <th>1</th>\n",
       "      <td>would that greengrass had gone a tad less for grit and a lot more for intelligibility .</td>\n",
       "      <td>neg</td>\n",
       "    </tr>\n",
       "    <tr>\n",
       "      <th>2</th>\n",
       "      <td>almost everything about the film is unsettling , from the preposterous hairpiece worn by lai's villainous father to the endless action sequences .</td>\n",
       "      <td>neg</td>\n",
       "    </tr>\n",
       "  </tbody>\n",
       "</table>"
      ],
      "text/plain": [
       "<IPython.core.display.HTML object>"
      ]
     },
     "metadata": {},
     "output_type": "display_data"
    }
   ],
   "source": [
    "ds.show_random_elements(ds.dsd_raw['train'], num_examples=3)"
   ]
  },
  {
   "cell_type": "code",
   "execution_count": null,
   "metadata": {},
   "outputs": [
    {
     "data": {
      "text/html": [
       "<table border=\"1\" class=\"dataframe\">\n",
       "  <thead>\n",
       "    <tr style=\"text-align: right;\">\n",
       "      <th></th>\n",
       "      <th>attention_mask</th>\n",
       "      <th>idx</th>\n",
       "      <th>input_ids</th>\n",
       "      <th>label</th>\n",
       "      <th>n_tokens</th>\n",
       "      <th>orig_sts_embeddings</th>\n",
       "      <th>orig_truelabel_probs</th>\n",
       "      <th>orig_vm_predclass</th>\n",
       "      <th>text</th>\n",
       "    </tr>\n",
       "  </thead>\n",
       "  <tbody>\n",
       "    <tr>\n",
       "      <th>0</th>\n",
       "      <td>[1, 1, 1, 1, 1, 1, 1, 1, 1, 1, 1, 1, 1, 1, 1, 1, 1, 1, 1, 1, 1, 1, 1, 1, 1, 1, 1, 1, 1, 1, 1, 1, 1, 1]</td>\n",
       "      <td>7140</td>\n",
       "      <td>[0, 33394, 5, 1270, 18, 3741, 6435, 12, 261, 12, 627, 12, 3628, 14, 3649, 5, 6120, 951, 342, 11, 7, 283, 62, 19, 41, 38279, 352, 46046, 3693, 5494, 12745, 4286, 479, 2]</td>\n",
       "      <td>neg</td>\n",
       "      <td>34</td>\n",
       "      <td>[-0.04196130111813545, -0.009238973259925842, -0.3204658031463623, -0.03222867101430893, 0.06881716102361679, -0.03910493105649948, 0.27109187841415405, 0.20691175758838654, 0.0867067202925682, -0.15915031731128693, 0.020389346405863762, 0.26467210054397583, 0.205707386136055, -0.19415383040905, 0.030920574441552162, 0.1559268981218338, 0.11858794838190079, 0.2234838753938675, -0.11196062713861465, 0.21912512183189392, 0.12638849020004272, 0.16174715757369995, 0.2730186879634857, 0.09718873351812363, 0.2680603563785553, -0.11813471466302872, 0.05766817927360535, -0.04775218293070793, -0.37661904096603394, -0.1680448353290558, -0.1476079672574997, -0.13525497913360596, 0.0857386440038681, -0.04185601323843002, -0.09892675280570984, 0.0362948477268219, -0.007448195014148951, 0.5905905961990356, -0.09983377158641815, 0.11830045282840729, -0.16939152777194977, -0.07516764104366302, -0.34158164262771606, 0.06370783597230911, -0.08166901767253876, -0.042753469198942184, -0.1133575439453125, -0.1314639151096344, -0.2440081089735031, 0.09848330169916153, 0.1827378273010254, 0.015506694093346596, -0.2789808213710785, -0.0493127703666687, 0.015380859375, 0.02625752054154873, 0.028081530705094337, 0.06733235716819763, -0.18548305332660675, 0.26405346393585205, -0.1820208579301834, 0.01674460992217064, 0.012826412916183472, -0.009701496921479702, 0.12419740110635757, -0.23365411162376404, -0.03039911389350891, -0.025195926427841187, -0.4195925295352936, 0.5111600756645203, -0.0054117352701723576, -0.19782604277133942, -0.030812839046120644, 0.17143206298351288, 0.21343672275543213, 0.23953931033611298, -0.22269316017627716, 0.026624226942658424, 0.3169982433319092, -0.015234175138175488, -0.05387616157531738, 0.017674501985311508, -0.03724076598882675, 0.04830005764961243, -0.2180975377559662, 0.08899800479412079, 0.018246149644255638, 0.2746174931526184, -0.01744389906525612, -0.01190308015793562, -0.16709621250629425, -0.39918261766433716, 0.6197574138641357, 0.0384308397769928, 0.1539965569972992, -0.16340729594230652, -0.1247488260269165, 0.044038742780685425, -0.13146823644638062, 0.3809778094291687, ...]</td>\n",
       "      <td>0.905443</td>\n",
       "      <td>0</td>\n",
       "      <td>consider the title's clunk-on-the-head that suggests the overtime someone put in to come up with an irritatingly unimaginative retread concept .</td>\n",
       "    </tr>\n",
       "    <tr>\n",
       "      <th>1</th>\n",
       "      <td>[1, 1, 1, 1, 1, 1, 1, 1, 1, 1, 1, 1, 1, 1, 1, 1, 1, 1, 1, 1, 1, 1, 1]</td>\n",
       "      <td>3120</td>\n",
       "      <td>[0, 14746, 5, 1569, 29652, 5, 7636, 642, 1264, 8, 5, 740, 5166, 32876, 763, 2156, 24, 5684, 10, 2579, 12989, 479, 2]</td>\n",
       "      <td>pos</td>\n",
       "      <td>23</td>\n",
       "      <td>[0.020312774926424026, -0.4342547655105591, -0.11203484237194061, 0.06356408447027206, -0.2472907453775406, 0.23195934295654297, 0.026600506156682968, -0.13035474717617035, -0.17619594931602478, -0.1673208773136139, 0.24095813930034637, 0.2227906435728073, -0.28435206413269043, -0.06695634871721268, 0.04540446400642395, -0.15197722613811493, 0.4307054877281189, 0.17793914675712585, 0.21090035140514374, -0.29525861144065857, -0.174674853682518, 0.1559278517961502, 0.22573716938495636, 0.0655001625418663, -0.13132180273532867, -0.13206128776073456, 0.25834912061691284, -0.06781020015478134, -0.014282864518463612, -0.2692868709564209, -0.26822662353515625, 0.5002068877220154, 0.01568022184073925, 0.011855524964630604, -0.4588114023208618, 0.05000201240181923, -0.23240965604782104, 0.10988220572471619, 0.13011987507343292, 0.02135503850877285, -0.31529998779296875, 0.22454825043678284, 0.3885307013988495, -0.033428989350795746, -0.20892013609409332, 0.11880960315465927, -0.3772817850112915, 0.008186757564544678, 0.17276744544506073, -0.04272422939538956, -0.03144402429461479, -0.1372782289981842, 0.04585927352309227, -0.09268304705619812, 0.07099775969982147, 0.11562521010637283, -0.07953808456659317, 0.12489095330238342, -0.04774516075849533, 0.04359965771436691, 0.03469322249293327, -0.01991434022784233, -0.389232873916626, 0.023120155557990074, 0.2393990308046341, -0.40428078174591064, 0.3099798560142517, 0.09177684783935547, -0.2791033983230591, -0.061158906668424606, -0.24221259355545044, 0.3895144760608673, 0.007583014201372862, -0.3246764838695526, -0.29141902923583984, -0.03138533607125282, 0.3038386404514313, -0.3452931344509125, -0.334575355052948, 0.026498019695281982, 0.13110381364822388, 0.19747871160507202, -0.12946228682994843, -0.20182059705257416, -0.037941671907901764, 0.003365838434547186, 0.13819922506809235, 0.0592874251306057, -0.2996733784675598, -0.06252466142177582, -0.0723121389746666, 0.5948566198348999, -0.34012967348098755, 0.3228849172592163, 0.22052548825740814, 0.1321076899766922, 0.16654090583324432, 0.02773849479854107, 0.0009489202639088035, -0.09560590982437134, ...]</td>\n",
       "      <td>0.863916</td>\n",
       "      <td>1</td>\n",
       "      <td>when the movie mixes the cornpone and the cosa nostra , it finds a nice rhythm .</td>\n",
       "    </tr>\n",
       "    <tr>\n",
       "      <th>2</th>\n",
       "      <td>[1, 1, 1, 1, 1, 1, 1, 1, 1, 1, 1, 1, 1, 1, 1, 1, 1, 1, 1, 1, 1, 1, 1, 1, 1, 1, 1, 1, 1, 1, 1, 1, 1, 1, 1, 1, 1, 1, 1, 1]</td>\n",
       "      <td>6900</td>\n",
       "      <td>[0, 627, 1219, 939, 303, 2185, 1747, 30780, 12677, 30, 42, 822, 2156, 61, 16, 15192, 1043, 922, 7223, 2622, 8, 34, 1473, 383, 7, 224, 2156, 16, 14, 24, 606, 420, 1195, 350, 32907, 25, 38147, 4405, 479, 2]</td>\n",
       "      <td>neg</td>\n",
       "      <td>40</td>\n",
       "      <td>[0.18801912665367126, -0.10782486200332642, -0.28841546177864075, 0.07453859597444534, 0.3511906862258911, 0.04877807945013046, -0.07187788188457489, -0.04469688981771469, -0.022374307736754417, -0.1601536124944687, 0.2535260021686554, 0.13563890755176544, -0.012134546414017677, 0.20821364223957062, 0.053624581545591354, 0.03267998620867729, 0.32723015546798706, -0.3744050860404968, -0.157009556889534, 0.11462514102458954, 0.135099396109581, 0.2841282784938812, 0.475480854511261, 0.22668801248073578, 0.25136157870292664, -0.0413767546415329, -0.0355643555521965, -0.13597463071346283, -0.19619262218475342, -0.48532748222351074, -0.21454568207263947, 0.11448192596435547, 0.18778006732463837, 0.042475391179323196, -0.02271394431591034, 0.1362188309431076, -0.012045664712786674, 0.1488579511642456, -0.1274537444114685, -0.37674543261528015, -0.3765082061290741, 0.18845713138580322, 0.1247776672244072, 0.03637618198990822, -0.10104376077651978, 0.05746263638138771, -0.15823054313659668, 0.0757000669836998, -0.13739892840385437, -0.1401820182800293, -0.1711084395647049, -0.0691545307636261, -0.02869676984846592, -0.3340966999530792, -0.08003940433263779, -0.25785234570503235, 0.046544190496206284, 0.016493570059537888, -0.024365032091736794, -0.17687088251113892, -0.09296205639839172, -0.22306883335113525, -0.23137523233890533, -0.010635781101882458, 0.4442282021045685, -0.21966774761676788, -0.03467832878232002, -0.2432144433259964, -0.11449000984430313, 0.23409685492515564, 0.09828513860702515, 0.22060738503932953, 0.20325124263763428, 0.1981322467327118, -0.06249312311410904, 0.12440680712461472, 0.23496490716934204, -0.0374331958591938, -0.13474079966545105, 0.024354320019483566, 0.0883830115199089, 0.04915573447942734, 0.02160516194999218, 0.05301307514309883, -0.16829432547092438, 0.22986352443695068, 0.16089969873428345, 0.3052110970020294, -0.14377351105213165, 0.04528259113430977, -0.14061902463436127, -0.025395579636096954, 0.10156853497028351, 0.22802916169166565, 0.3172958493232727, -0.2131151705980301, 0.02391723357141018, 0.014955279417335987, -0.08001270145177841, -0.06634616106748581, ...]</td>\n",
       "      <td>0.938107</td>\n",
       "      <td>0</td>\n",
       "      <td>the reason i found myself finally unmoved by this film , which is immaculately produced and has serious things to say , is that it comes across rather too plainly as allegory .</td>\n",
       "    </tr>\n",
       "  </tbody>\n",
       "</table>"
      ],
      "text/plain": [
       "<IPython.core.display.HTML object>"
      ]
     },
     "metadata": {},
     "output_type": "display_data"
    }
   ],
   "source": [
    "ds.show_random_elements(ds.dsd_tkn['train'], num_examples=3)"
   ]
  },
  {
   "cell_type": "markdown",
   "metadata": {},
   "source": [
    "### Accessing DataLoaders "
   ]
  },
  {
   "cell_type": "markdown",
   "metadata": {},
   "source": [
    "We can access dataloaders for the raw text in `ds.dsd_raw` with `ds.dld_raw`, and for the tokenised text in `ds.dsd_tkn` with `ds_dld_tkn`. Both of these are dictionaries of dataloaders with keys `['train', 'valid', 'test', 'train_eval]`. "
   ]
  },
  {
   "cell_type": "code",
   "execution_count": null,
   "metadata": {},
   "outputs": [
    {
     "name": "stdout",
     "output_type": "stream",
     "text": [
      "Dataloader dict has keys: dict_keys(['train', 'test', 'valid', 'train_eval'])\n",
      "dict_keys(['text', 'idx'])\n",
      "dict_keys(['idx', 'attention_mask', 'input_ids', 'label', 'orig_truelabel_probs', 'orig_sts_embeddings'])\n",
      "Tokenised input is of shape: torch.Size([32, 64])\n"
     ]
    }
   ],
   "source": [
    "print(\"Dataloader dict has keys:\", ds.dld_raw.keys())\n",
    "batch_raw = next(iter(ds.dld_raw['train']))\n",
    "batch_tkn = next(iter(ds.dld_tkn['train']))\n",
    "print(batch_raw.keys())\n",
    "print(batch_tkn.keys())\n",
    "print(\"Tokenised input is of shape:\", batch_tkn['input_ids'].shape)"
   ]
  },
  {
   "cell_type": "markdown",
   "metadata": {},
   "source": [
    "#hide\n",
    "## Export "
   ]
  },
  {
   "cell_type": "code",
   "execution_count": null,
   "metadata": {},
   "outputs": [
    {
     "name": "stdout",
     "output_type": "stream",
     "text": [
      "Converted 00_utils.ipynb.\n",
      "Converted 03_config.ipynb.\n",
      "Converted 07_models.ipynb.\n",
      "Converted 10_data.ipynb.\n",
      "Converted 20_trainer.ipynb.\n",
      "Converted 30_logging.ipynb.\n",
      "Converted index.ipynb.\n",
      "Converted run.ipynb.\n"
     ]
    }
   ],
   "source": [
    "#hide\n",
    "from nbdev.export import notebook2script\n",
    "notebook2script()"
   ]
  },
  {
   "cell_type": "code",
   "execution_count": null,
   "metadata": {},
   "outputs": [],
   "source": []
  }
 ],
 "metadata": {
  "kernelspec": {
   "display_name": "Python 3",
   "language": "python",
   "name": "python3"
  }
 },
 "nbformat": 4,
 "nbformat_minor": 4
}
