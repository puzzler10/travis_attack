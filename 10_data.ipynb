{
 "cells": [
  {
   "cell_type": "code",
   "execution_count": null,
   "metadata": {},
   "outputs": [],
   "source": [
    "#default_exp data"
   ]
  },
  {
   "cell_type": "code",
   "execution_count": null,
   "metadata": {},
   "outputs": [],
   "source": [
    "#hide\n",
    "%load_ext autoreload\n",
    "%autoreload 2\n",
    "%load_ext line_profiler"
   ]
  },
  {
   "cell_type": "code",
   "execution_count": null,
   "metadata": {},
   "outputs": [],
   "source": [
    "#export\n",
    "import torch, random, pandas as pd, os, warnings, shutil, uuid\n",
    "from torch.utils.data import DataLoader, RandomSampler\n",
    "from datasets import load_dataset, load_from_disk, DatasetDict, ClassLabel\n",
    "from IPython.display import display, HTML\n",
    "from travis_attack.models import get_vm_probs\n",
    "from travis_attack.config import Config\n",
    "from travis_attack.utils import robust_rmtree"
   ]
  },
  {
   "cell_type": "code",
   "execution_count": null,
   "metadata": {},
   "outputs": [],
   "source": [
    "#hide\n",
    "import inspect\n",
    "from IPython.core.debugger import set_trace"
   ]
  },
  {
   "cell_type": "markdown",
   "metadata": {},
   "source": [
    "# Preparing data"
   ]
  },
  {
   "cell_type": "markdown",
   "metadata": {},
   "source": [
    "## Classes "
   ]
  },
  {
   "cell_type": "markdown",
   "metadata": {},
   "source": [
    "### Base class"
   ]
  },
  {
   "cell_type": "code",
   "execution_count": null,
   "metadata": {},
   "outputs": [],
   "source": [
    "#export\n",
    "class ProcessedDataset: \n",
    "    \"\"\"Class that wraps a raw dataset (e.g. from huggingface datasets) and performs preprocessing on it.\"\"\"\n",
    "    def __init__(self, cfg, vm_tokenizer, vm_model, pp_tokenizer, sts_model,\n",
    "                 load_processed_from_file=True): \n",
    "        \"\"\"load_processed_from_file: set to true to load completed version from file, false will process the data. \"\"\"\n",
    "        self._cfg,self._vm_tokenizer,self._vm_model,self._pp_tokenizer,self._sts_model = cfg,vm_tokenizer,vm_model,pp_tokenizer,sts_model\n",
    "        shard_suffix = f\"_{self._cfg.n_shards}_shards\" if self._cfg.use_small_ds else \"\"\n",
    "        self.cache_path_raw = f\"{self._cfg.path_data_cache}{self._cfg.dataset_name}_raw{shard_suffix}\"\n",
    "        self.cache_path_tkn = f\"{self._cfg.path_data_cache}{self._cfg.dataset_name}_tkn{shard_suffix}\"\n",
    "        \n",
    "        if load_processed_from_file:\n",
    "            if os.path.exists(self.cache_path_raw) and os.path.exists(self.cache_path_tkn): \n",
    "                self.dsd_raw = load_from_disk(self.cache_path_raw) \n",
    "                self.dsd_tkn = load_from_disk(self.cache_path_tkn)\n",
    "                self._prep_dataloaders()\n",
    "            else: \n",
    "                warnings.warn(\"Cache file not found, so will now process the raw dataset.\")\n",
    "                self._preprocess_dataset() \n",
    "        else:   \n",
    "            self._preprocess_dataset() \n",
    "        self._update_cfg()\n",
    "            \n",
    "    def _prep_dsd_simple(self): \n",
    "        \"\"\"Load the simple dataset and package it up in a DatasetDict (dsd) \n",
    "        with splits for train, valid, test.\"\"\"\n",
    "        dsd = DatasetDict()\n",
    "        for s in self._cfg.splits:  \n",
    "            dsd[s] = load_dataset('csv', \n",
    "                data_files=f\"{self._cfg.path_data}simple_dataset_{s}.csv\", keep_in_memory=False)['train']\n",
    "        return dsd\n",
    "        \n",
    "    def _prep_dsd_rotten_tomatoes(self):\n",
    "        \"\"\"Load the rotten tomatoes dataet and package it up in a DatasetDict (dsd) \n",
    "        with splits for train, valid, test.\"\"\"\n",
    "        dsd = load_dataset(\"rotten_tomatoes\")\n",
    "        dsd['valid'] = dsd.pop('validation')  # \"valid\" is easier than \"validation\" \n",
    "        # make sure that all datasets have the same number of labels as what the victim model predicts\n",
    "        for _,ds in dsd.items(): assert ds.features[self._cfg.label_cname].num_classes == self._cfg.vm_num_labels \n",
    "        return dsd \n",
    "    \n",
    "    def _prep_dsd_raw_snli(self): \n",
    "        ## For snli\n",
    "        # remove_minus1_labels = lambda x: x[label_cname] != -1\n",
    "        # ds_train = ds_train.filter(remove_minus1_labels)\n",
    "        # valid = valid.filter(remove_minus1_labels)\n",
    "        # test = test.filter(remove_minus1_labels)\n",
    "        raise NotImplementedError(\"SNLI not implemented yet.\")\n",
    "    \n",
    "    def _preprocess_dataset(self): \n",
    "        \"\"\"Add columns, tokenize, transform, prepare dataloaders, and do other preprocessing tasks.\"\"\"\n",
    "        ##### TODO: why do you need train_eval? how is it different from train?\n",
    "        if   self._cfg.dataset_name == \"simple\":          dsd = self._prep_dsd_simple()\n",
    "        elif self._cfg.dataset_name == \"rotten_tomatoes\": dsd = self._prep_dsd_rotten_tomatoes()\n",
    "        else: raise Exception(\"cfg.dataset_name must be either 'simple' or 'rotten_tomatoes'\")\n",
    "            \n",
    "        dsd = dsd.map(self._add_idx, batched=True, with_indices=True)  # add idx column\n",
    "        if self._cfg.use_small_ds: dsd = self._shard_dsd_raw(dsd)  # do after adding idx so it's consistent across runs\n",
    "        # add VM score & filter out misclassified examples.\n",
    "        # use a common variable dsd, add all columns, and later filter columns to get dsd_raw and dsd_tkn\n",
    "        dsd = dsd.map(self._add_vm_orig_score, batched=True)  \n",
    "        if self._cfg.remove_misclassified_examples:  dsd = dsd.filter(lambda x: x['orig_vm_predclass'] == x['label']) \n",
    "        dsd = dsd.map(self._add_sts_orig_embeddings, batched=True)  # add STS score \n",
    "        dsd = dsd.map(self._tokenize_fn,             batched=True)  # tokenize\n",
    "        dsd = dsd.map(self._add_n_tokens,            batched=True)  # add n_tokens\n",
    "        if self._cfg.bucket_by_length: dsd = dsd.sort(\"n_tokens\", reverse=True)  # sort by n_tokens (high to low), useful for cuda memory caching\n",
    "        # Split dsd into dsd_raw and dsd_tkn\n",
    "        assert dsd.column_names['train'] == dsd.column_names['valid'] == dsd.column_names['test']\n",
    "        self.cnames_dsd_raw = ['idx', 'text', 'label']\n",
    "        self.cnames_dsd_tkn = [o for o in dsd.column_names['train'] if o != 'text'] \n",
    "        self.dsd_raw = dsd.remove_columns([o for o in  dsd['train'].column_names if o not in self.cnames_dsd_raw])\n",
    "        self.dsd_tkn = dsd.remove_columns([\"text\"])\n",
    "        for s in self._cfg.splits: assert len(self.dsd_raw[s]) == len(self.dsd_tkn[s])  # check ds has same number of elements in raw and tkn\n",
    "        self._cache_processed_ds()\n",
    "        self._prep_dataloaders()\n",
    "        \n",
    "#         # filter out rows in dsd_raw that aren't in dsd_tkn\n",
    "#         for s in self._cfg.splits:\n",
    "#             idx_list = self.dsd_tkn[s]['idx']\n",
    "#             self.dsd_raw[s] = self.dsd_raw[s].filter(lambda x: x['idx'] in idx_list)\n",
    "        \n",
    "    def _prep_dataloaders(self): \n",
    "        self.dld_raw = self._get_dataloaders_dict(self.dsd_raw, collate_fn=self._collate_fn_raw)  # dict of data loaders that serve raw text\n",
    "        self.dld_tkn = self._get_dataloaders_dict(self.dsd_tkn, collate_fn=self._collate_fn_tkn)  # dict of data loaders that serve tokenized text\n",
    "        \n",
    "    def _add_idx(self, batch, idx):\n",
    "        \"\"\"Add row numbers\"\"\"\n",
    "        batch['idx'] = idx \n",
    "        return batch   \n",
    "    \n",
    "    def _add_n_tokens(self, batch): \n",
    "        \"\"\"Add the number of tokens of the orig text \"\"\"\n",
    "        batch['n_tokens'] = [len(o) for o in batch['input_ids']]\n",
    "        return batch \n",
    "    \n",
    "    def _add_sts_orig_embeddings(self, batch): \n",
    "        \"\"\"Add the sts embeddings of the orig text\"\"\"\n",
    "        batch['orig_sts_embeddings'] = self._sts_model.encode(batch[self._cfg.orig_cname], batch_size=64, convert_to_tensor=False)\n",
    "        return batch\n",
    "    \n",
    "    def _add_vm_orig_score(self, batch): \n",
    "        \"\"\"Add the vm score of the orig text\"\"\"\n",
    "        labels = torch.tensor(batch[self._cfg.label_cname], device=self._cfg.device)\n",
    "        orig_probs,orig_predclass = get_vm_probs(batch[self._cfg.orig_cname], self._cfg, self._vm_tokenizer,\n",
    "                                                 self._vm_model, return_predclass=True)\n",
    "        batch['orig_truelabel_probs'] = torch.gather(orig_probs,1, labels[:,None]).squeeze().cpu().tolist()\n",
    "        batch['orig_vm_predclass'] = orig_predclass.cpu().tolist()\n",
    "        return batch\n",
    "    \n",
    "    def _tokenize_fn(self, batch):  \n",
    "        \"\"\"Tokenize a batch of orig text using the paraphrase tokenizer.\"\"\"\n",
    "        return self._pp_tokenizer(batch[self._cfg.orig_cname], truncation=True, max_length=self._cfg.orig_max_length)  \n",
    "    \n",
    "    def _collate_fn_tkn(self, x): \n",
    "        \"\"\"Collate function used by the DataLoader that serves tokenized data.\"\"\"\n",
    "        d = dict()\n",
    "        for k in ['idx', 'attention_mask', 'input_ids', 'label', 'orig_truelabel_probs', 'orig_sts_embeddings']: \n",
    "            d[k] = [o[k] for o in x]\n",
    "        return self._pp_tokenizer.pad(d, pad_to_multiple_of=self._cfg.orig_padding_multiple, return_tensors=\"pt\")\n",
    "\n",
    "    def _collate_fn_raw(self, x): \n",
    "        \"\"\"Collate function used by the DataLoader that serves raw data.\"\"\"\n",
    "        d = dict()\n",
    "        for k in [self._cfg.orig_cname, 'idx']: d[k] = [o[k] for o in x]\n",
    "        return d \n",
    "\n",
    "    def _get_sampler(self, ds): \n",
    "        \"\"\"Returns a RandomSampler. Used so we can keep the same shuffle order across multiple data loaders.\n",
    "        Used when self._cfg.shuffle_train = True\"\"\"\n",
    "        g = torch.Generator()\n",
    "        g.manual_seed(seed)\n",
    "        return RandomSampler(ds, generator=g)\n",
    "    \n",
    "    def _shard_dsd_raw(self, dsd):\n",
    "        \"\"\"Replaces dsd with a smaller shard of itself.\"\"\"\n",
    "        for k,v in dsd.items():  \n",
    "            dsd[k] = v.shard(self._cfg.n_shards, 0, contiguous=self._cfg.shard_contiguous)\n",
    "            return dsd\n",
    "        \n",
    "    def _get_dataloaders_dict(self, dsd, collate_fn): \n",
    "        \"\"\"Prepare a dict of dataloaders for train, valid and test\"\"\"\n",
    "        if self._cfg.bucket_by_length and self._cfg.shuffle_train:  raise Exception(\"Can only do one of bucket by length or shuffle\")\n",
    "        d = dict()\n",
    "        for split, ds in dsd.items(): \n",
    "            if self._cfg.shuffle_train:\n",
    "                if split == \"train\": \n",
    "                    sampler = self.get_sampler(ds)\n",
    "                    d[split] =  DataLoader(ds, batch_size=self._cfg.batch_size_train, \n",
    "                                           sampler=sampler, collate_fn=collate_fn, \n",
    "                                           num_workers=self._cfg.n_wkrs, pin_memory=self._cfg.pin_memory) \n",
    "                else: \n",
    "                    d[split] =  DataLoader(ds, batch_size=self._cfg.batch_size_eval, \n",
    "                                           shuffle=False, collate_fn=collate_fn, \n",
    "                                           num_workers=self._cfg.n_wkrs, pin_memory=self._cfg.pin_memory) \n",
    "            if self._cfg.bucket_by_length: \n",
    "                batch_size = self._cfg.batch_size_train if split == \"train\" else self._cfg.batch_size_eval\n",
    "                d[split] =  DataLoader(ds, batch_size=batch_size, shuffle=False, collate_fn=collate_fn, \n",
    "                                       num_workers=self._cfg.n_wkrs, pin_memory=self._cfg.pin_memory) \n",
    "\n",
    "        # Add eval dataloader for train \n",
    "        d['train_eval'] = DataLoader(dsd['train'], batch_size=self._cfg.batch_size_eval, shuffle=False,\n",
    "                                    collate_fn=collate_fn, \n",
    "                                     num_workers=self._cfg.n_wkrs, pin_memory=self._cfg.pin_memory) \n",
    "        return d \n",
    "    \n",
    "    def _update_cfg(self): \n",
    "        self._cfg.ds_length = dict()\n",
    "        \n",
    "        for k in self.dsd_raw.keys(): \n",
    "            self._cfg.ds_length[k] = len(self.dsd_raw[k])\n",
    "            \n",
    "    def _cache_processed_ds(self):\n",
    "        def _reset_dir(path): \n",
    "            if os.path.exists(path) and os.path.isdir(path):    \n",
    "                # So deleting the old files sometimes throws errors because of race conditions, I think \n",
    "                # so as a workaround we will just move files to old directories and then periodicallly clean them. \n",
    "                #                robust_rmtree(path, logger=None, max_retries=6)  \n",
    "                path_old_files = f\"{self._cfg.path_data_cache}old_files/\"\n",
    "                os.makedirs(path_old_files, exist_ok=True)\n",
    "                shutil.move(path, f\"{path_old_files}{uuid.uuid4().hex}\") \n",
    "            os.makedirs(path, exist_ok=True)\n",
    "        _reset_dir(self.cache_path_raw)\n",
    "        _reset_dir(self.cache_path_tkn)\n",
    "        self.dsd_raw.save_to_disk(dataset_dict_path = self.cache_path_raw)\n",
    "        self.dsd_tkn.save_to_disk(dataset_dict_path = self.cache_path_tkn)\n",
    "        \n",
    "    def show_random_elements(self, ds, num_examples=10):\n",
    "        \"\"\"Print some elements in a nice format so you can take a look at them. \n",
    "        Split is one of 'train', 'test', 'valid'. \n",
    "        Use for a dataset `ds` from the `dataset` package.  \"\"\"\n",
    "        assert num_examples <= len(ds), \"Can't pick more elements than there are in the dataset.\"\n",
    "        picks = []\n",
    "        for _ in range(num_examples):\n",
    "            pick = random.randint(0, len(ds)-1)\n",
    "            while pick in picks:\n",
    "                pick = random.randint(0, len(ds)-1)\n",
    "            picks.append(pick)\n",
    "        df = pd.DataFrame(ds[picks])\n",
    "        for column, typ in ds.features.items():\n",
    "            if isinstance(typ, ClassLabel):\n",
    "                df[column] = df[column].transform(lambda i: typ.names[i])\n",
    "        display(HTML(df.to_html()))"
   ]
  },
  {
   "cell_type": "markdown",
   "metadata": {},
   "source": [
    "## Usage "
   ]
  },
  {
   "cell_type": "markdown",
   "metadata": {},
   "source": [
    "### Basics "
   ]
  },
  {
   "cell_type": "markdown",
   "metadata": {},
   "source": [
    "Here we have defined a class `ProcessedDataset` that will load and preprocess a dataset. But before processing the dataset you must load both the config object and all models/tokenizers, so we do this first. "
   ]
  },
  {
   "cell_type": "code",
   "execution_count": null,
   "metadata": {},
   "outputs": [],
   "source": [
    "from travis_attack.models import prepare_models\n",
    "cfg = Config()\n",
    "vm_tokenizer, vm_model, pp_tokenizer, pp_model, sts_model, cfg = prepare_models(cfg)"
   ]
  },
  {
   "cell_type": "markdown",
   "metadata": {},
   "source": [
    "Currently there are two choices for dataset: \n",
    "\n",
    "* `simple`, a dataset of simple sentences with four elements each in the train, test and valid splits\n",
    "* `rotten_tomatoes`, a dataset of movie reviews scraped from the Rotten Tomatoes site. \n",
    "\n",
    "The dataset is specified by the config class. There are two ways to do this. \n",
    "\n",
    "1. Edit the `self.dataset_name` variable in the Config class to either `simple` or `rotten_tomatoes`. An error will be thrown if the name is not one of these two. This is the best way to use when doing runs.   \n",
    "2. Use the `adjust_dataset_...` methods of the config class: e.g. `cfg = cfg.adjust_dataset_for_rotten_tomatoes_dataset() = Config()`. This is easiest for automated testing so we will do this here. "
   ]
  },
  {
   "cell_type": "markdown",
   "metadata": {},
   "source": [
    "Once the config is specified and loaded, create an object of class `ProcessedDataset` by passing the config, models and tokenizers as variables. This will do all preprocessing automatically in creating the object (the preprocessing code is in the `__init__()` function of the class.  "
   ]
  },
  {
   "cell_type": "code",
   "execution_count": null,
   "metadata": {},
   "outputs": [
    {
     "name": "stderr",
     "output_type": "stream",
     "text": [
      "WARNING:datasets.builder:Using custom data configuration default-b253756c445fb811\n",
      "WARNING:datasets.builder:Reusing dataset csv (/data/tproth/.cache/huggingface/datasets/csv/default-b253756c445fb811/0.0.0/6b9057d9e23d9d8a2f05b985917a0da84d70c5dae3d22ddd8a3f22fb01c69d9e)\n"
     ]
    },
    {
     "data": {
      "application/vnd.jupyter.widget-view+json": {
       "model_id": "d1f21281a7cb421d8ae519b4b27a6519",
       "version_major": 2,
       "version_minor": 0
      },
      "text/plain": [
       "  0%|          | 0/1 [00:00<?, ?it/s]"
      ]
     },
     "metadata": {},
     "output_type": "display_data"
    },
    {
     "name": "stderr",
     "output_type": "stream",
     "text": [
      "WARNING:datasets.builder:Using custom data configuration default-c802946231f72062\n",
      "WARNING:datasets.builder:Reusing dataset csv (/data/tproth/.cache/huggingface/datasets/csv/default-c802946231f72062/0.0.0/6b9057d9e23d9d8a2f05b985917a0da84d70c5dae3d22ddd8a3f22fb01c69d9e)\n"
     ]
    },
    {
     "data": {
      "application/vnd.jupyter.widget-view+json": {
       "model_id": "0d74010c861540beb92b50812af51ccd",
       "version_major": 2,
       "version_minor": 0
      },
      "text/plain": [
       "  0%|          | 0/1 [00:00<?, ?it/s]"
      ]
     },
     "metadata": {},
     "output_type": "display_data"
    },
    {
     "name": "stderr",
     "output_type": "stream",
     "text": [
      "WARNING:datasets.builder:Using custom data configuration default-43a49c5188c42e69\n",
      "WARNING:datasets.builder:Reusing dataset csv (/data/tproth/.cache/huggingface/datasets/csv/default-43a49c5188c42e69/0.0.0/6b9057d9e23d9d8a2f05b985917a0da84d70c5dae3d22ddd8a3f22fb01c69d9e)\n"
     ]
    },
    {
     "data": {
      "application/vnd.jupyter.widget-view+json": {
       "model_id": "9e9ab5a723994316ab77cbffeb88c25d",
       "version_major": 2,
       "version_minor": 0
      },
      "text/plain": [
       "  0%|          | 0/1 [00:00<?, ?it/s]"
      ]
     },
     "metadata": {},
     "output_type": "display_data"
    },
    {
     "data": {
      "application/vnd.jupyter.widget-view+json": {
       "model_id": "e3369aec42674df69dcb8422307ea041",
       "version_major": 2,
       "version_minor": 0
      },
      "text/plain": [
       "  0%|          | 0/1 [00:00<?, ?ba/s]"
      ]
     },
     "metadata": {},
     "output_type": "display_data"
    },
    {
     "data": {
      "application/vnd.jupyter.widget-view+json": {
       "model_id": "ba90488a98e14a208c7c631dbf8135ae",
       "version_major": 2,
       "version_minor": 0
      },
      "text/plain": [
       "  0%|          | 0/1 [00:00<?, ?ba/s]"
      ]
     },
     "metadata": {},
     "output_type": "display_data"
    },
    {
     "data": {
      "application/vnd.jupyter.widget-view+json": {
       "model_id": "eb963729561849a69cd1c83369af8097",
       "version_major": 2,
       "version_minor": 0
      },
      "text/plain": [
       "  0%|          | 0/1 [00:00<?, ?ba/s]"
      ]
     },
     "metadata": {},
     "output_type": "display_data"
    },
    {
     "data": {
      "application/vnd.jupyter.widget-view+json": {
       "model_id": "6b7190c549dd48549cbdc29194ca3f87",
       "version_major": 2,
       "version_minor": 0
      },
      "text/plain": [
       "  0%|          | 0/1 [00:00<?, ?ba/s]"
      ]
     },
     "metadata": {},
     "output_type": "display_data"
    },
    {
     "data": {
      "application/vnd.jupyter.widget-view+json": {
       "model_id": "4a73aa4c768f4f539bfcaec83ce52ff0",
       "version_major": 2,
       "version_minor": 0
      },
      "text/plain": [
       "  0%|          | 0/1 [00:00<?, ?ba/s]"
      ]
     },
     "metadata": {},
     "output_type": "display_data"
    },
    {
     "data": {
      "application/vnd.jupyter.widget-view+json": {
       "model_id": "9e52cb1515694dc7bedd4e6703c99fd0",
       "version_major": 2,
       "version_minor": 0
      },
      "text/plain": [
       "  0%|          | 0/1 [00:00<?, ?ba/s]"
      ]
     },
     "metadata": {},
     "output_type": "display_data"
    },
    {
     "data": {
      "application/vnd.jupyter.widget-view+json": {
       "model_id": "0da8426f4fbc4da689dfca66c49926a0",
       "version_major": 2,
       "version_minor": 0
      },
      "text/plain": [
       "  0%|          | 0/1 [00:00<?, ?ba/s]"
      ]
     },
     "metadata": {},
     "output_type": "display_data"
    },
    {
     "data": {
      "application/vnd.jupyter.widget-view+json": {
       "model_id": "89679b93c81e4667b68c4ba5e9edda6c",
       "version_major": 2,
       "version_minor": 0
      },
      "text/plain": [
       "  0%|          | 0/1 [00:00<?, ?ba/s]"
      ]
     },
     "metadata": {},
     "output_type": "display_data"
    },
    {
     "data": {
      "application/vnd.jupyter.widget-view+json": {
       "model_id": "83793741519d4baa813fabfdb1afeb94",
       "version_major": 2,
       "version_minor": 0
      },
      "text/plain": [
       "  0%|          | 0/1 [00:00<?, ?ba/s]"
      ]
     },
     "metadata": {},
     "output_type": "display_data"
    },
    {
     "data": {
      "application/vnd.jupyter.widget-view+json": {
       "model_id": "b66f2882fcde436c8c852c6349cba416",
       "version_major": 2,
       "version_minor": 0
      },
      "text/plain": [
       "  0%|          | 0/1 [00:00<?, ?ba/s]"
      ]
     },
     "metadata": {},
     "output_type": "display_data"
    },
    {
     "data": {
      "application/vnd.jupyter.widget-view+json": {
       "model_id": "caaeccf3ce39458a85c268a1b3940dff",
       "version_major": 2,
       "version_minor": 0
      },
      "text/plain": [
       "  0%|          | 0/1 [00:00<?, ?ba/s]"
      ]
     },
     "metadata": {},
     "output_type": "display_data"
    },
    {
     "data": {
      "application/vnd.jupyter.widget-view+json": {
       "model_id": "6ae7d4b8372647c2a094e53f42dd0cc2",
       "version_major": 2,
       "version_minor": 0
      },
      "text/plain": [
       "  0%|          | 0/1 [00:00<?, ?ba/s]"
      ]
     },
     "metadata": {},
     "output_type": "display_data"
    },
    {
     "data": {
      "application/vnd.jupyter.widget-view+json": {
       "model_id": "b41c91dd9cf345a785175de76d834ad9",
       "version_major": 2,
       "version_minor": 0
      },
      "text/plain": [
       "  0%|          | 0/1 [00:00<?, ?ba/s]"
      ]
     },
     "metadata": {},
     "output_type": "display_data"
    },
    {
     "data": {
      "application/vnd.jupyter.widget-view+json": {
       "model_id": "01c9e6990ca942558a654f8680797f05",
       "version_major": 2,
       "version_minor": 0
      },
      "text/plain": [
       "  0%|          | 0/1 [00:00<?, ?ba/s]"
      ]
     },
     "metadata": {},
     "output_type": "display_data"
    },
    {
     "data": {
      "application/vnd.jupyter.widget-view+json": {
       "model_id": "650cebaf09db4c409798c3fd56be34a2",
       "version_major": 2,
       "version_minor": 0
      },
      "text/plain": [
       "  0%|          | 0/1 [00:00<?, ?ba/s]"
      ]
     },
     "metadata": {},
     "output_type": "display_data"
    },
    {
     "data": {
      "application/vnd.jupyter.widget-view+json": {
       "model_id": "70537e97312443b2bd3fc4d5f2a60ded",
       "version_major": 2,
       "version_minor": 0
      },
      "text/plain": [
       "  0%|          | 0/1 [00:00<?, ?ba/s]"
      ]
     },
     "metadata": {},
     "output_type": "display_data"
    },
    {
     "data": {
      "application/vnd.jupyter.widget-view+json": {
       "model_id": "954c79c6e23d4689b0bc00d6a5a2fa66",
       "version_major": 2,
       "version_minor": 0
      },
      "text/plain": [
       "  0%|          | 0/1 [00:00<?, ?ba/s]"
      ]
     },
     "metadata": {},
     "output_type": "display_data"
    },
    {
     "data": {
      "application/vnd.jupyter.widget-view+json": {
       "model_id": "e28ddb6b86484a5b9df565d7cace17f4",
       "version_major": 2,
       "version_minor": 0
      },
      "text/plain": [
       "  0%|          | 0/1 [00:00<?, ?ba/s]"
      ]
     },
     "metadata": {},
     "output_type": "display_data"
    },
    {
     "data": {
      "application/vnd.jupyter.widget-view+json": {
       "model_id": "b36898c2474641cf8b8b9b12870b3110",
       "version_major": 2,
       "version_minor": 0
      },
      "text/plain": [
       "Flattening the indices:   0%|          | 0/1 [00:00<?, ?ba/s]"
      ]
     },
     "metadata": {},
     "output_type": "display_data"
    },
    {
     "data": {
      "application/vnd.jupyter.widget-view+json": {
       "model_id": "4f9dc82cee114c91a953e488df570844",
       "version_major": 2,
       "version_minor": 0
      },
      "text/plain": [
       "Flattening the indices:   0%|          | 0/1 [00:00<?, ?ba/s]"
      ]
     },
     "metadata": {},
     "output_type": "display_data"
    },
    {
     "data": {
      "application/vnd.jupyter.widget-view+json": {
       "model_id": "fdf4e1d3eda04af89038f9ba0dcf0927",
       "version_major": 2,
       "version_minor": 0
      },
      "text/plain": [
       "Flattening the indices:   0%|          | 0/1 [00:00<?, ?ba/s]"
      ]
     },
     "metadata": {},
     "output_type": "display_data"
    },
    {
     "data": {
      "application/vnd.jupyter.widget-view+json": {
       "model_id": "382c9a7904f2408e8e7d6aa2303ea1f5",
       "version_major": 2,
       "version_minor": 0
      },
      "text/plain": [
       "Flattening the indices:   0%|          | 0/1 [00:00<?, ?ba/s]"
      ]
     },
     "metadata": {},
     "output_type": "display_data"
    },
    {
     "data": {
      "application/vnd.jupyter.widget-view+json": {
       "model_id": "dc9616b101da459d96d261d1b555b20f",
       "version_major": 2,
       "version_minor": 0
      },
      "text/plain": [
       "Flattening the indices:   0%|          | 0/1 [00:00<?, ?ba/s]"
      ]
     },
     "metadata": {},
     "output_type": "display_data"
    },
    {
     "data": {
      "application/vnd.jupyter.widget-view+json": {
       "model_id": "851b98d14dbe443fa67ea0045172a6a7",
       "version_major": 2,
       "version_minor": 0
      },
      "text/plain": [
       "Flattening the indices:   0%|          | 0/1 [00:00<?, ?ba/s]"
      ]
     },
     "metadata": {},
     "output_type": "display_data"
    }
   ],
   "source": [
    "cfg_simple = cfg.adjust_config_for_simple_dataset()\n",
    "ds = ProcessedDataset(cfg_simple, vm_tokenizer, vm_model, pp_tokenizer, sts_model, \n",
    "                      load_processed_from_file=False)"
   ]
  },
  {
   "cell_type": "code",
   "execution_count": null,
   "metadata": {},
   "outputs": [
    {
     "data": {
      "text/plain": [
       "DatasetDict({\n",
       "    train: Dataset({\n",
       "        features: ['text', 'label', 'idx'],\n",
       "        num_rows: 4\n",
       "    })\n",
       "    valid: Dataset({\n",
       "        features: ['text', 'label', 'idx'],\n",
       "        num_rows: 4\n",
       "    })\n",
       "    test: Dataset({\n",
       "        features: ['text', 'label', 'idx'],\n",
       "        num_rows: 4\n",
       "    })\n",
       "})"
      ]
     },
     "execution_count": null,
     "metadata": {},
     "output_type": "execute_result"
    }
   ],
   "source": [
    "ds.dsd_raw"
   ]
  },
  {
   "cell_type": "markdown",
   "metadata": {},
   "source": [
    "If you want to use the small dataset adjust the config before creating the `ProcessedDataset` object. "
   ]
  },
  {
   "cell_type": "code",
   "execution_count": null,
   "metadata": {},
   "outputs": [
    {
     "name": "stderr",
     "output_type": "stream",
     "text": [
      "WARNING:datasets.builder:Using custom data configuration default\n",
      "WARNING:datasets.builder:Reusing dataset rotten_tomatoes_movie_review (/data/tproth/.cache/huggingface/datasets/rotten_tomatoes_movie_review/default/1.0.0/40d411e45a6ce3484deed7cc15b82a53dad9a72aafd9f86f8f227134bec5ca46)\n"
     ]
    },
    {
     "data": {
      "application/vnd.jupyter.widget-view+json": {
       "model_id": "490c6caf454b4bdbaf3ab97915e13c8d",
       "version_major": 2,
       "version_minor": 0
      },
      "text/plain": [
       "  0%|          | 0/3 [00:00<?, ?it/s]"
      ]
     },
     "metadata": {},
     "output_type": "display_data"
    },
    {
     "data": {
      "application/vnd.jupyter.widget-view+json": {
       "model_id": "c9296e6062124657a67d60f252484391",
       "version_major": 2,
       "version_minor": 0
      },
      "text/plain": [
       "  0%|          | 0/9 [00:00<?, ?ba/s]"
      ]
     },
     "metadata": {},
     "output_type": "display_data"
    },
    {
     "data": {
      "application/vnd.jupyter.widget-view+json": {
       "model_id": "a1c181d670894d48af1d59490ffbb715",
       "version_major": 2,
       "version_minor": 0
      },
      "text/plain": [
       "  0%|          | 0/2 [00:00<?, ?ba/s]"
      ]
     },
     "metadata": {},
     "output_type": "display_data"
    },
    {
     "data": {
      "application/vnd.jupyter.widget-view+json": {
       "model_id": "e757b9aa9d2047a88dd739ccf7e598d1",
       "version_major": 2,
       "version_minor": 0
      },
      "text/plain": [
       "  0%|          | 0/2 [00:00<?, ?ba/s]"
      ]
     },
     "metadata": {},
     "output_type": "display_data"
    },
    {
     "data": {
      "application/vnd.jupyter.widget-view+json": {
       "model_id": "a09ce241a60049649126bc92e6906daf",
       "version_major": 2,
       "version_minor": 0
      },
      "text/plain": [
       "  0%|          | 0/1 [00:00<?, ?ba/s]"
      ]
     },
     "metadata": {},
     "output_type": "display_data"
    },
    {
     "data": {
      "application/vnd.jupyter.widget-view+json": {
       "model_id": "cc93a9aac2464a789a02264bacb4890b",
       "version_major": 2,
       "version_minor": 0
      },
      "text/plain": [
       "  0%|          | 0/2 [00:00<?, ?ba/s]"
      ]
     },
     "metadata": {},
     "output_type": "display_data"
    },
    {
     "data": {
      "application/vnd.jupyter.widget-view+json": {
       "model_id": "49a246e596b0407d9d7e9257d8e1d0c5",
       "version_major": 2,
       "version_minor": 0
      },
      "text/plain": [
       "  0%|          | 0/2 [00:00<?, ?ba/s]"
      ]
     },
     "metadata": {},
     "output_type": "display_data"
    },
    {
     "data": {
      "application/vnd.jupyter.widget-view+json": {
       "model_id": "679f61579b584cc694ce97792d0ad4eb",
       "version_major": 2,
       "version_minor": 0
      },
      "text/plain": [
       "  0%|          | 0/1 [00:00<?, ?ba/s]"
      ]
     },
     "metadata": {},
     "output_type": "display_data"
    },
    {
     "data": {
      "application/vnd.jupyter.widget-view+json": {
       "model_id": "5cf8e6e492a14ffca48d6d08dedf499f",
       "version_major": 2,
       "version_minor": 0
      },
      "text/plain": [
       "  0%|          | 0/2 [00:00<?, ?ba/s]"
      ]
     },
     "metadata": {},
     "output_type": "display_data"
    },
    {
     "data": {
      "application/vnd.jupyter.widget-view+json": {
       "model_id": "aaf007e0d44f46be9c0a335db4b2c638",
       "version_major": 2,
       "version_minor": 0
      },
      "text/plain": [
       "  0%|          | 0/2 [00:00<?, ?ba/s]"
      ]
     },
     "metadata": {},
     "output_type": "display_data"
    },
    {
     "data": {
      "application/vnd.jupyter.widget-view+json": {
       "model_id": "f87288abdf9f4de381045e51333ab9bb",
       "version_major": 2,
       "version_minor": 0
      },
      "text/plain": [
       "  0%|          | 0/1 [00:00<?, ?ba/s]"
      ]
     },
     "metadata": {},
     "output_type": "display_data"
    },
    {
     "data": {
      "application/vnd.jupyter.widget-view+json": {
       "model_id": "edaf7aff6bba4bd4bed71ce8e3fa4945",
       "version_major": 2,
       "version_minor": 0
      },
      "text/plain": [
       "  0%|          | 0/1 [00:00<?, ?ba/s]"
      ]
     },
     "metadata": {},
     "output_type": "display_data"
    },
    {
     "data": {
      "application/vnd.jupyter.widget-view+json": {
       "model_id": "b39b2b55381d491f85f38bee8eebf7a0",
       "version_major": 2,
       "version_minor": 0
      },
      "text/plain": [
       "  0%|          | 0/1 [00:00<?, ?ba/s]"
      ]
     },
     "metadata": {},
     "output_type": "display_data"
    },
    {
     "data": {
      "application/vnd.jupyter.widget-view+json": {
       "model_id": "1f4a9981897e41e8a5494c607723e2da",
       "version_major": 2,
       "version_minor": 0
      },
      "text/plain": [
       "  0%|          | 0/1 [00:00<?, ?ba/s]"
      ]
     },
     "metadata": {},
     "output_type": "display_data"
    },
    {
     "data": {
      "application/vnd.jupyter.widget-view+json": {
       "model_id": "fb4494cc7c59413d8672f3b29f7f0edf",
       "version_major": 2,
       "version_minor": 0
      },
      "text/plain": [
       "  0%|          | 0/1 [00:00<?, ?ba/s]"
      ]
     },
     "metadata": {},
     "output_type": "display_data"
    },
    {
     "data": {
      "application/vnd.jupyter.widget-view+json": {
       "model_id": "ac4f87d2432249ddb23e5b0b24e2abe4",
       "version_major": 2,
       "version_minor": 0
      },
      "text/plain": [
       "  0%|          | 0/1 [00:00<?, ?ba/s]"
      ]
     },
     "metadata": {},
     "output_type": "display_data"
    },
    {
     "data": {
      "application/vnd.jupyter.widget-view+json": {
       "model_id": "e001f19438254c9fad7f452487b22dce",
       "version_major": 2,
       "version_minor": 0
      },
      "text/plain": [
       "  0%|          | 0/1 [00:00<?, ?ba/s]"
      ]
     },
     "metadata": {},
     "output_type": "display_data"
    },
    {
     "data": {
      "application/vnd.jupyter.widget-view+json": {
       "model_id": "fd0e46f3bf14424ba20b94c7123fc5f4",
       "version_major": 2,
       "version_minor": 0
      },
      "text/plain": [
       "  0%|          | 0/1 [00:00<?, ?ba/s]"
      ]
     },
     "metadata": {},
     "output_type": "display_data"
    },
    {
     "data": {
      "application/vnd.jupyter.widget-view+json": {
       "model_id": "d593b98c154f49069174ec32bd7b7e32",
       "version_major": 2,
       "version_minor": 0
      },
      "text/plain": [
       "  0%|          | 0/1 [00:00<?, ?ba/s]"
      ]
     },
     "metadata": {},
     "output_type": "display_data"
    },
    {
     "data": {
      "application/vnd.jupyter.widget-view+json": {
       "model_id": "bc98c9bf49004dc58f1ae60ee14693db",
       "version_major": 2,
       "version_minor": 0
      },
      "text/plain": [
       "Flattening the indices:   0%|          | 0/1 [00:00<?, ?ba/s]"
      ]
     },
     "metadata": {},
     "output_type": "display_data"
    },
    {
     "data": {
      "application/vnd.jupyter.widget-view+json": {
       "model_id": "7f8a50ea4a9d49eeaf29342806a8a32e",
       "version_major": 2,
       "version_minor": 0
      },
      "text/plain": [
       "Flattening the indices:   0%|          | 0/1 [00:00<?, ?ba/s]"
      ]
     },
     "metadata": {},
     "output_type": "display_data"
    },
    {
     "data": {
      "application/vnd.jupyter.widget-view+json": {
       "model_id": "7a480c1e17cc44e19dc126c40a59e40b",
       "version_major": 2,
       "version_minor": 0
      },
      "text/plain": [
       "Flattening the indices:   0%|          | 0/1 [00:00<?, ?ba/s]"
      ]
     },
     "metadata": {},
     "output_type": "display_data"
    },
    {
     "data": {
      "application/vnd.jupyter.widget-view+json": {
       "model_id": "377b2c9de2304f74a58bf1671eeadde1",
       "version_major": 2,
       "version_minor": 0
      },
      "text/plain": [
       "Flattening the indices:   0%|          | 0/1 [00:00<?, ?ba/s]"
      ]
     },
     "metadata": {},
     "output_type": "display_data"
    },
    {
     "data": {
      "application/vnd.jupyter.widget-view+json": {
       "model_id": "141ee1e840e04c8ca03d42f0dc8ddeeb",
       "version_major": 2,
       "version_minor": 0
      },
      "text/plain": [
       "Flattening the indices:   0%|          | 0/1 [00:00<?, ?ba/s]"
      ]
     },
     "metadata": {},
     "output_type": "display_data"
    },
    {
     "data": {
      "application/vnd.jupyter.widget-view+json": {
       "model_id": "fab3339fef4a4bf0965cebe90f471a70",
       "version_major": 2,
       "version_minor": 0
      },
      "text/plain": [
       "Flattening the indices:   0%|          | 0/1 [00:00<?, ?ba/s]"
      ]
     },
     "metadata": {},
     "output_type": "display_data"
    }
   ],
   "source": [
    "cfg_rt_small_ds = cfg.adjust_config_for_rotten_tomatoes_dataset().small_ds()\n",
    "ds = ProcessedDataset(cfg_rt_small_ds, vm_tokenizer, vm_model, pp_tokenizer, sts_model,\n",
    "                      load_processed_from_file=False)"
   ]
  },
  {
   "cell_type": "markdown",
   "metadata": {},
   "source": [
    "### Accessing datasets"
   ]
  },
  {
   "cell_type": "markdown",
   "metadata": {},
   "source": [
    "You can access raw data with `ds.dsd_raw` and processed data with the `ds.dsd_tkn`. (The dsd here stands for \"DatasetDict\")"
   ]
  },
  {
   "cell_type": "code",
   "execution_count": null,
   "metadata": {},
   "outputs": [],
   "source": [
    "ds.dsd_raw"
   ]
  },
  {
   "cell_type": "code",
   "execution_count": null,
   "metadata": {},
   "outputs": [],
   "source": [
    "ds.dsd_tkn"
   ]
  },
  {
   "cell_type": "markdown",
   "metadata": {},
   "source": [
    "You can access elements by indexing: "
   ]
  },
  {
   "cell_type": "code",
   "execution_count": null,
   "metadata": {},
   "outputs": [],
   "source": [
    "ds.dsd_raw['valid'][0:2]"
   ]
  },
  {
   "cell_type": "code",
   "execution_count": null,
   "metadata": {},
   "outputs": [],
   "source": [
    "ds.dsd_tkn['valid'][0:2]"
   ]
  },
  {
   "cell_type": "markdown",
   "metadata": {},
   "source": [
    "Alternately you can look at some random elements of a dataset with the `ds.show_random_elements()` method. "
   ]
  },
  {
   "cell_type": "code",
   "execution_count": null,
   "metadata": {},
   "outputs": [],
   "source": [
    "ds.show_random_elements(ds.dsd_raw['train'], num_examples=3)"
   ]
  },
  {
   "cell_type": "code",
   "execution_count": null,
   "metadata": {},
   "outputs": [],
   "source": [
    "ds.show_random_elements(ds.dsd_tkn['train'], num_examples=3)"
   ]
  },
  {
   "cell_type": "markdown",
   "metadata": {},
   "source": [
    "### Accessing DataLoaders "
   ]
  },
  {
   "cell_type": "markdown",
   "metadata": {},
   "source": [
    "We can access dataloaders for the raw text in `ds.dsd_raw` with `ds.dld_raw`, and for the tokenised text in `ds.dsd_tkn` with `ds_dld_tkn`. Both of these are dictionaries of dataloaders with keys `['train', 'valid', 'test', 'train_eval]`. "
   ]
  },
  {
   "cell_type": "code",
   "execution_count": null,
   "metadata": {},
   "outputs": [],
   "source": [
    "print(\"Dataloader dict has keys:\", ds.dld_raw.keys())\n",
    "batch_raw = next(iter(ds.dld_raw['train']))\n",
    "batch_tkn = next(iter(ds.dld_tkn['train']))\n",
    "print(batch_raw.keys())\n",
    "print(batch_tkn.keys())\n",
    "print(\"Tokenised input is of shape:\", batch_tkn['input_ids'].shape)"
   ]
  },
  {
   "cell_type": "markdown",
   "metadata": {},
   "source": [
    "#hide\n",
    "## Export "
   ]
  },
  {
   "cell_type": "code",
   "execution_count": null,
   "metadata": {},
   "outputs": [
    {
     "name": "stdout",
     "output_type": "stream",
     "text": [
      "Converted 00_utils.ipynb.\n",
      "Converted 02_tests.ipynb.\n",
      "Converted 03_config.ipynb.\n",
      "Converted 07_models.ipynb.\n",
      "Converted 10_data.ipynb.\n",
      "Converted 20_trainer.ipynb.\n",
      "Converted 30_logging.ipynb.\n",
      "Converted 35_charts.ipynb.\n",
      "Converted index.ipynb.\n",
      "Converted run.ipynb.\n"
     ]
    }
   ],
   "source": [
    "#hide\n",
    "from nbdev.export import notebook2script\n",
    "notebook2script()"
   ]
  },
  {
   "cell_type": "code",
   "execution_count": null,
   "metadata": {},
   "outputs": [],
   "source": []
  }
 ],
 "metadata": {
  "kernelspec": {
   "display_name": "Python 3",
   "language": "python",
   "name": "python3"
  }
 },
 "nbformat": 4,
 "nbformat_minor": 4
}
