{
 "cells": [
  {
   "cell_type": "code",
   "execution_count": null,
   "metadata": {},
   "outputs": [],
   "source": [
    "#default_exp data"
   ]
  },
  {
   "cell_type": "code",
   "execution_count": null,
   "metadata": {},
   "outputs": [
    {
     "name": "stdout",
     "output_type": "stream",
     "text": [
      "The autoreload extension is already loaded. To reload it, use:\n",
      "  %reload_ext autoreload\n",
      "The line_profiler extension is already loaded. To reload it, use:\n",
      "  %reload_ext line_profiler\n"
     ]
    }
   ],
   "source": [
    "#hide\n",
    "%load_ext autoreload\n",
    "%autoreload 2\n",
    "%load_ext line_profiler"
   ]
  },
  {
   "cell_type": "code",
   "execution_count": null,
   "metadata": {},
   "outputs": [],
   "source": [
    "#export\n",
    "import torch, random, pandas as pd\n",
    "from torch.utils.data import DataLoader, RandomSampler\n",
    "from datasets import load_dataset, load_from_disk, DatasetDict, ClassLabel\n",
    "from IPython.display import display, HTML\n",
    "from travis_attack.trainer import get_vm_probs\n",
    "from travis_attack.config import Config"
   ]
  },
  {
   "cell_type": "code",
   "execution_count": null,
   "metadata": {},
   "outputs": [],
   "source": [
    "#hide\n",
    "import inspect\n",
    "from IPython.core.debugger import set_trace"
   ]
  },
  {
   "cell_type": "markdown",
   "metadata": {},
   "source": [
    "# Preparing data"
   ]
  },
  {
   "cell_type": "markdown",
   "metadata": {},
   "source": [
    "## Classes "
   ]
  },
  {
   "cell_type": "markdown",
   "metadata": {},
   "source": [
    "### Base class"
   ]
  },
  {
   "cell_type": "code",
   "execution_count": null,
   "metadata": {},
   "outputs": [],
   "source": [
    "#export\n",
    "class ProcessedDataset: \n",
    "    \"\"\"Class that wraps a raw dataset (e.g. from huggingface datasets) and performs preprocessing on it.\"\"\"\n",
    "    def __init__(self, cfg,  vm_tokenizer, pp_tokenizer, vm_model, sts_model): \n",
    "        self._cfg,self._vm_tokenizer,self._pp_tokenizer,self._vm_model,self._sts_model = cfg,vm_tokenizer,pp_tokenizer,vm_model,sts_model\n",
    "        if   self._cfg.dataset_name == \"simple\":          self._prep_dsd_raw_simple()\n",
    "        elif self._cfg.dataset_name == \"rotten_tomatoes\": self._prep_dsd_raw_rotten_tomatoes()\n",
    "        else: raise Exception(\"cfg.dataset_name must be either 'simple' or 'rotten_tomatoes'\")\n",
    "        self._preprocess_dataset() \n",
    "            \n",
    "    def _prep_dsd_raw_simple(self): \n",
    "        \"\"\"Load the simple dataset and package it up in a DatasetDict (dsd) \n",
    "        with splits for train, valid, test.\"\"\"\n",
    "        self.dsd_raw = DatasetDict()\n",
    "        for s in self._cfg.splits:  \n",
    "            self.dsd_raw[s] = load_dataset('csv', data_files=f\"{self._cfg.path_data}simple_dataset_{s}.csv\")['train']    \n",
    "        \n",
    "    def _prep_dsd_raw_rotten_tomatoes(self):\n",
    "        \"\"\"Load the rotten tomatoes dataet and package it up in a DatasetDict (dsd) \n",
    "        with splits for train, valid, test.\"\"\"\n",
    "        self.dsd_raw = load_dataset(\"rotten_tomatoes\")\n",
    "        self.dsd_raw['valid'] = self.dsd_raw.pop('validation')  # \"valid\" is easier than \"validation\" \n",
    "        # make sure that all datasets have the same number of labels as what the victim model predicts\n",
    "        for _,ds in self.dsd_raw.items(): assert ds.features[self._cfg.label_cname].num_classes == self._cfg.vm_num_labels \n",
    "\n",
    "    def _prep_dsd_raw_snli(self): \n",
    "        ## For snli\n",
    "        # remove_minus1_labels = lambda x: x[label_cname] != -1\n",
    "        # ds_train = ds_train.filter(remove_minus1_labels)\n",
    "        # valid = valid.filter(remove_minus1_labels)\n",
    "        # test = test.filter(remove_minus1_labels)\n",
    "        raise NotImplementedError(\"SNLI not implemented yet.\")\n",
    "    \n",
    "    def _preprocess_dataset(self): \n",
    "        \"\"\"Add columns, tokenize, transform, prepare dataloaders, and do other preprocessing tasks.\"\"\"\n",
    "        ##### TODO: why do you need train_eval? how is it different from train?\n",
    "        dsd = self.dsd_raw.map(self._add_idx, batched=True, with_indices=True)  # add idx column\n",
    "        if self._cfg.use_small_ds: dsd = self._prep_small_ds(dsd)  # do after adding idx so it's consistent across runs\n",
    "        dsd = dsd.map(self._add_vm_orig_score, batched=True)  # add VM score\n",
    "        if self._cfg.remove_misclassified_examples: dsd = dsd.filter(lambda x: x['orig_vm_predclass'] == x['label']) \n",
    "        dsd = dsd.map(self._add_sts_orig_embeddings, batched=True)  # add STS score \n",
    "        dsd = dsd.map(self._tokenize_fn,             batched=True)  # tokenize\n",
    "        dsd = dsd.map(self._add_n_tokens,            batched=True)  # add n_tokens\n",
    "        if self._cfg.bucket_by_length: dsd = dsd.sort(\"n_tokens\", reverse=True)  # sort by n_tokens (high to low), useful for cuda memory caching\n",
    "        self.dld_raw = self._get_dataloaders_dict(dsd, collate_fn=self._collate_fn_raw)  # dict of data loaders that serve raw text\n",
    "        self.dld_tkn = self._get_dataloaders_dict(dsd, collate_fn=self._collate_fn_tkn)  # dict of data loaders that serve tokenized text\n",
    "        self.dsd_tkn = dsd \n",
    "        \n",
    "    def _add_idx(self, batch, idx):\n",
    "        \"\"\"Add row numbers\"\"\"\n",
    "        batch['idx'] = idx \n",
    "        return batch   \n",
    "    \n",
    "    def _add_n_tokens(self, batch): \n",
    "        \"\"\"Add the number of tokens of the orig text \"\"\"\n",
    "        batch['n_tokens'] = [len(o) for o in batch['input_ids']]\n",
    "        return batch \n",
    "    \n",
    "    def _add_sts_orig_embeddings(self, batch): \n",
    "        \"\"\"Add the sts embeddings of the orig text\"\"\"\n",
    "        batch['orig_sts_embeddings'] = self._sts_model.encode(batch[self._cfg.orig_cname], batch_size=64, convert_to_tensor=False)\n",
    "        return batch\n",
    "    \n",
    "    def _add_vm_orig_score(self, batch): \n",
    "        \"\"\"Add the vm score of the orig text\"\"\"\n",
    "        labels = torch.tensor(batch[cfg.label_cname], device=self._cfg.device)\n",
    "        orig_probs,orig_predclass = get_vm_probs(batch[self._cfg.orig_cname], self._cfg, self._vm_tokenizer,\n",
    "                                                 self._vm_model, return_predclass=True)\n",
    "        batch['orig_truelabel_probs'] = torch.gather(orig_probs,1, labels[:,None]).squeeze().cpu().tolist()\n",
    "        batch['orig_vm_predclass'] = orig_predclass.cpu().tolist()\n",
    "        return batch\n",
    "    \n",
    "    def _tokenize_fn(self, batch):  \n",
    "        \"\"\"Tokenize a batch of orig text using the paraphrase tokenizer.\"\"\"\n",
    "        return self._pp_tokenizer(batch[self._cfg.orig_cname], truncation=True, max_length=self._cfg.orig_max_length)  \n",
    "    \n",
    "    def _collate_fn_tkn(self, x): \n",
    "        \"\"\"Collate function used by the DataLoader that serves tokenized data.\"\"\"\n",
    "        d = dict()\n",
    "        for k in ['idx', 'attention_mask', 'input_ids', 'label', 'orig_truelabel_probs', 'orig_sts_embeddings']: \n",
    "            d[k] = [o[k] for o in x]\n",
    "        return self._pp_tokenizer.pad(d, pad_to_multiple_of=self._cfg.orig_padding_multiple, return_tensors=\"pt\")\n",
    "\n",
    "    def _collate_fn_raw(self, x): \n",
    "        \"\"\"Collate function used by the DataLoader that serves raw data.\"\"\"\n",
    "        d = dict()\n",
    "        for k in [cfg.orig_cname, 'idx']: d[k] = [o[k] for o in x]\n",
    "        return d \n",
    "\n",
    "    def _get_sampler(self, ds): \n",
    "        \"\"\"Returns a RandomSampler. Used so we can keep the same shuffle order across multiple data loaders.\n",
    "        Used when self._cfg.shuffle_train = True\"\"\"\n",
    "        g = torch.Generator()\n",
    "        g.manual_seed(seed)\n",
    "        return RandomSampler(ds, generator=g)\n",
    "    \n",
    "    def _prep_small_ds(self, dsd):\n",
    "        \"\"\"Replaces a datasetdict with a smaller shard of itself.\"\"\"\n",
    "        for k,v in dsd.items():  \n",
    "            dsd[k] = v.shard(self._cfg.n_shards, 0, contiguous=self._cfg.shard_contiguous)\n",
    "        return dsd\n",
    "        \n",
    "    def _get_dataloaders_dict(self, dsd, collate_fn): \n",
    "        \"\"\"Prepare a dict of dataloaders for train, valid and test\"\"\"\n",
    "        if self._cfg.bucket_by_length and self._cfg.shuffle_train:  raise Exception(\"Can only do one of bucket by length or shuffle\")\n",
    "        d = dict()\n",
    "        for split, ds in dsd.items(): \n",
    "            if self._cfg.shuffle_train:\n",
    "                if split == \"train\": \n",
    "                    sampler = self.get_sampler(ds)\n",
    "                    d[split] =  DataLoader(ds, batch_size=self._cfg.batch_size_train, \n",
    "                                           sampler=sampler, collate_fn=collate_fn, \n",
    "                                           num_workers=self._cfg.n_wkrs, pin_memory=self._cfg.pin_memory) \n",
    "                else: \n",
    "                    d[split] =  DataLoader(ds, batch_size=self._cfg.batch_size_eval, \n",
    "                                           shuffle=False, collate_fn=collate_fn, \n",
    "                                           num_workers=self._cfg.n_wkrs, pin_memory=self._cfg.pin_memory) \n",
    "            if self._cfg.bucket_by_length: \n",
    "                batch_size = self._cfg.batch_size_train if split == \"train\" else self._cfg.batch_size_eval\n",
    "                d[split] =  DataLoader(ds, batch_size=batch_size, shuffle=False, collate_fn=collate_fn, \n",
    "                                       num_workers=self._cfg.n_wkrs, pin_memory=self._cfg.pin_memory) \n",
    "\n",
    "        # Add eval dataloader for train \n",
    "        d['train_eval'] = DataLoader(dsd['train'], batch_size=self._cfg.batch_size_eval, shuffle=False,\n",
    "                                    collate_fn=collate_fn, \n",
    "                                     num_workers=self._cfg.n_wkrs, pin_memory=self._cfg.pin_memory) \n",
    "        return d \n",
    "    \n",
    "    def show_random_elements(self, ds, num_examples=10):\n",
    "        \"\"\"Print some elements in a nice format so you can take a look at them. \n",
    "        Split is one of 'train', 'test', 'valid'. \n",
    "        Use for a dataset `ds` from the `dataset` package.  \"\"\"\n",
    "        assert num_examples <= len(ds), \"Can't pick more elements than there are in the dataset.\"\n",
    "        picks = []\n",
    "        for _ in range(num_examples):\n",
    "            pick = random.randint(0, len(ds)-1)\n",
    "            while pick in picks:\n",
    "                pick = random.randint(0, len(ds)-1)\n",
    "            picks.append(pick)\n",
    "        df = pd.DataFrame(ds[picks])\n",
    "        for column, typ in ds.features.items():\n",
    "            if isinstance(typ, ClassLabel):\n",
    "                df[column] = df[column].transform(lambda i: typ.names[i])\n",
    "        display(HTML(df.to_html()))"
   ]
  },
  {
   "cell_type": "markdown",
   "metadata": {},
   "source": [
    "## Usage "
   ]
  },
  {
   "cell_type": "markdown",
   "metadata": {},
   "source": [
    "### Basics "
   ]
  },
  {
   "cell_type": "markdown",
   "metadata": {},
   "source": [
    "Here we have defined a class `ProcessedDataset` that will load and preprocess a dataset. But before processing the dataset you must load both the config object and all models/tokenizers, so we do this first. "
   ]
  },
  {
   "cell_type": "code",
   "execution_count": null,
   "metadata": {},
   "outputs": [],
   "source": [
    "from travis_attack.models import prepare_models\n",
    "cfg = Config()\n",
    "vm_tokenizer, vm_model, pp_tokenizer, pp_model, sts_model, cfg = prepare_models(cfg)"
   ]
  },
  {
   "cell_type": "markdown",
   "metadata": {},
   "source": [
    "Currently there are two choices for dataset: \n",
    "\n",
    "* `simple`, a dataset of simple sentences with four elements each in the train, test and valid splits\n",
    "* `rotten_tomatoes`, a dataset of movie reviews scraped from the Rotten Tomatoes site. \n",
    "\n",
    "The dataset is specified by the config class. There are two ways to do this. \n",
    "\n",
    "1. Edit the `self.dataset_name` variable in the Config class to either `simple` or `rotten_tomatoes`. An error will be thrown if the name is not one of these two. This is the best way to use when doing runs.   \n",
    "2. Use the `adjust_dataset_...` methods of the config class: e.g. `cfg = cfg.adjust_dataset_for_rotten_tomatoes_dataset() = Config()`. This is easiest for automated testing so we will do this here. "
   ]
  },
  {
   "cell_type": "markdown",
   "metadata": {},
   "source": [
    "Once the config is specified and loaded, create an object of class `ProcessedDataset` by passing the config, models and tokenizers as variables. This will do all preprocessing automatically in creating the object (the preprocessing code is in the `__init__()` function of the class.  "
   ]
  },
  {
   "cell_type": "code",
   "execution_count": null,
   "metadata": {},
   "outputs": [
    {
     "name": "stderr",
     "output_type": "stream",
     "text": [
      "Using custom data configuration default-b253756c445fb811\n",
      "Reusing dataset csv (/data/tproth/.cache/huggingface/datasets/csv/default-b253756c445fb811/0.0.0/bf68a4c4aefa545d0712b2fcbb1b327f905bbe2f6425fbc5e8c25234acb9e14a)\n"
     ]
    },
    {
     "data": {
      "application/vnd.jupyter.widget-view+json": {
       "model_id": "76563ffe07e64cd29f3bbd4ac3c8ac17",
       "version_major": 2,
       "version_minor": 0
      },
      "text/plain": [
       "  0%|          | 0/1 [00:00<?, ?it/s]"
      ]
     },
     "metadata": {},
     "output_type": "display_data"
    },
    {
     "name": "stderr",
     "output_type": "stream",
     "text": [
      "Using custom data configuration default-c802946231f72062\n",
      "Reusing dataset csv (/data/tproth/.cache/huggingface/datasets/csv/default-c802946231f72062/0.0.0/bf68a4c4aefa545d0712b2fcbb1b327f905bbe2f6425fbc5e8c25234acb9e14a)\n"
     ]
    },
    {
     "data": {
      "application/vnd.jupyter.widget-view+json": {
       "model_id": "c1fbce631cd64be6aeb17481a73f7cb6",
       "version_major": 2,
       "version_minor": 0
      },
      "text/plain": [
       "  0%|          | 0/1 [00:00<?, ?it/s]"
      ]
     },
     "metadata": {},
     "output_type": "display_data"
    },
    {
     "name": "stderr",
     "output_type": "stream",
     "text": [
      "Using custom data configuration default-43a49c5188c42e69\n",
      "Reusing dataset csv (/data/tproth/.cache/huggingface/datasets/csv/default-43a49c5188c42e69/0.0.0/bf68a4c4aefa545d0712b2fcbb1b327f905bbe2f6425fbc5e8c25234acb9e14a)\n"
     ]
    },
    {
     "data": {
      "application/vnd.jupyter.widget-view+json": {
       "model_id": "202c8145b08a4247a9d5a78a4ea14e16",
       "version_major": 2,
       "version_minor": 0
      },
      "text/plain": [
       "  0%|          | 0/1 [00:00<?, ?it/s]"
      ]
     },
     "metadata": {},
     "output_type": "display_data"
    },
    {
     "data": {
      "application/vnd.jupyter.widget-view+json": {
       "model_id": "8b7cbacd0a8f4d029a91a5bfe0c25706",
       "version_major": 2,
       "version_minor": 0
      },
      "text/plain": [
       "  0%|          | 0/1 [00:00<?, ?ba/s]"
      ]
     },
     "metadata": {},
     "output_type": "display_data"
    },
    {
     "data": {
      "application/vnd.jupyter.widget-view+json": {
       "model_id": "8fbeaabb4f584d68abfc4ae592b6c144",
       "version_major": 2,
       "version_minor": 0
      },
      "text/plain": [
       "  0%|          | 0/1 [00:00<?, ?ba/s]"
      ]
     },
     "metadata": {},
     "output_type": "display_data"
    },
    {
     "data": {
      "application/vnd.jupyter.widget-view+json": {
       "model_id": "2f18ac854b8948f6a8d27b1404c202d9",
       "version_major": 2,
       "version_minor": 0
      },
      "text/plain": [
       "  0%|          | 0/1 [00:00<?, ?ba/s]"
      ]
     },
     "metadata": {},
     "output_type": "display_data"
    },
    {
     "data": {
      "application/vnd.jupyter.widget-view+json": {
       "model_id": "4e04618b6a984bf8bc0a3bf56cd67452",
       "version_major": 2,
       "version_minor": 0
      },
      "text/plain": [
       "  0%|          | 0/1 [00:00<?, ?ba/s]"
      ]
     },
     "metadata": {},
     "output_type": "display_data"
    },
    {
     "data": {
      "application/vnd.jupyter.widget-view+json": {
       "model_id": "d5d2965d3484443bb39336d9731ac959",
       "version_major": 2,
       "version_minor": 0
      },
      "text/plain": [
       "  0%|          | 0/1 [00:00<?, ?ba/s]"
      ]
     },
     "metadata": {},
     "output_type": "display_data"
    },
    {
     "data": {
      "application/vnd.jupyter.widget-view+json": {
       "model_id": "04122a3b83b44ebfbc152d094724708d",
       "version_major": 2,
       "version_minor": 0
      },
      "text/plain": [
       "  0%|          | 0/1 [00:00<?, ?ba/s]"
      ]
     },
     "metadata": {},
     "output_type": "display_data"
    },
    {
     "data": {
      "application/vnd.jupyter.widget-view+json": {
       "model_id": "17c08b740f634e9188bdc9189a2857c4",
       "version_major": 2,
       "version_minor": 0
      },
      "text/plain": [
       "  0%|          | 0/1 [00:00<?, ?ba/s]"
      ]
     },
     "metadata": {},
     "output_type": "display_data"
    },
    {
     "data": {
      "application/vnd.jupyter.widget-view+json": {
       "model_id": "7b16b78a21c945cabbbd231e68bdc9b4",
       "version_major": 2,
       "version_minor": 0
      },
      "text/plain": [
       "  0%|          | 0/1 [00:00<?, ?ba/s]"
      ]
     },
     "metadata": {},
     "output_type": "display_data"
    },
    {
     "data": {
      "application/vnd.jupyter.widget-view+json": {
       "model_id": "3afd3904b8524d7492a1fbb2c869da50",
       "version_major": 2,
       "version_minor": 0
      },
      "text/plain": [
       "  0%|          | 0/1 [00:00<?, ?ba/s]"
      ]
     },
     "metadata": {},
     "output_type": "display_data"
    },
    {
     "data": {
      "application/vnd.jupyter.widget-view+json": {
       "model_id": "60090f4308fa49d0aef159e8d131f439",
       "version_major": 2,
       "version_minor": 0
      },
      "text/plain": [
       "  0%|          | 0/1 [00:00<?, ?ba/s]"
      ]
     },
     "metadata": {},
     "output_type": "display_data"
    },
    {
     "data": {
      "application/vnd.jupyter.widget-view+json": {
       "model_id": "0771f197a296458885cad006c0c24ff0",
       "version_major": 2,
       "version_minor": 0
      },
      "text/plain": [
       "  0%|          | 0/1 [00:00<?, ?ba/s]"
      ]
     },
     "metadata": {},
     "output_type": "display_data"
    },
    {
     "data": {
      "application/vnd.jupyter.widget-view+json": {
       "model_id": "273ee96fd9ee47858f3977e58980a606",
       "version_major": 2,
       "version_minor": 0
      },
      "text/plain": [
       "  0%|          | 0/1 [00:00<?, ?ba/s]"
      ]
     },
     "metadata": {},
     "output_type": "display_data"
    },
    {
     "data": {
      "application/vnd.jupyter.widget-view+json": {
       "model_id": "9074f02b0dc94c7281e89df1fefd9afc",
       "version_major": 2,
       "version_minor": 0
      },
      "text/plain": [
       "  0%|          | 0/1 [00:00<?, ?ba/s]"
      ]
     },
     "metadata": {},
     "output_type": "display_data"
    },
    {
     "data": {
      "application/vnd.jupyter.widget-view+json": {
       "model_id": "e3ba4a4127dd40c5a65ab91424dd8dfb",
       "version_major": 2,
       "version_minor": 0
      },
      "text/plain": [
       "  0%|          | 0/1 [00:00<?, ?ba/s]"
      ]
     },
     "metadata": {},
     "output_type": "display_data"
    },
    {
     "data": {
      "application/vnd.jupyter.widget-view+json": {
       "model_id": "7d378e1e554348f095cd4e39fc65b0ec",
       "version_major": 2,
       "version_minor": 0
      },
      "text/plain": [
       "  0%|          | 0/1 [00:00<?, ?ba/s]"
      ]
     },
     "metadata": {},
     "output_type": "display_data"
    },
    {
     "data": {
      "application/vnd.jupyter.widget-view+json": {
       "model_id": "f8198fc366744a0e8d5a1e77b125ac96",
       "version_major": 2,
       "version_minor": 0
      },
      "text/plain": [
       "  0%|          | 0/1 [00:00<?, ?ba/s]"
      ]
     },
     "metadata": {},
     "output_type": "display_data"
    },
    {
     "data": {
      "application/vnd.jupyter.widget-view+json": {
       "model_id": "d4915799c70c4bf7b97e688cec1e5f90",
       "version_major": 2,
       "version_minor": 0
      },
      "text/plain": [
       "  0%|          | 0/1 [00:00<?, ?ba/s]"
      ]
     },
     "metadata": {},
     "output_type": "display_data"
    },
    {
     "data": {
      "application/vnd.jupyter.widget-view+json": {
       "model_id": "deb5fa208e294ad2ab82188bccee0d2c",
       "version_major": 2,
       "version_minor": 0
      },
      "text/plain": [
       "  0%|          | 0/1 [00:00<?, ?ba/s]"
      ]
     },
     "metadata": {},
     "output_type": "display_data"
    }
   ],
   "source": [
    "cfg_simple = cfg.adjust_config_for_simple_dataset()\n",
    "ds = ProcessedDataset(cfg_simple,  vm_tokenizer, pp_tokenizer, vm_model, sts_model)"
   ]
  },
  {
   "cell_type": "markdown",
   "metadata": {},
   "source": [
    "If you want to use the small dataset adjust the config before creating the `ProcessedDataset` object. "
   ]
  },
  {
   "cell_type": "code",
   "execution_count": null,
   "metadata": {},
   "outputs": [
    {
     "name": "stderr",
     "output_type": "stream",
     "text": [
      "Using custom data configuration default\n",
      "Reusing dataset rotten_tomatoes_movie_review (/data/tproth/.cache/huggingface/datasets/rotten_tomatoes_movie_review/default/1.0.0/e06abb624abab47e1a64608fdfe65a913f5a68c66118408032644a3285208fb5)\n"
     ]
    },
    {
     "data": {
      "application/vnd.jupyter.widget-view+json": {
       "model_id": "f359856dc77442428268a5c1b5858681",
       "version_major": 2,
       "version_minor": 0
      },
      "text/plain": [
       "  0%|          | 0/3 [00:00<?, ?it/s]"
      ]
     },
     "metadata": {},
     "output_type": "display_data"
    },
    {
     "data": {
      "application/vnd.jupyter.widget-view+json": {
       "model_id": "6265337bd3f248e192503a36b40899f8",
       "version_major": 2,
       "version_minor": 0
      },
      "text/plain": [
       "  0%|          | 0/9 [00:00<?, ?ba/s]"
      ]
     },
     "metadata": {},
     "output_type": "display_data"
    },
    {
     "data": {
      "application/vnd.jupyter.widget-view+json": {
       "model_id": "d7d66fe6e93d4b33a47b9127f039c4d0",
       "version_major": 2,
       "version_minor": 0
      },
      "text/plain": [
       "  0%|          | 0/2 [00:00<?, ?ba/s]"
      ]
     },
     "metadata": {},
     "output_type": "display_data"
    },
    {
     "data": {
      "application/vnd.jupyter.widget-view+json": {
       "model_id": "1d3238a5909b418190dfe2bac7357af6",
       "version_major": 2,
       "version_minor": 0
      },
      "text/plain": [
       "  0%|          | 0/2 [00:00<?, ?ba/s]"
      ]
     },
     "metadata": {},
     "output_type": "display_data"
    },
    {
     "data": {
      "application/vnd.jupyter.widget-view+json": {
       "model_id": "e327f20cddd5492c998782b0ae8b58c8",
       "version_major": 2,
       "version_minor": 0
      },
      "text/plain": [
       "  0%|          | 0/9 [00:00<?, ?ba/s]"
      ]
     },
     "metadata": {},
     "output_type": "display_data"
    },
    {
     "data": {
      "application/vnd.jupyter.widget-view+json": {
       "model_id": "b106641267cc49dca822cc2c4b8bda59",
       "version_major": 2,
       "version_minor": 0
      },
      "text/plain": [
       "  0%|          | 0/2 [00:00<?, ?ba/s]"
      ]
     },
     "metadata": {},
     "output_type": "display_data"
    },
    {
     "data": {
      "application/vnd.jupyter.widget-view+json": {
       "model_id": "c87f9df199844ba0bb25e7ed76f9e48d",
       "version_major": 2,
       "version_minor": 0
      },
      "text/plain": [
       "  0%|          | 0/2 [00:00<?, ?ba/s]"
      ]
     },
     "metadata": {},
     "output_type": "display_data"
    },
    {
     "data": {
      "application/vnd.jupyter.widget-view+json": {
       "model_id": "abb9240c4ad74a44864a703f352396a5",
       "version_major": 2,
       "version_minor": 0
      },
      "text/plain": [
       "  0%|          | 0/9 [00:00<?, ?ba/s]"
      ]
     },
     "metadata": {},
     "output_type": "display_data"
    },
    {
     "data": {
      "application/vnd.jupyter.widget-view+json": {
       "model_id": "a888e72dedf044a0a0be990b8e5be6c0",
       "version_major": 2,
       "version_minor": 0
      },
      "text/plain": [
       "  0%|          | 0/2 [00:00<?, ?ba/s]"
      ]
     },
     "metadata": {},
     "output_type": "display_data"
    },
    {
     "data": {
      "application/vnd.jupyter.widget-view+json": {
       "model_id": "da7bb8fa855a47b18a740a020fd3f4ae",
       "version_major": 2,
       "version_minor": 0
      },
      "text/plain": [
       "  0%|          | 0/2 [00:00<?, ?ba/s]"
      ]
     },
     "metadata": {},
     "output_type": "display_data"
    },
    {
     "data": {
      "application/vnd.jupyter.widget-view+json": {
       "model_id": "19d6095d54c14c079764ddeb16960829",
       "version_major": 2,
       "version_minor": 0
      },
      "text/plain": [
       "  0%|          | 0/8 [00:00<?, ?ba/s]"
      ]
     },
     "metadata": {},
     "output_type": "display_data"
    },
    {
     "data": {
      "application/vnd.jupyter.widget-view+json": {
       "model_id": "e68850e2fdd44dd18061a43b2cc9a4ed",
       "version_major": 2,
       "version_minor": 0
      },
      "text/plain": [
       "  0%|          | 0/1 [00:00<?, ?ba/s]"
      ]
     },
     "metadata": {},
     "output_type": "display_data"
    },
    {
     "data": {
      "application/vnd.jupyter.widget-view+json": {
       "model_id": "ce7c4a5f779343c1b7ca867a9243bac4",
       "version_major": 2,
       "version_minor": 0
      },
      "text/plain": [
       "  0%|          | 0/1 [00:00<?, ?ba/s]"
      ]
     },
     "metadata": {},
     "output_type": "display_data"
    },
    {
     "data": {
      "application/vnd.jupyter.widget-view+json": {
       "model_id": "0db275795f3643ed9a3b1d8e1716914c",
       "version_major": 2,
       "version_minor": 0
      },
      "text/plain": [
       "  0%|          | 0/8 [00:00<?, ?ba/s]"
      ]
     },
     "metadata": {},
     "output_type": "display_data"
    },
    {
     "data": {
      "application/vnd.jupyter.widget-view+json": {
       "model_id": "caf1b1f47eee419aad7fee75877184f8",
       "version_major": 2,
       "version_minor": 0
      },
      "text/plain": [
       "  0%|          | 0/1 [00:00<?, ?ba/s]"
      ]
     },
     "metadata": {},
     "output_type": "display_data"
    },
    {
     "data": {
      "application/vnd.jupyter.widget-view+json": {
       "model_id": "fc72d4fd3c4f49b580b3a47998828ef7",
       "version_major": 2,
       "version_minor": 0
      },
      "text/plain": [
       "  0%|          | 0/1 [00:00<?, ?ba/s]"
      ]
     },
     "metadata": {},
     "output_type": "display_data"
    },
    {
     "data": {
      "application/vnd.jupyter.widget-view+json": {
       "model_id": "0324cac4fd034df9853f8aa11bbbe69e",
       "version_major": 2,
       "version_minor": 0
      },
      "text/plain": [
       "  0%|          | 0/8 [00:00<?, ?ba/s]"
      ]
     },
     "metadata": {},
     "output_type": "display_data"
    },
    {
     "data": {
      "application/vnd.jupyter.widget-view+json": {
       "model_id": "7eb162ee6eb34eeaa3291b35be0b29b8",
       "version_major": 2,
       "version_minor": 0
      },
      "text/plain": [
       "  0%|          | 0/1 [00:00<?, ?ba/s]"
      ]
     },
     "metadata": {},
     "output_type": "display_data"
    },
    {
     "data": {
      "application/vnd.jupyter.widget-view+json": {
       "model_id": "1faebff2454b4f9393f33383f78c22fd",
       "version_major": 2,
       "version_minor": 0
      },
      "text/plain": [
       "  0%|          | 0/1 [00:00<?, ?ba/s]"
      ]
     },
     "metadata": {},
     "output_type": "display_data"
    }
   ],
   "source": [
    "cfg_rt_small_ds = cfg.adjust_config_for_rotten_tomatoes_dataset()\n",
    "ds = ProcessedDataset(cfg_rt_small_ds,  vm_tokenizer, pp_tokenizer, vm_model, sts_model)"
   ]
  },
  {
   "cell_type": "markdown",
   "metadata": {},
   "source": [
    "### Accessing datasets"
   ]
  },
  {
   "cell_type": "markdown",
   "metadata": {},
   "source": [
    "You can access raw data with `ds.dsd_raw` and processed data with the `ds.dsd_tkn`. (The dsd here stands for \"DatasetDict\")"
   ]
  },
  {
   "cell_type": "code",
   "execution_count": null,
   "metadata": {},
   "outputs": [
    {
     "data": {
      "text/plain": [
       "DatasetDict({\n",
       "    train: Dataset({\n",
       "        features: ['text', 'label'],\n",
       "        num_rows: 8530\n",
       "    })\n",
       "    test: Dataset({\n",
       "        features: ['text', 'label'],\n",
       "        num_rows: 1066\n",
       "    })\n",
       "    valid: Dataset({\n",
       "        features: ['text', 'label'],\n",
       "        num_rows: 1066\n",
       "    })\n",
       "})"
      ]
     },
     "execution_count": null,
     "metadata": {},
     "output_type": "execute_result"
    }
   ],
   "source": [
    "ds.dsd_raw"
   ]
  },
  {
   "cell_type": "code",
   "execution_count": null,
   "metadata": {},
   "outputs": [
    {
     "data": {
      "text/plain": [
       "DatasetDict({\n",
       "    train: Dataset({\n",
       "        features: ['attention_mask', 'idx', 'input_ids', 'label', 'n_tokens', 'orig_sts_embeddings', 'orig_truelabel_probs', 'orig_vm_predclass', 'text'],\n",
       "        num_rows: 7443\n",
       "    })\n",
       "    test: Dataset({\n",
       "        features: ['attention_mask', 'idx', 'input_ids', 'label', 'n_tokens', 'orig_sts_embeddings', 'orig_truelabel_probs', 'orig_vm_predclass', 'text'],\n",
       "        num_rows: 889\n",
       "    })\n",
       "    valid: Dataset({\n",
       "        features: ['attention_mask', 'idx', 'input_ids', 'label', 'n_tokens', 'orig_sts_embeddings', 'orig_truelabel_probs', 'orig_vm_predclass', 'text'],\n",
       "        num_rows: 895\n",
       "    })\n",
       "})"
      ]
     },
     "execution_count": null,
     "metadata": {},
     "output_type": "execute_result"
    }
   ],
   "source": [
    "ds.dsd_tkn"
   ]
  },
  {
   "cell_type": "markdown",
   "metadata": {},
   "source": [
    "You can access elements by indexing: "
   ]
  },
  {
   "cell_type": "code",
   "execution_count": null,
   "metadata": {},
   "outputs": [
    {
     "data": {
      "text/plain": [
       "{'text': ['compassionately explores the seemingly irreconcilable situation between conservative christian parents and their estranged gay and lesbian children .',\n",
       "  'the soundtrack alone is worth the price of admission .'],\n",
       " 'label': [1, 1]}"
      ]
     },
     "execution_count": null,
     "metadata": {},
     "output_type": "execute_result"
    }
   ],
   "source": [
    "ds.dsd_raw['valid'][0:2]"
   ]
  },
  {
   "cell_type": "code",
   "execution_count": null,
   "metadata": {},
   "outputs": [
    {
     "data": {
      "text/plain": [
       "{'attention_mask': [[1,\n",
       "   1,\n",
       "   1,\n",
       "   1,\n",
       "   1,\n",
       "   1,\n",
       "   1,\n",
       "   1,\n",
       "   1,\n",
       "   1,\n",
       "   1,\n",
       "   1,\n",
       "   1,\n",
       "   1,\n",
       "   1,\n",
       "   1,\n",
       "   1,\n",
       "   1,\n",
       "   1,\n",
       "   1,\n",
       "   1,\n",
       "   1,\n",
       "   1,\n",
       "   1,\n",
       "   1,\n",
       "   1,\n",
       "   1,\n",
       "   1,\n",
       "   1,\n",
       "   1,\n",
       "   1,\n",
       "   1,\n",
       "   1,\n",
       "   1,\n",
       "   1,\n",
       "   1,\n",
       "   1,\n",
       "   1,\n",
       "   1,\n",
       "   1,\n",
       "   1,\n",
       "   1,\n",
       "   1,\n",
       "   1,\n",
       "   1,\n",
       "   1,\n",
       "   1,\n",
       "   1,\n",
       "   1,\n",
       "   1,\n",
       "   1,\n",
       "   1,\n",
       "   1,\n",
       "   1,\n",
       "   1,\n",
       "   1,\n",
       "   1,\n",
       "   1,\n",
       "   1,\n",
       "   1,\n",
       "   1],\n",
       "  [1,\n",
       "   1,\n",
       "   1,\n",
       "   1,\n",
       "   1,\n",
       "   1,\n",
       "   1,\n",
       "   1,\n",
       "   1,\n",
       "   1,\n",
       "   1,\n",
       "   1,\n",
       "   1,\n",
       "   1,\n",
       "   1,\n",
       "   1,\n",
       "   1,\n",
       "   1,\n",
       "   1,\n",
       "   1,\n",
       "   1,\n",
       "   1,\n",
       "   1,\n",
       "   1,\n",
       "   1,\n",
       "   1,\n",
       "   1,\n",
       "   1,\n",
       "   1,\n",
       "   1,\n",
       "   1,\n",
       "   1,\n",
       "   1,\n",
       "   1,\n",
       "   1,\n",
       "   1,\n",
       "   1,\n",
       "   1,\n",
       "   1,\n",
       "   1,\n",
       "   1,\n",
       "   1,\n",
       "   1,\n",
       "   1,\n",
       "   1,\n",
       "   1,\n",
       "   1,\n",
       "   1,\n",
       "   1,\n",
       "   1,\n",
       "   1,\n",
       "   1,\n",
       "   1,\n",
       "   1,\n",
       "   1,\n",
       "   1,\n",
       "   1,\n",
       "   1,\n",
       "   1,\n",
       "   1,\n",
       "   1]],\n",
       " 'idx': [1028, 407],\n",
       " 'input_ids': [[0,\n",
       "   627,\n",
       "   1569,\n",
       "   18,\n",
       "   934,\n",
       "   23485,\n",
       "   283,\n",
       "   31,\n",
       "   1782,\n",
       "   320,\n",
       "   295,\n",
       "   219,\n",
       "   6195,\n",
       "   4626,\n",
       "   859,\n",
       "   1236,\n",
       "   922,\n",
       "   5810,\n",
       "   859,\n",
       "   2084,\n",
       "   605,\n",
       "   354,\n",
       "   816,\n",
       "   10,\n",
       "   6740,\n",
       "   12,\n",
       "   1116,\n",
       "   12,\n",
       "   627,\n",
       "   12,\n",
       "   25581,\n",
       "   3795,\n",
       "   4783,\n",
       "   1440,\n",
       "   5251,\n",
       "   7468,\n",
       "   8,\n",
       "   2494,\n",
       "   11875,\n",
       "   1504,\n",
       "   5853,\n",
       "   18857,\n",
       "   4842,\n",
       "   11,\n",
       "   10,\n",
       "   10861,\n",
       "   29478,\n",
       "   117,\n",
       "   25031,\n",
       "   5179,\n",
       "   1722,\n",
       "   14102,\n",
       "   12111,\n",
       "   2792,\n",
       "   74,\n",
       "   655,\n",
       "   860,\n",
       "   7,\n",
       "   1331,\n",
       "   479,\n",
       "   2],\n",
       "  [0,\n",
       "   113,\n",
       "   15,\n",
       "   2510,\n",
       "   27785,\n",
       "   22,\n",
       "   351,\n",
       "   75,\n",
       "   28,\n",
       "   2325,\n",
       "   11,\n",
       "   5,\n",
       "   16259,\n",
       "   37254,\n",
       "   9,\n",
       "   5,\n",
       "   275,\n",
       "   9,\n",
       "   5,\n",
       "   3514,\n",
       "   1671,\n",
       "   28777,\n",
       "   7906,\n",
       "   53,\n",
       "   24,\n",
       "   16,\n",
       "   10,\n",
       "   1086,\n",
       "   319,\n",
       "   9,\n",
       "   1531,\n",
       "   8,\n",
       "   47,\n",
       "   120,\n",
       "   7,\n",
       "   192,\n",
       "   5,\n",
       "   65,\n",
       "   9,\n",
       "   5,\n",
       "   232,\n",
       "   18,\n",
       "   275,\n",
       "   5552,\n",
       "   2156,\n",
       "   385,\n",
       "   35947,\n",
       "   10,\n",
       "   4467,\n",
       "   257,\n",
       "   718,\n",
       "   2156,\n",
       "   33,\n",
       "   10,\n",
       "   17840,\n",
       "   9,\n",
       "   10,\n",
       "   205,\n",
       "   86,\n",
       "   479,\n",
       "   2]],\n",
       " 'label': [0, 1],\n",
       " 'n_tokens': [61, 61],\n",
       " 'orig_sts_embeddings': [[-0.18457703292369843,\n",
       "   -0.09812847524881363,\n",
       "   -0.04049499332904816,\n",
       "   0.28171661496162415,\n",
       "   0.19172710180282593,\n",
       "   0.14890596270561218,\n",
       "   0.2062542736530304,\n",
       "   0.06248242035508156,\n",
       "   -0.044895756989717484,\n",
       "   -0.052304767072200775,\n",
       "   0.24804383516311646,\n",
       "   0.13039831817150116,\n",
       "   -0.12390138953924179,\n",
       "   0.14384429156780243,\n",
       "   -0.04497780650854111,\n",
       "   0.18519248068332672,\n",
       "   0.21535024046897888,\n",
       "   0.09016167372465134,\n",
       "   0.02530963532626629,\n",
       "   0.4318044185638428,\n",
       "   0.10253333300352097,\n",
       "   -0.13705001771450043,\n",
       "   0.4013608694076538,\n",
       "   0.22692105174064636,\n",
       "   0.03863525390625,\n",
       "   -0.10345681756734848,\n",
       "   -0.04417723789811134,\n",
       "   -0.024858441203832626,\n",
       "   -0.23282280564308167,\n",
       "   -0.3662370443344116,\n",
       "   -0.23374857008457184,\n",
       "   -0.09960643202066422,\n",
       "   -0.18434108793735504,\n",
       "   0.3328252136707306,\n",
       "   0.08697742968797684,\n",
       "   0.31542420387268066,\n",
       "   0.09706789255142212,\n",
       "   -0.0336151160299778,\n",
       "   0.17330105602741241,\n",
       "   -0.16610732674598694,\n",
       "   -0.10631045699119568,\n",
       "   0.29835572838783264,\n",
       "   -0.045686025172472,\n",
       "   -0.05736939236521721,\n",
       "   -0.109817273914814,\n",
       "   -0.19167572259902954,\n",
       "   0.16075213253498077,\n",
       "   0.12144536525011063,\n",
       "   -0.01566886343061924,\n",
       "   -0.10854502767324448,\n",
       "   -0.18026331067085266,\n",
       "   -0.2651243507862091,\n",
       "   -0.009126106277108192,\n",
       "   -0.5096121430397034,\n",
       "   -0.049720004200935364,\n",
       "   -0.4264870882034302,\n",
       "   0.2519453465938568,\n",
       "   -0.030129358172416687,\n",
       "   0.04161727428436279,\n",
       "   0.07289857417345047,\n",
       "   -0.11881688237190247,\n",
       "   -0.2963106036186218,\n",
       "   -0.05878390744328499,\n",
       "   -0.17022854089736938,\n",
       "   0.3600552976131439,\n",
       "   -0.1964406818151474,\n",
       "   -0.1802477389574051,\n",
       "   -0.3827347159385681,\n",
       "   0.3135072588920593,\n",
       "   -0.11187595129013062,\n",
       "   0.03275452181696892,\n",
       "   -0.0055224597454071045,\n",
       "   0.09867344796657562,\n",
       "   -0.08815953135490417,\n",
       "   0.2704507112503052,\n",
       "   -0.0415581651031971,\n",
       "   0.21221265196800232,\n",
       "   -0.023531733080744743,\n",
       "   0.16795562207698822,\n",
       "   0.20565159618854523,\n",
       "   0.02761092595756054,\n",
       "   -0.07730939239263535,\n",
       "   0.5091796517372131,\n",
       "   -0.15215256810188293,\n",
       "   -0.05122719332575798,\n",
       "   -0.04231914132833481,\n",
       "   -0.03530510514974594,\n",
       "   0.0840807780623436,\n",
       "   0.014360304921865463,\n",
       "   0.11074770987033844,\n",
       "   -0.28155869245529175,\n",
       "   -0.09148512780666351,\n",
       "   0.11416888982057571,\n",
       "   0.20027002692222595,\n",
       "   0.15983814001083374,\n",
       "   0.10818887501955032,\n",
       "   0.13701358437538147,\n",
       "   0.10016269236803055,\n",
       "   -0.0013049696572124958,\n",
       "   -0.06059829518198967,\n",
       "   0.34492892026901245,\n",
       "   -0.18167535960674286,\n",
       "   0.031131932511925697,\n",
       "   0.10055272281169891,\n",
       "   0.2665448486804962,\n",
       "   -0.36737048625946045,\n",
       "   0.43965303897857666,\n",
       "   -0.2034057229757309,\n",
       "   -0.3261301517486572,\n",
       "   0.12656426429748535,\n",
       "   -0.057980142533779144,\n",
       "   -0.0003158723993692547,\n",
       "   0.11762558668851852,\n",
       "   -0.03794008120894432,\n",
       "   0.032762620598077774,\n",
       "   -0.08102910965681076,\n",
       "   -0.280317097902298,\n",
       "   0.10829538106918335,\n",
       "   -0.419932097196579,\n",
       "   -0.12882183492183685,\n",
       "   0.16266247630119324,\n",
       "   0.0971486046910286,\n",
       "   -0.042944859713315964,\n",
       "   0.11959972977638245,\n",
       "   -0.15163332223892212,\n",
       "   0.1297806203365326,\n",
       "   0.015424882993102074,\n",
       "   0.1331978589296341,\n",
       "   0.01622619293630123,\n",
       "   0.08563846349716187,\n",
       "   -0.09903958439826965,\n",
       "   0.12804418802261353,\n",
       "   0.14893606305122375,\n",
       "   0.1436888873577118,\n",
       "   -0.04322369396686554,\n",
       "   0.07584841549396515,\n",
       "   -0.251906156539917,\n",
       "   0.39973753690719604,\n",
       "   -0.04740745946764946,\n",
       "   -0.37097814679145813,\n",
       "   -0.3327541947364807,\n",
       "   -0.14563913643360138,\n",
       "   -0.16584327816963196,\n",
       "   0.15307718515396118,\n",
       "   -0.17861302196979523,\n",
       "   0.02602010779082775,\n",
       "   -0.06618465483188629,\n",
       "   0.24729648232460022,\n",
       "   -0.1597198098897934,\n",
       "   0.4485660195350647,\n",
       "   0.08724457025527954,\n",
       "   -0.25628072023391724,\n",
       "   -0.2000998854637146,\n",
       "   0.27199721336364746,\n",
       "   -0.32590606808662415,\n",
       "   0.2783344089984894,\n",
       "   -0.0489337183535099,\n",
       "   0.20724530518054962,\n",
       "   -0.0702253207564354,\n",
       "   -0.029446860775351524,\n",
       "   0.06937965750694275,\n",
       "   0.07261890172958374,\n",
       "   -0.062371060252189636,\n",
       "   -0.15625086426734924,\n",
       "   -0.06058048456907272,\n",
       "   -0.05604006350040436,\n",
       "   0.14000938832759857,\n",
       "   0.276862233877182,\n",
       "   -0.23172883689403534,\n",
       "   0.15395841002464294,\n",
       "   -0.10873951762914658,\n",
       "   0.029793204739689827,\n",
       "   -0.3099610507488251,\n",
       "   0.16878774762153625,\n",
       "   0.04967249929904938,\n",
       "   -0.11036883294582367,\n",
       "   -0.37851566076278687,\n",
       "   0.20763938128948212,\n",
       "   0.1271507441997528,\n",
       "   0.008448873646557331,\n",
       "   0.0405253991484642,\n",
       "   0.04146847501397133,\n",
       "   -0.0661516934633255,\n",
       "   0.32532769441604614,\n",
       "   0.17102712392807007,\n",
       "   -0.33797645568847656,\n",
       "   0.21156902611255646,\n",
       "   -0.14068499207496643,\n",
       "   -0.051406629383563995,\n",
       "   -0.19068017601966858,\n",
       "   0.07609482854604721,\n",
       "   -0.33206725120544434,\n",
       "   0.15746556222438812,\n",
       "   -0.05187370628118515,\n",
       "   0.11549189686775208,\n",
       "   0.12348984181880951,\n",
       "   -0.17041529715061188,\n",
       "   0.4476706087589264,\n",
       "   -0.02773555926978588,\n",
       "   0.1461184173822403,\n",
       "   -0.20942986011505127,\n",
       "   -0.350335031747818,\n",
       "   0.005889345426112413,\n",
       "   -0.1584327071905136,\n",
       "   0.22749683260917664,\n",
       "   -0.3445497155189514,\n",
       "   0.13223110139369965,\n",
       "   -0.2135012298822403,\n",
       "   0.18554386496543884,\n",
       "   0.23687131702899933,\n",
       "   0.033913951367139816,\n",
       "   -0.24600860476493835,\n",
       "   -0.08008770644664764,\n",
       "   -0.060825515538454056,\n",
       "   -0.06528408080339432,\n",
       "   -0.13625860214233398,\n",
       "   -0.059689491987228394,\n",
       "   0.17592297494411469,\n",
       "   0.26608532667160034,\n",
       "   -0.11505868285894394,\n",
       "   0.16452044248580933,\n",
       "   -0.374236524105072,\n",
       "   -0.16678446531295776,\n",
       "   -0.12334278970956802,\n",
       "   -0.030733199790120125,\n",
       "   -0.1792410910129547,\n",
       "   -0.02795463614165783,\n",
       "   -0.18698203563690186,\n",
       "   -0.1377468705177307,\n",
       "   0.055420730262994766,\n",
       "   -0.3629607558250427,\n",
       "   0.16852673888206482,\n",
       "   0.1307685226202011,\n",
       "   0.1038782000541687,\n",
       "   -0.106228306889534,\n",
       "   -0.23522917926311493,\n",
       "   0.11856376379728317,\n",
       "   0.2568068206310272,\n",
       "   0.018413184210658073,\n",
       "   0.014529598876833916,\n",
       "   0.01985369622707367,\n",
       "   0.10484634339809418,\n",
       "   0.12584637105464935,\n",
       "   0.20765498280525208,\n",
       "   0.22055795788764954,\n",
       "   -0.11951294541358948,\n",
       "   -0.2975403070449829,\n",
       "   -0.257276326417923,\n",
       "   -0.06723279505968094,\n",
       "   0.1932564079761505,\n",
       "   -0.01468498446047306,\n",
       "   0.0032772128470242023,\n",
       "   0.1824396252632141,\n",
       "   0.05474292114377022,\n",
       "   -0.2059192806482315,\n",
       "   0.10475403070449829,\n",
       "   0.12827537953853607,\n",
       "   0.24430260062217712,\n",
       "   -0.08191852271556854,\n",
       "   0.3066619038581848,\n",
       "   -0.2171093374490738,\n",
       "   -0.15953662991523743,\n",
       "   -0.3194897472858429,\n",
       "   -0.3763757050037384,\n",
       "   0.05583227798342705,\n",
       "   -0.24936774373054504,\n",
       "   -0.1543668955564499,\n",
       "   0.18823543190956116,\n",
       "   0.09437629580497742,\n",
       "   0.0851776972413063,\n",
       "   0.187114879488945,\n",
       "   -0.05801507085561752,\n",
       "   0.2922237813472748,\n",
       "   -0.1038033589720726,\n",
       "   -0.13448414206504822,\n",
       "   0.031704407185316086,\n",
       "   -0.050040051341056824,\n",
       "   -0.164564311504364,\n",
       "   -0.2788151800632477,\n",
       "   0.19171179831027985,\n",
       "   -0.13500858843326569,\n",
       "   -0.015819355845451355,\n",
       "   0.22879120707511902,\n",
       "   0.17512838542461395,\n",
       "   -0.05990215018391609,\n",
       "   -0.2988598346710205,\n",
       "   -0.3067958354949951,\n",
       "   -0.24472086131572723,\n",
       "   -0.04366074129939079,\n",
       "   -0.019952600821852684,\n",
       "   -0.19170065224170685,\n",
       "   0.0035208233166486025,\n",
       "   -0.19427938759326935,\n",
       "   0.009472695179283619,\n",
       "   0.09609612077474594,\n",
       "   0.14822502434253693,\n",
       "   -0.30505648255348206,\n",
       "   0.022283077239990234,\n",
       "   -0.08352382481098175,\n",
       "   0.3108328580856323,\n",
       "   0.23411063849925995,\n",
       "   0.2982529103755951,\n",
       "   -0.05076741799712181,\n",
       "   -0.018611682578921318,\n",
       "   0.33344969153404236,\n",
       "   -0.13724486529827118,\n",
       "   -0.058445654809474945,\n",
       "   0.09686817973852158,\n",
       "   0.11075761169195175,\n",
       "   -0.03695812448859215,\n",
       "   -0.13765838742256165,\n",
       "   -0.015129256062209606,\n",
       "   -0.3638685345649719,\n",
       "   0.1779051274061203,\n",
       "   0.05029917508363724,\n",
       "   -0.09576914459466934,\n",
       "   0.15881779789924622,\n",
       "   0.09679263085126877,\n",
       "   0.14957363903522491,\n",
       "   -0.1752639263868332,\n",
       "   -0.20073208212852478,\n",
       "   -0.021819381043314934,\n",
       "   -0.03589751943945885,\n",
       "   -0.30565744638442993,\n",
       "   0.14473170042037964,\n",
       "   0.048521045595407486,\n",
       "   0.061208032071590424,\n",
       "   0.14783690869808197,\n",
       "   -0.13735710084438324,\n",
       "   0.3141656219959259,\n",
       "   -0.3093617260456085,\n",
       "   0.169610857963562,\n",
       "   0.25349700450897217,\n",
       "   0.019312750548124313,\n",
       "   0.10946914553642273,\n",
       "   0.18609113991260529,\n",
       "   -0.0685250535607338,\n",
       "   0.09514109045267105,\n",
       "   -0.1100710928440094,\n",
       "   0.1176896020770073,\n",
       "   0.014252502471208572,\n",
       "   0.17045894265174866,\n",
       "   0.012622445821762085,\n",
       "   -0.17719309031963348,\n",
       "   0.012065398506820202,\n",
       "   -0.15738791227340698,\n",
       "   0.057272594422101974,\n",
       "   -0.026884866878390312,\n",
       "   0.09717393666505814,\n",
       "   0.15428392589092255,\n",
       "   0.016478976234793663,\n",
       "   0.15210624039173126,\n",
       "   -0.18809737265110016,\n",
       "   0.04310259595513344,\n",
       "   -0.053058914840221405,\n",
       "   0.09178875386714935,\n",
       "   -0.04588352143764496,\n",
       "   0.049295175820589066,\n",
       "   0.41193556785583496,\n",
       "   -0.15725794434547424,\n",
       "   -0.09594225138425827,\n",
       "   -0.11480961740016937,\n",
       "   -0.23408202826976776,\n",
       "   0.1725059151649475,\n",
       "   -0.10359171777963638,\n",
       "   0.43393847346305847,\n",
       "   0.10539907217025757,\n",
       "   -0.20568254590034485,\n",
       "   -0.18375557661056519,\n",
       "   0.10784245282411575,\n",
       "   0.1563078612089157,\n",
       "   -0.08700785785913467,\n",
       "   -0.41943100094795227,\n",
       "   0.17806382477283478,\n",
       "   -0.07148520648479462,\n",
       "   0.14713889360427856,\n",
       "   -0.17362481355667114,\n",
       "   -0.07576011121273041,\n",
       "   -0.12683771550655365,\n",
       "   0.3968907594680786,\n",
       "   0.12452440708875656,\n",
       "   -0.32867783308029175,\n",
       "   0.001631870400160551,\n",
       "   -0.010830463841557503],\n",
       "  [0.0904824361205101,\n",
       "   0.1345222294330597,\n",
       "   -0.10305275768041611,\n",
       "   -0.2516885995864868,\n",
       "   -0.13074859976768494,\n",
       "   -0.012482289224863052,\n",
       "   0.3628193438053131,\n",
       "   0.3097284734249115,\n",
       "   -0.08563688397407532,\n",
       "   -0.09711681306362152,\n",
       "   0.08015702664852142,\n",
       "   -0.08681347221136093,\n",
       "   0.05137164518237114,\n",
       "   0.32270342111587524,\n",
       "   0.049096643924713135,\n",
       "   -0.03361731022596359,\n",
       "   0.3636243939399719,\n",
       "   0.1376350373029709,\n",
       "   -0.05532160773873329,\n",
       "   -0.009662005119025707,\n",
       "   -0.1462794691324234,\n",
       "   -0.05434807762503624,\n",
       "   0.16568410396575928,\n",
       "   0.13133558630943298,\n",
       "   0.012398993596434593,\n",
       "   -0.19740208983421326,\n",
       "   -0.08147665113210678,\n",
       "   0.0010568093275651336,\n",
       "   -0.07660296559333801,\n",
       "   -0.16873924434185028,\n",
       "   -0.09034755080938339,\n",
       "   -0.31513023376464844,\n",
       "   0.03965149074792862,\n",
       "   -0.1615838259458542,\n",
       "   -0.16105909645557404,\n",
       "   0.38390523195266724,\n",
       "   0.02658202312886715,\n",
       "   0.13537895679473877,\n",
       "   0.2350025475025177,\n",
       "   -0.11404236406087875,\n",
       "   -0.16948755085468292,\n",
       "   -0.2655356526374817,\n",
       "   -0.1647520810365677,\n",
       "   0.053783975541591644,\n",
       "   -0.042777251452207565,\n",
       "   -0.10843901336193085,\n",
       "   0.02272646501660347,\n",
       "   -0.11356036365032196,\n",
       "   -0.0032988113816827536,\n",
       "   0.13424131274223328,\n",
       "   -0.024809397757053375,\n",
       "   -0.21160349249839783,\n",
       "   -0.09197068214416504,\n",
       "   -0.12393516302108765,\n",
       "   0.05970054492354393,\n",
       "   -0.15832674503326416,\n",
       "   0.10739224404096603,\n",
       "   -0.03455814719200134,\n",
       "   0.04884367436170578,\n",
       "   -0.14298048615455627,\n",
       "   -0.18294543027877808,\n",
       "   -0.0015578403836116195,\n",
       "   -0.14366263151168823,\n",
       "   0.05254405736923218,\n",
       "   -0.22116491198539734,\n",
       "   -0.30907243490219116,\n",
       "   0.019184904173016548,\n",
       "   -0.0577629953622818,\n",
       "   -0.29764196276664734,\n",
       "   0.16550017893314362,\n",
       "   0.2302170842885971,\n",
       "   -0.08847443759441376,\n",
       "   0.4496372640132904,\n",
       "   0.007049038540571928,\n",
       "   -0.01611446961760521,\n",
       "   -0.2051764279603958,\n",
       "   -0.19173654913902283,\n",
       "   0.03522823750972748,\n",
       "   0.10244951397180557,\n",
       "   0.02336135134100914,\n",
       "   0.19811677932739258,\n",
       "   -0.3076517879962921,\n",
       "   -0.26634225249290466,\n",
       "   0.05712880566716194,\n",
       "   0.13929809629917145,\n",
       "   -0.08949825167655945,\n",
       "   -0.010432058945298195,\n",
       "   -0.23343127965927124,\n",
       "   0.07121823728084564,\n",
       "   0.26334095001220703,\n",
       "   -0.10205995291471481,\n",
       "   0.20983584225177765,\n",
       "   0.5952377915382385,\n",
       "   0.005067279562354088,\n",
       "   0.06229511275887489,\n",
       "   0.061153922230005264,\n",
       "   0.12410107254981995,\n",
       "   0.11854492127895355,\n",
       "   -0.46804001927375793,\n",
       "   0.22873537242412567,\n",
       "   -0.10580785572528839,\n",
       "   -0.04853490740060806,\n",
       "   -0.1394256204366684,\n",
       "   0.23533464968204498,\n",
       "   0.1827874630689621,\n",
       "   -0.010049303993582726,\n",
       "   0.07484398037195206,\n",
       "   -0.08496883511543274,\n",
       "   -0.12651453912258148,\n",
       "   -0.10883859544992447,\n",
       "   0.027006328105926514,\n",
       "   -0.01150219514966011,\n",
       "   -0.06248386949300766,\n",
       "   0.04783141613006592,\n",
       "   -0.21976803243160248,\n",
       "   0.13970859348773956,\n",
       "   -0.20655551552772522,\n",
       "   0.24889343976974487,\n",
       "   0.03436972573399544,\n",
       "   -0.24819114804267883,\n",
       "   0.1561136096715927,\n",
       "   -0.2503899931907654,\n",
       "   -0.08497148752212524,\n",
       "   0.08472069352865219,\n",
       "   0.09812363237142563,\n",
       "   -0.03553508594632149,\n",
       "   0.06431533396244049,\n",
       "   0.16552872955799103,\n",
       "   -0.13571329414844513,\n",
       "   0.16157576441764832,\n",
       "   -0.11758818477392197,\n",
       "   -0.10729005932807922,\n",
       "   0.030218297615647316,\n",
       "   -0.04050607979297638,\n",
       "   -0.25143343210220337,\n",
       "   -0.10682377219200134,\n",
       "   0.1146506667137146,\n",
       "   0.197125643491745,\n",
       "   0.07084707915782928,\n",
       "   -0.0237618088722229,\n",
       "   -0.13228805363178253,\n",
       "   0.4120185971260071,\n",
       "   0.08172956109046936,\n",
       "   0.06933541595935822,\n",
       "   0.04682411625981331,\n",
       "   -0.026053551584482193,\n",
       "   0.12026794999837875,\n",
       "   -0.03798811510205269,\n",
       "   -0.08531524986028671,\n",
       "   0.25345006585121155,\n",
       "   -0.3010854125022888,\n",
       "   -0.14105473458766937,\n",
       "   0.1804080605506897,\n",
       "   0.08907829225063324,\n",
       "   0.11524084210395813,\n",
       "   -0.021890247240662575,\n",
       "   -0.07184337079524994,\n",
       "   0.2491840422153473,\n",
       "   -0.11816795915365219,\n",
       "   -0.06395284086465836,\n",
       "   -0.11762460321187973,\n",
       "   0.2132922112941742,\n",
       "   0.32801294326782227,\n",
       "   -0.14422722160816193,\n",
       "   -0.12802337110042572,\n",
       "   -0.050632450729608536,\n",
       "   0.06349503993988037,\n",
       "   0.07494525611400604,\n",
       "   0.10068655759096146,\n",
       "   -0.11793125420808792,\n",
       "   -0.07857111096382141,\n",
       "   0.2093069702386856,\n",
       "   -0.24110163748264313,\n",
       "   -0.17206653952598572,\n",
       "   0.17237503826618195,\n",
       "   0.03489997982978821,\n",
       "   -0.20114968717098236,\n",
       "   0.19265107810497284,\n",
       "   0.023991908878087997,\n",
       "   0.14018727838993073,\n",
       "   0.08487158268690109,\n",
       "   -0.008975531905889511,\n",
       "   -0.15121491253376007,\n",
       "   0.13366425037384033,\n",
       "   -0.15804196894168854,\n",
       "   0.02468978799879551,\n",
       "   -0.012354332022368908,\n",
       "   0.059557899832725525,\n",
       "   0.11560595780611038,\n",
       "   -0.04018499329686165,\n",
       "   0.15879444777965546,\n",
       "   0.0332888588309288,\n",
       "   -0.07633969187736511,\n",
       "   0.09612815827131271,\n",
       "   0.15599679946899414,\n",
       "   0.14900048077106476,\n",
       "   -0.20140144228935242,\n",
       "   0.10727278888225555,\n",
       "   0.12936890125274658,\n",
       "   0.07153210788965225,\n",
       "   -0.27242594957351685,\n",
       "   -0.29223552346229553,\n",
       "   0.18874099850654602,\n",
       "   -0.15061376988887787,\n",
       "   0.23048518598079681,\n",
       "   -0.040385425090789795,\n",
       "   -0.06466160714626312,\n",
       "   0.03416553884744644,\n",
       "   -0.22857126593589783,\n",
       "   0.189309224486351,\n",
       "   0.09550478309392929,\n",
       "   -0.05924699455499649,\n",
       "   -0.0042284713126719,\n",
       "   -0.00022091814025770873,\n",
       "   -0.00638709357008338,\n",
       "   -0.0842990130186081,\n",
       "   0.14871113002300262,\n",
       "   0.2235533446073532,\n",
       "   -0.008161045610904694,\n",
       "   -0.07036084681749344,\n",
       "   0.19945044815540314,\n",
       "   0.08535361289978027,\n",
       "   0.10798502713441849,\n",
       "   -0.3536664545536041,\n",
       "   0.05792723968625069,\n",
       "   -0.1193997785449028,\n",
       "   0.11419326812028885,\n",
       "   -0.12400534749031067,\n",
       "   -0.02446664869785309,\n",
       "   -0.1507558375597,\n",
       "   -0.26264941692352295,\n",
       "   0.14297038316726685,\n",
       "   -0.32796722650527954,\n",
       "   0.058469515293836594,\n",
       "   -0.4530147910118103,\n",
       "   0.023910533636808395,\n",
       "   -0.020992908626794815,\n",
       "   0.00023579641128890216,\n",
       "   0.12469293177127838,\n",
       "   -0.28051701188087463,\n",
       "   -0.10888400673866272,\n",
       "   -0.0008585884934291244,\n",
       "   -0.19835394620895386,\n",
       "   0.32214006781578064,\n",
       "   0.49397680163383484,\n",
       "   0.006256685592234135,\n",
       "   0.006238499190658331,\n",
       "   0.3142656981945038,\n",
       "   0.048903997987508774,\n",
       "   0.4241488575935364,\n",
       "   0.046938393265008926,\n",
       "   0.15760524570941925,\n",
       "   -0.1400976926088333,\n",
       "   -0.05430392175912857,\n",
       "   0.02167164906859398,\n",
       "   0.13930022716522217,\n",
       "   -0.22730934619903564,\n",
       "   -0.0030397626105695963,\n",
       "   0.042667556554079056,\n",
       "   0.523905873298645,\n",
       "   -0.05039213225245476,\n",
       "   -0.006377038545906544,\n",
       "   -0.25911426544189453,\n",
       "   0.04632682725787163,\n",
       "   0.2233477383852005,\n",
       "   -0.21754813194274902,\n",
       "   -0.4081060290336609,\n",
       "   0.09518513083457947,\n",
       "   -0.22122614085674286,\n",
       "   -0.17263765633106232,\n",
       "   -0.06137184426188469,\n",
       "   -0.08890561014413834,\n",
       "   -0.1537139117717743,\n",
       "   0.05855264514684677,\n",
       "   -0.27894163131713867,\n",
       "   -0.14837084710597992,\n",
       "   0.07209852337837219,\n",
       "   -0.17487075924873352,\n",
       "   0.0017488563898950815,\n",
       "   0.16858476400375366,\n",
       "   0.20723208785057068,\n",
       "   -0.06439877301454544,\n",
       "   0.2464669793844223,\n",
       "   0.0003201218496542424,\n",
       "   0.07336192578077316,\n",
       "   -0.17219850420951843,\n",
       "   -0.19479739665985107,\n",
       "   0.08200240135192871,\n",
       "   0.268462598323822,\n",
       "   -0.10767998546361923,\n",
       "   0.03726029768586159,\n",
       "   0.27603814005851746,\n",
       "   -0.2363719344139099,\n",
       "   0.14189283549785614,\n",
       "   -0.16161881387233734,\n",
       "   -0.16811130940914154,\n",
       "   -0.28497275710105896,\n",
       "   0.21210408210754395,\n",
       "   0.07510064542293549,\n",
       "   0.220266193151474,\n",
       "   0.3443617522716522,\n",
       "   0.1426030546426773,\n",
       "   0.09313715994358063,\n",
       "   -0.24111291766166687,\n",
       "   0.10095734894275665,\n",
       "   0.15466593205928802,\n",
       "   -0.10716919600963593,\n",
       "   -0.25695133209228516,\n",
       "   0.11326628178358078,\n",
       "   0.227731853723526,\n",
       "   -0.07314390689134598,\n",
       "   0.03235172480344772,\n",
       "   0.001921172603033483,\n",
       "   0.09367655217647552,\n",
       "   0.19690223038196564,\n",
       "   0.1959661990404129,\n",
       "   0.061301782727241516,\n",
       "   -0.0022170767188072205,\n",
       "   0.16738946735858917,\n",
       "   -0.25838810205459595,\n",
       "   0.038717035204172134,\n",
       "   0.3427707850933075,\n",
       "   -0.041843898594379425,\n",
       "   -0.0713387057185173,\n",
       "   -0.07847480475902557,\n",
       "   0.09671320766210556,\n",
       "   0.012110321782529354,\n",
       "   -0.18893341720104218,\n",
       "   -0.0006253840401768684,\n",
       "   -0.10924399644136429,\n",
       "   0.2033819854259491,\n",
       "   -0.0693235993385315,\n",
       "   -0.023468146100640297,\n",
       "   -0.29098981618881226,\n",
       "   0.016953442245721817,\n",
       "   -0.012355717830359936,\n",
       "   -0.3718518018722534,\n",
       "   -0.020071636885404587,\n",
       "   -0.10765133053064346,\n",
       "   0.10581354051828384,\n",
       "   0.013630297034978867,\n",
       "   -0.13753370940685272,\n",
       "   0.017231883481144905,\n",
       "   -0.0776326060295105,\n",
       "   -0.21320444345474243,\n",
       "   -0.02126229926943779,\n",
       "   -0.04857486113905907,\n",
       "   -0.29788339138031006,\n",
       "   0.08866412192583084,\n",
       "   0.2817820608615875,\n",
       "   -0.15545952320098877,\n",
       "   0.08376245945692062,\n",
       "   -0.19861812889575958,\n",
       "   -0.14551767706871033,\n",
       "   0.022888369858264923,\n",
       "   -0.08928663283586502,\n",
       "   -0.23871098458766937,\n",
       "   -0.2945806384086609,\n",
       "   0.15976355969905853,\n",
       "   0.024854397401213646,\n",
       "   0.10348436236381531,\n",
       "   0.011079253628849983,\n",
       "   0.2295474112033844,\n",
       "   0.2428913414478302,\n",
       "   -0.19197019934654236,\n",
       "   0.17735004425048828,\n",
       "   0.0428730733692646,\n",
       "   0.08410386741161346,\n",
       "   -0.03116457723081112,\n",
       "   0.06446646898984909,\n",
       "   0.08321034908294678,\n",
       "   -0.05767104774713516,\n",
       "   -0.16237425804138184,\n",
       "   0.08501774072647095,\n",
       "   0.049983855336904526,\n",
       "   0.29655855894088745,\n",
       "   -0.02992711216211319,\n",
       "   -0.18325796723365784,\n",
       "   -0.2792954742908478,\n",
       "   0.20316261053085327,\n",
       "   0.3037492632865906,\n",
       "   -0.3436567187309265,\n",
       "   -0.12429636716842651,\n",
       "   0.37940824031829834]],\n",
       " 'orig_truelabel_probs': [0.8694749474525452, 0.9398784637451172],\n",
       " 'orig_vm_predclass': [0, 1],\n",
       " 'text': [\"the movie's biggest shocks come from seeing former nymphette juliette lewis playing a salt-of-the-earth mommy named minnie and watching slim travel incognito in a ridiculous wig no respectable halloween costume shop would ever try to sell .\",\n",
       "  '\" on guard ! \" won\\'t be placed in the pantheon of the best of the swashbucklers but it is a whole lot of fun and you get to see the one of the world\\'s best actors , daniel auteuil , have a whale of a good time .']}"
      ]
     },
     "execution_count": null,
     "metadata": {},
     "output_type": "execute_result"
    }
   ],
   "source": [
    "ds.dsd_tkn['valid'][0:2]"
   ]
  },
  {
   "cell_type": "markdown",
   "metadata": {},
   "source": [
    "Alternately you can look at some random elements of a dataset with the `ds.show_random_elements()` method. "
   ]
  },
  {
   "cell_type": "code",
   "execution_count": null,
   "metadata": {},
   "outputs": [
    {
     "data": {
      "text/html": [
       "<table border=\"1\" class=\"dataframe\">\n",
       "  <thead>\n",
       "    <tr style=\"text-align: right;\">\n",
       "      <th></th>\n",
       "      <th>text</th>\n",
       "      <th>label</th>\n",
       "    </tr>\n",
       "  </thead>\n",
       "  <tbody>\n",
       "    <tr>\n",
       "      <th>0</th>\n",
       "      <td>a great ending doesn't make up for a weak movie , and crazy as hell doesn't even have a great ending .</td>\n",
       "      <td>neg</td>\n",
       "    </tr>\n",
       "    <tr>\n",
       "      <th>1</th>\n",
       "      <td>while the isle is both preposterous and thoroughly misogynistic , its vistas are incredibly beautiful to look at .</td>\n",
       "      <td>pos</td>\n",
       "    </tr>\n",
       "    <tr>\n",
       "      <th>2</th>\n",
       "      <td>not exactly the bees knees</td>\n",
       "      <td>neg</td>\n",
       "    </tr>\n",
       "  </tbody>\n",
       "</table>"
      ],
      "text/plain": [
       "<IPython.core.display.HTML object>"
      ]
     },
     "metadata": {},
     "output_type": "display_data"
    }
   ],
   "source": [
    "ds.show_random_elements(ds.dsd_raw['train'], num_examples=3)"
   ]
  },
  {
   "cell_type": "code",
   "execution_count": null,
   "metadata": {},
   "outputs": [
    {
     "data": {
      "text/html": [
       "<table border=\"1\" class=\"dataframe\">\n",
       "  <thead>\n",
       "    <tr style=\"text-align: right;\">\n",
       "      <th></th>\n",
       "      <th>attention_mask</th>\n",
       "      <th>idx</th>\n",
       "      <th>input_ids</th>\n",
       "      <th>label</th>\n",
       "      <th>n_tokens</th>\n",
       "      <th>orig_sts_embeddings</th>\n",
       "      <th>orig_truelabel_probs</th>\n",
       "      <th>orig_vm_predclass</th>\n",
       "      <th>text</th>\n",
       "    </tr>\n",
       "  </thead>\n",
       "  <tbody>\n",
       "    <tr>\n",
       "      <th>0</th>\n",
       "      <td>[1, 1, 1, 1, 1, 1, 1, 1, 1, 1, 1, 1, 1]</td>\n",
       "      <td>2952</td>\n",
       "      <td>[0, 3341, 63, 11676, 34510, 2156, 24, 39197, 1626, 84, 23810, 479, 2]</td>\n",
       "      <td>pos</td>\n",
       "      <td>13</td>\n",
       "      <td>[0.07683645188808441, -0.43254953622817993, -0.2884201407432556, 0.26368406414985657, -0.15067246556282043, -0.29725706577301025, 0.44652673602104187, -0.09599904716014862, 0.4136199951171875, 0.22868911921977997, 0.16475704312324524, 0.2580578923225403, -0.009651213884353638, -0.15675018727779388, 0.028356363996863365, 0.026996750384569168, 0.3257802426815033, -0.09476791322231293, -0.1322847455739975, 0.40260812640190125, -0.06383713334798813, 0.23907266557216644, 0.16382071375846863, 0.22284190356731415, -0.07003384083509445, -0.2778371274471283, 0.06157108023762703, -0.14136412739753723, -0.14780288934707642, -0.2185499370098114, -0.19067807495594025, -0.05854059010744095, -0.1803152859210968, 0.24854472279548645, -0.1485261619091034, 0.38437846302986145, -0.09991002082824707, 0.07585038244724274, 0.11837996542453766, -0.4445829391479492, -0.026835225522518158, 0.19295825064182281, 0.009423277340829372, 0.24481302499771118, -0.06806370615959167, -0.03962473198771477, -0.05362413823604584, 0.2703951299190521, -0.019495781511068344, -0.2742648720741272, -0.1754714846611023, -0.047957465052604675, -0.09943359345197678, -0.18178799748420715, 0.000764952739700675, -0.1270955502986908, 0.30256763100624084, 0.017745088785886765, 0.1505133956670761, -0.09769076108932495, 0.1602364182472229, -0.016127118840813637, 0.10854503512382507, 0.11427223682403564, 0.08034198731184006, -0.4638966917991638, -0.051793172955513, -0.07844981551170349, -0.012365324422717094, -0.21001778542995453, 0.2400374412536621, 0.03593837469816208, 0.4045008718967438, 0.09282571822404861, 0.11244865506887436, 0.16519945859909058, 0.16836334764957428, -0.2736123502254486, 0.03752522170543671, 0.10063756257295609, -0.001285043079406023, 0.16157469153404236, 0.5426371097564697, 0.2488955408334732, -0.034798894077539444, 0.11979421228170395, 0.05712924897670746, -0.1519034504890442, 0.09678438305854797, 0.09584493190050125, -0.3669874370098114, 0.125444233417511, 0.40931230783462524, 0.3035696744918823, 0.18691092729568481, -0.2104356288909912, -0.15142661333084106, 0.016831260174512863, -0.10474022477865219, 0.1896384060382843, ...]</td>\n",
       "      <td>0.931301</td>\n",
       "      <td>1</td>\n",
       "      <td>like its bizarre heroine , it irrigates our souls .</td>\n",
       "    </tr>\n",
       "    <tr>\n",
       "      <th>1</th>\n",
       "      <td>[1, 1, 1, 1, 1, 1, 1, 1, 1, 1, 1, 1, 1, 1, 1, 1]</td>\n",
       "      <td>3573</td>\n",
       "      <td>[0, 13138, 4376, 10, 182, 1375, 8, 20853, 5257, 41887, 7, 5, 18701, 43328, 479, 2]</td>\n",
       "      <td>pos</td>\n",
       "      <td>16</td>\n",
       "      <td>[-0.20158840715885162, 0.3575786054134369, -0.38341793417930603, 0.18010327219963074, 0.15630246698856354, 0.38274314999580383, -0.09994902461767197, -0.2318796068429947, 0.31283318996429443, 0.11660215258598328, -0.11918359249830246, 0.02431304007768631, 0.149966299533844, 0.10298259556293488, -0.14447380602359772, -0.18221139907836914, 0.00669496413320303, 0.29211005568504333, 0.07370553910732269, 0.11665214598178864, -0.08646053075790405, 0.22458311915397644, 0.4172590970993042, 0.2418132871389389, 0.20363584160804749, -0.09745723754167557, -0.06742429733276367, -0.05254404991865158, -0.16569049656391144, -0.1287563592195511, 0.27005329728126526, 0.06663543730974197, -0.2167079597711563, 0.07535022497177124, -0.027371976524591446, 0.2469516545534134, 0.33272191882133484, 0.37361210584640503, 0.049456264823675156, -0.06388180702924728, -0.11500751972198486, 0.41049230098724365, 0.19662395119667053, 0.14603233337402344, 0.24917030334472656, 0.09485176205635071, -0.07280126214027405, 0.2429356575012207, -0.12741756439208984, 0.2231244444847107, -0.25517117977142334, -0.16563566029071808, -0.19966357946395874, 0.1950351595878601, 0.4458578824996948, 0.07378891110420227, -0.14559735357761383, -0.13437621295452118, 0.13913419842720032, -0.1785784363746643, 0.07854782044887543, -0.1836431622505188, 0.24719442427158356, 0.07032902538776398, 0.10869353264570236, -0.3437102735042572, -0.06741522997617722, 0.17490465939044952, -0.2120242714881897, 0.5022298097610474, -0.406875342130661, -0.1948540061712265, 0.49807024002075195, -0.20378531515598297, 0.1250046342611313, -0.4025477468967438, -0.0820605680346489, 0.01799776591360569, -0.3588275611400604, 0.2247607707977295, 0.15300235152244568, 0.22950297594070435, 0.30480924248695374, 0.14958475530147552, 0.06558987498283386, 0.0847502276301384, 0.11094487458467484, 0.038049597293138504, 0.2623656094074249, 0.17512740194797516, -0.23059511184692383, 0.1199222281575203, 0.3239966928958893, -0.082222118973732, 0.1591596156358719, -0.09350860118865967, -0.11698610335588455, -0.19592158496379852, 0.4761217534542084, 0.15343964099884033, ...]</td>\n",
       "      <td>0.958571</td>\n",
       "      <td>1</td>\n",
       "      <td>provides a very moving and revelatory footnote to the holocaust .</td>\n",
       "    </tr>\n",
       "    <tr>\n",
       "      <th>2</th>\n",
       "      <td>[1, 1, 1, 1, 1, 1, 1, 1, 1, 1, 1, 1, 1, 1, 1, 1, 1, 1, 1]</td>\n",
       "      <td>5589</td>\n",
       "      <td>[0, 1264, 95, 23120, 17081, 352, 13, 5, 220, 4817, 396, 2623, 203, 26350, 7, 5, 3768, 479, 2]</td>\n",
       "      <td>neg</td>\n",
       "      <td>19</td>\n",
       "      <td>[-0.07974279671907425, -0.0712166577577591, -0.039970070123672485, 0.0007532645249739289, 0.19971798360347748, -0.06183060258626938, -0.05134312063455582, 0.32594773173332214, 0.3937385380268097, -0.022144082933664322, 0.21838627755641937, 0.27371323108673096, 0.26927459239959717, 0.06295505166053772, -0.19895893335342407, -0.20393683016300201, -0.11135062575340271, 0.11019532382488251, -0.2996702790260315, 0.0112022515386343, -0.40957605838775635, -0.12017344683408737, 0.18621665239334106, 0.016812538728117943, 0.23999541997909546, -0.1859787106513977, 0.11688186973333359, 0.05328073725104332, -0.23316197097301483, -0.3899984657764435, -0.1998777538537979, -0.43840503692626953, 0.1213247999548912, 0.10185296088457108, 0.08310198783874512, 0.3317270576953888, -0.08138290047645569, 0.1843833029270172, -0.10513550788164139, -0.2397989183664322, -0.24391785264015198, 0.2868635952472687, -0.14646278321743011, 0.15775363147258759, -0.021649273112416267, -0.12723657488822937, 0.09280068427324295, 0.0035478512290865183, -0.025228489190340042, 0.13578663766384125, -0.2502560615539551, -0.04018213227391243, -0.2480120062828064, -0.21175764501094818, 0.11948485672473907, 0.1399693340063095, -0.3697361946105957, 0.042635075747966766, 0.03373183682560921, -0.11777245253324509, 0.01075794454663992, -0.3459096848964691, 0.10292027145624161, 0.09431789070367813, 0.26532837748527527, -0.3107123076915741, 0.03377913311123848, -0.37663134932518005, 0.11032536625862122, 0.5276355147361755, 0.27742302417755127, -0.12793944776058197, 0.0142912482842803, 0.0338447131216526, 0.2502032220363617, 0.19924692809581757, -0.07416054606437683, -0.12118217349052429, 0.2643100917339325, 0.12474198639392853, -0.010701295919716358, 0.16725444793701172, 0.1870589703321457, -0.16427773237228394, -0.39120978116989136, -0.03582170605659485, 0.4065021574497223, -0.014093264006078243, -0.1936904788017273, 0.15390048921108246, 0.17351402342319489, -0.01267438754439354, 0.48825645446777344, 0.31152695417404175, -0.4173009693622589, 0.2794550359249115, -0.044307924807071686, 0.370815247297287, -0.21668657660484314, 0.040798477828502655, ...]</td>\n",
       "      <td>0.795055</td>\n",
       "      <td>0</td>\n",
       "      <td>one just waits grimly for the next shock without developing much attachment to the characters .</td>\n",
       "    </tr>\n",
       "  </tbody>\n",
       "</table>"
      ],
      "text/plain": [
       "<IPython.core.display.HTML object>"
      ]
     },
     "metadata": {},
     "output_type": "display_data"
    }
   ],
   "source": [
    "ds.show_random_elements(ds.dsd_tkn['train'], num_examples=3)"
   ]
  },
  {
   "cell_type": "markdown",
   "metadata": {},
   "source": [
    "### Accessing DataLoaders "
   ]
  },
  {
   "cell_type": "markdown",
   "metadata": {},
   "source": [
    "We can access dataloaders for the raw text in `ds.dsd_raw` with `ds.dld_raw`, and for the tokenised text in `ds.dsd_tkn` with `ds_dld_tkn`. Both of these are dictionaries of dataloaders with keys `['train', 'valid', 'test', 'train_eval]`. "
   ]
  },
  {
   "cell_type": "code",
   "execution_count": null,
   "metadata": {},
   "outputs": [
    {
     "name": "stdout",
     "output_type": "stream",
     "text": [
      "Dataloader dict has keys: dict_keys(['train', 'test', 'valid', 'train_eval'])\n",
      "dict_keys(['text', 'idx'])\n",
      "dict_keys(['idx', 'attention_mask', 'input_ids', 'label', 'orig_truelabel_probs', 'orig_sts_embeddings'])\n",
      "Tokenised input is of shape: torch.Size([32, 64])\n"
     ]
    }
   ],
   "source": [
    "print(\"Dataloader dict has keys:\", ds.dld_raw.keys())\n",
    "batch_raw = next(iter(ds.dld_raw['train']))\n",
    "batch_tkn = next(iter(ds.dld_tkn['train']))\n",
    "print(batch_raw.keys())\n",
    "print(batch_tkn.keys())\n",
    "print(\"Tokenised input is of shape:\", batch_tkn['input_ids'].shape)"
   ]
  },
  {
   "cell_type": "markdown",
   "metadata": {},
   "source": [
    "#hide\n",
    "## Export "
   ]
  },
  {
   "cell_type": "code",
   "execution_count": null,
   "metadata": {},
   "outputs": [
    {
     "name": "stdout",
     "output_type": "stream",
     "text": [
      "Converted 00_utils.ipynb.\n",
      "Converted 03_config.ipynb.\n",
      "Converted 07_models.ipynb.\n",
      "Converted 10_data.ipynb.\n",
      "Converted 20_trainer.ipynb.\n",
      "Converted 30_logging.ipynb.\n",
      "Converted index.ipynb.\n",
      "Converted run.ipynb.\n"
     ]
    }
   ],
   "source": [
    "#hide\n",
    "from nbdev.export import notebook2script\n",
    "notebook2script()"
   ]
  },
  {
   "cell_type": "code",
   "execution_count": null,
   "metadata": {},
   "outputs": [],
   "source": []
  }
 ],
 "metadata": {
  "kernelspec": {
   "display_name": "Python 3",
   "language": "python",
   "name": "python3"
  }
 },
 "nbformat": 4,
 "nbformat_minor": 4
}
