{
 "cells": [
  {
   "cell_type": "code",
   "execution_count": null,
   "metadata": {},
   "outputs": [],
   "source": [
    "#default_exp data"
   ]
  },
  {
   "cell_type": "code",
   "execution_count": null,
   "metadata": {},
   "outputs": [],
   "source": [
    "#hide\n",
    "%load_ext autoreload\n",
    "%autoreload 2\n",
    "%load_ext line_profiler"
   ]
  },
  {
   "cell_type": "code",
   "execution_count": null,
   "metadata": {},
   "outputs": [],
   "source": [
    "#export\n",
    "import torch, random, pandas as pd, os, warnings, shutil, uuid\n",
    "from torch.utils.data import DataLoader, RandomSampler\n",
    "from datasets import load_dataset, load_from_disk, DatasetDict, ClassLabel\n",
    "from IPython.display import display, HTML\n",
    "from travis_attack.models import get_vm_probs\n",
    "from travis_attack.config import Config\n",
    "from travis_attack.utils import robust_rmtree, timecode\n",
    "\n",
    "import logging\n",
    "logger = logging.getLogger(__main__)\n"
   ]
  },
  {
   "cell_type": "code",
   "execution_count": null,
   "metadata": {},
   "outputs": [],
   "source": [
    "#hide\n",
    "import inspect\n",
    "from IPython.core.debugger import set_trace"
   ]
  },
  {
   "cell_type": "markdown",
   "metadata": {},
   "source": [
    "# Preparing data"
   ]
  },
  {
   "cell_type": "markdown",
   "metadata": {},
   "source": [
    "## Classes "
   ]
  },
  {
   "cell_type": "markdown",
   "metadata": {},
   "source": [
    "### Base class"
   ]
  },
  {
   "cell_type": "code",
   "execution_count": null,
   "metadata": {},
   "outputs": [],
   "source": [
    "#export\n",
    "class ProcessedDataset: \n",
    "    \"\"\"Class that wraps a raw dataset (e.g. from huggingface datasets) and performs preprocessing on it.\"\"\"\n",
    "    def __init__(self, cfg, vm_tokenizer, vm_model, pp_tokenizer, sts_model,\n",
    "                 load_processed_from_file=True): \n",
    "        \"\"\"load_processed_from_file: set to true to load completed version from file, false will process the data. \"\"\"\n",
    "        self._cfg,self._vm_tokenizer,self._vm_model,self._pp_tokenizer,self._sts_model = cfg,vm_tokenizer,vm_model,pp_tokenizer,sts_model\n",
    "        shard_suffix = f\"_{self._cfg.n_shards}_shards\" if self._cfg.use_small_ds else \"\"\n",
    "        self.cache_path_raw = f\"{self._cfg.path_data_cache}{self._cfg.dataset_name}_raw{shard_suffix}\"\n",
    "        self.cache_path_tkn = f\"{self._cfg.path_data_cache}{self._cfg.dataset_name}_tkn{shard_suffix}\"\n",
    "        \n",
    "        if load_processed_from_file:\n",
    "            if os.path.exists(self.cache_path_raw) and os.path.exists(self.cache_path_tkn): \n",
    "                self.dsd_raw = load_from_disk(self.cache_path_raw) \n",
    "                self.dsd_tkn = load_from_disk(self.cache_path_tkn)\n",
    "                self._prep_dataloaders()\n",
    "            else: \n",
    "                warnings.warn(\"Cache file not found, so will now process the raw dataset.\")\n",
    "                self._preprocess_dataset() \n",
    "        else:   \n",
    "            self._preprocess_dataset() \n",
    "        self._update_cfg()\n",
    "            \n",
    "    def _prep_dsd_simple(self): \n",
    "        \"\"\"Load the simple dataset and package it up in a DatasetDict (dsd) \n",
    "        with splits for train, valid, test.\"\"\"\n",
    "        dsd = DatasetDict()\n",
    "        for s in self._cfg.splits:  \n",
    "            dsd[s] = load_dataset('csv', \n",
    "                data_files=f\"{self._cfg.path_data}simple_dataset_{s}.csv\", keep_in_memory=False)['train']\n",
    "        return dsd\n",
    "        \n",
    "    def _prep_dsd_rotten_tomatoes(self):\n",
    "        \"\"\"Load the rotten tomatoes dataet and package it up in a DatasetDict (dsd) \n",
    "        with splits for train, valid, test.\"\"\"\n",
    "        dsd = load_dataset(\"rotten_tomatoes\")\n",
    "        dsd['valid'] = dsd.pop('validation')  # \"valid\" is easier than \"validation\" \n",
    "        # make sure that all datasets have the same number of labels as what the victim model predicts\n",
    "        for _,ds in dsd.items(): assert ds.features[self._cfg.label_cname].num_classes == self._cfg.vm_num_labels \n",
    "        return dsd \n",
    "    \n",
    "    def _prep_dsd_raw_snli(self): \n",
    "        ## For snli\n",
    "        # remove_minus1_labels = lambda x: x[label_cname] != -1\n",
    "        # ds_train = ds_train.filter(remove_minus1_labels)\n",
    "        # valid = valid.filter(remove_minus1_labels)\n",
    "        # test = test.filter(remove_minus1_labels)\n",
    "        raise NotImplementedError(\"SNLI not implemented yet.\")\n",
    "    \n",
    "    def _preprocess_dataset(self): \n",
    "        \"\"\"Add columns, tokenize, transform, prepare dataloaders, and do other preprocessing tasks.\"\"\"\n",
    "        if   self._cfg.dataset_name == \"simple\":          dsd = self._prep_dsd_simple()\n",
    "        elif self._cfg.dataset_name == \"rotten_tomatoes\": dsd = self._prep_dsd_rotten_tomatoes()\n",
    "        else: raise Exception(\"cfg.dataset_name must be either 'simple' or 'rotten_tomatoes'\")\n",
    "        dsd = dsd.map(self._add_idx, batched=True, with_indices=True)  # add idx column\n",
    "        if self._cfg.use_small_ds: dsd = self._shard_dsd(dsd)  # do after adding idx so it's consistent across runs\n",
    "        # add VM score & filter out misclassified examples.\n",
    "        # use a common variable dsd, add all columns, and later filter columns to get dsd_raw and dsd_tkn\n",
    "        dsd = dsd.map(self._add_vm_orig_score, batched=True)  \n",
    "        if self._cfg.remove_misclassified_examples:  dsd = dsd.filter(lambda x: x['orig_vm_predclass'] == x['label']) \n",
    "        dsd = dsd.map(self._add_sts_orig_embeddings, batched=True)  # add STS score \n",
    "        dsd = dsd.map(self._tokenize_fn,             batched=True)  # tokenize\n",
    "        dsd = dsd.map(self._add_n_tokens,            batched=True)  # add n_tokens\n",
    "        if self._cfg.bucket_by_length: dsd = dsd.sort(\"n_tokens\", reverse=True)  # sort by n_tokens (high to low), useful for cuda memory caching\n",
    "        # Split dsd into dsd_raw and dsd_tkn\n",
    "        assert dsd.column_names['train'] == dsd.column_names['valid'] == dsd.column_names['test']\n",
    "        self.cnames_dsd_raw = ['idx', 'text', 'label']\n",
    "        self.cnames_dsd_tkn = [o for o in dsd.column_names['train'] if o != 'text'] \n",
    "        self.dsd_raw = dsd.remove_columns([o for o in  dsd['train'].column_names if o not in self.cnames_dsd_raw])\n",
    "        self.dsd_tkn = dsd.remove_columns([\"text\"])\n",
    "        for s in self._cfg.splits: assert len(self.dsd_raw[s]) == len(self.dsd_tkn[s])  # check ds has same number of elements in raw and tkn\n",
    "        self._cache_processed_ds()\n",
    "        self._prep_dataloaders()\n",
    "        \n",
    "    def _prep_dataloaders(self): \n",
    "        self.dld_raw = self._get_dataloaders_dict(self.dsd_raw, collate_fn=self._collate_fn_raw)  # dict of data loaders that serve raw text\n",
    "        self.dld_tkn = self._get_dataloaders_dict(self.dsd_tkn, collate_fn=self._collate_fn_tkn)  # dict of data loaders that serve tokenized text\n",
    "        \n",
    "    def _add_idx(self, batch, idx):\n",
    "        \"\"\"Add row numbers\"\"\"\n",
    "        batch['idx'] = idx \n",
    "        return batch   \n",
    "    \n",
    "    def _add_n_tokens(self, batch): \n",
    "        \"\"\"Add the number of tokens of the orig text \"\"\"\n",
    "        batch['n_tokens'] = [len(o) for o in batch['input_ids']]\n",
    "        return batch \n",
    "    \n",
    "    def _add_sts_orig_embeddings(self, batch): \n",
    "        \"\"\"Add the sts embeddings of the orig text\"\"\"\n",
    "        batch['orig_sts_embeddings'] = self._sts_model.encode(batch[self._cfg.orig_cname], batch_size=64, convert_to_tensor=False)\n",
    "        return batch\n",
    "    \n",
    "    def _add_vm_orig_score(self, batch): \n",
    "        \"\"\"Add the vm score of the orig text\"\"\"\n",
    "        labels = torch.tensor(batch[self._cfg.label_cname], device=self._cfg.device)\n",
    "        orig_probs,orig_predclass = get_vm_probs(batch[self._cfg.orig_cname], self._cfg, self._vm_tokenizer,\n",
    "                                                 self._vm_model, return_predclass=True)\n",
    "        batch['orig_truelabel_probs'] = torch.gather(orig_probs,1, labels[:,None]).squeeze().cpu().tolist()\n",
    "        batch['orig_vm_predclass'] = orig_predclass.cpu().tolist()\n",
    "        return batch\n",
    "    \n",
    "    def _tokenize_fn(self, batch):  \n",
    "        \"\"\"Tokenize a batch of orig text using the paraphrase tokenizer.\"\"\"\n",
    "        return self._pp_tokenizer(batch[self._cfg.orig_cname], truncation=True, max_length=self._cfg.orig_max_length)  \n",
    "    \n",
    "    def _collate_fn_tkn(self, x): \n",
    "        \"\"\"Collate function used by the DataLoader that serves tokenized data. \n",
    "        x is a list (with length batch_size) of dicts. Keys should be the same across dicts.\n",
    "        I guess an error is raised if not. \"\"\"\n",
    "        # check all keys are the same in the list. the assert is quick (~1e-5 seconds)\n",
    "        for o in x: assert set(o) == set(x[0])\n",
    "        d = dict()\n",
    "        for k in x[0].keys():  d[k] = [o[k] for o in x]\n",
    "        return self._pp_tokenizer.pad(d, pad_to_multiple_of=self._cfg.orig_padding_multiple, return_tensors=\"pt\")\n",
    "\n",
    "    def _collate_fn_raw(self, x): \n",
    "        \"\"\"Collate function used by the DataLoader that serves raw data. x is a list of data.\"\"\"\n",
    "        d = dict()\n",
    "        for o in x: assert set(o) == set(x[0])  # check all keys are the same in list\n",
    "        for k in x[0].keys(): d[k] = [o[k] for o in x]\n",
    "        return d \n",
    "\n",
    "    def _get_sampler(self, ds): \n",
    "        \"\"\"Returns a RandomSampler. Used so we can keep the same shuffle order across multiple data loaders.\n",
    "        Used when self._cfg.shuffle_train = True\"\"\"\n",
    "        g = torch.Generator()\n",
    "        g.manual_seed(seed)\n",
    "        return RandomSampler(ds, generator=g)\n",
    "    \n",
    "    def _shard_dsd(self, dsd):\n",
    "        \"\"\"Replaces dsd with a smaller shard of itself.\"\"\"\n",
    "        for k,v in dsd.items():  \n",
    "            dsd[k] = v.shard(self._cfg.n_shards, 0, contiguous=self._cfg.shard_contiguous)\n",
    "        return dsd\n",
    "        \n",
    "    def _get_dataloaders_dict(self, dsd, collate_fn): \n",
    "        \"\"\"Prepare a dict of dataloaders for train, valid and test\"\"\"\n",
    "        if self._cfg.bucket_by_length and self._cfg.shuffle_train:  raise Exception(\"Can only do one of bucket by length or shuffle\")\n",
    "        d = dict()\n",
    "        for split, ds in dsd.items(): \n",
    "            if self._cfg.shuffle_train:\n",
    "                if split == \"train\": \n",
    "                    sampler = self.get_sampler(ds)\n",
    "                    d[split] =  DataLoader(ds, batch_size=self._cfg.batch_size_train, \n",
    "                                           sampler=sampler, collate_fn=collate_fn, \n",
    "                                           num_workers=self._cfg.n_wkrs, pin_memory=self._cfg.pin_memory) \n",
    "                else: \n",
    "                    d[split] =  DataLoader(ds, batch_size=self._cfg.batch_size_eval, \n",
    "                                           shuffle=False, collate_fn=collate_fn, \n",
    "                                           num_workers=self._cfg.n_wkrs, pin_memory=self._cfg.pin_memory) \n",
    "            if self._cfg.bucket_by_length: \n",
    "                batch_size = self._cfg.batch_size_train if split == \"train\" else self._cfg.batch_size_eval\n",
    "                d[split] =  DataLoader(ds, batch_size=batch_size, shuffle=False, collate_fn=collate_fn, \n",
    "                                       num_workers=self._cfg.n_wkrs, pin_memory=self._cfg.pin_memory) \n",
    "\n",
    "        # Add eval dataloader for train: same as train but bigger batch size and explicitly no shuffling.\n",
    "        d['train_eval'] = DataLoader(dsd['train'], batch_size=self._cfg.batch_size_eval, shuffle=False,\n",
    "                                    collate_fn=collate_fn, \n",
    "                                     num_workers=self._cfg.n_wkrs, pin_memory=self._cfg.pin_memory) \n",
    "        return d \n",
    "    \n",
    "    def _update_cfg(self): \n",
    "        self._cfg.ds_length,self._cfg.dl_n_batches,self._cfg.dl_last_batch_size,self._cfg.dl_batch_sizes = dict(),dict(),dict(),dict()\n",
    "        def get_dl_batch_sizes(batch_size, dl_n_batches): \n",
    "            l = [batch_size for i in range(dl_n_batches - 1)]\n",
    "            l.append(self._cfg.dl_last_batch_size[k])\n",
    "            return l\n",
    "                \n",
    "        for k,v in self.dsd_raw.items(): self._cfg.ds_length[k] = len(v)   # Dataset lengths\n",
    "        for k,v in self.dld_raw.items(): \n",
    "            self._cfg.dl_n_batches[k] = len(v)   # Dataloader lengths \n",
    "            # Dataloader last batch size and list of batch sizes\n",
    "            ds_k = \"train\" if k == \"train_eval\" else k \n",
    "            if k == \"train\": \n",
    "                self._cfg.dl_last_batch_size[k] = self._cfg.ds_length[ds_k] % self._cfg.batch_size_train\n",
    "                self._cfg.dl_batch_sizes[k]     = get_dl_batch_sizes(self._cfg.batch_size_train, self._cfg.dl_n_batches[k])\n",
    "            else: \n",
    "                self._cfg.dl_last_batch_size[k] = self._cfg.ds_length[ds_k] % self._cfg.batch_size_eval\n",
    "                self._cfg.dl_batch_sizes[k]     = get_dl_batch_sizes(self._cfg.batch_size_eval, self._cfg.dl_n_batches[k])\n",
    "            \n",
    "        # Total number of training steps\n",
    "        self._cfg.n_train_steps = self._cfg.n_train_epochs * self._cfg.dl_n_batches['train']\n",
    "    \n",
    "    def _cache_processed_ds(self):\n",
    "        def _reset_dir(path): \n",
    "            if os.path.exists(path) and os.path.isdir(path):    \n",
    "                # So deleting the old files sometimes throws errors because of race conditions, I think \n",
    "                # so as a workaround we will just move files to old directories and then periodicallly clean them. \n",
    "                #                robust_rmtree(path, logger=None, max_retries=6)  \n",
    "                path_old_files = f\"{self._cfg.path_data_cache}old_files/\"\n",
    "                os.makedirs(path_old_files, exist_ok=True)\n",
    "                shutil.move(path, f\"{path_old_files}{uuid.uuid4().hex}\") \n",
    "            os.makedirs(path, exist_ok=True)\n",
    "        _reset_dir(self.cache_path_raw)\n",
    "        _reset_dir(self.cache_path_tkn)\n",
    "        self.dsd_raw.save_to_disk(dataset_dict_path = self.cache_path_raw)\n",
    "        self.dsd_tkn.save_to_disk(dataset_dict_path = self.cache_path_tkn)\n",
    "        \n",
    "    def show_random_elements(self, ds, num_examples=10):\n",
    "        \"\"\"Print some elements in a nice format so you can take a look at them. \n",
    "        Split is one of 'train', 'test', 'valid'. \n",
    "        Use for a dataset `ds` from the `dataset` package.  \"\"\"\n",
    "        assert num_examples <= len(ds), \"Can't pick more elements than there are in the dataset.\"\n",
    "        picks = []\n",
    "        for _ in range(num_examples):\n",
    "            pick = random.randint(0, len(ds)-1)\n",
    "            while pick in picks:\n",
    "                pick = random.randint(0, len(ds)-1)\n",
    "            picks.append(pick)\n",
    "        df = pd.DataFrame(ds[picks])\n",
    "        for column, typ in ds.features.items():\n",
    "            if isinstance(typ, ClassLabel):\n",
    "                df[column] = df[column].transform(lambda i: typ.names[i])\n",
    "        display(HTML(df.to_html()))"
   ]
  },
  {
   "cell_type": "markdown",
   "metadata": {},
   "source": [
    "## Usage "
   ]
  },
  {
   "cell_type": "markdown",
   "metadata": {},
   "source": [
    "### Basics "
   ]
  },
  {
   "cell_type": "markdown",
   "metadata": {},
   "source": [
    "Here we have defined a class `ProcessedDataset` that will load and preprocess a dataset. But before processing the dataset you must load both the config object and all models/tokenizers, so we do this first. "
   ]
  },
  {
   "cell_type": "code",
   "execution_count": null,
   "metadata": {},
   "outputs": [],
   "source": [
    "from travis_attack.models import prepare_models\n",
    "cfg = Config()\n",
    "vm_tokenizer, vm_model, pp_tokenizer, pp_model, sts_model, cfg = prepare_models(cfg)"
   ]
  },
  {
   "cell_type": "markdown",
   "metadata": {},
   "source": [
    "Currently there are two choices for dataset: \n",
    "\n",
    "* `simple`, a dataset of simple sentences with four elements each in the train, test and valid splits\n",
    "* `rotten_tomatoes`, a dataset of movie reviews scraped from the Rotten Tomatoes site. \n",
    "\n",
    "The dataset is specified by the config class. There are two ways to do this. \n",
    "\n",
    "1. Edit the `self.dataset_name` variable in the Config class to either `simple` or `rotten_tomatoes`. An error will be thrown if the name is not one of these two. This is the best way to use when doing runs.   \n",
    "2. Use the `adjust_dataset_...` methods of the config class: e.g. `cfg = cfg.adjust_dataset_for_rotten_tomatoes_dataset() = Config()`. This is easiest for automated testing so we will do this here. "
   ]
  },
  {
   "cell_type": "markdown",
   "metadata": {},
   "source": [
    "Once the config is specified and loaded, create an object of class `ProcessedDataset` by passing the config, models and tokenizers as variables. This will do all preprocessing automatically in creating the object (the preprocessing code is in the `__init__()` function of the class.  "
   ]
  },
  {
   "cell_type": "code",
   "execution_count": null,
   "metadata": {},
   "outputs": [
    {
     "name": "stderr",
     "output_type": "stream",
     "text": [
      "Using custom data configuration default-b253756c445fb811\n",
      "Reusing dataset csv (/data/tproth/.cache/huggingface/datasets/csv/default-b253756c445fb811/0.0.0/6b9057d9e23d9d8a2f05b985917a0da84d70c5dae3d22ddd8a3f22fb01c69d9e)\n"
     ]
    },
    {
     "data": {
      "application/vnd.jupyter.widget-view+json": {
       "model_id": "7e11d0763d394d8384a071b95f78df5f",
       "version_major": 2,
       "version_minor": 0
      },
      "text/plain": [
       "  0%|          | 0/1 [00:00<?, ?it/s]"
      ]
     },
     "metadata": {},
     "output_type": "display_data"
    },
    {
     "name": "stderr",
     "output_type": "stream",
     "text": [
      "Using custom data configuration default-c802946231f72062\n",
      "Reusing dataset csv (/data/tproth/.cache/huggingface/datasets/csv/default-c802946231f72062/0.0.0/6b9057d9e23d9d8a2f05b985917a0da84d70c5dae3d22ddd8a3f22fb01c69d9e)\n"
     ]
    },
    {
     "data": {
      "application/vnd.jupyter.widget-view+json": {
       "model_id": "ce2832b6178942c6ad95066f44fc1cd7",
       "version_major": 2,
       "version_minor": 0
      },
      "text/plain": [
       "  0%|          | 0/1 [00:00<?, ?it/s]"
      ]
     },
     "metadata": {},
     "output_type": "display_data"
    },
    {
     "name": "stderr",
     "output_type": "stream",
     "text": [
      "Using custom data configuration default-43a49c5188c42e69\n",
      "Reusing dataset csv (/data/tproth/.cache/huggingface/datasets/csv/default-43a49c5188c42e69/0.0.0/6b9057d9e23d9d8a2f05b985917a0da84d70c5dae3d22ddd8a3f22fb01c69d9e)\n"
     ]
    },
    {
     "data": {
      "application/vnd.jupyter.widget-view+json": {
       "model_id": "0dbf586e0584408484588b6a8a45aa34",
       "version_major": 2,
       "version_minor": 0
      },
      "text/plain": [
       "  0%|          | 0/1 [00:00<?, ?it/s]"
      ]
     },
     "metadata": {},
     "output_type": "display_data"
    },
    {
     "data": {
      "application/vnd.jupyter.widget-view+json": {
       "model_id": "0a190eebaf5e4bc3a5c362f93b65a2f3",
       "version_major": 2,
       "version_minor": 0
      },
      "text/plain": [
       "  0%|          | 0/1 [00:00<?, ?ba/s]"
      ]
     },
     "metadata": {},
     "output_type": "display_data"
    },
    {
     "data": {
      "application/vnd.jupyter.widget-view+json": {
       "model_id": "1c4fb58162724dc0b8c1f769e6d696a5",
       "version_major": 2,
       "version_minor": 0
      },
      "text/plain": [
       "  0%|          | 0/1 [00:00<?, ?ba/s]"
      ]
     },
     "metadata": {},
     "output_type": "display_data"
    },
    {
     "data": {
      "application/vnd.jupyter.widget-view+json": {
       "model_id": "fd56a5cd756a4f58a22329d4391cbfd3",
       "version_major": 2,
       "version_minor": 0
      },
      "text/plain": [
       "  0%|          | 0/1 [00:00<?, ?ba/s]"
      ]
     },
     "metadata": {},
     "output_type": "display_data"
    },
    {
     "data": {
      "application/vnd.jupyter.widget-view+json": {
       "model_id": "4389991a02444fd5b63ea19cde94fde4",
       "version_major": 2,
       "version_minor": 0
      },
      "text/plain": [
       "  0%|          | 0/1 [00:00<?, ?ba/s]"
      ]
     },
     "metadata": {},
     "output_type": "display_data"
    },
    {
     "data": {
      "application/vnd.jupyter.widget-view+json": {
       "model_id": "a7d8dc598bdd4796bd3d907f7456902f",
       "version_major": 2,
       "version_minor": 0
      },
      "text/plain": [
       "  0%|          | 0/1 [00:00<?, ?ba/s]"
      ]
     },
     "metadata": {},
     "output_type": "display_data"
    },
    {
     "data": {
      "application/vnd.jupyter.widget-view+json": {
       "model_id": "d6d59c8ed6c04cbd8058fb166a8e5b99",
       "version_major": 2,
       "version_minor": 0
      },
      "text/plain": [
       "  0%|          | 0/1 [00:00<?, ?ba/s]"
      ]
     },
     "metadata": {},
     "output_type": "display_data"
    },
    {
     "data": {
      "application/vnd.jupyter.widget-view+json": {
       "model_id": "22776d1c8d534ba3918fef2985157707",
       "version_major": 2,
       "version_minor": 0
      },
      "text/plain": [
       "  0%|          | 0/1 [00:00<?, ?ba/s]"
      ]
     },
     "metadata": {},
     "output_type": "display_data"
    },
    {
     "data": {
      "application/vnd.jupyter.widget-view+json": {
       "model_id": "5dc64d5bf6c848ab8e2d00b79619c2b7",
       "version_major": 2,
       "version_minor": 0
      },
      "text/plain": [
       "  0%|          | 0/1 [00:00<?, ?ba/s]"
      ]
     },
     "metadata": {},
     "output_type": "display_data"
    },
    {
     "data": {
      "application/vnd.jupyter.widget-view+json": {
       "model_id": "d45a87539c8346d2b6dc43628c5c1f1a",
       "version_major": 2,
       "version_minor": 0
      },
      "text/plain": [
       "  0%|          | 0/1 [00:00<?, ?ba/s]"
      ]
     },
     "metadata": {},
     "output_type": "display_data"
    },
    {
     "data": {
      "application/vnd.jupyter.widget-view+json": {
       "model_id": "b482fa763e1f454bb55648f7ca9890f1",
       "version_major": 2,
       "version_minor": 0
      },
      "text/plain": [
       "  0%|          | 0/1 [00:00<?, ?ba/s]"
      ]
     },
     "metadata": {},
     "output_type": "display_data"
    },
    {
     "data": {
      "application/vnd.jupyter.widget-view+json": {
       "model_id": "91c1e35d61ee4ae59ea7782370bbf7d1",
       "version_major": 2,
       "version_minor": 0
      },
      "text/plain": [
       "  0%|          | 0/1 [00:00<?, ?ba/s]"
      ]
     },
     "metadata": {},
     "output_type": "display_data"
    },
    {
     "data": {
      "application/vnd.jupyter.widget-view+json": {
       "model_id": "5ec0e3bc698140828f0ff7782442b907",
       "version_major": 2,
       "version_minor": 0
      },
      "text/plain": [
       "  0%|          | 0/1 [00:00<?, ?ba/s]"
      ]
     },
     "metadata": {},
     "output_type": "display_data"
    },
    {
     "data": {
      "application/vnd.jupyter.widget-view+json": {
       "model_id": "81a039f8de0948458e5b6a3428880a84",
       "version_major": 2,
       "version_minor": 0
      },
      "text/plain": [
       "  0%|          | 0/1 [00:00<?, ?ba/s]"
      ]
     },
     "metadata": {},
     "output_type": "display_data"
    },
    {
     "data": {
      "application/vnd.jupyter.widget-view+json": {
       "model_id": "a42e2d16fc934c0088cde05ebe1fb8d4",
       "version_major": 2,
       "version_minor": 0
      },
      "text/plain": [
       "  0%|          | 0/1 [00:00<?, ?ba/s]"
      ]
     },
     "metadata": {},
     "output_type": "display_data"
    },
    {
     "data": {
      "application/vnd.jupyter.widget-view+json": {
       "model_id": "fb22185abd1b4c36b49f94460d49bb95",
       "version_major": 2,
       "version_minor": 0
      },
      "text/plain": [
       "  0%|          | 0/1 [00:00<?, ?ba/s]"
      ]
     },
     "metadata": {},
     "output_type": "display_data"
    },
    {
     "data": {
      "application/vnd.jupyter.widget-view+json": {
       "model_id": "bcf149caf4244d71a58438f04a64c0b7",
       "version_major": 2,
       "version_minor": 0
      },
      "text/plain": [
       "  0%|          | 0/1 [00:00<?, ?ba/s]"
      ]
     },
     "metadata": {},
     "output_type": "display_data"
    },
    {
     "data": {
      "application/vnd.jupyter.widget-view+json": {
       "model_id": "e16dffa73bd1412f957aac1f20054239",
       "version_major": 2,
       "version_minor": 0
      },
      "text/plain": [
       "  0%|          | 0/1 [00:00<?, ?ba/s]"
      ]
     },
     "metadata": {},
     "output_type": "display_data"
    },
    {
     "data": {
      "application/vnd.jupyter.widget-view+json": {
       "model_id": "98a467f72b6f4637a9ba143c470d2588",
       "version_major": 2,
       "version_minor": 0
      },
      "text/plain": [
       "  0%|          | 0/1 [00:00<?, ?ba/s]"
      ]
     },
     "metadata": {},
     "output_type": "display_data"
    },
    {
     "data": {
      "application/vnd.jupyter.widget-view+json": {
       "model_id": "56bc3911f1ad4c8593135a3ac1d72bb3",
       "version_major": 2,
       "version_minor": 0
      },
      "text/plain": [
       "Flattening the indices:   0%|          | 0/1 [00:00<?, ?ba/s]"
      ]
     },
     "metadata": {},
     "output_type": "display_data"
    },
    {
     "data": {
      "application/vnd.jupyter.widget-view+json": {
       "model_id": "8e42002162964e61af3126b4113f3fd9",
       "version_major": 2,
       "version_minor": 0
      },
      "text/plain": [
       "Flattening the indices:   0%|          | 0/1 [00:00<?, ?ba/s]"
      ]
     },
     "metadata": {},
     "output_type": "display_data"
    },
    {
     "data": {
      "application/vnd.jupyter.widget-view+json": {
       "model_id": "8f5887d041114a40b20f1ee6eba55d9a",
       "version_major": 2,
       "version_minor": 0
      },
      "text/plain": [
       "Flattening the indices:   0%|          | 0/1 [00:00<?, ?ba/s]"
      ]
     },
     "metadata": {},
     "output_type": "display_data"
    },
    {
     "data": {
      "application/vnd.jupyter.widget-view+json": {
       "model_id": "ff46b79198d44417acfe6c4fab245bc3",
       "version_major": 2,
       "version_minor": 0
      },
      "text/plain": [
       "Flattening the indices:   0%|          | 0/1 [00:00<?, ?ba/s]"
      ]
     },
     "metadata": {},
     "output_type": "display_data"
    },
    {
     "data": {
      "application/vnd.jupyter.widget-view+json": {
       "model_id": "0f80301f887e444e94e6cdcc0eb3dacb",
       "version_major": 2,
       "version_minor": 0
      },
      "text/plain": [
       "Flattening the indices:   0%|          | 0/1 [00:00<?, ?ba/s]"
      ]
     },
     "metadata": {},
     "output_type": "display_data"
    },
    {
     "data": {
      "application/vnd.jupyter.widget-view+json": {
       "model_id": "2a0027e7847d4436aee0f896184f5b14",
       "version_major": 2,
       "version_minor": 0
      },
      "text/plain": [
       "Flattening the indices:   0%|          | 0/1 [00:00<?, ?ba/s]"
      ]
     },
     "metadata": {},
     "output_type": "display_data"
    }
   ],
   "source": [
    "cfg_simple = cfg.adjust_config_for_simple_dataset()\n",
    "ds = ProcessedDataset(cfg_simple, vm_tokenizer, vm_model, pp_tokenizer, sts_model, \n",
    "                      load_processed_from_file=False)"
   ]
  },
  {
   "cell_type": "markdown",
   "metadata": {},
   "source": [
    "If you want to use the small dataset adjust the config before creating the `ProcessedDataset` object. "
   ]
  },
  {
   "cell_type": "code",
   "execution_count": null,
   "metadata": {},
   "outputs": [
    {
     "name": "stderr",
     "output_type": "stream",
     "text": [
      "Using custom data configuration default\n",
      "Reusing dataset rotten_tomatoes_movie_review (/data/tproth/.cache/huggingface/datasets/rotten_tomatoes_movie_review/default/1.0.0/40d411e45a6ce3484deed7cc15b82a53dad9a72aafd9f86f8f227134bec5ca46)\n"
     ]
    },
    {
     "data": {
      "application/vnd.jupyter.widget-view+json": {
       "model_id": "34ba6fded33e4aed8be59808017a8c09",
       "version_major": 2,
       "version_minor": 0
      },
      "text/plain": [
       "  0%|          | 0/3 [00:00<?, ?it/s]"
      ]
     },
     "metadata": {},
     "output_type": "display_data"
    },
    {
     "data": {
      "application/vnd.jupyter.widget-view+json": {
       "model_id": "5c88cde5702f43c1b85e148b6ae66e58",
       "version_major": 2,
       "version_minor": 0
      },
      "text/plain": [
       "  0%|          | 0/9 [00:00<?, ?ba/s]"
      ]
     },
     "metadata": {},
     "output_type": "display_data"
    },
    {
     "data": {
      "application/vnd.jupyter.widget-view+json": {
       "model_id": "22f32356df684f63a3b9b08c03e933a9",
       "version_major": 2,
       "version_minor": 0
      },
      "text/plain": [
       "  0%|          | 0/2 [00:00<?, ?ba/s]"
      ]
     },
     "metadata": {},
     "output_type": "display_data"
    },
    {
     "data": {
      "application/vnd.jupyter.widget-view+json": {
       "model_id": "0f4f4ea8ba3546bf8be281caddcbc34e",
       "version_major": 2,
       "version_minor": 0
      },
      "text/plain": [
       "  0%|          | 0/2 [00:00<?, ?ba/s]"
      ]
     },
     "metadata": {},
     "output_type": "display_data"
    },
    {
     "data": {
      "application/vnd.jupyter.widget-view+json": {
       "model_id": "046243c9283749efbd1aadd4083e5ee5",
       "version_major": 2,
       "version_minor": 0
      },
      "text/plain": [
       "  0%|          | 0/1 [00:00<?, ?ba/s]"
      ]
     },
     "metadata": {},
     "output_type": "display_data"
    },
    {
     "data": {
      "application/vnd.jupyter.widget-view+json": {
       "model_id": "9bfa111b6e0c446ca5323988f23d7cec",
       "version_major": 2,
       "version_minor": 0
      },
      "text/plain": [
       "  0%|          | 0/1 [00:00<?, ?ba/s]"
      ]
     },
     "metadata": {},
     "output_type": "display_data"
    },
    {
     "data": {
      "application/vnd.jupyter.widget-view+json": {
       "model_id": "11b4d5b090c64326bbbf58a179b834a2",
       "version_major": 2,
       "version_minor": 0
      },
      "text/plain": [
       "  0%|          | 0/1 [00:00<?, ?ba/s]"
      ]
     },
     "metadata": {},
     "output_type": "display_data"
    },
    {
     "data": {
      "application/vnd.jupyter.widget-view+json": {
       "model_id": "ac9afa4911fe4965b29cf7449d300881",
       "version_major": 2,
       "version_minor": 0
      },
      "text/plain": [
       "  0%|          | 0/1 [00:00<?, ?ba/s]"
      ]
     },
     "metadata": {},
     "output_type": "display_data"
    },
    {
     "data": {
      "application/vnd.jupyter.widget-view+json": {
       "model_id": "b526c2b0344e484e9291ebe12ca5807c",
       "version_major": 2,
       "version_minor": 0
      },
      "text/plain": [
       "  0%|          | 0/1 [00:00<?, ?ba/s]"
      ]
     },
     "metadata": {},
     "output_type": "display_data"
    },
    {
     "data": {
      "application/vnd.jupyter.widget-view+json": {
       "model_id": "aa1300414c534ddab7045fb587ad9147",
       "version_major": 2,
       "version_minor": 0
      },
      "text/plain": [
       "  0%|          | 0/1 [00:00<?, ?ba/s]"
      ]
     },
     "metadata": {},
     "output_type": "display_data"
    },
    {
     "data": {
      "application/vnd.jupyter.widget-view+json": {
       "model_id": "eb34b18ac2cf4a6086fc9c543571b241",
       "version_major": 2,
       "version_minor": 0
      },
      "text/plain": [
       "  0%|          | 0/1 [00:00<?, ?ba/s]"
      ]
     },
     "metadata": {},
     "output_type": "display_data"
    },
    {
     "data": {
      "application/vnd.jupyter.widget-view+json": {
       "model_id": "90e904ae99b64d9a8d790dc8a6d0d725",
       "version_major": 2,
       "version_minor": 0
      },
      "text/plain": [
       "  0%|          | 0/1 [00:00<?, ?ba/s]"
      ]
     },
     "metadata": {},
     "output_type": "display_data"
    },
    {
     "data": {
      "application/vnd.jupyter.widget-view+json": {
       "model_id": "dd9eb401d91e4ebcb57d02157178668c",
       "version_major": 2,
       "version_minor": 0
      },
      "text/plain": [
       "  0%|          | 0/1 [00:00<?, ?ba/s]"
      ]
     },
     "metadata": {},
     "output_type": "display_data"
    },
    {
     "data": {
      "application/vnd.jupyter.widget-view+json": {
       "model_id": "22a01cfb20b149918b2ce14dbaa5bc26",
       "version_major": 2,
       "version_minor": 0
      },
      "text/plain": [
       "  0%|          | 0/1 [00:00<?, ?ba/s]"
      ]
     },
     "metadata": {},
     "output_type": "display_data"
    },
    {
     "data": {
      "application/vnd.jupyter.widget-view+json": {
       "model_id": "6af2e360fd824f6f9319d035314e742d",
       "version_major": 2,
       "version_minor": 0
      },
      "text/plain": [
       "  0%|          | 0/1 [00:00<?, ?ba/s]"
      ]
     },
     "metadata": {},
     "output_type": "display_data"
    },
    {
     "data": {
      "application/vnd.jupyter.widget-view+json": {
       "model_id": "9857e0a55de449db92fa25f4c6922ff2",
       "version_major": 2,
       "version_minor": 0
      },
      "text/plain": [
       "  0%|          | 0/1 [00:00<?, ?ba/s]"
      ]
     },
     "metadata": {},
     "output_type": "display_data"
    },
    {
     "data": {
      "application/vnd.jupyter.widget-view+json": {
       "model_id": "9ccef06194ef4d7e829d0ac9ceac1a1c",
       "version_major": 2,
       "version_minor": 0
      },
      "text/plain": [
       "  0%|          | 0/1 [00:00<?, ?ba/s]"
      ]
     },
     "metadata": {},
     "output_type": "display_data"
    },
    {
     "data": {
      "application/vnd.jupyter.widget-view+json": {
       "model_id": "da592e86b6e24b37b7a6154cc031755b",
       "version_major": 2,
       "version_minor": 0
      },
      "text/plain": [
       "  0%|          | 0/1 [00:00<?, ?ba/s]"
      ]
     },
     "metadata": {},
     "output_type": "display_data"
    },
    {
     "data": {
      "application/vnd.jupyter.widget-view+json": {
       "model_id": "41ec4785d7d1405caae000b4a2f8f749",
       "version_major": 2,
       "version_minor": 0
      },
      "text/plain": [
       "  0%|          | 0/1 [00:00<?, ?ba/s]"
      ]
     },
     "metadata": {},
     "output_type": "display_data"
    },
    {
     "data": {
      "application/vnd.jupyter.widget-view+json": {
       "model_id": "e263349ad7df445d82d6b4cdbeb88c38",
       "version_major": 2,
       "version_minor": 0
      },
      "text/plain": [
       "Flattening the indices:   0%|          | 0/1 [00:00<?, ?ba/s]"
      ]
     },
     "metadata": {},
     "output_type": "display_data"
    },
    {
     "data": {
      "application/vnd.jupyter.widget-view+json": {
       "model_id": "da886f605fd04d35aad19efef6a69053",
       "version_major": 2,
       "version_minor": 0
      },
      "text/plain": [
       "Flattening the indices:   0%|          | 0/1 [00:00<?, ?ba/s]"
      ]
     },
     "metadata": {},
     "output_type": "display_data"
    },
    {
     "data": {
      "application/vnd.jupyter.widget-view+json": {
       "model_id": "7ed04d28e4294f459a50fc4881df2070",
       "version_major": 2,
       "version_minor": 0
      },
      "text/plain": [
       "Flattening the indices:   0%|          | 0/1 [00:00<?, ?ba/s]"
      ]
     },
     "metadata": {},
     "output_type": "display_data"
    },
    {
     "data": {
      "application/vnd.jupyter.widget-view+json": {
       "model_id": "5a36b6be12c1444695cca0302ebc8319",
       "version_major": 2,
       "version_minor": 0
      },
      "text/plain": [
       "Flattening the indices:   0%|          | 0/1 [00:00<?, ?ba/s]"
      ]
     },
     "metadata": {},
     "output_type": "display_data"
    },
    {
     "data": {
      "application/vnd.jupyter.widget-view+json": {
       "model_id": "a8a6651129f640908a5d3ad528334686",
       "version_major": 2,
       "version_minor": 0
      },
      "text/plain": [
       "Flattening the indices:   0%|          | 0/1 [00:00<?, ?ba/s]"
      ]
     },
     "metadata": {},
     "output_type": "display_data"
    },
    {
     "data": {
      "application/vnd.jupyter.widget-view+json": {
       "model_id": "8fdb2a65a1364ccdb838280ee4e60ee6",
       "version_major": 2,
       "version_minor": 0
      },
      "text/plain": [
       "Flattening the indices:   0%|          | 0/1 [00:00<?, ?ba/s]"
      ]
     },
     "metadata": {},
     "output_type": "display_data"
    }
   ],
   "source": [
    "cfg_rt_small_ds = cfg.adjust_config_for_rotten_tomatoes_dataset().small_ds()\n",
    "ds = ProcessedDataset(cfg_rt_small_ds, vm_tokenizer, vm_model, pp_tokenizer, sts_model,\n",
    "                      load_processed_from_file=False)"
   ]
  },
  {
   "cell_type": "code",
   "execution_count": null,
   "metadata": {},
   "outputs": [
    {
     "data": {
      "text/plain": [
       "[16,\n",
       " 16,\n",
       " 16,\n",
       " 16,\n",
       " 16,\n",
       " 16,\n",
       " 16,\n",
       " 16,\n",
       " 16,\n",
       " 16,\n",
       " 16,\n",
       " 16,\n",
       " 4,\n",
       " 16,\n",
       " 16,\n",
       " 16,\n",
       " 16,\n",
       " 16,\n",
       " 16,\n",
       " 16,\n",
       " 16,\n",
       " 16,\n",
       " 16,\n",
       " 16,\n",
       " 16,\n",
       " 4]"
      ]
     },
     "execution_count": null,
     "metadata": {},
     "output_type": "execute_result"
    }
   ],
   "source": [
    "cfg_rt_small_ds.dl_batch_sizes['train'] * 2"
   ]
  },
  {
   "cell_type": "markdown",
   "metadata": {},
   "source": [
    "### Accessing datasets"
   ]
  },
  {
   "cell_type": "markdown",
   "metadata": {},
   "source": [
    "You can access raw data with `ds.dsd_raw` and processed data with the `ds.dsd_tkn`. (The dsd here stands for \"DatasetDict\")"
   ]
  },
  {
   "cell_type": "code",
   "execution_count": null,
   "metadata": {},
   "outputs": [],
   "source": [
    "ds.dsd_raw"
   ]
  },
  {
   "cell_type": "code",
   "execution_count": null,
   "metadata": {},
   "outputs": [],
   "source": [
    "ds.dsd_tkn"
   ]
  },
  {
   "cell_type": "markdown",
   "metadata": {},
   "source": [
    "You can access elements by indexing: "
   ]
  },
  {
   "cell_type": "code",
   "execution_count": null,
   "metadata": {},
   "outputs": [],
   "source": [
    "ds.dsd_raw['valid'][0:2]"
   ]
  },
  {
   "cell_type": "code",
   "execution_count": null,
   "metadata": {},
   "outputs": [],
   "source": [
    "ds.dsd_tkn['valid'][0:2]"
   ]
  },
  {
   "cell_type": "markdown",
   "metadata": {},
   "source": [
    "Alternately you can look at some random elements of a dataset with the `ds.show_random_elements()` method. "
   ]
  },
  {
   "cell_type": "code",
   "execution_count": null,
   "metadata": {},
   "outputs": [],
   "source": [
    "ds.show_random_elements(ds.dsd_raw['train'], num_examples=3)"
   ]
  },
  {
   "cell_type": "code",
   "execution_count": null,
   "metadata": {},
   "outputs": [],
   "source": [
    "ds.show_random_elements(ds.dsd_tkn['train'], num_examples=3)"
   ]
  },
  {
   "cell_type": "markdown",
   "metadata": {},
   "source": [
    "### Accessing DataLoaders "
   ]
  },
  {
   "cell_type": "markdown",
   "metadata": {},
   "source": [
    "We can access dataloaders for the raw text in `ds.dsd_raw` with `ds.dld_raw`, and for the tokenised text in `ds.dsd_tkn` with `ds_dld_tkn`. Both of these are dictionaries of dataloaders with keys `['train', 'valid', 'test', 'train_eval]`. "
   ]
  },
  {
   "cell_type": "code",
   "execution_count": null,
   "metadata": {},
   "outputs": [],
   "source": [
    "print(\"Dataloader dict has keys:\", ds.dld_raw.keys())\n",
    "batch_raw = next(iter(ds.dld_raw['train']))\n",
    "batch_tkn = next(iter(ds.dld_tkn['train']))\n",
    "print(batch_raw.keys())\n",
    "print(batch_tkn.keys())\n",
    "print(\"Tokenised input is of shape:\", batch_tkn['input_ids'].shape)"
   ]
  },
  {
   "cell_type": "markdown",
   "metadata": {},
   "source": [
    "#hide\n",
    "## Export "
   ]
  },
  {
   "cell_type": "code",
   "execution_count": null,
   "metadata": {},
   "outputs": [
    {
     "name": "stdout",
     "output_type": "stream",
     "text": [
      "Converted 00_utils.ipynb.\n",
      "Converted 02_tests.ipynb.\n",
      "Converted 03_config.ipynb.\n",
      "Converted 07_models.ipynb.\n",
      "Converted 10_data.ipynb.\n",
      "Converted 20_trainer.ipynb.\n",
      "Converted 25_insights.ipynb.\n",
      "Converted 35_charts.ipynb.\n",
      "Converted index.ipynb.\n",
      "Converted run.ipynb.\n"
     ]
    }
   ],
   "source": [
    "#hide\n",
    "from nbdev.export import notebook2script\n",
    "notebook2script()"
   ]
  },
  {
   "cell_type": "code",
   "execution_count": null,
   "metadata": {},
   "outputs": [],
   "source": []
  }
 ],
 "metadata": {
  "kernelspec": {
   "display_name": "Python 3",
   "language": "python",
   "name": "python3"
  }
 },
 "nbformat": 4,
 "nbformat_minor": 4
}
