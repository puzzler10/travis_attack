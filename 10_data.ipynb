{
 "cells": [
  {
   "cell_type": "code",
   "execution_count": null,
   "metadata": {},
   "outputs": [],
   "source": [
    "#default_exp data"
   ]
  },
  {
   "cell_type": "code",
   "execution_count": null,
   "metadata": {},
   "outputs": [],
   "source": [
    "#hide\n",
    "%load_ext autoreload\n",
    "%autoreload 2\n",
    "%load_ext line_profiler"
   ]
  },
  {
   "cell_type": "code",
   "execution_count": null,
   "metadata": {},
   "outputs": [],
   "source": [
    "#export\n",
    "import torch, random, pandas as pd\n",
    "from torch.utils.data import DataLoader, RandomSampler\n",
    "from datasets import load_dataset, load_from_disk, DatasetDict, ClassLabel\n",
    "from IPython.display import display, HTML\n",
    "from travis_attack.models import get_vm_probs\n",
    "from travis_attack.config import Config"
   ]
  },
  {
   "cell_type": "code",
   "execution_count": null,
   "metadata": {},
   "outputs": [],
   "source": [
    "#hide\n",
    "import inspect\n",
    "from IPython.core.debugger import set_trace"
   ]
  },
  {
   "cell_type": "markdown",
   "metadata": {},
   "source": [
    "# Preparing data"
   ]
  },
  {
   "cell_type": "markdown",
   "metadata": {},
   "source": [
    "## Classes "
   ]
  },
  {
   "cell_type": "markdown",
   "metadata": {},
   "source": [
    "### Base class"
   ]
  },
  {
   "cell_type": "code",
   "execution_count": null,
   "metadata": {},
   "outputs": [],
   "source": [
    "#export\n",
    "class ProcessedDataset: \n",
    "    \"\"\"Class that wraps a raw dataset (e.g. from huggingface datasets) and performs preprocessing on it.\"\"\"\n",
    "    def __init__(self, cfg, vm_tokenizer, vm_model, pp_tokenizer, sts_model): \n",
    "        self._cfg,self._vm_tokenizer,self._vm_model,self._pp_tokenizer,self._sts_model = cfg,vm_tokenizer,vm_model,pp_tokenizer,sts_model\n",
    "        if   self._cfg.dataset_name == \"simple\":          self._prep_dsd_raw_simple()\n",
    "        elif self._cfg.dataset_name == \"rotten_tomatoes\": self._prep_dsd_raw_rotten_tomatoes()\n",
    "        else: raise Exception(\"cfg.dataset_name must be either 'simple' or 'rotten_tomatoes'\")\n",
    "        self._preprocess_dataset() \n",
    "        self._update_cfg()\n",
    "            \n",
    "    def _prep_dsd_raw_simple(self): \n",
    "        \"\"\"Load the simple dataset and package it up in a DatasetDict (dsd) \n",
    "        with splits for train, valid, test.\"\"\"\n",
    "        self.dsd_raw = DatasetDict()\n",
    "        for s in self._cfg.splits:  \n",
    "            self.dsd_raw[s] = load_dataset('csv', data_files=f\"{self._cfg.path_data}simple_dataset_{s}.csv\")['train']    \n",
    "        \n",
    "    def _prep_dsd_raw_rotten_tomatoes(self):\n",
    "        \"\"\"Load the rotten tomatoes dataet and package it up in a DatasetDict (dsd) \n",
    "        with splits for train, valid, test.\"\"\"\n",
    "        self.dsd_raw = load_dataset(\"rotten_tomatoes\")\n",
    "        self.dsd_raw['valid'] = self.dsd_raw.pop('validation')  # \"valid\" is easier than \"validation\" \n",
    "        # make sure that all datasets have the same number of labels as what the victim model predicts\n",
    "        for _,ds in self.dsd_raw.items(): assert ds.features[self._cfg.label_cname].num_classes == self._cfg.vm_num_labels \n",
    "\n",
    "    def _prep_dsd_raw_snli(self): \n",
    "        ## For snli\n",
    "        # remove_minus1_labels = lambda x: x[label_cname] != -1\n",
    "        # ds_train = ds_train.filter(remove_minus1_labels)\n",
    "        # valid = valid.filter(remove_minus1_labels)\n",
    "        # test = test.filter(remove_minus1_labels)\n",
    "        raise NotImplementedError(\"SNLI not implemented yet.\")\n",
    "    \n",
    "    def _preprocess_dataset(self): \n",
    "        \"\"\"Add columns, tokenize, transform, prepare dataloaders, and do other preprocessing tasks.\"\"\"\n",
    "        ##### TODO: why do you need train_eval? how is it different from train?\n",
    "        self.dsd_raw = self.dsd_raw.map(self._add_idx, batched=True, with_indices=True)  # add idx column\n",
    "        if self._cfg.use_small_ds: self._shard_dsd_raw()  # do after adding idx so it's consistent across runs\n",
    "        # add VM score & filter out misclassified examples. (at this point lengths are diff between dsd_raw and dsd_tkn)\n",
    "        self.dsd_tkn = self.dsd_raw.map(self._add_vm_orig_score, batched=True)  \n",
    "        if self._cfg.remove_misclassified_examples: \n",
    "            self.dsd_tkn = self.dsd_tkn.filter(lambda x: x['orig_vm_predclass'] == x['label']) \n",
    "        self.dsd_tkn = self.dsd_tkn.map(self._add_sts_orig_embeddings, batched=True)  # add STS score \n",
    "        self.dsd_tkn = self.dsd_tkn.map(self._tokenize_fn,             batched=True)  # tokenize\n",
    "        self.dsd_tkn = self.dsd_tkn.map(self._add_n_tokens,            batched=True)  # add n_tokens\n",
    "        if self._cfg.bucket_by_length: self.dsd_tkn = self.dsd_tkn.sort(\"n_tokens\", reverse=True)  # sort by n_tokens (high to low), useful for cuda memory caching\n",
    "        \n",
    "        # filter out rows in dsd_raw that aren't in dsd_tkn\n",
    "        for s in self._cfg.splits:\n",
    "            idx_list = self.dsd_tkn[s]['idx']\n",
    "            self.dsd_raw[s] = self.dsd_raw[s].filter(lambda x: x['idx'] in idx_list)\n",
    "        for s in self._cfg.splits: assert len(self.dsd_raw[s]) == len(self.dsd_tkn[s])  # check ds has same number of elements in raw and tkn\n",
    "        \n",
    "        # Prepare dataloaders\n",
    "        self.dld_raw = self._get_dataloaders_dict(self.dsd_raw, collate_fn=self._collate_fn_raw)  # dict of data loaders that serve raw text\n",
    "        self.dld_tkn = self._get_dataloaders_dict(self.dsd_tkn, collate_fn=self._collate_fn_tkn)  # dict of data loaders that serve tokenized text\n",
    "        \n",
    "    def _add_idx(self, batch, idx):\n",
    "        \"\"\"Add row numbers\"\"\"\n",
    "        batch['idx'] = idx \n",
    "        return batch   \n",
    "    \n",
    "    def _add_n_tokens(self, batch): \n",
    "        \"\"\"Add the number of tokens of the orig text \"\"\"\n",
    "        batch['n_tokens'] = [len(o) for o in batch['input_ids']]\n",
    "        return batch \n",
    "    \n",
    "    def _add_sts_orig_embeddings(self, batch): \n",
    "        \"\"\"Add the sts embeddings of the orig text\"\"\"\n",
    "        batch['orig_sts_embeddings'] = self._sts_model.encode(batch[self._cfg.orig_cname], batch_size=64, convert_to_tensor=False)\n",
    "        return batch\n",
    "    \n",
    "    def _add_vm_orig_score(self, batch): \n",
    "        \"\"\"Add the vm score of the orig text\"\"\"\n",
    "        labels = torch.tensor(batch[self._cfg.label_cname], device=self._cfg.device)\n",
    "        orig_probs,orig_predclass = get_vm_probs(batch[self._cfg.orig_cname], self._cfg, self._vm_tokenizer,\n",
    "                                                 self._vm_model, return_predclass=True)\n",
    "        batch['orig_truelabel_probs'] = torch.gather(orig_probs,1, labels[:,None]).squeeze().cpu().tolist()\n",
    "        batch['orig_vm_predclass'] = orig_predclass.cpu().tolist()\n",
    "        return batch\n",
    "    \n",
    "    def _tokenize_fn(self, batch):  \n",
    "        \"\"\"Tokenize a batch of orig text using the paraphrase tokenizer.\"\"\"\n",
    "        return self._pp_tokenizer(batch[self._cfg.orig_cname], truncation=True, max_length=self._cfg.orig_max_length)  \n",
    "    \n",
    "    def _collate_fn_tkn(self, x): \n",
    "        \"\"\"Collate function used by the DataLoader that serves tokenized data.\"\"\"\n",
    "        d = dict()\n",
    "        for k in ['idx', 'attention_mask', 'input_ids', 'label', 'orig_truelabel_probs', 'orig_sts_embeddings']: \n",
    "            d[k] = [o[k] for o in x]\n",
    "        return self._pp_tokenizer.pad(d, pad_to_multiple_of=self._cfg.orig_padding_multiple, return_tensors=\"pt\")\n",
    "\n",
    "    def _collate_fn_raw(self, x): \n",
    "        \"\"\"Collate function used by the DataLoader that serves raw data.\"\"\"\n",
    "        d = dict()\n",
    "        for k in [self._cfg.orig_cname, 'idx']: d[k] = [o[k] for o in x]\n",
    "        return d \n",
    "\n",
    "    def _get_sampler(self, ds): \n",
    "        \"\"\"Returns a RandomSampler. Used so we can keep the same shuffle order across multiple data loaders.\n",
    "        Used when self._cfg.shuffle_train = True\"\"\"\n",
    "        g = torch.Generator()\n",
    "        g.manual_seed(seed)\n",
    "        return RandomSampler(ds, generator=g)\n",
    "    \n",
    "    def _shard_dsd_raw(self):\n",
    "        \"\"\"Replaces dsd_raw with a smaller shard of itself.\"\"\"\n",
    "        for k,v in self.dsd_raw.items():  \n",
    "            self.dsd_raw[k] = v.shard(self._cfg.n_shards, 0, contiguous=self._cfg.shard_contiguous)\n",
    "        \n",
    "    def _get_dataloaders_dict(self, dsd, collate_fn): \n",
    "        \"\"\"Prepare a dict of dataloaders for train, valid and test\"\"\"\n",
    "        if self._cfg.bucket_by_length and self._cfg.shuffle_train:  raise Exception(\"Can only do one of bucket by length or shuffle\")\n",
    "        d = dict()\n",
    "        for split, ds in dsd.items(): \n",
    "            if self._cfg.shuffle_train:\n",
    "                if split == \"train\": \n",
    "                    sampler = self.get_sampler(ds)\n",
    "                    d[split] =  DataLoader(ds, batch_size=self._cfg.batch_size_train, \n",
    "                                           sampler=sampler, collate_fn=collate_fn, \n",
    "                                           num_workers=self._cfg.n_wkrs, pin_memory=self._cfg.pin_memory) \n",
    "                else: \n",
    "                    d[split] =  DataLoader(ds, batch_size=self._cfg.batch_size_eval, \n",
    "                                           shuffle=False, collate_fn=collate_fn, \n",
    "                                           num_workers=self._cfg.n_wkrs, pin_memory=self._cfg.pin_memory) \n",
    "            if self._cfg.bucket_by_length: \n",
    "                batch_size = self._cfg.batch_size_train if split == \"train\" else self._cfg.batch_size_eval\n",
    "                d[split] =  DataLoader(ds, batch_size=batch_size, shuffle=False, collate_fn=collate_fn, \n",
    "                                       num_workers=self._cfg.n_wkrs, pin_memory=self._cfg.pin_memory) \n",
    "\n",
    "        # Add eval dataloader for train \n",
    "        d['train_eval'] = DataLoader(dsd['train'], batch_size=self._cfg.batch_size_eval, shuffle=False,\n",
    "                                    collate_fn=collate_fn, \n",
    "                                     num_workers=self._cfg.n_wkrs, pin_memory=self._cfg.pin_memory) \n",
    "        return d \n",
    "    \n",
    "    def _update_cfg(self): \n",
    "        self._cfg.ds_length = dict()\n",
    "        \n",
    "        for k in self.dsd_raw.keys(): \n",
    "            self._cfg.ds_length[k] = len(self.dsd_raw[k])\n",
    "        \n",
    "    def show_random_elements(self, ds, num_examples=10):\n",
    "        \"\"\"Print some elements in a nice format so you can take a look at them. \n",
    "        Split is one of 'train', 'test', 'valid'. \n",
    "        Use for a dataset `ds` from the `dataset` package.  \"\"\"\n",
    "        assert num_examples <= len(ds), \"Can't pick more elements than there are in the dataset.\"\n",
    "        picks = []\n",
    "        for _ in range(num_examples):\n",
    "            pick = random.randint(0, len(ds)-1)\n",
    "            while pick in picks:\n",
    "                pick = random.randint(0, len(ds)-1)\n",
    "            picks.append(pick)\n",
    "        df = pd.DataFrame(ds[picks])\n",
    "        for column, typ in ds.features.items():\n",
    "            if isinstance(typ, ClassLabel):\n",
    "                df[column] = df[column].transform(lambda i: typ.names[i])\n",
    "        display(HTML(df.to_html()))"
   ]
  },
  {
   "cell_type": "markdown",
   "metadata": {},
   "source": [
    "## Usage "
   ]
  },
  {
   "cell_type": "markdown",
   "metadata": {},
   "source": [
    "### Basics "
   ]
  },
  {
   "cell_type": "markdown",
   "metadata": {},
   "source": [
    "Here we have defined a class `ProcessedDataset` that will load and preprocess a dataset. But before processing the dataset you must load both the config object and all models/tokenizers, so we do this first. "
   ]
  },
  {
   "cell_type": "code",
   "execution_count": null,
   "metadata": {},
   "outputs": [],
   "source": [
    "from travis_attack.models import prepare_models\n",
    "cfg = Config()\n",
    "vm_tokenizer, vm_model, pp_tokenizer, pp_model, sts_model, cfg = prepare_models(cfg)"
   ]
  },
  {
   "cell_type": "markdown",
   "metadata": {},
   "source": [
    "Currently there are two choices for dataset: \n",
    "\n",
    "* `simple`, a dataset of simple sentences with four elements each in the train, test and valid splits\n",
    "* `rotten_tomatoes`, a dataset of movie reviews scraped from the Rotten Tomatoes site. \n",
    "\n",
    "The dataset is specified by the config class. There are two ways to do this. \n",
    "\n",
    "1. Edit the `self.dataset_name` variable in the Config class to either `simple` or `rotten_tomatoes`. An error will be thrown if the name is not one of these two. This is the best way to use when doing runs.   \n",
    "2. Use the `adjust_dataset_...` methods of the config class: e.g. `cfg = cfg.adjust_dataset_for_rotten_tomatoes_dataset() = Config()`. This is easiest for automated testing so we will do this here. "
   ]
  },
  {
   "cell_type": "markdown",
   "metadata": {},
   "source": [
    "Once the config is specified and loaded, create an object of class `ProcessedDataset` by passing the config, models and tokenizers as variables. This will do all preprocessing automatically in creating the object (the preprocessing code is in the `__init__()` function of the class.  "
   ]
  },
  {
   "cell_type": "code",
   "execution_count": null,
   "metadata": {},
   "outputs": [
    {
     "name": "stderr",
     "output_type": "stream",
     "text": [
      "Using custom data configuration default-b253756c445fb811\n",
      "Reusing dataset csv (/data/tproth/.cache/huggingface/datasets/csv/default-b253756c445fb811/0.0.0/bf68a4c4aefa545d0712b2fcbb1b327f905bbe2f6425fbc5e8c25234acb9e14a)\n"
     ]
    },
    {
     "data": {
      "application/vnd.jupyter.widget-view+json": {
       "model_id": "a7093e1d04f9409fbfeaba818bdb582e",
       "version_major": 2,
       "version_minor": 0
      },
      "text/plain": [
       "  0%|          | 0/1 [00:00<?, ?it/s]"
      ]
     },
     "metadata": {},
     "output_type": "display_data"
    },
    {
     "name": "stderr",
     "output_type": "stream",
     "text": [
      "Using custom data configuration default-c802946231f72062\n",
      "Reusing dataset csv (/data/tproth/.cache/huggingface/datasets/csv/default-c802946231f72062/0.0.0/bf68a4c4aefa545d0712b2fcbb1b327f905bbe2f6425fbc5e8c25234acb9e14a)\n"
     ]
    },
    {
     "data": {
      "application/vnd.jupyter.widget-view+json": {
       "model_id": "1ae3d9db577247308b1f6636f7970b87",
       "version_major": 2,
       "version_minor": 0
      },
      "text/plain": [
       "  0%|          | 0/1 [00:00<?, ?it/s]"
      ]
     },
     "metadata": {},
     "output_type": "display_data"
    },
    {
     "name": "stderr",
     "output_type": "stream",
     "text": [
      "Using custom data configuration default-43a49c5188c42e69\n",
      "Reusing dataset csv (/data/tproth/.cache/huggingface/datasets/csv/default-43a49c5188c42e69/0.0.0/bf68a4c4aefa545d0712b2fcbb1b327f905bbe2f6425fbc5e8c25234acb9e14a)\n"
     ]
    },
    {
     "data": {
      "application/vnd.jupyter.widget-view+json": {
       "model_id": "cbfb52ee4826472280696b9d3778de4e",
       "version_major": 2,
       "version_minor": 0
      },
      "text/plain": [
       "  0%|          | 0/1 [00:00<?, ?it/s]"
      ]
     },
     "metadata": {},
     "output_type": "display_data"
    },
    {
     "data": {
      "application/vnd.jupyter.widget-view+json": {
       "model_id": "b0167fe0b0b54af5b6d3c6bceb4ce577",
       "version_major": 2,
       "version_minor": 0
      },
      "text/plain": [
       "  0%|          | 0/1 [00:00<?, ?ba/s]"
      ]
     },
     "metadata": {},
     "output_type": "display_data"
    },
    {
     "data": {
      "application/vnd.jupyter.widget-view+json": {
       "model_id": "1fb7ae8754ac4f8b978a5437be1e6ce5",
       "version_major": 2,
       "version_minor": 0
      },
      "text/plain": [
       "  0%|          | 0/1 [00:00<?, ?ba/s]"
      ]
     },
     "metadata": {},
     "output_type": "display_data"
    },
    {
     "data": {
      "application/vnd.jupyter.widget-view+json": {
       "model_id": "bfc526b0b7b840af92235c831a100089",
       "version_major": 2,
       "version_minor": 0
      },
      "text/plain": [
       "  0%|          | 0/1 [00:00<?, ?ba/s]"
      ]
     },
     "metadata": {},
     "output_type": "display_data"
    },
    {
     "data": {
      "application/vnd.jupyter.widget-view+json": {
       "model_id": "83f54e88acc844bdb191580c7e97bc88",
       "version_major": 2,
       "version_minor": 0
      },
      "text/plain": [
       "  0%|          | 0/1 [00:00<?, ?ba/s]"
      ]
     },
     "metadata": {},
     "output_type": "display_data"
    },
    {
     "data": {
      "application/vnd.jupyter.widget-view+json": {
       "model_id": "e6db7612e04645f493cb7b22645510f0",
       "version_major": 2,
       "version_minor": 0
      },
      "text/plain": [
       "  0%|          | 0/1 [00:00<?, ?ba/s]"
      ]
     },
     "metadata": {},
     "output_type": "display_data"
    },
    {
     "data": {
      "application/vnd.jupyter.widget-view+json": {
       "model_id": "f09e0ac89ba74125a15aa956652ceac3",
       "version_major": 2,
       "version_minor": 0
      },
      "text/plain": [
       "  0%|          | 0/1 [00:00<?, ?ba/s]"
      ]
     },
     "metadata": {},
     "output_type": "display_data"
    },
    {
     "data": {
      "application/vnd.jupyter.widget-view+json": {
       "model_id": "a6b3da9ee1af45039eff50b1ad1a9630",
       "version_major": 2,
       "version_minor": 0
      },
      "text/plain": [
       "  0%|          | 0/1 [00:00<?, ?ba/s]"
      ]
     },
     "metadata": {},
     "output_type": "display_data"
    },
    {
     "data": {
      "application/vnd.jupyter.widget-view+json": {
       "model_id": "f1296fff6c77412a8ac24ffea035eb25",
       "version_major": 2,
       "version_minor": 0
      },
      "text/plain": [
       "  0%|          | 0/1 [00:00<?, ?ba/s]"
      ]
     },
     "metadata": {},
     "output_type": "display_data"
    },
    {
     "data": {
      "application/vnd.jupyter.widget-view+json": {
       "model_id": "9335468253a4408b8f0a4188981ffc61",
       "version_major": 2,
       "version_minor": 0
      },
      "text/plain": [
       "  0%|          | 0/1 [00:00<?, ?ba/s]"
      ]
     },
     "metadata": {},
     "output_type": "display_data"
    },
    {
     "data": {
      "application/vnd.jupyter.widget-view+json": {
       "model_id": "df42b7ccde7641a085206631d53326df",
       "version_major": 2,
       "version_minor": 0
      },
      "text/plain": [
       "  0%|          | 0/1 [00:00<?, ?ba/s]"
      ]
     },
     "metadata": {},
     "output_type": "display_data"
    },
    {
     "data": {
      "application/vnd.jupyter.widget-view+json": {
       "model_id": "0af5ec5fc9c343018f49203cecc9a2d5",
       "version_major": 2,
       "version_minor": 0
      },
      "text/plain": [
       "  0%|          | 0/1 [00:00<?, ?ba/s]"
      ]
     },
     "metadata": {},
     "output_type": "display_data"
    },
    {
     "data": {
      "application/vnd.jupyter.widget-view+json": {
       "model_id": "8c6c3b8859894d4baebfac229c58f427",
       "version_major": 2,
       "version_minor": 0
      },
      "text/plain": [
       "  0%|          | 0/1 [00:00<?, ?ba/s]"
      ]
     },
     "metadata": {},
     "output_type": "display_data"
    },
    {
     "data": {
      "application/vnd.jupyter.widget-view+json": {
       "model_id": "26db1e4f90fd46ee955a132791ed96a2",
       "version_major": 2,
       "version_minor": 0
      },
      "text/plain": [
       "  0%|          | 0/1 [00:00<?, ?ba/s]"
      ]
     },
     "metadata": {},
     "output_type": "display_data"
    },
    {
     "data": {
      "application/vnd.jupyter.widget-view+json": {
       "model_id": "2a2d18dd9a0247a4a7870943ba705cee",
       "version_major": 2,
       "version_minor": 0
      },
      "text/plain": [
       "  0%|          | 0/1 [00:00<?, ?ba/s]"
      ]
     },
     "metadata": {},
     "output_type": "display_data"
    },
    {
     "data": {
      "application/vnd.jupyter.widget-view+json": {
       "model_id": "da0447a7ecd144398f49f5d920e69bf1",
       "version_major": 2,
       "version_minor": 0
      },
      "text/plain": [
       "  0%|          | 0/1 [00:00<?, ?ba/s]"
      ]
     },
     "metadata": {},
     "output_type": "display_data"
    },
    {
     "data": {
      "application/vnd.jupyter.widget-view+json": {
       "model_id": "9cf6e99eba98483d9c76ffe36b8ed053",
       "version_major": 2,
       "version_minor": 0
      },
      "text/plain": [
       "  0%|          | 0/1 [00:00<?, ?ba/s]"
      ]
     },
     "metadata": {},
     "output_type": "display_data"
    },
    {
     "data": {
      "application/vnd.jupyter.widget-view+json": {
       "model_id": "c9949de96b7d46b9812e81fc4d8a0944",
       "version_major": 2,
       "version_minor": 0
      },
      "text/plain": [
       "  0%|          | 0/1 [00:00<?, ?ba/s]"
      ]
     },
     "metadata": {},
     "output_type": "display_data"
    },
    {
     "data": {
      "application/vnd.jupyter.widget-view+json": {
       "model_id": "f20fb57581704391ab7b70a665a4c9d8",
       "version_major": 2,
       "version_minor": 0
      },
      "text/plain": [
       "  0%|          | 0/1 [00:00<?, ?ba/s]"
      ]
     },
     "metadata": {},
     "output_type": "display_data"
    },
    {
     "data": {
      "application/vnd.jupyter.widget-view+json": {
       "model_id": "46591d9160fb42dbbd2ea3ea5fbf7dfa",
       "version_major": 2,
       "version_minor": 0
      },
      "text/plain": [
       "  0%|          | 0/1 [00:00<?, ?ba/s]"
      ]
     },
     "metadata": {},
     "output_type": "display_data"
    },
    {
     "data": {
      "application/vnd.jupyter.widget-view+json": {
       "model_id": "ad3a3563839a451789be694bf72f24b6",
       "version_major": 2,
       "version_minor": 0
      },
      "text/plain": [
       "  0%|          | 0/1 [00:00<?, ?ba/s]"
      ]
     },
     "metadata": {},
     "output_type": "display_data"
    },
    {
     "data": {
      "application/vnd.jupyter.widget-view+json": {
       "model_id": "35e779934e3345e79072015f889da80f",
       "version_major": 2,
       "version_minor": 0
      },
      "text/plain": [
       "  0%|          | 0/1 [00:00<?, ?ba/s]"
      ]
     },
     "metadata": {},
     "output_type": "display_data"
    }
   ],
   "source": [
    "cfg_simple = cfg.adjust_config_for_simple_dataset()\n",
    "ds = ProcessedDataset(cfg_simple,  vm_tokenizer, vm_model, pp_tokenizer, sts_model)"
   ]
  },
  {
   "cell_type": "markdown",
   "metadata": {},
   "source": [
    "If you want to use the small dataset adjust the config before creating the `ProcessedDataset` object. "
   ]
  },
  {
   "cell_type": "code",
   "execution_count": null,
   "metadata": {},
   "outputs": [
    {
     "name": "stderr",
     "output_type": "stream",
     "text": [
      "Using custom data configuration default\n",
      "Reusing dataset rotten_tomatoes_movie_review (/data/tproth/.cache/huggingface/datasets/rotten_tomatoes_movie_review/default/1.0.0/e06abb624abab47e1a64608fdfe65a913f5a68c66118408032644a3285208fb5)\n"
     ]
    },
    {
     "data": {
      "application/vnd.jupyter.widget-view+json": {
       "model_id": "3f064278e8da465fb01095b7860f8a03",
       "version_major": 2,
       "version_minor": 0
      },
      "text/plain": [
       "  0%|          | 0/3 [00:00<?, ?it/s]"
      ]
     },
     "metadata": {},
     "output_type": "display_data"
    },
    {
     "data": {
      "application/vnd.jupyter.widget-view+json": {
       "model_id": "fbbbbec7337b4eabb0a8301ee619a4a7",
       "version_major": 2,
       "version_minor": 0
      },
      "text/plain": [
       "  0%|          | 0/9 [00:00<?, ?ba/s]"
      ]
     },
     "metadata": {},
     "output_type": "display_data"
    },
    {
     "data": {
      "application/vnd.jupyter.widget-view+json": {
       "model_id": "6ac3e892df844b8099238c4409ba8e03",
       "version_major": 2,
       "version_minor": 0
      },
      "text/plain": [
       "  0%|          | 0/2 [00:00<?, ?ba/s]"
      ]
     },
     "metadata": {},
     "output_type": "display_data"
    },
    {
     "data": {
      "application/vnd.jupyter.widget-view+json": {
       "model_id": "a9805c621b07413eb489701bcc8d1ed8",
       "version_major": 2,
       "version_minor": 0
      },
      "text/plain": [
       "  0%|          | 0/2 [00:00<?, ?ba/s]"
      ]
     },
     "metadata": {},
     "output_type": "display_data"
    },
    {
     "data": {
      "application/vnd.jupyter.widget-view+json": {
       "model_id": "ef138ca59a4b4542ba0e6af9d82e4fa5",
       "version_major": 2,
       "version_minor": 0
      },
      "text/plain": [
       "  0%|          | 0/1 [00:00<?, ?ba/s]"
      ]
     },
     "metadata": {},
     "output_type": "display_data"
    },
    {
     "data": {
      "application/vnd.jupyter.widget-view+json": {
       "model_id": "b5acae2696004996891376f32b49bca3",
       "version_major": 2,
       "version_minor": 0
      },
      "text/plain": [
       "  0%|          | 0/1 [00:00<?, ?ba/s]"
      ]
     },
     "metadata": {},
     "output_type": "display_data"
    },
    {
     "data": {
      "application/vnd.jupyter.widget-view+json": {
       "model_id": "f72278d627f74e828ae23c854c096a87",
       "version_major": 2,
       "version_minor": 0
      },
      "text/plain": [
       "  0%|          | 0/1 [00:00<?, ?ba/s]"
      ]
     },
     "metadata": {},
     "output_type": "display_data"
    },
    {
     "data": {
      "application/vnd.jupyter.widget-view+json": {
       "model_id": "733f33281b1845849032ac4af6565090",
       "version_major": 2,
       "version_minor": 0
      },
      "text/plain": [
       "  0%|          | 0/1 [00:00<?, ?ba/s]"
      ]
     },
     "metadata": {},
     "output_type": "display_data"
    },
    {
     "data": {
      "application/vnd.jupyter.widget-view+json": {
       "model_id": "95c2e55f5bc0401fbfb2404af9afe076",
       "version_major": 2,
       "version_minor": 0
      },
      "text/plain": [
       "  0%|          | 0/1 [00:00<?, ?ba/s]"
      ]
     },
     "metadata": {},
     "output_type": "display_data"
    },
    {
     "data": {
      "application/vnd.jupyter.widget-view+json": {
       "model_id": "df126851d6b24241944e13221a1261e5",
       "version_major": 2,
       "version_minor": 0
      },
      "text/plain": [
       "  0%|          | 0/1 [00:00<?, ?ba/s]"
      ]
     },
     "metadata": {},
     "output_type": "display_data"
    },
    {
     "data": {
      "application/vnd.jupyter.widget-view+json": {
       "model_id": "3c716d389c754cb5a28cf7cf055a2d7b",
       "version_major": 2,
       "version_minor": 0
      },
      "text/plain": [
       "  0%|          | 0/1 [00:00<?, ?ba/s]"
      ]
     },
     "metadata": {},
     "output_type": "display_data"
    },
    {
     "data": {
      "application/vnd.jupyter.widget-view+json": {
       "model_id": "82c5f58b87b148bab9f934381f41f35a",
       "version_major": 2,
       "version_minor": 0
      },
      "text/plain": [
       "  0%|          | 0/1 [00:00<?, ?ba/s]"
      ]
     },
     "metadata": {},
     "output_type": "display_data"
    },
    {
     "data": {
      "application/vnd.jupyter.widget-view+json": {
       "model_id": "2fd41406198c49b3ba5ec451847dfda1",
       "version_major": 2,
       "version_minor": 0
      },
      "text/plain": [
       "  0%|          | 0/1 [00:00<?, ?ba/s]"
      ]
     },
     "metadata": {},
     "output_type": "display_data"
    },
    {
     "data": {
      "application/vnd.jupyter.widget-view+json": {
       "model_id": "de584e840eee43c38d6e7e2377af4a7c",
       "version_major": 2,
       "version_minor": 0
      },
      "text/plain": [
       "  0%|          | 0/1 [00:00<?, ?ba/s]"
      ]
     },
     "metadata": {},
     "output_type": "display_data"
    },
    {
     "data": {
      "application/vnd.jupyter.widget-view+json": {
       "model_id": "419b3ff081c2486680c09c8117e6392a",
       "version_major": 2,
       "version_minor": 0
      },
      "text/plain": [
       "  0%|          | 0/1 [00:00<?, ?ba/s]"
      ]
     },
     "metadata": {},
     "output_type": "display_data"
    },
    {
     "data": {
      "application/vnd.jupyter.widget-view+json": {
       "model_id": "c765e97a2e3d46eeaaf6c6cec9ee1894",
       "version_major": 2,
       "version_minor": 0
      },
      "text/plain": [
       "  0%|          | 0/1 [00:00<?, ?ba/s]"
      ]
     },
     "metadata": {},
     "output_type": "display_data"
    },
    {
     "data": {
      "application/vnd.jupyter.widget-view+json": {
       "model_id": "c40bcc265aef481f80023c84ef4556c6",
       "version_major": 2,
       "version_minor": 0
      },
      "text/plain": [
       "  0%|          | 0/1 [00:00<?, ?ba/s]"
      ]
     },
     "metadata": {},
     "output_type": "display_data"
    },
    {
     "data": {
      "application/vnd.jupyter.widget-view+json": {
       "model_id": "af2b1e5f24904026b4365a6cc49463c8",
       "version_major": 2,
       "version_minor": 0
      },
      "text/plain": [
       "  0%|          | 0/1 [00:00<?, ?ba/s]"
      ]
     },
     "metadata": {},
     "output_type": "display_data"
    },
    {
     "data": {
      "application/vnd.jupyter.widget-view+json": {
       "model_id": "7342bcebfc674cf7a180d3b3b2c1911e",
       "version_major": 2,
       "version_minor": 0
      },
      "text/plain": [
       "  0%|          | 0/1 [00:00<?, ?ba/s]"
      ]
     },
     "metadata": {},
     "output_type": "display_data"
    },
    {
     "data": {
      "application/vnd.jupyter.widget-view+json": {
       "model_id": "44dbf51da3e24acd8573bebb610b8590",
       "version_major": 2,
       "version_minor": 0
      },
      "text/plain": [
       "  0%|          | 0/1 [00:00<?, ?ba/s]"
      ]
     },
     "metadata": {},
     "output_type": "display_data"
    },
    {
     "data": {
      "application/vnd.jupyter.widget-view+json": {
       "model_id": "bed7e51b11744ee4a622eb5742ba4376",
       "version_major": 2,
       "version_minor": 0
      },
      "text/plain": [
       "  0%|          | 0/1 [00:00<?, ?ba/s]"
      ]
     },
     "metadata": {},
     "output_type": "display_data"
    },
    {
     "data": {
      "application/vnd.jupyter.widget-view+json": {
       "model_id": "86860f50435241828a9c2b21e4d30040",
       "version_major": 2,
       "version_minor": 0
      },
      "text/plain": [
       "  0%|          | 0/1 [00:00<?, ?ba/s]"
      ]
     },
     "metadata": {},
     "output_type": "display_data"
    }
   ],
   "source": [
    "cfg_rt_small_ds = cfg.adjust_config_for_rotten_tomatoes_dataset().small_ds()\n",
    "ds = ProcessedDataset(cfg_rt_small_ds,  vm_tokenizer, vm_model, pp_tokenizer, sts_model)"
   ]
  },
  {
   "cell_type": "code",
   "execution_count": null,
   "metadata": {},
   "outputs": [
    {
     "data": {
      "text/plain": [
       "{'train': 196, 'test': 23, 'valid': 23}"
      ]
     },
     "execution_count": null,
     "metadata": {},
     "output_type": "execute_result"
    }
   ],
   "source": [
    "cfg_rt_small_ds.ds_length"
   ]
  },
  {
   "cell_type": "markdown",
   "metadata": {},
   "source": [
    "### Accessing datasets"
   ]
  },
  {
   "cell_type": "markdown",
   "metadata": {},
   "source": [
    "You can access raw data with `ds.dsd_raw` and processed data with the `ds.dsd_tkn`. (The dsd here stands for \"DatasetDict\")"
   ]
  },
  {
   "cell_type": "code",
   "execution_count": null,
   "metadata": {},
   "outputs": [
    {
     "data": {
      "text/plain": [
       "DatasetDict({\n",
       "    train: Dataset({\n",
       "        features: ['idx', 'label', 'text'],\n",
       "        num_rows: 196\n",
       "    })\n",
       "    test: Dataset({\n",
       "        features: ['idx', 'label', 'text'],\n",
       "        num_rows: 23\n",
       "    })\n",
       "    valid: Dataset({\n",
       "        features: ['idx', 'label', 'text'],\n",
       "        num_rows: 23\n",
       "    })\n",
       "})"
      ]
     },
     "execution_count": null,
     "metadata": {},
     "output_type": "execute_result"
    }
   ],
   "source": [
    "ds.dsd_raw"
   ]
  },
  {
   "cell_type": "code",
   "execution_count": null,
   "metadata": {},
   "outputs": [
    {
     "data": {
      "text/plain": [
       "DatasetDict({\n",
       "    train: Dataset({\n",
       "        features: ['attention_mask', 'idx', 'input_ids', 'label', 'n_tokens', 'orig_sts_embeddings', 'orig_truelabel_probs', 'orig_vm_predclass', 'text'],\n",
       "        num_rows: 196\n",
       "    })\n",
       "    test: Dataset({\n",
       "        features: ['attention_mask', 'idx', 'input_ids', 'label', 'n_tokens', 'orig_sts_embeddings', 'orig_truelabel_probs', 'orig_vm_predclass', 'text'],\n",
       "        num_rows: 23\n",
       "    })\n",
       "    valid: Dataset({\n",
       "        features: ['attention_mask', 'idx', 'input_ids', 'label', 'n_tokens', 'orig_sts_embeddings', 'orig_truelabel_probs', 'orig_vm_predclass', 'text'],\n",
       "        num_rows: 23\n",
       "    })\n",
       "})"
      ]
     },
     "execution_count": null,
     "metadata": {},
     "output_type": "execute_result"
    }
   ],
   "source": [
    "ds.dsd_tkn"
   ]
  },
  {
   "cell_type": "markdown",
   "metadata": {},
   "source": [
    "You can access elements by indexing: "
   ]
  },
  {
   "cell_type": "code",
   "execution_count": null,
   "metadata": {},
   "outputs": [
    {
     "data": {
      "text/plain": [
       "{'idx': [0, 40],\n",
       " 'label': [1, 1],\n",
       " 'text': ['compassionately explores the seemingly irreconcilable situation between conservative christian parents and their estranged gay and lesbian children .',\n",
       "  'a perceptive , good-natured movie .']}"
      ]
     },
     "execution_count": null,
     "metadata": {},
     "output_type": "execute_result"
    }
   ],
   "source": [
    "ds.dsd_raw['valid'][0:2]"
   ]
  },
  {
   "cell_type": "code",
   "execution_count": null,
   "metadata": {},
   "outputs": [
    {
     "data": {
      "text/plain": [
       "{'attention_mask': [[1,\n",
       "   1,\n",
       "   1,\n",
       "   1,\n",
       "   1,\n",
       "   1,\n",
       "   1,\n",
       "   1,\n",
       "   1,\n",
       "   1,\n",
       "   1,\n",
       "   1,\n",
       "   1,\n",
       "   1,\n",
       "   1,\n",
       "   1,\n",
       "   1,\n",
       "   1,\n",
       "   1,\n",
       "   1,\n",
       "   1,\n",
       "   1,\n",
       "   1,\n",
       "   1,\n",
       "   1,\n",
       "   1,\n",
       "   1,\n",
       "   1,\n",
       "   1,\n",
       "   1,\n",
       "   1,\n",
       "   1,\n",
       "   1,\n",
       "   1,\n",
       "   1,\n",
       "   1,\n",
       "   1,\n",
       "   1,\n",
       "   1,\n",
       "   1,\n",
       "   1,\n",
       "   1,\n",
       "   1,\n",
       "   1,\n",
       "   1,\n",
       "   1,\n",
       "   1,\n",
       "   1,\n",
       "   1,\n",
       "   1,\n",
       "   1],\n",
       "  [1,\n",
       "   1,\n",
       "   1,\n",
       "   1,\n",
       "   1,\n",
       "   1,\n",
       "   1,\n",
       "   1,\n",
       "   1,\n",
       "   1,\n",
       "   1,\n",
       "   1,\n",
       "   1,\n",
       "   1,\n",
       "   1,\n",
       "   1,\n",
       "   1,\n",
       "   1,\n",
       "   1,\n",
       "   1,\n",
       "   1,\n",
       "   1,\n",
       "   1,\n",
       "   1,\n",
       "   1,\n",
       "   1,\n",
       "   1,\n",
       "   1,\n",
       "   1,\n",
       "   1,\n",
       "   1,\n",
       "   1,\n",
       "   1,\n",
       "   1,\n",
       "   1,\n",
       "   1,\n",
       "   1,\n",
       "   1,\n",
       "   1,\n",
       "   1,\n",
       "   1,\n",
       "   1,\n",
       "   1,\n",
       "   1,\n",
       "   1,\n",
       "   1,\n",
       "   1,\n",
       "   1]],\n",
       " 'idx': [320, 520],\n",
       " 'input_ids': [[0,\n",
       "   405,\n",
       "   18,\n",
       "   479,\n",
       "   479,\n",
       "   479,\n",
       "   966,\n",
       "   5,\n",
       "   1823,\n",
       "   1351,\n",
       "   7,\n",
       "   192,\n",
       "   41,\n",
       "   3025,\n",
       "   2156,\n",
       "   202,\n",
       "   2021,\n",
       "   7,\n",
       "   434,\n",
       "   11,\n",
       "   39,\n",
       "   5127,\n",
       "   2202,\n",
       "   2156,\n",
       "   464,\n",
       "   150,\n",
       "   2405,\n",
       "   1528,\n",
       "   7,\n",
       "   39,\n",
       "   7797,\n",
       "   19,\n",
       "   10,\n",
       "   822,\n",
       "   1060,\n",
       "   182,\n",
       "   2087,\n",
       "   16,\n",
       "   2156,\n",
       "   1341,\n",
       "   3273,\n",
       "   352,\n",
       "   2156,\n",
       "   59,\n",
       "   5,\n",
       "   27791,\n",
       "   9,\n",
       "   215,\n",
       "   1170,\n",
       "   479,\n",
       "   2],\n",
       "  [0,\n",
       "   17341,\n",
       "   24,\n",
       "   45,\n",
       "   13,\n",
       "   10,\n",
       "   32693,\n",
       "   3547,\n",
       "   14,\n",
       "   4529,\n",
       "   169,\n",
       "   55,\n",
       "   59,\n",
       "   13011,\n",
       "   87,\n",
       "   473,\n",
       "   5,\n",
       "   1569,\n",
       "   50,\n",
       "   5,\n",
       "   2048,\n",
       "   143,\n",
       "   205,\n",
       "   2156,\n",
       "   7619,\n",
       "   3194,\n",
       "   9182,\n",
       "   18,\n",
       "   232,\n",
       "   33489,\n",
       "   429,\n",
       "   33,\n",
       "   57,\n",
       "   65,\n",
       "   9,\n",
       "   5,\n",
       "   55,\n",
       "   21832,\n",
       "   8,\n",
       "   6167,\n",
       "   38187,\n",
       "   260,\n",
       "   4133,\n",
       "   9,\n",
       "   5,\n",
       "   76,\n",
       "   479,\n",
       "   2]],\n",
       " 'label': [1, 1],\n",
       " 'n_tokens': [51, 48],\n",
       " 'orig_sts_embeddings': [[0.03689192607998848,\n",
       "   0.005702354945242405,\n",
       "   -0.2506841719150543,\n",
       "   0.16250395774841309,\n",
       "   0.11905493587255478,\n",
       "   0.2627198100090027,\n",
       "   0.006080263294279575,\n",
       "   0.06453120708465576,\n",
       "   0.2003583163022995,\n",
       "   0.06512625515460968,\n",
       "   -0.027350887656211853,\n",
       "   0.12589222192764282,\n",
       "   -0.08232767134904861,\n",
       "   0.2680117189884186,\n",
       "   -0.14991231262683868,\n",
       "   0.047934386879205704,\n",
       "   0.18167972564697266,\n",
       "   -0.10410188138484955,\n",
       "   -0.04693730175495148,\n",
       "   0.1337423324584961,\n",
       "   0.006907307542860508,\n",
       "   0.13967955112457275,\n",
       "   0.4472174644470215,\n",
       "   -0.20411306619644165,\n",
       "   0.05630224943161011,\n",
       "   -0.16614660620689392,\n",
       "   -0.08091498911380768,\n",
       "   -0.10530886799097061,\n",
       "   -0.15038640797138214,\n",
       "   -0.20357996225357056,\n",
       "   -0.08936288207769394,\n",
       "   0.26822662353515625,\n",
       "   0.08877737075090408,\n",
       "   -0.27780061960220337,\n",
       "   -0.2049824744462967,\n",
       "   0.0644800141453743,\n",
       "   -0.05404012277722359,\n",
       "   0.0716007724404335,\n",
       "   0.10875432938337326,\n",
       "   -0.06494412571191788,\n",
       "   -0.22546172142028809,\n",
       "   0.24558255076408386,\n",
       "   -0.08034075796604156,\n",
       "   0.008909332565963268,\n",
       "   -0.2154650241136551,\n",
       "   -0.21568208932876587,\n",
       "   -0.02756153605878353,\n",
       "   -0.05596165731549263,\n",
       "   -0.18734513223171234,\n",
       "   0.11580347269773483,\n",
       "   -0.14296145737171173,\n",
       "   -0.3576650023460388,\n",
       "   -0.10761336237192154,\n",
       "   -0.31449952721595764,\n",
       "   -0.1404009461402893,\n",
       "   -0.2633635103702545,\n",
       "   0.3105400800704956,\n",
       "   0.14648298919200897,\n",
       "   0.24156194925308228,\n",
       "   -0.10933157056570053,\n",
       "   0.007992930710315704,\n",
       "   -0.3994634747505188,\n",
       "   -0.015578923746943474,\n",
       "   0.039598483592271805,\n",
       "   0.11508766561746597,\n",
       "   -0.4248064458370209,\n",
       "   -0.24415323138237,\n",
       "   -0.2142218053340912,\n",
       "   -0.33792856335639954,\n",
       "   0.3134816586971283,\n",
       "   0.4044184684753418,\n",
       "   0.09785335510969162,\n",
       "   -0.01603933982551098,\n",
       "   -0.07641424983739853,\n",
       "   -0.04207229986786842,\n",
       "   -0.3830704689025879,\n",
       "   0.21801559627056122,\n",
       "   0.007242766208946705,\n",
       "   -0.25116264820098877,\n",
       "   -0.39043229818344116,\n",
       "   0.3626645803451538,\n",
       "   -0.03265543282032013,\n",
       "   -0.1022428423166275,\n",
       "   -0.10804691910743713,\n",
       "   -0.03459197282791138,\n",
       "   0.4005966782569885,\n",
       "   0.05092139169573784,\n",
       "   0.17985157668590546,\n",
       "   0.12267500162124634,\n",
       "   -0.012228472158312798,\n",
       "   0.13741469383239746,\n",
       "   0.3376186192035675,\n",
       "   0.14574724435806274,\n",
       "   0.04733297601342201,\n",
       "   0.3423520624637604,\n",
       "   0.017711838707327843,\n",
       "   -0.09100872278213501,\n",
       "   -0.06403860449790955,\n",
       "   -0.3161347806453705,\n",
       "   -0.008527342230081558,\n",
       "   0.13401992619037628,\n",
       "   -0.06794090569019318,\n",
       "   -0.096413753926754,\n",
       "   -0.3019465208053589,\n",
       "   0.20163223147392273,\n",
       "   -0.0015091552631929517,\n",
       "   -0.17395104467868805,\n",
       "   0.16085171699523926,\n",
       "   -0.16133172810077667,\n",
       "   0.06814669817686081,\n",
       "   0.022663014009594917,\n",
       "   -0.07288988679647446,\n",
       "   0.0027992301620543003,\n",
       "   0.10801929235458374,\n",
       "   0.38999903202056885,\n",
       "   0.09195024520158768,\n",
       "   -0.31250202655792236,\n",
       "   0.10030057281255722,\n",
       "   0.009407710283994675,\n",
       "   0.15430961549282074,\n",
       "   0.06243269518017769,\n",
       "   0.10868684947490692,\n",
       "   -0.08100651204586029,\n",
       "   0.1720571368932724,\n",
       "   -0.36131396889686584,\n",
       "   -0.21192289888858795,\n",
       "   -0.08122822642326355,\n",
       "   0.1501869261264801,\n",
       "   0.020498156547546387,\n",
       "   0.34354454278945923,\n",
       "   0.06165934354066849,\n",
       "   -0.011651010252535343,\n",
       "   -0.015728836879134178,\n",
       "   0.250775545835495,\n",
       "   0.08319415897130966,\n",
       "   0.46152806282043457,\n",
       "   -0.046324897557497025,\n",
       "   -0.03550520911812782,\n",
       "   0.16873206198215485,\n",
       "   0.16697484254837036,\n",
       "   -0.016689956188201904,\n",
       "   0.5876328945159912,\n",
       "   -0.30749136209487915,\n",
       "   0.13094502687454224,\n",
       "   -0.009001439437270164,\n",
       "   0.10313697159290314,\n",
       "   0.2397448569536209,\n",
       "   0.14679773151874542,\n",
       "   -0.1128215342760086,\n",
       "   0.20695623755455017,\n",
       "   0.05402263253927231,\n",
       "   -0.12048255652189255,\n",
       "   0.1529533565044403,\n",
       "   -0.20563721656799316,\n",
       "   0.08491306751966476,\n",
       "   -0.16391554474830627,\n",
       "   -0.041647862643003464,\n",
       "   0.010535607114434242,\n",
       "   -0.19037508964538574,\n",
       "   0.234400674700737,\n",
       "   -0.043393585830926895,\n",
       "   0.043246250599622726,\n",
       "   -0.21763628721237183,\n",
       "   -0.10745751857757568,\n",
       "   -0.31382960081100464,\n",
       "   -0.09895291179418564,\n",
       "   0.04600364342331886,\n",
       "   -0.08002936840057373,\n",
       "   0.007686669006943703,\n",
       "   0.061087701469659805,\n",
       "   -0.10631798207759857,\n",
       "   0.1503143310546875,\n",
       "   -0.06284938752651215,\n",
       "   0.07764864712953568,\n",
       "   0.030295686796307564,\n",
       "   0.13938918709754944,\n",
       "   -0.10295267403125763,\n",
       "   0.2504847049713135,\n",
       "   -0.1458081305027008,\n",
       "   0.28029531240463257,\n",
       "   0.11933670192956924,\n",
       "   0.08642738312482834,\n",
       "   -0.06805052608251572,\n",
       "   -0.16594858467578888,\n",
       "   -0.2701038718223572,\n",
       "   -0.033545926213264465,\n",
       "   0.09017090499401093,\n",
       "   -0.027194788679480553,\n",
       "   0.043948158621788025,\n",
       "   0.1531609147787094,\n",
       "   -0.16148023307323456,\n",
       "   0.324826717376709,\n",
       "   -0.06471049785614014,\n",
       "   0.3786928057670593,\n",
       "   0.19158753752708435,\n",
       "   0.0837564617395401,\n",
       "   0.062148403376340866,\n",
       "   0.3537471890449524,\n",
       "   -0.33156296610832214,\n",
       "   0.03725160285830498,\n",
       "   -0.5361512899398804,\n",
       "   -0.36685284972190857,\n",
       "   -0.021421652287244797,\n",
       "   -0.05032506212592125,\n",
       "   -0.04782668501138687,\n",
       "   -0.02813565731048584,\n",
       "   0.11517644673585892,\n",
       "   0.3554003834724426,\n",
       "   -0.12814033031463623,\n",
       "   0.20670244097709656,\n",
       "   0.0433904193341732,\n",
       "   -0.5431258678436279,\n",
       "   -0.20431408286094666,\n",
       "   0.1656227558851242,\n",
       "   -0.10028285533189774,\n",
       "   -0.1133434921503067,\n",
       "   0.1485200971364975,\n",
       "   0.07328774034976959,\n",
       "   0.21509528160095215,\n",
       "   -0.02008865587413311,\n",
       "   0.08984531462192535,\n",
       "   0.20580080151557922,\n",
       "   0.03263641893863678,\n",
       "   -0.2636420726776123,\n",
       "   -0.3776057958602905,\n",
       "   -0.17327441275119781,\n",
       "   -0.12157224863767624,\n",
       "   0.458951473236084,\n",
       "   -0.2090846300125122,\n",
       "   -0.33410733938217163,\n",
       "   -0.5266913771629333,\n",
       "   -0.03901733458042145,\n",
       "   0.011358329094946384,\n",
       "   -0.23505927622318268,\n",
       "   -0.4347503185272217,\n",
       "   -0.09426871687173843,\n",
       "   0.021903716027736664,\n",
       "   0.06317126005887985,\n",
       "   -0.3182183504104614,\n",
       "   -0.10285008698701859,\n",
       "   -0.23616501688957214,\n",
       "   -0.29698193073272705,\n",
       "   0.14596077799797058,\n",
       "   -0.054386552423238754,\n",
       "   0.34587031602859497,\n",
       "   0.04699363932013512,\n",
       "   0.031045963987708092,\n",
       "   -7.602843106724322e-05,\n",
       "   -0.045931123197078705,\n",
       "   0.45020991563796997,\n",
       "   -0.0569588840007782,\n",
       "   -0.3201504945755005,\n",
       "   -0.0913252979516983,\n",
       "   0.16796016693115234,\n",
       "   -0.05892912670969963,\n",
       "   -0.18364232778549194,\n",
       "   -0.3797527253627777,\n",
       "   -0.10263292491436005,\n",
       "   -0.1494307965040207,\n",
       "   0.3070053458213806,\n",
       "   0.2626327574253082,\n",
       "   -0.24293416738510132,\n",
       "   -0.2145819067955017,\n",
       "   0.353988915681839,\n",
       "   -0.06935948878526688,\n",
       "   -0.1410781890153885,\n",
       "   -0.14348198473453522,\n",
       "   -0.1255633682012558,\n",
       "   -0.018228111788630486,\n",
       "   -0.11498401314020157,\n",
       "   -0.007712024729698896,\n",
       "   0.27293020486831665,\n",
       "   0.19773593544960022,\n",
       "   -0.1417548954486847,\n",
       "   -0.14459778368473053,\n",
       "   0.09079733490943909,\n",
       "   -0.02232559211552143,\n",
       "   -0.25783395767211914,\n",
       "   0.014724655076861382,\n",
       "   -0.0612112395465374,\n",
       "   0.13724425435066223,\n",
       "   -0.04144584387540817,\n",
       "   0.010034844279289246,\n",
       "   0.09817469120025635,\n",
       "   -0.134965717792511,\n",
       "   0.0803723931312561,\n",
       "   0.19270968437194824,\n",
       "   -0.009810577146708965,\n",
       "   -0.16378286480903625,\n",
       "   0.16977214813232422,\n",
       "   0.028493428602814674,\n",
       "   0.23299722373485565,\n",
       "   -0.35975661873817444,\n",
       "   0.12013601511716843,\n",
       "   -0.009830617345869541,\n",
       "   0.17544777691364288,\n",
       "   -0.1572389155626297,\n",
       "   0.020785460248589516,\n",
       "   -0.10320093482732773,\n",
       "   0.3157466650009155,\n",
       "   0.5292918086051941,\n",
       "   0.07702610641717911,\n",
       "   -0.18866239488124847,\n",
       "   -0.25559407472610474,\n",
       "   -0.09338988363742828,\n",
       "   -0.2783587574958801,\n",
       "   0.011796936392784119,\n",
       "   0.1883137971162796,\n",
       "   0.3676448166370392,\n",
       "   -0.016749659553170204,\n",
       "   -0.16998262703418732,\n",
       "   -0.4018138647079468,\n",
       "   -0.1331683099269867,\n",
       "   0.4485965371131897,\n",
       "   0.12146439403295517,\n",
       "   0.11634049564599991,\n",
       "   -0.14463481307029724,\n",
       "   -0.1616051346063614,\n",
       "   -0.008954782970249653,\n",
       "   -0.07101444900035858,\n",
       "   0.0029010437428951263,\n",
       "   0.16602428257465363,\n",
       "   -0.0423525907099247,\n",
       "   -0.30969953536987305,\n",
       "   0.2703319787979126,\n",
       "   0.27232298254966736,\n",
       "   0.2003549188375473,\n",
       "   0.04878290370106697,\n",
       "   -0.15770308673381805,\n",
       "   0.15923598408699036,\n",
       "   0.06923258304595947,\n",
       "   0.045583903789520264,\n",
       "   0.28695568442344666,\n",
       "   0.3059672713279724,\n",
       "   -0.28805607557296753,\n",
       "   0.07674922049045563,\n",
       "   -0.14544637501239777,\n",
       "   -0.07683755457401276,\n",
       "   -0.057007305324077606,\n",
       "   0.037993211299180984,\n",
       "   0.41918060183525085,\n",
       "   0.0574251189827919,\n",
       "   0.05259356275200844,\n",
       "   -0.34029221534729004,\n",
       "   -0.2034531980752945,\n",
       "   0.022017259150743484,\n",
       "   -0.15528663992881775,\n",
       "   0.11630018055438995,\n",
       "   -0.20490294694900513,\n",
       "   -0.07126536965370178,\n",
       "   0.007791824638843536,\n",
       "   0.1543164849281311,\n",
       "   -0.21988652646541595,\n",
       "   -0.09441328048706055,\n",
       "   0.20001721382141113,\n",
       "   -0.33769163489341736,\n",
       "   0.3055027425289154,\n",
       "   0.06207596883177757,\n",
       "   -0.12180881947278976,\n",
       "   -0.03394636884331703,\n",
       "   -0.12364447116851807,\n",
       "   0.12280654907226562,\n",
       "   0.10722458362579346,\n",
       "   0.21888837218284607,\n",
       "   0.10317756235599518,\n",
       "   -0.0670681968331337,\n",
       "   0.1440417617559433,\n",
       "   -0.05878813937306404,\n",
       "   -0.18929961323738098,\n",
       "   0.04628895968198776,\n",
       "   0.10756593942642212,\n",
       "   0.3027992248535156,\n",
       "   -0.05740656331181526,\n",
       "   0.3099452555179596,\n",
       "   0.20238280296325684,\n",
       "   0.091920867562294,\n",
       "   -0.11044902354478836,\n",
       "   0.1198464184999466,\n",
       "   -0.4215067923069,\n",
       "   0.3068470358848572,\n",
       "   0.09935767948627472,\n",
       "   -0.25499990582466125,\n",
       "   0.12738564610481262,\n",
       "   0.06734931468963623],\n",
       "  [-0.06688448786735535,\n",
       "   -0.232506662607193,\n",
       "   -0.14830878376960754,\n",
       "   -0.09963010996580124,\n",
       "   0.17013299465179443,\n",
       "   -0.10243985056877136,\n",
       "   -0.025804324075579643,\n",
       "   0.15980273485183716,\n",
       "   0.1046307310461998,\n",
       "   -0.05034510791301727,\n",
       "   0.23344993591308594,\n",
       "   0.44250109791755676,\n",
       "   -0.05610308051109314,\n",
       "   0.5345483422279358,\n",
       "   -0.12187168747186661,\n",
       "   -0.04807491973042488,\n",
       "   0.19534137845039368,\n",
       "   -0.02252775803208351,\n",
       "   -0.00541836628690362,\n",
       "   0.28172072768211365,\n",
       "   -0.08043286949396133,\n",
       "   0.05763924866914749,\n",
       "   0.19296441972255707,\n",
       "   0.17728491127490997,\n",
       "   0.23650644719600677,\n",
       "   -0.11487024277448654,\n",
       "   0.17830879986286163,\n",
       "   -0.1347823143005371,\n",
       "   -0.1712728589773178,\n",
       "   -0.31054696440696716,\n",
       "   -0.4102022051811218,\n",
       "   0.03659658879041672,\n",
       "   -0.11716791987419128,\n",
       "   0.01832369714975357,\n",
       "   -0.17754168808460236,\n",
       "   0.28056958317756653,\n",
       "   0.26945066452026367,\n",
       "   -0.007504800334572792,\n",
       "   0.40497341752052307,\n",
       "   -0.14690709114074707,\n",
       "   -0.28541603684425354,\n",
       "   0.19128048419952393,\n",
       "   0.3540237545967102,\n",
       "   0.07780616730451584,\n",
       "   -0.030538693070411682,\n",
       "   -0.15638910233974457,\n",
       "   0.022243639454245567,\n",
       "   0.1621239185333252,\n",
       "   -0.12786298990249634,\n",
       "   0.03583895415067673,\n",
       "   0.06635287404060364,\n",
       "   -0.015965720638632774,\n",
       "   -0.21043571829795837,\n",
       "   -0.4347356855869293,\n",
       "   -0.03684118390083313,\n",
       "   0.0660952776670456,\n",
       "   -0.07583538442850113,\n",
       "   0.060064952820539474,\n",
       "   -0.01057130005210638,\n",
       "   -0.1083952933549881,\n",
       "   -0.151315376162529,\n",
       "   -0.38969436287879944,\n",
       "   0.09581752866506577,\n",
       "   -0.0706087201833725,\n",
       "   0.24846802651882172,\n",
       "   -0.20361784100532532,\n",
       "   -0.07458779215812683,\n",
       "   -0.19789007306098938,\n",
       "   0.016780352219939232,\n",
       "   -0.04230741411447525,\n",
       "   -0.02231864631175995,\n",
       "   0.1559688001871109,\n",
       "   0.25998926162719727,\n",
       "   -0.08465869724750519,\n",
       "   0.1147848591208458,\n",
       "   -0.23025630414485931,\n",
       "   0.24750959873199463,\n",
       "   0.3638722002506256,\n",
       "   -0.1337372064590454,\n",
       "   -0.11020965129137039,\n",
       "   0.20847460627555847,\n",
       "   0.007587047293782234,\n",
       "   -0.030275892466306686,\n",
       "   -0.05623278021812439,\n",
       "   -0.12367332726716995,\n",
       "   0.08924499154090881,\n",
       "   0.15709149837493896,\n",
       "   -0.21741434931755066,\n",
       "   0.18865475058555603,\n",
       "   0.21215161681175232,\n",
       "   -0.04191770777106285,\n",
       "   0.08388751745223999,\n",
       "   0.28493064641952515,\n",
       "   0.09756932407617569,\n",
       "   0.018544625490903854,\n",
       "   0.03913700580596924,\n",
       "   0.2204369604587555,\n",
       "   0.10262585431337357,\n",
       "   0.07227548956871033,\n",
       "   -0.13051696121692657,\n",
       "   0.293731153011322,\n",
       "   -0.045999471098184586,\n",
       "   0.16712607443332672,\n",
       "   0.004241221118718386,\n",
       "   0.3218563199043274,\n",
       "   -0.3309941291809082,\n",
       "   0.23005171120166779,\n",
       "   -0.14399097859859467,\n",
       "   -0.35443365573883057,\n",
       "   0.023878127336502075,\n",
       "   -0.008086169138550758,\n",
       "   0.048681631684303284,\n",
       "   0.16317087411880493,\n",
       "   0.06820083409547806,\n",
       "   0.015002562664449215,\n",
       "   0.1210218071937561,\n",
       "   -0.129389688372612,\n",
       "   0.3183806240558624,\n",
       "   -0.08351191133260727,\n",
       "   -0.038752034306526184,\n",
       "   0.10116002708673477,\n",
       "   -0.025889065116643906,\n",
       "   0.036337580531835556,\n",
       "   0.1129717007279396,\n",
       "   -0.46408042311668396,\n",
       "   -0.07611306756734848,\n",
       "   0.2265176922082901,\n",
       "   -0.18230928480625153,\n",
       "   0.1417827606201172,\n",
       "   0.10848082602024078,\n",
       "   -0.20746532082557678,\n",
       "   -0.006849437486380339,\n",
       "   0.08612210303544998,\n",
       "   -0.09319784492254257,\n",
       "   -0.13339835405349731,\n",
       "   0.0476270467042923,\n",
       "   -0.05033505707979202,\n",
       "   0.008138093166053295,\n",
       "   -0.2859322726726532,\n",
       "   -0.12415669113397598,\n",
       "   0.07419649511575699,\n",
       "   0.32251492142677307,\n",
       "   -0.14964699745178223,\n",
       "   0.03750314563512802,\n",
       "   -0.32008832693099976,\n",
       "   -0.08463818579912186,\n",
       "   0.10079879313707352,\n",
       "   0.03399564325809479,\n",
       "   -0.12431621551513672,\n",
       "   0.3785783350467682,\n",
       "   0.12048614770174026,\n",
       "   -0.11834079027175903,\n",
       "   -0.06596729159355164,\n",
       "   0.05985923856496811,\n",
       "   -0.044597700238227844,\n",
       "   0.1625022143125534,\n",
       "   -0.09744512289762497,\n",
       "   0.09413876384496689,\n",
       "   -0.2614041566848755,\n",
       "   0.3381687104701996,\n",
       "   0.1801239252090454,\n",
       "   0.24486950039863586,\n",
       "   0.33426547050476074,\n",
       "   -0.22747249901294708,\n",
       "   -0.09474261850118637,\n",
       "   -0.169119194149971,\n",
       "   0.23551076650619507,\n",
       "   0.21972744166851044,\n",
       "   0.0525243766605854,\n",
       "   0.22449088096618652,\n",
       "   0.0008963597938418388,\n",
       "   0.01619083434343338,\n",
       "   -0.28420376777648926,\n",
       "   0.09440092742443085,\n",
       "   0.09016166627407074,\n",
       "   0.10610447824001312,\n",
       "   -0.18542790412902832,\n",
       "   0.25890499353408813,\n",
       "   -0.06796389818191528,\n",
       "   0.04326508939266205,\n",
       "   -0.03863014280796051,\n",
       "   -0.15027031302452087,\n",
       "   0.12280382961034775,\n",
       "   0.055208999663591385,\n",
       "   -0.001959947869181633,\n",
       "   -0.1837788224220276,\n",
       "   0.1660434752702713,\n",
       "   -0.1920396387577057,\n",
       "   0.0439908541738987,\n",
       "   0.024655122309923172,\n",
       "   0.128056138753891,\n",
       "   -0.30766594409942627,\n",
       "   -0.03906724229454994,\n",
       "   0.19779673218727112,\n",
       "   0.03820748254656792,\n",
       "   0.3218329846858978,\n",
       "   -0.031710434705019,\n",
       "   0.26030388474464417,\n",
       "   -0.07772974669933319,\n",
       "   0.1591888815164566,\n",
       "   -0.31053927540779114,\n",
       "   -0.565788745880127,\n",
       "   0.058950845152139664,\n",
       "   -0.12286008894443512,\n",
       "   0.2628709673881531,\n",
       "   -0.2884080111980438,\n",
       "   0.18498782813549042,\n",
       "   -0.059861935675144196,\n",
       "   -0.20117871463298798,\n",
       "   0.02360941655933857,\n",
       "   0.21013173460960388,\n",
       "   -0.07851247489452362,\n",
       "   -0.1612393856048584,\n",
       "   0.11963558197021484,\n",
       "   -0.19550196826457977,\n",
       "   -0.039505790919065475,\n",
       "   0.10410851240158081,\n",
       "   -0.05924166738986969,\n",
       "   0.21263781189918518,\n",
       "   0.03872955963015556,\n",
       "   0.20510175824165344,\n",
       "   -0.3686155378818512,\n",
       "   0.13582615554332733,\n",
       "   -0.18022862076759338,\n",
       "   -0.08762296289205551,\n",
       "   -0.12719300389289856,\n",
       "   -0.14579656720161438,\n",
       "   -0.004749845247715712,\n",
       "   -0.05607227236032486,\n",
       "   -0.1851845234632492,\n",
       "   -0.357409805059433,\n",
       "   0.20810216665267944,\n",
       "   0.10167711973190308,\n",
       "   -0.19177062809467316,\n",
       "   -0.22790543735027313,\n",
       "   -0.009615679271519184,\n",
       "   -0.12184391915798187,\n",
       "   0.08231817185878754,\n",
       "   -0.009388590231537819,\n",
       "   -0.050180017948150635,\n",
       "   0.06379642337560654,\n",
       "   -0.11309238523244858,\n",
       "   -0.15678314864635468,\n",
       "   0.10709971189498901,\n",
       "   0.42612457275390625,\n",
       "   -0.07681512087583542,\n",
       "   -0.20714130997657776,\n",
       "   -0.3085080087184906,\n",
       "   -0.051340822130441666,\n",
       "   0.2760716378688812,\n",
       "   0.00028145781834609807,\n",
       "   -0.1722140610218048,\n",
       "   -0.21595866978168488,\n",
       "   0.0396728515625,\n",
       "   0.20913733541965485,\n",
       "   0.07255394011735916,\n",
       "   -0.20131732523441315,\n",
       "   0.09724421799182892,\n",
       "   0.05491283908486366,\n",
       "   0.5925838947296143,\n",
       "   -0.026940885931253433,\n",
       "   -0.011027020402252674,\n",
       "   -0.3298507034778595,\n",
       "   -0.15252633392810822,\n",
       "   -0.12874245643615723,\n",
       "   -0.05471803620457649,\n",
       "   -0.12767112255096436,\n",
       "   -0.07896067947149277,\n",
       "   0.08088302612304688,\n",
       "   -0.07823112607002258,\n",
       "   -0.025621581822633743,\n",
       "   -0.09845510125160217,\n",
       "   0.08853776752948761,\n",
       "   -0.01696627214550972,\n",
       "   -0.14186419546604156,\n",
       "   0.12461376190185547,\n",
       "   -0.17793956398963928,\n",
       "   -0.04572691768407822,\n",
       "   -0.4810124635696411,\n",
       "   0.045801952481269836,\n",
       "   -0.11085065454244614,\n",
       "   -0.014712745323777199,\n",
       "   0.26597973704338074,\n",
       "   0.08295243978500366,\n",
       "   -0.266448974609375,\n",
       "   -0.2891175150871277,\n",
       "   -0.07147656381130219,\n",
       "   -0.2281811535358429,\n",
       "   -0.17797960340976715,\n",
       "   -0.12571212649345398,\n",
       "   -0.11001859605312347,\n",
       "   0.11668490618467331,\n",
       "   -0.12076480686664581,\n",
       "   0.016348425298929214,\n",
       "   0.04054410755634308,\n",
       "   -0.013276011683046818,\n",
       "   -0.19037297368049622,\n",
       "   0.13466379046440125,\n",
       "   0.1995883285999298,\n",
       "   0.4751749336719513,\n",
       "   0.2059127539396286,\n",
       "   0.2625528872013092,\n",
       "   -0.3815859854221344,\n",
       "   0.02394062653183937,\n",
       "   0.10535293817520142,\n",
       "   -0.07451862096786499,\n",
       "   -0.26842200756073,\n",
       "   0.18649893999099731,\n",
       "   0.15943396091461182,\n",
       "   0.08589553087949753,\n",
       "   -0.386465460062027,\n",
       "   -0.3474906086921692,\n",
       "   -0.05686398968100548,\n",
       "   0.646775484085083,\n",
       "   0.13266976177692413,\n",
       "   0.09250864386558533,\n",
       "   0.1313316524028778,\n",
       "   0.049488503485918045,\n",
       "   -0.04585764557123184,\n",
       "   -0.23858919739723206,\n",
       "   -0.07565074414014816,\n",
       "   -0.03348208963871002,\n",
       "   -0.29680874943733215,\n",
       "   -0.051919206976890564,\n",
       "   0.1436844766139984,\n",
       "   0.15282025933265686,\n",
       "   -0.1481706202030182,\n",
       "   0.07968124747276306,\n",
       "   -0.36022084951400757,\n",
       "   0.27070116996765137,\n",
       "   -0.2952706217765808,\n",
       "   0.17432962357997894,\n",
       "   -0.08015695959329605,\n",
       "   0.21199944615364075,\n",
       "   -0.01780134253203869,\n",
       "   0.08143911510705948,\n",
       "   0.03330189734697342,\n",
       "   -0.05003686621785164,\n",
       "   0.036496229469776154,\n",
       "   0.1802547723054886,\n",
       "   0.09465129673480988,\n",
       "   0.08355690538883209,\n",
       "   0.0076476274989545345,\n",
       "   -0.3688755929470062,\n",
       "   0.07565083354711533,\n",
       "   0.16265533864498138,\n",
       "   -0.0486123263835907,\n",
       "   -0.07194635272026062,\n",
       "   -0.06431218236684799,\n",
       "   0.08842453360557556,\n",
       "   -0.20655927062034607,\n",
       "   0.16857442259788513,\n",
       "   -0.4740327298641205,\n",
       "   0.01307709515094757,\n",
       "   0.11918488889932632,\n",
       "   0.22094063460826874,\n",
       "   -0.006922973319888115,\n",
       "   0.03579246625304222,\n",
       "   0.2994411289691925,\n",
       "   -0.20323649048805237,\n",
       "   -0.0038563632406294346,\n",
       "   0.10674188286066055,\n",
       "   -0.21967415511608124,\n",
       "   0.29272323846817017,\n",
       "   0.29048752784729004,\n",
       "   0.2817158102989197,\n",
       "   -0.020696355029940605,\n",
       "   -0.2797451317310333,\n",
       "   -0.1856546550989151,\n",
       "   -0.08710289746522903,\n",
       "   0.08750922977924347,\n",
       "   -0.028413748368620872,\n",
       "   -0.33366408944129944,\n",
       "   0.06672506779432297,\n",
       "   0.2453271895647049,\n",
       "   0.033550724387168884,\n",
       "   -0.3250506520271301,\n",
       "   0.05335035175085068,\n",
       "   -0.3107066750526428,\n",
       "   0.2486405223608017,\n",
       "   0.10463447123765945,\n",
       "   -0.10982821136713028,\n",
       "   -0.05088837444782257,\n",
       "   0.03477773815393448]],\n",
       " 'orig_truelabel_probs': [0.9372416734695435, 0.847079873085022],\n",
       " 'orig_vm_predclass': [1, 1],\n",
       " 'text': [\"it's . . . worth the extra effort to see an artist , still committed to growth in his ninth decade , change while remaining true to his principles with a film whose very subject is , quite pointedly , about the peril of such efforts .\",\n",
       "  \"were it not for a sentimental resolution that explains way more about cal than does the movie or the character any good , freundlich's world traveler might have been one of the more daring and surprising american movies of the year .\"]}"
      ]
     },
     "execution_count": null,
     "metadata": {},
     "output_type": "execute_result"
    }
   ],
   "source": [
    "ds.dsd_tkn['valid'][0:2]"
   ]
  },
  {
   "cell_type": "markdown",
   "metadata": {},
   "source": [
    "Alternately you can look at some random elements of a dataset with the `ds.show_random_elements()` method. "
   ]
  },
  {
   "cell_type": "code",
   "execution_count": null,
   "metadata": {},
   "outputs": [
    {
     "data": {
      "text/html": [
       "<table border=\"1\" class=\"dataframe\">\n",
       "  <thead>\n",
       "    <tr style=\"text-align: right;\">\n",
       "      <th></th>\n",
       "      <th>idx</th>\n",
       "      <th>label</th>\n",
       "      <th>text</th>\n",
       "    </tr>\n",
       "  </thead>\n",
       "  <tbody>\n",
       "    <tr>\n",
       "      <th>0</th>\n",
       "      <td>3480</td>\n",
       "      <td>pos</td>\n",
       "      <td>mostly honest , this somber picture reveals itself slowly , intelligently , artfully .</td>\n",
       "    </tr>\n",
       "    <tr>\n",
       "      <th>1</th>\n",
       "      <td>4880</td>\n",
       "      <td>neg</td>\n",
       "      <td>apparently designed as a reverie about memory and regret , but the only thing you'll regret is remembering the experience of sitting through it .</td>\n",
       "    </tr>\n",
       "    <tr>\n",
       "      <th>2</th>\n",
       "      <td>3640</td>\n",
       "      <td>pos</td>\n",
       "      <td>when you think you've figured out bielinsky's great game , that's when you're in the most trouble : he's the con , and you're just the mark .</td>\n",
       "    </tr>\n",
       "  </tbody>\n",
       "</table>"
      ],
      "text/plain": [
       "<IPython.core.display.HTML object>"
      ]
     },
     "metadata": {},
     "output_type": "display_data"
    }
   ],
   "source": [
    "ds.show_random_elements(ds.dsd_raw['train'], num_examples=3)"
   ]
  },
  {
   "cell_type": "code",
   "execution_count": null,
   "metadata": {},
   "outputs": [
    {
     "data": {
      "text/html": [
       "<table border=\"1\" class=\"dataframe\">\n",
       "  <thead>\n",
       "    <tr style=\"text-align: right;\">\n",
       "      <th></th>\n",
       "      <th>attention_mask</th>\n",
       "      <th>idx</th>\n",
       "      <th>input_ids</th>\n",
       "      <th>label</th>\n",
       "      <th>n_tokens</th>\n",
       "      <th>orig_sts_embeddings</th>\n",
       "      <th>orig_truelabel_probs</th>\n",
       "      <th>orig_vm_predclass</th>\n",
       "      <th>text</th>\n",
       "    </tr>\n",
       "  </thead>\n",
       "  <tbody>\n",
       "    <tr>\n",
       "      <th>0</th>\n",
       "      <td>[1, 1, 1, 1, 1, 1, 1, 1, 1, 1, 1, 1, 1, 1]</td>\n",
       "      <td>8240</td>\n",
       "      <td>[0, 405, 16, 1099, 2156, 53, 1819, 45, 396, 13032, 25, 4000, 479, 2]</td>\n",
       "      <td>neg</td>\n",
       "      <td>14</td>\n",
       "      <td>[0.07409124821424484, -0.28555047512054443, -0.06796510517597198, -0.3252895772457123, 0.036855921149253845, 0.3267824649810791, -0.015050191432237625, 0.1567767858505249, 0.23650391399860382, 0.03273976594209671, -0.09359420835971832, 0.2742508053779602, 0.32041049003601074, 0.2548767924308777, -0.032434217631816864, -0.12088172882795334, 0.7475268840789795, -0.3853236436843872, 0.009074598550796509, 0.14479413628578186, 0.059270359575748444, 0.11770723760128021, 0.35336387157440186, -0.045286357402801514, -0.18193283677101135, -0.16301120817661285, 0.08815793693065643, -0.08909820765256882, -0.09062936156988144, 0.24540287256240845, -0.22299952805042267, -0.1411578357219696, 0.08367875963449478, -0.020001769065856934, -0.48106276988983154, -0.04740080237388611, -0.19724921882152557, 0.07344017922878265, -0.007313099689781666, -0.2797631621360779, 0.0035986825823783875, 0.20114031434059143, -0.09965568780899048, 0.020152201876044273, -0.14113999903202057, 0.1161009818315506, 0.02756551466882229, -0.043488629162311554, -0.09224851429462433, 0.005897983908653259, 0.03382517397403717, 0.1340554803609848, -0.040826257318258286, -0.2407383918762207, -0.13136343657970428, -0.08395872265100479, 0.30115050077438354, 0.0979730486869812, -0.39226090908050537, 0.1936008334159851, 0.14521317183971405, -0.3308068811893463, 0.06126178801059723, -0.2474205642938614, 0.22160477936267853, -0.25219130516052246, -0.23798421025276184, 0.16496378183364868, -0.4071105122566223, 0.042752884328365326, 0.20724201202392578, -0.08050593733787537, 0.3702399730682373, 0.37275031208992004, -0.1345374584197998, 0.15251857042312622, 0.3488125801086426, -0.393639475107193, 0.07935017347335815, -0.21165278553962708, 0.15413376688957214, -0.057682741433382034, 0.06879235059022903, -0.12775708734989166, 0.10400110483169556, -0.38888782262802124, -0.008198261260986328, 0.18483886122703552, -0.07993965595960617, 0.07461892068386078, -0.028302567079663277, 0.33864718675613403, 0.17056851089000702, 0.33880072832107544, 0.4056403636932373, 0.15868745744228363, -0.1332210749387741, -0.2087058126926422, -0.3613317310810089, 0.47166791558265686, ...]</td>\n",
       "      <td>0.891341</td>\n",
       "      <td>0</td>\n",
       "      <td>it is bad , but certainly not without merit as entertainment .</td>\n",
       "    </tr>\n",
       "    <tr>\n",
       "      <th>1</th>\n",
       "      <td>[1, 1, 1, 1, 1, 1, 1, 1, 1, 1, 1, 1, 1, 1, 1, 1, 1, 1, 1, 1, 1, 1, 1, 1, 1, 1, 1]</td>\n",
       "      <td>2360</td>\n",
       "      <td>[0, 627, 1374, 1683, 16, 21531, 8, 15955, 480, 8, 10, 7782, 8745, 7, 120, 15, 10, 792, 8, 2156, 37463, 2156, 27373, 2156, 22633, 479, 2]</td>\n",
       "      <td>pos</td>\n",
       "      <td>27</td>\n",
       "      <td>[0.04401284456253052, -0.16428114473819733, -0.022668588906526566, 0.06744283437728882, -0.28163883090019226, -0.37925055623054504, 0.5876341462135315, 0.2901967167854309, -0.042840976268053055, 0.02269667014479637, 0.10843411833047867, -0.15031231939792633, -0.10917647182941437, -0.08137007802724838, 0.30406785011291504, 0.41915276646614075, 0.4364165663719177, -0.13273179531097412, -0.3431737720966339, 0.43271544575691223, -0.0889233872294426, 0.07603029161691666, -0.19508618116378784, 0.10890885442495346, -0.48713722825050354, -0.41958820819854736, -0.21349890530109406, -0.09140163660049438, -0.12284262478351593, 0.07895946502685547, -0.240946963429451, -0.10187531262636185, 0.4471614956855774, -0.17021271586418152, -0.19228853285312653, 0.27584782242774963, -0.38175585865974426, -0.033521562814712524, 0.10815444588661194, -0.25065308809280396, 0.021973855793476105, -0.17884160578250885, 0.04595806822180748, 0.29307445883750916, -0.20278792083263397, 0.10606871545314789, 0.2252230942249298, 0.06923412531614304, 0.2900986969470978, -0.06988903880119324, 0.29655948281288147, -0.4341394007205963, -0.07459859549999237, -0.44544002413749695, 0.03734232857823372, 0.3711625635623932, -0.04192529246211052, -0.16738931834697723, -0.2558805048465729, 0.2206665575504303, 0.013594625517725945, 0.34035345911979675, -0.13952438533306122, 0.24023175239562988, 0.34313473105430603, -0.2783070206642151, -0.4136805534362793, -0.054238516837358475, -0.13204915821552277, 0.21631714701652527, 0.5743158459663391, -0.09112890809774399, 0.00302168820053339, 0.12183459103107452, 0.3105069696903229, -0.22926218807697296, -0.2347143143415451, -0.21948403120040894, -0.3696134388446808, -0.10159849375486374, -0.2504853904247284, -0.17711061239242554, 0.4149620532989502, 0.2324047088623047, -0.2801794409751892, -0.2146194726228714, 0.40810856223106384, -0.16749858856201172, -0.041506774723529816, 0.5186586380004883, -0.20605482161045074, 0.031907256692647934, -0.19117681682109833, -0.03963850811123848, 0.09361729770898819, -0.05620230734348297, -0.4075450897216797, -0.09582684934139252, -0.5087288022041321, 0.17758481204509735, ...]</td>\n",
       "      <td>0.817904</td>\n",
       "      <td>1</td>\n",
       "      <td>the overall effect is awe and affection -- and a strange urge to get on a board and , uh , shred , dude .</td>\n",
       "    </tr>\n",
       "    <tr>\n",
       "      <th>2</th>\n",
       "      <td>[1, 1, 1, 1, 1, 1, 1, 1, 1, 1, 1, 1, 1, 1, 1, 1, 1, 1, 1, 1]</td>\n",
       "      <td>8160</td>\n",
       "      <td>[0, 281, 10, 9284, 6066, 14481, 8, 1900, 9001, 2156, 1900, 30, 1530, 10698, 5, 4392, 350, 3615, 479, 2]</td>\n",
       "      <td>neg</td>\n",
       "      <td>20</td>\n",
       "      <td>[0.2546972930431366, 0.31509658694267273, -0.27262750267982483, 0.07603449374437332, 0.5300198197364807, 0.05333120748400688, 0.02824675478041172, 0.21855942904949188, 0.44942358136177063, 0.03154435381293297, 0.3224776089191437, 0.1438864767551422, 0.2147073596715927, -0.06450001150369644, 0.19891870021820068, -0.3067059814929962, 0.2084534913301468, -0.24242067337036133, -0.3110296130180359, 0.189059779047966, -0.3393832743167877, -0.05364064499735832, 0.5092564225196838, -0.2554610073566437, 0.25382623076438904, -0.17573469877243042, 0.16240203380584717, 0.06380569189786911, -0.2885981500148773, -0.3036135137081146, 0.2608518600463867, 0.3256901502609253, 0.1099996492266655, -0.2423398494720459, 0.26518669724464417, 0.011865802109241486, -0.009212568402290344, 0.4233095645904541, -0.08658035844564438, -0.26237180829048157, -0.3861198127269745, 0.48275575041770935, 0.18322139978408813, 0.10145892947912216, -0.13132549822330475, -0.14981836080551147, -0.44625774025917053, 0.284708172082901, -0.28664588928222656, -0.18883949518203735, -0.14426255226135254, 0.11285009980201721, -0.15344053506851196, 0.19297651946544647, -0.10687289386987686, -0.17021144926548004, -0.45022425055503845, 0.1612005978822708, 0.2535587251186371, 0.1981431245803833, -0.25220850110054016, 0.11309175938367844, 0.025743544101715088, -0.26750752329826355, 0.3559701144695282, -0.126265749335289, 0.01946205459535122, -0.1899697631597519, 0.08389642089605331, 0.4294525384902954, 0.3849283754825592, -0.06310809403657913, 0.2618269622325897, 0.2347196787595749, -0.058131616562604904, 0.0105327432975173, -0.2610444128513336, 0.08814212679862976, 0.21297456324100494, -0.19235694408416748, -0.11726375669240952, -0.0457448810338974, 0.04035811498761177, -0.2645147144794464, -0.14847487211227417, -0.2706614136695862, 0.1790958195924759, 0.1490056812763214, -0.04857505485415459, 0.10515721887350082, -0.07829747349023819, -0.2905997335910797, 0.27712059020996094, 0.12021821737289429, -0.11091139167547226, 0.16729740798473358, -0.12929250299930573, 0.20075982809066772, 0.1181543692946434, 0.2683846056461334, ...]</td>\n",
       "      <td>0.917005</td>\n",
       "      <td>0</td>\n",
       "      <td>as a hybrid teen thriller and murder mystery , murder by numbers fits the profile too closely .</td>\n",
       "    </tr>\n",
       "  </tbody>\n",
       "</table>"
      ],
      "text/plain": [
       "<IPython.core.display.HTML object>"
      ]
     },
     "metadata": {},
     "output_type": "display_data"
    }
   ],
   "source": [
    "ds.show_random_elements(ds.dsd_tkn['train'], num_examples=3)"
   ]
  },
  {
   "cell_type": "markdown",
   "metadata": {},
   "source": [
    "### Accessing DataLoaders "
   ]
  },
  {
   "cell_type": "markdown",
   "metadata": {},
   "source": [
    "We can access dataloaders for the raw text in `ds.dsd_raw` with `ds.dld_raw`, and for the tokenised text in `ds.dsd_tkn` with `ds_dld_tkn`. Both of these are dictionaries of dataloaders with keys `['train', 'valid', 'test', 'train_eval]`. "
   ]
  },
  {
   "cell_type": "code",
   "execution_count": null,
   "metadata": {},
   "outputs": [
    {
     "name": "stdout",
     "output_type": "stream",
     "text": [
      "Dataloader dict has keys: dict_keys(['train', 'test', 'valid', 'train_eval'])\n",
      "dict_keys(['text', 'idx'])\n",
      "dict_keys(['idx', 'attention_mask', 'input_ids', 'label', 'orig_truelabel_probs', 'orig_sts_embeddings'])\n",
      "Tokenised input is of shape: torch.Size([16, 64])\n"
     ]
    }
   ],
   "source": [
    "print(\"Dataloader dict has keys:\", ds.dld_raw.keys())\n",
    "batch_raw = next(iter(ds.dld_raw['train']))\n",
    "batch_tkn = next(iter(ds.dld_tkn['train']))\n",
    "print(batch_raw.keys())\n",
    "print(batch_tkn.keys())\n",
    "print(\"Tokenised input is of shape:\", batch_tkn['input_ids'].shape)"
   ]
  },
  {
   "cell_type": "markdown",
   "metadata": {},
   "source": [
    "#hide\n",
    "## Export "
   ]
  },
  {
   "cell_type": "code",
   "execution_count": null,
   "metadata": {},
   "outputs": [
    {
     "name": "stdout",
     "output_type": "stream",
     "text": [
      "Converted 00_utils.ipynb.\n",
      "Converted 02_tests.ipynb.\n",
      "Converted 03_config.ipynb.\n",
      "Converted 07_models.ipynb.\n",
      "Converted 10_data.ipynb.\n",
      "Converted 20_trainer.ipynb.\n",
      "Converted 30_logging.ipynb.\n",
      "Converted 35_charts.ipynb.\n",
      "Converted index.ipynb.\n",
      "Converted run.ipynb.\n"
     ]
    }
   ],
   "source": [
    "#hide\n",
    "from nbdev.export import notebook2script\n",
    "notebook2script()"
   ]
  },
  {
   "cell_type": "code",
   "execution_count": null,
   "metadata": {},
   "outputs": [],
   "source": []
  }
 ],
 "metadata": {
  "kernelspec": {
   "display_name": "Python 3",
   "language": "python",
   "name": "python3"
  }
 },
 "nbformat": 4,
 "nbformat_minor": 4
}
