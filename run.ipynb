{
 "cells": [
  {
   "cell_type": "code",
   "execution_count": null,
   "metadata": {},
   "outputs": [],
   "source": [
    "%load_ext autoreload\n",
    "%autoreload 2\n",
    "%load_ext line_profiler"
   ]
  },
  {
   "cell_type": "code",
   "execution_count": null,
   "metadata": {},
   "outputs": [],
   "source": [
    "## Imports and environment variables \n",
    "import torch, wandb, os, pandas as pd \n",
    "from travis_attack.utils import set_seed, set_session_options, setup_logging, setup_parser, resume_wandb_run, display_all, print_important_cfg_vars\n",
    "from travis_attack.config import Config\n",
    "from travis_attack.models import prepare_models, get_optimizer\n",
    "from travis_attack.data import ProcessedDataset\n",
    "from travis_attack.trainer import Trainer\n",
    "from travis_attack.insights import (postprocess_df, create_and_log_wandb_postrun_plots, get_training_dfs)\n",
    "from fastcore.basics import in_jupyter\n",
    "\n",
    "import logging \n",
    "logger = logging.getLogger(\"run\")\n",
    "\n",
    "import warnings\n",
    "warnings.filterwarnings(\"ignore\", message=\"Passing `max_length` to BeamSearchScorer is deprecated\")  # we ignore the warning because it works anyway for diverse beam search "
   ]
  },
  {
   "cell_type": "code",
   "execution_count": null,
   "metadata": {},
   "outputs": [
    {
     "name": "stdout",
     "output_type": "stream",
     "text": [
      "Converted 00_utils.ipynb.\n",
      "Converted 02_tests.ipynb.\n",
      "Converted 03_config.ipynb.\n",
      "Converted 07_models.ipynb.\n",
      "Converted 10_data.ipynb.\n",
      "Converted 20_trainer.ipynb.\n",
      "Converted 25_insights.ipynb.\n",
      "Converted Untitled.ipynb.\n",
      "Converted baselines.ipynb.\n",
      "Converted baselines_analysis.ipynb.\n",
      "Converted index.ipynb.\n",
      "Converted pp_eval_baselines.ipynb.\n",
      "Converted run.ipynb.\n",
      "Converted show_examples.ipynb.\n",
      "Converted test_grammar_options.ipynb.\n",
      "Converted test_pp_model.ipynb.\n",
      "[NbConvertApp] Converting notebook run.ipynb to python\n"
     ]
    }
   ],
   "source": [
    "from nbdev.export import notebook2script\n",
    "notebook2script()\n",
    "\n",
    "!jupyter nbconvert \\\n",
    "    --TagRemovePreprocessor.enabled=True \\\n",
    "    --TagRemovePreprocessor.remove_cell_tags=\"['hide']\" \\\n",
    "    --TemplateExporter.exclude_markdown=True \\\n",
    "    --to python \"run.ipynb\""
   ]
  },
  {
   "cell_type": "code",
   "execution_count": null,
   "metadata": {},
   "outputs": [
    {
     "name": "stderr",
     "output_type": "stream",
     "text": [
      "travis_attack.data: INFO     Will load dataset simple with use_small_ds set to False\n",
      "travis_attack.data: INFO     Will load dataset simple with use_small_ds set to False\n",
      "travis_attack.data: INFO     Will load dataset simple with use_small_ds set to False\n"
     ]
    },
    {
     "data": {
      "application/vnd.jupyter.widget-view+json": {
       "model_id": "20f6460abfbf4c05b40f33bce75438cf",
       "version_major": 2,
       "version_minor": 0
      },
      "text/plain": [
       "HBox(children=(FloatProgress(value=0.0, max=1.0), HTML(value='')))"
      ]
     },
     "metadata": {},
     "output_type": "display_data"
    },
    {
     "name": "stdout",
     "output_type": "stream",
     "text": [
      "\n"
     ]
    },
    {
     "data": {
      "application/vnd.jupyter.widget-view+json": {
       "model_id": "d9126b307c5147e496447a60795e3935",
       "version_major": 2,
       "version_minor": 0
      },
      "text/plain": [
       "HBox(children=(FloatProgress(value=0.0, max=1.0), HTML(value='')))"
      ]
     },
     "metadata": {},
     "output_type": "display_data"
    },
    {
     "name": "stdout",
     "output_type": "stream",
     "text": [
      "\n"
     ]
    },
    {
     "data": {
      "application/vnd.jupyter.widget-view+json": {
       "model_id": "76c4cd25763f49c1adefbdd9a616abd3",
       "version_major": 2,
       "version_minor": 0
      },
      "text/plain": [
       "HBox(children=(FloatProgress(value=0.0, max=1.0), HTML(value='')))"
      ]
     },
     "metadata": {},
     "output_type": "display_data"
    },
    {
     "name": "stdout",
     "output_type": "stream",
     "text": [
      "\n"
     ]
    },
    {
     "data": {
      "application/vnd.jupyter.widget-view+json": {
       "model_id": "b2ba4daa31004593897cbf6619b7709c",
       "version_major": 2,
       "version_minor": 0
      },
      "text/plain": [
       "HBox(children=(FloatProgress(value=0.0, max=1.0), HTML(value='')))"
      ]
     },
     "metadata": {},
     "output_type": "display_data"
    },
    {
     "name": "stdout",
     "output_type": "stream",
     "text": [
      "\n"
     ]
    },
    {
     "data": {
      "application/vnd.jupyter.widget-view+json": {
       "model_id": "bf351c06de314596b878292a036775fd",
       "version_major": 2,
       "version_minor": 0
      },
      "text/plain": [
       "HBox(children=(FloatProgress(value=0.0, max=1.0), HTML(value='')))"
      ]
     },
     "metadata": {},
     "output_type": "display_data"
    },
    {
     "name": "stdout",
     "output_type": "stream",
     "text": [
      "\n"
     ]
    },
    {
     "data": {
      "application/vnd.jupyter.widget-view+json": {
       "model_id": "e2fe47424a6342178c407041893c1f44",
       "version_major": 2,
       "version_minor": 0
      },
      "text/plain": [
       "HBox(children=(FloatProgress(value=0.0, max=1.0), HTML(value='')))"
      ]
     },
     "metadata": {},
     "output_type": "display_data"
    },
    {
     "name": "stdout",
     "output_type": "stream",
     "text": [
      "\n"
     ]
    },
    {
     "data": {
      "application/vnd.jupyter.widget-view+json": {
       "model_id": "214371863bdf44159fbf0626bb6bba0e",
       "version_major": 2,
       "version_minor": 0
      },
      "text/plain": [
       "HBox(children=(FloatProgress(value=0.0, max=1.0), HTML(value='')))"
      ]
     },
     "metadata": {},
     "output_type": "display_data"
    },
    {
     "name": "stdout",
     "output_type": "stream",
     "text": [
      "\n"
     ]
    },
    {
     "data": {
      "application/vnd.jupyter.widget-view+json": {
       "model_id": "bd78a9462a8c48c1b5057c64642b984e",
       "version_major": 2,
       "version_minor": 0
      },
      "text/plain": [
       "HBox(children=(FloatProgress(value=0.0, max=1.0), HTML(value='')))"
      ]
     },
     "metadata": {},
     "output_type": "display_data"
    },
    {
     "name": "stdout",
     "output_type": "stream",
     "text": [
      "\n"
     ]
    },
    {
     "data": {
      "application/vnd.jupyter.widget-view+json": {
       "model_id": "2b205d4ac56240dd9cec9b4935a587e2",
       "version_major": 2,
       "version_minor": 0
      },
      "text/plain": [
       "HBox(children=(FloatProgress(value=0.0, max=1.0), HTML(value='')))"
      ]
     },
     "metadata": {},
     "output_type": "display_data"
    },
    {
     "name": "stdout",
     "output_type": "stream",
     "text": [
      "\n"
     ]
    },
    {
     "data": {
      "application/vnd.jupyter.widget-view+json": {
       "model_id": "1a412c0bd0fe459daf64b816d2b1ba6e",
       "version_major": 2,
       "version_minor": 0
      },
      "text/plain": [
       "HBox(children=(FloatProgress(value=0.0, max=1.0), HTML(value='')))"
      ]
     },
     "metadata": {},
     "output_type": "display_data"
    },
    {
     "name": "stdout",
     "output_type": "stream",
     "text": [
      "\n"
     ]
    },
    {
     "data": {
      "application/vnd.jupyter.widget-view+json": {
       "model_id": "ce77203a10b744cc8e955465eabf2c05",
       "version_major": 2,
       "version_minor": 0
      },
      "text/plain": [
       "HBox(children=(FloatProgress(value=0.0, max=1.0), HTML(value='')))"
      ]
     },
     "metadata": {},
     "output_type": "display_data"
    },
    {
     "name": "stdout",
     "output_type": "stream",
     "text": [
      "\n"
     ]
    },
    {
     "data": {
      "application/vnd.jupyter.widget-view+json": {
       "model_id": "e660bc0cad3a4b929302050791f22fe9",
       "version_major": 2,
       "version_minor": 0
      },
      "text/plain": [
       "HBox(children=(FloatProgress(value=0.0, max=1.0), HTML(value='')))"
      ]
     },
     "metadata": {},
     "output_type": "display_data"
    },
    {
     "name": "stdout",
     "output_type": "stream",
     "text": [
      "\n"
     ]
    },
    {
     "data": {
      "application/vnd.jupyter.widget-view+json": {
       "model_id": "306844c42eb54c69982116e426b2bac3",
       "version_major": 2,
       "version_minor": 0
      },
      "text/plain": [
       "HBox(children=(FloatProgress(value=0.0, max=1.0), HTML(value='')))"
      ]
     },
     "metadata": {},
     "output_type": "display_data"
    },
    {
     "name": "stdout",
     "output_type": "stream",
     "text": [
      "\n"
     ]
    },
    {
     "data": {
      "application/vnd.jupyter.widget-view+json": {
       "model_id": "4046512e57f8468d9cdb4b7d85860619",
       "version_major": 2,
       "version_minor": 0
      },
      "text/plain": [
       "HBox(children=(FloatProgress(value=0.0, max=1.0), HTML(value='')))"
      ]
     },
     "metadata": {},
     "output_type": "display_data"
    },
    {
     "name": "stdout",
     "output_type": "stream",
     "text": [
      "\n"
     ]
    },
    {
     "data": {
      "application/vnd.jupyter.widget-view+json": {
       "model_id": "fc96e73b352445b4853e4b6d1161f59d",
       "version_major": 2,
       "version_minor": 0
      },
      "text/plain": [
       "HBox(children=(FloatProgress(value=0.0, max=1.0), HTML(value='')))"
      ]
     },
     "metadata": {},
     "output_type": "display_data"
    },
    {
     "name": "stdout",
     "output_type": "stream",
     "text": [
      "\n"
     ]
    },
    {
     "data": {
      "application/vnd.jupyter.widget-view+json": {
       "model_id": "ae232bc031c4407aa6a1f65ddcec0114",
       "version_major": 2,
       "version_minor": 0
      },
      "text/plain": [
       "HBox(children=(FloatProgress(value=0.0, max=1.0), HTML(value='')))"
      ]
     },
     "metadata": {},
     "output_type": "display_data"
    },
    {
     "data": {
      "application/vnd.jupyter.widget-view+json": {
       "model_id": "d560a00925d9487aa71e5bd29007ca1b",
       "version_major": 2,
       "version_minor": 0
      },
      "text/plain": [
       "HBox(children=(FloatProgress(value=0.0, description='Batches', max=1.0, style=ProgressStyle(description_width=…"
      ]
     },
     "metadata": {},
     "output_type": "display_data"
    },
    {
     "name": "stdout",
     "output_type": "stream",
     "text": [
      "\n",
      "\n"
     ]
    },
    {
     "data": {
      "application/vnd.jupyter.widget-view+json": {
       "model_id": "12ed21e424444396acf6780366fc746e",
       "version_major": 2,
       "version_minor": 0
      },
      "text/plain": [
       "HBox(children=(FloatProgress(value=0.0, max=1.0), HTML(value='')))"
      ]
     },
     "metadata": {},
     "output_type": "display_data"
    },
    {
     "data": {
      "application/vnd.jupyter.widget-view+json": {
       "model_id": "abc559a4010a4347ba43b690e1d20ad6",
       "version_major": 2,
       "version_minor": 0
      },
      "text/plain": [
       "HBox(children=(FloatProgress(value=0.0, description='Batches', max=1.0, style=ProgressStyle(description_width=…"
      ]
     },
     "metadata": {},
     "output_type": "display_data"
    },
    {
     "name": "stdout",
     "output_type": "stream",
     "text": [
      "\n",
      "\n"
     ]
    },
    {
     "data": {
      "application/vnd.jupyter.widget-view+json": {
       "model_id": "9347894ce6bb483fa97296bd722a25ae",
       "version_major": 2,
       "version_minor": 0
      },
      "text/plain": [
       "HBox(children=(FloatProgress(value=0.0, max=1.0), HTML(value='')))"
      ]
     },
     "metadata": {},
     "output_type": "display_data"
    },
    {
     "data": {
      "application/vnd.jupyter.widget-view+json": {
       "model_id": "8aa1afbf17d147e7821bbb52030ea725",
       "version_major": 2,
       "version_minor": 0
      },
      "text/plain": [
       "HBox(children=(FloatProgress(value=0.0, description='Batches', max=1.0, style=ProgressStyle(description_width=…"
      ]
     },
     "metadata": {},
     "output_type": "display_data"
    },
    {
     "name": "stdout",
     "output_type": "stream",
     "text": [
      "\n",
      "\n"
     ]
    },
    {
     "data": {
      "application/vnd.jupyter.widget-view+json": {
       "model_id": "f929c18b8e734b3baa6b73937e9c2a48",
       "version_major": 2,
       "version_minor": 0
      },
      "text/plain": [
       "HBox(children=(FloatProgress(value=0.0, max=1.0), HTML(value='')))"
      ]
     },
     "metadata": {},
     "output_type": "display_data"
    },
    {
     "name": "stdout",
     "output_type": "stream",
     "text": [
      "\n"
     ]
    },
    {
     "data": {
      "application/vnd.jupyter.widget-view+json": {
       "model_id": "1723b8f0eebd4a4abb0d6daf292ec73e",
       "version_major": 2,
       "version_minor": 0
      },
      "text/plain": [
       "HBox(children=(FloatProgress(value=0.0, max=1.0), HTML(value='')))"
      ]
     },
     "metadata": {},
     "output_type": "display_data"
    },
    {
     "name": "stdout",
     "output_type": "stream",
     "text": [
      "\n"
     ]
    },
    {
     "data": {
      "application/vnd.jupyter.widget-view+json": {
       "model_id": "e2fc86a9c46346498cb6e2dd168dc7f9",
       "version_major": 2,
       "version_minor": 0
      },
      "text/plain": [
       "HBox(children=(FloatProgress(value=0.0, max=1.0), HTML(value='')))"
      ]
     },
     "metadata": {},
     "output_type": "display_data"
    },
    {
     "name": "stdout",
     "output_type": "stream",
     "text": [
      "\n"
     ]
    },
    {
     "data": {
      "application/vnd.jupyter.widget-view+json": {
       "model_id": "0590086ddc714806ac5d40486f17b643",
       "version_major": 2,
       "version_minor": 0
      },
      "text/plain": [
       "HBox(children=(FloatProgress(value=0.0, max=1.0), HTML(value='')))"
      ]
     },
     "metadata": {},
     "output_type": "display_data"
    },
    {
     "name": "stdout",
     "output_type": "stream",
     "text": [
      "\n"
     ]
    },
    {
     "data": {
      "application/vnd.jupyter.widget-view+json": {
       "model_id": "949ca8f0dd3f48f8999e39ca28d0a371",
       "version_major": 2,
       "version_minor": 0
      },
      "text/plain": [
       "HBox(children=(FloatProgress(value=0.0, max=1.0), HTML(value='')))"
      ]
     },
     "metadata": {},
     "output_type": "display_data"
    },
    {
     "name": "stdout",
     "output_type": "stream",
     "text": [
      "\n"
     ]
    },
    {
     "data": {
      "application/vnd.jupyter.widget-view+json": {
       "model_id": "b30a6f199b7a41f7a9ed3bb540ff3300",
       "version_major": 2,
       "version_minor": 0
      },
      "text/plain": [
       "HBox(children=(FloatProgress(value=0.0, max=1.0), HTML(value='')))"
      ]
     },
     "metadata": {},
     "output_type": "display_data"
    },
    {
     "name": "stdout",
     "output_type": "stream",
     "text": [
      "\n"
     ]
    },
    {
     "data": {
      "application/vnd.jupyter.widget-view+json": {
       "model_id": "2f61aa9fb3944bb4953cb6f568f96446",
       "version_major": 2,
       "version_minor": 0
      },
      "text/plain": [
       "HBox(children=(FloatProgress(value=0.0, max=1.0), HTML(value='')))"
      ]
     },
     "metadata": {},
     "output_type": "display_data"
    },
    {
     "name": "stdout",
     "output_type": "stream",
     "text": [
      "\n"
     ]
    },
    {
     "data": {
      "application/vnd.jupyter.widget-view+json": {
       "model_id": "fb58f3de801f4a30aabdfaeeda608ac3",
       "version_major": 2,
       "version_minor": 0
      },
      "text/plain": [
       "HBox(children=(FloatProgress(value=0.0, max=1.0), HTML(value='')))"
      ]
     },
     "metadata": {},
     "output_type": "display_data"
    },
    {
     "name": "stdout",
     "output_type": "stream",
     "text": [
      "\n"
     ]
    },
    {
     "data": {
      "application/vnd.jupyter.widget-view+json": {
       "model_id": "3ee7f79a68b447f1a628202c446727d5",
       "version_major": 2,
       "version_minor": 0
      },
      "text/plain": [
       "HBox(children=(FloatProgress(value=0.0, max=1.0), HTML(value='')))"
      ]
     },
     "metadata": {},
     "output_type": "display_data"
    },
    {
     "name": "stdout",
     "output_type": "stream",
     "text": [
      "\n"
     ]
    },
    {
     "data": {
      "application/vnd.jupyter.widget-view+json": {
       "model_id": "8ae8be528bc84512a56461e8b0bcf25d",
       "version_major": 2,
       "version_minor": 0
      },
      "text/plain": [
       "HBox(children=(FloatProgress(value=0.0, max=1.0), HTML(value='')))"
      ]
     },
     "metadata": {},
     "output_type": "display_data"
    },
    {
     "name": "stdout",
     "output_type": "stream",
     "text": [
      "\n"
     ]
    },
    {
     "data": {
      "application/vnd.jupyter.widget-view+json": {
       "model_id": "c8433a391ba84f278a4932cd5b5b464a",
       "version_major": 2,
       "version_minor": 0
      },
      "text/plain": [
       "HBox(children=(FloatProgress(value=0.0, max=1.0), HTML(value='')))"
      ]
     },
     "metadata": {},
     "output_type": "display_data"
    },
    {
     "name": "stdout",
     "output_type": "stream",
     "text": [
      "\n"
     ]
    },
    {
     "data": {
      "application/vnd.jupyter.widget-view+json": {
       "model_id": "2a3146f9028b457ea6189fd6dd8515a1",
       "version_major": 2,
       "version_minor": 0
      },
      "text/plain": [
       "HBox(children=(FloatProgress(value=0.0, max=1.0), HTML(value='')))"
      ]
     },
     "metadata": {},
     "output_type": "display_data"
    },
    {
     "name": "stdout",
     "output_type": "stream",
     "text": [
      "\n"
     ]
    },
    {
     "data": {
      "application/vnd.jupyter.widget-view+json": {
       "model_id": "ec1487b0e69346b4a61895c91dae8cdb",
       "version_major": 2,
       "version_minor": 0
      },
      "text/plain": [
       "HBox(children=(FloatProgress(value=0.0, description='Flattening the indices', max=1.0, style=ProgressStyle(des…"
      ]
     },
     "metadata": {},
     "output_type": "display_data"
    },
    {
     "name": "stdout",
     "output_type": "stream",
     "text": [
      "\n"
     ]
    },
    {
     "data": {
      "application/vnd.jupyter.widget-view+json": {
       "model_id": "017520682d1e425e862a0bb16c0ce5a6",
       "version_major": 2,
       "version_minor": 0
      },
      "text/plain": [
       "HBox(children=(FloatProgress(value=0.0, description='Flattening the indices', max=1.0, style=ProgressStyle(des…"
      ]
     },
     "metadata": {},
     "output_type": "display_data"
    },
    {
     "name": "stdout",
     "output_type": "stream",
     "text": [
      "\n"
     ]
    },
    {
     "data": {
      "application/vnd.jupyter.widget-view+json": {
       "model_id": "a3a1d5b7939144209f6aeb4b6e752ac8",
       "version_major": 2,
       "version_minor": 0
      },
      "text/plain": [
       "HBox(children=(FloatProgress(value=0.0, description='Flattening the indices', max=1.0, style=ProgressStyle(des…"
      ]
     },
     "metadata": {},
     "output_type": "display_data"
    },
    {
     "name": "stdout",
     "output_type": "stream",
     "text": [
      "\n"
     ]
    },
    {
     "data": {
      "application/vnd.jupyter.widget-view+json": {
       "model_id": "423b9931edca4cbfb1aca67f9579ae0a",
       "version_major": 2,
       "version_minor": 0
      },
      "text/plain": [
       "HBox(children=(FloatProgress(value=0.0, description='Flattening the indices', max=1.0, style=ProgressStyle(des…"
      ]
     },
     "metadata": {},
     "output_type": "display_data"
    },
    {
     "name": "stdout",
     "output_type": "stream",
     "text": [
      "\n"
     ]
    },
    {
     "data": {
      "application/vnd.jupyter.widget-view+json": {
       "model_id": "e27e9c9751af46ccb2a01cdc821cbd12",
       "version_major": 2,
       "version_minor": 0
      },
      "text/plain": [
       "HBox(children=(FloatProgress(value=0.0, description='Flattening the indices', max=1.0, style=ProgressStyle(des…"
      ]
     },
     "metadata": {},
     "output_type": "display_data"
    },
    {
     "name": "stdout",
     "output_type": "stream",
     "text": [
      "\n"
     ]
    },
    {
     "data": {
      "application/vnd.jupyter.widget-view+json": {
       "model_id": "514bf667a9924a06967a2b54956e43f1",
       "version_major": 2,
       "version_minor": 0
      },
      "text/plain": [
       "HBox(children=(FloatProgress(value=0.0, description='Flattening the indices', max=1.0, style=ProgressStyle(des…"
      ]
     },
     "metadata": {},
     "output_type": "display_data"
    },
    {
     "name": "stdout",
     "output_type": "stream",
     "text": [
      "\n"
     ]
    }
   ],
   "source": [
    "cfg = Config()  # default values\n",
    "if not in_jupyter():  # override with any -- options when running with command line\n",
    "    parser = setup_parser()\n",
    "    newargs = vars(parser.parse_args())\n",
    "    for k,v in newargs.items(): \n",
    "        if v is not None: \n",
    "            if k in cfg.gen_params_train.keys():  cfg.gen_params_train[k] = v\n",
    "            else:                   setattr(cfg, k, v)\n",
    "if cfg.use_small_ds:  cfg = cfg.small_ds()\n",
    "set_seed(cfg.seed)\n",
    "set_session_options()\n",
    "setup_logging(cfg, disable_other_loggers=True)\n",
    "vm_tokenizer,vm_model,pp_tokenizer,pp_model,ref_pp_model,sts_model,nli_tokenizer,nli_model,cola_tokenizer,cola_model,cfg = prepare_models(cfg)\n",
    "optimizer = get_optimizer(cfg, pp_model)\n",
    "ds = ProcessedDataset(cfg, vm_tokenizer, vm_model, pp_tokenizer, sts_model, load_processed_from_file=False)\n"
   ]
  },
  {
   "cell_type": "code",
   "execution_count": null,
   "metadata": {},
   "outputs": [
    {
     "name": "stdout",
     "output_type": "stream",
     "text": [
      "{'pp_name': 'prithivida/parrot_paraphraser_on_T5',\n",
      " 'dataset_name': 'simple',\n",
      " 'sts_name': 'sentence-transformers/paraphrase-MiniLM-L12-v2',\n",
      " 'nli_name': 'howey/electra-small-mnli',\n",
      " 'cola_name': 'textattack/albert-base-v2-CoLA',\n",
      " 'vm_name': 'textattack/distilbert-base-uncased-rotten-tomatoes',\n",
      " 'seed': 421,\n",
      " 'use_small_ds': False,\n",
      " 'lr': 4e-05,\n",
      " 'reward_fn': 'reward_fn_contradiction_and_letter_diff',\n",
      " 'reward_clip_max': 4,\n",
      " 'reward_vm_multiplier': 12,\n",
      " 'sts_threshold': 0.8,\n",
      " 'acceptability_threshold': 0.5,\n",
      " 'contradiction_threshold': 0.2,\n",
      " 'pp_letter_diff_threshold': 30,\n",
      " 'reward_penalty_type': 'kl_div',\n",
      " 'kl_coef': 0.25,\n",
      " 'ref_logp_coef': 0.05,\n",
      " 'max_pp_length': 48,\n",
      " 'n_eval_seq': 48,\n",
      " 'decode_method_train': 'sample',\n",
      " 'decode_method_eval': 'sample',\n",
      " 'gen_params_train': {'min_length': 2,\n",
      "                      'max_length': 48,\n",
      "                      'do_sample': True,\n",
      "                      'temperature': 1.1,\n",
      "                      'top_p': 0.95,\n",
      "                      'length_penalty': 1.0,\n",
      "                      'repetition_penalty': None},\n",
      " 'gen_params_eval': {'num_return_sequences': 48,\n",
      "                     'max_length': 48,\n",
      "                     'do_sample': True,\n",
      "                     'num_beams': 1,\n",
      "                     'top_p': 0.95,\n",
      "                     'temperature': 0.8,\n",
      "                     'length_penalty': 1,\n",
      "                     'diversity_penalty': None,\n",
      "                     'num_beam_groups': None},\n",
      " 'early_stopping': True,\n",
      " 'early_stopping_min_epochs': 10,\n",
      " 'early_stopping_metric': 'any_adv_example_proportion',\n",
      " 'orig_max_length': 32,\n",
      " 'batch_size_train': 4,\n",
      " 'batch_size_eval': 4,\n",
      " 'acc_steps': 2,\n",
      " 'n_train_epochs': 6,\n",
      " 'eval_freq': 1,\n",
      " 'cola_positive_label': 1,\n",
      " 'ds_length': {'train': 4, 'valid': 4, 'test': 4}}\n"
     ]
    },
    {
     "data": {
      "application/vnd.jupyter.widget-view+json": {
       "model_id": "b961304050fd4aa8a9237dfb4cf65441",
       "version_major": 2,
       "version_minor": 0
      },
      "text/plain": [
       "HBox(children=(FloatProgress(value=0.0, max=6.0), HTML(value='')))"
      ]
     },
     "metadata": {},
     "output_type": "display_data"
    },
    {
     "name": "stderr",
     "output_type": "stream",
     "text": [
      "travis_attack.trainer: INFO     Launching initial eval run: train\n",
      "travis_attack.trainer: INFO     Launching initial eval run: train\n",
      "travis_attack.trainer: INFO     Launching initial eval run: train\n"
     ]
    },
    {
     "data": {
      "application/vnd.jupyter.widget-view+json": {
       "model_id": "d0a38f836ad14761a805a61135c7a14d",
       "version_major": 2,
       "version_minor": 0
      },
      "text/plain": [
       "HBox(children=(FloatProgress(value=0.0, max=1.0), HTML(value='')))"
      ]
     },
     "metadata": {},
     "output_type": "display_data"
    },
    {
     "name": "stdout",
     "output_type": "stream",
     "text": [
      "\n"
     ]
    },
    {
     "data": {
      "application/vnd.jupyter.widget-view+json": {
       "model_id": "3b0874561d3249dfbd17c5b230ab6ad0",
       "version_major": 2,
       "version_minor": 0
      },
      "text/plain": [
       "HBox(children=(FloatProgress(value=0.0, max=1.0), HTML(value='')))"
      ]
     },
     "metadata": {},
     "output_type": "display_data"
    },
    {
     "name": "stdout",
     "output_type": "stream",
     "text": [
      "\n"
     ]
    },
    {
     "data": {
      "application/vnd.jupyter.widget-view+json": {
       "model_id": "606bf86132a64f779eab7717f4cada63",
       "version_major": 2,
       "version_minor": 0
      },
      "text/plain": [
       "HBox(children=(FloatProgress(value=0.0, max=1.0), HTML(value='')))"
      ]
     },
     "metadata": {},
     "output_type": "display_data"
    },
    {
     "name": "stdout",
     "output_type": "stream",
     "text": [
      "\n"
     ]
    },
    {
     "data": {
      "application/vnd.jupyter.widget-view+json": {
       "model_id": "356dff15bfc843babbb3c010d19736c5",
       "version_major": 2,
       "version_minor": 0
      },
      "text/plain": [
       "HBox(children=(FloatProgress(value=0.0, max=1.0), HTML(value='')))"
      ]
     },
     "metadata": {},
     "output_type": "display_data"
    },
    {
     "name": "stdout",
     "output_type": "stream",
     "text": [
      "\n"
     ]
    },
    {
     "data": {
      "application/vnd.jupyter.widget-view+json": {
       "model_id": "16bfbdc49ecb4577aaf53948d200c478",
       "version_major": 2,
       "version_minor": 0
      },
      "text/plain": [
       "HBox(children=(FloatProgress(value=0.0, max=1.0), HTML(value='')))"
      ]
     },
     "metadata": {},
     "output_type": "display_data"
    },
    {
     "name": "stdout",
     "output_type": "stream",
     "text": [
      "\n"
     ]
    },
    {
     "data": {
      "application/vnd.jupyter.widget-view+json": {
       "model_id": "5b14cb1f98a34045a2fa8ae5695bc516",
       "version_major": 2,
       "version_minor": 0
      },
      "text/plain": [
       "HBox(children=(FloatProgress(value=1.0, bar_style='info', layout=Layout(width='20px'), max=1.0), HTML(value=''…"
      ]
     },
     "metadata": {},
     "output_type": "display_data"
    },
    {
     "name": "stdout",
     "output_type": "stream",
     "text": [
      "\n"
     ]
    },
    {
     "data": {
      "application/vnd.jupyter.widget-view+json": {
       "model_id": "58d5f39387ac43bf8d42b4b5525a8609",
       "version_major": 2,
       "version_minor": 0
      },
      "text/plain": [
       "HBox(children=(FloatProgress(value=0.0, max=1.0), HTML(value='')))"
      ]
     },
     "metadata": {},
     "output_type": "display_data"
    },
    {
     "name": "stderr",
     "output_type": "stream",
     "text": [
      "travis_attack.trainer: INFO     Launching initial eval run: valid\n",
      "travis_attack.trainer: INFO     Launching initial eval run: valid\n",
      "travis_attack.trainer: INFO     Launching initial eval run: valid\n"
     ]
    },
    {
     "name": "stdout",
     "output_type": "stream",
     "text": [
      "\n"
     ]
    },
    {
     "data": {
      "application/vnd.jupyter.widget-view+json": {
       "model_id": "a8258f7dd77f4006b1df5ff1bfb42885",
       "version_major": 2,
       "version_minor": 0
      },
      "text/plain": [
       "HBox(children=(FloatProgress(value=0.0, max=1.0), HTML(value='')))"
      ]
     },
     "metadata": {},
     "output_type": "display_data"
    },
    {
     "name": "stdout",
     "output_type": "stream",
     "text": [
      "\n"
     ]
    },
    {
     "data": {
      "application/vnd.jupyter.widget-view+json": {
       "model_id": "69c96ccf30714a4eabb492e3b8cc2a09",
       "version_major": 2,
       "version_minor": 0
      },
      "text/plain": [
       "HBox(children=(FloatProgress(value=0.0, max=1.0), HTML(value='')))"
      ]
     },
     "metadata": {},
     "output_type": "display_data"
    },
    {
     "name": "stdout",
     "output_type": "stream",
     "text": [
      "\n"
     ]
    },
    {
     "data": {
      "application/vnd.jupyter.widget-view+json": {
       "model_id": "7ff771effad54db48dc7d3ec9580a818",
       "version_major": 2,
       "version_minor": 0
      },
      "text/plain": [
       "HBox(children=(FloatProgress(value=0.0, max=1.0), HTML(value='')))"
      ]
     },
     "metadata": {},
     "output_type": "display_data"
    },
    {
     "name": "stdout",
     "output_type": "stream",
     "text": [
      "\n"
     ]
    },
    {
     "data": {
      "application/vnd.jupyter.widget-view+json": {
       "model_id": "98958d736c364efb9a9020f38b043116",
       "version_major": 2,
       "version_minor": 0
      },
      "text/plain": [
       "HBox(children=(FloatProgress(value=0.0, max=1.0), HTML(value='')))"
      ]
     },
     "metadata": {},
     "output_type": "display_data"
    },
    {
     "name": "stdout",
     "output_type": "stream",
     "text": [
      "\n"
     ]
    },
    {
     "data": {
      "application/vnd.jupyter.widget-view+json": {
       "model_id": "265f56a79a404883809787c89c440e70",
       "version_major": 2,
       "version_minor": 0
      },
      "text/plain": [
       "HBox(children=(FloatProgress(value=0.0, max=1.0), HTML(value='')))"
      ]
     },
     "metadata": {},
     "output_type": "display_data"
    },
    {
     "name": "stdout",
     "output_type": "stream",
     "text": [
      "\n"
     ]
    },
    {
     "data": {
      "application/vnd.jupyter.widget-view+json": {
       "model_id": "0d8ced67bc854851b78e4b9cf05f623c",
       "version_major": 2,
       "version_minor": 0
      },
      "text/plain": [
       "HBox(children=(FloatProgress(value=1.0, bar_style='info', layout=Layout(width='20px'), max=1.0), HTML(value=''…"
      ]
     },
     "metadata": {},
     "output_type": "display_data"
    },
    {
     "name": "stdout",
     "output_type": "stream",
     "text": [
      "\n"
     ]
    },
    {
     "data": {
      "application/vnd.jupyter.widget-view+json": {
       "model_id": "c048f9eed09049119750f5cbd3f3e890",
       "version_major": 2,
       "version_minor": 0
      },
      "text/plain": [
       "HBox(children=(FloatProgress(value=0.0, max=1.0), HTML(value='')))"
      ]
     },
     "metadata": {},
     "output_type": "display_data"
    },
    {
     "name": "stderr",
     "output_type": "stream",
     "text": [
      "travis_attack.trainer: INFO     Epoch: 0. Min epochs before early stopping activated: 10\n",
      "travis_attack.trainer: INFO     Epoch: 0. Min epochs before early stopping activated: 10\n",
      "travis_attack.trainer: INFO     Epoch: 0. Min epochs before early stopping activated: 10\n",
      "travis_attack.trainer: INFO     Eval metric: 0.000 | Running median: 0.000\n",
      "travis_attack.trainer: INFO     Eval metric: 0.000 | Running median: 0.000\n",
      "travis_attack.trainer: INFO     Eval metric: 0.000 | Running median: 0.000\n"
     ]
    },
    {
     "name": "stdout",
     "output_type": "stream",
     "text": [
      "\n"
     ]
    },
    {
     "name": "stderr",
     "output_type": "stream",
     "text": [
      "travis_attack.trainer: INFO     Launching initial eval run: test\n",
      "travis_attack.trainer: INFO     Launching initial eval run: test\n",
      "travis_attack.trainer: INFO     Launching initial eval run: test\n"
     ]
    },
    {
     "data": {
      "application/vnd.jupyter.widget-view+json": {
       "model_id": "dbfa9a4454fb4c1c8dc390bd8f4b7c78",
       "version_major": 2,
       "version_minor": 0
      },
      "text/plain": [
       "HBox(children=(FloatProgress(value=0.0, max=1.0), HTML(value='')))"
      ]
     },
     "metadata": {},
     "output_type": "display_data"
    },
    {
     "name": "stdout",
     "output_type": "stream",
     "text": [
      "\n"
     ]
    },
    {
     "data": {
      "application/vnd.jupyter.widget-view+json": {
       "model_id": "0d684d17f3134d6baaa7bfb8d4fbfc52",
       "version_major": 2,
       "version_minor": 0
      },
      "text/plain": [
       "HBox(children=(FloatProgress(value=0.0, max=1.0), HTML(value='')))"
      ]
     },
     "metadata": {},
     "output_type": "display_data"
    },
    {
     "name": "stdout",
     "output_type": "stream",
     "text": [
      "\n"
     ]
    },
    {
     "data": {
      "application/vnd.jupyter.widget-view+json": {
       "model_id": "bb9d0bf1275145229222b2cd0377c238",
       "version_major": 2,
       "version_minor": 0
      },
      "text/plain": [
       "HBox(children=(FloatProgress(value=0.0, max=1.0), HTML(value='')))"
      ]
     },
     "metadata": {},
     "output_type": "display_data"
    },
    {
     "name": "stdout",
     "output_type": "stream",
     "text": [
      "\n"
     ]
    },
    {
     "data": {
      "application/vnd.jupyter.widget-view+json": {
       "model_id": "62ce3f4e5dbd46ffb456fb2d3518c9fe",
       "version_major": 2,
       "version_minor": 0
      },
      "text/plain": [
       "HBox(children=(FloatProgress(value=0.0, max=1.0), HTML(value='')))"
      ]
     },
     "metadata": {},
     "output_type": "display_data"
    },
    {
     "name": "stdout",
     "output_type": "stream",
     "text": [
      "\n"
     ]
    },
    {
     "data": {
      "application/vnd.jupyter.widget-view+json": {
       "model_id": "452ffd033c1446d3b4bd06e54d79d52e",
       "version_major": 2,
       "version_minor": 0
      },
      "text/plain": [
       "HBox(children=(FloatProgress(value=0.0, max=1.0), HTML(value='')))"
      ]
     },
     "metadata": {},
     "output_type": "display_data"
    },
    {
     "name": "stdout",
     "output_type": "stream",
     "text": [
      "\n"
     ]
    },
    {
     "data": {
      "application/vnd.jupyter.widget-view+json": {
       "model_id": "a23ced43e4984a07936c6130832d13b7",
       "version_major": 2,
       "version_minor": 0
      },
      "text/plain": [
       "HBox(children=(FloatProgress(value=1.0, bar_style='info', layout=Layout(width='20px'), max=1.0), HTML(value=''…"
      ]
     },
     "metadata": {},
     "output_type": "display_data"
    },
    {
     "name": "stdout",
     "output_type": "stream",
     "text": [
      "\n"
     ]
    },
    {
     "data": {
      "application/vnd.jupyter.widget-view+json": {
       "model_id": "e14fd1096439413eadc31e06d8cd0548",
       "version_major": 2,
       "version_minor": 0
      },
      "text/plain": [
       "HBox(children=(FloatProgress(value=0.0, max=1.0), HTML(value='')))"
      ]
     },
     "metadata": {},
     "output_type": "display_data"
    },
    {
     "name": "stderr",
     "output_type": "stream",
     "text": [
      "travis_attack.trainer: INFO     Now on epoch 1 of 6\n",
      "travis_attack.trainer: INFO     Now on epoch 1 of 6\n",
      "travis_attack.trainer: INFO     Now on epoch 1 of 6\n"
     ]
    },
    {
     "name": "stdout",
     "output_type": "stream",
     "text": [
      "\n",
      "\n",
      "\n"
     ]
    },
    {
     "data": {
      "application/vnd.jupyter.widget-view+json": {
       "model_id": "68db6b14f51845c987aa696161507b4a",
       "version_major": 2,
       "version_minor": 0
      },
      "text/plain": [
       "HBox(children=(FloatProgress(value=0.0, max=1.0), HTML(value='')))"
      ]
     },
     "metadata": {},
     "output_type": "display_data"
    },
    {
     "name": "stdout",
     "output_type": "stream",
     "text": [
      "\n"
     ]
    },
    {
     "data": {
      "application/vnd.jupyter.widget-view+json": {
       "model_id": "f48d3ff2bec742dfbcd5fe44f0c9de1f",
       "version_major": 2,
       "version_minor": 0
      },
      "text/plain": [
       "HBox(children=(FloatProgress(value=0.0, max=1.0), HTML(value='')))"
      ]
     },
     "metadata": {},
     "output_type": "display_data"
    },
    {
     "name": "stdout",
     "output_type": "stream",
     "text": [
      "\n"
     ]
    },
    {
     "data": {
      "application/vnd.jupyter.widget-view+json": {
       "model_id": "387e76f65224423f8066b8afcf55cf7a",
       "version_major": 2,
       "version_minor": 0
      },
      "text/plain": [
       "HBox(children=(FloatProgress(value=0.0, max=1.0), HTML(value='')))"
      ]
     },
     "metadata": {},
     "output_type": "display_data"
    },
    {
     "name": "stdout",
     "output_type": "stream",
     "text": [
      "\n"
     ]
    },
    {
     "data": {
      "application/vnd.jupyter.widget-view+json": {
       "model_id": "5d61c2416be44d8c8eb6f6526d5b80ee",
       "version_major": 2,
       "version_minor": 0
      },
      "text/plain": [
       "HBox(children=(FloatProgress(value=0.0, max=1.0), HTML(value='')))"
      ]
     },
     "metadata": {},
     "output_type": "display_data"
    },
    {
     "name": "stdout",
     "output_type": "stream",
     "text": [
      "\n"
     ]
    },
    {
     "data": {
      "application/vnd.jupyter.widget-view+json": {
       "model_id": "22aed79ec7c94e608274c7c7ad31dcbc",
       "version_major": 2,
       "version_minor": 0
      },
      "text/plain": [
       "HBox(children=(FloatProgress(value=0.0, max=1.0), HTML(value='')))"
      ]
     },
     "metadata": {},
     "output_type": "display_data"
    },
    {
     "name": "stdout",
     "output_type": "stream",
     "text": [
      "\n"
     ]
    },
    {
     "data": {
      "application/vnd.jupyter.widget-view+json": {
       "model_id": "20ff1099edf24da3a702b2923fa5b105",
       "version_major": 2,
       "version_minor": 0
      },
      "text/plain": [
       "HBox(children=(FloatProgress(value=1.0, bar_style='info', layout=Layout(width='20px'), max=1.0), HTML(value=''…"
      ]
     },
     "metadata": {},
     "output_type": "display_data"
    },
    {
     "name": "stdout",
     "output_type": "stream",
     "text": [
      "\n"
     ]
    },
    {
     "data": {
      "application/vnd.jupyter.widget-view+json": {
       "model_id": "6248ccedc8b2467a979be260e465ce9e",
       "version_major": 2,
       "version_minor": 0
      },
      "text/plain": [
       "HBox(children=(FloatProgress(value=0.0, max=1.0), HTML(value='')))"
      ]
     },
     "metadata": {},
     "output_type": "display_data"
    },
    {
     "name": "stdout",
     "output_type": "stream",
     "text": [
      "\n"
     ]
    },
    {
     "data": {
      "application/vnd.jupyter.widget-view+json": {
       "model_id": "d3f5b809705c4942a9a4ab5ab4e30c8e",
       "version_major": 2,
       "version_minor": 0
      },
      "text/plain": [
       "HBox(children=(FloatProgress(value=0.0, max=1.0), HTML(value='')))"
      ]
     },
     "metadata": {},
     "output_type": "display_data"
    },
    {
     "name": "stdout",
     "output_type": "stream",
     "text": [
      "\n"
     ]
    },
    {
     "data": {
      "application/vnd.jupyter.widget-view+json": {
       "model_id": "fff6e691075442d6a902d2419ab445a1",
       "version_major": 2,
       "version_minor": 0
      },
      "text/plain": [
       "HBox(children=(FloatProgress(value=0.0, max=1.0), HTML(value='')))"
      ]
     },
     "metadata": {},
     "output_type": "display_data"
    },
    {
     "name": "stdout",
     "output_type": "stream",
     "text": [
      "\n"
     ]
    },
    {
     "data": {
      "application/vnd.jupyter.widget-view+json": {
       "model_id": "766c5ef1c49f4f69aa8512bc53f28b1d",
       "version_major": 2,
       "version_minor": 0
      },
      "text/plain": [
       "HBox(children=(FloatProgress(value=0.0, max=1.0), HTML(value='')))"
      ]
     },
     "metadata": {},
     "output_type": "display_data"
    },
    {
     "name": "stdout",
     "output_type": "stream",
     "text": [
      "\n"
     ]
    },
    {
     "data": {
      "application/vnd.jupyter.widget-view+json": {
       "model_id": "132ebcaec07944bfa5663d255c1ecb4f",
       "version_major": 2,
       "version_minor": 0
      },
      "text/plain": [
       "HBox(children=(FloatProgress(value=0.0, max=1.0), HTML(value='')))"
      ]
     },
     "metadata": {},
     "output_type": "display_data"
    },
    {
     "name": "stdout",
     "output_type": "stream",
     "text": [
      "\n"
     ]
    },
    {
     "data": {
      "application/vnd.jupyter.widget-view+json": {
       "model_id": "4760f4db0d764ed78f4a33eabf633c23",
       "version_major": 2,
       "version_minor": 0
      },
      "text/plain": [
       "HBox(children=(FloatProgress(value=0.0, max=1.0), HTML(value='')))"
      ]
     },
     "metadata": {},
     "output_type": "display_data"
    },
    {
     "name": "stdout",
     "output_type": "stream",
     "text": [
      "\n"
     ]
    },
    {
     "data": {
      "application/vnd.jupyter.widget-view+json": {
       "model_id": "fdaceb33fa464bb3849fae16a9fd9494",
       "version_major": 2,
       "version_minor": 0
      },
      "text/plain": [
       "HBox(children=(FloatProgress(value=1.0, bar_style='info', layout=Layout(width='20px'), max=1.0), HTML(value=''…"
      ]
     },
     "metadata": {},
     "output_type": "display_data"
    },
    {
     "name": "stdout",
     "output_type": "stream",
     "text": [
      "\n"
     ]
    },
    {
     "data": {
      "application/vnd.jupyter.widget-view+json": {
       "model_id": "5123ce6a8d954a6f81a81268f763b66e",
       "version_major": 2,
       "version_minor": 0
      },
      "text/plain": [
       "HBox(children=(FloatProgress(value=0.0, max=1.0), HTML(value='')))"
      ]
     },
     "metadata": {},
     "output_type": "display_data"
    },
    {
     "name": "stderr",
     "output_type": "stream",
     "text": [
      "travis_attack.trainer: INFO     Epoch: 1. Min epochs before early stopping activated: 10\n",
      "travis_attack.trainer: INFO     Epoch: 1. Min epochs before early stopping activated: 10\n",
      "travis_attack.trainer: INFO     Epoch: 1. Min epochs before early stopping activated: 10\n",
      "travis_attack.trainer: INFO     Eval metric: 0.000 | Running median: 0.000\n",
      "travis_attack.trainer: INFO     Eval metric: 0.000 | Running median: 0.000\n",
      "travis_attack.trainer: INFO     Eval metric: 0.000 | Running median: 0.000\n"
     ]
    },
    {
     "name": "stdout",
     "output_type": "stream",
     "text": [
      "\n"
     ]
    },
    {
     "name": "stderr",
     "output_type": "stream",
     "text": [
      "travis_attack.trainer: INFO     Now on epoch 2 of 6\n",
      "travis_attack.trainer: INFO     Now on epoch 2 of 6\n",
      "travis_attack.trainer: INFO     Now on epoch 2 of 6\n"
     ]
    },
    {
     "name": "stdout",
     "output_type": "stream",
     "text": [
      "False False False False\n"
     ]
    },
    {
     "data": {
      "application/vnd.jupyter.widget-view+json": {
       "model_id": "0947c2f4e52a496cb6d404e41b9964dd",
       "version_major": 2,
       "version_minor": 0
      },
      "text/plain": [
       "HBox(children=(FloatProgress(value=0.0, max=1.0), HTML(value='')))"
      ]
     },
     "metadata": {},
     "output_type": "display_data"
    },
    {
     "name": "stdout",
     "output_type": "stream",
     "text": [
      "\n"
     ]
    },
    {
     "data": {
      "application/vnd.jupyter.widget-view+json": {
       "model_id": "289156b441d84425ae02a5cc1058961e",
       "version_major": 2,
       "version_minor": 0
      },
      "text/plain": [
       "HBox(children=(FloatProgress(value=0.0, max=1.0), HTML(value='')))"
      ]
     },
     "metadata": {},
     "output_type": "display_data"
    },
    {
     "name": "stdout",
     "output_type": "stream",
     "text": [
      "\n"
     ]
    },
    {
     "data": {
      "application/vnd.jupyter.widget-view+json": {
       "model_id": "c86f726e9d9a419ea5f8d98aa9b2c1c2",
       "version_major": 2,
       "version_minor": 0
      },
      "text/plain": [
       "HBox(children=(FloatProgress(value=0.0, max=1.0), HTML(value='')))"
      ]
     },
     "metadata": {},
     "output_type": "display_data"
    },
    {
     "name": "stdout",
     "output_type": "stream",
     "text": [
      "\n"
     ]
    },
    {
     "data": {
      "application/vnd.jupyter.widget-view+json": {
       "model_id": "b9ba62a10bfb441585d1e0a5f2afaf54",
       "version_major": 2,
       "version_minor": 0
      },
      "text/plain": [
       "HBox(children=(FloatProgress(value=0.0, max=1.0), HTML(value='')))"
      ]
     },
     "metadata": {},
     "output_type": "display_data"
    },
    {
     "name": "stdout",
     "output_type": "stream",
     "text": [
      "\n"
     ]
    },
    {
     "data": {
      "application/vnd.jupyter.widget-view+json": {
       "model_id": "f332e63a8fc94acf9eaf0c2a2aaf07e9",
       "version_major": 2,
       "version_minor": 0
      },
      "text/plain": [
       "HBox(children=(FloatProgress(value=0.0, max=1.0), HTML(value='')))"
      ]
     },
     "metadata": {},
     "output_type": "display_data"
    },
    {
     "name": "stdout",
     "output_type": "stream",
     "text": [
      "\n"
     ]
    },
    {
     "data": {
      "application/vnd.jupyter.widget-view+json": {
       "model_id": "6703ae1f54434e358b88bde9de11dfac",
       "version_major": 2,
       "version_minor": 0
      },
      "text/plain": [
       "HBox(children=(FloatProgress(value=1.0, bar_style='info', layout=Layout(width='20px'), max=1.0), HTML(value=''…"
      ]
     },
     "metadata": {},
     "output_type": "display_data"
    },
    {
     "name": "stdout",
     "output_type": "stream",
     "text": [
      "\n"
     ]
    },
    {
     "data": {
      "application/vnd.jupyter.widget-view+json": {
       "model_id": "951aa6d156074f38942c75dde500542f",
       "version_major": 2,
       "version_minor": 0
      },
      "text/plain": [
       "HBox(children=(FloatProgress(value=0.0, max=1.0), HTML(value='')))"
      ]
     },
     "metadata": {},
     "output_type": "display_data"
    },
    {
     "name": "stdout",
     "output_type": "stream",
     "text": [
      "\n"
     ]
    },
    {
     "data": {
      "application/vnd.jupyter.widget-view+json": {
       "model_id": "bab88ebd4f034105897262d9b64f5b2e",
       "version_major": 2,
       "version_minor": 0
      },
      "text/plain": [
       "HBox(children=(FloatProgress(value=0.0, max=1.0), HTML(value='')))"
      ]
     },
     "metadata": {},
     "output_type": "display_data"
    },
    {
     "name": "stdout",
     "output_type": "stream",
     "text": [
      "\n"
     ]
    },
    {
     "data": {
      "application/vnd.jupyter.widget-view+json": {
       "model_id": "1f412c937cd340dfb3b7b9b1e69e58c7",
       "version_major": 2,
       "version_minor": 0
      },
      "text/plain": [
       "HBox(children=(FloatProgress(value=0.0, max=1.0), HTML(value='')))"
      ]
     },
     "metadata": {},
     "output_type": "display_data"
    },
    {
     "name": "stdout",
     "output_type": "stream",
     "text": [
      "\n"
     ]
    },
    {
     "data": {
      "application/vnd.jupyter.widget-view+json": {
       "model_id": "84174684faa1444db0142eca8725c7bf",
       "version_major": 2,
       "version_minor": 0
      },
      "text/plain": [
       "HBox(children=(FloatProgress(value=0.0, max=1.0), HTML(value='')))"
      ]
     },
     "metadata": {},
     "output_type": "display_data"
    },
    {
     "name": "stdout",
     "output_type": "stream",
     "text": [
      "\n"
     ]
    },
    {
     "data": {
      "application/vnd.jupyter.widget-view+json": {
       "model_id": "6e32319f79164d6d883ce4384fba1cb3",
       "version_major": 2,
       "version_minor": 0
      },
      "text/plain": [
       "HBox(children=(FloatProgress(value=0.0, max=1.0), HTML(value='')))"
      ]
     },
     "metadata": {},
     "output_type": "display_data"
    },
    {
     "name": "stdout",
     "output_type": "stream",
     "text": [
      "\n"
     ]
    },
    {
     "data": {
      "application/vnd.jupyter.widget-view+json": {
       "model_id": "54c9c8d722894b8cb7ed3a0625300c61",
       "version_major": 2,
       "version_minor": 0
      },
      "text/plain": [
       "HBox(children=(FloatProgress(value=0.0, max=1.0), HTML(value='')))"
      ]
     },
     "metadata": {},
     "output_type": "display_data"
    },
    {
     "name": "stdout",
     "output_type": "stream",
     "text": [
      "\n"
     ]
    },
    {
     "data": {
      "application/vnd.jupyter.widget-view+json": {
       "model_id": "b9ad33506cdc4be9b43d330fccc28551",
       "version_major": 2,
       "version_minor": 0
      },
      "text/plain": [
       "HBox(children=(FloatProgress(value=1.0, bar_style='info', layout=Layout(width='20px'), max=1.0), HTML(value=''…"
      ]
     },
     "metadata": {},
     "output_type": "display_data"
    },
    {
     "name": "stdout",
     "output_type": "stream",
     "text": [
      "\n"
     ]
    },
    {
     "data": {
      "application/vnd.jupyter.widget-view+json": {
       "model_id": "860ad350bac9464f925f50f41c3d2ffb",
       "version_major": 2,
       "version_minor": 0
      },
      "text/plain": [
       "HBox(children=(FloatProgress(value=0.0, max=1.0), HTML(value='')))"
      ]
     },
     "metadata": {},
     "output_type": "display_data"
    },
    {
     "name": "stderr",
     "output_type": "stream",
     "text": [
      "travis_attack.trainer: INFO     Epoch: 2. Min epochs before early stopping activated: 10\n",
      "travis_attack.trainer: INFO     Epoch: 2. Min epochs before early stopping activated: 10\n",
      "travis_attack.trainer: INFO     Epoch: 2. Min epochs before early stopping activated: 10\n",
      "travis_attack.trainer: INFO     Eval metric: 0.000 | Running median: 0.000\n",
      "travis_attack.trainer: INFO     Eval metric: 0.000 | Running median: 0.000\n",
      "travis_attack.trainer: INFO     Eval metric: 0.000 | Running median: 0.000\n"
     ]
    },
    {
     "name": "stdout",
     "output_type": "stream",
     "text": [
      "\n"
     ]
    },
    {
     "name": "stderr",
     "output_type": "stream",
     "text": [
      "travis_attack.trainer: INFO     Now on epoch 3 of 6\n",
      "travis_attack.trainer: INFO     Now on epoch 3 of 6\n",
      "travis_attack.trainer: INFO     Now on epoch 3 of 6\n"
     ]
    },
    {
     "name": "stdout",
     "output_type": "stream",
     "text": [
      "False False False False\n"
     ]
    },
    {
     "data": {
      "application/vnd.jupyter.widget-view+json": {
       "model_id": "6a6478a4f14f4f59a9c262f110ef6329",
       "version_major": 2,
       "version_minor": 0
      },
      "text/plain": [
       "HBox(children=(FloatProgress(value=0.0, max=1.0), HTML(value='')))"
      ]
     },
     "metadata": {},
     "output_type": "display_data"
    },
    {
     "name": "stdout",
     "output_type": "stream",
     "text": [
      "\n"
     ]
    },
    {
     "data": {
      "application/vnd.jupyter.widget-view+json": {
       "model_id": "90b64abea7fa41d79a5811b54c6bef84",
       "version_major": 2,
       "version_minor": 0
      },
      "text/plain": [
       "HBox(children=(FloatProgress(value=0.0, max=1.0), HTML(value='')))"
      ]
     },
     "metadata": {},
     "output_type": "display_data"
    },
    {
     "name": "stdout",
     "output_type": "stream",
     "text": [
      "\n"
     ]
    },
    {
     "data": {
      "application/vnd.jupyter.widget-view+json": {
       "model_id": "d58f6d21ef8847e191083b2f5f486db9",
       "version_major": 2,
       "version_minor": 0
      },
      "text/plain": [
       "HBox(children=(FloatProgress(value=0.0, max=1.0), HTML(value='')))"
      ]
     },
     "metadata": {},
     "output_type": "display_data"
    },
    {
     "name": "stdout",
     "output_type": "stream",
     "text": [
      "\n"
     ]
    },
    {
     "data": {
      "application/vnd.jupyter.widget-view+json": {
       "model_id": "24d6534d7a8d49f4bf3ead78858150b7",
       "version_major": 2,
       "version_minor": 0
      },
      "text/plain": [
       "HBox(children=(FloatProgress(value=0.0, max=1.0), HTML(value='')))"
      ]
     },
     "metadata": {},
     "output_type": "display_data"
    },
    {
     "name": "stdout",
     "output_type": "stream",
     "text": [
      "\n"
     ]
    },
    {
     "data": {
      "application/vnd.jupyter.widget-view+json": {
       "model_id": "4991f842513a482896f712abbb8422e7",
       "version_major": 2,
       "version_minor": 0
      },
      "text/plain": [
       "HBox(children=(FloatProgress(value=0.0, max=1.0), HTML(value='')))"
      ]
     },
     "metadata": {},
     "output_type": "display_data"
    },
    {
     "name": "stdout",
     "output_type": "stream",
     "text": [
      "\n"
     ]
    },
    {
     "data": {
      "application/vnd.jupyter.widget-view+json": {
       "model_id": "7f7806b47f52423bb2a26afa43a24d24",
       "version_major": 2,
       "version_minor": 0
      },
      "text/plain": [
       "HBox(children=(FloatProgress(value=1.0, bar_style='info', layout=Layout(width='20px'), max=1.0), HTML(value=''…"
      ]
     },
     "metadata": {},
     "output_type": "display_data"
    },
    {
     "name": "stdout",
     "output_type": "stream",
     "text": [
      "\n"
     ]
    },
    {
     "data": {
      "application/vnd.jupyter.widget-view+json": {
       "model_id": "cddf8cd7623c442fa52baf6b0453bc2b",
       "version_major": 2,
       "version_minor": 0
      },
      "text/plain": [
       "HBox(children=(FloatProgress(value=0.0, max=1.0), HTML(value='')))"
      ]
     },
     "metadata": {},
     "output_type": "display_data"
    },
    {
     "name": "stdout",
     "output_type": "stream",
     "text": [
      "\n"
     ]
    },
    {
     "data": {
      "application/vnd.jupyter.widget-view+json": {
       "model_id": "682b59e24c41421e8f3aac48305f71d8",
       "version_major": 2,
       "version_minor": 0
      },
      "text/plain": [
       "HBox(children=(FloatProgress(value=0.0, max=1.0), HTML(value='')))"
      ]
     },
     "metadata": {},
     "output_type": "display_data"
    },
    {
     "name": "stdout",
     "output_type": "stream",
     "text": [
      "\n"
     ]
    },
    {
     "data": {
      "application/vnd.jupyter.widget-view+json": {
       "model_id": "f084e1e86a134f168d36c47d2996a4cc",
       "version_major": 2,
       "version_minor": 0
      },
      "text/plain": [
       "HBox(children=(FloatProgress(value=0.0, max=1.0), HTML(value='')))"
      ]
     },
     "metadata": {},
     "output_type": "display_data"
    },
    {
     "name": "stdout",
     "output_type": "stream",
     "text": [
      "\n"
     ]
    },
    {
     "data": {
      "application/vnd.jupyter.widget-view+json": {
       "model_id": "947f1621a6fc4c4ca4555e1a7c4c2ac3",
       "version_major": 2,
       "version_minor": 0
      },
      "text/plain": [
       "HBox(children=(FloatProgress(value=0.0, max=1.0), HTML(value='')))"
      ]
     },
     "metadata": {},
     "output_type": "display_data"
    },
    {
     "name": "stdout",
     "output_type": "stream",
     "text": [
      "\n"
     ]
    },
    {
     "data": {
      "application/vnd.jupyter.widget-view+json": {
       "model_id": "7ea4dfe7a3184aebaeae25dac69a0452",
       "version_major": 2,
       "version_minor": 0
      },
      "text/plain": [
       "HBox(children=(FloatProgress(value=0.0, max=1.0), HTML(value='')))"
      ]
     },
     "metadata": {},
     "output_type": "display_data"
    },
    {
     "name": "stdout",
     "output_type": "stream",
     "text": [
      "\n"
     ]
    },
    {
     "data": {
      "application/vnd.jupyter.widget-view+json": {
       "model_id": "f8921bef496c4a009f8feb4b39c4b7a0",
       "version_major": 2,
       "version_minor": 0
      },
      "text/plain": [
       "HBox(children=(FloatProgress(value=0.0, max=1.0), HTML(value='')))"
      ]
     },
     "metadata": {},
     "output_type": "display_data"
    },
    {
     "name": "stdout",
     "output_type": "stream",
     "text": [
      "\n"
     ]
    },
    {
     "data": {
      "application/vnd.jupyter.widget-view+json": {
       "model_id": "3c3df3a54dc74520b9f38d62efcc2d3a",
       "version_major": 2,
       "version_minor": 0
      },
      "text/plain": [
       "HBox(children=(FloatProgress(value=1.0, bar_style='info', layout=Layout(width='20px'), max=1.0), HTML(value=''…"
      ]
     },
     "metadata": {},
     "output_type": "display_data"
    },
    {
     "name": "stdout",
     "output_type": "stream",
     "text": [
      "\n"
     ]
    },
    {
     "data": {
      "application/vnd.jupyter.widget-view+json": {
       "model_id": "f7f4565ad6c44b57a65c2cb823f1abab",
       "version_major": 2,
       "version_minor": 0
      },
      "text/plain": [
       "HBox(children=(FloatProgress(value=0.0, max=1.0), HTML(value='')))"
      ]
     },
     "metadata": {},
     "output_type": "display_data"
    },
    {
     "name": "stderr",
     "output_type": "stream",
     "text": [
      "travis_attack.trainer: INFO     Epoch: 3. Min epochs before early stopping activated: 10\n",
      "travis_attack.trainer: INFO     Epoch: 3. Min epochs before early stopping activated: 10\n",
      "travis_attack.trainer: INFO     Epoch: 3. Min epochs before early stopping activated: 10\n",
      "travis_attack.trainer: INFO     Eval metric: 0.250 | Running median: 0.000\n",
      "travis_attack.trainer: INFO     Eval metric: 0.250 | Running median: 0.000\n",
      "travis_attack.trainer: INFO     Eval metric: 0.250 | Running median: 0.000\n"
     ]
    },
    {
     "name": "stdout",
     "output_type": "stream",
     "text": [
      "\n"
     ]
    },
    {
     "name": "stderr",
     "output_type": "stream",
     "text": [
      "travis_attack.trainer: INFO     Now on epoch 4 of 6\n",
      "travis_attack.trainer: INFO     Now on epoch 4 of 6\n",
      "travis_attack.trainer: INFO     Now on epoch 4 of 6\n"
     ]
    },
    {
     "name": "stdout",
     "output_type": "stream",
     "text": [
      "False False False False\n"
     ]
    },
    {
     "data": {
      "application/vnd.jupyter.widget-view+json": {
       "model_id": "f8a15e7f809e42fe8e2764e22ad1f444",
       "version_major": 2,
       "version_minor": 0
      },
      "text/plain": [
       "HBox(children=(FloatProgress(value=0.0, max=1.0), HTML(value='')))"
      ]
     },
     "metadata": {},
     "output_type": "display_data"
    },
    {
     "name": "stdout",
     "output_type": "stream",
     "text": [
      "\n"
     ]
    },
    {
     "data": {
      "application/vnd.jupyter.widget-view+json": {
       "model_id": "6ce662e1585a4f808d6511eb99a6a050",
       "version_major": 2,
       "version_minor": 0
      },
      "text/plain": [
       "HBox(children=(FloatProgress(value=0.0, max=1.0), HTML(value='')))"
      ]
     },
     "metadata": {},
     "output_type": "display_data"
    },
    {
     "name": "stdout",
     "output_type": "stream",
     "text": [
      "\n"
     ]
    },
    {
     "data": {
      "application/vnd.jupyter.widget-view+json": {
       "model_id": "c1841c5fdb3e4459ab73bfb7184c07f7",
       "version_major": 2,
       "version_minor": 0
      },
      "text/plain": [
       "HBox(children=(FloatProgress(value=0.0, max=1.0), HTML(value='')))"
      ]
     },
     "metadata": {},
     "output_type": "display_data"
    },
    {
     "name": "stdout",
     "output_type": "stream",
     "text": [
      "\n"
     ]
    },
    {
     "data": {
      "application/vnd.jupyter.widget-view+json": {
       "model_id": "31da025bc40f433bac9a7612c4b1643a",
       "version_major": 2,
       "version_minor": 0
      },
      "text/plain": [
       "HBox(children=(FloatProgress(value=0.0, max=1.0), HTML(value='')))"
      ]
     },
     "metadata": {},
     "output_type": "display_data"
    },
    {
     "name": "stdout",
     "output_type": "stream",
     "text": [
      "\n"
     ]
    },
    {
     "data": {
      "application/vnd.jupyter.widget-view+json": {
       "model_id": "b468506710654ddda95e9fe04b476444",
       "version_major": 2,
       "version_minor": 0
      },
      "text/plain": [
       "HBox(children=(FloatProgress(value=0.0, max=1.0), HTML(value='')))"
      ]
     },
     "metadata": {},
     "output_type": "display_data"
    },
    {
     "name": "stdout",
     "output_type": "stream",
     "text": [
      "\n"
     ]
    },
    {
     "data": {
      "application/vnd.jupyter.widget-view+json": {
       "model_id": "1243919638e943d480792d179e91c486",
       "version_major": 2,
       "version_minor": 0
      },
      "text/plain": [
       "HBox(children=(FloatProgress(value=1.0, bar_style='info', layout=Layout(width='20px'), max=1.0), HTML(value=''…"
      ]
     },
     "metadata": {},
     "output_type": "display_data"
    },
    {
     "name": "stdout",
     "output_type": "stream",
     "text": [
      "\n"
     ]
    },
    {
     "data": {
      "application/vnd.jupyter.widget-view+json": {
       "model_id": "9268eccfed504c569258116e1f6b32d5",
       "version_major": 2,
       "version_minor": 0
      },
      "text/plain": [
       "HBox(children=(FloatProgress(value=0.0, max=1.0), HTML(value='')))"
      ]
     },
     "metadata": {},
     "output_type": "display_data"
    },
    {
     "name": "stdout",
     "output_type": "stream",
     "text": [
      "\n"
     ]
    },
    {
     "data": {
      "application/vnd.jupyter.widget-view+json": {
       "model_id": "5fd5cb3e07fd4d10ab18a06f4d33e97f",
       "version_major": 2,
       "version_minor": 0
      },
      "text/plain": [
       "HBox(children=(FloatProgress(value=0.0, max=1.0), HTML(value='')))"
      ]
     },
     "metadata": {},
     "output_type": "display_data"
    },
    {
     "name": "stdout",
     "output_type": "stream",
     "text": [
      "\n"
     ]
    },
    {
     "data": {
      "application/vnd.jupyter.widget-view+json": {
       "model_id": "bedda089513f48ffbddc76dfa5b81c20",
       "version_major": 2,
       "version_minor": 0
      },
      "text/plain": [
       "HBox(children=(FloatProgress(value=0.0, max=1.0), HTML(value='')))"
      ]
     },
     "metadata": {},
     "output_type": "display_data"
    },
    {
     "name": "stdout",
     "output_type": "stream",
     "text": [
      "\n"
     ]
    },
    {
     "data": {
      "application/vnd.jupyter.widget-view+json": {
       "model_id": "61d1aeb4e64e4185987206ea9d1df919",
       "version_major": 2,
       "version_minor": 0
      },
      "text/plain": [
       "HBox(children=(FloatProgress(value=0.0, max=1.0), HTML(value='')))"
      ]
     },
     "metadata": {},
     "output_type": "display_data"
    },
    {
     "name": "stdout",
     "output_type": "stream",
     "text": [
      "\n"
     ]
    },
    {
     "data": {
      "application/vnd.jupyter.widget-view+json": {
       "model_id": "49e69629041a4a6490af7c4e732a0abd",
       "version_major": 2,
       "version_minor": 0
      },
      "text/plain": [
       "HBox(children=(FloatProgress(value=0.0, max=1.0), HTML(value='')))"
      ]
     },
     "metadata": {},
     "output_type": "display_data"
    },
    {
     "name": "stdout",
     "output_type": "stream",
     "text": [
      "\n"
     ]
    },
    {
     "data": {
      "application/vnd.jupyter.widget-view+json": {
       "model_id": "a0bc77596d7442499e70e8d7666ca073",
       "version_major": 2,
       "version_minor": 0
      },
      "text/plain": [
       "HBox(children=(FloatProgress(value=0.0, max=1.0), HTML(value='')))"
      ]
     },
     "metadata": {},
     "output_type": "display_data"
    },
    {
     "name": "stdout",
     "output_type": "stream",
     "text": [
      "\n"
     ]
    },
    {
     "data": {
      "application/vnd.jupyter.widget-view+json": {
       "model_id": "028a963695dc4708b8ab7bbb59070236",
       "version_major": 2,
       "version_minor": 0
      },
      "text/plain": [
       "HBox(children=(FloatProgress(value=1.0, bar_style='info', layout=Layout(width='20px'), max=1.0), HTML(value=''…"
      ]
     },
     "metadata": {},
     "output_type": "display_data"
    },
    {
     "name": "stdout",
     "output_type": "stream",
     "text": [
      "\n"
     ]
    },
    {
     "data": {
      "application/vnd.jupyter.widget-view+json": {
       "model_id": "ce2348dad1ff4ca8a9d1be884735edb6",
       "version_major": 2,
       "version_minor": 0
      },
      "text/plain": [
       "HBox(children=(FloatProgress(value=0.0, max=1.0), HTML(value='')))"
      ]
     },
     "metadata": {},
     "output_type": "display_data"
    },
    {
     "name": "stderr",
     "output_type": "stream",
     "text": [
      "travis_attack.trainer: INFO     Epoch: 4. Min epochs before early stopping activated: 10\n",
      "travis_attack.trainer: INFO     Epoch: 4. Min epochs before early stopping activated: 10\n",
      "travis_attack.trainer: INFO     Epoch: 4. Min epochs before early stopping activated: 10\n",
      "travis_attack.trainer: INFO     Eval metric: 0.250 | Running median: 0.000\n",
      "travis_attack.trainer: INFO     Eval metric: 0.250 | Running median: 0.000\n",
      "travis_attack.trainer: INFO     Eval metric: 0.250 | Running median: 0.000\n"
     ]
    },
    {
     "name": "stdout",
     "output_type": "stream",
     "text": [
      "\n"
     ]
    },
    {
     "name": "stderr",
     "output_type": "stream",
     "text": [
      "travis_attack.trainer: INFO     Now on epoch 5 of 6\n",
      "travis_attack.trainer: INFO     Now on epoch 5 of 6\n",
      "travis_attack.trainer: INFO     Now on epoch 5 of 6\n"
     ]
    },
    {
     "name": "stdout",
     "output_type": "stream",
     "text": [
      "False False False False\n"
     ]
    },
    {
     "data": {
      "application/vnd.jupyter.widget-view+json": {
       "model_id": "90ae61ae1ade43de8ed04a29738a5328",
       "version_major": 2,
       "version_minor": 0
      },
      "text/plain": [
       "HBox(children=(FloatProgress(value=0.0, max=1.0), HTML(value='')))"
      ]
     },
     "metadata": {},
     "output_type": "display_data"
    },
    {
     "name": "stdout",
     "output_type": "stream",
     "text": [
      "\n"
     ]
    },
    {
     "data": {
      "application/vnd.jupyter.widget-view+json": {
       "model_id": "4ac77dc0af0a43349d1a4662f7cad675",
       "version_major": 2,
       "version_minor": 0
      },
      "text/plain": [
       "HBox(children=(FloatProgress(value=0.0, max=1.0), HTML(value='')))"
      ]
     },
     "metadata": {},
     "output_type": "display_data"
    },
    {
     "name": "stdout",
     "output_type": "stream",
     "text": [
      "\n"
     ]
    },
    {
     "data": {
      "application/vnd.jupyter.widget-view+json": {
       "model_id": "01ed33f14f0d42c7b14ec69a5ca7f4ef",
       "version_major": 2,
       "version_minor": 0
      },
      "text/plain": [
       "HBox(children=(FloatProgress(value=0.0, max=1.0), HTML(value='')))"
      ]
     },
     "metadata": {},
     "output_type": "display_data"
    },
    {
     "name": "stdout",
     "output_type": "stream",
     "text": [
      "\n"
     ]
    },
    {
     "data": {
      "application/vnd.jupyter.widget-view+json": {
       "model_id": "3fe5f373d4fe48619ad98c7761252867",
       "version_major": 2,
       "version_minor": 0
      },
      "text/plain": [
       "HBox(children=(FloatProgress(value=0.0, max=1.0), HTML(value='')))"
      ]
     },
     "metadata": {},
     "output_type": "display_data"
    },
    {
     "name": "stdout",
     "output_type": "stream",
     "text": [
      "\n"
     ]
    },
    {
     "data": {
      "application/vnd.jupyter.widget-view+json": {
       "model_id": "bfcfbc4ee2404cb4ace8d37c3ba47716",
       "version_major": 2,
       "version_minor": 0
      },
      "text/plain": [
       "HBox(children=(FloatProgress(value=0.0, max=1.0), HTML(value='')))"
      ]
     },
     "metadata": {},
     "output_type": "display_data"
    },
    {
     "name": "stdout",
     "output_type": "stream",
     "text": [
      "\n"
     ]
    },
    {
     "data": {
      "application/vnd.jupyter.widget-view+json": {
       "model_id": "89cffc598c3f4d09b66fe1c26cef6267",
       "version_major": 2,
       "version_minor": 0
      },
      "text/plain": [
       "HBox(children=(FloatProgress(value=1.0, bar_style='info', layout=Layout(width='20px'), max=1.0), HTML(value=''…"
      ]
     },
     "metadata": {},
     "output_type": "display_data"
    },
    {
     "name": "stdout",
     "output_type": "stream",
     "text": [
      "\n"
     ]
    },
    {
     "data": {
      "application/vnd.jupyter.widget-view+json": {
       "model_id": "3dfd6e53b46c40e59a770a67eda5f06c",
       "version_major": 2,
       "version_minor": 0
      },
      "text/plain": [
       "HBox(children=(FloatProgress(value=0.0, max=1.0), HTML(value='')))"
      ]
     },
     "metadata": {},
     "output_type": "display_data"
    },
    {
     "name": "stdout",
     "output_type": "stream",
     "text": [
      "\n"
     ]
    },
    {
     "data": {
      "application/vnd.jupyter.widget-view+json": {
       "model_id": "0c8f218e6a824e969d1bcea6684b9c87",
       "version_major": 2,
       "version_minor": 0
      },
      "text/plain": [
       "HBox(children=(FloatProgress(value=0.0, max=1.0), HTML(value='')))"
      ]
     },
     "metadata": {},
     "output_type": "display_data"
    },
    {
     "name": "stdout",
     "output_type": "stream",
     "text": [
      "\n"
     ]
    },
    {
     "data": {
      "application/vnd.jupyter.widget-view+json": {
       "model_id": "0a5d097b79af424e95f5b57e0d460e4f",
       "version_major": 2,
       "version_minor": 0
      },
      "text/plain": [
       "HBox(children=(FloatProgress(value=0.0, max=1.0), HTML(value='')))"
      ]
     },
     "metadata": {},
     "output_type": "display_data"
    },
    {
     "name": "stdout",
     "output_type": "stream",
     "text": [
      "\n"
     ]
    },
    {
     "data": {
      "application/vnd.jupyter.widget-view+json": {
       "model_id": "9974614a08804b4580ee7cd56f6d6da6",
       "version_major": 2,
       "version_minor": 0
      },
      "text/plain": [
       "HBox(children=(FloatProgress(value=0.0, max=1.0), HTML(value='')))"
      ]
     },
     "metadata": {},
     "output_type": "display_data"
    },
    {
     "name": "stdout",
     "output_type": "stream",
     "text": [
      "\n"
     ]
    },
    {
     "data": {
      "application/vnd.jupyter.widget-view+json": {
       "model_id": "369ddaedb4dc41bcbe527283e60fa10f",
       "version_major": 2,
       "version_minor": 0
      },
      "text/plain": [
       "HBox(children=(FloatProgress(value=0.0, max=1.0), HTML(value='')))"
      ]
     },
     "metadata": {},
     "output_type": "display_data"
    },
    {
     "name": "stdout",
     "output_type": "stream",
     "text": [
      "\n"
     ]
    },
    {
     "data": {
      "application/vnd.jupyter.widget-view+json": {
       "model_id": "4f16a96981514446a5d5771e800cafb0",
       "version_major": 2,
       "version_minor": 0
      },
      "text/plain": [
       "HBox(children=(FloatProgress(value=0.0, max=1.0), HTML(value='')))"
      ]
     },
     "metadata": {},
     "output_type": "display_data"
    },
    {
     "name": "stdout",
     "output_type": "stream",
     "text": [
      "\n"
     ]
    },
    {
     "data": {
      "application/vnd.jupyter.widget-view+json": {
       "model_id": "d07687db5a004cffa3b6457a3b57dbc1",
       "version_major": 2,
       "version_minor": 0
      },
      "text/plain": [
       "HBox(children=(FloatProgress(value=1.0, bar_style='info', layout=Layout(width='20px'), max=1.0), HTML(value=''…"
      ]
     },
     "metadata": {},
     "output_type": "display_data"
    },
    {
     "name": "stdout",
     "output_type": "stream",
     "text": [
      "\n"
     ]
    },
    {
     "data": {
      "application/vnd.jupyter.widget-view+json": {
       "model_id": "864c47560b1c49d783d61cb9f0bfd459",
       "version_major": 2,
       "version_minor": 0
      },
      "text/plain": [
       "HBox(children=(FloatProgress(value=0.0, max=1.0), HTML(value='')))"
      ]
     },
     "metadata": {},
     "output_type": "display_data"
    },
    {
     "name": "stderr",
     "output_type": "stream",
     "text": [
      "travis_attack.trainer: INFO     Epoch: 5. Min epochs before early stopping activated: 10\n",
      "travis_attack.trainer: INFO     Epoch: 5. Min epochs before early stopping activated: 10\n",
      "travis_attack.trainer: INFO     Epoch: 5. Min epochs before early stopping activated: 10\n",
      "travis_attack.trainer: INFO     Eval metric: 0.000 | Running median: 0.000\n",
      "travis_attack.trainer: INFO     Eval metric: 0.000 | Running median: 0.000\n",
      "travis_attack.trainer: INFO     Eval metric: 0.000 | Running median: 0.000\n"
     ]
    },
    {
     "name": "stdout",
     "output_type": "stream",
     "text": [
      "\n"
     ]
    },
    {
     "name": "stderr",
     "output_type": "stream",
     "text": [
      "travis_attack.trainer: INFO     Now on epoch 6 of 6\n",
      "travis_attack.trainer: INFO     Now on epoch 6 of 6\n",
      "travis_attack.trainer: INFO     Now on epoch 6 of 6\n"
     ]
    },
    {
     "name": "stdout",
     "output_type": "stream",
     "text": [
      "False False False False\n"
     ]
    },
    {
     "data": {
      "application/vnd.jupyter.widget-view+json": {
       "model_id": "292b461a18274746979648163500ef7d",
       "version_major": 2,
       "version_minor": 0
      },
      "text/plain": [
       "HBox(children=(FloatProgress(value=0.0, max=1.0), HTML(value='')))"
      ]
     },
     "metadata": {},
     "output_type": "display_data"
    },
    {
     "name": "stdout",
     "output_type": "stream",
     "text": [
      "\n"
     ]
    },
    {
     "data": {
      "application/vnd.jupyter.widget-view+json": {
       "model_id": "9a927e2ff6f6426aa15aa892c248d5d1",
       "version_major": 2,
       "version_minor": 0
      },
      "text/plain": [
       "HBox(children=(FloatProgress(value=0.0, max=1.0), HTML(value='')))"
      ]
     },
     "metadata": {},
     "output_type": "display_data"
    },
    {
     "name": "stdout",
     "output_type": "stream",
     "text": [
      "\n"
     ]
    },
    {
     "data": {
      "application/vnd.jupyter.widget-view+json": {
       "model_id": "bd880c86f0a04ffd9f0f54357ba6eac7",
       "version_major": 2,
       "version_minor": 0
      },
      "text/plain": [
       "HBox(children=(FloatProgress(value=0.0, max=1.0), HTML(value='')))"
      ]
     },
     "metadata": {},
     "output_type": "display_data"
    },
    {
     "name": "stdout",
     "output_type": "stream",
     "text": [
      "\n"
     ]
    },
    {
     "data": {
      "application/vnd.jupyter.widget-view+json": {
       "model_id": "2484ffa6804c4c5595e383ee90616fdd",
       "version_major": 2,
       "version_minor": 0
      },
      "text/plain": [
       "HBox(children=(FloatProgress(value=0.0, max=1.0), HTML(value='')))"
      ]
     },
     "metadata": {},
     "output_type": "display_data"
    },
    {
     "name": "stdout",
     "output_type": "stream",
     "text": [
      "\n"
     ]
    },
    {
     "data": {
      "application/vnd.jupyter.widget-view+json": {
       "model_id": "935108b0083b4131b02ad134eacf6d33",
       "version_major": 2,
       "version_minor": 0
      },
      "text/plain": [
       "HBox(children=(FloatProgress(value=0.0, max=1.0), HTML(value='')))"
      ]
     },
     "metadata": {},
     "output_type": "display_data"
    },
    {
     "name": "stdout",
     "output_type": "stream",
     "text": [
      "\n"
     ]
    },
    {
     "data": {
      "application/vnd.jupyter.widget-view+json": {
       "model_id": "103c1d2e00824167a5d0cb4f12f72daf",
       "version_major": 2,
       "version_minor": 0
      },
      "text/plain": [
       "HBox(children=(FloatProgress(value=1.0, bar_style='info', layout=Layout(width='20px'), max=1.0), HTML(value=''…"
      ]
     },
     "metadata": {},
     "output_type": "display_data"
    },
    {
     "name": "stdout",
     "output_type": "stream",
     "text": [
      "\n"
     ]
    },
    {
     "data": {
      "application/vnd.jupyter.widget-view+json": {
       "model_id": "579e76632e314ad59cf437c77feea51e",
       "version_major": 2,
       "version_minor": 0
      },
      "text/plain": [
       "HBox(children=(FloatProgress(value=0.0, max=1.0), HTML(value='')))"
      ]
     },
     "metadata": {},
     "output_type": "display_data"
    },
    {
     "name": "stdout",
     "output_type": "stream",
     "text": [
      "\n"
     ]
    },
    {
     "data": {
      "application/vnd.jupyter.widget-view+json": {
       "model_id": "e637fad813854805a728680fdd008a61",
       "version_major": 2,
       "version_minor": 0
      },
      "text/plain": [
       "HBox(children=(FloatProgress(value=0.0, max=1.0), HTML(value='')))"
      ]
     },
     "metadata": {},
     "output_type": "display_data"
    },
    {
     "name": "stdout",
     "output_type": "stream",
     "text": [
      "\n"
     ]
    },
    {
     "data": {
      "application/vnd.jupyter.widget-view+json": {
       "model_id": "6ff0d2bd36354346acd0f0bf81ecfc9b",
       "version_major": 2,
       "version_minor": 0
      },
      "text/plain": [
       "HBox(children=(FloatProgress(value=0.0, max=1.0), HTML(value='')))"
      ]
     },
     "metadata": {},
     "output_type": "display_data"
    },
    {
     "name": "stdout",
     "output_type": "stream",
     "text": [
      "\n"
     ]
    },
    {
     "data": {
      "application/vnd.jupyter.widget-view+json": {
       "model_id": "7665f7c4f54a4178b132f0ff2bae948c",
       "version_major": 2,
       "version_minor": 0
      },
      "text/plain": [
       "HBox(children=(FloatProgress(value=0.0, max=1.0), HTML(value='')))"
      ]
     },
     "metadata": {},
     "output_type": "display_data"
    },
    {
     "name": "stdout",
     "output_type": "stream",
     "text": [
      "\n"
     ]
    },
    {
     "data": {
      "application/vnd.jupyter.widget-view+json": {
       "model_id": "6f626716b570498f84ebdd973aa3789a",
       "version_major": 2,
       "version_minor": 0
      },
      "text/plain": [
       "HBox(children=(FloatProgress(value=0.0, max=1.0), HTML(value='')))"
      ]
     },
     "metadata": {},
     "output_type": "display_data"
    },
    {
     "name": "stdout",
     "output_type": "stream",
     "text": [
      "\n"
     ]
    },
    {
     "data": {
      "application/vnd.jupyter.widget-view+json": {
       "model_id": "ac198c6f729d4df3ad69d622db5d0884",
       "version_major": 2,
       "version_minor": 0
      },
      "text/plain": [
       "HBox(children=(FloatProgress(value=0.0, max=1.0), HTML(value='')))"
      ]
     },
     "metadata": {},
     "output_type": "display_data"
    },
    {
     "name": "stdout",
     "output_type": "stream",
     "text": [
      "\n"
     ]
    },
    {
     "data": {
      "application/vnd.jupyter.widget-view+json": {
       "model_id": "a7cf83888f3a418481ab7947d841e226",
       "version_major": 2,
       "version_minor": 0
      },
      "text/plain": [
       "HBox(children=(FloatProgress(value=1.0, bar_style='info', layout=Layout(width='20px'), max=1.0), HTML(value=''…"
      ]
     },
     "metadata": {},
     "output_type": "display_data"
    },
    {
     "name": "stdout",
     "output_type": "stream",
     "text": [
      "\n"
     ]
    },
    {
     "data": {
      "application/vnd.jupyter.widget-view+json": {
       "model_id": "26d2df188bcd4c54b95f49c87e590e02",
       "version_major": 2,
       "version_minor": 0
      },
      "text/plain": [
       "HBox(children=(FloatProgress(value=0.0, max=1.0), HTML(value='')))"
      ]
     },
     "metadata": {},
     "output_type": "display_data"
    },
    {
     "name": "stderr",
     "output_type": "stream",
     "text": [
      "travis_attack.trainer: INFO     Epoch: 6. Min epochs before early stopping activated: 10\n",
      "travis_attack.trainer: INFO     Epoch: 6. Min epochs before early stopping activated: 10\n",
      "travis_attack.trainer: INFO     Epoch: 6. Min epochs before early stopping activated: 10\n",
      "travis_attack.trainer: INFO     Eval metric: 0.000 | Running median: 0.000\n",
      "travis_attack.trainer: INFO     Eval metric: 0.000 | Running median: 0.000\n",
      "travis_attack.trainer: INFO     Eval metric: 0.000 | Running median: 0.000\n"
     ]
    },
    {
     "name": "stdout",
     "output_type": "stream",
     "text": [
      "\n"
     ]
    },
    {
     "name": "stderr",
     "output_type": "stream",
     "text": [
      "travis_attack.trainer: INFO     Evaluating test set with best model at path : ../model_checkpoints/travis_attack/dummy-36FPjQASsBexcLZydPyxTF/model_3.pt\n",
      "travis_attack.trainer: INFO     Evaluating test set with best model at path : ../model_checkpoints/travis_attack/dummy-36FPjQASsBexcLZydPyxTF/model_3.pt\n",
      "travis_attack.trainer: INFO     Evaluating test set with best model at path : ../model_checkpoints/travis_attack/dummy-36FPjQASsBexcLZydPyxTF/model_3.pt\n"
     ]
    },
    {
     "name": "stdout",
     "output_type": "stream",
     "text": [
      "True False False True\n"
     ]
    },
    {
     "data": {
      "application/vnd.jupyter.widget-view+json": {
       "model_id": "9a199168d61a44f2b90c08aeaaff4159",
       "version_major": 2,
       "version_minor": 0
      },
      "text/plain": [
       "HBox(children=(FloatProgress(value=0.0, max=1.0), HTML(value='')))"
      ]
     },
     "metadata": {},
     "output_type": "display_data"
    },
    {
     "name": "stdout",
     "output_type": "stream",
     "text": [
      "\n"
     ]
    },
    {
     "data": {
      "application/vnd.jupyter.widget-view+json": {
       "model_id": "980447d5fbaf4a659c1710a8d19d81a9",
       "version_major": 2,
       "version_minor": 0
      },
      "text/plain": [
       "HBox(children=(FloatProgress(value=0.0, max=1.0), HTML(value='')))"
      ]
     },
     "metadata": {},
     "output_type": "display_data"
    },
    {
     "name": "stdout",
     "output_type": "stream",
     "text": [
      "\n"
     ]
    },
    {
     "data": {
      "application/vnd.jupyter.widget-view+json": {
       "model_id": "c0ce0d4cfab941fa9ba8939cea78845d",
       "version_major": 2,
       "version_minor": 0
      },
      "text/plain": [
       "HBox(children=(FloatProgress(value=0.0, max=1.0), HTML(value='')))"
      ]
     },
     "metadata": {},
     "output_type": "display_data"
    },
    {
     "name": "stdout",
     "output_type": "stream",
     "text": [
      "\n"
     ]
    },
    {
     "data": {
      "application/vnd.jupyter.widget-view+json": {
       "model_id": "1fde24a941b346ee85644ec8116f8309",
       "version_major": 2,
       "version_minor": 0
      },
      "text/plain": [
       "HBox(children=(FloatProgress(value=0.0, max=1.0), HTML(value='')))"
      ]
     },
     "metadata": {},
     "output_type": "display_data"
    },
    {
     "name": "stdout",
     "output_type": "stream",
     "text": [
      "\n"
     ]
    },
    {
     "data": {
      "application/vnd.jupyter.widget-view+json": {
       "model_id": "e4fc1c26dd64401cba15277954841f83",
       "version_major": 2,
       "version_minor": 0
      },
      "text/plain": [
       "HBox(children=(FloatProgress(value=0.0, max=1.0), HTML(value='')))"
      ]
     },
     "metadata": {},
     "output_type": "display_data"
    },
    {
     "name": "stdout",
     "output_type": "stream",
     "text": [
      "\n"
     ]
    },
    {
     "data": {
      "application/vnd.jupyter.widget-view+json": {
       "model_id": "e07952028c4d4a61ab89587b001694b1",
       "version_major": 2,
       "version_minor": 0
      },
      "text/plain": [
       "HBox(children=(FloatProgress(value=1.0, bar_style='info', layout=Layout(width='20px'), max=1.0), HTML(value=''…"
      ]
     },
     "metadata": {},
     "output_type": "display_data"
    },
    {
     "name": "stdout",
     "output_type": "stream",
     "text": [
      "\n"
     ]
    },
    {
     "data": {
      "application/vnd.jupyter.widget-view+json": {
       "model_id": "8a9535e726b540d7b4914c977420546e",
       "version_major": 2,
       "version_minor": 0
      },
      "text/plain": [
       "HBox(children=(FloatProgress(value=0.0, max=1.0), HTML(value='')))"
      ]
     },
     "metadata": {},
     "output_type": "display_data"
    },
    {
     "name": "stdout",
     "output_type": "stream",
     "text": [
      "\n"
     ]
    }
   ],
   "source": [
    "cfg.wandb['mode'] = 'disabled'\n",
    "trainer = Trainer(cfg, vm_tokenizer,vm_model,pp_tokenizer,pp_model,ref_pp_model,sts_model,nli_tokenizer,nli_model,cola_tokenizer,cola_model, optimizer,\n",
    "         ds, initial_eval=True)\n",
    "print_important_cfg_vars(cfg)\n",
    "trainer.train()"
   ]
  },
  {
   "cell_type": "code",
   "execution_count": null,
   "metadata": {},
   "outputs": [],
   "source": [
    "df_expanded = df_expanded.drop_duplicates(subset=df_expanded.columns.difference(['pp_idx', 'sts_scores']))\n",
    "\n",
    "\n",
    " df_grp_stats = df_expanded[['idx'] + eval_metric_cols].groupby('idx').agg(agg_metrics)\n",
    "df_grp_stats.columns = df_grp_stats.columns = [\"-\".join(a) for a in df_grp_stats.columns.to_flat_index()]\n",
    "df_grp_stats = df_grp_stats.merge(df_expanded.groupby('idx').size().rename('n_pp').to_frame(), how='left', left_index=True, right_index=True)\n",
    "\n",
    "\n",
    "\n",
    "\n",
    "df1 = df_expanded[0:10]\n",
    "df1.drop_duplicates(subset=df1.columns.difference(['pp_idx', 'sts_scores']))"
   ]
  },
  {
   "cell_type": "code",
   "execution_count": null,
   "metadata": {},
   "outputs": [
    {
     "name": "stdout",
     "output_type": "stream",
     "text": [
      "> \u001b[0;32m/home/tproth/Programs/miniconda/envs/nlp_env/lib/python3.8/site-packages/pandas/core/indexes/base.py\u001b[0m(3623)\u001b[0;36mget_loc\u001b[0;34m()\u001b[0m\n",
      "\u001b[0;32m   3621 \u001b[0;31m                \u001b[0;32mreturn\u001b[0m \u001b[0mself\u001b[0m\u001b[0;34m.\u001b[0m\u001b[0m_engine\u001b[0m\u001b[0;34m.\u001b[0m\u001b[0mget_loc\u001b[0m\u001b[0;34m(\u001b[0m\u001b[0mcasted_key\u001b[0m\u001b[0;34m)\u001b[0m\u001b[0;34m\u001b[0m\u001b[0;34m\u001b[0m\u001b[0m\n",
      "\u001b[0m\u001b[0;32m   3622 \u001b[0;31m            \u001b[0;32mexcept\u001b[0m \u001b[0mKeyError\u001b[0m \u001b[0;32mas\u001b[0m \u001b[0merr\u001b[0m\u001b[0;34m:\u001b[0m\u001b[0;34m\u001b[0m\u001b[0;34m\u001b[0m\u001b[0m\n",
      "\u001b[0m\u001b[0;32m-> 3623 \u001b[0;31m                \u001b[0;32mraise\u001b[0m \u001b[0mKeyError\u001b[0m\u001b[0;34m(\u001b[0m\u001b[0mkey\u001b[0m\u001b[0;34m)\u001b[0m \u001b[0;32mfrom\u001b[0m \u001b[0merr\u001b[0m\u001b[0;34m\u001b[0m\u001b[0;34m\u001b[0m\u001b[0m\n",
      "\u001b[0m\u001b[0;32m   3624 \u001b[0;31m            \u001b[0;32mexcept\u001b[0m \u001b[0mTypeError\u001b[0m\u001b[0;34m:\u001b[0m\u001b[0;34m\u001b[0m\u001b[0;34m\u001b[0m\u001b[0m\n",
      "\u001b[0m\u001b[0;32m   3625 \u001b[0;31m                \u001b[0;31m# If we have a listlike key, _check_indexing_error will raise\u001b[0m\u001b[0;34m\u001b[0m\u001b[0;34m\u001b[0m\u001b[0;34m\u001b[0m\u001b[0m\n",
      "\u001b[0m\n",
      "ipdb> u 3 \n",
      "> \u001b[0;32m/data/tproth/travis_attack/travis_attack/trainer.py\u001b[0m(115)\u001b[0;36m_training_function\u001b[0;34m()\u001b[0m\n",
      "\u001b[0;32m    113 \u001b[0;31m        \u001b[0;32mif\u001b[0m \u001b[0mself\u001b[0m\u001b[0;34m.\u001b[0m\u001b[0minitial_eval\u001b[0m\u001b[0;34m:\u001b[0m\u001b[0;34m\u001b[0m\u001b[0;34m\u001b[0m\u001b[0m\n",
      "\u001b[0m\u001b[0;32m    114 \u001b[0;31m            \u001b[0mlogger\u001b[0m\u001b[0;34m.\u001b[0m\u001b[0minfo\u001b[0m\u001b[0;34m(\u001b[0m\u001b[0;34m\"Launching initial eval run: train\"\u001b[0m\u001b[0;34m)\u001b[0m\u001b[0;34m\u001b[0m\u001b[0;34m\u001b[0m\u001b[0m\n",
      "\u001b[0m\u001b[0;32m--> 115 \u001b[0;31m            \u001b[0mself\u001b[0m\u001b[0;34m.\u001b[0m\u001b[0m_eval_function\u001b[0m\u001b[0;34m(\u001b[0m\u001b[0msplit\u001b[0m\u001b[0;34m=\u001b[0m\u001b[0;34m'train'\u001b[0m\u001b[0;34m)\u001b[0m\u001b[0;34m\u001b[0m\u001b[0;34m\u001b[0m\u001b[0m\n",
      "\u001b[0m\u001b[0;32m    116 \u001b[0;31m            \u001b[0mlogger\u001b[0m\u001b[0;34m.\u001b[0m\u001b[0minfo\u001b[0m\u001b[0;34m(\u001b[0m\u001b[0;34m\"Launching initial eval run: valid\"\u001b[0m\u001b[0;34m)\u001b[0m\u001b[0;34m\u001b[0m\u001b[0;34m\u001b[0m\u001b[0m\n",
      "\u001b[0m\u001b[0;32m    117 \u001b[0;31m            \u001b[0mself\u001b[0m\u001b[0;34m.\u001b[0m\u001b[0m_eval_function\u001b[0m\u001b[0;34m(\u001b[0m\u001b[0msplit\u001b[0m\u001b[0;34m=\u001b[0m\u001b[0;34m'valid'\u001b[0m\u001b[0;34m)\u001b[0m\u001b[0;34m\u001b[0m\u001b[0;34m\u001b[0m\u001b[0m\n",
      "\u001b[0m\n",
      "ipdb> d\n",
      "> \u001b[0;32m/data/tproth/travis_attack/travis_attack/trainer.py\u001b[0m(733)\u001b[0;36m_eval_function\u001b[0;34m()\u001b[0m\n",
      "\u001b[0;32m    731 \u001b[0;31m            \u001b[0;32mfor\u001b[0m \u001b[0mk\u001b[0m \u001b[0;32min\u001b[0m \u001b[0mmean_only\u001b[0m \u001b[0;34m+\u001b[0m \u001b[0mmean_and_std\u001b[0m\u001b[0;34m:\u001b[0m\u001b[0;34m\u001b[0m\u001b[0;34m\u001b[0m\u001b[0m\n",
      "\u001b[0m\u001b[0;32m    732 \u001b[0;31m                \u001b[0mname\u001b[0m \u001b[0;34m=\u001b[0m \u001b[0mk\u001b[0m \u001b[0;34m+\u001b[0m \u001b[0;34m\"-mean\"\u001b[0m\u001b[0;34m\u001b[0m\u001b[0;34m\u001b[0m\u001b[0m\n",
      "\u001b[0m\u001b[0;32m--> 733 \u001b[0;31m                \u001b[0mwandb_eval_d\u001b[0m\u001b[0;34m[\u001b[0m\u001b[0mname\u001b[0m \u001b[0;34m+\u001b[0m \u001b[0;34m\"-\"\u001b[0m\u001b[0;34m+\u001b[0m \u001b[0msplit\u001b[0m \u001b[0;34m+\u001b[0m \u001b[0;34m\"-hist\"\u001b[0m\u001b[0;34m]\u001b[0m \u001b[0;34m=\u001b[0m \u001b[0mHistogram\u001b[0m\u001b[0;34m(\u001b[0m\u001b[0mdf_grp_stats\u001b[0m\u001b[0;34m[\u001b[0m\u001b[0mname\u001b[0m\u001b[0;34m]\u001b[0m\u001b[0;34m.\u001b[0m\u001b[0mtolist\u001b[0m\u001b[0;34m(\u001b[0m\u001b[0;34m)\u001b[0m\u001b[0;34m)\u001b[0m\u001b[0;34m\u001b[0m\u001b[0;34m\u001b[0m\u001b[0m\n",
      "\u001b[0m\u001b[0;32m    734 \u001b[0;31m            \u001b[0;32mfor\u001b[0m \u001b[0mk\u001b[0m \u001b[0;32min\u001b[0m \u001b[0mmean_and_std\u001b[0m\u001b[0;34m:\u001b[0m\u001b[0;34m\u001b[0m\u001b[0;34m\u001b[0m\u001b[0m\n",
      "\u001b[0m\u001b[0;32m    735 \u001b[0;31m                \u001b[0mname\u001b[0m \u001b[0;34m=\u001b[0m \u001b[0mk\u001b[0m \u001b[0;34m+\u001b[0m \u001b[0;34m\"-std\"\u001b[0m\u001b[0;34m\u001b[0m\u001b[0;34m\u001b[0m\u001b[0m\n",
      "\u001b[0m\n",
      "ipdb> df_grp_stats\n",
      "     label_flip-mean  label_flip-std  is_valid_pp-mean  is_valid_pp-std  \\\n",
      "idx                                                                       \n",
      "0                0.0             0.0          1.000000         0.000000   \n",
      "1                0.0             0.0          1.000000         0.000000   \n",
      "2                0.0             0.0          0.888889         0.333333   \n",
      "3                0.0             0.0          1.000000         0.000000   \n",
      "\n",
      "     is_adv_example-mean  is_adv_example-std  reward_pp-mean  reward_pp-std  \\\n",
      "idx                                                                           \n",
      "0                    0.0                 0.0        0.297610       0.595220   \n",
      "1                    0.0                 0.0        0.094336       0.210941   \n",
      "2                    0.0                 0.0        0.185053       0.429735   \n",
      "3                    0.0                 0.0        0.141154       0.221399   \n",
      "\n",
      "     vm_scores-mean  vm_scores-std  sts_scores-mean  sts_scores-std  \\\n",
      "idx                                                                   \n",
      "0         -0.048936       0.118201         0.943448        0.022644   \n",
      "1         -0.010182       0.028761         0.874772        0.033463   \n",
      "2         -0.026517       0.060646         0.943941        0.035539   \n",
      "3         -0.002071       0.032934         0.929432        0.058468   \n",
      "\n",
      "     pp_letter_diff-mean  pp_letter_diff-std  contradiction_scores-mean  \\\n",
      "idx                                                                       \n",
      "0              -1.500000            1.290994                   0.002743   \n",
      "1              -1.000000            1.581139                   0.003310   \n",
      "2              -5.888889            7.114149                   0.002837   \n",
      "3              -3.555556            6.502136                   0.004599   \n",
      "\n",
      "     contradiction_scores-std  acceptability_scores-mean  \\\n",
      "idx                                                        \n",
      "0                    0.000385                   0.892920   \n",
      "1                    0.000491                   0.854186   \n",
      "2                    0.000385                   0.693496   \n",
      "3                    0.000722                   0.728231   \n",
      "\n",
      "     acceptability_scores-std  n_pp  \n",
      "idx                                  \n",
      "0                    0.032038     4  \n",
      "1                    0.012403     5  \n",
      "2                    0.168528     9  \n",
      "3                    0.123312     9  \n",
      "ipdb> q\n"
     ]
    }
   ],
   "source": [
    "%debug"
   ]
  },
  {
   "cell_type": "code",
   "execution_count": null,
   "metadata": {},
   "outputs": [],
   "source": [
    "#df = pd.read_csv(cfg.path_results + \"run_results.csv\")\n",
    "#display_all(df)"
   ]
  },
  {
   "cell_type": "code",
   "execution_count": null,
   "metadata": {},
   "outputs": [],
   "source": [
    "# df = pd.read_csv(f'{cfg.path_run}training_step.csv')\n",
    "# #display_all(df.query('idx==1'))\n",
    "# df.columns"
   ]
  },
  {
   "cell_type": "code",
   "execution_count": null,
   "metadata": {},
   "outputs": [],
   "source": [
    "#trainer.run.finish()"
   ]
  },
  {
   "cell_type": "code",
   "execution_count": null,
   "metadata": {},
   "outputs": [],
   "source": [
    "# # ## TO RESUME RUN\n",
    "# cfg = Config()\n",
    "# cfg.run_id = 'b9r88lmz'\n",
    "# cfg.run_name = \"fresh-cosmos-151\"\n",
    "# cfg.path_run = f\"{cfg.path_checkpoints}{cfg.run_name}/\"\n",
    "# run = resume_wandb_run(cfg)\n"
   ]
  },
  {
   "cell_type": "code",
   "execution_count": null,
   "metadata": {},
   "outputs": [],
   "source": [
    "#cfg.path_run"
   ]
  },
  {
   "cell_type": "code",
   "execution_count": null,
   "metadata": {},
   "outputs": [
    {
     "name": "stderr",
     "output_type": "stream",
     "text": [
      "travis_attack.insights: INFO     Dataframes have shapes ['training_step: (2445, 52)', 'train: (83456, 21)', 'valid: (10240, 21)', 'test: (1344, 21)']\n",
      "travis_attack.insights: INFO     Adding text metrics for column orig\n"
     ]
    },
    {
     "data": {
      "application/vnd.jupyter.widget-view+json": {
       "model_id": "2e479b6c0d3848d6b76d6bdc37ef7bf7",
       "version_major": 2,
       "version_minor": 0
      },
      "text/plain": [
       "HBox(children=(FloatProgress(value=1.0, bar_style='info', layout=Layout(width='20px'), max=1.0), HTML(value=''…"
      ]
     },
     "metadata": {},
     "output_type": "display_data"
    },
    {
     "name": "stderr",
     "output_type": "stream",
     "text": [
      "travis_attack.insights: INFO     Adding text metrics for column pp\n"
     ]
    },
    {
     "name": "stdout",
     "output_type": "stream",
     "text": [
      "\n"
     ]
    },
    {
     "data": {
      "application/vnd.jupyter.widget-view+json": {
       "model_id": "ddf28b3b0b3d413bb93c386582419b35",
       "version_major": 2,
       "version_minor": 0
      },
      "text/plain": [
       "HBox(children=(FloatProgress(value=1.0, bar_style='info', layout=Layout(width='20px'), max=1.0), HTML(value=''…"
      ]
     },
     "metadata": {},
     "output_type": "display_data"
    },
    {
     "name": "stderr",
     "output_type": "stream",
     "text": [
      "travis_attack.insights: INFO     Calculating metric differences between orig and pp\n",
      "travis_attack.insights: INFO     Calculating text pair statistics for (orig, pp) unique pairs\n"
     ]
    },
    {
     "name": "stdout",
     "output_type": "stream",
     "text": [
      "\n"
     ]
    },
    {
     "data": {
      "application/vnd.jupyter.widget-view+json": {
       "model_id": "88a9b027a4f94e9e8f95fbd6cb09ee44",
       "version_major": 2,
       "version_minor": 0
      },
      "text/plain": [
       "HBox(children=(FloatProgress(value=1.0, bar_style='info', layout=Layout(width='20px'), max=1.0), HTML(value=''…"
      ]
     },
     "metadata": {},
     "output_type": "display_data"
    },
    {
     "name": "stdout",
     "output_type": "stream",
     "text": [
      "\n"
     ]
    },
    {
     "name": "stderr",
     "output_type": "stream",
     "text": [
      "travis_attack.insights: INFO     Adding text metrics for column orig\n"
     ]
    },
    {
     "data": {
      "application/vnd.jupyter.widget-view+json": {
       "model_id": "90164035601b4be1ba3d4e17ee3e4c41",
       "version_major": 2,
       "version_minor": 0
      },
      "text/plain": [
       "HBox(children=(FloatProgress(value=1.0, bar_style='info', layout=Layout(width='20px'), max=1.0), HTML(value=''…"
      ]
     },
     "metadata": {},
     "output_type": "display_data"
    },
    {
     "name": "stderr",
     "output_type": "stream",
     "text": [
      "travis_attack.insights: INFO     Adding text metrics for column pp\n"
     ]
    },
    {
     "name": "stdout",
     "output_type": "stream",
     "text": [
      "\n"
     ]
    },
    {
     "data": {
      "application/vnd.jupyter.widget-view+json": {
       "model_id": "059b71dc1c9e4528963f930ced774c45",
       "version_major": 2,
       "version_minor": 0
      },
      "text/plain": [
       "HBox(children=(FloatProgress(value=1.0, bar_style='info', layout=Layout(width='20px'), max=1.0), HTML(value=''…"
      ]
     },
     "metadata": {},
     "output_type": "display_data"
    },
    {
     "name": "stdout",
     "output_type": "stream",
     "text": [
      "\n"
     ]
    },
    {
     "name": "stderr",
     "output_type": "stream",
     "text": [
      "travis_attack.insights: INFO     Calculating metric differences between orig and pp\n",
      "travis_attack.insights: INFO     Calculating text pair statistics for (orig, pp) unique pairs\n"
     ]
    },
    {
     "data": {
      "application/vnd.jupyter.widget-view+json": {
       "model_id": "2446548b50a14959b42537aad9c4cbff",
       "version_major": 2,
       "version_minor": 0
      },
      "text/plain": [
       "HBox(children=(FloatProgress(value=1.0, bar_style='info', layout=Layout(width='20px'), max=1.0), HTML(value=''…"
      ]
     },
     "metadata": {},
     "output_type": "display_data"
    },
    {
     "name": "stderr",
     "output_type": "stream",
     "text": [
      "IOPub message rate exceeded.\n",
      "The notebook server will temporarily stop sending output\n",
      "to the client in order to avoid crashing it.\n",
      "To change this limit, set the config variable\n",
      "`--NotebookApp.iopub_msg_rate_limit`.\n",
      "\n",
      "Current values:\n",
      "NotebookApp.iopub_msg_rate_limit=1000.0 (msgs/sec)\n",
      "NotebookApp.rate_limit_window=3.0 (secs)\n",
      "\n"
     ]
    },
    {
     "name": "stdout",
     "output_type": "stream",
     "text": [
      "\n"
     ]
    },
    {
     "name": "stderr",
     "output_type": "stream",
     "text": [
      "travis_attack.insights: INFO     Adding text metrics for column orig\n"
     ]
    },
    {
     "data": {
      "application/vnd.jupyter.widget-view+json": {
       "model_id": "ad5695f045724707850e2226613a51fc",
       "version_major": 2,
       "version_minor": 0
      },
      "text/plain": [
       "HBox(children=(FloatProgress(value=1.0, bar_style='info', layout=Layout(width='20px'), max=1.0), HTML(value=''…"
      ]
     },
     "metadata": {},
     "output_type": "display_data"
    },
    {
     "name": "stderr",
     "output_type": "stream",
     "text": [
      "travis_attack.insights: INFO     Adding text metrics for column pp\n"
     ]
    },
    {
     "name": "stdout",
     "output_type": "stream",
     "text": [
      "\n"
     ]
    },
    {
     "data": {
      "application/vnd.jupyter.widget-view+json": {
       "model_id": "99fc0e7033d04e1386b6e5a9acc4afc0",
       "version_major": 2,
       "version_minor": 0
      },
      "text/plain": [
       "HBox(children=(FloatProgress(value=1.0, bar_style='info', layout=Layout(width='20px'), max=1.0), HTML(value=''…"
      ]
     },
     "metadata": {},
     "output_type": "display_data"
    },
    {
     "name": "stdout",
     "output_type": "stream",
     "text": [
      "\n"
     ]
    },
    {
     "name": "stderr",
     "output_type": "stream",
     "text": [
      "travis_attack.insights: INFO     Calculating metric differences between orig and pp\n",
      "travis_attack.insights: INFO     Calculating text pair statistics for (orig, pp) unique pairs\n"
     ]
    },
    {
     "data": {
      "application/vnd.jupyter.widget-view+json": {
       "model_id": "c059fb1513134d9981d94d6d8f9c95b6",
       "version_major": 2,
       "version_minor": 0
      },
      "text/plain": [
       "HBox(children=(FloatProgress(value=1.0, bar_style='info', layout=Layout(width='20px'), max=1.0), HTML(value=''…"
      ]
     },
     "metadata": {},
     "output_type": "display_data"
    },
    {
     "name": "stdout",
     "output_type": "stream",
     "text": [
      "\n"
     ]
    },
    {
     "name": "stderr",
     "output_type": "stream",
     "text": [
      "travis_attack.insights: INFO     Adding text metrics for column orig\n"
     ]
    },
    {
     "data": {
      "application/vnd.jupyter.widget-view+json": {
       "model_id": "526fb3f5f8044f519362d3608ff2642c",
       "version_major": 2,
       "version_minor": 0
      },
      "text/plain": [
       "HBox(children=(FloatProgress(value=1.0, bar_style='info', layout=Layout(width='20px'), max=1.0), HTML(value=''…"
      ]
     },
     "metadata": {},
     "output_type": "display_data"
    },
    {
     "name": "stderr",
     "output_type": "stream",
     "text": [
      "travis_attack.insights: INFO     Adding text metrics for column pp\n"
     ]
    },
    {
     "name": "stdout",
     "output_type": "stream",
     "text": [
      "\n"
     ]
    },
    {
     "data": {
      "application/vnd.jupyter.widget-view+json": {
       "model_id": "67b895f0a7d34960b2a21d629d0e41dd",
       "version_major": 2,
       "version_minor": 0
      },
      "text/plain": [
       "HBox(children=(FloatProgress(value=1.0, bar_style='info', layout=Layout(width='20px'), max=1.0), HTML(value=''…"
      ]
     },
     "metadata": {},
     "output_type": "display_data"
    },
    {
     "name": "stdout",
     "output_type": "stream",
     "text": [
      "\n"
     ]
    },
    {
     "name": "stderr",
     "output_type": "stream",
     "text": [
      "travis_attack.insights: INFO     Calculating metric differences between orig and pp\n",
      "travis_attack.insights: INFO     Calculating text pair statistics for (orig, pp) unique pairs\n"
     ]
    },
    {
     "data": {
      "application/vnd.jupyter.widget-view+json": {
       "model_id": "b6486169ecf440b1acd2c898f4a41984",
       "version_major": 2,
       "version_minor": 0
      },
      "text/plain": [
       "HBox(children=(FloatProgress(value=1.0, bar_style='info', layout=Layout(width='20px'), max=1.0), HTML(value=''…"
      ]
     },
     "metadata": {},
     "output_type": "display_data"
    },
    {
     "name": "stdout",
     "output_type": "stream",
     "text": [
      "\n"
     ]
    },
    {
     "data": {
      "text/html": [
       "<br/>Waiting for W&B process to finish, PID 17974... <strong style=\"color:green\">(success).</strong>"
      ],
      "text/plain": [
       "<IPython.core.display.HTML object>"
      ]
     },
     "metadata": {},
     "output_type": "display_data"
    },
    {
     "data": {
      "application/vnd.jupyter.widget-view+json": {
       "model_id": "",
       "version_major": 2,
       "version_minor": 0
      },
      "text/plain": [
       "VBox(children=(Label(value=' 0.31MB of 0.31MB uploaded (0.00MB deduped)\\r'), FloatProgress(value=1.0, max=1.0)…"
      ]
     },
     "metadata": {},
     "output_type": "display_data"
    },
    {
     "data": {
      "text/html": [
       "<style>\n",
       "    table.wandb td:nth-child(1) { padding: 0 10px; text-align: right }\n",
       "    .wandb-row { display: flex; flex-direction: row; flex-wrap: wrap; width: 100% }\n",
       "    .wandb-col { display: flex; flex-direction: column; flex-basis: 100%; flex: 1; padding: 10px; }\n",
       "    </style>\n",
       "<div class=\"wandb-row\"><div class=\"wandb-col\">\n",
       "<h3>Run history:</h3><br/><table class=\"wandb\"><tr><td>%_of_tokens_above_prob_1/vocab_size</td><td>████████████▁███████▁▁███▁██████████▁███</td></tr><tr><td>%_of_tokens_above_prob_1e-05</td><td>████████████▁███████▁▁███▁██████████▁███</td></tr><tr><td>%_of_tokens_above_prob_1e-06</td><td>████████████▁███████▁▁███▁██████████▁███</td></tr><tr><td>%_of_tokens_above_prob_1e-07</td><td>████████████▁███████▁▁███▁██████████▁███</td></tr><tr><td>%_of_tokens_above_prob_1e-08</td><td>████████████▁███████▁▁███▁██████████▁███</td></tr><tr><td>%_of_tokens_above_prob_1e-09</td><td>████████████▁███████▁▁███▁██████████▁███</td></tr><tr><td>acc_batch_n_examples</td><td>██▁██▁████▁██▁█▁██▁██▁█▁██▁████▁██▁█▁██▁</td></tr><tr><td>acc_num</td><td>▁▁▁▁████▁▁▁████▁▁▁████▁▁▁████▁▁▁████▁▁▁█</td></tr><tr><td>acceptability_scores-mean-test</td><td>█▁</td></tr><tr><td>acceptability_scores-mean-train</td><td>██▇▇▆▄▄▅▄▄▃▃▂▁▃▁</td></tr><tr><td>acceptability_scores-mean-valid</td><td>█▃▆▆▅▂▁▃▅▅▃▃▄▄▁▁</td></tr><tr><td>acceptability_scores-std-test</td><td>▁█</td></tr><tr><td>acceptability_scores-std-train</td><td>▅▅▆█▅▆▄▁▂▁▃▂▃▅▄▅</td></tr><tr><td>acceptability_scores-std-valid</td><td>▁▄▅▃▅█▅▅▂▃▃▃▃▅▅▄</td></tr><tr><td>acceptability_scores_mean</td><td>▃▃▃▄▂▅▃▅▃▃▂▃▃█▂▂▂▃▄▃▂▆▃▁▃▄▅▂▃▄▃▁▃▃▅▄▁▃▃▅</td></tr><tr><td>any_adv_example_proportion-test</td><td>▁█</td></tr><tr><td>any_adv_example_proportion-train</td><td>▁▆▅▅▂▅▃▅▆█▃▃▂▄▇▆</td></tr><tr><td>any_adv_example_proportion-valid</td><td>▄▅▄▄▄▄▁▂▄▄▅▅▇█▄▄</td></tr><tr><td>batch_num</td><td>▁▄▇▁▅█▂▅▁▄▇▂▅█▂▇▁▄█▂▅█▄▇▁▅█▂▅▁▄▇▂▅█▂▇▁▄█</td></tr><tr><td>contradiction_scores-mean-test</td><td>█▁</td></tr><tr><td>contradiction_scores-mean-train</td><td>█▆▆▇▅▃▂▄▄▄▂▁▁▂▃▃</td></tr><tr><td>contradiction_scores-mean-valid</td><td>█▇█▇▂▂▁▄▃▄▅▆▃▆▃▇</td></tr><tr><td>contradiction_scores-std-test</td><td>█▁</td></tr><tr><td>contradiction_scores-std-train</td><td>█▆▆▆▅▄▃▅▄▅▃▁▂▃▃▄</td></tr><tr><td>contradiction_scores-std-valid</td><td>▇▇█▇▄▁▂▅▅▅▆▆▄▆▄▇</td></tr><tr><td>contradiction_scores_mean</td><td>▇▄▆▅▄▂▂▇▄▅▄▄▃▁▅▆▅▄▁▄▃▁▃▆▅▄▁▅▅█▆▃▄▅▁▃▅▄▆▁</td></tr><tr><td>epoch</td><td>▁▁▁▁▂▂▂▂▂▃▃▃▃▃▄▄▄▄▄▅▅▅▅▅▆▆▆▆▆▇▇▇▇▇██████</td></tr><tr><td>global_step</td><td>▁▁▁▁▂▂▂▂▂▃▃▃▃▃▃▄▄▄▄▄▅▅▅▅▅▅▆▆▆▆▆▇▇▇▇▇▇███</td></tr><tr><td>gradient_norm</td><td>▂▁▂▂▁▁▄▄▂▁▄▂▂▂▃▂▂▁▃▂▄▄▂▂▁▄▁▃▄▂▃▄▃▂▂▄▂▂▃█</td></tr><tr><td>is_adv_example-mean-test</td><td>█▁</td></tr><tr><td>is_adv_example-mean-train</td><td>▁▃▃▄▅▇▅▇▇█▆▅▆▇▇█</td></tr><tr><td>is_adv_example-mean-valid</td><td>▆▅▁█▂▃▃▃▅▂▃▂▅▇▇▅</td></tr><tr><td>is_adv_example-std-test</td><td>█▁</td></tr><tr><td>is_adv_example-std-train</td><td>▁▄▃▄▅▇▅█▇█▆▅▆▇▇█</td></tr><tr><td>is_adv_example-std-valid</td><td>▆▅▁█▂▃▃▄▅▂▃▂▅▇▇▅</td></tr><tr><td>is_valid_pp-mean-test</td><td>▁█</td></tr><tr><td>is_valid_pp-mean-train</td><td>▁▃▄▃▆▇▇▇▆▆▇▇▇██▇</td></tr><tr><td>is_valid_pp-mean-valid</td><td>▂▁▃▅▆▆▇▆▇▅▅▇█▇█▆</td></tr><tr><td>is_valid_pp-std-test</td><td>▁█</td></tr><tr><td>is_valid_pp-std-train</td><td>▁▄▄▃▆▇▇▇▇▇▇▇▇███</td></tr><tr><td>is_valid_pp-std-valid</td><td>▃▁▄▅▆▆▇▆▇▆▆▇█▇█▇</td></tr><tr><td>kl_div</td><td>▂▂▂▂▁▄▂▁▂▂▃▁▂▂▂▃▂▂▇▁▁▃▂▂▁▂█▂▂▂▂▃▂▂▄▁▃▁▂▇</td></tr><tr><td>label_flip-mean-test</td><td>█▁</td></tr><tr><td>label_flip-mean-train</td><td>▇█▆▅▃▁▂▃▄▄▃▄▅▇▆▇</td></tr><tr><td>label_flip-mean-valid</td><td>█▇▆▅▃▃▁▄▅▃▃▄▅▆▅▆</td></tr><tr><td>label_flip-std-test</td><td>█▁</td></tr><tr><td>label_flip-std-train</td><td>▇█▆▆▃▁▂▃▅▄▃▄▅▇▆▇</td></tr><tr><td>label_flip-std-valid</td><td>█▇▇▅▄▄▁▄▅▃▄▅▅▆▅▆</td></tr><tr><td>label_flip_fraction</td><td>▆▆▆▂█▁▅▆▃▆▁▁▆▁▃▅▃▅▁▁▅▁▃▆▂▅▁▂▅▇▅▂▃▂▁▃▇▂▆▁</td></tr><tr><td>loss_batch</td><td>▂▂▃▄▁▁▆█▃▁▇▁▁▁▃▃▃▁▁▂▁▂▂▃▁▅▁▅▁▄▄▃▂▂▁▆▂▂▆▂</td></tr><tr><td>loss_sum</td><td>▂▂▂▄▁▁▆█▃▁▄▁▁▁▃▂▃▁▁▂▁▁▂▂▁▅▁▅▁▄▄▂▂▂▁▆▁▂▆▂</td></tr><tr><td>orig_batch_size</td><td>█████▁███████▁████▁██▁████▁███████▁████▁</td></tr><tr><td>orig_length</td><td>██▅█▅▁█▅██▅█▅▁█▅██▁█▅▁█▅█▅▁█▅██▅█▅▁█▅██▁</td></tr><tr><td>parameter_norm</td><td>▁▁▁▁▂▁▅▆▁▁▁▄▄▃▅▁▁▁▄▄▅▅▁▁▁▅▃▄▆▁▁▁▅▄▄▅▁▁▁█</td></tr><tr><td>pp_batch_size</td><td>█████▁███████▁████▁██▁████▁███████▁████▁</td></tr><tr><td>pp_length</td><td>▇▆▅▆▅▁▆▅▇▅▄▆▅▁▇▅█▆▂▆▅▂▅▄▆▅▁▇▅▇▆▆▇▆▁▆▅▇▅▁</td></tr><tr><td>pp_letter_diff-mean-test</td><td>█▁</td></tr><tr><td>pp_letter_diff-mean-train</td><td>█▇▆▅▃▂▂▂▂▂▂▂▂▁▁▁</td></tr><tr><td>pp_letter_diff-mean-valid</td><td>█▇▆▄▄▂▄▅▅▄▃▂▁▂▃▃</td></tr><tr><td>pp_letter_diff-std-test</td><td>█▁</td></tr><tr><td>pp_letter_diff-std-train</td><td>█▆▅▅▃▂▂▁▁▁▁▃▂▂▂▁</td></tr><tr><td>pp_letter_diff-std-valid</td><td>█▆▇▄▄▁▂▅▅▆▅▄▂▃▂▂</td></tr><tr><td>pp_letter_diff_mean</td><td>▇▅▃▇▄▂▆▃▄▄▁▅▃▃▄▂▇▁▄▆▄▂▄▂█▃▃▄▃▅▄▁▄▂▄▅▃▆▅▄</td></tr><tr><td>pp_letter_percent_mean</td><td>▄▄▅▄▄▆▄▆▅▅█▅▅▄▅▇▃▆▁▄▄▆▅▆▃▅▄▅▅▅▅▆▅▆▁▄▆▄▄▃</td></tr><tr><td>pp_logp_mean</td><td>▆▆▅▆▅▁▆▆▆▇▅▆▇▁▇▅▇▇▅▇▇▃▇▆█▆▃▇▇▇▆▅█▇▆▇▇▇█▄</td></tr><tr><td>rank_1_token_prob_0.25_quantile</td><td>▇▇▆▆▆▃▇▇▇▇▇▇█▃▇▇▇█▂█▇▅▇▇█▇▁▇██▇▆██▅█▇██▇</td></tr><tr><td>rank_1_token_prob_0.75_quantile</td><td>▇▇▆▇▆▅▇▇█▇▆▇▇▅▇▇█▇▁██▄▇▇█▇▄█▇█▇▇▇▇▇█▇██▅</td></tr><tr><td>rank_1_token_prob_mean</td><td>▇▇▅▆▆▁▇▆▇▇▆▇▇▃▇▆▇▇▁█▇▃▇▇█▇▁▇▇▇▇▅▇▇▅█▆██▄</td></tr><tr><td>rank_1_token_prob_median</td><td>▇▇▆▇▆▁▇▇█▇▇▇▇▅█▇▇▇▃█▇▅█▇█▇▂▇▇▇▇▆█▇▆█▇██▆</td></tr><tr><td>rank_2_token_prob_0.25_quantile</td><td>▄▄▆▄▅▇▅▅▄▅▆▄▄▇▄▆▃▄▇▄▄▇▄▅▂▅▇▄▄▃▅▅▄▄▇▄▅▁▃█</td></tr><tr><td>rank_2_token_prob_0.75_quantile</td><td>▂▃▇▅▆▄▄▅▄▅█▅▅▄▃▆▄▃▇▃▅▃▂▆▂▄▁▄▄▂▅▆▄▄▇▄▇▃▄▄</td></tr><tr><td>rank_2_token_prob_mean</td><td>▃▄▅▃▄█▄▄▃▃▅▃▃▅▂▄▂▃▆▃▃▅▃▄▁▃▆▃▃▂▄▄▃▂▆▃▄▁▃█</td></tr><tr><td>rank_2_token_prob_median</td><td>▃▃▆▃▅▆▄▄▃▄▆▃▃▆▂▅▃▃█▂▃▆▂▄▁▄▅▂▄▃▄▅▃▃▆▃▅▁▂▇</td></tr><tr><td>rank_3_token_prob_0.25_quantile</td><td>▁▇▁▁▁█▁▇▁▁▇▁▁▆▁▇▁▁█▁▁█▁▁▁▁█▁▁▁▇▄▁▁█▁▁▁▁█</td></tr><tr><td>rank_3_token_prob_0.75_quantile</td><td>▃▃▄▃▄▅▃▃▂▂▃▃▃▅▂▃▂▂▅▂▃▆▂▃▂▃█▂▃▂▃▄▂▂▅▂▃▁▂▆</td></tr><tr><td>rank_3_token_prob_mean</td><td>▃▄▄▃▄█▄▄▃▃▄▃▃▄▃▄▂▃▄▃▃▄▃▃▂▃▅▃▃▂▄▄▂▂▅▂▃▁▂▆</td></tr><tr><td>rank_3_token_prob_median</td><td>▄▄▅▄▅▇▄▄▃▃▅▃▃█▃▄▃▃▇▃▂█▃▃▂▃█▃▃▃▄▅▃▃▅▃▄▁▂▇</td></tr><tr><td>ref_logp_mean</td><td>▇▆▆▆▆▂▆▇▇▇▅▇▇▃▇▅▇▇▃▇▇▃▇▆█▆▁▇▇▇▆▅▇▇▅▇▇██▂</td></tr><tr><td>reward_penalty</td><td>▇▇▇▇█▅▇█▇▇▆█▇▇▇▆▇▇▂██▆▇▇█▇▁▇▇▇▇▆▇▇▅█▆█▇▂</td></tr><tr><td>reward_pp-mean-test</td><td>▁█</td></tr><tr><td>reward_pp-mean-train</td><td>▁▃▃▂▄▆▄▆▇█▇▇▆▆▇█</td></tr><tr><td>reward_pp-mean-valid</td><td>▃▂▁▆▅▄▆▆█▅▆▆█▇▇▅</td></tr><tr><td>reward_pp-std-test</td><td>▁█</td></tr><tr><td>reward_pp-std-train</td><td>▁▃▂▂▅▆▄▇▇█▆▆▆▇▇█</td></tr><tr><td>reward_pp-std-valid</td><td>▅▃▁▅▅▅▆▆█▆▇▆▇▇▇▅</td></tr><tr><td>reward_pp_mean</td><td>▂▂▂▄▁▁▅█▃▂▃▂▂▁▃▂▃▂▁▂▂▆▂▂▁▄▃▆▁▃▃▂▃▃▂▇▂▂▅▆</td></tr><tr><td>reward_pp_minus_baseline_mean</td><td>▂▂▂▃▁▁▅█▃▁▃▂▂▁▃▂▃▂▁▂▂▆▂▂▁▄▃▄▁▃▃▂▃▂▂▆▂▂▅▆</td></tr><tr><td>reward_pp_minus_baseline_with_penalty_mean</td><td>▂▂▂▃▁▁▅█▃▁▃▁▁▁▃▂▃▂▁▂▁▆▂▂▁▄▁▄▁▃▃▂▃▂▁▆▂▂▅▅</td></tr><tr><td>sts_scores-mean-test</td><td>▁█</td></tr><tr><td>sts_scores-mean-train</td><td>▁▂▃▄▅▆▆▇▆▇▇▇▇▇██</td></tr><tr><td>sts_scores-mean-valid</td><td>▁▂▄▄▆▆▇▇▆▇▆▇█▇██</td></tr><tr><td>sts_scores-std-test</td><td>█▁</td></tr><tr><td>sts_scores-std-train</td><td>█▇▆▆▆▅▄▃▃▂▂▃▂▂▂▁</td></tr><tr><td>sts_scores-std-valid</td><td>█▇▇▆▅▄▂▂▂▁▂▂▂▂▂▂</td></tr><tr><td>sts_scores_mean</td><td>▇▆▄▆▆▁▇▆▇▆▆▇▇▂▇▅▇█▃█▇▃█▅█▆▅█▇▆▇▅█▇▅█▅███</td></tr><tr><td>time/eval_empty_cache</td><td>█▂▂▃▃▄▂▆▃▆▂▁▁▂▄</td></tr><tr><td>time/eval_gc_collect</td><td>▅▁▂▂▁▂▃▂█▂▂▂▂▃▃</td></tr><tr><td>time/eval_train_thoroughput</td><td>▅▅▆▃▅▇██▅▂▄▂▁▂▃</td></tr><tr><td>time/eval_train_time</td><td>▄▄▃▆▄▂▁▁▃▇▅▇█▇▆</td></tr><tr><td>time/eval_valid_thoroughput</td><td>██▁██▁█▁███▁▇█▇</td></tr><tr><td>time/eval_valid_time</td><td>▁▁█▁▁█▁█▁▁▁█▁▁▂</td></tr><tr><td>time/train_one_epoch_thoroughput</td><td>▇▆▂▇▇▆▁▆▇▇▄▄▃▂█</td></tr><tr><td>time/train_one_epoch_time</td><td>▂▃▇▂▂▃█▃▂▂▅▅▆▇▁</td></tr><tr><td>time_acceptability_scores</td><td>▄▂▃▃▃▁▄▃▄▄▂▃▂▁▄▂▅▄▁▃▂▁▂▃▃▂▁▃▃▃▃▃▄█▃▂▅▄▄▁</td></tr><tr><td>time_backwards</td><td>▆▅▅▇▅▁▆▅▇▅▄▆▅▁▆▅█▆▂▆▅▂▅▄▆▅▁▇▆▇▆▆▇▆▁▆▆▇▆▁</td></tr><tr><td>time_calc_gradient_norm</td><td>▄▆▃▅▃▁▃▃▄▆▃▅▃▁▆▃▅▅▁▆▃▁▆▃█▅▁▃▂▄▄▂▅▂▁▅▂▅▃▁</td></tr><tr><td>time_contradiction_scores</td><td>▃▃▃█▃▃▄▅▄▃▅▃▂▁▃▃▃▄▁▄▄▂▂▃▃▅▁▅▃▄▅▃▅▇▂▆▄▄▂▂</td></tr><tr><td>time_generate_pp</td><td>▆▄▄▆▄▁▄▄▇▄▃▄▄▁▅▄█▅▂▄▄▂▄▃▆▄▁▅▄▇▄▄▅▄▁▄▄▇▄▁</td></tr><tr><td>time_log_entropy</td><td>▇▆▅▇▅▁▆▆▇▅▅▆▄▁▆▅█▇▁▆▅▁▅▄▆▅▁▇▅▇▅▆▇▅▁▅▅▇▅▁</td></tr><tr><td>time_log_token_probabilities</td><td>▇▅▅▇▅▁▆▆▇▅▅▆▅▂▆▅█▆▁▆█▁▅▄▆▅▁▆▅▇▅▅▆▅▁▆▅▇▆▃</td></tr><tr><td>time_loss_fn</td><td>▆▅▄▆▄▁▆▄▇▅▄▆▄▁▆▄█▆▂▅▄▂▄▃▆▄▁▆▄▇▅▄▇▅▁▅▄▇▅▁</td></tr><tr><td>time_loss_fn_loss_calc</td><td>▂▁▂▂▂▂█▅▂▂▂▂▅▂▂▃▂▃▃▃▃▂▁▁▅▁▃▂▁▇▁▃▃▁▃▂▂▂▂▃</td></tr><tr><td>time_opt_step</td><td>▁▁▁▁▇▇▇▇▁▁▁▇▇▇▇▁▁▁▇▇▇▇▁▁▁▇▇█▇▁▁▁▇▇▇▇▁▁▁▇</td></tr><tr><td>time_opt_step_and_calc_param_norm</td><td>▁▁▁▁█▇▇▇▁▁▁▇▇█▇▁▁▁█▇█▇▁▁▁▇▇█▇▁▁▁▇▇▇█▁▁▁▇</td></tr><tr><td>time_pp_letter_diff</td><td>▂▂█▂▂▁▂▄▂▂▂▂▂▂▂▂▂▂▂▂▃▁▂▂▂▂▁▂▃▂▂▂▂▃▂▄▄▂▂▁</td></tr><tr><td>time_pp_logp</td><td>▆▅▅▆▅▁▆▅▇▅▅▅▄▁▆▅█▆▁▅▅▁▄▄▆▅▁▆▅▇▅▅▆▅▁▅▅▇▅▂</td></tr><tr><td>time_ref_logprobs</td><td>▆▅▄▆▄▁▆▄▇▅▃▆▄▁▆▄█▆▂▅▄▂▄▃▆▄▁▆▄▇▅▄▆▅▁▅▄▆▅▁</td></tr><tr><td>time_reward_fn</td><td>▅▅▄▆▃▄▄▅▅▆▅▄▄▁▃▃▄▄▂▄▄▁▄▃▅▄▁▄▄█▅▃▅█▂▆▅▅▄▁</td></tr><tr><td>time_sts_scores</td><td>▃▃▂▃▂▅▂▂▄▃▂▃▄▁▁▂▃▂▄▃▂▁▃▃▃▂▁▃▃█▃▃▃▅▁▄▄▃▄▁</td></tr><tr><td>time_vm_scores</td><td>▃▇▄▆▃▄▂▃▄█▆▃▅▁▃▄▂▄▁▄▃▁▃▂▆▃▁▂▃▆▅▂▅▄▂▄▂▃▃▁</td></tr><tr><td>top_token_prob_over_0.1</td><td>▆█▄▄██▄▃███▆████▄▆█▆▂█▆▄▆▅█▆█▃▆▁███▆█▆██</td></tr><tr><td>top_token_prob_over_0.3</td><td>▇▇▇▇▇▁█▇▇▇▇▇█▅█▇▇█▄██▆█▇██▄▇▇█▇▇██▅█▇██▆</td></tr><tr><td>top_token_prob_over_0.5</td><td>▇▇▅▆▆▁▇▆▇▇▅▇▇▅▇▆▇▇▁█▇▃▇▆█▆▁▇▇▇▆▅▇▇▄█▆██▃</td></tr><tr><td>top_token_prob_over_0.75</td><td>▆▆▄▆▅▁▆▆▇▆▄▆▆▃▇▅▇▇▂▇▇▃▇▆█▆▃▇▇▇▆▅▇▇▄▇▅██▁</td></tr><tr><td>top_token_prob_over_0.9</td><td>▆▅▄▆▅▁▅▅▆▆▄▆▆▅▆▄▇▆▂▆▇▅▆▆█▅▆▆▆▇▅▅▆▆▄▇▅█▇▁</td></tr><tr><td>top_token_prob_over_0.95</td><td>▆▅▄▆▅▁▅▅▆▆▅▆▆▄▆▄▆▆▄▆▆▃▆▅█▅▄▆▆▇▆▅▇▆▃▆▅█▇▁</td></tr><tr><td>top_token_prob_over_0.975</td><td>▆▅▄▆▅▁▅▅▆▆▄▆▆▄▆▄▇▆▃▆▆▃▆▅█▆▅▆▇▇▅▅▆▇▄▆▅█▇▁</td></tr><tr><td>top_token_prob_over_0.99</td><td>▆▅▅▆▅▁▅▅▆▆▄▆▆▅▆▅▇▆▃▆▆▄▆▅█▆▅▆▆▇▅▅▆▇▃▆▅█▆▁</td></tr><tr><td>vm_scores-mean-test</td><td>█▁</td></tr><tr><td>vm_scores-mean-train</td><td>█▇▆▅▃▁▂▃▄▅▃▅▆▆▆▆</td></tr><tr><td>vm_scores-mean-valid</td><td>██▇▆▄▃▁▅▄▅▅▆▄▅▄▆</td></tr><tr><td>vm_scores-std-test</td><td>█▁</td></tr><tr><td>vm_scores-std-train</td><td>███▆▅▁▃▃▅▅▃▅▆▆▇▆</td></tr><tr><td>vm_scores-std-valid</td><td>█▇▆▄▅▃▁▃▃▃▄▄▂▄▄▃</td></tr><tr><td>vm_scores_mean</td><td>▆██▄▇▁▆▇▃▆▄▂▆▃▄▆▄▄▅▂▅▄▃▆▂▅▂▃▄█▆▅▄▃▂▄█▃▆▄</td></tr></table><br/></div><div class=\"wandb-col\">\n",
       "<h3>Run summary:</h3><br/><table class=\"wandb\"><tr><td>%_of_tokens_above_prob_1/vocab_size</td><td>1.0</td></tr><tr><td>%_of_tokens_above_prob_1e-05</td><td>1.0</td></tr><tr><td>%_of_tokens_above_prob_1e-06</td><td>1.0</td></tr><tr><td>%_of_tokens_above_prob_1e-07</td><td>1.0</td></tr><tr><td>%_of_tokens_above_prob_1e-08</td><td>1.0</td></tr><tr><td>%_of_tokens_above_prob_1e-09</td><td>1.0</td></tr><tr><td>acc_batch_n_examples</td><td>35</td></tr><tr><td>acc_num</td><td>1</td></tr><tr><td>acceptability_scores-mean-test</td><td>0.67215</td></tr><tr><td>acceptability_scores-mean-train</td><td>0.61854</td></tr><tr><td>acceptability_scores-mean-valid</td><td>0.57413</td></tr><tr><td>acceptability_scores-std-test</td><td>0.19817</td></tr><tr><td>acceptability_scores-std-train</td><td>0.23844</td></tr><tr><td>acceptability_scores-std-valid</td><td>0.29081</td></tr><tr><td>acceptability_scores_mean</td><td>0.73822</td></tr><tr><td>any_adv_example_proportion-test</td><td>0.09524</td></tr><tr><td>any_adv_example_proportion-train</td><td>0.19632</td></tr><tr><td>any_adv_example_proportion-valid</td><td>0.25</td></tr><tr><td>batch_num</td><td>5</td></tr><tr><td>contradiction_scores-mean-test</td><td>0.05209</td></tr><tr><td>contradiction_scores-mean-train</td><td>0.07362</td></tr><tr><td>contradiction_scores-mean-valid</td><td>0.07394</td></tr><tr><td>contradiction_scores-std-test</td><td>0.1555</td></tr><tr><td>contradiction_scores-std-train</td><td>0.18906</td></tr><tr><td>contradiction_scores-std-valid</td><td>0.19943</td></tr><tr><td>contradiction_scores_mean</td><td>0.00372</td></tr><tr><td>epoch</td><td>15</td></tr><tr><td>global_step</td><td>89</td></tr><tr><td>gradient_norm</td><td>1.10568</td></tr><tr><td>is_adv_example-mean-test</td><td>0.00298</td></tr><tr><td>is_adv_example-mean-train</td><td>0.02051</td></tr><tr><td>is_adv_example-mean-valid</td><td>0.03125</td></tr><tr><td>is_adv_example-std-test</td><td>0.05451</td></tr><tr><td>is_adv_example-std-train</td><td>0.14176</td></tr><tr><td>is_adv_example-std-valid</td><td>0.17413</td></tr><tr><td>is_valid_pp-mean-test</td><td>0.49405</td></tr><tr><td>is_valid_pp-mean-train</td><td>0.41411</td></tr><tr><td>is_valid_pp-mean-valid</td><td>0.35</td></tr><tr><td>is_valid_pp-std-test</td><td>0.50034</td></tr><tr><td>is_valid_pp-std-train</td><td>0.49261</td></tr><tr><td>is_valid_pp-std-valid</td><td>0.47734</td></tr><tr><td>kl_div</td><td>0.95415</td></tr><tr><td>label_flip-mean-test</td><td>0.02679</td></tr><tr><td>label_flip-mean-train</td><td>0.08896</td></tr><tr><td>label_flip-mean-valid</td><td>0.125</td></tr><tr><td>label_flip-std-test</td><td>0.16158</td></tr><tr><td>label_flip-std-train</td><td>0.28471</td></tr><tr><td>label_flip-std-valid</td><td>0.33098</td></tr><tr><td>label_flip_fraction</td><td>0.0</td></tr><tr><td>loss_batch</td><td>0.03115</td></tr><tr><td>loss_sum</td><td>1.0901</td></tr><tr><td>orig_batch_size</td><td>3</td></tr><tr><td>orig_length</td><td>16</td></tr><tr><td>parameter_norm</td><td>1.05151</td></tr><tr><td>pp_batch_size</td><td>3</td></tr><tr><td>pp_length</td><td>8</td></tr><tr><td>pp_letter_diff-mean-test</td><td>9.2872</td></tr><tr><td>pp_letter_diff-mean-train</td><td>8.44728</td></tr><tr><td>pp_letter_diff-mean-valid</td><td>8.84219</td></tr><tr><td>pp_letter_diff-std-test</td><td>11.33421</td></tr><tr><td>pp_letter_diff-std-train</td><td>11.07544</td></tr><tr><td>pp_letter_diff-std-valid</td><td>12.65709</td></tr><tr><td>pp_letter_diff_mean</td><td>2.66667</td></tr><tr><td>pp_letter_percent_mean</td><td>0.85051</td></tr><tr><td>pp_logp_mean</td><td>-1.39634</td></tr><tr><td>rank_1_token_prob_0.25_quantile</td><td>-0.80564</td></tr><tr><td>rank_1_token_prob_0.75_quantile</td><td>-0.31443</td></tr><tr><td>rank_1_token_prob_mean</td><td>-0.73353</td></tr><tr><td>rank_1_token_prob_median</td><td>-0.56549</td></tr><tr><td>rank_2_token_prob_0.25_quantile</td><td>-2.22732</td></tr><tr><td>rank_2_token_prob_0.75_quantile</td><td>-1.69685</td></tr><tr><td>rank_2_token_prob_mean</td><td>-2.00993</td></tr><tr><td>rank_2_token_prob_median</td><td>-1.94368</td></tr><tr><td>rank_3_token_prob_0.25_quantile</td><td>-3.46037</td></tr><tr><td>rank_3_token_prob_0.75_quantile</td><td>-2.18019</td></tr><tr><td>rank_3_token_prob_mean</td><td>-5.63577</td></tr><tr><td>rank_3_token_prob_median</td><td>-2.73468</td></tr><tr><td>ref_logp_mean</td><td>-2.35048</td></tr><tr><td>reward_penalty</td><td>-0.23854</td></tr><tr><td>reward_pp-mean-test</td><td>0.16606</td></tr><tr><td>reward_pp-mean-train</td><td>0.20223</td></tr><tr><td>reward_pp-mean-valid</td><td>0.24347</td></tr><tr><td>reward_pp-std-test</td><td>0.4742</td></tr><tr><td>reward_pp-std-train</td><td>0.66901</td></tr><tr><td>reward_pp-std-valid</td><td>0.73904</td></tr><tr><td>reward_pp_mean</td><td>0.36582</td></tr><tr><td>reward_pp_minus_baseline_mean</td><td>0.35139</td></tr><tr><td>reward_pp_minus_baseline_with_penalty_mean</td><td>0.27188</td></tr><tr><td>sts_scores-mean-test</td><td>0.8217</td></tr><tr><td>sts_scores-mean-train</td><td>0.8256</td></tr><tr><td>sts_scores-mean-valid</td><td>0.81678</td></tr><tr><td>sts_scores-std-test</td><td>0.13803</td></tr><tr><td>sts_scores-std-train</td><td>0.13137</td></tr><tr><td>sts_scores-std-valid</td><td>0.15003</td></tr><tr><td>sts_scores_mean</td><td>0.85447</td></tr><tr><td>time/eval_empty_cache</td><td>0.18167</td></tr><tr><td>time/eval_gc_collect</td><td>0.35134</td></tr><tr><td>time/eval_train_thoroughput</td><td>3.07472</td></tr><tr><td>time/eval_train_time</td><td>53.01304</td></tr><tr><td>time/eval_valid_thoroughput</td><td>2.30313</td></tr><tr><td>time/eval_valid_time</td><td>8.68385</td></tr><tr><td>time/train_one_epoch_thoroughput</td><td>8.72768</td></tr><tr><td>time/train_one_epoch_time</td><td>18.67621</td></tr><tr><td>time_acceptability_scores</td><td>0.01059</td></tr><tr><td>time_backwards</td><td>0.19911</td></tr><tr><td>time_calc_gradient_norm</td><td>0.01621</td></tr><tr><td>time_contradiction_scores</td><td>0.01525</td></tr><tr><td>time_generate_pp</td><td>0.17186</td></tr><tr><td>time_log_entropy</td><td>0.00205</td></tr><tr><td>time_log_token_probabilities</td><td>0.0071</td></tr><tr><td>time_loss_fn</td><td>0.33193</td></tr><tr><td>time_loss_fn_loss_calc</td><td>8e-05</td></tr><tr><td>time_opt_step</td><td>0.02946</td></tr><tr><td>time_opt_step_and_calc_param_norm</td><td>0.06848</td></tr><tr><td>time_pp_letter_diff</td><td>0.0001</td></tr><tr><td>time_pp_logp</td><td>0.01188</td></tr><tr><td>time_ref_logprobs</td><td>0.2708</td></tr><tr><td>time_reward_fn</td><td>0.04865</td></tr><tr><td>time_sts_scores</td><td>0.01406</td></tr><tr><td>time_vm_scores</td><td>0.00787</td></tr><tr><td>top_token_prob_over_0.1</td><td>1.0</td></tr><tr><td>top_token_prob_over_0.3</td><td>0.82353</td></tr><tr><td>top_token_prob_over_0.5</td><td>0.52941</td></tr><tr><td>top_token_prob_over_0.75</td><td>0.17647</td></tr><tr><td>top_token_prob_over_0.9</td><td>0.05882</td></tr><tr><td>top_token_prob_over_0.95</td><td>0.0</td></tr><tr><td>top_token_prob_over_0.975</td><td>0.0</td></tr><tr><td>top_token_prob_over_0.99</td><td>0.0</td></tr><tr><td>vm_scores-mean-test</td><td>0.04566</td></tr><tr><td>vm_scores-mean-train</td><td>0.07575</td></tr><tr><td>vm_scores-mean-valid</td><td>0.07979</td></tr><tr><td>vm_scores-std-test</td><td>0.11239</td></tr><tr><td>vm_scores-std-train</td><td>0.17452</td></tr><tr><td>vm_scores-std-valid</td><td>0.17145</td></tr><tr><td>vm_scores_mean</td><td>0.0499</td></tr></table>\n",
       "</div></div>\n",
       "Synced 6 W&B file(s), 18 media file(s), 13 artifact file(s) and 1 other file(s)\n",
       "<br/>Synced <strong style=\"color:#cdcd00\">divine-violet-173</strong>: <a href=\"https://wandb.ai/uts_nlp/travis_attack/runs/z57qc4ea\" target=\"_blank\">https://wandb.ai/uts_nlp/travis_attack/runs/z57qc4ea</a><br/>\n",
       "Find logs at: <code>./wandb/run-20220606_152014-z57qc4ea/logs</code><br/>\n"
      ],
      "text/plain": [
       "<IPython.core.display.HTML object>"
      ]
     },
     "metadata": {},
     "output_type": "display_data"
    }
   ],
   "source": [
    "df_d = get_training_dfs(cfg.path_run, postprocessed=False)\n",
    "for k, df in df_d.items(): \n",
    "    df_d[k] = postprocess_df(df, filter_idx=None, num_proc=1)\n",
    "    df_d[k].to_pickle(f\"{cfg.path_run}{k}_postprocessed.pkl\")    \n",
    "create_and_log_wandb_postrun_plots(df_d)\n",
    "trainer.run.finish()\n",
    "#run.finish()"
   ]
  },
  {
   "cell_type": "code",
   "execution_count": null,
   "metadata": {},
   "outputs": [],
   "source": []
  }
 ],
 "metadata": {
  "kernelspec": {
   "display_name": "Python 3",
   "language": "python",
   "name": "python3"
  }
 },
 "nbformat": 4,
 "nbformat_minor": 4
}
