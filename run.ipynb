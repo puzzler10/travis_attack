{
 "cells": [
  {
   "cell_type": "code",
   "execution_count": null,
   "metadata": {},
   "outputs": [],
   "source": [
    "%load_ext autoreload\n",
    "%autoreload 2\n",
    "%load_ext line_profiler"
   ]
  },
  {
   "cell_type": "code",
   "execution_count": null,
   "metadata": {},
   "outputs": [],
   "source": [
    "## Imports and environment variables \n",
    "import os\n",
    "os.environ[\"TOKENIZERS_PARALLELISM\"]  = \"true\"  # set to false if not working\n",
    "\n",
    "\n",
    "from travis_attack.config import Config\n",
    "\n"
   ]
  },
  {
   "cell_type": "code",
   "execution_count": null,
   "metadata": {},
   "outputs": [],
   "source": [
    "cfg = Config().simple_dataset()"
   ]
  },
  {
   "cell_type": "code",
   "execution_count": null,
   "metadata": {},
   "outputs": [
    {
     "data": {
      "text/plain": [
       "{'pp_name': 'eugenesiow/bart-paraphrase',\n",
       " 'vm_name': 'textattack/distilbert-base-uncased-rotten-tomatoes',\n",
       " 'sts_name': 'sentence-transformers/paraphrase-multilingual-MiniLM-L12-v2',\n",
       " 'dataset_name': 'simple_dataset',\n",
       " 'seed': 420,\n",
       " 'use_fp16': True,\n",
       " 'lr': 1e-05,\n",
       " 'normalise_rewards': False,\n",
       " 'metrics': ['loss',\n",
       "  'pp_logp',\n",
       "  'reward',\n",
       "  'vm_score',\n",
       "  'sts_score',\n",
       "  'label_flip'],\n",
       " 'pin_memory': True,\n",
       " 'zero_grad_with_none': False,\n",
       " 'pad_token_embeddings': True,\n",
       " 'padding_multiple': 8,\n",
       " 'bucket_by_length': True,\n",
       " 'shuffle_train': False,\n",
       " 'remove_misclassified_examples': True,\n",
       " 'pp': {'num_beams': 1,\n",
       "  'num_return_sequences': 1,\n",
       "  'num_beam_groups': 1,\n",
       "  'diversity_penalty': 0.0,\n",
       "  'temperature': 1.5,\n",
       "  'length_penalty': 1,\n",
       "  'min_length': 5,\n",
       "  'max_length': 20},\n",
       " 'use_small_ds': False,\n",
       " 'n_shards': None,\n",
       " 'shard_contiguous': None,\n",
       " 'save_model_while_training': False,\n",
       " 'save_model_freq': 10,\n",
       " 'wandb': {'mode': 'online',\n",
       "  'log_grads': False,\n",
       "  'log_grads_freq': 1,\n",
       "  'plot_examples': False,\n",
       "  'n_examples_plot': 4,\n",
       "  'log_training_step_table': True,\n",
       "  'log_token_entropy': True,\n",
       "  'log_token_probabilities': True},\n",
       " 'sampling_strategy': 'greedy',\n",
       " 'reward_strategy': '[-0.5 if sts < 0.5 else 0.5+v*sts for v,sts in zip(vm_scores, sts_scores)]',\n",
       " 'n_layers_frozen': '2',\n",
       " 'orig_max_length': 20,\n",
       " 'batch_size_train': 2,\n",
       " 'batch_size_eval': 4,\n",
       " 'accumulation_steps': 1,\n",
       " 'eval_freq': 10,\n",
       " 'n_train_epochs': 60}"
      ]
     },
     "execution_count": null,
     "metadata": {},
     "output_type": "execute_result"
    }
   ],
   "source": [
    "vars(cfg)"
   ]
  },
  {
   "cell_type": "code",
   "execution_count": null,
   "metadata": {},
   "outputs": [],
   "source": []
  }
 ],
 "metadata": {
  "kernelspec": {
   "display_name": "Python 3",
   "language": "python",
   "name": "python3"
  }
 },
 "nbformat": 4,
 "nbformat_minor": 4
}
