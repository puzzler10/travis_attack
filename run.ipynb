{
 "cells": [
  {
   "cell_type": "code",
   "execution_count": null,
   "metadata": {},
   "outputs": [],
   "source": [
    "%load_ext autoreload\n",
    "%autoreload 2\n",
    "%load_ext line_profiler"
   ]
  },
  {
   "cell_type": "code",
   "execution_count": null,
   "metadata": {},
   "outputs": [],
   "source": [
    "## Imports and environment variables \n",
    "import os\n",
    "import torch\n",
    "\n",
    "from travis_attack.utils import set_seed, set_session_options, setup_logging, resume_wandb_run, display_all\n",
    "from travis_attack.config import Config\n",
    "from travis_attack.models import prepare_models, get_optimizer\n",
    "from travis_attack.data import ProcessedDataset\n",
    "from travis_attack.trainer import Trainer\n",
    "from travis_attack.insights import (postprocess_df, create_and_log_wandb_postrun_plots, get_training_dfs)"
   ]
  },
  {
   "cell_type": "code",
   "execution_count": null,
   "metadata": {},
   "outputs": [],
   "source": [
    "import logging \n",
    "logger = logging.getLogger(\"run\")"
   ]
  },
  {
   "cell_type": "code",
   "execution_count": null,
   "metadata": {},
   "outputs": [
    {
     "name": "stdout",
     "output_type": "stream",
     "text": [
      "Converted 00_utils.ipynb.\n",
      "Converted 02_tests.ipynb.\n",
      "Converted 03_config.ipynb.\n",
      "Converted 07_models.ipynb.\n",
      "Converted 10_data.ipynb.\n",
      "Converted 20_trainer.ipynb.\n",
      "Converted 25_insights.ipynb.\n",
      "Converted index.ipynb.\n",
      "Converted run.ipynb.\n",
      "Converted show_examples.ipynb.\n"
     ]
    }
   ],
   "source": [
    "#hide\n",
    "from nbdev.export import notebook2script\n",
    "notebook2script()"
   ]
  },
  {
   "cell_type": "code",
   "execution_count": null,
   "metadata": {},
   "outputs": [
    {
     "name": "stderr",
     "output_type": "stream",
     "text": [
      "sentence_transformers.SentenceTransformer: INFO     Load pretrained SentenceTransformer: sentence-transformers/paraphrase-multilingual-MiniLM-L12-v2\n",
      "sentence_transformers.SentenceTransformer: INFO     Did not find folder sentence-transformers/paraphrase-multilingual-MiniLM-L12-v2\n",
      "sentence_transformers.SentenceTransformer: INFO     Search model on server: http://sbert.net/models/sentence-transformers/paraphrase-multilingual-MiniLM-L12-v2.zip\n",
      "sentence_transformers.SentenceTransformer: INFO     Load SentenceTransformer from folder: /home/tproth/.cache/torch/sentence_transformers/sbert.net_models_sentence-transformers_paraphrase-multilingual-MiniLM-L12-v2\n",
      "sentence_transformers.SentenceTransformer: INFO     Use pytorch device: cuda\n",
      "travis_attack.data: INFO     Will load dataset rotten_tomatoes with use_small_ds set to True\n",
      "datasets.builder: WARNING  Using custom data configuration default\n",
      "datasets.builder: WARNING  Reusing dataset rotten_tomatoes_movie_review (/data/tproth/.cache/huggingface/datasets/rotten_tomatoes_movie_review/default/1.0.0/40d411e45a6ce3484deed7cc15b82a53dad9a72aafd9f86f8f227134bec5ca46)\n"
     ]
    },
    {
     "data": {
      "application/vnd.jupyter.widget-view+json": {
       "model_id": "e3c951b23e4a4871afec333380d01f3d",
       "version_major": 2,
       "version_minor": 0
      },
      "text/plain": [
       "  0%|          | 0/3 [00:00<?, ?it/s]"
      ]
     },
     "metadata": {},
     "output_type": "display_data"
    },
    {
     "name": "stderr",
     "output_type": "stream",
     "text": [
      "datasets.fingerprint: WARNING  Parameter 'function'=<function ProcessedDataset._add_idx at 0x2aec0eeabb80> of the transform datasets.arrow_dataset.Dataset._map_single couldn't be hashed properly, a random hash was used instead. Make sure your transforms and parameters are serializable with pickle or dill for the dataset fingerprinting and caching to work. If you reuse this transform, the caching mechanism will consider it to be different from the previous calls and recompute everything. This warning is only showed once. Subsequent hashing failures won't be showed.\n"
     ]
    },
    {
     "data": {
      "application/vnd.jupyter.widget-view+json": {
       "model_id": "f0f3b16566eb4cc58279a708e55b172e",
       "version_major": 2,
       "version_minor": 0
      },
      "text/plain": [
       "  0%|          | 0/9 [00:00<?, ?ba/s]"
      ]
     },
     "metadata": {},
     "output_type": "display_data"
    },
    {
     "data": {
      "application/vnd.jupyter.widget-view+json": {
       "model_id": "2b9cee9c2f3f41d5b8c61bb2a34e2364",
       "version_major": 2,
       "version_minor": 0
      },
      "text/plain": [
       "  0%|          | 0/2 [00:00<?, ?ba/s]"
      ]
     },
     "metadata": {},
     "output_type": "display_data"
    },
    {
     "data": {
      "application/vnd.jupyter.widget-view+json": {
       "model_id": "b0e494a97ca7405fa5dc465a31c601a5",
       "version_major": 2,
       "version_minor": 0
      },
      "text/plain": [
       "  0%|          | 0/2 [00:00<?, ?ba/s]"
      ]
     },
     "metadata": {},
     "output_type": "display_data"
    },
    {
     "data": {
      "application/vnd.jupyter.widget-view+json": {
       "model_id": "485355861fec4b0aa5c9d5bc6da75a66",
       "version_major": 2,
       "version_minor": 0
      },
      "text/plain": [
       "  0%|          | 0/1 [00:00<?, ?ba/s]"
      ]
     },
     "metadata": {},
     "output_type": "display_data"
    },
    {
     "data": {
      "application/vnd.jupyter.widget-view+json": {
       "model_id": "60dbe56a373c4d3bad9ba7cc457ae99b",
       "version_major": 2,
       "version_minor": 0
      },
      "text/plain": [
       "  0%|          | 0/1 [00:00<?, ?ba/s]"
      ]
     },
     "metadata": {},
     "output_type": "display_data"
    },
    {
     "data": {
      "application/vnd.jupyter.widget-view+json": {
       "model_id": "ecbf429f41d2463ca96eb4a9c787431e",
       "version_major": 2,
       "version_minor": 0
      },
      "text/plain": [
       "  0%|          | 0/1 [00:00<?, ?ba/s]"
      ]
     },
     "metadata": {},
     "output_type": "display_data"
    },
    {
     "data": {
      "application/vnd.jupyter.widget-view+json": {
       "model_id": "c033bab4f7b94a09bc7c875a410f2dfb",
       "version_major": 2,
       "version_minor": 0
      },
      "text/plain": [
       "  0%|          | 0/1 [00:00<?, ?ba/s]"
      ]
     },
     "metadata": {},
     "output_type": "display_data"
    },
    {
     "data": {
      "application/vnd.jupyter.widget-view+json": {
       "model_id": "63de4f391a86430cb0b7b5a0c3e79633",
       "version_major": 2,
       "version_minor": 0
      },
      "text/plain": [
       "  0%|          | 0/1 [00:00<?, ?ba/s]"
      ]
     },
     "metadata": {},
     "output_type": "display_data"
    },
    {
     "data": {
      "application/vnd.jupyter.widget-view+json": {
       "model_id": "4c2abea8656446939e26186bccbe0454",
       "version_major": 2,
       "version_minor": 0
      },
      "text/plain": [
       "  0%|          | 0/1 [00:00<?, ?ba/s]"
      ]
     },
     "metadata": {},
     "output_type": "display_data"
    },
    {
     "data": {
      "application/vnd.jupyter.widget-view+json": {
       "model_id": "2a790bf6fa634a3cbbac5bd695c4d802",
       "version_major": 2,
       "version_minor": 0
      },
      "text/plain": [
       "  0%|          | 0/1 [00:00<?, ?ba/s]"
      ]
     },
     "metadata": {},
     "output_type": "display_data"
    },
    {
     "data": {
      "application/vnd.jupyter.widget-view+json": {
       "model_id": "9df1041d8a9f4484851d858db17702fb",
       "version_major": 2,
       "version_minor": 0
      },
      "text/plain": [
       "Batches:   0%|          | 0/1 [00:00<?, ?it/s]"
      ]
     },
     "metadata": {},
     "output_type": "display_data"
    },
    {
     "data": {
      "application/vnd.jupyter.widget-view+json": {
       "model_id": "6dfb1b67716645f285dfd0bb4d62726a",
       "version_major": 2,
       "version_minor": 0
      },
      "text/plain": [
       "  0%|          | 0/1 [00:00<?, ?ba/s]"
      ]
     },
     "metadata": {},
     "output_type": "display_data"
    },
    {
     "data": {
      "application/vnd.jupyter.widget-view+json": {
       "model_id": "dc598efa16e54935beb1c92ca643033f",
       "version_major": 2,
       "version_minor": 0
      },
      "text/plain": [
       "Batches:   0%|          | 0/1 [00:00<?, ?it/s]"
      ]
     },
     "metadata": {},
     "output_type": "display_data"
    },
    {
     "data": {
      "application/vnd.jupyter.widget-view+json": {
       "model_id": "e16c05dab5d849509ad3a2de80e21c73",
       "version_major": 2,
       "version_minor": 0
      },
      "text/plain": [
       "  0%|          | 0/1 [00:00<?, ?ba/s]"
      ]
     },
     "metadata": {},
     "output_type": "display_data"
    },
    {
     "data": {
      "application/vnd.jupyter.widget-view+json": {
       "model_id": "6bc775a3db5a41678af447f9261cc140",
       "version_major": 2,
       "version_minor": 0
      },
      "text/plain": [
       "Batches:   0%|          | 0/1 [00:00<?, ?it/s]"
      ]
     },
     "metadata": {},
     "output_type": "display_data"
    },
    {
     "data": {
      "application/vnd.jupyter.widget-view+json": {
       "model_id": "a314c28eec934e11a56b000a77efb1c0",
       "version_major": 2,
       "version_minor": 0
      },
      "text/plain": [
       "  0%|          | 0/1 [00:00<?, ?ba/s]"
      ]
     },
     "metadata": {},
     "output_type": "display_data"
    },
    {
     "data": {
      "application/vnd.jupyter.widget-view+json": {
       "model_id": "71f34ae532ac468d870bb0e07f1e80ac",
       "version_major": 2,
       "version_minor": 0
      },
      "text/plain": [
       "  0%|          | 0/1 [00:00<?, ?ba/s]"
      ]
     },
     "metadata": {},
     "output_type": "display_data"
    },
    {
     "data": {
      "application/vnd.jupyter.widget-view+json": {
       "model_id": "86de5af97e5b4b19b54cfc97927c4c83",
       "version_major": 2,
       "version_minor": 0
      },
      "text/plain": [
       "  0%|          | 0/1 [00:00<?, ?ba/s]"
      ]
     },
     "metadata": {},
     "output_type": "display_data"
    },
    {
     "data": {
      "application/vnd.jupyter.widget-view+json": {
       "model_id": "a2e7029626a94f23a7c9b9dd9e080641",
       "version_major": 2,
       "version_minor": 0
      },
      "text/plain": [
       "  0%|          | 0/1 [00:00<?, ?ba/s]"
      ]
     },
     "metadata": {},
     "output_type": "display_data"
    },
    {
     "data": {
      "application/vnd.jupyter.widget-view+json": {
       "model_id": "23fb4674648146ae922858ff740da254",
       "version_major": 2,
       "version_minor": 0
      },
      "text/plain": [
       "  0%|          | 0/1 [00:00<?, ?ba/s]"
      ]
     },
     "metadata": {},
     "output_type": "display_data"
    },
    {
     "data": {
      "application/vnd.jupyter.widget-view+json": {
       "model_id": "395b42bc6e9e4cad972f4142152787c3",
       "version_major": 2,
       "version_minor": 0
      },
      "text/plain": [
       "  0%|          | 0/1 [00:00<?, ?ba/s]"
      ]
     },
     "metadata": {},
     "output_type": "display_data"
    },
    {
     "data": {
      "application/vnd.jupyter.widget-view+json": {
       "model_id": "bf1bf11f5d1a4067b0fb9f3fdee491ea",
       "version_major": 2,
       "version_minor": 0
      },
      "text/plain": [
       "  0%|          | 0/1 [00:00<?, ?ba/s]"
      ]
     },
     "metadata": {},
     "output_type": "display_data"
    },
    {
     "data": {
      "application/vnd.jupyter.widget-view+json": {
       "model_id": "223ea492cefb4f35a0f724abd493f6d8",
       "version_major": 2,
       "version_minor": 0
      },
      "text/plain": [
       "  0%|          | 0/1 [00:00<?, ?ba/s]"
      ]
     },
     "metadata": {},
     "output_type": "display_data"
    },
    {
     "data": {
      "application/vnd.jupyter.widget-view+json": {
       "model_id": "ce9b3373e6e4400181696a2d8ab877aa",
       "version_major": 2,
       "version_minor": 0
      },
      "text/plain": [
       "  0%|          | 0/1 [00:00<?, ?ba/s]"
      ]
     },
     "metadata": {},
     "output_type": "display_data"
    },
    {
     "data": {
      "application/vnd.jupyter.widget-view+json": {
       "model_id": "b35530a7ce1e4f0c861893a359bfa2c1",
       "version_major": 2,
       "version_minor": 0
      },
      "text/plain": [
       "Flattening the indices:   0%|          | 0/1 [00:00<?, ?ba/s]"
      ]
     },
     "metadata": {},
     "output_type": "display_data"
    },
    {
     "data": {
      "application/vnd.jupyter.widget-view+json": {
       "model_id": "f24ef5b0c6864b20ae63a022602c95c9",
       "version_major": 2,
       "version_minor": 0
      },
      "text/plain": [
       "Flattening the indices:   0%|          | 0/1 [00:00<?, ?ba/s]"
      ]
     },
     "metadata": {},
     "output_type": "display_data"
    },
    {
     "data": {
      "application/vnd.jupyter.widget-view+json": {
       "model_id": "f241e54f691444229c17a0c19839f401",
       "version_major": 2,
       "version_minor": 0
      },
      "text/plain": [
       "Flattening the indices:   0%|          | 0/1 [00:00<?, ?ba/s]"
      ]
     },
     "metadata": {},
     "output_type": "display_data"
    },
    {
     "data": {
      "application/vnd.jupyter.widget-view+json": {
       "model_id": "f0e48d79ecde4b2fb907851fb63ed885",
       "version_major": 2,
       "version_minor": 0
      },
      "text/plain": [
       "Flattening the indices:   0%|          | 0/1 [00:00<?, ?ba/s]"
      ]
     },
     "metadata": {},
     "output_type": "display_data"
    },
    {
     "data": {
      "application/vnd.jupyter.widget-view+json": {
       "model_id": "5fd811be1ec34eb9830382180c209f85",
       "version_major": 2,
       "version_minor": 0
      },
      "text/plain": [
       "Flattening the indices:   0%|          | 0/1 [00:00<?, ?ba/s]"
      ]
     },
     "metadata": {},
     "output_type": "display_data"
    },
    {
     "data": {
      "application/vnd.jupyter.widget-view+json": {
       "model_id": "ba6a62ff57ff45d79833195bcb2d47c3",
       "version_major": 2,
       "version_minor": 0
      },
      "text/plain": [
       "Flattening the indices:   0%|          | 0/1 [00:00<?, ?ba/s]"
      ]
     },
     "metadata": {},
     "output_type": "display_data"
    }
   ],
   "source": [
    "cfg = Config()\n",
    "if cfg.dataset_name == \"rotten_tomatoes\": cfg = cfg.small_ds()\n",
    "set_seed(cfg.seed)\n",
    "set_session_options()\n",
    "setup_logging(cfg, disable_other_loggers=False)\n",
    "vm_tokenizer, vm_model, pp_tokenizer, pp_model, sts_model, cfg = prepare_models(cfg)\n",
    "optimizer = get_optimizer(cfg, pp_model)\n",
    "ds = ProcessedDataset(cfg, vm_tokenizer, vm_model, pp_tokenizer, sts_model, load_processed_from_file=False)"
   ]
  },
  {
   "cell_type": "code",
   "execution_count": null,
   "metadata": {},
   "outputs": [
    {
     "name": "stderr",
     "output_type": "stream",
     "text": [
      "\u001b[34m\u001b[1mwandb\u001b[0m: \u001b[33mWARNING\u001b[0m WANDB_NOTEBOOK_NAME should be a path to a notebook file, couldn't find run.\n",
      "\u001b[34m\u001b[1mwandb\u001b[0m: Currently logged in as: \u001b[33muts_nlp\u001b[0m (use `wandb login --relogin` to force relogin)\n",
      "\u001b[34m\u001b[1mwandb\u001b[0m: wandb version 0.12.11 is available!  To upgrade, please run:\n",
      "\u001b[34m\u001b[1mwandb\u001b[0m:  $ pip install wandb --upgrade\n"
     ]
    },
    {
     "data": {
      "text/html": [
       "\n",
       "                    Syncing run <strong><a href=\"https://wandb.ai/uts_nlp/travis_attack/runs/leii84s1\" target=\"_blank\">vibrant-pyramid-327</a></strong> to <a href=\"https://wandb.ai/uts_nlp/travis_attack\" target=\"_blank\">Weights & Biases</a> (<a href=\"https://docs.wandb.com/integrations/jupyter.html\" target=\"_blank\">docs</a>).<br/>\n",
       "\n",
       "                "
      ],
      "text/plain": [
       "<IPython.core.display.HTML object>"
      ]
     },
     "metadata": {},
     "output_type": "display_data"
    },
    {
     "name": "stdout",
     "output_type": "stream",
     "text": [
      "Launching training on one GPU.\n"
     ]
    },
    {
     "data": {
      "application/vnd.jupyter.widget-view+json": {
       "model_id": "9585e76b377942dcb6498ee037258d95",
       "version_major": 2,
       "version_minor": 0
      },
      "text/plain": [
       "  0%|          | 0/4 [00:00<?, ?it/s]"
      ]
     },
     "metadata": {},
     "output_type": "display_data"
    },
    {
     "name": "stderr",
     "output_type": "stream",
     "text": [
      "travis_attack.trainer: INFO     Now on epoch 1 of 2\n"
     ]
    },
    {
     "data": {
      "application/vnd.jupyter.widget-view+json": {
       "model_id": "bda40ede8d764134acf8a6ad84d0edd9",
       "version_major": 2,
       "version_minor": 0
      },
      "text/plain": [
       "Batches:   0%|          | 0/6 [00:00<?, ?it/s]"
      ]
     },
     "metadata": {},
     "output_type": "display_data"
    },
    {
     "data": {
      "application/vnd.jupyter.widget-view+json": {
       "model_id": "fa0a86be05a4432786280665cce87432",
       "version_major": 2,
       "version_minor": 0
      },
      "text/plain": [
       "Batches:   0%|          | 0/4 [00:00<?, ?it/s]"
      ]
     },
     "metadata": {},
     "output_type": "display_data"
    },
    {
     "data": {
      "application/vnd.jupyter.widget-view+json": {
       "model_id": "de975827a95c4a378b4a2d6d4cc06d4c",
       "version_major": 2,
       "version_minor": 0
      },
      "text/plain": [
       "Batches:   0%|          | 0/10 [00:00<?, ?it/s]"
      ]
     },
     "metadata": {},
     "output_type": "display_data"
    },
    {
     "data": {
      "application/vnd.jupyter.widget-view+json": {
       "model_id": "0532babb0f1842548672197d736af27e",
       "version_major": 2,
       "version_minor": 0
      },
      "text/plain": [
       "Batches:   0%|          | 0/2 [00:00<?, ?it/s]"
      ]
     },
     "metadata": {},
     "output_type": "display_data"
    },
    {
     "name": "stderr",
     "output_type": "stream",
     "text": [
      "travis_attack.trainer: INFO     Now on epoch 2 of 2\n"
     ]
    },
    {
     "data": {
      "application/vnd.jupyter.widget-view+json": {
       "model_id": "3e3db6fb2af043c1a0bbb8fd3991e3c8",
       "version_major": 2,
       "version_minor": 0
      },
      "text/plain": [
       "Batches:   0%|          | 0/6 [00:00<?, ?it/s]"
      ]
     },
     "metadata": {},
     "output_type": "display_data"
    },
    {
     "data": {
      "application/vnd.jupyter.widget-view+json": {
       "model_id": "0fd7bd0cf1124e54a4fcb88dd1bd0395",
       "version_major": 2,
       "version_minor": 0
      },
      "text/plain": [
       "Batches:   0%|          | 0/4 [00:00<?, ?it/s]"
      ]
     },
     "metadata": {},
     "output_type": "display_data"
    },
    {
     "data": {
      "application/vnd.jupyter.widget-view+json": {
       "model_id": "b9296e2212f44c79937d7d592fd3de62",
       "version_major": 2,
       "version_minor": 0
      },
      "text/plain": [
       "Batches:   0%|          | 0/10 [00:00<?, ?it/s]"
      ]
     },
     "metadata": {},
     "output_type": "display_data"
    },
    {
     "data": {
      "application/vnd.jupyter.widget-view+json": {
       "model_id": "ef4758827566422ab5f7820c01f24ad2",
       "version_major": 2,
       "version_minor": 0
      },
      "text/plain": [
       "Batches:   0%|          | 0/2 [00:00<?, ?it/s]"
      ]
     },
     "metadata": {},
     "output_type": "display_data"
    },
    {
     "data": {
      "application/vnd.jupyter.widget-view+json": {
       "model_id": "a4ad6ede6d6243318a66d0803eb03027",
       "version_major": 2,
       "version_minor": 0
      },
      "text/plain": [
       "Batches:   0%|          | 0/2 [00:00<?, ?it/s]"
      ]
     },
     "metadata": {},
     "output_type": "display_data"
    }
   ],
   "source": [
    "cfg.wandb['mode'] = 'online'\n",
    "trainer = Trainer(cfg, vm_tokenizer, vm_model, pp_tokenizer, pp_model, sts_model, optimizer,\n",
    "                  ds, initial_eval=False, use_cpu=False)\n",
    "trainer.train()"
   ]
  },
  {
   "cell_type": "code",
   "execution_count": null,
   "metadata": {},
   "outputs": [
    {
     "name": "stderr",
     "output_type": "stream",
     "text": [
      "root        : ERROR    No traceback has been produced, nothing to debug.\n"
     ]
    }
   ],
   "source": [
    "%debug"
   ]
  },
  {
   "cell_type": "code",
   "execution_count": null,
   "metadata": {},
   "outputs": [],
   "source": [
    "## TO RESUME RUN\n",
    "# cfg = Config()\n",
    "# cfg.run_id = '3g070m4d'\n",
    "# cfg.run_name = \"avid-darkness-324\"\n",
    "# cfg.path_run = f\"{cfg.path_checkpoints}{cfg.run_name}/\"\n",
    "# run = resume_wandb_run(cfg)\n"
   ]
  },
  {
   "cell_type": "code",
   "execution_count": null,
   "metadata": {},
   "outputs": [
    {
     "name": "stderr",
     "output_type": "stream",
     "text": [
      "travis_attack.insights: INFO     Dataframes have shapes ['training_step: (56, 41)', 'train: (56, 27)', 'valid: (8, 27)', 'test: (4, 27)']\n",
      "travis_attack.insights: INFO     Adding text metrics for column orig_l\n",
      "datasets.arrow_dataset: WARNING  Setting TOKENIZERS_PARALLELISM=false for forked processes.\n",
      "travis_attack.insights: INFO     Adding text metrics for column pp_l\n",
      "datasets.arrow_dataset: WARNING  Setting TOKENIZERS_PARALLELISM=false for forked processes.\n",
      "travis_attack.insights: INFO     Calculating metric differences between orig and pp\n",
      "travis_attack.insights: INFO     Calculating text pair statistics for (orig, pp) unique pairs\n",
      "datasets.arrow_dataset: WARNING  Setting TOKENIZERS_PARALLELISM=false for forked processes.\n",
      "travis_attack.insights: INFO     Adding text metrics for column orig_l\n",
      "datasets.arrow_dataset: WARNING  Setting TOKENIZERS_PARALLELISM=false for forked processes.\n",
      "travis_attack.insights: INFO     Adding text metrics for column pp_l\n",
      "datasets.arrow_dataset: WARNING  Setting TOKENIZERS_PARALLELISM=false for forked processes.\n",
      "travis_attack.insights: INFO     Calculating metric differences between orig and pp\n",
      "travis_attack.insights: INFO     Calculating text pair statistics for (orig, pp) unique pairs\n",
      "datasets.arrow_dataset: WARNING  Setting TOKENIZERS_PARALLELISM=false for forked processes.\n",
      "travis_attack.insights: INFO     Adding text metrics for column orig_l\n",
      "datasets.arrow_dataset: WARNING  Setting TOKENIZERS_PARALLELISM=false for forked processes.\n",
      "travis_attack.insights: INFO     Adding text metrics for column pp_l\n",
      "datasets.arrow_dataset: WARNING  Setting TOKENIZERS_PARALLELISM=false for forked processes.\n",
      "travis_attack.insights: INFO     Calculating metric differences between orig and pp\n",
      "travis_attack.insights: INFO     Calculating text pair statistics for (orig, pp) unique pairs\n",
      "datasets.arrow_dataset: WARNING  Setting TOKENIZERS_PARALLELISM=false for forked processes.\n",
      "travis_attack.insights: INFO     Adding text metrics for column orig_l\n",
      "datasets.arrow_dataset: WARNING  Setting TOKENIZERS_PARALLELISM=false for forked processes.\n",
      "travis_attack.insights: INFO     Adding text metrics for column pp_l\n",
      "datasets.arrow_dataset: WARNING  Setting TOKENIZERS_PARALLELISM=false for forked processes.\n",
      "travis_attack.insights: INFO     Calculating metric differences between orig and pp\n",
      "travis_attack.insights: INFO     Calculating text pair statistics for (orig, pp) unique pairs\n",
      "datasets.arrow_dataset: WARNING  Setting TOKENIZERS_PARALLELISM=false for forked processes.\n"
     ]
    },
    {
     "data": {
      "text/html": [
       "<br/>Waiting for W&B process to finish, PID 571... <strong style=\"color:green\">(success).</strong>"
      ],
      "text/plain": [
       "<IPython.core.display.HTML object>"
      ]
     },
     "metadata": {},
     "output_type": "display_data"
    },
    {
     "data": {
      "application/vnd.jupyter.widget-view+json": {
       "model_id": "",
       "version_major": 2,
       "version_minor": 0
      },
      "text/plain": [
       "VBox(children=(Label(value=' 0.26MB of 0.26MB uploaded (0.00MB deduped)\\r'), FloatProgress(value=1.0, max=1.0)…"
      ]
     },
     "metadata": {},
     "output_type": "display_data"
    },
    {
     "data": {
      "text/html": [
       "<style>\n",
       "    table.wandb td:nth-child(1) { padding: 0 10px; text-align: right }\n",
       "    .wandb-row { display: flex; flex-direction: row; flex-wrap: wrap; width: 100% }\n",
       "    .wandb-col { display: flex; flex-direction: column; flex-basis: 100%; flex: 1; padding: 10px; }\n",
       "    </style>\n",
       "<div class=\"wandb-row\"><div class=\"wandb-col\">\n",
       "<h3>Run history:</h3><br/><table class=\"wandb\"><tr><td>%_of_tokens_above_prob_0.0001</td><td>█▃▅▁</td></tr><tr><td>%_of_tokens_above_prob_0.001</td><td>█▁▆▂</td></tr><tr><td>%_of_tokens_above_prob_0.01</td><td>█▁▆▃</td></tr><tr><td>%_of_tokens_above_prob_0.1</td><td>█▁▇▅</td></tr><tr><td>%_of_tokens_above_prob_1/vocab_size</td><td>█▅▅▁</td></tr><tr><td>%_of_tokens_above_prob_1e-05</td><td>█▅▅▁</td></tr><tr><td>acc_batch_n_examples</td><td>▁▁▁▁</td></tr><tr><td>acc_num</td><td>▁▃▆█</td></tr><tr><td>batch_num</td><td>▁█▁█</td></tr><tr><td>epoch</td><td>▁▁▁▁▁█████</td></tr><tr><td>global_step</td><td>▁▃▆█</td></tr><tr><td>gradient_norm</td><td>▁▂▆█</td></tr><tr><td>label_flip_fraction</td><td>▆▁▆█</td></tr><tr><td>label_flip_train</td><td>▁▁</td></tr><tr><td>label_flip_training_step</td><td>▁█</td></tr><tr><td>label_flip_valid</td><td>▁▁</td></tr><tr><td>loss_batch</td><td>█▁▄▁</td></tr><tr><td>loss_sum</td><td>█▁▄▁</td></tr><tr><td>loss_train</td><td>█▁</td></tr><tr><td>loss_training_step</td><td>█▁</td></tr><tr><td>loss_valid</td><td>█▁</td></tr><tr><td>orig_batch_size</td><td>█▁█▁</td></tr><tr><td>orig_length</td><td>█▁█▁</td></tr><tr><td>parameter_norm</td><td>▁▁▁█</td></tr><tr><td>pp_batch_size</td><td>█▁█▁</td></tr><tr><td>pp_length</td><td>▅█▇▁</td></tr><tr><td>pp_letter_diff_mean</td><td>▇▁█▁</td></tr><tr><td>pp_letter_percent_mean</td><td>▄▃█▁</td></tr><tr><td>pp_logp_mean</td><td>▁▇▃█</td></tr><tr><td>pp_logp_train</td><td>▁█</td></tr><tr><td>pp_logp_training_step</td><td>▁█</td></tr><tr><td>pp_logp_valid</td><td>▁█</td></tr><tr><td>rank_1_token_prob_0.25_quantile</td><td>▁█▄▇</td></tr><tr><td>rank_1_token_prob_0.75_quantile</td><td>▁█▁▄</td></tr><tr><td>rank_1_token_prob_mean</td><td>▁█▃▇</td></tr><tr><td>rank_1_token_prob_median</td><td>▁█▂▅</td></tr><tr><td>rank_2_token_prob_0.25_quantile</td><td>█▁▄▂</td></tr><tr><td>rank_2_token_prob_0.75_quantile</td><td>█▁█▅</td></tr><tr><td>rank_2_token_prob_mean</td><td>█▁▇▃</td></tr><tr><td>rank_2_token_prob_median</td><td>█▁▇▅</td></tr><tr><td>rank_3_token_prob_0.25_quantile</td><td>█▁▆▆</td></tr><tr><td>rank_3_token_prob_0.75_quantile</td><td>▇▁█▆</td></tr><tr><td>rank_3_token_prob_mean</td><td>█▁▇▃</td></tr><tr><td>rank_3_token_prob_median</td><td>█▁█▃</td></tr><tr><td>reward_train</td><td>█▁</td></tr><tr><td>reward_training_step</td><td>█▁</td></tr><tr><td>reward_valid</td><td>▁▁</td></tr><tr><td>rewards_mean</td><td>▆█▁█</td></tr><tr><td>sts_score_train</td><td>█▁</td></tr><tr><td>sts_score_training_step</td><td>▁█</td></tr><tr><td>sts_score_valid</td><td>▁▁</td></tr><tr><td>sts_scores_mean</td><td>▄▁▂█</td></tr><tr><td>time/eval_compute_metrics</td><td>█▁</td></tr><tr><td>time/eval_empty_cache</td><td>█▁</td></tr><tr><td>time/eval_gc_collect</td><td>█▁</td></tr><tr><td>time/eval_train_thoroughput</td><td>▁█</td></tr><tr><td>time/eval_train_time</td><td>█▁</td></tr><tr><td>time/eval_valid_thoroughput</td><td>▁█</td></tr><tr><td>time/eval_valid_time</td><td>█▁</td></tr><tr><td>time/train_one_epoch_thoroughput</td><td>▁█</td></tr><tr><td>time/train_one_epoch_time</td><td>█▁</td></tr><tr><td>time_backwards</td><td>▅█▇▁</td></tr><tr><td>time_calc_gradient_norm</td><td>█▁▆▃</td></tr><tr><td>time_generate_pp</td><td>▆▆█▁</td></tr><tr><td>time_log_entropy</td><td>▆▆█▁</td></tr><tr><td>time_log_token_probabilities</td><td>█▄█▁</td></tr><tr><td>time_loss_fn</td><td>▇▄█▁</td></tr><tr><td>time_loss_fn_loss_calc</td><td>█▁▄▂</td></tr><tr><td>time_opt_step</td><td>▁▁▁█</td></tr><tr><td>time_opt_step_and_calc_param_norm</td><td>▁▁▁█</td></tr><tr><td>time_pp_letter_diff</td><td>▃▁█▂</td></tr><tr><td>time_pp_logp</td><td>▇▆█▁</td></tr><tr><td>time_reward_fn</td><td>█▂█▁</td></tr><tr><td>time_sts_scores</td><td>▇▁█▁</td></tr><tr><td>time_vm_scores</td><td>█▅▆▁</td></tr><tr><td>top_token_prob_over_0.1</td><td>▅▁██</td></tr><tr><td>top_token_prob_over_0.3</td><td>▁▆▄█</td></tr><tr><td>top_token_prob_over_0.5</td><td>▁▇▁█</td></tr><tr><td>top_token_prob_over_0.75</td><td>▁█▂▃</td></tr><tr><td>top_token_prob_over_0.9</td><td>▁█▁▁</td></tr><tr><td>top_token_prob_over_0.95</td><td>▂█▂▁</td></tr><tr><td>top_token_prob_over_0.975</td><td>▃█▂▁</td></tr><tr><td>top_token_prob_over_0.99</td><td>▁█▃▁</td></tr><tr><td>vm_score_train</td><td>█▁</td></tr><tr><td>vm_score_training_step</td><td>█▁</td></tr><tr><td>vm_score_valid</td><td>▁▁</td></tr><tr><td>vm_scores_mean</td><td>▅█▁▁</td></tr></table><br/></div><div class=\"wandb-col\">\n",
       "<h3>Run summary:</h3><br/><table class=\"wandb\"><tr><td>%_of_tokens_above_prob_0.0001</td><td>0.00154</td></tr><tr><td>%_of_tokens_above_prob_0.001</td><td>0.00021</td></tr><tr><td>%_of_tokens_above_prob_0.01</td><td>4e-05</td></tr><tr><td>%_of_tokens_above_prob_0.1</td><td>1e-05</td></tr><tr><td>%_of_tokens_above_prob_1/vocab_size</td><td>0.01837</td></tr><tr><td>%_of_tokens_above_prob_1e-05</td><td>0.0193</td></tr><tr><td>acc_batch_n_examples</td><td>56</td></tr><tr><td>acc_num</td><td>3</td></tr><tr><td>batch_num</td><td>1</td></tr><tr><td>epoch</td><td>2</td></tr><tr><td>global_step</td><td>3</td></tr><tr><td>gradient_norm</td><td>37.74941</td></tr><tr><td>label_flip_avg_test</td><td>0.0</td></tr><tr><td>label_flip_fraction</td><td>0.08333</td></tr><tr><td>label_flip_train</td><td>0.14286</td></tr><tr><td>label_flip_training_step</td><td>0.07143</td></tr><tr><td>label_flip_valid</td><td>0.5</td></tr><tr><td>loss_avg_test</td><td>0.74842</td></tr><tr><td>loss_batch</td><td>0.61704</td></tr><tr><td>loss_sum</td><td>34.55412</td></tr><tr><td>loss_train</td><td>4.69484</td></tr><tr><td>loss_training_step</td><td>3.09206</td></tr><tr><td>loss_valid</td><td>9.32079</td></tr><tr><td>orig_batch_size</td><td>12</td></tr><tr><td>orig_length</td><td>32</td></tr><tr><td>parameter_norm</td><td>6.14405</td></tr><tr><td>pp_batch_size</td><td>12</td></tr><tr><td>pp_length</td><td>21</td></tr><tr><td>pp_letter_diff_mean</td><td>14.58333</td></tr><tr><td>pp_letter_percent_mean</td><td>1.24522</td></tr><tr><td>pp_logp_avg_test</td><td>-10.96043</td></tr><tr><td>pp_logp_mean</td><td>-7.94542</td></tr><tr><td>pp_logp_train</td><td>-10.39082</td></tr><tr><td>pp_logp_training_step</td><td>-12.28588</td></tr><tr><td>pp_logp_valid</td><td>-7.90069</td></tr><tr><td>rank_1_token_prob_0.25_quantile</td><td>-0.77859</td></tr><tr><td>rank_1_token_prob_0.75_quantile</td><td>-0.17137</td></tr><tr><td>rank_1_token_prob_mean</td><td>-0.56753</td></tr><tr><td>rank_1_token_prob_median</td><td>-0.38152</td></tr><tr><td>rank_2_token_prob_0.25_quantile</td><td>-4.19607</td></tr><tr><td>rank_2_token_prob_0.75_quantile</td><td>-2.04975</td></tr><tr><td>rank_2_token_prob_mean</td><td>-3.4379</td></tr><tr><td>rank_2_token_prob_median</td><td>-2.97005</td></tr><tr><td>rank_3_token_prob_0.25_quantile</td><td>-5.07716</td></tr><tr><td>rank_3_token_prob_0.75_quantile</td><td>-2.95756</td></tr><tr><td>rank_3_token_prob_mean</td><td>-4.40655</td></tr><tr><td>rank_3_token_prob_median</td><td>-4.19921</td></tr><tr><td>reward_avg_test</td><td>0.08567</td></tr><tr><td>reward_train</td><td>0.57853</td></tr><tr><td>reward_training_step</td><td>0.2677</td></tr><tr><td>reward_valid</td><td>1.09731</td></tr><tr><td>rewards_mean</td><td>0.37406</td></tr><tr><td>sts_score_avg_test</td><td>0.83849</td></tr><tr><td>sts_score_train</td><td>0.88073</td></tr><tr><td>sts_score_training_step</td><td>0.83213</td></tr><tr><td>sts_score_valid</td><td>0.92608</td></tr><tr><td>sts_scores_mean</td><td>0.88826</td></tr><tr><td>time/eval_compute_metrics</td><td>0.28541</td></tr><tr><td>time/eval_empty_cache</td><td>0.04981</td></tr><tr><td>time/eval_gc_collect</td><td>0.25231</td></tr><tr><td>time/eval_train_thoroughput</td><td>17.84782</td></tr><tr><td>time/eval_train_time</td><td>1.56882</td></tr><tr><td>time/eval_valid_thoroughput</td><td>3.63984</td></tr><tr><td>time/eval_valid_time</td><td>1.09895</td></tr><tr><td>time/train_one_epoch_thoroughput</td><td>4.15037</td></tr><tr><td>time/train_one_epoch_time</td><td>6.74638</td></tr><tr><td>time_backwards</td><td>0.63875</td></tr><tr><td>time_calc_gradient_norm</td><td>0.10268</td></tr><tr><td>time_generate_pp</td><td>0.43537</td></tr><tr><td>time_log_entropy</td><td>0.00627</td></tr><tr><td>time_log_token_probabilities</td><td>0.01525</td></tr><tr><td>time_loss_fn</td><td>0.10285</td></tr><tr><td>time_loss_fn_loss_calc</td><td>7e-05</td></tr><tr><td>time_opt_step</td><td>0.23118</td></tr><tr><td>time_opt_step_and_calc_param_norm</td><td>0.33492</td></tr><tr><td>time_pp_letter_diff</td><td>0.00011</td></tr><tr><td>time_pp_logp</td><td>0.0293</td></tr><tr><td>time_reward_fn</td><td>0.07337</td></tr><tr><td>time_sts_scores</td><td>0.06244</td></tr><tr><td>time_vm_scores</td><td>0.00901</td></tr><tr><td>top_token_prob_over_0.1</td><td>0.9881</td></tr><tr><td>top_token_prob_over_0.3</td><td>0.8631</td></tr><tr><td>top_token_prob_over_0.5</td><td>0.70833</td></tr><tr><td>top_token_prob_over_0.75</td><td>0.39286</td></tr><tr><td>top_token_prob_over_0.9</td><td>0.07738</td></tr><tr><td>top_token_prob_over_0.95</td><td>0.00595</td></tr><tr><td>top_token_prob_over_0.975</td><td>0.0</td></tr><tr><td>top_token_prob_over_0.99</td><td>0.0</td></tr><tr><td>vm_score_avg_test</td><td>-0.01149</td></tr><tr><td>vm_score_train</td><td>0.0965</td></tr><tr><td>vm_score_training_step</td><td>0.03813</td></tr><tr><td>vm_score_valid</td><td>0.25826</td></tr><tr><td>vm_scores_mean</td><td>0.03916</td></tr></table>\n",
       "</div></div>\n",
       "Synced 6 W&B file(s), 18 media file(s), 12 artifact file(s) and 1 other file(s)\n",
       "<br/>Synced <strong style=\"color:#cdcd00\">vibrant-pyramid-327</strong>: <a href=\"https://wandb.ai/uts_nlp/travis_attack/runs/leii84s1\" target=\"_blank\">https://wandb.ai/uts_nlp/travis_attack/runs/leii84s1</a><br/>\n",
       "Find logs at: <code>./wandb/run-20220328_171429-leii84s1/logs</code><br/>\n"
      ],
      "text/plain": [
       "<IPython.core.display.HTML object>"
      ]
     },
     "metadata": {},
     "output_type": "display_data"
    }
   ],
   "source": [
    "df_d = get_training_dfs(cfg.path_run, postprocessed=False)\n",
    "for k, df in df_d.items(): \n",
    "    df_d[k] = postprocess_df(df, filter_idx=None, num_proc=2)\n",
    "    df_d[k].to_pickle(f\"{cfg.path_run}{k}_postprocessed.pkl\")    \n",
    "create_and_log_wandb_postrun_plots(df_d)\n",
    "trainer.run.finish()"
   ]
  },
  {
   "cell_type": "code",
   "execution_count": null,
   "metadata": {},
   "outputs": [
    {
     "name": "stderr",
     "output_type": "stream",
     "text": [
      "root        : ERROR    No traceback has been produced, nothing to debug.\n"
     ]
    }
   ],
   "source": [
    "%debug"
   ]
  }
 ],
 "metadata": {
  "kernelspec": {
   "display_name": "Python 3",
   "language": "python",
   "name": "python3"
  }
 },
 "nbformat": 4,
 "nbformat_minor": 4
}
