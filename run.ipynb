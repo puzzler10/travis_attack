{
 "cells": [
  {
   "cell_type": "code",
   "execution_count": null,
   "metadata": {},
   "outputs": [],
   "source": [
    "%load_ext autoreload\n",
    "%autoreload 2\n",
    "%load_ext line_profiler"
   ]
  },
  {
   "cell_type": "code",
   "execution_count": null,
   "metadata": {},
   "outputs": [],
   "source": [
    "## Imports and environment variables \n",
    "import torch, wandb, os, pandas as pd \n",
    "from travis_attack.utils import set_seed, set_session_options, setup_logging, setup_parser, resume_wandb_run, display_all, print_important_cfg_vars\n",
    "from travis_attack.config import Config\n",
    "from travis_attack.models import prepare_models, get_optimizer\n",
    "from travis_attack.data import ProcessedDataset\n",
    "from travis_attack.trainer import Trainer\n",
    "from travis_attack.insights import (postprocess_df, create_and_log_wandb_postrun_plots, get_training_dfs)\n",
    "from fastcore.basics import in_jupyter\n",
    "\n",
    "import logging \n",
    "logger = logging.getLogger(\"run\")\n",
    "\n",
    "import warnings\n",
    "warnings.filterwarnings(\"ignore\", message=\"Passing `max_length` to BeamSearchScorer is deprecated\")  # works anyway for diverse beam search "
   ]
  },
  {
   "cell_type": "code",
   "execution_count": null,
   "metadata": {},
   "outputs": [
    {
     "name": "stdout",
     "output_type": "stream",
     "text": [
      "Converted 00_utils.ipynb.\n",
      "Converted 02_tests.ipynb.\n",
      "Converted 03_config.ipynb.\n",
      "Converted 07_models.ipynb.\n",
      "Converted 10_data.ipynb.\n",
      "Converted 20_trainer.ipynb.\n",
      "Converted 25_insights.ipynb.\n",
      "Converted baselines.ipynb.\n",
      "Converted baselines_analysis.ipynb.\n",
      "Converted index.ipynb.\n",
      "Converted pp_eval_baselines.ipynb.\n",
      "Converted run.ipynb.\n",
      "Converted show_examples.ipynb.\n",
      "Converted test_pp_model.ipynb.\n",
      "[NbConvertApp] Converting notebook run.ipynb to python\n"
     ]
    }
   ],
   "source": [
    "from nbdev.export import notebook2script\n",
    "notebook2script()\n",
    "\n",
    "!jupyter nbconvert \\\n",
    "    --TagRemovePreprocessor.enabled=True \\\n",
    "    --TagRemovePreprocessor.remove_cell_tags=\"['hide']\" \\\n",
    "    --TemplateExporter.exclude_markdown=True \\\n",
    "    --to python \"run.ipynb\""
   ]
  },
  {
   "cell_type": "code",
   "execution_count": null,
   "metadata": {},
   "outputs": [
    {
     "name": "stderr",
     "output_type": "stream",
     "text": [
      "travis_attack.data: INFO     Will load dataset rotten_tomatoes with use_small_ds set to True\n",
      "travis_attack.data: INFO     Will load dataset rotten_tomatoes with use_small_ds set to True\n"
     ]
    },
    {
     "data": {
      "application/vnd.jupyter.widget-view+json": {
       "model_id": "fce2f64312254324bb1d83436577f958",
       "version_major": 2,
       "version_minor": 0
      },
      "text/plain": [
       "HBox(children=(FloatProgress(value=0.0, max=3.0), HTML(value='')))"
      ]
     },
     "metadata": {},
     "output_type": "display_data"
    },
    {
     "name": "stdout",
     "output_type": "stream",
     "text": [
      "\n"
     ]
    },
    {
     "data": {
      "application/vnd.jupyter.widget-view+json": {
       "model_id": "89398211c37041dcbbc94a52a9944742",
       "version_major": 2,
       "version_minor": 0
      },
      "text/plain": [
       "HBox(children=(FloatProgress(value=0.0, max=9.0), HTML(value='')))"
      ]
     },
     "metadata": {},
     "output_type": "display_data"
    },
    {
     "name": "stdout",
     "output_type": "stream",
     "text": [
      "\n"
     ]
    },
    {
     "data": {
      "application/vnd.jupyter.widget-view+json": {
       "model_id": "6fdfa6324a9042d1ae1edec241feccf8",
       "version_major": 2,
       "version_minor": 0
      },
      "text/plain": [
       "HBox(children=(FloatProgress(value=0.0, max=2.0), HTML(value='')))"
      ]
     },
     "metadata": {},
     "output_type": "display_data"
    },
    {
     "name": "stdout",
     "output_type": "stream",
     "text": [
      "\n"
     ]
    },
    {
     "data": {
      "application/vnd.jupyter.widget-view+json": {
       "model_id": "ffa1a459f46a4940ab41062b018ebef0",
       "version_major": 2,
       "version_minor": 0
      },
      "text/plain": [
       "HBox(children=(FloatProgress(value=0.0, max=2.0), HTML(value='')))"
      ]
     },
     "metadata": {},
     "output_type": "display_data"
    },
    {
     "name": "stdout",
     "output_type": "stream",
     "text": [
      "\n"
     ]
    },
    {
     "data": {
      "application/vnd.jupyter.widget-view+json": {
       "model_id": "ea6347ca0a274e8ea471a835d7ed3f9f",
       "version_major": 2,
       "version_minor": 0
      },
      "text/plain": [
       "HBox(children=(FloatProgress(value=0.0, max=1.0), HTML(value='')))"
      ]
     },
     "metadata": {},
     "output_type": "display_data"
    },
    {
     "name": "stdout",
     "output_type": "stream",
     "text": [
      "\n"
     ]
    },
    {
     "data": {
      "application/vnd.jupyter.widget-view+json": {
       "model_id": "58976219779e40269d837a407711a516",
       "version_major": 2,
       "version_minor": 0
      },
      "text/plain": [
       "HBox(children=(FloatProgress(value=0.0, max=1.0), HTML(value='')))"
      ]
     },
     "metadata": {},
     "output_type": "display_data"
    },
    {
     "name": "stdout",
     "output_type": "stream",
     "text": [
      "\n"
     ]
    },
    {
     "data": {
      "application/vnd.jupyter.widget-view+json": {
       "model_id": "e8780abbf07348209f10d2951cb7b0fd",
       "version_major": 2,
       "version_minor": 0
      },
      "text/plain": [
       "HBox(children=(FloatProgress(value=0.0, max=1.0), HTML(value='')))"
      ]
     },
     "metadata": {},
     "output_type": "display_data"
    },
    {
     "name": "stdout",
     "output_type": "stream",
     "text": [
      "\n"
     ]
    },
    {
     "data": {
      "application/vnd.jupyter.widget-view+json": {
       "model_id": "1cd5bb153f494e5e83d03ceec09a31f9",
       "version_major": 2,
       "version_minor": 0
      },
      "text/plain": [
       "HBox(children=(FloatProgress(value=0.0, max=1.0), HTML(value='')))"
      ]
     },
     "metadata": {},
     "output_type": "display_data"
    },
    {
     "name": "stdout",
     "output_type": "stream",
     "text": [
      "\n"
     ]
    },
    {
     "data": {
      "application/vnd.jupyter.widget-view+json": {
       "model_id": "4df95156588e4a22b31623b1fa063f8b",
       "version_major": 2,
       "version_minor": 0
      },
      "text/plain": [
       "HBox(children=(FloatProgress(value=0.0, max=1.0), HTML(value='')))"
      ]
     },
     "metadata": {},
     "output_type": "display_data"
    },
    {
     "name": "stdout",
     "output_type": "stream",
     "text": [
      "\n"
     ]
    },
    {
     "data": {
      "application/vnd.jupyter.widget-view+json": {
       "model_id": "f4e99403548c490f8681ffb5af564ef4",
       "version_major": 2,
       "version_minor": 0
      },
      "text/plain": [
       "HBox(children=(FloatProgress(value=0.0, max=1.0), HTML(value='')))"
      ]
     },
     "metadata": {},
     "output_type": "display_data"
    },
    {
     "name": "stdout",
     "output_type": "stream",
     "text": [
      "\n"
     ]
    },
    {
     "data": {
      "application/vnd.jupyter.widget-view+json": {
       "model_id": "a0866a6a8c5a4a4d86cb4680545e4f3d",
       "version_major": 2,
       "version_minor": 0
      },
      "text/plain": [
       "HBox(children=(FloatProgress(value=0.0, max=1.0), HTML(value='')))"
      ]
     },
     "metadata": {},
     "output_type": "display_data"
    },
    {
     "name": "stdout",
     "output_type": "stream",
     "text": [
      "\n"
     ]
    },
    {
     "data": {
      "application/vnd.jupyter.widget-view+json": {
       "model_id": "7940565b5b6b41a582c5b1c40752327b",
       "version_major": 2,
       "version_minor": 0
      },
      "text/plain": [
       "HBox(children=(FloatProgress(value=0.0, max=1.0), HTML(value='')))"
      ]
     },
     "metadata": {},
     "output_type": "display_data"
    },
    {
     "name": "stdout",
     "output_type": "stream",
     "text": [
      "\n"
     ]
    },
    {
     "data": {
      "application/vnd.jupyter.widget-view+json": {
       "model_id": "4b0b0c8e780347b0a1d539c92594aea0",
       "version_major": 2,
       "version_minor": 0
      },
      "text/plain": [
       "HBox(children=(FloatProgress(value=0.0, max=1.0), HTML(value='')))"
      ]
     },
     "metadata": {},
     "output_type": "display_data"
    },
    {
     "name": "stdout",
     "output_type": "stream",
     "text": [
      "\n"
     ]
    },
    {
     "data": {
      "application/vnd.jupyter.widget-view+json": {
       "model_id": "0fd2a69ee15e4f22b767a27ef59684ab",
       "version_major": 2,
       "version_minor": 0
      },
      "text/plain": [
       "HBox(children=(FloatProgress(value=0.0, max=1.0), HTML(value='')))"
      ]
     },
     "metadata": {},
     "output_type": "display_data"
    },
    {
     "data": {
      "application/vnd.jupyter.widget-view+json": {
       "model_id": "d1de4541d524466d8f52a3e09efaa3b5",
       "version_major": 2,
       "version_minor": 0
      },
      "text/plain": [
       "HBox(children=(FloatProgress(value=0.0, description='Batches', max=2.0, style=ProgressStyle(description_width=…"
      ]
     },
     "metadata": {},
     "output_type": "display_data"
    },
    {
     "name": "stdout",
     "output_type": "stream",
     "text": [
      "\n",
      "\n"
     ]
    },
    {
     "data": {
      "application/vnd.jupyter.widget-view+json": {
       "model_id": "a3459d1ec3f544e1a4f211738b613317",
       "version_major": 2,
       "version_minor": 0
      },
      "text/plain": [
       "HBox(children=(FloatProgress(value=0.0, max=1.0), HTML(value='')))"
      ]
     },
     "metadata": {},
     "output_type": "display_data"
    },
    {
     "data": {
      "application/vnd.jupyter.widget-view+json": {
       "model_id": "ad852046fc7641fa8c0fb60c7d74e3f6",
       "version_major": 2,
       "version_minor": 0
      },
      "text/plain": [
       "HBox(children=(FloatProgress(value=0.0, description='Batches', max=1.0, style=ProgressStyle(description_width=…"
      ]
     },
     "metadata": {},
     "output_type": "display_data"
    },
    {
     "name": "stdout",
     "output_type": "stream",
     "text": [
      "\n",
      "\n"
     ]
    },
    {
     "data": {
      "application/vnd.jupyter.widget-view+json": {
       "model_id": "596b247bb8fc4762bedf6a140d92ac5b",
       "version_major": 2,
       "version_minor": 0
      },
      "text/plain": [
       "HBox(children=(FloatProgress(value=0.0, max=1.0), HTML(value='')))"
      ]
     },
     "metadata": {},
     "output_type": "display_data"
    },
    {
     "data": {
      "application/vnd.jupyter.widget-view+json": {
       "model_id": "c814fd179ca54c9a8cdeeac2a0305f7f",
       "version_major": 2,
       "version_minor": 0
      },
      "text/plain": [
       "HBox(children=(FloatProgress(value=0.0, description='Batches', max=1.0, style=ProgressStyle(description_width=…"
      ]
     },
     "metadata": {},
     "output_type": "display_data"
    },
    {
     "name": "stdout",
     "output_type": "stream",
     "text": [
      "\n",
      "\n"
     ]
    },
    {
     "data": {
      "application/vnd.jupyter.widget-view+json": {
       "model_id": "35da40a4145b48a398aaae91d191eefa",
       "version_major": 2,
       "version_minor": 0
      },
      "text/plain": [
       "HBox(children=(FloatProgress(value=0.0, max=1.0), HTML(value='')))"
      ]
     },
     "metadata": {},
     "output_type": "display_data"
    },
    {
     "name": "stdout",
     "output_type": "stream",
     "text": [
      "\n"
     ]
    },
    {
     "data": {
      "application/vnd.jupyter.widget-view+json": {
       "model_id": "a7ffae87187c41508f67ba1752ba0c06",
       "version_major": 2,
       "version_minor": 0
      },
      "text/plain": [
       "HBox(children=(FloatProgress(value=0.0, max=1.0), HTML(value='')))"
      ]
     },
     "metadata": {},
     "output_type": "display_data"
    },
    {
     "name": "stdout",
     "output_type": "stream",
     "text": [
      "\n"
     ]
    },
    {
     "data": {
      "application/vnd.jupyter.widget-view+json": {
       "model_id": "55c23d5fa9234302b29e6b36be7be0d2",
       "version_major": 2,
       "version_minor": 0
      },
      "text/plain": [
       "HBox(children=(FloatProgress(value=0.0, max=1.0), HTML(value='')))"
      ]
     },
     "metadata": {},
     "output_type": "display_data"
    },
    {
     "name": "stdout",
     "output_type": "stream",
     "text": [
      "\n"
     ]
    },
    {
     "data": {
      "application/vnd.jupyter.widget-view+json": {
       "model_id": "e539286ed9dd44ec82640e4406a7b6b4",
       "version_major": 2,
       "version_minor": 0
      },
      "text/plain": [
       "HBox(children=(FloatProgress(value=0.0, max=1.0), HTML(value='')))"
      ]
     },
     "metadata": {},
     "output_type": "display_data"
    },
    {
     "name": "stdout",
     "output_type": "stream",
     "text": [
      "\n"
     ]
    },
    {
     "data": {
      "application/vnd.jupyter.widget-view+json": {
       "model_id": "2c73b792d922456dba5f0807079169f5",
       "version_major": 2,
       "version_minor": 0
      },
      "text/plain": [
       "HBox(children=(FloatProgress(value=0.0, max=1.0), HTML(value='')))"
      ]
     },
     "metadata": {},
     "output_type": "display_data"
    },
    {
     "name": "stdout",
     "output_type": "stream",
     "text": [
      "\n"
     ]
    },
    {
     "data": {
      "application/vnd.jupyter.widget-view+json": {
       "model_id": "63ad7b61c0fc4a528b676af7077e5b68",
       "version_major": 2,
       "version_minor": 0
      },
      "text/plain": [
       "HBox(children=(FloatProgress(value=0.0, max=1.0), HTML(value='')))"
      ]
     },
     "metadata": {},
     "output_type": "display_data"
    },
    {
     "name": "stdout",
     "output_type": "stream",
     "text": [
      "\n"
     ]
    },
    {
     "data": {
      "application/vnd.jupyter.widget-view+json": {
       "model_id": "23ad61f4e4224a3f881240ad4613a3f6",
       "version_major": 2,
       "version_minor": 0
      },
      "text/plain": [
       "HBox(children=(FloatProgress(value=0.0, max=1.0), HTML(value='')))"
      ]
     },
     "metadata": {},
     "output_type": "display_data"
    },
    {
     "name": "stdout",
     "output_type": "stream",
     "text": [
      "\n"
     ]
    },
    {
     "data": {
      "application/vnd.jupyter.widget-view+json": {
       "model_id": "1a4cc42168d34782b81e1bdfbd7d4820",
       "version_major": 2,
       "version_minor": 0
      },
      "text/plain": [
       "HBox(children=(FloatProgress(value=0.0, max=1.0), HTML(value='')))"
      ]
     },
     "metadata": {},
     "output_type": "display_data"
    },
    {
     "name": "stdout",
     "output_type": "stream",
     "text": [
      "\n"
     ]
    },
    {
     "data": {
      "application/vnd.jupyter.widget-view+json": {
       "model_id": "ce69fef0d19a4356b8e37d2c9b4cc80c",
       "version_major": 2,
       "version_minor": 0
      },
      "text/plain": [
       "HBox(children=(FloatProgress(value=0.0, max=1.0), HTML(value='')))"
      ]
     },
     "metadata": {},
     "output_type": "display_data"
    },
    {
     "name": "stdout",
     "output_type": "stream",
     "text": [
      "\n"
     ]
    },
    {
     "data": {
      "application/vnd.jupyter.widget-view+json": {
       "model_id": "fbc98dc2c6574c338dae349def418939",
       "version_major": 2,
       "version_minor": 0
      },
      "text/plain": [
       "HBox(children=(FloatProgress(value=0.0, max=1.0), HTML(value='')))"
      ]
     },
     "metadata": {},
     "output_type": "display_data"
    },
    {
     "name": "stdout",
     "output_type": "stream",
     "text": [
      "\n"
     ]
    },
    {
     "data": {
      "application/vnd.jupyter.widget-view+json": {
       "model_id": "bbad2f6af2b5470d8a815161a358910c",
       "version_major": 2,
       "version_minor": 0
      },
      "text/plain": [
       "HBox(children=(FloatProgress(value=0.0, max=1.0), HTML(value='')))"
      ]
     },
     "metadata": {},
     "output_type": "display_data"
    },
    {
     "name": "stdout",
     "output_type": "stream",
     "text": [
      "\n"
     ]
    },
    {
     "data": {
      "application/vnd.jupyter.widget-view+json": {
       "model_id": "50bca154c93342f199c08845483c9d08",
       "version_major": 2,
       "version_minor": 0
      },
      "text/plain": [
       "HBox(children=(FloatProgress(value=0.0, max=1.0), HTML(value='')))"
      ]
     },
     "metadata": {},
     "output_type": "display_data"
    },
    {
     "name": "stdout",
     "output_type": "stream",
     "text": [
      "\n"
     ]
    },
    {
     "data": {
      "application/vnd.jupyter.widget-view+json": {
       "model_id": "a4800d12bf5341a3a9110fb0b393e348",
       "version_major": 2,
       "version_minor": 0
      },
      "text/plain": [
       "HBox(children=(FloatProgress(value=0.0, description='Flattening the indices', max=1.0, style=ProgressStyle(des…"
      ]
     },
     "metadata": {},
     "output_type": "display_data"
    },
    {
     "name": "stdout",
     "output_type": "stream",
     "text": [
      "\n"
     ]
    },
    {
     "data": {
      "application/vnd.jupyter.widget-view+json": {
       "model_id": "997a583284824c778f01d72d099bd425",
       "version_major": 2,
       "version_minor": 0
      },
      "text/plain": [
       "HBox(children=(FloatProgress(value=0.0, description='Flattening the indices', max=1.0, style=ProgressStyle(des…"
      ]
     },
     "metadata": {},
     "output_type": "display_data"
    },
    {
     "name": "stdout",
     "output_type": "stream",
     "text": [
      "\n"
     ]
    },
    {
     "data": {
      "application/vnd.jupyter.widget-view+json": {
       "model_id": "17749def283f4cbbab42673a352e4d00",
       "version_major": 2,
       "version_minor": 0
      },
      "text/plain": [
       "HBox(children=(FloatProgress(value=0.0, description='Flattening the indices', max=1.0, style=ProgressStyle(des…"
      ]
     },
     "metadata": {},
     "output_type": "display_data"
    },
    {
     "name": "stdout",
     "output_type": "stream",
     "text": [
      "\n"
     ]
    },
    {
     "data": {
      "application/vnd.jupyter.widget-view+json": {
       "model_id": "05ef92c56b87471cac2ed29841846e4d",
       "version_major": 2,
       "version_minor": 0
      },
      "text/plain": [
       "HBox(children=(FloatProgress(value=0.0, description='Flattening the indices', max=1.0, style=ProgressStyle(des…"
      ]
     },
     "metadata": {},
     "output_type": "display_data"
    },
    {
     "name": "stdout",
     "output_type": "stream",
     "text": [
      "\n"
     ]
    },
    {
     "data": {
      "application/vnd.jupyter.widget-view+json": {
       "model_id": "4f3051094f314372ae03b27f3f762b12",
       "version_major": 2,
       "version_minor": 0
      },
      "text/plain": [
       "HBox(children=(FloatProgress(value=0.0, description='Flattening the indices', max=1.0, style=ProgressStyle(des…"
      ]
     },
     "metadata": {},
     "output_type": "display_data"
    },
    {
     "name": "stdout",
     "output_type": "stream",
     "text": [
      "\n"
     ]
    },
    {
     "data": {
      "application/vnd.jupyter.widget-view+json": {
       "model_id": "ab681b2a2ffc4bffaace54acc00faa3e",
       "version_major": 2,
       "version_minor": 0
      },
      "text/plain": [
       "HBox(children=(FloatProgress(value=0.0, description='Flattening the indices', max=1.0, style=ProgressStyle(des…"
      ]
     },
     "metadata": {},
     "output_type": "display_data"
    },
    {
     "name": "stdout",
     "output_type": "stream",
     "text": [
      "\n"
     ]
    }
   ],
   "source": [
    "cfg = Config()  # default values\n",
    "if not in_jupyter():  # override with any -- options when running with command line\n",
    "    parser = setup_parser()\n",
    "    newargs = vars(parser.parse_args())\n",
    "    for k,v in newargs.items(): \n",
    "        if v is not None: \n",
    "            if k in cfg.pp.keys():  cfg.pp[k] = v\n",
    "            else:                   setattr(cfg, k, v)\n",
    "if cfg.use_small_ds:  cfg = cfg.small_ds()\n",
    "set_seed(cfg.seed)\n",
    "set_session_options()\n",
    "setup_logging(cfg, disable_other_loggers=True)\n",
    "vm_tokenizer, vm_model, pp_tokenizer, pp_model, ref_pp_model, sts_model, nli_tokenizer, nli_model, cfg = prepare_models(cfg)\n",
    "optimizer = get_optimizer(cfg, pp_model)\n",
    "ds = ProcessedDataset(cfg, vm_tokenizer, vm_model, pp_tokenizer, sts_model, load_processed_from_file=False)\n"
   ]
  },
  {
   "cell_type": "code",
   "execution_count": null,
   "metadata": {},
   "outputs": [
    {
     "data": {
      "text/html": [
       "Finishing last run (ID:sekigcf6) before initializing another..."
      ],
      "text/plain": [
       "<IPython.core.display.HTML object>"
      ]
     },
     "metadata": {},
     "output_type": "display_data"
    },
    {
     "data": {
      "text/html": [
       "<br/>Waiting for W&B process to finish, PID 337... <strong style=\"color:green\">(success).</strong>"
      ],
      "text/plain": [
       "<IPython.core.display.HTML object>"
      ]
     },
     "metadata": {},
     "output_type": "display_data"
    },
    {
     "data": {
      "application/vnd.jupyter.widget-view+json": {
       "model_id": "",
       "version_major": 2,
       "version_minor": 0
      },
      "text/plain": [
       "VBox(children=(Label(value=' 0.13MB of 0.13MB uploaded (0.00MB deduped)\\r'), FloatProgress(value=1.0, max=1.0)…"
      ]
     },
     "metadata": {},
     "output_type": "display_data"
    },
    {
     "data": {
      "text/html": [
       "<style>\n",
       "    table.wandb td:nth-child(1) { padding: 0 10px; text-align: right }\n",
       "    .wandb-row { display: flex; flex-direction: row; flex-wrap: wrap; width: 100% }\n",
       "    .wandb-col { display: flex; flex-direction: column; flex-basis: 100%; flex: 1; padding: 10px; }\n",
       "    </style>\n",
       "<div class=\"wandb-row\"><div class=\"wandb-col\">\n",
       "</div><div class=\"wandb-col\">\n",
       "</div></div>\n",
       "Synced 6 W&B file(s), 0 media file(s), 13 artifact file(s) and 1 other file(s)\n",
       "<br/>Synced <strong style=\"color:#cdcd00\">restful-planet-161</strong>: <a href=\"https://wandb.ai/uts_nlp/travis_attack/runs/sekigcf6\" target=\"_blank\">https://wandb.ai/uts_nlp/travis_attack/runs/sekigcf6</a><br/>\n",
       "Find logs at: <code>./wandb/run-20220524_105457-sekigcf6/logs</code><br/>\n"
      ],
      "text/plain": [
       "<IPython.core.display.HTML object>"
      ]
     },
     "metadata": {},
     "output_type": "display_data"
    },
    {
     "data": {
      "text/html": [
       "Successfully finished last run (ID:sekigcf6). Initializing new run:<br/>"
      ],
      "text/plain": [
       "<IPython.core.display.HTML object>"
      ]
     },
     "metadata": {},
     "output_type": "display_data"
    },
    {
     "name": "stderr",
     "output_type": "stream",
     "text": [
      "\u001b[34m\u001b[1mwandb\u001b[0m: wandb version 0.12.16 is available!  To upgrade, please run:\n",
      "\u001b[34m\u001b[1mwandb\u001b[0m:  $ pip install wandb --upgrade\n"
     ]
    },
    {
     "data": {
      "text/html": [
       "\n",
       "                    Syncing run <strong><a href=\"https://wandb.ai/uts_nlp/travis_attack/runs/2qiqjflr\" target=\"_blank\">magic-star-162</a></strong> to <a href=\"https://wandb.ai/uts_nlp/travis_attack\" target=\"_blank\">Weights & Biases</a> (<a href=\"https://docs.wandb.com/integrations/jupyter.html\" target=\"_blank\">docs</a>).<br/>\n",
       "\n",
       "                "
      ],
      "text/plain": [
       "<IPython.core.display.HTML object>"
      ]
     },
     "metadata": {},
     "output_type": "display_data"
    },
    {
     "data": {
      "application/vnd.jupyter.widget-view+json": {
       "model_id": "74ded01b6df044f58b847d17898f8833",
       "version_major": 2,
       "version_minor": 0
      },
      "text/plain": [
       "HBox(children=(FloatProgress(value=0.0, max=8.0), HTML(value='')))"
      ]
     },
     "metadata": {},
     "output_type": "display_data"
    },
    {
     "name": "stderr",
     "output_type": "stream",
     "text": [
      "travis_attack.trainer: INFO     Launching initial eval run: train\n",
      "travis_attack.trainer: INFO     Launching initial eval run: train\n"
     ]
    },
    {
     "data": {
      "application/vnd.jupyter.widget-view+json": {
       "model_id": "a3a4769dd3cf4af393aa9513685c61fc",
       "version_major": 2,
       "version_minor": 0
      },
      "text/plain": [
       "HBox(children=(FloatProgress(value=0.0, max=1.0), HTML(value='')))"
      ]
     },
     "metadata": {},
     "output_type": "display_data"
    },
    {
     "name": "stdout",
     "output_type": "stream",
     "text": [
      "\n"
     ]
    },
    {
     "data": {
      "application/vnd.jupyter.widget-view+json": {
       "model_id": "5619f4a20d8d4c608e734491c513504c",
       "version_major": 2,
       "version_minor": 0
      },
      "text/plain": [
       "HBox(children=(FloatProgress(value=0.0, max=1.0), HTML(value='')))"
      ]
     },
     "metadata": {},
     "output_type": "display_data"
    },
    {
     "name": "stdout",
     "output_type": "stream",
     "text": [
      "\n"
     ]
    },
    {
     "data": {
      "application/vnd.jupyter.widget-view+json": {
       "model_id": "d012775a3ccc46e1b3cdf2d88815adbc",
       "version_major": 2,
       "version_minor": 0
      },
      "text/plain": [
       "HBox(children=(FloatProgress(value=0.0, max=1.0), HTML(value='')))"
      ]
     },
     "metadata": {},
     "output_type": "display_data"
    },
    {
     "name": "stdout",
     "output_type": "stream",
     "text": [
      "\n"
     ]
    },
    {
     "data": {
      "application/vnd.jupyter.widget-view+json": {
       "model_id": "e24f97ea60274005ae66c256f3d52be0",
       "version_major": 2,
       "version_minor": 0
      },
      "text/plain": [
       "HBox(children=(FloatProgress(value=0.0, max=1.0), HTML(value='')))"
      ]
     },
     "metadata": {},
     "output_type": "display_data"
    },
    {
     "name": "stdout",
     "output_type": "stream",
     "text": [
      "\n"
     ]
    },
    {
     "data": {
      "application/vnd.jupyter.widget-view+json": {
       "model_id": "4fc214af3ac945eda71e794a778e1458",
       "version_major": 2,
       "version_minor": 0
      },
      "text/plain": [
       "HBox(children=(FloatProgress(value=1.0, bar_style='info', layout=Layout(width='20px'), max=1.0), HTML(value=''…"
      ]
     },
     "metadata": {},
     "output_type": "display_data"
    },
    {
     "name": "stdout",
     "output_type": "stream",
     "text": [
      "\n"
     ]
    },
    {
     "data": {
      "application/vnd.jupyter.widget-view+json": {
       "model_id": "f622c95673ba413c9d7f57d89bf5c0ff",
       "version_major": 2,
       "version_minor": 0
      },
      "text/plain": [
       "HBox(children=(FloatProgress(value=0.0, max=1.0), HTML(value='')))"
      ]
     },
     "metadata": {},
     "output_type": "display_data"
    },
    {
     "name": "stdout",
     "output_type": "stream",
     "text": [
      "\n"
     ]
    },
    {
     "name": "stderr",
     "output_type": "stream",
     "text": [
      "travis_attack.trainer: INFO     Launching initial eval run: valid\n",
      "travis_attack.trainer: INFO     Launching initial eval run: valid\n"
     ]
    },
    {
     "data": {
      "application/vnd.jupyter.widget-view+json": {
       "model_id": "52c0a617bb1246bf9222508d98b27a42",
       "version_major": 2,
       "version_minor": 0
      },
      "text/plain": [
       "HBox(children=(FloatProgress(value=0.0, max=1.0), HTML(value='')))"
      ]
     },
     "metadata": {},
     "output_type": "display_data"
    },
    {
     "name": "stdout",
     "output_type": "stream",
     "text": [
      "\n"
     ]
    },
    {
     "data": {
      "application/vnd.jupyter.widget-view+json": {
       "model_id": "ba022299c4b148bba23a6fb9724f2bcc",
       "version_major": 2,
       "version_minor": 0
      },
      "text/plain": [
       "HBox(children=(FloatProgress(value=0.0, max=1.0), HTML(value='')))"
      ]
     },
     "metadata": {},
     "output_type": "display_data"
    },
    {
     "name": "stdout",
     "output_type": "stream",
     "text": [
      "\n"
     ]
    },
    {
     "data": {
      "application/vnd.jupyter.widget-view+json": {
       "model_id": "ea76c8bb25914643bcb6144228f8a9b8",
       "version_major": 2,
       "version_minor": 0
      },
      "text/plain": [
       "HBox(children=(FloatProgress(value=0.0, max=1.0), HTML(value='')))"
      ]
     },
     "metadata": {},
     "output_type": "display_data"
    },
    {
     "name": "stdout",
     "output_type": "stream",
     "text": [
      "\n"
     ]
    },
    {
     "data": {
      "application/vnd.jupyter.widget-view+json": {
       "model_id": "0548573becda433aa0d458db9e0f1ada",
       "version_major": 2,
       "version_minor": 0
      },
      "text/plain": [
       "HBox(children=(FloatProgress(value=0.0, max=1.0), HTML(value='')))"
      ]
     },
     "metadata": {},
     "output_type": "display_data"
    },
    {
     "name": "stdout",
     "output_type": "stream",
     "text": [
      "\n"
     ]
    },
    {
     "data": {
      "application/vnd.jupyter.widget-view+json": {
       "model_id": "5cfa5debf56444c1bc2cdc432724edb3",
       "version_major": 2,
       "version_minor": 0
      },
      "text/plain": [
       "HBox(children=(FloatProgress(value=1.0, bar_style='info', layout=Layout(width='20px'), max=1.0), HTML(value=''…"
      ]
     },
     "metadata": {},
     "output_type": "display_data"
    },
    {
     "name": "stdout",
     "output_type": "stream",
     "text": [
      "\n"
     ]
    },
    {
     "data": {
      "application/vnd.jupyter.widget-view+json": {
       "model_id": "c20cdab409c647ff9d51ac567b987b66",
       "version_major": 2,
       "version_minor": 0
      },
      "text/plain": [
       "HBox(children=(FloatProgress(value=0.0, max=1.0), HTML(value='')))"
      ]
     },
     "metadata": {},
     "output_type": "display_data"
    },
    {
     "name": "stdout",
     "output_type": "stream",
     "text": [
      "\n"
     ]
    },
    {
     "name": "stderr",
     "output_type": "stream",
     "text": [
      "travis_attack.trainer: INFO     Launching initial eval run: test\n",
      "travis_attack.trainer: INFO     Launching initial eval run: test\n"
     ]
    },
    {
     "data": {
      "application/vnd.jupyter.widget-view+json": {
       "model_id": "712a0c10ddc540258ff0bf64b5f0ec3e",
       "version_major": 2,
       "version_minor": 0
      },
      "text/plain": [
       "HBox(children=(FloatProgress(value=0.0, max=1.0), HTML(value='')))"
      ]
     },
     "metadata": {},
     "output_type": "display_data"
    },
    {
     "name": "stdout",
     "output_type": "stream",
     "text": [
      "\n"
     ]
    },
    {
     "data": {
      "application/vnd.jupyter.widget-view+json": {
       "model_id": "1a239e3dc1d24bf58796c6a5c9cf4b15",
       "version_major": 2,
       "version_minor": 0
      },
      "text/plain": [
       "HBox(children=(FloatProgress(value=0.0, max=1.0), HTML(value='')))"
      ]
     },
     "metadata": {},
     "output_type": "display_data"
    },
    {
     "name": "stdout",
     "output_type": "stream",
     "text": [
      "\n"
     ]
    },
    {
     "data": {
      "application/vnd.jupyter.widget-view+json": {
       "model_id": "dfa9561dc7f04a6c9124b349fc59e9ed",
       "version_major": 2,
       "version_minor": 0
      },
      "text/plain": [
       "HBox(children=(FloatProgress(value=0.0, max=1.0), HTML(value='')))"
      ]
     },
     "metadata": {},
     "output_type": "display_data"
    },
    {
     "name": "stdout",
     "output_type": "stream",
     "text": [
      "\n"
     ]
    },
    {
     "data": {
      "application/vnd.jupyter.widget-view+json": {
       "model_id": "818590c47f4844258eb2c42b68e72ed0",
       "version_major": 2,
       "version_minor": 0
      },
      "text/plain": [
       "HBox(children=(FloatProgress(value=0.0, max=1.0), HTML(value='')))"
      ]
     },
     "metadata": {},
     "output_type": "display_data"
    },
    {
     "name": "stdout",
     "output_type": "stream",
     "text": [
      "\n"
     ]
    },
    {
     "data": {
      "application/vnd.jupyter.widget-view+json": {
       "model_id": "b6addb11945346b8af36a4513f05f6cd",
       "version_major": 2,
       "version_minor": 0
      },
      "text/plain": [
       "HBox(children=(FloatProgress(value=1.0, bar_style='info', layout=Layout(width='20px'), max=1.0), HTML(value=''…"
      ]
     },
     "metadata": {},
     "output_type": "display_data"
    },
    {
     "name": "stdout",
     "output_type": "stream",
     "text": [
      "\n"
     ]
    },
    {
     "data": {
      "application/vnd.jupyter.widget-view+json": {
       "model_id": "d57c33f2c5ce43c1926fe3472ddf0f38",
       "version_major": 2,
       "version_minor": 0
      },
      "text/plain": [
       "HBox(children=(FloatProgress(value=0.0, max=1.0), HTML(value='')))"
      ]
     },
     "metadata": {},
     "output_type": "display_data"
    },
    {
     "name": "stdout",
     "output_type": "stream",
     "text": [
      "\n"
     ]
    },
    {
     "name": "stderr",
     "output_type": "stream",
     "text": [
      "travis_attack.trainer: INFO     Now on epoch 1 of 2\n",
      "travis_attack.trainer: INFO     Now on epoch 1 of 2\n"
     ]
    },
    {
     "data": {
      "application/vnd.jupyter.widget-view+json": {
       "model_id": "bdd7ffebf3e84b0eaf0bfcad7db92c3d",
       "version_major": 2,
       "version_minor": 0
      },
      "text/plain": [
       "HBox(children=(FloatProgress(value=0.0, max=1.0), HTML(value='')))"
      ]
     },
     "metadata": {},
     "output_type": "display_data"
    },
    {
     "name": "stdout",
     "output_type": "stream",
     "text": [
      "\n"
     ]
    },
    {
     "data": {
      "application/vnd.jupyter.widget-view+json": {
       "model_id": "ed5214af0e4f4030941dc14fb37189db",
       "version_major": 2,
       "version_minor": 0
      },
      "text/plain": [
       "HBox(children=(FloatProgress(value=0.0, max=1.0), HTML(value='')))"
      ]
     },
     "metadata": {},
     "output_type": "display_data"
    },
    {
     "name": "stdout",
     "output_type": "stream",
     "text": [
      "\n"
     ]
    },
    {
     "data": {
      "application/vnd.jupyter.widget-view+json": {
       "model_id": "ab43bd719ab04e1091246623a5ff960b",
       "version_major": 2,
       "version_minor": 0
      },
      "text/plain": [
       "HBox(children=(FloatProgress(value=0.0, max=1.0), HTML(value='')))"
      ]
     },
     "metadata": {},
     "output_type": "display_data"
    },
    {
     "name": "stdout",
     "output_type": "stream",
     "text": [
      "\n"
     ]
    },
    {
     "data": {
      "application/vnd.jupyter.widget-view+json": {
       "model_id": "815d8c2a70dd45419cbdc79b5505be0c",
       "version_major": 2,
       "version_minor": 0
      },
      "text/plain": [
       "HBox(children=(FloatProgress(value=0.0, max=1.0), HTML(value='')))"
      ]
     },
     "metadata": {},
     "output_type": "display_data"
    },
    {
     "name": "stdout",
     "output_type": "stream",
     "text": [
      "\n"
     ]
    },
    {
     "data": {
      "application/vnd.jupyter.widget-view+json": {
       "model_id": "9b9b785bce224c4b9594bbbc59166501",
       "version_major": 2,
       "version_minor": 0
      },
      "text/plain": [
       "HBox(children=(FloatProgress(value=1.0, bar_style='info', layout=Layout(width='20px'), max=1.0), HTML(value=''…"
      ]
     },
     "metadata": {},
     "output_type": "display_data"
    },
    {
     "name": "stdout",
     "output_type": "stream",
     "text": [
      "\n"
     ]
    },
    {
     "data": {
      "application/vnd.jupyter.widget-view+json": {
       "model_id": "0dd3abf10d1446c4847e227851cbc8c5",
       "version_major": 2,
       "version_minor": 0
      },
      "text/plain": [
       "HBox(children=(FloatProgress(value=0.0, max=1.0), HTML(value='')))"
      ]
     },
     "metadata": {},
     "output_type": "display_data"
    },
    {
     "name": "stdout",
     "output_type": "stream",
     "text": [
      "\n"
     ]
    },
    {
     "data": {
      "application/vnd.jupyter.widget-view+json": {
       "model_id": "1c95c8437ee248378bed6f502f1eb214",
       "version_major": 2,
       "version_minor": 0
      },
      "text/plain": [
       "HBox(children=(FloatProgress(value=0.0, max=1.0), HTML(value='')))"
      ]
     },
     "metadata": {},
     "output_type": "display_data"
    },
    {
     "name": "stdout",
     "output_type": "stream",
     "text": [
      "\n"
     ]
    },
    {
     "data": {
      "application/vnd.jupyter.widget-view+json": {
       "model_id": "52a98b98eac74942833fb5c939c47aaf",
       "version_major": 2,
       "version_minor": 0
      },
      "text/plain": [
       "HBox(children=(FloatProgress(value=0.0, max=1.0), HTML(value='')))"
      ]
     },
     "metadata": {},
     "output_type": "display_data"
    },
    {
     "name": "stdout",
     "output_type": "stream",
     "text": [
      "\n"
     ]
    },
    {
     "data": {
      "application/vnd.jupyter.widget-view+json": {
       "model_id": "c759200f81104dbc8851594be674447b",
       "version_major": 2,
       "version_minor": 0
      },
      "text/plain": [
       "HBox(children=(FloatProgress(value=0.0, max=1.0), HTML(value='')))"
      ]
     },
     "metadata": {},
     "output_type": "display_data"
    },
    {
     "name": "stdout",
     "output_type": "stream",
     "text": [
      "\n"
     ]
    },
    {
     "data": {
      "application/vnd.jupyter.widget-view+json": {
       "model_id": "217cfe0e35ed4c6793607fbb937a1691",
       "version_major": 2,
       "version_minor": 0
      },
      "text/plain": [
       "HBox(children=(FloatProgress(value=0.0, max=1.0), HTML(value='')))"
      ]
     },
     "metadata": {},
     "output_type": "display_data"
    },
    {
     "name": "stdout",
     "output_type": "stream",
     "text": [
      "\n"
     ]
    },
    {
     "data": {
      "application/vnd.jupyter.widget-view+json": {
       "model_id": "bfef71f1b4ac4c6d8f635caf9e3fd198",
       "version_major": 2,
       "version_minor": 0
      },
      "text/plain": [
       "HBox(children=(FloatProgress(value=1.0, bar_style='info', layout=Layout(width='20px'), max=1.0), HTML(value=''…"
      ]
     },
     "metadata": {},
     "output_type": "display_data"
    },
    {
     "name": "stdout",
     "output_type": "stream",
     "text": [
      "\n"
     ]
    },
    {
     "data": {
      "application/vnd.jupyter.widget-view+json": {
       "model_id": "435235b0484c4a4a9d6a78dbc1014a0c",
       "version_major": 2,
       "version_minor": 0
      },
      "text/plain": [
       "HBox(children=(FloatProgress(value=0.0, max=1.0), HTML(value='')))"
      ]
     },
     "metadata": {},
     "output_type": "display_data"
    },
    {
     "name": "stdout",
     "output_type": "stream",
     "text": [
      "\n"
     ]
    },
    {
     "name": "stderr",
     "output_type": "stream",
     "text": [
      "travis_attack.trainer: INFO     Now on epoch 2 of 2\n",
      "travis_attack.trainer: INFO     Now on epoch 2 of 2\n"
     ]
    },
    {
     "data": {
      "application/vnd.jupyter.widget-view+json": {
       "model_id": "5e6cefc1196b4bfba6ba3dcd170ae221",
       "version_major": 2,
       "version_minor": 0
      },
      "text/plain": [
       "HBox(children=(FloatProgress(value=0.0, max=1.0), HTML(value='')))"
      ]
     },
     "metadata": {},
     "output_type": "display_data"
    },
    {
     "name": "stdout",
     "output_type": "stream",
     "text": [
      "\n"
     ]
    },
    {
     "data": {
      "application/vnd.jupyter.widget-view+json": {
       "model_id": "ef8b87871a72461f8552e50255eceaa3",
       "version_major": 2,
       "version_minor": 0
      },
      "text/plain": [
       "HBox(children=(FloatProgress(value=0.0, max=1.0), HTML(value='')))"
      ]
     },
     "metadata": {},
     "output_type": "display_data"
    },
    {
     "name": "stdout",
     "output_type": "stream",
     "text": [
      "\n"
     ]
    },
    {
     "data": {
      "application/vnd.jupyter.widget-view+json": {
       "model_id": "54701aba3b96499999636543b5616ff7",
       "version_major": 2,
       "version_minor": 0
      },
      "text/plain": [
       "HBox(children=(FloatProgress(value=0.0, max=1.0), HTML(value='')))"
      ]
     },
     "metadata": {},
     "output_type": "display_data"
    },
    {
     "name": "stdout",
     "output_type": "stream",
     "text": [
      "\n"
     ]
    },
    {
     "data": {
      "application/vnd.jupyter.widget-view+json": {
       "model_id": "10a0c459d9924828b8c15ca1fbe815fb",
       "version_major": 2,
       "version_minor": 0
      },
      "text/plain": [
       "HBox(children=(FloatProgress(value=0.0, max=1.0), HTML(value='')))"
      ]
     },
     "metadata": {},
     "output_type": "display_data"
    },
    {
     "name": "stdout",
     "output_type": "stream",
     "text": [
      "\n"
     ]
    },
    {
     "data": {
      "application/vnd.jupyter.widget-view+json": {
       "model_id": "1c2b068923e54634b4c77873875ece46",
       "version_major": 2,
       "version_minor": 0
      },
      "text/plain": [
       "HBox(children=(FloatProgress(value=1.0, bar_style='info', layout=Layout(width='20px'), max=1.0), HTML(value=''…"
      ]
     },
     "metadata": {},
     "output_type": "display_data"
    },
    {
     "name": "stdout",
     "output_type": "stream",
     "text": [
      "\n"
     ]
    },
    {
     "data": {
      "application/vnd.jupyter.widget-view+json": {
       "model_id": "b27dbebf228d4de8b9b3a112bce0d8c9",
       "version_major": 2,
       "version_minor": 0
      },
      "text/plain": [
       "HBox(children=(FloatProgress(value=0.0, max=1.0), HTML(value='')))"
      ]
     },
     "metadata": {},
     "output_type": "display_data"
    },
    {
     "name": "stdout",
     "output_type": "stream",
     "text": [
      "\n"
     ]
    },
    {
     "data": {
      "application/vnd.jupyter.widget-view+json": {
       "model_id": "92841fd1ed3244d5aef7a7ee31796e38",
       "version_major": 2,
       "version_minor": 0
      },
      "text/plain": [
       "HBox(children=(FloatProgress(value=0.0, max=1.0), HTML(value='')))"
      ]
     },
     "metadata": {},
     "output_type": "display_data"
    },
    {
     "name": "stdout",
     "output_type": "stream",
     "text": [
      "\n"
     ]
    },
    {
     "data": {
      "application/vnd.jupyter.widget-view+json": {
       "model_id": "bc4ed33365264f499c9e2767191fe1ee",
       "version_major": 2,
       "version_minor": 0
      },
      "text/plain": [
       "HBox(children=(FloatProgress(value=0.0, max=1.0), HTML(value='')))"
      ]
     },
     "metadata": {},
     "output_type": "display_data"
    },
    {
     "name": "stdout",
     "output_type": "stream",
     "text": [
      "\n"
     ]
    },
    {
     "data": {
      "application/vnd.jupyter.widget-view+json": {
       "model_id": "ca7bf86f664941459d24e34beaea5c21",
       "version_major": 2,
       "version_minor": 0
      },
      "text/plain": [
       "HBox(children=(FloatProgress(value=0.0, max=1.0), HTML(value='')))"
      ]
     },
     "metadata": {},
     "output_type": "display_data"
    },
    {
     "name": "stdout",
     "output_type": "stream",
     "text": [
      "\n"
     ]
    },
    {
     "data": {
      "application/vnd.jupyter.widget-view+json": {
       "model_id": "4ca5d0454105490ebfb3043ddd41ad7e",
       "version_major": 2,
       "version_minor": 0
      },
      "text/plain": [
       "HBox(children=(FloatProgress(value=0.0, max=1.0), HTML(value='')))"
      ]
     },
     "metadata": {},
     "output_type": "display_data"
    },
    {
     "name": "stdout",
     "output_type": "stream",
     "text": [
      "\n"
     ]
    },
    {
     "data": {
      "application/vnd.jupyter.widget-view+json": {
       "model_id": "e8a91d7bc97f455fb47b8061d92a1467",
       "version_major": 2,
       "version_minor": 0
      },
      "text/plain": [
       "HBox(children=(FloatProgress(value=1.0, bar_style='info', layout=Layout(width='20px'), max=1.0), HTML(value=''…"
      ]
     },
     "metadata": {},
     "output_type": "display_data"
    },
    {
     "name": "stdout",
     "output_type": "stream",
     "text": [
      "\n"
     ]
    },
    {
     "data": {
      "application/vnd.jupyter.widget-view+json": {
       "model_id": "5054543dd142443394bc2452d6f2ed09",
       "version_major": 2,
       "version_minor": 0
      },
      "text/plain": [
       "HBox(children=(FloatProgress(value=0.0, max=1.0), HTML(value='')))"
      ]
     },
     "metadata": {},
     "output_type": "display_data"
    },
    {
     "name": "stdout",
     "output_type": "stream",
     "text": [
      "\n"
     ]
    },
    {
     "data": {
      "application/vnd.jupyter.widget-view+json": {
       "model_id": "b0a3451d7fa94767aa936b20abdca672",
       "version_major": 2,
       "version_minor": 0
      },
      "text/plain": [
       "HBox(children=(FloatProgress(value=0.0, max=1.0), HTML(value='')))"
      ]
     },
     "metadata": {},
     "output_type": "display_data"
    },
    {
     "name": "stdout",
     "output_type": "stream",
     "text": [
      "\n"
     ]
    },
    {
     "data": {
      "application/vnd.jupyter.widget-view+json": {
       "model_id": "cd19e8537e1147f99431554077ac7d62",
       "version_major": 2,
       "version_minor": 0
      },
      "text/plain": [
       "HBox(children=(FloatProgress(value=0.0, max=1.0), HTML(value='')))"
      ]
     },
     "metadata": {},
     "output_type": "display_data"
    },
    {
     "name": "stdout",
     "output_type": "stream",
     "text": [
      "\n"
     ]
    },
    {
     "data": {
      "application/vnd.jupyter.widget-view+json": {
       "model_id": "1582110534d2437a80018af01882980b",
       "version_major": 2,
       "version_minor": 0
      },
      "text/plain": [
       "HBox(children=(FloatProgress(value=0.0, max=1.0), HTML(value='')))"
      ]
     },
     "metadata": {},
     "output_type": "display_data"
    },
    {
     "name": "stdout",
     "output_type": "stream",
     "text": [
      "\n"
     ]
    },
    {
     "data": {
      "application/vnd.jupyter.widget-view+json": {
       "model_id": "b97ca0fec25946599d7cb87a5e4fd70b",
       "version_major": 2,
       "version_minor": 0
      },
      "text/plain": [
       "HBox(children=(FloatProgress(value=0.0, max=1.0), HTML(value='')))"
      ]
     },
     "metadata": {},
     "output_type": "display_data"
    },
    {
     "name": "stdout",
     "output_type": "stream",
     "text": [
      "\n"
     ]
    },
    {
     "data": {
      "application/vnd.jupyter.widget-view+json": {
       "model_id": "010ca2383c44405c871c0caaa8b0d989",
       "version_major": 2,
       "version_minor": 0
      },
      "text/plain": [
       "HBox(children=(FloatProgress(value=1.0, bar_style='info', layout=Layout(width='20px'), max=1.0), HTML(value=''…"
      ]
     },
     "metadata": {},
     "output_type": "display_data"
    },
    {
     "name": "stdout",
     "output_type": "stream",
     "text": [
      "\n"
     ]
    },
    {
     "data": {
      "application/vnd.jupyter.widget-view+json": {
       "model_id": "cbade649ff824891ac9c6d578b651f98",
       "version_major": 2,
       "version_minor": 0
      },
      "text/plain": [
       "HBox(children=(FloatProgress(value=0.0, max=1.0), HTML(value='')))"
      ]
     },
     "metadata": {},
     "output_type": "display_data"
    },
    {
     "name": "stdout",
     "output_type": "stream",
     "text": [
      "\n"
     ]
    }
   ],
   "source": [
    "cfg.wandb['mode'] = 'online'\n",
    "trainer = Trainer(cfg, vm_tokenizer, vm_model, pp_tokenizer, pp_model, ref_pp_model, sts_model, nli_tokenizer, nli_model, optimizer,\n",
    "         ds, initial_eval=True)\n",
    "\n",
    "#print_important_cfg_vars(cfg)\n",
    "trainer.train()"
   ]
  },
  {
   "cell_type": "code",
   "execution_count": null,
   "metadata": {},
   "outputs": [],
   "source": [
    "#df = pd.read_csv(cfg.path_results + \"run_results.csv\")\n",
    "#display_all(df)"
   ]
  },
  {
   "cell_type": "code",
   "execution_count": null,
   "metadata": {},
   "outputs": [],
   "source": [
    "# df = pd.read_csv(f'{cfg.path_run}training_step.csv')\n",
    "# #display_all(df.query('idx==1'))\n",
    "# df.columns"
   ]
  },
  {
   "cell_type": "code",
   "execution_count": null,
   "metadata": {},
   "outputs": [],
   "source": [
    "#trainer.run.finish()"
   ]
  },
  {
   "cell_type": "code",
   "execution_count": null,
   "metadata": {},
   "outputs": [],
   "source": [
    "# # ## TO RESUME RUN\n",
    "# cfg = Config()\n",
    "# cfg.run_id = 'b9r88lmz'\n",
    "# cfg.run_name = \"fresh-cosmos-151\"\n",
    "# cfg.path_run = f\"{cfg.path_checkpoints}{cfg.run_name}/\"\n",
    "# run = resume_wandb_run(cfg)\n"
   ]
  },
  {
   "cell_type": "code",
   "execution_count": null,
   "metadata": {},
   "outputs": [
    {
     "name": "stderr",
     "output_type": "stream",
     "text": [
      "travis_attack.insights: INFO     Dataframes have shapes ['training_step: (58, 49)', 'train: (696, 20)', 'valid: (144, 20)', 'test: (32, 20)']\n",
      "travis_attack.insights: INFO     Dataframes have shapes ['training_step: (58, 49)', 'train: (696, 20)', 'valid: (144, 20)', 'test: (32, 20)']\n",
      "/data/tproth/travis_attack/travis_attack/insights.py:69: FutureWarning: In a future version of pandas all arguments of DataFrame.drop except for the argument 'labels' will be keyword-only.\n",
      "  df = df.drop('pp_changed', 1) # don't need this anymore\n",
      "travis_attack.insights: INFO     Adding text metrics for column orig\n",
      "travis_attack.insights: INFO     Adding text metrics for column orig\n"
     ]
    },
    {
     "data": {
      "application/vnd.jupyter.widget-view+json": {
       "model_id": "07cb0e14298f4ce9b4e09c3cc8296616",
       "version_major": 2,
       "version_minor": 0
      },
      "text/plain": [
       "HBox(children=(FloatProgress(value=1.0, bar_style='info', layout=Layout(width='20px'), max=1.0), HTML(value=''…"
      ]
     },
     "metadata": {},
     "output_type": "display_data"
    },
    {
     "name": "stderr",
     "output_type": "stream",
     "text": [
      "travis_attack.insights: INFO     Adding text metrics for column pp\n",
      "travis_attack.insights: INFO     Adding text metrics for column pp\n"
     ]
    },
    {
     "name": "stdout",
     "output_type": "stream",
     "text": [
      "\n"
     ]
    },
    {
     "data": {
      "application/vnd.jupyter.widget-view+json": {
       "model_id": "7263e3c65bdd4a1fa7ddae6b57ee4674",
       "version_major": 2,
       "version_minor": 0
      },
      "text/plain": [
       "HBox(children=(FloatProgress(value=1.0, bar_style='info', layout=Layout(width='20px'), max=1.0), HTML(value=''…"
      ]
     },
     "metadata": {},
     "output_type": "display_data"
    },
    {
     "name": "stderr",
     "output_type": "stream",
     "text": [
      "travis_attack.insights: INFO     Calculating metric differences between orig and pp\n",
      "travis_attack.insights: INFO     Calculating metric differences between orig and pp\n",
      "travis_attack.insights: INFO     Calculating text pair statistics for (orig, pp) unique pairs\n",
      "travis_attack.insights: INFO     Calculating text pair statistics for (orig, pp) unique pairs\n"
     ]
    },
    {
     "name": "stdout",
     "output_type": "stream",
     "text": [
      "\n"
     ]
    },
    {
     "data": {
      "application/vnd.jupyter.widget-view+json": {
       "model_id": "373416dadbf94d33a66cf7aa164c7a0c",
       "version_major": 2,
       "version_minor": 0
      },
      "text/plain": [
       "HBox(children=(FloatProgress(value=1.0, bar_style='info', layout=Layout(width='20px'), max=1.0), HTML(value=''…"
      ]
     },
     "metadata": {},
     "output_type": "display_data"
    },
    {
     "name": "stderr",
     "output_type": "stream",
     "text": [
      "/data/tproth/travis_attack/travis_attack/insights.py:69: FutureWarning: In a future version of pandas all arguments of DataFrame.drop except for the argument 'labels' will be keyword-only.\n",
      "  df = df.drop('pp_changed', 1) # don't need this anymore\n",
      "travis_attack.insights: INFO     Adding text metrics for column orig\n",
      "travis_attack.insights: INFO     Adding text metrics for column orig\n"
     ]
    },
    {
     "name": "stdout",
     "output_type": "stream",
     "text": [
      "\n"
     ]
    },
    {
     "data": {
      "application/vnd.jupyter.widget-view+json": {
       "model_id": "9f4c430c96ca4be2bca72f5c5a3869e9",
       "version_major": 2,
       "version_minor": 0
      },
      "text/plain": [
       "HBox(children=(FloatProgress(value=1.0, bar_style='info', layout=Layout(width='20px'), max=1.0), HTML(value=''…"
      ]
     },
     "metadata": {},
     "output_type": "display_data"
    },
    {
     "name": "stderr",
     "output_type": "stream",
     "text": [
      "travis_attack.insights: INFO     Adding text metrics for column pp\n",
      "travis_attack.insights: INFO     Adding text metrics for column pp\n"
     ]
    },
    {
     "name": "stdout",
     "output_type": "stream",
     "text": [
      "\n"
     ]
    },
    {
     "data": {
      "application/vnd.jupyter.widget-view+json": {
       "model_id": "f0921691d62646ba8ac254a8e66a08df",
       "version_major": 2,
       "version_minor": 0
      },
      "text/plain": [
       "HBox(children=(FloatProgress(value=1.0, bar_style='info', layout=Layout(width='20px'), max=1.0), HTML(value=''…"
      ]
     },
     "metadata": {},
     "output_type": "display_data"
    },
    {
     "name": "stderr",
     "output_type": "stream",
     "text": [
      "travis_attack.insights: INFO     Calculating metric differences between orig and pp\n",
      "travis_attack.insights: INFO     Calculating metric differences between orig and pp\n",
      "travis_attack.insights: INFO     Calculating text pair statistics for (orig, pp) unique pairs\n",
      "travis_attack.insights: INFO     Calculating text pair statistics for (orig, pp) unique pairs\n"
     ]
    },
    {
     "name": "stdout",
     "output_type": "stream",
     "text": [
      "\n"
     ]
    },
    {
     "data": {
      "application/vnd.jupyter.widget-view+json": {
       "model_id": "ab3acc91ca4b414da15d1998df3b9654",
       "version_major": 2,
       "version_minor": 0
      },
      "text/plain": [
       "HBox(children=(FloatProgress(value=1.0, bar_style='info', layout=Layout(width='20px'), max=1.0), HTML(value=''…"
      ]
     },
     "metadata": {},
     "output_type": "display_data"
    },
    {
     "name": "stderr",
     "output_type": "stream",
     "text": [
      "/data/tproth/travis_attack/travis_attack/insights.py:69: FutureWarning: In a future version of pandas all arguments of DataFrame.drop except for the argument 'labels' will be keyword-only.\n",
      "  df = df.drop('pp_changed', 1) # don't need this anymore\n",
      "travis_attack.insights: INFO     Adding text metrics for column orig\n",
      "travis_attack.insights: INFO     Adding text metrics for column orig\n"
     ]
    },
    {
     "name": "stdout",
     "output_type": "stream",
     "text": [
      "\n"
     ]
    },
    {
     "data": {
      "application/vnd.jupyter.widget-view+json": {
       "model_id": "dae4658d33f94444b7dcf32da8f2b020",
       "version_major": 2,
       "version_minor": 0
      },
      "text/plain": [
       "HBox(children=(FloatProgress(value=1.0, bar_style='info', layout=Layout(width='20px'), max=1.0), HTML(value=''…"
      ]
     },
     "metadata": {},
     "output_type": "display_data"
    },
    {
     "name": "stderr",
     "output_type": "stream",
     "text": [
      "travis_attack.insights: INFO     Adding text metrics for column pp\n",
      "travis_attack.insights: INFO     Adding text metrics for column pp\n"
     ]
    },
    {
     "name": "stdout",
     "output_type": "stream",
     "text": [
      "\n"
     ]
    },
    {
     "data": {
      "application/vnd.jupyter.widget-view+json": {
       "model_id": "09c4ee9f80bc481b8a327425720ac62a",
       "version_major": 2,
       "version_minor": 0
      },
      "text/plain": [
       "HBox(children=(FloatProgress(value=1.0, bar_style='info', layout=Layout(width='20px'), max=1.0), HTML(value=''…"
      ]
     },
     "metadata": {},
     "output_type": "display_data"
    },
    {
     "name": "stderr",
     "output_type": "stream",
     "text": [
      "travis_attack.insights: INFO     Calculating metric differences between orig and pp\n",
      "travis_attack.insights: INFO     Calculating metric differences between orig and pp\n",
      "travis_attack.insights: INFO     Calculating text pair statistics for (orig, pp) unique pairs\n",
      "travis_attack.insights: INFO     Calculating text pair statistics for (orig, pp) unique pairs\n"
     ]
    },
    {
     "name": "stdout",
     "output_type": "stream",
     "text": [
      "\n"
     ]
    },
    {
     "data": {
      "application/vnd.jupyter.widget-view+json": {
       "model_id": "6e7066d128b544edaa43cd3eb0b4abaa",
       "version_major": 2,
       "version_minor": 0
      },
      "text/plain": [
       "HBox(children=(FloatProgress(value=1.0, bar_style='info', layout=Layout(width='20px'), max=1.0), HTML(value=''…"
      ]
     },
     "metadata": {},
     "output_type": "display_data"
    },
    {
     "name": "stderr",
     "output_type": "stream",
     "text": [
      "/data/tproth/travis_attack/travis_attack/insights.py:69: FutureWarning: In a future version of pandas all arguments of DataFrame.drop except for the argument 'labels' will be keyword-only.\n",
      "  df = df.drop('pp_changed', 1) # don't need this anymore\n",
      "travis_attack.insights: INFO     Adding text metrics for column orig\n",
      "travis_attack.insights: INFO     Adding text metrics for column orig\n"
     ]
    },
    {
     "name": "stdout",
     "output_type": "stream",
     "text": [
      "\n"
     ]
    },
    {
     "data": {
      "application/vnd.jupyter.widget-view+json": {
       "model_id": "2a722a62e4064d1da9821feb22f45ba8",
       "version_major": 2,
       "version_minor": 0
      },
      "text/plain": [
       "HBox(children=(FloatProgress(value=1.0, bar_style='info', layout=Layout(width='20px'), max=1.0), HTML(value=''…"
      ]
     },
     "metadata": {},
     "output_type": "display_data"
    },
    {
     "name": "stderr",
     "output_type": "stream",
     "text": [
      "travis_attack.insights: INFO     Adding text metrics for column pp\n",
      "travis_attack.insights: INFO     Adding text metrics for column pp\n"
     ]
    },
    {
     "name": "stdout",
     "output_type": "stream",
     "text": [
      "\n"
     ]
    },
    {
     "data": {
      "application/vnd.jupyter.widget-view+json": {
       "model_id": "780ab04d843640a1b7f908439ac08947",
       "version_major": 2,
       "version_minor": 0
      },
      "text/plain": [
       "HBox(children=(FloatProgress(value=1.0, bar_style='info', layout=Layout(width='20px'), max=1.0), HTML(value=''…"
      ]
     },
     "metadata": {},
     "output_type": "display_data"
    },
    {
     "name": "stderr",
     "output_type": "stream",
     "text": [
      "travis_attack.insights: INFO     Calculating metric differences between orig and pp\n",
      "travis_attack.insights: INFO     Calculating metric differences between orig and pp\n",
      "travis_attack.insights: INFO     Calculating text pair statistics for (orig, pp) unique pairs\n",
      "travis_attack.insights: INFO     Calculating text pair statistics for (orig, pp) unique pairs\n"
     ]
    },
    {
     "name": "stdout",
     "output_type": "stream",
     "text": [
      "\n"
     ]
    },
    {
     "data": {
      "application/vnd.jupyter.widget-view+json": {
       "model_id": "00ef7ebb472e41f89266ea2d519950d7",
       "version_major": 2,
       "version_minor": 0
      },
      "text/plain": [
       "HBox(children=(FloatProgress(value=1.0, bar_style='info', layout=Layout(width='20px'), max=1.0), HTML(value=''…"
      ]
     },
     "metadata": {},
     "output_type": "display_data"
    },
    {
     "name": "stdout",
     "output_type": "stream",
     "text": [
      "\n"
     ]
    },
    {
     "data": {
      "text/html": [
       "<br/>Waiting for W&B process to finish, PID 6304... <strong style=\"color:green\">(success).</strong>"
      ],
      "text/plain": [
       "<IPython.core.display.HTML object>"
      ]
     },
     "metadata": {},
     "output_type": "display_data"
    },
    {
     "data": {
      "application/vnd.jupyter.widget-view+json": {
       "model_id": "",
       "version_major": 2,
       "version_minor": 0
      },
      "text/plain": [
       "VBox(children=(Label(value=' 0.17MB of 0.29MB uploaded (0.00MB deduped)\\r'), FloatProgress(value=0.60026769984…"
      ]
     },
     "metadata": {},
     "output_type": "display_data"
    },
    {
     "data": {
      "text/html": [
       "<style>\n",
       "    table.wandb td:nth-child(1) { padding: 0 10px; text-align: right }\n",
       "    .wandb-row { display: flex; flex-direction: row; flex-wrap: wrap; width: 100% }\n",
       "    .wandb-col { display: flex; flex-direction: column; flex-basis: 100%; flex: 1; padding: 10px; }\n",
       "    </style>\n",
       "<div class=\"wandb-row\"><div class=\"wandb-col\">\n",
       "<h3>Run history:</h3><br/><table class=\"wandb\"><tr><td>%_of_tokens_above_prob_1/vocab_size</td><td>█████▁██</td></tr><tr><td>%_of_tokens_above_prob_1e-05</td><td>█████▁██</td></tr><tr><td>%_of_tokens_above_prob_1e-06</td><td>█████▁██</td></tr><tr><td>%_of_tokens_above_prob_1e-07</td><td>█████▁██</td></tr><tr><td>%_of_tokens_above_prob_1e-08</td><td>█████▁██</td></tr><tr><td>%_of_tokens_above_prob_1e-09</td><td>█████▁██</td></tr><tr><td>acc_batch_n_examples</td><td>██▁▁██▁▁</td></tr><tr><td>acc_num</td><td>▁█▁█▁█▁█</td></tr><tr><td>any_adv_example_proportion-test</td><td>▁▁</td></tr><tr><td>any_adv_example_proportion-train</td><td>▁▁▁</td></tr><tr><td>any_adv_example_proportion-valid</td><td>▁▁▁</td></tr><tr><td>batch_num</td><td>▁▃▆█▁▃▆█</td></tr><tr><td>contradiction_scores-mean-test</td><td>▁█</td></tr><tr><td>contradiction_scores-mean-train</td><td>▁█▁</td></tr><tr><td>contradiction_scores-mean-valid</td><td>▆▁█</td></tr><tr><td>contradiction_scores-std-test</td><td>▁█</td></tr><tr><td>contradiction_scores-std-train</td><td>█▅▁</td></tr><tr><td>contradiction_scores-std-valid</td><td>█▁█</td></tr><tr><td>contradiction_scores_mean</td><td>▂▁█▃▂▂▅▄</td></tr><tr><td>epoch</td><td>▁▁▁▅▅▅▅▅▅▅▅█████████</td></tr><tr><td>global_step</td><td>▁▂▃▄▅▆▇█</td></tr><tr><td>gradient_norm</td><td>▇█▃▆▂▄▁▆</td></tr><tr><td>is_adv_example-mean-test</td><td>▁▁</td></tr><tr><td>is_adv_example-mean-train</td><td>▁▁█</td></tr><tr><td>is_adv_example-mean-valid</td><td>██▁</td></tr><tr><td>is_adv_example-std-test</td><td>▁▁</td></tr><tr><td>is_adv_example-std-train</td><td>▁▁█</td></tr><tr><td>is_adv_example-std-valid</td><td>██▁</td></tr><tr><td>is_valid_pp-mean-test</td><td>▁█</td></tr><tr><td>is_valid_pp-mean-train</td><td>▁▁▁</td></tr><tr><td>is_valid_pp-mean-valid</td><td>██▁</td></tr><tr><td>is_valid_pp-std-test</td><td>█▁</td></tr><tr><td>is_valid_pp-std-train</td><td>▁▁▁</td></tr><tr><td>is_valid_pp-std-valid</td><td>▁▁█</td></tr><tr><td>kl_div_mean</td><td>█▅▃▃▂▄▁▁</td></tr><tr><td>label_flip-mean-test</td><td>▁▁</td></tr><tr><td>label_flip-mean-train</td><td>▁▁█</td></tr><tr><td>label_flip-mean-valid</td><td>█▁█</td></tr><tr><td>label_flip-std-test</td><td>▁▁</td></tr><tr><td>label_flip-std-train</td><td>▁▁█</td></tr><tr><td>label_flip-std-valid</td><td>█▁█</td></tr><tr><td>label_flip_fraction</td><td>█▅█▇█▁█▇</td></tr><tr><td>loss_batch</td><td>█▅▃▄▂▃▁▅</td></tr><tr><td>loss_sum</td><td>█▅▃▄▂▃▁▄</td></tr><tr><td>orig_batch_size</td><td>███▁███▁</td></tr><tr><td>orig_length</td><td>██▁▁██▁▁</td></tr><tr><td>parameter_norm</td><td>▁█▁▇▁▆▁▇</td></tr><tr><td>pp_batch_size</td><td>███▁███▁</td></tr><tr><td>pp_length</td><td>▅▅▄▂▆▅█▁</td></tr><tr><td>pp_letter_diff-mean-test</td><td>█▁</td></tr><tr><td>pp_letter_diff-mean-train</td><td>▅█▁</td></tr><tr><td>pp_letter_diff-mean-valid</td><td>█▁▆</td></tr><tr><td>pp_letter_diff-std-test</td><td>█▁</td></tr><tr><td>pp_letter_diff-std-train</td><td>██▁</td></tr><tr><td>pp_letter_diff-std-valid</td><td>▁█▇</td></tr><tr><td>pp_letter_diff_mean</td><td>▇▆▄▁█▆▆▅</td></tr><tr><td>pp_letter_percent_mean</td><td>▁▂▃█▁▂▂▂</td></tr><tr><td>pp_logp_mean</td><td>▁▅▂▁█▆▆▃</td></tr><tr><td>rank_1_token_prob_0.25_quantile</td><td>▇▇▁▁▆█▄▄</td></tr><tr><td>rank_1_token_prob_0.75_quantile</td><td>██▁▂██▆▄</td></tr><tr><td>rank_1_token_prob_mean</td><td>▇█▁▂▇▆▆▅</td></tr><tr><td>rank_1_token_prob_median</td><td>▇█▁▂▇▆▆▄</td></tr><tr><td>rank_2_token_prob_0.25_quantile</td><td>▂▂█▆▅▁▃█</td></tr><tr><td>rank_2_token_prob_0.75_quantile</td><td>▄▄▇▆█▁▃▂</td></tr><tr><td>rank_2_token_prob_mean</td><td>▅▁▅▆▄▁▂█</td></tr><tr><td>rank_2_token_prob_median</td><td>▂▁█▆█▁▅▄</td></tr><tr><td>rank_3_token_prob_0.25_quantile</td><td>▅▁▆█▃▂▃█</td></tr><tr><td>rank_3_token_prob_0.75_quantile</td><td>▁▃▃█▄▁▂▅</td></tr><tr><td>rank_3_token_prob_mean</td><td>█▁█▇▁▁▁▇</td></tr><tr><td>rank_3_token_prob_median</td><td>▆▂█▆▂▁▁▇</td></tr><tr><td>ref_logp_mean</td><td>▁▅▃▂█▆▇▅</td></tr><tr><td>reward-mean-test</td><td>▁█</td></tr><tr><td>reward-mean-train</td><td>▁▆█</td></tr><tr><td>reward-mean-valid</td><td>▆█▁</td></tr><tr><td>reward-std-test</td><td>▁█</td></tr><tr><td>reward-std-train</td><td>▁▃█</td></tr><tr><td>reward-std-valid</td><td>██▁</td></tr><tr><td>reward_baseline_adjusted_mean</td><td>█▄▂▆▂▂▁▆</td></tr><tr><td>reward_penalty_mean</td><td>▁▄▆▆▇▅██</td></tr><tr><td>reward_with_penalty_mean</td><td>▆▃▄▆▁▃▁█</td></tr><tr><td>rewards_mean</td><td>▆▃▄▆▁▃▁█</td></tr><tr><td>sts_scores-mean-test</td><td>▁█</td></tr><tr><td>sts_scores-mean-train</td><td>▇█▁</td></tr><tr><td>sts_scores-mean-valid</td><td>▆█▁</td></tr><tr><td>sts_scores-std-test</td><td>▁█</td></tr><tr><td>sts_scores-std-train</td><td>█▆▁</td></tr><tr><td>sts_scores-std-valid</td><td>▂▁█</td></tr><tr><td>sts_scores_mean</td><td>▄▇▄▅▆█▃▁</td></tr><tr><td>time/eval_empty_cache</td><td>▁█</td></tr><tr><td>time/eval_gc_collect</td><td>█▁</td></tr><tr><td>time/eval_train_thoroughput</td><td>▁█</td></tr><tr><td>time/eval_train_time</td><td>█▁</td></tr><tr><td>time/eval_valid_thoroughput</td><td>█▁</td></tr><tr><td>time/eval_valid_time</td><td>▁█</td></tr><tr><td>time/train_one_epoch_thoroughput</td><td>█▁</td></tr><tr><td>time/train_one_epoch_time</td><td>▁█</td></tr><tr><td>time_backwards</td><td>▅▅▄▂▆▄█▁</td></tr><tr><td>time_calc_gradient_norm</td><td>▃█▂▂▅▃▅▁</td></tr><tr><td>time_contradiction_scores</td><td>█▂▃▁▆█▂▂</td></tr><tr><td>time_generate_pp</td><td>█▃▄▂▇▃▅▁</td></tr><tr><td>time_log_entropy</td><td>█▃▃▁▆▄▄▂</td></tr><tr><td>time_log_token_probabilities</td><td>▅█▃▁▄▄▅▂</td></tr><tr><td>time_loss_fn</td><td>▇▅▄▂█▅█▁</td></tr><tr><td>time_loss_fn_loss_calc</td><td>▃█▁▆▃▃▅▄</td></tr><tr><td>time_opt_step</td><td>▁█▁▄▁▄▁▄</td></tr><tr><td>time_opt_step_and_calc_param_norm</td><td>▁█▁▆▁▆▁▆</td></tr><tr><td>time_pp_letter_diff</td><td>█▁▁▁▂▃▁▁</td></tr><tr><td>time_pp_logp</td><td>█▂▁▁▂▂▂▁</td></tr><tr><td>time_ref_logprobs</td><td>▆▅▄▂█▅█▁</td></tr><tr><td>time_reward_fn</td><td>█▂▂▁▄▅▂▂</td></tr><tr><td>time_sts_scores</td><td>█▁▂▁▄▅▁▂</td></tr><tr><td>time_vm_scores</td><td>█▁▁▁▄▄▁▂</td></tr><tr><td>top_token_prob_over_0.1</td><td>▄▃▆▅▄▁▆█</td></tr><tr><td>top_token_prob_over_0.3</td><td>▆█▁▃▆▇▄▄</td></tr><tr><td>top_token_prob_over_0.5</td><td>▆█▁▃▇▆▆▃</td></tr><tr><td>top_token_prob_over_0.75</td><td>▆█▁▃▇▇▆▂</td></tr><tr><td>top_token_prob_over_0.9</td><td>▃▆▁▂▇█▅▃</td></tr><tr><td>top_token_prob_over_0.95</td><td>▅▇▇▅█▇█▁</td></tr><tr><td>top_token_prob_over_0.975</td><td>▅▇▆▃██▇▁</td></tr><tr><td>top_token_prob_over_0.99</td><td>▄█▅▄▆█▇▁</td></tr><tr><td>vm_scores-mean-test</td><td>▁█</td></tr><tr><td>vm_scores-mean-train</td><td>▁▃█</td></tr><tr><td>vm_scores-mean-valid</td><td>▇▁█</td></tr><tr><td>vm_scores-std-test</td><td>▁█</td></tr><tr><td>vm_scores-std-train</td><td>▄▁█</td></tr><tr><td>vm_scores-std-valid</td><td>▇▁█</td></tr><tr><td>vm_scores_mean</td><td>▆▂▇▆▅▁▆█</td></tr></table><br/></div><div class=\"wandb-col\">\n",
       "<h3>Run summary:</h3><br/><table class=\"wandb\"><tr><td>%_of_tokens_above_prob_1/vocab_size</td><td>1.0</td></tr><tr><td>%_of_tokens_above_prob_1e-05</td><td>1.0</td></tr><tr><td>%_of_tokens_above_prob_1e-06</td><td>1.0</td></tr><tr><td>%_of_tokens_above_prob_1e-07</td><td>1.0</td></tr><tr><td>%_of_tokens_above_prob_1e-08</td><td>1.0</td></tr><tr><td>%_of_tokens_above_prob_1e-09</td><td>1.0</td></tr><tr><td>acc_batch_n_examples</td><td>13</td></tr><tr><td>acc_num</td><td>1</td></tr><tr><td>any_adv_example_proportion-test</td><td>0.0</td></tr><tr><td>any_adv_example_proportion-train</td><td>0.06897</td></tr><tr><td>any_adv_example_proportion-valid</td><td>0.33333</td></tr><tr><td>batch_num</td><td>3</td></tr><tr><td>contradiction_scores-mean-test</td><td>0.02535</td></tr><tr><td>contradiction_scores-mean-train</td><td>0.05987</td></tr><tr><td>contradiction_scores-mean-valid</td><td>0.08483</td></tr><tr><td>contradiction_scores-std-test</td><td>0.03539</td></tr><tr><td>contradiction_scores-std-train</td><td>0.16853</td></tr><tr><td>contradiction_scores-std-valid</td><td>0.15216</td></tr><tr><td>contradiction_scores_mean</td><td>0.21817</td></tr><tr><td>epoch</td><td>2</td></tr><tr><td>global_step</td><td>7</td></tr><tr><td>gradient_norm</td><td>0.64296</td></tr><tr><td>is_adv_example-mean-test</td><td>0.0</td></tr><tr><td>is_adv_example-mean-train</td><td>0.01293</td></tr><tr><td>is_adv_example-mean-valid</td><td>0.04167</td></tr><tr><td>is_adv_example-std-test</td><td>0.0</td></tr><tr><td>is_adv_example-std-train</td><td>0.11322</td></tr><tr><td>is_adv_example-std-valid</td><td>0.20194</td></tr><tr><td>is_valid_pp-mean-test</td><td>0.6875</td></tr><tr><td>is_valid_pp-mean-train</td><td>0.81897</td></tr><tr><td>is_valid_pp-mean-valid</td><td>0.70833</td></tr><tr><td>is_valid_pp-std-test</td><td>0.47871</td></tr><tr><td>is_valid_pp-std-train</td><td>0.38588</td></tr><tr><td>is_valid_pp-std-valid</td><td>0.45934</td></tr><tr><td>kl_div_mean</td><td>0.33608</td></tr><tr><td>label_flip-mean-test</td><td>0.0</td></tr><tr><td>label_flip-mean-train</td><td>0.01293</td></tr><tr><td>label_flip-mean-valid</td><td>0.08333</td></tr><tr><td>label_flip-std-test</td><td>0.0</td></tr><tr><td>label_flip-std-train</td><td>0.11322</td></tr><tr><td>label_flip-std-valid</td><td>0.27931</td></tr><tr><td>label_flip_fraction</td><td>0.2</td></tr><tr><td>loss_batch</td><td>0.16606</td></tr><tr><td>loss_sum</td><td>2.15882</td></tr><tr><td>orig_batch_size</td><td>5</td></tr><tr><td>orig_length</td><td>24</td></tr><tr><td>parameter_norm</td><td>0.80185</td></tr><tr><td>pp_batch_size</td><td>5</td></tr><tr><td>pp_length</td><td>21</td></tr><tr><td>pp_letter_diff-mean-test</td><td>16.6875</td></tr><tr><td>pp_letter_diff-mean-train</td><td>7.23276</td></tr><tr><td>pp_letter_diff-mean-valid</td><td>5.27083</td></tr><tr><td>pp_letter_diff-std-test</td><td>11.82494</td></tr><tr><td>pp_letter_diff-std-train</td><td>11.5469</td></tr><tr><td>pp_letter_diff-std-valid</td><td>6.45027</td></tr><tr><td>pp_letter_diff_mean</td><td>3.4</td></tr><tr><td>pp_letter_percent_mean</td><td>0.92521</td></tr><tr><td>pp_logp_mean</td><td>-1.96874</td></tr><tr><td>rank_1_token_prob_0.25_quantile</td><td>-1.27761</td></tr><tr><td>rank_1_token_prob_0.75_quantile</td><td>-0.36377</td></tr><tr><td>rank_1_token_prob_mean</td><td>-0.82641</td></tr><tr><td>rank_1_token_prob_median</td><td>-0.77598</td></tr><tr><td>rank_2_token_prob_0.25_quantile</td><td>-2.55951</td></tr><tr><td>rank_2_token_prob_0.75_quantile</td><td>-1.85686</td></tr><tr><td>rank_2_token_prob_mean</td><td>-2.25495</td></tr><tr><td>rank_2_token_prob_median</td><td>-2.24597</td></tr><tr><td>rank_3_token_prob_0.25_quantile</td><td>-3.3943</td></tr><tr><td>rank_3_token_prob_0.75_quantile</td><td>-2.45255</td></tr><tr><td>rank_3_token_prob_mean</td><td>-4.02063</td></tr><tr><td>rank_3_token_prob_median</td><td>-2.83257</td></tr><tr><td>ref_logp_mean</td><td>-2.26187</td></tr><tr><td>reward-mean-test</td><td>0.34672</td></tr><tr><td>reward-mean-train</td><td>0.42639</td></tr><tr><td>reward-mean-valid</td><td>0.20563</td></tr><tr><td>reward-std-test</td><td>0.38028</td></tr><tr><td>reward-std-train</td><td>0.77272</td></tr><tr><td>reward-std-valid</td><td>0.52781</td></tr><tr><td>reward_baseline_adjusted_mean</td><td>0.30837</td></tr><tr><td>reward_penalty_mean</td><td>-0.05041</td></tr><tr><td>reward_with_penalty_mean</td><td>0.58666</td></tr><tr><td>rewards_mean</td><td>0.6</td></tr><tr><td>sts_scores-mean-test</td><td>0.83794</td></tr><tr><td>sts_scores-mean-train</td><td>0.85072</td></tr><tr><td>sts_scores-mean-valid</td><td>0.86237</td></tr><tr><td>sts_scores-std-test</td><td>0.08196</td></tr><tr><td>sts_scores-std-train</td><td>0.13138</td></tr><tr><td>sts_scores-std-valid</td><td>0.13023</td></tr><tr><td>sts_scores_mean</td><td>0.50711</td></tr><tr><td>time/eval_empty_cache</td><td>0.129</td></tr><tr><td>time/eval_gc_collect</td><td>0.28368</td></tr><tr><td>time/eval_train_thoroughput</td><td>5.07087</td></tr><tr><td>time/eval_train_time</td><td>5.71894</td></tr><tr><td>time/eval_valid_thoroughput</td><td>2.40006</td></tr><tr><td>time/eval_valid_time</td><td>2.49994</td></tr><tr><td>time/train_one_epoch_thoroughput</td><td>1.9699</td></tr><tr><td>time/train_one_epoch_time</td><td>14.72154</td></tr><tr><td>time_backwards</td><td>0.51547</td></tr><tr><td>time_calc_gradient_norm</td><td>0.01748</td></tr><tr><td>time_contradiction_scores</td><td>0.01167</td></tr><tr><td>time_generate_pp</td><td>0.43214</td></tr><tr><td>time_log_entropy</td><td>0.00212</td></tr><tr><td>time_log_token_probabilities</td><td>0.0055</td></tr><tr><td>time_loss_fn</td><td>0.70458</td></tr><tr><td>time_loss_fn_loss_calc</td><td>0.00031</td></tr><tr><td>time_opt_step</td><td>0.03189</td></tr><tr><td>time_opt_step_and_calc_param_norm</td><td>0.06963</td></tr><tr><td>time_pp_letter_diff</td><td>0.00014</td></tr><tr><td>time_pp_logp</td><td>0.01069</td></tr><tr><td>time_ref_logprobs</td><td>0.65459</td></tr><tr><td>time_reward_fn</td><td>0.03866</td></tr><tr><td>time_sts_scores</td><td>0.01584</td></tr><tr><td>time_vm_scores</td><td>0.01005</td></tr><tr><td>top_token_prob_over_0.1</td><td>1.0</td></tr><tr><td>top_token_prob_over_0.3</td><td>0.74242</td></tr><tr><td>top_token_prob_over_0.5</td><td>0.45455</td></tr><tr><td>top_token_prob_over_0.75</td><td>0.18182</td></tr><tr><td>top_token_prob_over_0.9</td><td>0.09091</td></tr><tr><td>top_token_prob_over_0.95</td><td>0.01515</td></tr><tr><td>top_token_prob_over_0.975</td><td>0.01515</td></tr><tr><td>top_token_prob_over_0.99</td><td>0.0</td></tr><tr><td>vm_scores-mean-test</td><td>0.02926</td></tr><tr><td>vm_scores-mean-train</td><td>0.02848</td></tr><tr><td>vm_scores-mean-valid</td><td>0.03342</td></tr><tr><td>vm_scores-std-test</td><td>0.057</td></tr><tr><td>vm_scores-std-train</td><td>0.11035</td></tr><tr><td>vm_scores-std-valid</td><td>0.11876</td></tr><tr><td>vm_scores_mean</td><td>0.26178</td></tr></table>\n",
       "</div></div>\n",
       "Synced 6 W&B file(s), 18 media file(s), 13 artifact file(s) and 0 other file(s)\n",
       "<br/>Synced <strong style=\"color:#cdcd00\">magic-star-162</strong>: <a href=\"https://wandb.ai/uts_nlp/travis_attack/runs/2qiqjflr\" target=\"_blank\">https://wandb.ai/uts_nlp/travis_attack/runs/2qiqjflr</a><br/>\n",
       "Find logs at: <code>./wandb/run-20220524_105949-2qiqjflr/logs</code><br/>\n"
      ],
      "text/plain": [
       "<IPython.core.display.HTML object>"
      ]
     },
     "metadata": {},
     "output_type": "display_data"
    }
   ],
   "source": [
    "df_d = get_training_dfs(cfg.path_run, postprocessed=False)\n",
    "for k, df in df_d.items(): \n",
    "    df_d[k] = postprocess_df(df, filter_idx=None, num_proc=1)\n",
    "    df_d[k].to_pickle(f\"{cfg.path_run}{k}_postprocessed.pkl\")    \n",
    "create_and_log_wandb_postrun_plots(df_d)\n",
    "trainer.run.finish()\n",
    "#run.finish()"
   ]
  },
  {
   "cell_type": "code",
   "execution_count": null,
   "metadata": {},
   "outputs": [],
   "source": []
  }
 ],
 "metadata": {
  "kernelspec": {
   "display_name": "Python 3",
   "language": "python",
   "name": "python3"
  }
 },
 "nbformat": 4,
 "nbformat_minor": 4
}
