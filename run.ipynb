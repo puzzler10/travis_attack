{
 "cells": [
  {
   "cell_type": "code",
   "execution_count": null,
   "metadata": {},
   "outputs": [],
   "source": [
    "%load_ext autoreload\n",
    "%autoreload 2\n",
    "%load_ext line_profiler"
   ]
  },
  {
   "cell_type": "code",
   "execution_count": null,
   "metadata": {},
   "outputs": [],
   "source": [
    "## Imports and environment variables \n",
    "import torch, wandb, os, pandas as pd \n",
    "from travis_attack.utils import set_seed, set_session_options, setup_logging, setup_parser, update_config_with_parsed_arguments, resume_wandb_run, display_all, print_important_cfg_vars\n",
    "from travis_attack.config import Config\n",
    "from travis_attack.models import prepare_models, get_optimizer\n",
    "from travis_attack.data import ProcessedDataset\n",
    "from travis_attack.trainer import Trainer\n",
    "from travis_attack.insights import (postprocess_df, create_and_log_wandb_postrun_plots, get_training_dfs)\n",
    "from fastcore.basics import in_jupyter\n",
    "\n",
    "import logging \n",
    "logger = logging.getLogger(\"run\")\n",
    "\n",
    "import warnings\n",
    "warnings.filterwarnings(\"ignore\", message=\"Passing `max_length` to BeamSearchScorer is deprecated\")  # we ignore the warning because it works anyway for diverse beam search "
   ]
  },
  {
   "cell_type": "code",
   "execution_count": null,
   "metadata": {},
   "outputs": [
    {
     "name": "stdout",
     "output_type": "stream",
     "text": [
      "Converted 00_utils.ipynb.\n",
      "Converted 02_tests.ipynb.\n",
      "Converted 03_config.ipynb.\n",
      "Converted 07_models.ipynb.\n",
      "Converted 10_data.ipynb.\n",
      "Converted 20_trainer.ipynb.\n",
      "Converted 25_insights.ipynb.\n",
      "Converted Untitled.ipynb.\n",
      "Converted Untitled1.ipynb.\n",
      "Converted baselines.ipynb.\n",
      "Converted baselines_analysis.ipynb.\n",
      "Converted index.ipynb.\n",
      "Converted pp_eval_baselines.ipynb.\n",
      "Converted run.ipynb.\n",
      "Converted show_examples.ipynb.\n",
      "Converted statistical_tests.ipynb.\n",
      "Converted test_grammar_options.ipynb.\n",
      "Converted test_pp_model.ipynb.\n",
      "[NbConvertApp] Converting notebook run.ipynb to python\n"
     ]
    }
   ],
   "source": [
    "from nbdev.export import notebook2script\n",
    "notebook2script()\n",
    "\n",
    "!jupyter nbconvert \\\n",
    "    --TagRemovePreprocessor.enabled=True \\\n",
    "    --TagRemovePreprocessor.remove_cell_tags=\"['hide']\" \\\n",
    "    --TemplateExporter.exclude_markdown=True \\\n",
    "    --to python \"run.ipynb\""
   ]
  },
  {
   "cell_type": "code",
   "execution_count": null,
   "metadata": {},
   "outputs": [
    {
     "name": "stderr",
     "output_type": "stream",
     "text": [
      "travis_attack.data: INFO     Will load dataset financial with use_small_ds set to True\n",
      "travis_attack.data: INFO     Will load dataset financial with use_small_ds set to True\n",
      "travis_attack.data: INFO     Will load dataset financial with use_small_ds set to True\n"
     ]
    },
    {
     "data": {
      "application/vnd.jupyter.widget-view+json": {
       "model_id": "24cb4995068a4160b0042314f071fd30",
       "version_major": 2,
       "version_minor": 0
      },
      "text/plain": [
       "HBox(children=(FloatProgress(value=0.0, max=1.0), HTML(value='')))"
      ]
     },
     "metadata": {},
     "output_type": "display_data"
    },
    {
     "name": "stdout",
     "output_type": "stream",
     "text": [
      "\n"
     ]
    },
    {
     "data": {
      "application/vnd.jupyter.widget-view+json": {
       "model_id": "e4083d0fb97f4cc7a3b0549050ed2b05",
       "version_major": 2,
       "version_minor": 0
      },
      "text/plain": [
       "HBox(children=(FloatProgress(value=0.0, max=4.0), HTML(value='')))"
      ]
     },
     "metadata": {},
     "output_type": "display_data"
    },
    {
     "name": "stdout",
     "output_type": "stream",
     "text": [
      "\n"
     ]
    },
    {
     "data": {
      "application/vnd.jupyter.widget-view+json": {
       "model_id": "766be43a47c84fffa2b319a7d94bcbf8",
       "version_major": 2,
       "version_minor": 0
      },
      "text/plain": [
       "HBox(children=(FloatProgress(value=0.0, max=1.0), HTML(value='')))"
      ]
     },
     "metadata": {},
     "output_type": "display_data"
    },
    {
     "name": "stdout",
     "output_type": "stream",
     "text": [
      "\n"
     ]
    },
    {
     "data": {
      "application/vnd.jupyter.widget-view+json": {
       "model_id": "e888ecbd12fb41a5b07e1124b0e1407e",
       "version_major": 2,
       "version_minor": 0
      },
      "text/plain": [
       "HBox(children=(FloatProgress(value=0.0, max=1.0), HTML(value='')))"
      ]
     },
     "metadata": {},
     "output_type": "display_data"
    },
    {
     "name": "stdout",
     "output_type": "stream",
     "text": [
      "\n"
     ]
    },
    {
     "data": {
      "application/vnd.jupyter.widget-view+json": {
       "model_id": "323b74e0fab54c36b684f90a32433eff",
       "version_major": 2,
       "version_minor": 0
      },
      "text/plain": [
       "HBox(children=(FloatProgress(value=0.0, max=1.0), HTML(value='')))"
      ]
     },
     "metadata": {},
     "output_type": "display_data"
    },
    {
     "name": "stdout",
     "output_type": "stream",
     "text": [
      "\n"
     ]
    },
    {
     "data": {
      "application/vnd.jupyter.widget-view+json": {
       "model_id": "3c0975c146dd4497ae9dc9484ea448b6",
       "version_major": 2,
       "version_minor": 0
      },
      "text/plain": [
       "HBox(children=(FloatProgress(value=0.0, max=1.0), HTML(value='')))"
      ]
     },
     "metadata": {},
     "output_type": "display_data"
    },
    {
     "name": "stdout",
     "output_type": "stream",
     "text": [
      "\n"
     ]
    },
    {
     "data": {
      "application/vnd.jupyter.widget-view+json": {
       "model_id": "4b0ccff3dec846d3a3318fadb4ad29a1",
       "version_major": 2,
       "version_minor": 0
      },
      "text/plain": [
       "HBox(children=(FloatProgress(value=0.0, max=1.0), HTML(value='')))"
      ]
     },
     "metadata": {},
     "output_type": "display_data"
    },
    {
     "name": "stdout",
     "output_type": "stream",
     "text": [
      "\n"
     ]
    },
    {
     "data": {
      "application/vnd.jupyter.widget-view+json": {
       "model_id": "ada3a4809c844f6fb063180e8ce41059",
       "version_major": 2,
       "version_minor": 0
      },
      "text/plain": [
       "HBox(children=(FloatProgress(value=0.0, max=1.0), HTML(value='')))"
      ]
     },
     "metadata": {},
     "output_type": "display_data"
    },
    {
     "name": "stdout",
     "output_type": "stream",
     "text": [
      "\n"
     ]
    },
    {
     "data": {
      "application/vnd.jupyter.widget-view+json": {
       "model_id": "047b92c3daee40a08ca5e94e28d4c912",
       "version_major": 2,
       "version_minor": 0
      },
      "text/plain": [
       "HBox(children=(FloatProgress(value=0.0, max=1.0), HTML(value='')))"
      ]
     },
     "metadata": {},
     "output_type": "display_data"
    },
    {
     "name": "stdout",
     "output_type": "stream",
     "text": [
      "\n"
     ]
    },
    {
     "data": {
      "application/vnd.jupyter.widget-view+json": {
       "model_id": "754b94f14fd345a9b870bfa58556db15",
       "version_major": 2,
       "version_minor": 0
      },
      "text/plain": [
       "HBox(children=(FloatProgress(value=0.0, max=1.0), HTML(value='')))"
      ]
     },
     "metadata": {},
     "output_type": "display_data"
    },
    {
     "name": "stdout",
     "output_type": "stream",
     "text": [
      "\n"
     ]
    },
    {
     "data": {
      "application/vnd.jupyter.widget-view+json": {
       "model_id": "fad862cf9d654b1ea1d792fd82fb59fa",
       "version_major": 2,
       "version_minor": 0
      },
      "text/plain": [
       "HBox(children=(FloatProgress(value=0.0, max=1.0), HTML(value='')))"
      ]
     },
     "metadata": {},
     "output_type": "display_data"
    },
    {
     "name": "stdout",
     "output_type": "stream",
     "text": [
      "\n"
     ]
    },
    {
     "data": {
      "application/vnd.jupyter.widget-view+json": {
       "model_id": "c289f1a7b86a481da3a387074baa46b0",
       "version_major": 2,
       "version_minor": 0
      },
      "text/plain": [
       "HBox(children=(FloatProgress(value=0.0, max=1.0), HTML(value='')))"
      ]
     },
     "metadata": {},
     "output_type": "display_data"
    },
    {
     "name": "stdout",
     "output_type": "stream",
     "text": [
      "\n"
     ]
    },
    {
     "data": {
      "application/vnd.jupyter.widget-view+json": {
       "model_id": "63bc1dcac8964f2c835b46f8bbb4335f",
       "version_major": 2,
       "version_minor": 0
      },
      "text/plain": [
       "HBox(children=(FloatProgress(value=0.0, max=1.0), HTML(value='')))"
      ]
     },
     "metadata": {},
     "output_type": "display_data"
    },
    {
     "name": "stdout",
     "output_type": "stream",
     "text": [
      "\n"
     ]
    },
    {
     "data": {
      "application/vnd.jupyter.widget-view+json": {
       "model_id": "911082ffd72b4cfea6c991a1d7b4691d",
       "version_major": 2,
       "version_minor": 0
      },
      "text/plain": [
       "HBox(children=(FloatProgress(value=0.0, max=1.0), HTML(value='')))"
      ]
     },
     "metadata": {},
     "output_type": "display_data"
    },
    {
     "data": {
      "application/vnd.jupyter.widget-view+json": {
       "model_id": "386bc7ef38d74ac2af7d9797704535ad",
       "version_major": 2,
       "version_minor": 0
      },
      "text/plain": [
       "HBox(children=(FloatProgress(value=0.0, description='Batches', max=1.0, style=ProgressStyle(description_width=…"
      ]
     },
     "metadata": {},
     "output_type": "display_data"
    },
    {
     "name": "stdout",
     "output_type": "stream",
     "text": [
      "\n",
      "\n"
     ]
    },
    {
     "data": {
      "application/vnd.jupyter.widget-view+json": {
       "model_id": "6e3353224fe043bab5a5803d5605f49b",
       "version_major": 2,
       "version_minor": 0
      },
      "text/plain": [
       "HBox(children=(FloatProgress(value=0.0, max=1.0), HTML(value='')))"
      ]
     },
     "metadata": {},
     "output_type": "display_data"
    },
    {
     "data": {
      "application/vnd.jupyter.widget-view+json": {
       "model_id": "6e0e7de9b62946f498dadc9c5c87bdd4",
       "version_major": 2,
       "version_minor": 0
      },
      "text/plain": [
       "HBox(children=(FloatProgress(value=0.0, description='Batches', max=1.0, style=ProgressStyle(description_width=…"
      ]
     },
     "metadata": {},
     "output_type": "display_data"
    },
    {
     "name": "stdout",
     "output_type": "stream",
     "text": [
      "\n",
      "\n"
     ]
    },
    {
     "data": {
      "application/vnd.jupyter.widget-view+json": {
       "model_id": "11d27b6fb7c8445183c358f4456df163",
       "version_major": 2,
       "version_minor": 0
      },
      "text/plain": [
       "HBox(children=(FloatProgress(value=0.0, max=1.0), HTML(value='')))"
      ]
     },
     "metadata": {},
     "output_type": "display_data"
    },
    {
     "data": {
      "application/vnd.jupyter.widget-view+json": {
       "model_id": "170f383a3e694c8392bc67a6a3d0fa0a",
       "version_major": 2,
       "version_minor": 0
      },
      "text/plain": [
       "HBox(children=(FloatProgress(value=0.0, description='Batches', max=1.0, style=ProgressStyle(description_width=…"
      ]
     },
     "metadata": {},
     "output_type": "display_data"
    },
    {
     "name": "stdout",
     "output_type": "stream",
     "text": [
      "\n",
      "\n"
     ]
    },
    {
     "data": {
      "application/vnd.jupyter.widget-view+json": {
       "model_id": "a1bc9558f09a4b7eb80589d8df81002c",
       "version_major": 2,
       "version_minor": 0
      },
      "text/plain": [
       "HBox(children=(FloatProgress(value=0.0, max=1.0), HTML(value='')))"
      ]
     },
     "metadata": {},
     "output_type": "display_data"
    },
    {
     "name": "stdout",
     "output_type": "stream",
     "text": [
      "\n"
     ]
    },
    {
     "data": {
      "application/vnd.jupyter.widget-view+json": {
       "model_id": "34c786b5dc074ef480d5da49722ed305",
       "version_major": 2,
       "version_minor": 0
      },
      "text/plain": [
       "HBox(children=(FloatProgress(value=0.0, max=1.0), HTML(value='')))"
      ]
     },
     "metadata": {},
     "output_type": "display_data"
    },
    {
     "name": "stdout",
     "output_type": "stream",
     "text": [
      "\n"
     ]
    },
    {
     "data": {
      "application/vnd.jupyter.widget-view+json": {
       "model_id": "f7f431a646724673bd986fedd5f53f31",
       "version_major": 2,
       "version_minor": 0
      },
      "text/plain": [
       "HBox(children=(FloatProgress(value=0.0, max=1.0), HTML(value='')))"
      ]
     },
     "metadata": {},
     "output_type": "display_data"
    },
    {
     "name": "stdout",
     "output_type": "stream",
     "text": [
      "\n"
     ]
    },
    {
     "data": {
      "application/vnd.jupyter.widget-view+json": {
       "model_id": "f97642594c7f4a0799c066adbb8388af",
       "version_major": 2,
       "version_minor": 0
      },
      "text/plain": [
       "HBox(children=(FloatProgress(value=0.0, max=1.0), HTML(value='')))"
      ]
     },
     "metadata": {},
     "output_type": "display_data"
    },
    {
     "name": "stdout",
     "output_type": "stream",
     "text": [
      "\n"
     ]
    },
    {
     "data": {
      "application/vnd.jupyter.widget-view+json": {
       "model_id": "95c63733b65c47a7856542ceb81dae95",
       "version_major": 2,
       "version_minor": 0
      },
      "text/plain": [
       "HBox(children=(FloatProgress(value=0.0, max=1.0), HTML(value='')))"
      ]
     },
     "metadata": {},
     "output_type": "display_data"
    },
    {
     "name": "stdout",
     "output_type": "stream",
     "text": [
      "\n"
     ]
    },
    {
     "data": {
      "application/vnd.jupyter.widget-view+json": {
       "model_id": "e68cc7b3daa44798845e02134413080c",
       "version_major": 2,
       "version_minor": 0
      },
      "text/plain": [
       "HBox(children=(FloatProgress(value=0.0, max=1.0), HTML(value='')))"
      ]
     },
     "metadata": {},
     "output_type": "display_data"
    },
    {
     "name": "stdout",
     "output_type": "stream",
     "text": [
      "\n"
     ]
    },
    {
     "data": {
      "application/vnd.jupyter.widget-view+json": {
       "model_id": "64866b3585e8476181d3836d2d9b4c16",
       "version_major": 2,
       "version_minor": 0
      },
      "text/plain": [
       "HBox(children=(FloatProgress(value=0.0, max=1.0), HTML(value='')))"
      ]
     },
     "metadata": {},
     "output_type": "display_data"
    },
    {
     "name": "stdout",
     "output_type": "stream",
     "text": [
      "\n"
     ]
    },
    {
     "data": {
      "application/vnd.jupyter.widget-view+json": {
       "model_id": "e5952ca7d46448959c49b1d87a0c90ad",
       "version_major": 2,
       "version_minor": 0
      },
      "text/plain": [
       "HBox(children=(FloatProgress(value=0.0, max=1.0), HTML(value='')))"
      ]
     },
     "metadata": {},
     "output_type": "display_data"
    },
    {
     "name": "stdout",
     "output_type": "stream",
     "text": [
      "\n"
     ]
    },
    {
     "data": {
      "application/vnd.jupyter.widget-view+json": {
       "model_id": "61ceca6406ec473e88aec1fd5c650c1e",
       "version_major": 2,
       "version_minor": 0
      },
      "text/plain": [
       "HBox(children=(FloatProgress(value=0.0, max=1.0), HTML(value='')))"
      ]
     },
     "metadata": {},
     "output_type": "display_data"
    },
    {
     "name": "stdout",
     "output_type": "stream",
     "text": [
      "\n"
     ]
    },
    {
     "data": {
      "application/vnd.jupyter.widget-view+json": {
       "model_id": "e1b3c03d95e04db9a16c6f980c238142",
       "version_major": 2,
       "version_minor": 0
      },
      "text/plain": [
       "HBox(children=(FloatProgress(value=0.0, max=1.0), HTML(value='')))"
      ]
     },
     "metadata": {},
     "output_type": "display_data"
    },
    {
     "name": "stdout",
     "output_type": "stream",
     "text": [
      "\n"
     ]
    },
    {
     "data": {
      "application/vnd.jupyter.widget-view+json": {
       "model_id": "fe040040870243ca9f015cea12cbf9e7",
       "version_major": 2,
       "version_minor": 0
      },
      "text/plain": [
       "HBox(children=(FloatProgress(value=0.0, max=1.0), HTML(value='')))"
      ]
     },
     "metadata": {},
     "output_type": "display_data"
    },
    {
     "name": "stdout",
     "output_type": "stream",
     "text": [
      "\n"
     ]
    },
    {
     "data": {
      "application/vnd.jupyter.widget-view+json": {
       "model_id": "3b2f3600ed4142299ba5f5a78833325d",
       "version_major": 2,
       "version_minor": 0
      },
      "text/plain": [
       "HBox(children=(FloatProgress(value=0.0, max=1.0), HTML(value='')))"
      ]
     },
     "metadata": {},
     "output_type": "display_data"
    },
    {
     "name": "stdout",
     "output_type": "stream",
     "text": [
      "\n"
     ]
    },
    {
     "data": {
      "application/vnd.jupyter.widget-view+json": {
       "model_id": "98fae550b0fe4a7789773a8cf87f0435",
       "version_major": 2,
       "version_minor": 0
      },
      "text/plain": [
       "HBox(children=(FloatProgress(value=0.0, description='Flattening the indices', max=1.0, style=ProgressStyle(des…"
      ]
     },
     "metadata": {},
     "output_type": "display_data"
    },
    {
     "name": "stdout",
     "output_type": "stream",
     "text": [
      "\n"
     ]
    },
    {
     "data": {
      "application/vnd.jupyter.widget-view+json": {
       "model_id": "256275fca28f4664b3fdc9234d56f513",
       "version_major": 2,
       "version_minor": 0
      },
      "text/plain": [
       "HBox(children=(FloatProgress(value=0.0, description='Flattening the indices', max=1.0, style=ProgressStyle(des…"
      ]
     },
     "metadata": {},
     "output_type": "display_data"
    },
    {
     "name": "stdout",
     "output_type": "stream",
     "text": [
      "\n"
     ]
    },
    {
     "data": {
      "application/vnd.jupyter.widget-view+json": {
       "model_id": "8f927da6556347249b0e3f9a86c52af4",
       "version_major": 2,
       "version_minor": 0
      },
      "text/plain": [
       "HBox(children=(FloatProgress(value=0.0, description='Flattening the indices', max=1.0, style=ProgressStyle(des…"
      ]
     },
     "metadata": {},
     "output_type": "display_data"
    },
    {
     "name": "stdout",
     "output_type": "stream",
     "text": [
      "\n"
     ]
    },
    {
     "data": {
      "application/vnd.jupyter.widget-view+json": {
       "model_id": "916ffc9b6c424be7a8bd5014723a57c4",
       "version_major": 2,
       "version_minor": 0
      },
      "text/plain": [
       "HBox(children=(FloatProgress(value=0.0, description='Flattening the indices', max=1.0, style=ProgressStyle(des…"
      ]
     },
     "metadata": {},
     "output_type": "display_data"
    },
    {
     "name": "stdout",
     "output_type": "stream",
     "text": [
      "\n"
     ]
    },
    {
     "data": {
      "application/vnd.jupyter.widget-view+json": {
       "model_id": "247d6d2eafa245f9801269086640893d",
       "version_major": 2,
       "version_minor": 0
      },
      "text/plain": [
       "HBox(children=(FloatProgress(value=0.0, description='Flattening the indices', max=1.0, style=ProgressStyle(des…"
      ]
     },
     "metadata": {},
     "output_type": "display_data"
    },
    {
     "name": "stdout",
     "output_type": "stream",
     "text": [
      "\n"
     ]
    },
    {
     "data": {
      "application/vnd.jupyter.widget-view+json": {
       "model_id": "c1bcf939b66c4676af60c45957519608",
       "version_major": 2,
       "version_minor": 0
      },
      "text/plain": [
       "HBox(children=(FloatProgress(value=0.0, description='Flattening the indices', max=1.0, style=ProgressStyle(des…"
      ]
     },
     "metadata": {},
     "output_type": "display_data"
    },
    {
     "name": "stdout",
     "output_type": "stream",
     "text": [
      "\n"
     ]
    }
   ],
   "source": [
    "cfg = Config()  # default values\n",
    "if not in_jupyter():  # override with any -- options when running with command line\n",
    "    parser = setup_parser()\n",
    "    newargs = vars(parser.parse_args())\n",
    "    cfg = update_config_with_parsed_arguments(cfg, newargs)\n",
    "if cfg.use_small_ds:  cfg = cfg.small_ds()\n",
    "set_seed(cfg.seed)\n",
    "set_session_options()\n",
    "setup_logging(cfg, disable_other_loggers=True)\n",
    "vm_tokenizer,vm_model,pp_tokenizer,pp_model,ref_pp_model,sts_model,nli_tokenizer,nli_model,cola_tokenizer,cola_model,cfg = prepare_models(cfg)\n",
    "optimizer = get_optimizer(cfg, pp_model)\n",
    "ds = ProcessedDataset(cfg, vm_tokenizer, vm_model, pp_tokenizer, sts_model, load_processed_from_file=False)"
   ]
  },
  {
   "cell_type": "code",
   "execution_count": null,
   "metadata": {},
   "outputs": [
    {
     "name": "stdout",
     "output_type": "stream",
     "text": [
      "{'pp_name': 'prithivida/parrot_paraphraser_on_T5',\n",
      " 'dataset_name': 'financial',\n",
      " 'sts_name': 'sentence-transformers/paraphrase-MiniLM-L12-v2',\n",
      " 'nli_name': 'howey/electra-small-mnli',\n",
      " 'cola_name': 'textattack/albert-base-v2-CoLA',\n",
      " 'vm_name': 'mrm8488/distilroberta-finetuned-financial-news-sentiment-analysis',\n",
      " 'seed': 420,\n",
      " 'use_small_ds': True,\n",
      " 'lr': 8e-05,\n",
      " 'batch_size_train': 32,\n",
      " 'batch_size_eval': 16,\n",
      " 'acc_steps': 2,\n",
      " 'n_train_epochs': 2,\n",
      " 'eval_freq': 1,\n",
      " 'reward_fn': 'reward_fn_contradiction_and_letter_diff',\n",
      " 'reward_clip_max': 4,\n",
      " 'reward_vm_multiplier': 12,\n",
      " 'sts_threshold': 0.8,\n",
      " 'acceptability_threshold': 0.5,\n",
      " 'contradiction_threshold': 0.2,\n",
      " 'pp_letter_diff_threshold': 30,\n",
      " 'reward_penalty_type': 'kl_div',\n",
      " 'kl_coef': 0.25,\n",
      " 'ref_logp_coef': None,\n",
      " 'min_pp_length': 2,\n",
      " 'max_pp_length': 48,\n",
      " 'n_eval_seq': 32,\n",
      " 'decode_method_train': 'sample',\n",
      " 'decode_method_eval': 'sample',\n",
      " 'gen_params_train': {'do_sample': True, 'temperature': 1, 'top_p': 0.95},\n",
      " 'gen_params_eval': {'num_return_sequences': 32,\n",
      "                     'do_sample': True,\n",
      "                     'num_beams': 1,\n",
      "                     'top_p': 0.95,\n",
      "                     'temperature': 1,\n",
      "                     'diversity_penalty': None,\n",
      "                     'num_beam_groups': None},\n",
      " 'early_stopping': True,\n",
      " 'early_stopping_min_epochs': 10,\n",
      " 'early_stopping_metric': 'any_adv_example_proportion',\n",
      " 'orig_max_length': 32,\n",
      " 'cola_positive_label': 1,\n",
      " 'ds_length': {'train': 15, 'valid': 2, 'test': 2}}\n"
     ]
    },
    {
     "data": {
      "text/html": [
       "Finishing last run (ID:3cuzjffp) before initializing another..."
      ],
      "text/plain": [
       "<IPython.core.display.HTML object>"
      ]
     },
     "metadata": {},
     "output_type": "display_data"
    },
    {
     "data": {
      "text/html": [
       "<br/>Waiting for W&B process to finish, PID 9820... <strong style=\"color:green\">(success).</strong>"
      ],
      "text/plain": [
       "<IPython.core.display.HTML object>"
      ]
     },
     "metadata": {},
     "output_type": "display_data"
    },
    {
     "data": {
      "application/vnd.jupyter.widget-view+json": {
       "model_id": "",
       "version_major": 2,
       "version_minor": 0
      },
      "text/plain": [
       "VBox(children=(Label(value=' 0.13MB of 0.13MB uploaded (0.00MB deduped)\\r'), FloatProgress(value=1.0, max=1.0)…"
      ]
     },
     "metadata": {},
     "output_type": "display_data"
    },
    {
     "data": {
      "text/html": [
       "<style>\n",
       "    table.wandb td:nth-child(1) { padding: 0 10px; text-align: right }\n",
       "    .wandb-row { display: flex; flex-direction: row; flex-wrap: wrap; width: 100% }\n",
       "    .wandb-col { display: flex; flex-direction: column; flex-basis: 100%; flex: 1; padding: 10px; }\n",
       "    </style>\n",
       "<div class=\"wandb-row\"><div class=\"wandb-col\">\n",
       "<h3>Run history:</h3><br/><table class=\"wandb\"><tr><td>%_of_tokens_above_prob_1/vocab_size</td><td>▁███</td></tr><tr><td>%_of_tokens_above_prob_1e-05</td><td>▁███</td></tr><tr><td>%_of_tokens_above_prob_1e-06</td><td>▁███</td></tr><tr><td>%_of_tokens_above_prob_1e-07</td><td>▁███</td></tr><tr><td>%_of_tokens_above_prob_1e-08</td><td>▁███</td></tr><tr><td>%_of_tokens_above_prob_1e-09</td><td>▁███</td></tr><tr><td>acc_batch_n_examples</td><td>▁▁▁▁</td></tr><tr><td>acc_num</td><td>▁█▁█</td></tr><tr><td>acceptability_scores-mean-test</td><td>█▁</td></tr><tr><td>acceptability_scores-mean-train</td><td>▆▁█▆▆</td></tr><tr><td>acceptability_scores-mean-valid</td><td>▁█▄▇▄</td></tr><tr><td>acceptability_scores-std-test</td><td>▁█</td></tr><tr><td>acceptability_scores-std-train</td><td>▃█▃▄▁</td></tr><tr><td>acceptability_scores-std-valid</td><td>█▁▇▁▇</td></tr><tr><td>acceptability_scores_mean</td><td>█▁▄▇</td></tr><tr><td>any_adv_example_proportion-test</td><td>▁▁</td></tr><tr><td>any_adv_example_proportion-train</td><td>▁▁▁▁▁</td></tr><tr><td>any_adv_example_proportion-valid</td><td>▁▁▁▁▁</td></tr><tr><td>batch_num</td><td>▁▁▁▁</td></tr><tr><td>contradiction_scores-mean-test</td><td>▁█</td></tr><tr><td>contradiction_scores-mean-train</td><td>▁▁▃▃█</td></tr><tr><td>contradiction_scores-mean-valid</td><td>█▄█▁▁</td></tr><tr><td>contradiction_scores-std-test</td><td>▁█</td></tr><tr><td>contradiction_scores-std-train</td><td>▁▁▅▆█</td></tr><tr><td>contradiction_scores-std-valid</td><td>█▅▆▁▁</td></tr><tr><td>contradiction_scores_mean</td><td>▁▁█▁</td></tr><tr><td>epoch</td><td>▁▁▁▃▃▃▃▃▅▅▅▅▅▆▆▆▆▆██████</td></tr><tr><td>global_step</td><td>▁▃▆█</td></tr><tr><td>gradient_norm</td><td>▁▁██</td></tr><tr><td>is_adv_example-mean-test</td><td>▁▁</td></tr><tr><td>is_adv_example-mean-train</td><td>▁▁▁▁▁</td></tr><tr><td>is_adv_example-mean-valid</td><td>▁▁▁▁▁</td></tr><tr><td>is_adv_example-std-test</td><td>▁▁</td></tr><tr><td>is_adv_example-std-train</td><td>▁▁▁▁▁</td></tr><tr><td>is_adv_example-std-valid</td><td>▁▁▁▁▁</td></tr><tr><td>is_valid_pp-mean-test</td><td>█▁</td></tr><tr><td>is_valid_pp-mean-train</td><td>█▃▅▆▁</td></tr><tr><td>is_valid_pp-mean-valid</td><td>▁█▄▆▇</td></tr><tr><td>is_valid_pp-std-test</td><td>▁█</td></tr><tr><td>is_valid_pp-std-train</td><td>▁█▅▄▆</td></tr><tr><td>is_valid_pp-std-valid</td><td>█▁▄▂▅</td></tr><tr><td>kl_div</td><td>▁▂█▃</td></tr><tr><td>label_flip-mean-test</td><td>▁█</td></tr><tr><td>label_flip-mean-train</td><td>▁▁▃▃█</td></tr><tr><td>label_flip-mean-valid</td><td>▇▄█▁▃</td></tr><tr><td>label_flip-std-test</td><td>▁█</td></tr><tr><td>label_flip-std-train</td><td>▁▁▅▆█</td></tr><tr><td>label_flip-std-valid</td><td>▇▆█▁▄</td></tr><tr><td>label_flip_fraction</td><td>▁▁▁▁</td></tr><tr><td>lcp_conditions-mean-test</td><td>▁▁</td></tr><tr><td>lcp_conditions-mean-train</td><td>▁▁▁▁▁</td></tr><tr><td>lcp_conditions-mean-valid</td><td>▁▁▁▁▁</td></tr><tr><td>lcp_conditions-std-test</td><td>▁▁</td></tr><tr><td>lcp_conditions-std-train</td><td>▁▁▁▁▁</td></tr><tr><td>lcp_conditions-std-valid</td><td>▁▁▁▁▁</td></tr><tr><td>lcp_conditions_mean</td><td>▁▁▁▁</td></tr><tr><td>loss_batch</td><td>▁▁█▁</td></tr><tr><td>loss_sum</td><td>▁▁█▁</td></tr><tr><td>n_pp-test</td><td>█▁</td></tr><tr><td>n_pp-train</td><td>▁▅▂█▁</td></tr><tr><td>n_pp-valid</td><td>█▂▄▄▁</td></tr><tr><td>orig_batch_size</td><td>▁▁▁▁</td></tr><tr><td>orig_length</td><td>▁▁▁▁</td></tr><tr><td>parameter_norm</td><td>▁▁▁█</td></tr><tr><td>pp_batch_size</td><td>▁▁▁▁</td></tr><tr><td>pp_length</td><td>▁▁█▁</td></tr><tr><td>pp_letter_diff-mean-test</td><td>█▁</td></tr><tr><td>pp_letter_diff-mean-train</td><td>▁▁█▆▃</td></tr><tr><td>pp_letter_diff-mean-valid</td><td>▁▆▃█▁</td></tr><tr><td>pp_letter_diff-std-test</td><td>▁█</td></tr><tr><td>pp_letter_diff-std-train</td><td>▆▇▁█▃</td></tr><tr><td>pp_letter_diff-std-valid</td><td>█▃▆▁█</td></tr><tr><td>pp_letter_diff_mean</td><td>▄▁█▅</td></tr><tr><td>pp_letter_percent_mean</td><td>▅█▁▄</td></tr><tr><td>pp_logp_mean</td><td>█▄▁▆</td></tr><tr><td>rank_1_token_prob_0.25_quantile</td><td>█▁▆▆</td></tr><tr><td>rank_1_token_prob_0.75_quantile</td><td>█▆▁▄</td></tr><tr><td>rank_1_token_prob_mean</td><td>█▆▁█</td></tr><tr><td>rank_1_token_prob_median</td><td>█▄▁▅</td></tr><tr><td>rank_2_token_prob_0.25_quantile</td><td>▁▁▁▁</td></tr><tr><td>rank_2_token_prob_0.75_quantile</td><td>▁█▇▅</td></tr><tr><td>rank_2_token_prob_mean</td><td>▁██▂</td></tr><tr><td>rank_2_token_prob_median</td><td>▁▆█▂</td></tr><tr><td>rank_3_token_prob_0.25_quantile</td><td>▁▁▁▁</td></tr><tr><td>rank_3_token_prob_0.75_quantile</td><td>▂▅█▁</td></tr><tr><td>rank_3_token_prob_mean</td><td>▂▅█▁</td></tr><tr><td>rank_3_token_prob_median</td><td>▁▁█▁</td></tr><tr><td>ref_logp_mean</td><td>█▅▁▆</td></tr><tr><td>reward_penalty</td><td>█▇▁▆</td></tr><tr><td>reward_pp-mean-test</td><td>█▁</td></tr><tr><td>reward_pp-mean-train</td><td>█▄▁▄▄</td></tr><tr><td>reward_pp-mean-valid</td><td>▄▇▁█▂</td></tr><tr><td>reward_pp-std-test</td><td>█▁</td></tr><tr><td>reward_pp-std-train</td><td>█▃▁▄▃</td></tr><tr><td>reward_pp-std-valid</td><td>▂▇▁█▁</td></tr><tr><td>reward_pp_mean</td><td>▁▁█▁</td></tr><tr><td>reward_pp_minus_baseline_mean</td><td>▁▁█▁</td></tr><tr><td>reward_pp_minus_baseline_with_penalty_mean</td><td>▁▁█▁</td></tr><tr><td>sts_scores-mean-test</td><td>█▁</td></tr><tr><td>sts_scores-mean-train</td><td>█▅▆▄▁</td></tr><tr><td>sts_scores-mean-valid</td><td>▁▅▄▅█</td></tr><tr><td>sts_scores-std-test</td><td>▁█</td></tr><tr><td>sts_scores-std-train</td><td>▁█▇▅▇</td></tr><tr><td>sts_scores-std-valid</td><td>█▇▄▃▁</td></tr><tr><td>sts_scores_mean</td><td>█▇▁▇</td></tr><tr><td>time/eval_empty_cache</td><td>█▁▂▁</td></tr><tr><td>time/eval_gc_collect</td><td>▆▄▁█</td></tr><tr><td>time/eval_train_thoroughput</td><td>▂█▆▁</td></tr><tr><td>time/eval_train_time</td><td>▇▁▃█</td></tr><tr><td>time/eval_valid_thoroughput</td><td>█▁▅▅</td></tr><tr><td>time/eval_valid_time</td><td>▁█▃▄</td></tr><tr><td>time/train_one_epoch_thoroughput</td><td>█▆▁▆</td></tr><tr><td>time/train_one_epoch_time</td><td>▁▃█▃</td></tr><tr><td>time_acceptability_scores</td><td>█▄▁▂</td></tr><tr><td>time_backwards</td><td>▁▁█▁</td></tr><tr><td>time_calc_gradient_norm</td><td>█▁▆▅</td></tr><tr><td>time_contradiction_scores</td><td>█▁▃▁</td></tr><tr><td>time_generate_pp</td><td>▁▁█▂</td></tr><tr><td>time_lcp_conditions</td><td>█▁▆▁</td></tr><tr><td>time_log_entropy</td><td>▂▂█▁</td></tr><tr><td>time_log_token_probabilities</td><td>▁▄█▅</td></tr><tr><td>time_loss_fn</td><td>▁▁█▁</td></tr><tr><td>time_loss_fn_loss_calc</td><td>▂▆█▁</td></tr><tr><td>time_opt_step</td><td>▁█▁▆</td></tr><tr><td>time_opt_step_and_calc_param_norm</td><td>▁█▁▇</td></tr><tr><td>time_pp_letter_diff</td><td>█▁▅▃</td></tr><tr><td>time_pp_logp</td><td>▁▂█▂</td></tr><tr><td>time_ref_logprobs</td><td>▁▁█▁</td></tr><tr><td>time_reward_fn</td><td>█▂▂▁</td></tr><tr><td>time_sts_scores</td><td>█▂▆▁</td></tr><tr><td>time_vm_scores</td><td>▁▄▄█</td></tr><tr><td>top_token_prob_over_0.1</td><td>▁▁▁▁</td></tr><tr><td>top_token_prob_over_0.3</td><td>██▁█</td></tr><tr><td>top_token_prob_over_0.5</td><td>██▁█</td></tr><tr><td>top_token_prob_over_0.75</td><td>█▁▄▅</td></tr><tr><td>top_token_prob_over_0.9</td><td>█▂▁▅</td></tr><tr><td>top_token_prob_over_0.95</td><td>█▂▁▇</td></tr><tr><td>top_token_prob_over_0.975</td><td>█▄▁█</td></tr><tr><td>top_token_prob_over_0.99</td><td>█▁▂█</td></tr><tr><td>vm_scores-mean-test</td><td>█▁</td></tr><tr><td>vm_scores-mean-train</td><td>▃▁▁▄█</td></tr><tr><td>vm_scores-mean-valid</td><td>█▄▄▁▂</td></tr><tr><td>vm_scores-std-test</td><td>▁█</td></tr><tr><td>vm_scores-std-train</td><td>▃▁▅▆█</td></tr><tr><td>vm_scores-std-valid</td><td>█▇▇▁▂</td></tr><tr><td>vm_scores_mean</td><td>▁▂█▂</td></tr></table><br/></div><div class=\"wandb-col\">\n",
       "<h3>Run summary:</h3><br/><table class=\"wandb\"><tr><td>%_of_tokens_above_prob_1/vocab_size</td><td>1.0</td></tr><tr><td>%_of_tokens_above_prob_1e-05</td><td>1.0</td></tr><tr><td>%_of_tokens_above_prob_1e-06</td><td>1.0</td></tr><tr><td>%_of_tokens_above_prob_1e-07</td><td>1.0</td></tr><tr><td>%_of_tokens_above_prob_1e-08</td><td>1.0</td></tr><tr><td>%_of_tokens_above_prob_1e-09</td><td>1.0</td></tr><tr><td>acc_batch_n_examples</td><td>8</td></tr><tr><td>acc_num</td><td>1</td></tr><tr><td>acceptability_scores-mean-test</td><td>0.8013</td></tr><tr><td>acceptability_scores-mean-train</td><td>0.80707</td></tr><tr><td>acceptability_scores-mean-valid</td><td>0.81056</td></tr><tr><td>acceptability_scores-std-test</td><td>0.13647</td></tr><tr><td>acceptability_scores-std-train</td><td>0.04104</td></tr><tr><td>acceptability_scores-std-valid</td><td>0.18135</td></tr><tr><td>acceptability_scores_mean</td><td>0.81914</td></tr><tr><td>any_adv_example_proportion-test</td><td>0.0</td></tr><tr><td>any_adv_example_proportion-train</td><td>0.0</td></tr><tr><td>any_adv_example_proportion-valid</td><td>0.0</td></tr><tr><td>batch_num</td><td>0</td></tr><tr><td>contradiction_scores-mean-test</td><td>0.05108</td></tr><tr><td>contradiction_scores-mean-train</td><td>0.11337</td></tr><tr><td>contradiction_scores-mean-valid</td><td>0.01335</td></tr><tr><td>contradiction_scores-std-test</td><td>0.15181</td></tr><tr><td>contradiction_scores-std-train</td><td>0.13094</td></tr><tr><td>contradiction_scores-std-valid</td><td>0.02341</td></tr><tr><td>contradiction_scores_mean</td><td>0.00342</td></tr><tr><td>epoch</td><td>4</td></tr><tr><td>global_step</td><td>3</td></tr><tr><td>gradient_norm</td><td>0.21297</td></tr><tr><td>is_adv_example-mean-test</td><td>0.0</td></tr><tr><td>is_adv_example-mean-train</td><td>0.0</td></tr><tr><td>is_adv_example-mean-valid</td><td>0.0</td></tr><tr><td>is_adv_example-std-test</td><td>0.0</td></tr><tr><td>is_adv_example-std-train</td><td>0.0</td></tr><tr><td>is_adv_example-std-valid</td><td>0.0</td></tr><tr><td>is_valid_pp-mean-test</td><td>0.79571</td></tr><tr><td>is_valid_pp-mean-train</td><td>0.79861</td></tr><tr><td>is_valid_pp-mean-valid</td><td>0.81845</td></tr><tr><td>is_valid_pp-std-test</td><td>0.32759</td></tr><tr><td>is_valid_pp-std-train</td><td>0.25676</td></tr><tr><td>is_valid_pp-std-valid</td><td>0.40113</td></tr><tr><td>kl_div</td><td>0.13097</td></tr><tr><td>label_flip-mean-test</td><td>0.05051</td></tr><tr><td>label_flip-mean-train</td><td>0.11111</td></tr><tr><td>label_flip-mean-valid</td><td>0.02778</td></tr><tr><td>label_flip-std-test</td><td>0.15871</td></tr><tr><td>label_flip-std-train</td><td>0.13176</td></tr><tr><td>label_flip-std-valid</td><td>0.08333</td></tr><tr><td>label_flip_fraction</td><td>0.0</td></tr><tr><td>lcp_conditions-mean-test</td><td>1.0</td></tr><tr><td>lcp_conditions-mean-train</td><td>1.0</td></tr><tr><td>lcp_conditions-mean-valid</td><td>1.0</td></tr><tr><td>lcp_conditions-std-test</td><td>0.0</td></tr><tr><td>lcp_conditions-std-train</td><td>0.0</td></tr><tr><td>lcp_conditions-std-valid</td><td>0.0</td></tr><tr><td>lcp_conditions_mean</td><td>1.0</td></tr><tr><td>loss_batch</td><td>0.0</td></tr><tr><td>loss_sum</td><td>0.0</td></tr><tr><td>n_pp-test</td><td>9.75</td></tr><tr><td>n_pp-train</td><td>6.5</td></tr><tr><td>n_pp-valid</td><td>9.25</td></tr><tr><td>orig_batch_size</td><td>4</td></tr><tr><td>orig_length</td><td>16</td></tr><tr><td>parameter_norm</td><td>0.46149</td></tr><tr><td>pp_batch_size</td><td>4</td></tr><tr><td>pp_length</td><td>10</td></tr><tr><td>pp_letter_diff-mean-test</td><td>0.49773</td></tr><tr><td>pp_letter_diff-mean-train</td><td>-2.34028</td></tr><tr><td>pp_letter_diff-mean-valid</td><td>-4.1875</td></tr><tr><td>pp_letter_diff-std-test</td><td>5.87094</td></tr><tr><td>pp_letter_diff-std-train</td><td>3.69811</td></tr><tr><td>pp_letter_diff-std-valid</td><td>7.2008</td></tr><tr><td>pp_letter_diff_mean</td><td>-0.25</td></tr><tr><td>pp_letter_percent_mean</td><td>1.019</td></tr><tr><td>pp_logp_mean</td><td>-0.23102</td></tr><tr><td>rank_1_token_prob_0.25_quantile</td><td>-0.27802</td></tr><tr><td>rank_1_token_prob_0.75_quantile</td><td>-0.05918</td></tr><tr><td>rank_1_token_prob_mean</td><td>-0.18097</td></tr><tr><td>rank_1_token_prob_median</td><td>-0.13012</td></tr><tr><td>rank_2_token_prob_0.25_quantile</td><td>-20.0</td></tr><tr><td>rank_2_token_prob_0.75_quantile</td><td>-2.18787</td></tr><tr><td>rank_2_token_prob_mean</td><td>-10.36708</td></tr><tr><td>rank_2_token_prob_median</td><td>-4.33193</td></tr><tr><td>rank_3_token_prob_0.25_quantile</td><td>-20.0</td></tr><tr><td>rank_3_token_prob_0.75_quantile</td><td>-4.36304</td></tr><tr><td>rank_3_token_prob_mean</td><td>-14.9781</td></tr><tr><td>rank_3_token_prob_median</td><td>-20.0</td></tr><tr><td>ref_logp_mean</td><td>-0.36198</td></tr><tr><td>reward_penalty</td><td>-0.03274</td></tr><tr><td>reward_pp-mean-test</td><td>0.08076</td></tr><tr><td>reward_pp-mean-train</td><td>0.17908</td></tr><tr><td>reward_pp-mean-valid</td><td>0.06872</td></tr><tr><td>reward_pp-std-test</td><td>0.15063</td></tr><tr><td>reward_pp-std-train</td><td>0.2689</td></tr><tr><td>reward_pp-std-valid</td><td>0.13194</td></tr><tr><td>reward_pp_mean</td><td>0.0</td></tr><tr><td>reward_pp_minus_baseline_mean</td><td>0.0</td></tr><tr><td>reward_pp_minus_baseline_with_penalty_mean</td><td>0.0</td></tr><tr><td>sts_scores-mean-test</td><td>0.87008</td></tr><tr><td>sts_scores-mean-train</td><td>0.86641</td></tr><tr><td>sts_scores-mean-valid</td><td>0.8955</td></tr><tr><td>sts_scores-std-test</td><td>0.09304</td></tr><tr><td>sts_scores-std-train</td><td>0.07343</td></tr><tr><td>sts_scores-std-valid</td><td>0.06567</td></tr><tr><td>sts_scores_mean</td><td>0.9158</td></tr><tr><td>time/eval_empty_cache</td><td>0.02874</td></tr><tr><td>time/eval_gc_collect</td><td>0.14258</td></tr><tr><td>time/eval_train_thoroughput</td><td>3.03179</td></tr><tr><td>time/eval_train_time</td><td>1.31935</td></tr><tr><td>time/eval_valid_thoroughput</td><td>3.08935</td></tr><tr><td>time/eval_valid_time</td><td>1.29477</td></tr><tr><td>time/train_one_epoch_thoroughput</td><td>2.87236</td></tr><tr><td>time/train_one_epoch_time</td><td>1.39258</td></tr><tr><td>time_acceptability_scores</td><td>0.00675</td></tr><tr><td>time_backwards</td><td>0.15438</td></tr><tr><td>time_calc_gradient_norm</td><td>0.0119</td></tr><tr><td>time_contradiction_scores</td><td>0.00686</td></tr><tr><td>time_generate_pp</td><td>0.15182</td></tr><tr><td>time_lcp_conditions</td><td>0.00011</td></tr><tr><td>time_log_entropy</td><td>0.00108</td></tr><tr><td>time_log_token_probabilities</td><td>0.00277</td></tr><tr><td>time_loss_fn</td><td>0.23624</td></tr><tr><td>time_loss_fn_loss_calc</td><td>2e-05</td></tr><tr><td>time_opt_step</td><td>0.02547</td></tr><tr><td>time_opt_step_and_calc_param_norm</td><td>0.05259</td></tr><tr><td>time_pp_letter_diff</td><td>3e-05</td></tr><tr><td>time_pp_logp</td><td>0.0049</td></tr><tr><td>time_ref_logprobs</td><td>0.20258</td></tr><tr><td>time_reward_fn</td><td>0.02843</td></tr><tr><td>time_sts_scores</td><td>0.00905</td></tr><tr><td>time_vm_scores</td><td>0.00495</td></tr><tr><td>top_token_prob_over_0.1</td><td>1.0</td></tr><tr><td>top_token_prob_over_0.3</td><td>1.0</td></tr><tr><td>top_token_prob_over_0.5</td><td>1.0</td></tr><tr><td>top_token_prob_over_0.75</td><td>0.85185</td></tr><tr><td>top_token_prob_over_0.9</td><td>0.66667</td></tr><tr><td>top_token_prob_over_0.95</td><td>0.59259</td></tr><tr><td>top_token_prob_over_0.975</td><td>0.51852</td></tr><tr><td>top_token_prob_over_0.99</td><td>0.48148</td></tr><tr><td>vm_scores-mean-test</td><td>-0.02239</td></tr><tr><td>vm_scores-mean-train</td><td>0.04793</td></tr><tr><td>vm_scores-mean-valid</td><td>-0.01142</td></tr><tr><td>vm_scores-std-test</td><td>0.14846</td></tr><tr><td>vm_scores-std-train</td><td>0.14409</td></tr><tr><td>vm_scores-std-valid</td><td>0.07389</td></tr><tr><td>vm_scores_mean</td><td>-0.05272</td></tr></table>\n",
       "</div></div>\n",
       "Synced 6 W&B file(s), 0 media file(s), 13 artifact file(s) and 1 other file(s)\n",
       "<br/>Synced <strong style=\"color:#cdcd00\">stellar-grass-129</strong>: <a href=\"https://wandb.ai/uts_nlp/travis_attack/runs/3cuzjffp\" target=\"_blank\">https://wandb.ai/uts_nlp/travis_attack/runs/3cuzjffp</a><br/>\n",
       "Find logs at: <code>./wandb/run-20220617_120945-3cuzjffp/logs</code><br/>\n"
      ],
      "text/plain": [
       "<IPython.core.display.HTML object>"
      ]
     },
     "metadata": {},
     "output_type": "display_data"
    },
    {
     "data": {
      "text/html": [
       "Successfully finished last run (ID:3cuzjffp). Initializing new run:<br/>"
      ],
      "text/plain": [
       "<IPython.core.display.HTML object>"
      ]
     },
     "metadata": {},
     "output_type": "display_data"
    },
    {
     "data": {
      "text/html": [
       "\n",
       "                    Syncing run <strong><a href=\"https://wandb.ai/uts_nlp/travis_attack/runs/30wwhv4b\" target=\"_blank\">vibrant-oath-130</a></strong> to <a href=\"https://wandb.ai/uts_nlp/travis_attack\" target=\"_blank\">Weights & Biases</a> (<a href=\"https://docs.wandb.com/integrations/jupyter.html\" target=\"_blank\">docs</a>).<br/>\n",
       "\n",
       "                "
      ],
      "text/plain": [
       "<IPython.core.display.HTML object>"
      ]
     },
     "metadata": {},
     "output_type": "display_data"
    },
    {
     "data": {
      "application/vnd.jupyter.widget-view+json": {
       "model_id": "9fbc0e113ac54856a5ff01fe6f0ce726",
       "version_major": 2,
       "version_minor": 0
      },
      "text/plain": [
       "HBox(children=(FloatProgress(value=0.0, max=2.0), HTML(value='')))"
      ]
     },
     "metadata": {},
     "output_type": "display_data"
    },
    {
     "name": "stderr",
     "output_type": "stream",
     "text": [
      "travis_attack.trainer: INFO     Launching initial eval run: train\n",
      "travis_attack.trainer: INFO     Launching initial eval run: train\n",
      "travis_attack.trainer: INFO     Launching initial eval run: train\n"
     ]
    },
    {
     "data": {
      "application/vnd.jupyter.widget-view+json": {
       "model_id": "9b6ed79e27fd4cb6a10c2b783f3c6587",
       "version_major": 2,
       "version_minor": 0
      },
      "text/plain": [
       "HBox(children=(FloatProgress(value=0.0, max=1.0), HTML(value='')))"
      ]
     },
     "metadata": {},
     "output_type": "display_data"
    },
    {
     "name": "stdout",
     "output_type": "stream",
     "text": [
      "\n"
     ]
    },
    {
     "data": {
      "application/vnd.jupyter.widget-view+json": {
       "model_id": "204f0ea5c342485ca568a3a2b7f51cef",
       "version_major": 2,
       "version_minor": 0
      },
      "text/plain": [
       "HBox(children=(FloatProgress(value=0.0, max=1.0), HTML(value='')))"
      ]
     },
     "metadata": {},
     "output_type": "display_data"
    },
    {
     "name": "stdout",
     "output_type": "stream",
     "text": [
      "\n"
     ]
    },
    {
     "data": {
      "application/vnd.jupyter.widget-view+json": {
       "model_id": "30c23bb2705a42eeb3c19d032dc8c955",
       "version_major": 2,
       "version_minor": 0
      },
      "text/plain": [
       "HBox(children=(FloatProgress(value=0.0, max=1.0), HTML(value='')))"
      ]
     },
     "metadata": {},
     "output_type": "display_data"
    },
    {
     "name": "stdout",
     "output_type": "stream",
     "text": [
      "\n"
     ]
    },
    {
     "data": {
      "application/vnd.jupyter.widget-view+json": {
       "model_id": "4d9f71236ad8429da2b926e593fce944",
       "version_major": 2,
       "version_minor": 0
      },
      "text/plain": [
       "HBox(children=(FloatProgress(value=0.0, max=1.0), HTML(value='')))"
      ]
     },
     "metadata": {},
     "output_type": "display_data"
    },
    {
     "name": "stdout",
     "output_type": "stream",
     "text": [
      "\n"
     ]
    },
    {
     "data": {
      "application/vnd.jupyter.widget-view+json": {
       "model_id": "909254d1469242dd89fd63937b762d58",
       "version_major": 2,
       "version_minor": 0
      },
      "text/plain": [
       "HBox(children=(FloatProgress(value=0.0, max=1.0), HTML(value='')))"
      ]
     },
     "metadata": {},
     "output_type": "display_data"
    },
    {
     "name": "stdout",
     "output_type": "stream",
     "text": [
      "\n"
     ]
    },
    {
     "data": {
      "application/vnd.jupyter.widget-view+json": {
       "model_id": "441ae1535bae4edeb729a68d6ba27b26",
       "version_major": 2,
       "version_minor": 0
      },
      "text/plain": [
       "HBox(children=(FloatProgress(value=0.0, max=1.0), HTML(value='')))"
      ]
     },
     "metadata": {},
     "output_type": "display_data"
    },
    {
     "name": "stdout",
     "output_type": "stream",
     "text": [
      "\n"
     ]
    },
    {
     "data": {
      "application/vnd.jupyter.widget-view+json": {
       "model_id": "5a1a3c0993b8424c9b3befa73d059240",
       "version_major": 2,
       "version_minor": 0
      },
      "text/plain": [
       "HBox(children=(FloatProgress(value=1.0, bar_style='info', layout=Layout(width='20px'), max=1.0), HTML(value=''…"
      ]
     },
     "metadata": {},
     "output_type": "display_data"
    },
    {
     "name": "stdout",
     "output_type": "stream",
     "text": [
      "\n"
     ]
    },
    {
     "data": {
      "application/vnd.jupyter.widget-view+json": {
       "model_id": "4e85e53eaecd4a39a8e78ea7ea4e7482",
       "version_major": 2,
       "version_minor": 0
      },
      "text/plain": [
       "HBox(children=(FloatProgress(value=0.0, max=1.0), HTML(value='')))"
      ]
     },
     "metadata": {},
     "output_type": "display_data"
    },
    {
     "name": "stderr",
     "output_type": "stream",
     "text": [
      "travis_attack.trainer: INFO     Launching initial eval run: valid\n",
      "travis_attack.trainer: INFO     Launching initial eval run: valid\n",
      "travis_attack.trainer: INFO     Launching initial eval run: valid\n"
     ]
    },
    {
     "name": "stdout",
     "output_type": "stream",
     "text": [
      "\n"
     ]
    },
    {
     "data": {
      "application/vnd.jupyter.widget-view+json": {
       "model_id": "8ff6c8729b764e5fa671226752786766",
       "version_major": 2,
       "version_minor": 0
      },
      "text/plain": [
       "HBox(children=(FloatProgress(value=0.0, max=1.0), HTML(value='')))"
      ]
     },
     "metadata": {},
     "output_type": "display_data"
    },
    {
     "name": "stdout",
     "output_type": "stream",
     "text": [
      "\n"
     ]
    },
    {
     "data": {
      "application/vnd.jupyter.widget-view+json": {
       "model_id": "a7e9893b239e4a71bd389d1ee1ae867f",
       "version_major": 2,
       "version_minor": 0
      },
      "text/plain": [
       "HBox(children=(FloatProgress(value=0.0, max=1.0), HTML(value='')))"
      ]
     },
     "metadata": {},
     "output_type": "display_data"
    },
    {
     "name": "stdout",
     "output_type": "stream",
     "text": [
      "\n"
     ]
    },
    {
     "data": {
      "application/vnd.jupyter.widget-view+json": {
       "model_id": "d1b36de91202457f8450f26b18d1bc6a",
       "version_major": 2,
       "version_minor": 0
      },
      "text/plain": [
       "HBox(children=(FloatProgress(value=0.0, max=1.0), HTML(value='')))"
      ]
     },
     "metadata": {},
     "output_type": "display_data"
    },
    {
     "name": "stdout",
     "output_type": "stream",
     "text": [
      "\n"
     ]
    },
    {
     "data": {
      "application/vnd.jupyter.widget-view+json": {
       "model_id": "c94bac9bdbaa4969b55c43aac2d95769",
       "version_major": 2,
       "version_minor": 0
      },
      "text/plain": [
       "HBox(children=(FloatProgress(value=0.0, max=1.0), HTML(value='')))"
      ]
     },
     "metadata": {},
     "output_type": "display_data"
    },
    {
     "name": "stdout",
     "output_type": "stream",
     "text": [
      "\n"
     ]
    },
    {
     "data": {
      "application/vnd.jupyter.widget-view+json": {
       "model_id": "5e4bffa51ce74908b5dfa3d24f7425c7",
       "version_major": 2,
       "version_minor": 0
      },
      "text/plain": [
       "HBox(children=(FloatProgress(value=0.0, max=1.0), HTML(value='')))"
      ]
     },
     "metadata": {},
     "output_type": "display_data"
    },
    {
     "name": "stdout",
     "output_type": "stream",
     "text": [
      "\n"
     ]
    },
    {
     "data": {
      "application/vnd.jupyter.widget-view+json": {
       "model_id": "952ba85dbb7d4a159f4840822ddcf452",
       "version_major": 2,
       "version_minor": 0
      },
      "text/plain": [
       "HBox(children=(FloatProgress(value=0.0, max=1.0), HTML(value='')))"
      ]
     },
     "metadata": {},
     "output_type": "display_data"
    },
    {
     "name": "stdout",
     "output_type": "stream",
     "text": [
      "\n"
     ]
    },
    {
     "data": {
      "application/vnd.jupyter.widget-view+json": {
       "model_id": "726b3f16c9074a839ff7fae08de5bf48",
       "version_major": 2,
       "version_minor": 0
      },
      "text/plain": [
       "HBox(children=(FloatProgress(value=1.0, bar_style='info', layout=Layout(width='20px'), max=1.0), HTML(value=''…"
      ]
     },
     "metadata": {},
     "output_type": "display_data"
    },
    {
     "name": "stdout",
     "output_type": "stream",
     "text": [
      "\n"
     ]
    },
    {
     "data": {
      "application/vnd.jupyter.widget-view+json": {
       "model_id": "3b243f93c988418cbaff7595f53c0a7f",
       "version_major": 2,
       "version_minor": 0
      },
      "text/plain": [
       "HBox(children=(FloatProgress(value=0.0, max=1.0), HTML(value='')))"
      ]
     },
     "metadata": {},
     "output_type": "display_data"
    },
    {
     "name": "stderr",
     "output_type": "stream",
     "text": [
      "travis_attack.trainer: INFO     Epoch: 0. Min epochs before early stopping activated: 10\n",
      "travis_attack.trainer: INFO     Epoch: 0. Min epochs before early stopping activated: 10\n",
      "travis_attack.trainer: INFO     Epoch: 0. Min epochs before early stopping activated: 10\n",
      "travis_attack.trainer: INFO     Eval metric: 0.000 | Running median: 0.000\n",
      "travis_attack.trainer: INFO     Eval metric: 0.000 | Running median: 0.000\n",
      "travis_attack.trainer: INFO     Eval metric: 0.000 | Running median: 0.000\n"
     ]
    },
    {
     "name": "stdout",
     "output_type": "stream",
     "text": [
      "\n"
     ]
    },
    {
     "name": "stderr",
     "output_type": "stream",
     "text": [
      "travis_attack.trainer: INFO     Launching initial eval run: test\n",
      "travis_attack.trainer: INFO     Launching initial eval run: test\n",
      "travis_attack.trainer: INFO     Launching initial eval run: test\n"
     ]
    },
    {
     "data": {
      "application/vnd.jupyter.widget-view+json": {
       "model_id": "36a1949573fd4155ac34e780f42d17be",
       "version_major": 2,
       "version_minor": 0
      },
      "text/plain": [
       "HBox(children=(FloatProgress(value=0.0, max=1.0), HTML(value='')))"
      ]
     },
     "metadata": {},
     "output_type": "display_data"
    },
    {
     "name": "stdout",
     "output_type": "stream",
     "text": [
      "\n"
     ]
    },
    {
     "data": {
      "application/vnd.jupyter.widget-view+json": {
       "model_id": "fe3b33afcdfd48c289d2ecf3b26bcaf8",
       "version_major": 2,
       "version_minor": 0
      },
      "text/plain": [
       "HBox(children=(FloatProgress(value=0.0, max=1.0), HTML(value='')))"
      ]
     },
     "metadata": {},
     "output_type": "display_data"
    },
    {
     "name": "stdout",
     "output_type": "stream",
     "text": [
      "\n"
     ]
    },
    {
     "data": {
      "application/vnd.jupyter.widget-view+json": {
       "model_id": "32777d53ff764a6899160f5c4d559af0",
       "version_major": 2,
       "version_minor": 0
      },
      "text/plain": [
       "HBox(children=(FloatProgress(value=0.0, max=1.0), HTML(value='')))"
      ]
     },
     "metadata": {},
     "output_type": "display_data"
    },
    {
     "name": "stdout",
     "output_type": "stream",
     "text": [
      "\n"
     ]
    },
    {
     "data": {
      "application/vnd.jupyter.widget-view+json": {
       "model_id": "20298e6fa16a45f8ae754c50c1fb8c1a",
       "version_major": 2,
       "version_minor": 0
      },
      "text/plain": [
       "HBox(children=(FloatProgress(value=0.0, max=1.0), HTML(value='')))"
      ]
     },
     "metadata": {},
     "output_type": "display_data"
    },
    {
     "name": "stdout",
     "output_type": "stream",
     "text": [
      "\n"
     ]
    },
    {
     "data": {
      "application/vnd.jupyter.widget-view+json": {
       "model_id": "6b9672488fcd4c5e823ce16e070ef6b3",
       "version_major": 2,
       "version_minor": 0
      },
      "text/plain": [
       "HBox(children=(FloatProgress(value=0.0, max=1.0), HTML(value='')))"
      ]
     },
     "metadata": {},
     "output_type": "display_data"
    },
    {
     "name": "stdout",
     "output_type": "stream",
     "text": [
      "\n"
     ]
    },
    {
     "data": {
      "application/vnd.jupyter.widget-view+json": {
       "model_id": "39e6e2c452184950befb3e7465b93066",
       "version_major": 2,
       "version_minor": 0
      },
      "text/plain": [
       "HBox(children=(FloatProgress(value=0.0, max=1.0), HTML(value='')))"
      ]
     },
     "metadata": {},
     "output_type": "display_data"
    },
    {
     "name": "stdout",
     "output_type": "stream",
     "text": [
      "\n"
     ]
    },
    {
     "data": {
      "application/vnd.jupyter.widget-view+json": {
       "model_id": "e1bc73b072484658a72c3f8cc02af6e1",
       "version_major": 2,
       "version_minor": 0
      },
      "text/plain": [
       "HBox(children=(FloatProgress(value=1.0, bar_style='info', layout=Layout(width='20px'), max=1.0), HTML(value=''…"
      ]
     },
     "metadata": {},
     "output_type": "display_data"
    },
    {
     "name": "stdout",
     "output_type": "stream",
     "text": [
      "\n"
     ]
    },
    {
     "data": {
      "application/vnd.jupyter.widget-view+json": {
       "model_id": "edeb526f73cd4814bcd2b1118742990c",
       "version_major": 2,
       "version_minor": 0
      },
      "text/plain": [
       "HBox(children=(FloatProgress(value=0.0, max=1.0), HTML(value='')))"
      ]
     },
     "metadata": {},
     "output_type": "display_data"
    },
    {
     "name": "stderr",
     "output_type": "stream",
     "text": [
      "travis_attack.trainer: INFO     Now on epoch 1 of 2\n",
      "travis_attack.trainer: INFO     Now on epoch 1 of 2\n",
      "travis_attack.trainer: INFO     Now on epoch 1 of 2\n"
     ]
    },
    {
     "name": "stdout",
     "output_type": "stream",
     "text": [
      "\n"
     ]
    },
    {
     "data": {
      "application/vnd.jupyter.widget-view+json": {
       "model_id": "e83fc8624e3e4d11ab4b722090078caf",
       "version_major": 2,
       "version_minor": 0
      },
      "text/plain": [
       "HBox(children=(FloatProgress(value=0.0, max=1.0), HTML(value='')))"
      ]
     },
     "metadata": {},
     "output_type": "display_data"
    },
    {
     "name": "stdout",
     "output_type": "stream",
     "text": [
      "\n"
     ]
    },
    {
     "data": {
      "application/vnd.jupyter.widget-view+json": {
       "model_id": "6282d28baaf94fff92401e7e82f65105",
       "version_major": 2,
       "version_minor": 0
      },
      "text/plain": [
       "HBox(children=(FloatProgress(value=0.0, max=1.0), HTML(value='')))"
      ]
     },
     "metadata": {},
     "output_type": "display_data"
    },
    {
     "name": "stdout",
     "output_type": "stream",
     "text": [
      "\n"
     ]
    },
    {
     "data": {
      "application/vnd.jupyter.widget-view+json": {
       "model_id": "5505ba2c00c249d8bacbcb67d28a108f",
       "version_major": 2,
       "version_minor": 0
      },
      "text/plain": [
       "HBox(children=(FloatProgress(value=0.0, max=1.0), HTML(value='')))"
      ]
     },
     "metadata": {},
     "output_type": "display_data"
    },
    {
     "name": "stdout",
     "output_type": "stream",
     "text": [
      "\n"
     ]
    },
    {
     "data": {
      "application/vnd.jupyter.widget-view+json": {
       "model_id": "c3d267852dc7430c9d06336af62670f3",
       "version_major": 2,
       "version_minor": 0
      },
      "text/plain": [
       "HBox(children=(FloatProgress(value=0.0, max=1.0), HTML(value='')))"
      ]
     },
     "metadata": {},
     "output_type": "display_data"
    },
    {
     "name": "stdout",
     "output_type": "stream",
     "text": [
      "\n"
     ]
    },
    {
     "data": {
      "application/vnd.jupyter.widget-view+json": {
       "model_id": "fc11b23978714552a9db4f5586c07fac",
       "version_major": 2,
       "version_minor": 0
      },
      "text/plain": [
       "HBox(children=(FloatProgress(value=0.0, max=1.0), HTML(value='')))"
      ]
     },
     "metadata": {},
     "output_type": "display_data"
    },
    {
     "name": "stdout",
     "output_type": "stream",
     "text": [
      "\n"
     ]
    },
    {
     "data": {
      "application/vnd.jupyter.widget-view+json": {
       "model_id": "653a54d12e2f4c7690bc761a4060197e",
       "version_major": 2,
       "version_minor": 0
      },
      "text/plain": [
       "HBox(children=(FloatProgress(value=0.0, max=1.0), HTML(value='')))"
      ]
     },
     "metadata": {},
     "output_type": "display_data"
    },
    {
     "name": "stdout",
     "output_type": "stream",
     "text": [
      "\n"
     ]
    },
    {
     "data": {
      "application/vnd.jupyter.widget-view+json": {
       "model_id": "5e7a84d119534b99b155f5604b86c2b0",
       "version_major": 2,
       "version_minor": 0
      },
      "text/plain": [
       "HBox(children=(FloatProgress(value=1.0, bar_style='info', layout=Layout(width='20px'), max=1.0), HTML(value=''…"
      ]
     },
     "metadata": {},
     "output_type": "display_data"
    },
    {
     "name": "stdout",
     "output_type": "stream",
     "text": [
      "\n"
     ]
    },
    {
     "data": {
      "application/vnd.jupyter.widget-view+json": {
       "model_id": "c216242df85f4857ada871828ccd3208",
       "version_major": 2,
       "version_minor": 0
      },
      "text/plain": [
       "HBox(children=(FloatProgress(value=0.0, max=1.0), HTML(value='')))"
      ]
     },
     "metadata": {},
     "output_type": "display_data"
    },
    {
     "name": "stdout",
     "output_type": "stream",
     "text": [
      "\n"
     ]
    },
    {
     "data": {
      "application/vnd.jupyter.widget-view+json": {
       "model_id": "4708011154b446a2bf379aa285101851",
       "version_major": 2,
       "version_minor": 0
      },
      "text/plain": [
       "HBox(children=(FloatProgress(value=0.0, max=1.0), HTML(value='')))"
      ]
     },
     "metadata": {},
     "output_type": "display_data"
    },
    {
     "name": "stdout",
     "output_type": "stream",
     "text": [
      "\n"
     ]
    },
    {
     "data": {
      "application/vnd.jupyter.widget-view+json": {
       "model_id": "3f0d197706c747d48ac0f907aeb9a35a",
       "version_major": 2,
       "version_minor": 0
      },
      "text/plain": [
       "HBox(children=(FloatProgress(value=0.0, max=1.0), HTML(value='')))"
      ]
     },
     "metadata": {},
     "output_type": "display_data"
    },
    {
     "name": "stdout",
     "output_type": "stream",
     "text": [
      "\n"
     ]
    },
    {
     "data": {
      "application/vnd.jupyter.widget-view+json": {
       "model_id": "a473432ed1574d24948999ab3a3ead8e",
       "version_major": 2,
       "version_minor": 0
      },
      "text/plain": [
       "HBox(children=(FloatProgress(value=0.0, max=1.0), HTML(value='')))"
      ]
     },
     "metadata": {},
     "output_type": "display_data"
    },
    {
     "name": "stdout",
     "output_type": "stream",
     "text": [
      "\n"
     ]
    },
    {
     "data": {
      "application/vnd.jupyter.widget-view+json": {
       "model_id": "52ff75e8323a4ab5aad69ad948e60796",
       "version_major": 2,
       "version_minor": 0
      },
      "text/plain": [
       "HBox(children=(FloatProgress(value=0.0, max=1.0), HTML(value='')))"
      ]
     },
     "metadata": {},
     "output_type": "display_data"
    },
    {
     "name": "stdout",
     "output_type": "stream",
     "text": [
      "\n"
     ]
    },
    {
     "data": {
      "application/vnd.jupyter.widget-view+json": {
       "model_id": "64cee2fa58e5407a8ca297218f104455",
       "version_major": 2,
       "version_minor": 0
      },
      "text/plain": [
       "HBox(children=(FloatProgress(value=0.0, max=1.0), HTML(value='')))"
      ]
     },
     "metadata": {},
     "output_type": "display_data"
    },
    {
     "name": "stdout",
     "output_type": "stream",
     "text": [
      "\n"
     ]
    },
    {
     "data": {
      "application/vnd.jupyter.widget-view+json": {
       "model_id": "7e60e85464cc48ebb8030ccff5ef8820",
       "version_major": 2,
       "version_minor": 0
      },
      "text/plain": [
       "HBox(children=(FloatProgress(value=0.0, max=1.0), HTML(value='')))"
      ]
     },
     "metadata": {},
     "output_type": "display_data"
    },
    {
     "name": "stdout",
     "output_type": "stream",
     "text": [
      "\n"
     ]
    },
    {
     "data": {
      "application/vnd.jupyter.widget-view+json": {
       "model_id": "f69722674f834e10b25736f1265221ea",
       "version_major": 2,
       "version_minor": 0
      },
      "text/plain": [
       "HBox(children=(FloatProgress(value=1.0, bar_style='info', layout=Layout(width='20px'), max=1.0), HTML(value=''…"
      ]
     },
     "metadata": {},
     "output_type": "display_data"
    },
    {
     "name": "stdout",
     "output_type": "stream",
     "text": [
      "\n"
     ]
    },
    {
     "data": {
      "application/vnd.jupyter.widget-view+json": {
       "model_id": "56ea8f9537034eb58ee93b4a459b818c",
       "version_major": 2,
       "version_minor": 0
      },
      "text/plain": [
       "HBox(children=(FloatProgress(value=0.0, max=1.0), HTML(value='')))"
      ]
     },
     "metadata": {},
     "output_type": "display_data"
    },
    {
     "name": "stderr",
     "output_type": "stream",
     "text": [
      "travis_attack.trainer: INFO     Epoch: 1. Min epochs before early stopping activated: 10\n",
      "travis_attack.trainer: INFO     Epoch: 1. Min epochs before early stopping activated: 10\n",
      "travis_attack.trainer: INFO     Epoch: 1. Min epochs before early stopping activated: 10\n",
      "travis_attack.trainer: INFO     Eval metric: 0.000 | Running median: 0.000\n",
      "travis_attack.trainer: INFO     Eval metric: 0.000 | Running median: 0.000\n",
      "travis_attack.trainer: INFO     Eval metric: 0.000 | Running median: 0.000\n"
     ]
    },
    {
     "name": "stdout",
     "output_type": "stream",
     "text": [
      "\n",
      "\n"
     ]
    },
    {
     "name": "stderr",
     "output_type": "stream",
     "text": [
      "travis_attack.trainer: INFO     Now on epoch 2 of 2\n",
      "travis_attack.trainer: INFO     Now on epoch 2 of 2\n",
      "travis_attack.trainer: INFO     Now on epoch 2 of 2\n"
     ]
    },
    {
     "data": {
      "application/vnd.jupyter.widget-view+json": {
       "model_id": "c7c814472ae54b92a4fb598bc6d17790",
       "version_major": 2,
       "version_minor": 0
      },
      "text/plain": [
       "HBox(children=(FloatProgress(value=0.0, max=1.0), HTML(value='')))"
      ]
     },
     "metadata": {},
     "output_type": "display_data"
    },
    {
     "name": "stdout",
     "output_type": "stream",
     "text": [
      "\n"
     ]
    },
    {
     "data": {
      "application/vnd.jupyter.widget-view+json": {
       "model_id": "011aa807837045dba03d219f082da499",
       "version_major": 2,
       "version_minor": 0
      },
      "text/plain": [
       "HBox(children=(FloatProgress(value=0.0, max=1.0), HTML(value='')))"
      ]
     },
     "metadata": {},
     "output_type": "display_data"
    },
    {
     "name": "stdout",
     "output_type": "stream",
     "text": [
      "\n"
     ]
    },
    {
     "data": {
      "application/vnd.jupyter.widget-view+json": {
       "model_id": "f6ecee8a6f9d4ff490d4f84f8ccda5d8",
       "version_major": 2,
       "version_minor": 0
      },
      "text/plain": [
       "HBox(children=(FloatProgress(value=0.0, max=1.0), HTML(value='')))"
      ]
     },
     "metadata": {},
     "output_type": "display_data"
    },
    {
     "name": "stdout",
     "output_type": "stream",
     "text": [
      "\n"
     ]
    },
    {
     "data": {
      "application/vnd.jupyter.widget-view+json": {
       "model_id": "1e3ff62982c74086b5c0aed1c1bb6a4a",
       "version_major": 2,
       "version_minor": 0
      },
      "text/plain": [
       "HBox(children=(FloatProgress(value=0.0, max=1.0), HTML(value='')))"
      ]
     },
     "metadata": {},
     "output_type": "display_data"
    },
    {
     "name": "stdout",
     "output_type": "stream",
     "text": [
      "\n"
     ]
    },
    {
     "data": {
      "application/vnd.jupyter.widget-view+json": {
       "model_id": "10a3af0b62ff4fdfbca748e9e044fa81",
       "version_major": 2,
       "version_minor": 0
      },
      "text/plain": [
       "HBox(children=(FloatProgress(value=0.0, max=1.0), HTML(value='')))"
      ]
     },
     "metadata": {},
     "output_type": "display_data"
    },
    {
     "name": "stdout",
     "output_type": "stream",
     "text": [
      "\n"
     ]
    },
    {
     "data": {
      "application/vnd.jupyter.widget-view+json": {
       "model_id": "9b09c679d461471c9af6378cdb38dfc4",
       "version_major": 2,
       "version_minor": 0
      },
      "text/plain": [
       "HBox(children=(FloatProgress(value=0.0, max=1.0), HTML(value='')))"
      ]
     },
     "metadata": {},
     "output_type": "display_data"
    },
    {
     "name": "stdout",
     "output_type": "stream",
     "text": [
      "\n"
     ]
    },
    {
     "data": {
      "application/vnd.jupyter.widget-view+json": {
       "model_id": "9dd6379f2313454bb6fa9459ba056eeb",
       "version_major": 2,
       "version_minor": 0
      },
      "text/plain": [
       "HBox(children=(FloatProgress(value=1.0, bar_style='info', layout=Layout(width='20px'), max=1.0), HTML(value=''…"
      ]
     },
     "metadata": {},
     "output_type": "display_data"
    },
    {
     "name": "stdout",
     "output_type": "stream",
     "text": [
      "\n"
     ]
    },
    {
     "data": {
      "application/vnd.jupyter.widget-view+json": {
       "model_id": "f206b352f68b4f4696d9f82e44b13060",
       "version_major": 2,
       "version_minor": 0
      },
      "text/plain": [
       "HBox(children=(FloatProgress(value=0.0, max=1.0), HTML(value='')))"
      ]
     },
     "metadata": {},
     "output_type": "display_data"
    },
    {
     "name": "stdout",
     "output_type": "stream",
     "text": [
      "\n"
     ]
    },
    {
     "data": {
      "application/vnd.jupyter.widget-view+json": {
       "model_id": "afcf13d430a3444daf5e3f63d4f8e26d",
       "version_major": 2,
       "version_minor": 0
      },
      "text/plain": [
       "HBox(children=(FloatProgress(value=0.0, max=1.0), HTML(value='')))"
      ]
     },
     "metadata": {},
     "output_type": "display_data"
    },
    {
     "name": "stdout",
     "output_type": "stream",
     "text": [
      "\n"
     ]
    },
    {
     "data": {
      "application/vnd.jupyter.widget-view+json": {
       "model_id": "b00b96ec73724357a415bc174211f286",
       "version_major": 2,
       "version_minor": 0
      },
      "text/plain": [
       "HBox(children=(FloatProgress(value=0.0, max=1.0), HTML(value='')))"
      ]
     },
     "metadata": {},
     "output_type": "display_data"
    },
    {
     "name": "stdout",
     "output_type": "stream",
     "text": [
      "\n"
     ]
    },
    {
     "data": {
      "application/vnd.jupyter.widget-view+json": {
       "model_id": "91a038098d1b484386df6fb475590d2d",
       "version_major": 2,
       "version_minor": 0
      },
      "text/plain": [
       "HBox(children=(FloatProgress(value=0.0, max=1.0), HTML(value='')))"
      ]
     },
     "metadata": {},
     "output_type": "display_data"
    },
    {
     "name": "stdout",
     "output_type": "stream",
     "text": [
      "\n"
     ]
    },
    {
     "data": {
      "application/vnd.jupyter.widget-view+json": {
       "model_id": "7d51ad6f072e4059b2ab2645fc54a72f",
       "version_major": 2,
       "version_minor": 0
      },
      "text/plain": [
       "HBox(children=(FloatProgress(value=0.0, max=1.0), HTML(value='')))"
      ]
     },
     "metadata": {},
     "output_type": "display_data"
    },
    {
     "name": "stdout",
     "output_type": "stream",
     "text": [
      "\n"
     ]
    },
    {
     "data": {
      "application/vnd.jupyter.widget-view+json": {
       "model_id": "122364f788974e40a7c683bc1f356aeb",
       "version_major": 2,
       "version_minor": 0
      },
      "text/plain": [
       "HBox(children=(FloatProgress(value=0.0, max=1.0), HTML(value='')))"
      ]
     },
     "metadata": {},
     "output_type": "display_data"
    },
    {
     "name": "stdout",
     "output_type": "stream",
     "text": [
      "\n"
     ]
    },
    {
     "data": {
      "application/vnd.jupyter.widget-view+json": {
       "model_id": "884f062732214b6bb7c589cb36544da8",
       "version_major": 2,
       "version_minor": 0
      },
      "text/plain": [
       "HBox(children=(FloatProgress(value=0.0, max=1.0), HTML(value='')))"
      ]
     },
     "metadata": {},
     "output_type": "display_data"
    },
    {
     "name": "stdout",
     "output_type": "stream",
     "text": [
      "\n"
     ]
    },
    {
     "data": {
      "application/vnd.jupyter.widget-view+json": {
       "model_id": "0d4a4bb9445b4e7887d7f97d3d3540c4",
       "version_major": 2,
       "version_minor": 0
      },
      "text/plain": [
       "HBox(children=(FloatProgress(value=1.0, bar_style='info', layout=Layout(width='20px'), max=1.0), HTML(value=''…"
      ]
     },
     "metadata": {},
     "output_type": "display_data"
    },
    {
     "name": "stdout",
     "output_type": "stream",
     "text": [
      "\n"
     ]
    },
    {
     "data": {
      "application/vnd.jupyter.widget-view+json": {
       "model_id": "90824495d8a7448bb0a5a31679cef5e0",
       "version_major": 2,
       "version_minor": 0
      },
      "text/plain": [
       "HBox(children=(FloatProgress(value=0.0, max=1.0), HTML(value='')))"
      ]
     },
     "metadata": {},
     "output_type": "display_data"
    },
    {
     "name": "stderr",
     "output_type": "stream",
     "text": [
      "travis_attack.trainer: INFO     Epoch: 2. Min epochs before early stopping activated: 10\n",
      "travis_attack.trainer: INFO     Epoch: 2. Min epochs before early stopping activated: 10\n",
      "travis_attack.trainer: INFO     Epoch: 2. Min epochs before early stopping activated: 10\n",
      "travis_attack.trainer: INFO     Eval metric: 0.000 | Running median: 0.000\n",
      "travis_attack.trainer: INFO     Eval metric: 0.000 | Running median: 0.000\n",
      "travis_attack.trainer: INFO     Eval metric: 0.000 | Running median: 0.000\n"
     ]
    },
    {
     "name": "stdout",
     "output_type": "stream",
     "text": [
      "\n"
     ]
    },
    {
     "name": "stderr",
     "output_type": "stream",
     "text": [
      "travis_attack.trainer: INFO     Evaluating test set with best model at path : ../model_checkpoints/travis_attack/vibrant-oath-130/model_0.pt\n",
      "travis_attack.trainer: INFO     Evaluating test set with best model at path : ../model_checkpoints/travis_attack/vibrant-oath-130/model_0.pt\n",
      "travis_attack.trainer: INFO     Evaluating test set with best model at path : ../model_checkpoints/travis_attack/vibrant-oath-130/model_0.pt\n"
     ]
    },
    {
     "data": {
      "application/vnd.jupyter.widget-view+json": {
       "model_id": "65eefee8b6354c809e381091f63d9273",
       "version_major": 2,
       "version_minor": 0
      },
      "text/plain": [
       "HBox(children=(FloatProgress(value=0.0, max=1.0), HTML(value='')))"
      ]
     },
     "metadata": {},
     "output_type": "display_data"
    },
    {
     "name": "stdout",
     "output_type": "stream",
     "text": [
      "\n"
     ]
    },
    {
     "data": {
      "application/vnd.jupyter.widget-view+json": {
       "model_id": "8e267cb2034946f9a304dd997b213e64",
       "version_major": 2,
       "version_minor": 0
      },
      "text/plain": [
       "HBox(children=(FloatProgress(value=0.0, max=1.0), HTML(value='')))"
      ]
     },
     "metadata": {},
     "output_type": "display_data"
    },
    {
     "name": "stdout",
     "output_type": "stream",
     "text": [
      "\n"
     ]
    },
    {
     "data": {
      "application/vnd.jupyter.widget-view+json": {
       "model_id": "65abe81a50004c57a809a23661e7862b",
       "version_major": 2,
       "version_minor": 0
      },
      "text/plain": [
       "HBox(children=(FloatProgress(value=0.0, max=1.0), HTML(value='')))"
      ]
     },
     "metadata": {},
     "output_type": "display_data"
    },
    {
     "name": "stdout",
     "output_type": "stream",
     "text": [
      "\n"
     ]
    },
    {
     "data": {
      "application/vnd.jupyter.widget-view+json": {
       "model_id": "cdbe5363cfe443ce8eb6180e47b005f9",
       "version_major": 2,
       "version_minor": 0
      },
      "text/plain": [
       "HBox(children=(FloatProgress(value=0.0, max=1.0), HTML(value='')))"
      ]
     },
     "metadata": {},
     "output_type": "display_data"
    },
    {
     "name": "stdout",
     "output_type": "stream",
     "text": [
      "\n"
     ]
    },
    {
     "data": {
      "application/vnd.jupyter.widget-view+json": {
       "model_id": "50f8f85cf61646db9bb0cb0c2e9b1e8d",
       "version_major": 2,
       "version_minor": 0
      },
      "text/plain": [
       "HBox(children=(FloatProgress(value=0.0, max=1.0), HTML(value='')))"
      ]
     },
     "metadata": {},
     "output_type": "display_data"
    },
    {
     "name": "stdout",
     "output_type": "stream",
     "text": [
      "\n"
     ]
    },
    {
     "data": {
      "application/vnd.jupyter.widget-view+json": {
       "model_id": "cd3b924bfa1f4fd893a374bae635fdaa",
       "version_major": 2,
       "version_minor": 0
      },
      "text/plain": [
       "HBox(children=(FloatProgress(value=0.0, max=1.0), HTML(value='')))"
      ]
     },
     "metadata": {},
     "output_type": "display_data"
    },
    {
     "name": "stdout",
     "output_type": "stream",
     "text": [
      "\n"
     ]
    },
    {
     "data": {
      "application/vnd.jupyter.widget-view+json": {
       "model_id": "17f77e68d7b9484a872c4a0b880b2e7c",
       "version_major": 2,
       "version_minor": 0
      },
      "text/plain": [
       "HBox(children=(FloatProgress(value=1.0, bar_style='info', layout=Layout(width='20px'), max=1.0), HTML(value=''…"
      ]
     },
     "metadata": {},
     "output_type": "display_data"
    },
    {
     "name": "stdout",
     "output_type": "stream",
     "text": [
      "\n"
     ]
    },
    {
     "data": {
      "application/vnd.jupyter.widget-view+json": {
       "model_id": "857751d0846f44199424e925bbc74c40",
       "version_major": 2,
       "version_minor": 0
      },
      "text/plain": [
       "HBox(children=(FloatProgress(value=0.0, max=1.0), HTML(value='')))"
      ]
     },
     "metadata": {},
     "output_type": "display_data"
    },
    {
     "name": "stdout",
     "output_type": "stream",
     "text": [
      "\n"
     ]
    }
   ],
   "source": [
    "cfg.wandb['mode'] = 'online'\n",
    "trainer = Trainer(cfg, vm_tokenizer,vm_model,pp_tokenizer,pp_model,ref_pp_model,sts_model,nli_tokenizer,nli_model,cola_tokenizer,cola_model, optimizer,\n",
    "         ds)\n",
    "print_important_cfg_vars(cfg)\n",
    "trainer.train()"
   ]
  },
  {
   "cell_type": "code",
   "execution_count": null,
   "metadata": {},
   "outputs": [
    {
     "name": "stdout",
     "output_type": "stream",
     "text": [
      "\n",
      "> \u001b[0;32m/data/tproth/travis_attack/travis_attack/utils.py\u001b[0m(308)\u001b[0;36mappend_df_to_csv\u001b[0;34m()\u001b[0m\n",
      "\u001b[0;32m    306 \u001b[0;31m    \u001b[0;32mif\u001b[0m \u001b[0;32mnot\u001b[0m \u001b[0mos\u001b[0m\u001b[0;34m.\u001b[0m\u001b[0mpath\u001b[0m\u001b[0;34m.\u001b[0m\u001b[0misfile\u001b[0m\u001b[0;34m(\u001b[0m\u001b[0mpath\u001b[0m\u001b[0;34m)\u001b[0m\u001b[0;34m:\u001b[0m   \u001b[0mdf\u001b[0m\u001b[0;34m.\u001b[0m\u001b[0mto_csv\u001b[0m\u001b[0;34m(\u001b[0m\u001b[0mpath\u001b[0m\u001b[0;34m,\u001b[0m \u001b[0mmode\u001b[0m\u001b[0;34m=\u001b[0m\u001b[0;34m'a'\u001b[0m\u001b[0;34m,\u001b[0m \u001b[0mindex\u001b[0m\u001b[0;34m=\u001b[0m\u001b[0;32mFalse\u001b[0m\u001b[0;34m)\u001b[0m  \u001b[0;31m# create with header if not exists\u001b[0m\u001b[0;34m\u001b[0m\u001b[0;34m\u001b[0m\u001b[0m\n",
      "\u001b[0m\u001b[0;32m    307 \u001b[0;31m    \u001b[0;32melif\u001b[0m \u001b[0mlen\u001b[0m\u001b[0;34m(\u001b[0m\u001b[0mdf\u001b[0m\u001b[0;34m.\u001b[0m\u001b[0mcolumns\u001b[0m\u001b[0;34m)\u001b[0m \u001b[0;34m!=\u001b[0m \u001b[0mlen\u001b[0m\u001b[0;34m(\u001b[0m\u001b[0mpd\u001b[0m\u001b[0;34m.\u001b[0m\u001b[0mread_csv\u001b[0m\u001b[0;34m(\u001b[0m\u001b[0mpath\u001b[0m\u001b[0;34m,\u001b[0m \u001b[0mnrows\u001b[0m\u001b[0;34m=\u001b[0m\u001b[0;36m1\u001b[0m\u001b[0;34m)\u001b[0m\u001b[0;34m.\u001b[0m\u001b[0mcolumns\u001b[0m\u001b[0;34m)\u001b[0m\u001b[0;34m:\u001b[0m\u001b[0;34m\u001b[0m\u001b[0;34m\u001b[0m\u001b[0m\n",
      "\u001b[0m\u001b[0;32m--> 308 \u001b[0;31m        \u001b[0;32mraise\u001b[0m \u001b[0mException\u001b[0m\u001b[0;34m(\u001b[0m\u001b[0;34m\"Columns do not match. Dataframe has \"\u001b[0m \u001b[0;34m+\u001b[0m \u001b[0mstr\u001b[0m\u001b[0;34m(\u001b[0m\u001b[0mlen\u001b[0m\u001b[0;34m(\u001b[0m\u001b[0mdf\u001b[0m\u001b[0;34m.\u001b[0m\u001b[0mcolumns\u001b[0m\u001b[0;34m)\u001b[0m\u001b[0;34m)\u001b[0m \u001b[0;34m+\u001b[0m \u001b[0;34m\" columns. CSV file has \"\u001b[0m \u001b[0;34m+\u001b[0m \u001b[0mstr\u001b[0m\u001b[0;34m(\u001b[0m\u001b[0mlen\u001b[0m\u001b[0;34m(\u001b[0m\u001b[0mpd\u001b[0m\u001b[0;34m.\u001b[0m\u001b[0mread_csv\u001b[0m\u001b[0;34m(\u001b[0m\u001b[0mpath\u001b[0m\u001b[0;34m,\u001b[0m \u001b[0mnrows\u001b[0m\u001b[0;34m=\u001b[0m\u001b[0;36m1\u001b[0m\u001b[0;34m)\u001b[0m\u001b[0;34m.\u001b[0m\u001b[0mcolumns\u001b[0m\u001b[0;34m)\u001b[0m\u001b[0;34m)\u001b[0m \u001b[0;34m+\u001b[0m \u001b[0;34m\" columns.\"\u001b[0m\u001b[0;34m)\u001b[0m\u001b[0;34m\u001b[0m\u001b[0;34m\u001b[0m\u001b[0m\n",
      "\u001b[0m\u001b[0;32m    309 \u001b[0;31m    \u001b[0;32melif\u001b[0m \u001b[0;32mnot\u001b[0m \u001b[0;34m(\u001b[0m\u001b[0mdf\u001b[0m\u001b[0;34m.\u001b[0m\u001b[0mcolumns\u001b[0m \u001b[0;34m==\u001b[0m \u001b[0mpd\u001b[0m\u001b[0;34m.\u001b[0m\u001b[0mread_csv\u001b[0m\u001b[0;34m(\u001b[0m\u001b[0mpath\u001b[0m\u001b[0;34m,\u001b[0m \u001b[0mnrows\u001b[0m\u001b[0;34m=\u001b[0m\u001b[0;36m1\u001b[0m\u001b[0;34m)\u001b[0m\u001b[0;34m.\u001b[0m\u001b[0mcolumns\u001b[0m\u001b[0;34m)\u001b[0m\u001b[0;34m.\u001b[0m\u001b[0mall\u001b[0m\u001b[0;34m(\u001b[0m\u001b[0;34m)\u001b[0m\u001b[0;34m:\u001b[0m\u001b[0;34m\u001b[0m\u001b[0;34m\u001b[0m\u001b[0m\n",
      "\u001b[0m\u001b[0;32m    310 \u001b[0;31m        \u001b[0;32mraise\u001b[0m \u001b[0mException\u001b[0m\u001b[0;34m(\u001b[0m\u001b[0;34m\"Columns and column order of dataframe and csv file do not match.\"\u001b[0m\u001b[0;34m)\u001b[0m\u001b[0;34m\u001b[0m\u001b[0;34m\u001b[0m\u001b[0m\n",
      "\u001b[0m\n",
      "ipdb> df.columns\n",
      "Index(['datetime_run', 'run_name', 'dataset_name', 'split', 'epoch', 'seed',\n",
      "       'decode_method_train', 'decode_method_eval', 'reward_fn',\n",
      "       'reward_clip_max', 'reward_clip_min', 'reward_base',\n",
      "       'reward_vm_multiplier', 'sts_threshold', 'contradiction_threshold',\n",
      "       'pp_letter_diff_threshold', 'pp_name', 'sts_name', 'nli_name',\n",
      "       'vm_name', 'orig_max_length', 'use_small_ds', 'batch_size_train',\n",
      "       'batch_size_eval', 'lr', 'acc_steps', 'label_flip-mean',\n",
      "       'label_flip-std', 'is_valid_pp-mean', 'is_valid_pp-std',\n",
      "       'is_adv_example-mean', 'is_adv_example-std', 'reward_pp-mean',\n",
      "       'reward_pp-std', 'vm_scores-mean', 'vm_scores-std', 'sts_scores-mean',\n",
      "       'sts_scores-std', 'pp_letter_diff-mean', 'pp_letter_diff-std',\n",
      "       'contradiction_scores-mean', 'contradiction_scores-std',\n",
      "       'acceptability_scores-mean', 'acceptability_scores-std',\n",
      "       'lcp_conditions-mean', 'lcp_conditions-std', 'n_pp',\n",
      "       'any_adv_example_proportion', 'gen_params_train.do_sample',\n",
      "       'gen_params_train.temperature', 'gen_params_train.top_p',\n",
      "       'gen_params_eval.num_return_sequences', 'gen_params_eval.do_sample',\n",
      "       'gen_params_eval.num_beams', 'gen_params_eval.top_p',\n",
      "       'gen_params_eval.temperature', 'gen_params_eval.diversity_penalty',\n",
      "       'gen_params_eval.num_beam_groups'],\n",
      "      dtype='object')\n",
      "ipdb> q\n"
     ]
    }
   ],
   "source": [
    "%debug"
   ]
  },
  {
   "cell_type": "code",
   "execution_count": null,
   "metadata": {},
   "outputs": [],
   "source": [
    "#df = pd.read_csv(cfg.path_results + \"run_results.csv\")\n",
    "#display_all(df)"
   ]
  },
  {
   "cell_type": "code",
   "execution_count": null,
   "metadata": {},
   "outputs": [],
   "source": [
    "# df = pd.read_csv(f'{cfg.path_run}training_step.csv')\n",
    "# #display_all(df.query('idx==1'))\n",
    "# df.columns"
   ]
  },
  {
   "cell_type": "code",
   "execution_count": null,
   "metadata": {},
   "outputs": [],
   "source": [
    "#trainer.run.finish()"
   ]
  },
  {
   "cell_type": "code",
   "execution_count": null,
   "metadata": {},
   "outputs": [],
   "source": [
    "# # ## TO RESUME RUN\n",
    "# cfg = Config()\n",
    "# cfg.run_id = 'b9r88lmz'\n",
    "# cfg.run_name = \"fresh-cosmos-151\"\n",
    "# cfg.path_run = f\"{cfg.path_checkpoints}{cfg.run_name}/\"\n",
    "# run = resume_wandb_run(cfg)\n"
   ]
  },
  {
   "cell_type": "code",
   "execution_count": null,
   "metadata": {},
   "outputs": [
    {
     "data": {
      "text/html": [
       "<br/>Waiting for W&B process to finish, PID 13378... <strong style=\"color:green\">(success).</strong>"
      ],
      "text/plain": [
       "<IPython.core.display.HTML object>"
      ]
     },
     "metadata": {},
     "output_type": "display_data"
    },
    {
     "data": {
      "application/vnd.jupyter.widget-view+json": {
       "model_id": "",
       "version_major": 2,
       "version_minor": 0
      },
      "text/plain": [
       "VBox(children=(Label(value=' 0.13MB of 0.13MB uploaded (0.00MB deduped)\\r'), FloatProgress(value=1.0, max=1.0)…"
      ]
     },
     "metadata": {},
     "output_type": "display_data"
    },
    {
     "data": {
      "text/html": [
       "<style>\n",
       "    table.wandb td:nth-child(1) { padding: 0 10px; text-align: right }\n",
       "    .wandb-row { display: flex; flex-direction: row; flex-wrap: wrap; width: 100% }\n",
       "    .wandb-col { display: flex; flex-direction: column; flex-basis: 100%; flex: 1; padding: 10px; }\n",
       "    </style>\n",
       "<div class=\"wandb-row\"><div class=\"wandb-col\">\n",
       "<h3>Run history:</h3><br/><table class=\"wandb\"><tr><td>%_of_tokens_above_prob_1/vocab_size</td><td>▁▁</td></tr><tr><td>%_of_tokens_above_prob_1e-05</td><td>▁▁</td></tr><tr><td>%_of_tokens_above_prob_1e-06</td><td>▁▁</td></tr><tr><td>%_of_tokens_above_prob_1e-07</td><td>▁▁</td></tr><tr><td>%_of_tokens_above_prob_1e-08</td><td>▁▁</td></tr><tr><td>%_of_tokens_above_prob_1e-09</td><td>▁▁</td></tr><tr><td>acc_batch_n_examples</td><td>▁▁</td></tr><tr><td>acc_num</td><td>▁█</td></tr><tr><td>acceptability_scores-mean-test</td><td>▁█</td></tr><tr><td>acceptability_scores-mean-train</td><td>▄█▁</td></tr><tr><td>acceptability_scores-mean-valid</td><td>▁█▇</td></tr><tr><td>acceptability_scores-std-test</td><td>▁█</td></tr><tr><td>acceptability_scores-std-train</td><td>▇▁█</td></tr><tr><td>acceptability_scores-std-valid</td><td>█▁▄</td></tr><tr><td>acceptability_scores_mean</td><td>▁█</td></tr><tr><td>any_adv_example_proportion-test</td><td>▁▁</td></tr><tr><td>any_adv_example_proportion-train</td><td>█▁█</td></tr><tr><td>any_adv_example_proportion-valid</td><td>▁▁▁</td></tr><tr><td>batch_num</td><td>▁▁</td></tr><tr><td>contradiction_scores-mean-test</td><td>█▁</td></tr><tr><td>contradiction_scores-mean-train</td><td>▁▇█</td></tr><tr><td>contradiction_scores-mean-valid</td><td>▃█▁</td></tr><tr><td>contradiction_scores-std-test</td><td>█▁</td></tr><tr><td>contradiction_scores-std-train</td><td>▆█▁</td></tr><tr><td>contradiction_scores-std-valid</td><td>▃█▁</td></tr><tr><td>contradiction_scores_mean</td><td>▁█</td></tr><tr><td>epoch</td><td>▁▁▁▅▅▅▅▅██████</td></tr><tr><td>global_step</td><td>▁█</td></tr><tr><td>gradient_norm</td><td>▁█</td></tr><tr><td>is_adv_example-mean-test</td><td>▁▁</td></tr><tr><td>is_adv_example-mean-train</td><td>▁▅█</td></tr><tr><td>is_adv_example-mean-valid</td><td>▁▁▁</td></tr><tr><td>is_adv_example-std-test</td><td>▁▁</td></tr><tr><td>is_adv_example-std-train</td><td>▇▁█</td></tr><tr><td>is_adv_example-std-valid</td><td>▁▁▁</td></tr><tr><td>is_valid_pp-mean-test</td><td>█▁</td></tr><tr><td>is_valid_pp-mean-train</td><td>█▇▁</td></tr><tr><td>is_valid_pp-mean-valid</td><td>▁▂█</td></tr><tr><td>is_valid_pp-std-test</td><td>█▁</td></tr><tr><td>is_valid_pp-std-train</td><td>▁▄█</td></tr><tr><td>is_valid_pp-std-valid</td><td>▁█▄</td></tr><tr><td>kl_div</td><td>▁█</td></tr><tr><td>label_flip-mean-test</td><td>▁▁</td></tr><tr><td>label_flip-mean-train</td><td>▇▁█</td></tr><tr><td>label_flip-mean-valid</td><td>▁▁▁</td></tr><tr><td>label_flip-std-test</td><td>▁▁</td></tr><tr><td>label_flip-std-train</td><td>█▃▁</td></tr><tr><td>label_flip-std-valid</td><td>▁▁▁</td></tr><tr><td>label_flip_fraction</td><td>▁▁</td></tr><tr><td>lcp_conditions-mean-test</td><td>▁▁</td></tr><tr><td>lcp_conditions-mean-train</td><td>▁██</td></tr><tr><td>lcp_conditions-mean-valid</td><td>▁▁▁</td></tr><tr><td>lcp_conditions-std-test</td><td>▁▁</td></tr><tr><td>lcp_conditions-std-train</td><td>█▁▁</td></tr><tr><td>lcp_conditions-std-valid</td><td>▁▁▁</td></tr><tr><td>lcp_conditions_mean</td><td>▁▁</td></tr><tr><td>loss_batch</td><td>█▁</td></tr><tr><td>loss_sum</td><td>█▁</td></tr><tr><td>n_pp-test</td><td>▁█</td></tr><tr><td>n_pp-train</td><td>█▁▁</td></tr><tr><td>n_pp-valid</td><td>█▁▃</td></tr><tr><td>orig_batch_size</td><td>▁▁</td></tr><tr><td>orig_length</td><td>▁▁</td></tr><tr><td>parameter_norm</td><td>▁█</td></tr><tr><td>pp_batch_size</td><td>▁▁</td></tr><tr><td>pp_length</td><td>▁█</td></tr><tr><td>pp_letter_diff-mean-test</td><td>█▁</td></tr><tr><td>pp_letter_diff-mean-train</td><td>▁▁█</td></tr><tr><td>pp_letter_diff-mean-valid</td><td>█▁▁</td></tr><tr><td>pp_letter_diff-std-test</td><td>▁█</td></tr><tr><td>pp_letter_diff-std-train</td><td>▃▁█</td></tr><tr><td>pp_letter_diff-std-valid</td><td>█▄▁</td></tr><tr><td>pp_letter_diff_mean</td><td>█▁</td></tr><tr><td>pp_letter_percent_mean</td><td>▁█</td></tr><tr><td>pp_logp_mean</td><td>▁█</td></tr><tr><td>rank_1_token_prob_0.25_quantile</td><td>█▁</td></tr><tr><td>rank_1_token_prob_0.75_quantile</td><td>█▁</td></tr><tr><td>rank_1_token_prob_mean</td><td>█▁</td></tr><tr><td>rank_1_token_prob_median</td><td>█▁</td></tr><tr><td>rank_2_token_prob_0.25_quantile</td><td>▁▁</td></tr><tr><td>rank_2_token_prob_0.75_quantile</td><td>▁█</td></tr><tr><td>rank_2_token_prob_mean</td><td>▁█</td></tr><tr><td>rank_2_token_prob_median</td><td>█▁</td></tr><tr><td>rank_3_token_prob_0.25_quantile</td><td>▁▁</td></tr><tr><td>rank_3_token_prob_0.75_quantile</td><td>▁█</td></tr><tr><td>rank_3_token_prob_mean</td><td>▁█</td></tr><tr><td>rank_3_token_prob_median</td><td>▁█</td></tr><tr><td>ref_logp_mean</td><td>▁█</td></tr><tr><td>reward_penalty</td><td>█▁</td></tr><tr><td>reward_pp-mean-test</td><td>▁█</td></tr><tr><td>reward_pp-mean-train</td><td>▁▃█</td></tr><tr><td>reward_pp-mean-valid</td><td>█▁▄</td></tr><tr><td>reward_pp-std-test</td><td>▁█</td></tr><tr><td>reward_pp-std-train</td><td>▁▁█</td></tr><tr><td>reward_pp-std-valid</td><td>█▂▁</td></tr><tr><td>reward_pp_mean</td><td>▁█</td></tr><tr><td>reward_pp_minus_baseline_mean</td><td>█▁</td></tr><tr><td>reward_pp_minus_baseline_with_penalty_mean</td><td>█▁</td></tr><tr><td>sts_scores-mean-test</td><td>█▁</td></tr><tr><td>sts_scores-mean-train</td><td>▅█▁</td></tr><tr><td>sts_scores-mean-valid</td><td>▁▇█</td></tr><tr><td>sts_scores-std-test</td><td>▁█</td></tr><tr><td>sts_scores-std-train</td><td>█▁▃</td></tr><tr><td>sts_scores-std-valid</td><td>▁▃█</td></tr><tr><td>sts_scores_mean</td><td>▁█</td></tr><tr><td>time/eval_empty_cache</td><td>█▁</td></tr><tr><td>time/eval_gc_collect</td><td>█▁</td></tr><tr><td>time/eval_train_thoroughput</td><td>▁█</td></tr><tr><td>time/eval_train_time</td><td>█▁</td></tr><tr><td>time/eval_valid_thoroughput</td><td>▁█</td></tr><tr><td>time/eval_valid_time</td><td>█▁</td></tr><tr><td>time/train_one_epoch_thoroughput</td><td>█▁</td></tr><tr><td>time/train_one_epoch_time</td><td>▁█</td></tr><tr><td>time_acceptability_scores</td><td>▁█</td></tr><tr><td>time_backwards</td><td>▁█</td></tr><tr><td>time_calc_gradient_norm</td><td>▁█</td></tr><tr><td>time_contradiction_scores</td><td>▁█</td></tr><tr><td>time_generate_pp</td><td>▁█</td></tr><tr><td>time_lcp_conditions</td><td>█▁</td></tr><tr><td>time_log_entropy</td><td>▁█</td></tr><tr><td>time_log_token_probabilities</td><td>▁█</td></tr><tr><td>time_loss_fn</td><td>▁█</td></tr><tr><td>time_loss_fn_loss_calc</td><td>█▁</td></tr><tr><td>time_opt_step</td><td>▁█</td></tr><tr><td>time_opt_step_and_calc_param_norm</td><td>▁█</td></tr><tr><td>time_pp_letter_diff</td><td>▁█</td></tr><tr><td>time_pp_logp</td><td>▁█</td></tr><tr><td>time_ref_logprobs</td><td>▁█</td></tr><tr><td>time_reward_fn</td><td>▁█</td></tr><tr><td>time_sts_scores</td><td>▁█</td></tr><tr><td>time_vm_scores</td><td>▁█</td></tr><tr><td>top_token_prob_over_0.1</td><td>█▁</td></tr><tr><td>top_token_prob_over_0.3</td><td>▁█</td></tr><tr><td>top_token_prob_over_0.5</td><td>█▁</td></tr><tr><td>top_token_prob_over_0.75</td><td>█▁</td></tr><tr><td>top_token_prob_over_0.9</td><td>█▁</td></tr><tr><td>top_token_prob_over_0.95</td><td>█▁</td></tr><tr><td>top_token_prob_over_0.975</td><td>█▁</td></tr><tr><td>top_token_prob_over_0.99</td><td>█▁</td></tr><tr><td>vm_scores-mean-test</td><td>█▁</td></tr><tr><td>vm_scores-mean-train</td><td>▇▁█</td></tr><tr><td>vm_scores-mean-valid</td><td>█▁▁</td></tr><tr><td>vm_scores-std-test</td><td>█▁</td></tr><tr><td>vm_scores-std-train</td><td>█▂▁</td></tr><tr><td>vm_scores-std-valid</td><td>█▂▁</td></tr><tr><td>vm_scores_mean</td><td>█▁</td></tr></table><br/></div><div class=\"wandb-col\">\n",
       "<h3>Run summary:</h3><br/><table class=\"wandb\"><tr><td>%_of_tokens_above_prob_1/vocab_size</td><td>1.0</td></tr><tr><td>%_of_tokens_above_prob_1e-05</td><td>1.0</td></tr><tr><td>%_of_tokens_above_prob_1e-06</td><td>1.0</td></tr><tr><td>%_of_tokens_above_prob_1e-07</td><td>1.0</td></tr><tr><td>%_of_tokens_above_prob_1e-08</td><td>1.0</td></tr><tr><td>%_of_tokens_above_prob_1e-09</td><td>1.0</td></tr><tr><td>acc_batch_n_examples</td><td>30</td></tr><tr><td>acc_num</td><td>1</td></tr><tr><td>acceptability_scores-mean-test</td><td>0.47932</td></tr><tr><td>acceptability_scores-mean-train</td><td>0.80218</td></tr><tr><td>acceptability_scores-mean-valid</td><td>0.91247</td></tr><tr><td>acceptability_scores-std-test</td><td>0.12947</td></tr><tr><td>acceptability_scores-std-train</td><td>0.1094</td></tr><tr><td>acceptability_scores-std-valid</td><td>0.02033</td></tr><tr><td>acceptability_scores_mean</td><td>0.79983</td></tr><tr><td>any_adv_example_proportion-test</td><td>0.0</td></tr><tr><td>any_adv_example_proportion-train</td><td>0.26667</td></tr><tr><td>any_adv_example_proportion-valid</td><td>0.0</td></tr><tr><td>batch_num</td><td>0</td></tr><tr><td>contradiction_scores-mean-test</td><td>0.01583</td></tr><tr><td>contradiction_scores-mean-train</td><td>0.10967</td></tr><tr><td>contradiction_scores-mean-valid</td><td>0.00541</td></tr><tr><td>contradiction_scores-std-test</td><td>0.01013</td></tr><tr><td>contradiction_scores-std-train</td><td>0.14873</td></tr><tr><td>contradiction_scores-std-valid</td><td>0.00266</td></tr><tr><td>contradiction_scores_mean</td><td>0.1376</td></tr><tr><td>epoch</td><td>2</td></tr><tr><td>global_step</td><td>1</td></tr><tr><td>gradient_norm</td><td>0.60883</td></tr><tr><td>is_adv_example-mean-test</td><td>0.0</td></tr><tr><td>is_adv_example-mean-train</td><td>0.04337</td></tr><tr><td>is_adv_example-mean-valid</td><td>0.0</td></tr><tr><td>is_adv_example-std-test</td><td>0.0</td></tr><tr><td>is_adv_example-std-train</td><td>0.07822</td></tr><tr><td>is_adv_example-std-valid</td><td>0.0</td></tr><tr><td>is_valid_pp-mean-test</td><td>0.25078</td></tr><tr><td>is_valid_pp-mean-train</td><td>0.68703</td></tr><tr><td>is_valid_pp-mean-valid</td><td>0.95833</td></tr><tr><td>is_valid_pp-std-test</td><td>0.42165</td></tr><tr><td>is_valid_pp-std-train</td><td>0.38195</td></tr><tr><td>is_valid_pp-std-valid</td><td>0.20309</td></tr><tr><td>kl_div</td><td>0.29641</td></tr><tr><td>label_flip-mean-test</td><td>0.0</td></tr><tr><td>label_flip-mean-train</td><td>0.08983</td></tr><tr><td>label_flip-mean-valid</td><td>0.0</td></tr><tr><td>label_flip-std-test</td><td>0.0</td></tr><tr><td>label_flip-std-train</td><td>0.09259</td></tr><tr><td>label_flip-std-valid</td><td>0.0</td></tr><tr><td>label_flip_fraction</td><td>0.13333</td></tr><tr><td>lcp_conditions-mean-test</td><td>1.0</td></tr><tr><td>lcp_conditions-mean-train</td><td>1.0</td></tr><tr><td>lcp_conditions-mean-valid</td><td>1.0</td></tr><tr><td>lcp_conditions-std-test</td><td>0.0</td></tr><tr><td>lcp_conditions-std-train</td><td>0.0</td></tr><tr><td>lcp_conditions-std-valid</td><td>0.0</td></tr><tr><td>lcp_conditions_mean</td><td>1.0</td></tr><tr><td>loss_batch</td><td>0.04459</td></tr><tr><td>loss_sum</td><td>1.33763</td></tr><tr><td>n_pp-test</td><td>25.5</td></tr><tr><td>n_pp-train</td><td>25.13333</td></tr><tr><td>n_pp-valid</td><td>25.0</td></tr><tr><td>orig_batch_size</td><td>15</td></tr><tr><td>orig_length</td><td>32</td></tr><tr><td>parameter_norm</td><td>0.78027</td></tr><tr><td>pp_batch_size</td><td>15</td></tr><tr><td>pp_length</td><td>30</td></tr><tr><td>pp_letter_diff-mean-test</td><td>0.68417</td></tr><tr><td>pp_letter_diff-mean-train</td><td>3.57855</td></tr><tr><td>pp_letter_diff-mean-valid</td><td>6.35</td></tr><tr><td>pp_letter_diff-std-test</td><td>9.21496</td></tr><tr><td>pp_letter_diff-std-train</td><td>11.2626</td></tr><tr><td>pp_letter_diff-std-valid</td><td>7.53578</td></tr><tr><td>pp_letter_diff_mean</td><td>2.46667</td></tr><tr><td>pp_letter_percent_mean</td><td>0.96054</td></tr><tr><td>pp_logp_mean</td><td>-0.66562</td></tr><tr><td>rank_1_token_prob_0.25_quantile</td><td>-0.68684</td></tr><tr><td>rank_1_token_prob_0.75_quantile</td><td>-0.11845</td></tr><tr><td>rank_1_token_prob_mean</td><td>-0.46581</td></tr><tr><td>rank_1_token_prob_median</td><td>-0.33843</td></tr><tr><td>rank_2_token_prob_0.25_quantile</td><td>-20.0</td></tr><tr><td>rank_2_token_prob_0.75_quantile</td><td>-1.68991</td></tr><tr><td>rank_2_token_prob_mean</td><td>-7.46313</td></tr><tr><td>rank_2_token_prob_median</td><td>-2.72874</td></tr><tr><td>rank_3_token_prob_0.25_quantile</td><td>-20.0</td></tr><tr><td>rank_3_token_prob_0.75_quantile</td><td>-2.93725</td></tr><tr><td>rank_3_token_prob_mean</td><td>-10.86921</td></tr><tr><td>rank_3_token_prob_median</td><td>-4.34109</td></tr><tr><td>ref_logp_mean</td><td>-0.96203</td></tr><tr><td>reward_penalty</td><td>-0.0741</td></tr><tr><td>reward_pp-mean-test</td><td>1e-05</td></tr><tr><td>reward_pp-mean-train</td><td>0.27968</td></tr><tr><td>reward_pp-mean-valid</td><td>0.00018</td></tr><tr><td>reward_pp-std-test</td><td>2e-05</td></tr><tr><td>reward_pp-std-train</td><td>0.45042</td></tr><tr><td>reward_pp-std-valid</td><td>7e-05</td></tr><tr><td>reward_pp_mean</td><td>0.32239</td></tr><tr><td>reward_pp_minus_baseline_mean</td><td>0.135</td></tr><tr><td>reward_pp_minus_baseline_with_penalty_mean</td><td>0.13006</td></tr><tr><td>sts_scores-mean-test</td><td>0.95162</td></tr><tr><td>sts_scores-mean-train</td><td>0.88843</td></tr><tr><td>sts_scores-mean-valid</td><td>0.95729</td></tr><tr><td>sts_scores-std-test</td><td>0.04724</td></tr><tr><td>sts_scores-std-train</td><td>0.07804</td></tr><tr><td>sts_scores-std-valid</td><td>0.05866</td></tr><tr><td>sts_scores_mean</td><td>0.88693</td></tr><tr><td>time/eval_empty_cache</td><td>0.16353</td></tr><tr><td>time/eval_gc_collect</td><td>0.13787</td></tr><tr><td>time/eval_train_thoroughput</td><td>5.21842</td></tr><tr><td>time/eval_train_time</td><td>2.87444</td></tr><tr><td>time/eval_valid_thoroughput</td><td>1.34138</td></tr><tr><td>time/eval_valid_time</td><td>1.491</td></tr><tr><td>time/train_one_epoch_thoroughput</td><td>5.48574</td></tr><tr><td>time/train_one_epoch_time</td><td>2.73436</td></tr><tr><td>time_acceptability_scores</td><td>0.0073</td></tr><tr><td>time_backwards</td><td>0.47378</td></tr><tr><td>time_calc_gradient_norm</td><td>0.01968</td></tr><tr><td>time_contradiction_scores</td><td>0.00779</td></tr><tr><td>time_generate_pp</td><td>0.50475</td></tr><tr><td>time_lcp_conditions</td><td>0.00029</td></tr><tr><td>time_log_entropy</td><td>0.00299</td></tr><tr><td>time_log_token_probabilities</td><td>0.00434</td></tr><tr><td>time_loss_fn</td><td>0.80177</td></tr><tr><td>time_loss_fn_loss_calc</td><td>3e-05</td></tr><tr><td>time_opt_step</td><td>0.02946</td></tr><tr><td>time_opt_step_and_calc_param_norm</td><td>0.05626</td></tr><tr><td>time_pp_letter_diff</td><td>6e-05</td></tr><tr><td>time_pp_logp</td><td>0.01095</td></tr><tr><td>time_ref_logprobs</td><td>0.75784</td></tr><tr><td>time_reward_fn</td><td>0.03262</td></tr><tr><td>time_sts_scores</td><td>0.00997</td></tr><tr><td>time_vm_scores</td><td>0.00572</td></tr><tr><td>top_token_prob_over_0.1</td><td>0.99675</td></tr><tr><td>top_token_prob_over_0.3</td><td>0.95455</td></tr><tr><td>top_token_prob_over_0.5</td><td>0.82468</td></tr><tr><td>top_token_prob_over_0.75</td><td>0.61688</td></tr><tr><td>top_token_prob_over_0.9</td><td>0.46429</td></tr><tr><td>top_token_prob_over_0.95</td><td>0.37013</td></tr><tr><td>top_token_prob_over_0.975</td><td>0.31818</td></tr><tr><td>top_token_prob_over_0.99</td><td>0.29545</td></tr><tr><td>vm_scores-mean-test</td><td>0.0</td></tr><tr><td>vm_scores-mean-train</td><td>0.09094</td></tr><tr><td>vm_scores-mean-valid</td><td>2e-05</td></tr><tr><td>vm_scores-std-test</td><td>0.0</td></tr><tr><td>vm_scores-std-train</td><td>0.09866</td></tr><tr><td>vm_scores-std-valid</td><td>1e-05</td></tr><tr><td>vm_scores_mean</td><td>0.12994</td></tr></table>\n",
       "</div></div>\n",
       "Synced 6 W&B file(s), 0 media file(s), 13 artifact file(s) and 0 other file(s)\n",
       "<br/>Synced <strong style=\"color:#cdcd00\">vibrant-oath-130</strong>: <a href=\"https://wandb.ai/uts_nlp/travis_attack/runs/30wwhv4b\" target=\"_blank\">https://wandb.ai/uts_nlp/travis_attack/runs/30wwhv4b</a><br/>\n",
       "Find logs at: <code>./wandb/run-20220617_121233-30wwhv4b/logs</code><br/>\n"
      ],
      "text/plain": [
       "<IPython.core.display.HTML object>"
      ]
     },
     "metadata": {},
     "output_type": "display_data"
    }
   ],
   "source": [
    "# df_d = get_training_dfs(cfg.path_run, postprocessed=False)\n",
    "# for k, df in df_d.items(): \n",
    "#     df_d[k] = postprocess_df(df, filter_idx=None, num_proc=1)\n",
    "#     df_d[k].to_pickle(f\"{cfg.path_run}{k}_postprocessed.pkl\")    \n",
    "# create_and_log_wandb_postrun_plots(df_d)\n",
    "trainer.run.finish()\n",
    "#run.finish()"
   ]
  },
  {
   "cell_type": "code",
   "execution_count": null,
   "metadata": {},
   "outputs": [],
   "source": []
  }
 ],
 "metadata": {
  "kernelspec": {
   "display_name": "Python 3",
   "language": "python",
   "name": "python3"
  }
 },
 "nbformat": 4,
 "nbformat_minor": 4
}
