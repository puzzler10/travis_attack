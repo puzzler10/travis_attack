{
 "cells": [
  {
   "cell_type": "code",
   "execution_count": null,
   "metadata": {},
   "outputs": [],
   "source": [
    "%load_ext autoreload\n",
    "%autoreload 2\n",
    "%load_ext line_profiler"
   ]
  },
  {
   "cell_type": "code",
   "execution_count": null,
   "metadata": {},
   "outputs": [],
   "source": [
    "## Imports and environment variables \n",
    "import torch, wandb, os, pandas as pd \n",
    "from travis_attack.utils import set_seed, set_session_options, setup_logging, setup_parser, update_config_with_parsed_arguments, resume_wandb_run, display_all, print_important_cfg_vars\n",
    "from travis_attack.config import Config\n",
    "from travis_attack.models import prepare_models, get_optimizer\n",
    "from travis_attack.data import ProcessedDataset\n",
    "from travis_attack.trainer import Trainer\n",
    "from travis_attack.insights import (postprocess_df, create_and_log_wandb_postrun_plots, get_training_dfs)\n",
    "from fastcore.basics import in_jupyter\n",
    "\n",
    "import logging \n",
    "logger = logging.getLogger(\"run\")\n",
    "\n",
    "import warnings\n",
    "warnings.filterwarnings(\"ignore\", message=\"Passing `max_length` to BeamSearchScorer is deprecated\")  # we ignore the warning because it works anyway for diverse beam search "
   ]
  },
  {
   "cell_type": "code",
   "execution_count": null,
   "metadata": {},
   "outputs": [
    {
     "name": "stdout",
     "output_type": "stream",
     "text": [
      "Converted 00_utils.ipynb.\n",
      "Converted 02_tests.ipynb.\n",
      "Converted 03_config.ipynb.\n",
      "Converted 07_models.ipynb.\n",
      "Converted 10_data.ipynb.\n",
      "Converted 20_trainer.ipynb.\n",
      "Converted 25_insights.ipynb.\n",
      "Converted Untitled.ipynb.\n",
      "Converted baselines.ipynb.\n",
      "Converted baselines_analysis.ipynb.\n",
      "Converted index.ipynb.\n",
      "Converted pp_eval_baselines.ipynb.\n",
      "Converted run.ipynb.\n",
      "Converted show_examples.ipynb.\n",
      "Converted test_grammar_options.ipynb.\n",
      "Converted test_pp_model.ipynb.\n",
      "[NbConvertApp] Converting notebook run.ipynb to python\n"
     ]
    }
   ],
   "source": [
    "from nbdev.export import notebook2script\n",
    "notebook2script()\n",
    "\n",
    "!jupyter nbconvert \\\n",
    "    --TagRemovePreprocessor.enabled=True \\\n",
    "    --TagRemovePreprocessor.remove_cell_tags=\"['hide']\" \\\n",
    "    --TemplateExporter.exclude_markdown=True \\\n",
    "    --to python \"run.ipynb\""
   ]
  },
  {
   "cell_type": "code",
   "execution_count": null,
   "metadata": {},
   "outputs": [
    {
     "name": "stderr",
     "output_type": "stream",
     "text": [
      "travis_attack.data: INFO     Will load dataset financial with use_small_ds set to True\n",
      "travis_attack.data: INFO     Will load dataset financial with use_small_ds set to True\n",
      "travis_attack.data: INFO     Will load dataset financial with use_small_ds set to True\n",
      "travis_attack.data: INFO     Will load dataset financial with use_small_ds set to True\n",
      "travis_attack.data: INFO     Will load dataset financial with use_small_ds set to True\n"
     ]
    },
    {
     "data": {
      "application/vnd.jupyter.widget-view+json": {
       "model_id": "73ae6afde11145e98a134a5ab146dcde",
       "version_major": 2,
       "version_minor": 0
      },
      "text/plain": [
       "HBox(children=(FloatProgress(value=0.0, max=1.0), HTML(value='')))"
      ]
     },
     "metadata": {},
     "output_type": "display_data"
    },
    {
     "name": "stdout",
     "output_type": "stream",
     "text": [
      "\n"
     ]
    },
    {
     "data": {
      "application/vnd.jupyter.widget-view+json": {
       "model_id": "769ead547b1d4cba93be3376880d6daa",
       "version_major": 2,
       "version_minor": 0
      },
      "text/plain": [
       "HBox(children=(FloatProgress(value=0.0, max=4.0), HTML(value='')))"
      ]
     },
     "metadata": {},
     "output_type": "display_data"
    },
    {
     "name": "stdout",
     "output_type": "stream",
     "text": [
      "\n"
     ]
    },
    {
     "data": {
      "application/vnd.jupyter.widget-view+json": {
       "model_id": "e3d77920bfc246a4af54f9f956040d99",
       "version_major": 2,
       "version_minor": 0
      },
      "text/plain": [
       "HBox(children=(FloatProgress(value=0.0, max=1.0), HTML(value='')))"
      ]
     },
     "metadata": {},
     "output_type": "display_data"
    },
    {
     "name": "stdout",
     "output_type": "stream",
     "text": [
      "\n"
     ]
    },
    {
     "data": {
      "application/vnd.jupyter.widget-view+json": {
       "model_id": "1bf68058fbf04010b0c965f15fb49533",
       "version_major": 2,
       "version_minor": 0
      },
      "text/plain": [
       "HBox(children=(FloatProgress(value=0.0, max=1.0), HTML(value='')))"
      ]
     },
     "metadata": {},
     "output_type": "display_data"
    },
    {
     "name": "stdout",
     "output_type": "stream",
     "text": [
      "\n"
     ]
    },
    {
     "data": {
      "application/vnd.jupyter.widget-view+json": {
       "model_id": "4078b601c1b44f33b751d4e9ba4d890f",
       "version_major": 2,
       "version_minor": 0
      },
      "text/plain": [
       "HBox(children=(FloatProgress(value=0.0, max=1.0), HTML(value='')))"
      ]
     },
     "metadata": {},
     "output_type": "display_data"
    },
    {
     "name": "stdout",
     "output_type": "stream",
     "text": [
      "\n"
     ]
    },
    {
     "data": {
      "application/vnd.jupyter.widget-view+json": {
       "model_id": "0246070f4a624b62915fb4239e73feaf",
       "version_major": 2,
       "version_minor": 0
      },
      "text/plain": [
       "HBox(children=(FloatProgress(value=0.0, max=1.0), HTML(value='')))"
      ]
     },
     "metadata": {},
     "output_type": "display_data"
    },
    {
     "name": "stdout",
     "output_type": "stream",
     "text": [
      "\n"
     ]
    },
    {
     "data": {
      "application/vnd.jupyter.widget-view+json": {
       "model_id": "ed9ffe0d95e540288195780828ea8ae5",
       "version_major": 2,
       "version_minor": 0
      },
      "text/plain": [
       "HBox(children=(FloatProgress(value=0.0, max=1.0), HTML(value='')))"
      ]
     },
     "metadata": {},
     "output_type": "display_data"
    },
    {
     "name": "stdout",
     "output_type": "stream",
     "text": [
      "\n"
     ]
    },
    {
     "data": {
      "application/vnd.jupyter.widget-view+json": {
       "model_id": "0ba5d35e69784d69978fe18f68675772",
       "version_major": 2,
       "version_minor": 0
      },
      "text/plain": [
       "HBox(children=(FloatProgress(value=0.0, max=1.0), HTML(value='')))"
      ]
     },
     "metadata": {},
     "output_type": "display_data"
    },
    {
     "name": "stdout",
     "output_type": "stream",
     "text": [
      "\n"
     ]
    },
    {
     "data": {
      "application/vnd.jupyter.widget-view+json": {
       "model_id": "8b842acf9dca48a58366bb6234dd2e17",
       "version_major": 2,
       "version_minor": 0
      },
      "text/plain": [
       "HBox(children=(FloatProgress(value=0.0, max=1.0), HTML(value='')))"
      ]
     },
     "metadata": {},
     "output_type": "display_data"
    },
    {
     "name": "stdout",
     "output_type": "stream",
     "text": [
      "\n"
     ]
    },
    {
     "data": {
      "application/vnd.jupyter.widget-view+json": {
       "model_id": "114a7b6e555d4d6a92121052ef1cd4c5",
       "version_major": 2,
       "version_minor": 0
      },
      "text/plain": [
       "HBox(children=(FloatProgress(value=0.0, max=1.0), HTML(value='')))"
      ]
     },
     "metadata": {},
     "output_type": "display_data"
    },
    {
     "name": "stdout",
     "output_type": "stream",
     "text": [
      "\n"
     ]
    },
    {
     "data": {
      "application/vnd.jupyter.widget-view+json": {
       "model_id": "801b0493902448aab3df7e3175b53d74",
       "version_major": 2,
       "version_minor": 0
      },
      "text/plain": [
       "HBox(children=(FloatProgress(value=0.0, max=1.0), HTML(value='')))"
      ]
     },
     "metadata": {},
     "output_type": "display_data"
    },
    {
     "name": "stdout",
     "output_type": "stream",
     "text": [
      "\n"
     ]
    },
    {
     "data": {
      "application/vnd.jupyter.widget-view+json": {
       "model_id": "07388adb61ea43e9a311b993bb64dd45",
       "version_major": 2,
       "version_minor": 0
      },
      "text/plain": [
       "HBox(children=(FloatProgress(value=0.0, max=1.0), HTML(value='')))"
      ]
     },
     "metadata": {},
     "output_type": "display_data"
    },
    {
     "name": "stdout",
     "output_type": "stream",
     "text": [
      "\n"
     ]
    },
    {
     "data": {
      "application/vnd.jupyter.widget-view+json": {
       "model_id": "c217d6f5385b4f438be08c5d588cc6ca",
       "version_major": 2,
       "version_minor": 0
      },
      "text/plain": [
       "HBox(children=(FloatProgress(value=0.0, max=1.0), HTML(value='')))"
      ]
     },
     "metadata": {},
     "output_type": "display_data"
    },
    {
     "name": "stdout",
     "output_type": "stream",
     "text": [
      "\n"
     ]
    },
    {
     "data": {
      "application/vnd.jupyter.widget-view+json": {
       "model_id": "ae8d5f2f059f4ca4af50ff9b6abd6cdf",
       "version_major": 2,
       "version_minor": 0
      },
      "text/plain": [
       "HBox(children=(FloatProgress(value=0.0, max=1.0), HTML(value='')))"
      ]
     },
     "metadata": {},
     "output_type": "display_data"
    },
    {
     "data": {
      "application/vnd.jupyter.widget-view+json": {
       "model_id": "ee91269f53d64ab69e7223bb665caa7a",
       "version_major": 2,
       "version_minor": 0
      },
      "text/plain": [
       "HBox(children=(FloatProgress(value=0.0, description='Batches', max=2.0, style=ProgressStyle(description_width=…"
      ]
     },
     "metadata": {},
     "output_type": "display_data"
    },
    {
     "name": "stdout",
     "output_type": "stream",
     "text": [
      "\n",
      "\n"
     ]
    },
    {
     "data": {
      "application/vnd.jupyter.widget-view+json": {
       "model_id": "4f522a92f9b746799660de298d86fcc3",
       "version_major": 2,
       "version_minor": 0
      },
      "text/plain": [
       "HBox(children=(FloatProgress(value=0.0, max=1.0), HTML(value='')))"
      ]
     },
     "metadata": {},
     "output_type": "display_data"
    },
    {
     "data": {
      "application/vnd.jupyter.widget-view+json": {
       "model_id": "45061a87d2d14274a80d658c6db5a75d",
       "version_major": 2,
       "version_minor": 0
      },
      "text/plain": [
       "HBox(children=(FloatProgress(value=0.0, description='Batches', max=1.0, style=ProgressStyle(description_width=…"
      ]
     },
     "metadata": {},
     "output_type": "display_data"
    },
    {
     "name": "stdout",
     "output_type": "stream",
     "text": [
      "\n",
      "\n"
     ]
    },
    {
     "data": {
      "application/vnd.jupyter.widget-view+json": {
       "model_id": "92deac23abe94d988a092ea72af4b373",
       "version_major": 2,
       "version_minor": 0
      },
      "text/plain": [
       "HBox(children=(FloatProgress(value=0.0, max=1.0), HTML(value='')))"
      ]
     },
     "metadata": {},
     "output_type": "display_data"
    },
    {
     "data": {
      "application/vnd.jupyter.widget-view+json": {
       "model_id": "d6eb15e0a88145cb8e3c76e3a93f9525",
       "version_major": 2,
       "version_minor": 0
      },
      "text/plain": [
       "HBox(children=(FloatProgress(value=0.0, description='Batches', max=1.0, style=ProgressStyle(description_width=…"
      ]
     },
     "metadata": {},
     "output_type": "display_data"
    },
    {
     "name": "stdout",
     "output_type": "stream",
     "text": [
      "\n",
      "\n"
     ]
    },
    {
     "data": {
      "application/vnd.jupyter.widget-view+json": {
       "model_id": "10b4fd17aecc413fa38311710ff05205",
       "version_major": 2,
       "version_minor": 0
      },
      "text/plain": [
       "HBox(children=(FloatProgress(value=0.0, max=1.0), HTML(value='')))"
      ]
     },
     "metadata": {},
     "output_type": "display_data"
    },
    {
     "name": "stdout",
     "output_type": "stream",
     "text": [
      "\n"
     ]
    },
    {
     "data": {
      "application/vnd.jupyter.widget-view+json": {
       "model_id": "2e96c10290de4e1f848240e467edce88",
       "version_major": 2,
       "version_minor": 0
      },
      "text/plain": [
       "HBox(children=(FloatProgress(value=0.0, max=1.0), HTML(value='')))"
      ]
     },
     "metadata": {},
     "output_type": "display_data"
    },
    {
     "name": "stdout",
     "output_type": "stream",
     "text": [
      "\n"
     ]
    },
    {
     "data": {
      "application/vnd.jupyter.widget-view+json": {
       "model_id": "85f7f72cf9064cfe8b646aa3b0c312eb",
       "version_major": 2,
       "version_minor": 0
      },
      "text/plain": [
       "HBox(children=(FloatProgress(value=0.0, max=1.0), HTML(value='')))"
      ]
     },
     "metadata": {},
     "output_type": "display_data"
    },
    {
     "name": "stdout",
     "output_type": "stream",
     "text": [
      "\n"
     ]
    },
    {
     "data": {
      "application/vnd.jupyter.widget-view+json": {
       "model_id": "f754e5eb586042198570c2be4a140dd6",
       "version_major": 2,
       "version_minor": 0
      },
      "text/plain": [
       "HBox(children=(FloatProgress(value=0.0, max=1.0), HTML(value='')))"
      ]
     },
     "metadata": {},
     "output_type": "display_data"
    },
    {
     "name": "stdout",
     "output_type": "stream",
     "text": [
      "\n"
     ]
    },
    {
     "data": {
      "application/vnd.jupyter.widget-view+json": {
       "model_id": "160c198cc71f4611b79df3096652b2df",
       "version_major": 2,
       "version_minor": 0
      },
      "text/plain": [
       "HBox(children=(FloatProgress(value=0.0, max=1.0), HTML(value='')))"
      ]
     },
     "metadata": {},
     "output_type": "display_data"
    },
    {
     "name": "stdout",
     "output_type": "stream",
     "text": [
      "\n"
     ]
    },
    {
     "data": {
      "application/vnd.jupyter.widget-view+json": {
       "model_id": "f62ebf12e95f4fe28896eb604a29fac0",
       "version_major": 2,
       "version_minor": 0
      },
      "text/plain": [
       "HBox(children=(FloatProgress(value=0.0, max=1.0), HTML(value='')))"
      ]
     },
     "metadata": {},
     "output_type": "display_data"
    },
    {
     "name": "stdout",
     "output_type": "stream",
     "text": [
      "\n"
     ]
    },
    {
     "data": {
      "application/vnd.jupyter.widget-view+json": {
       "model_id": "221b25f17a5d43d79ccd02085f8ecc65",
       "version_major": 2,
       "version_minor": 0
      },
      "text/plain": [
       "HBox(children=(FloatProgress(value=0.0, max=1.0), HTML(value='')))"
      ]
     },
     "metadata": {},
     "output_type": "display_data"
    },
    {
     "name": "stdout",
     "output_type": "stream",
     "text": [
      "\n"
     ]
    },
    {
     "data": {
      "application/vnd.jupyter.widget-view+json": {
       "model_id": "2ae370480ebc453cb53998e232b1f82e",
       "version_major": 2,
       "version_minor": 0
      },
      "text/plain": [
       "HBox(children=(FloatProgress(value=0.0, max=1.0), HTML(value='')))"
      ]
     },
     "metadata": {},
     "output_type": "display_data"
    },
    {
     "name": "stdout",
     "output_type": "stream",
     "text": [
      "\n"
     ]
    },
    {
     "data": {
      "application/vnd.jupyter.widget-view+json": {
       "model_id": "df4f95017301479d9b5eb82efc40217c",
       "version_major": 2,
       "version_minor": 0
      },
      "text/plain": [
       "HBox(children=(FloatProgress(value=0.0, max=1.0), HTML(value='')))"
      ]
     },
     "metadata": {},
     "output_type": "display_data"
    },
    {
     "name": "stdout",
     "output_type": "stream",
     "text": [
      "\n"
     ]
    },
    {
     "data": {
      "application/vnd.jupyter.widget-view+json": {
       "model_id": "fc14d962c40c4f6cb31f6f5305e62a57",
       "version_major": 2,
       "version_minor": 0
      },
      "text/plain": [
       "HBox(children=(FloatProgress(value=0.0, max=1.0), HTML(value='')))"
      ]
     },
     "metadata": {},
     "output_type": "display_data"
    },
    {
     "name": "stdout",
     "output_type": "stream",
     "text": [
      "\n"
     ]
    },
    {
     "data": {
      "application/vnd.jupyter.widget-view+json": {
       "model_id": "371e320b4cf7439eb6a1b34408263232",
       "version_major": 2,
       "version_minor": 0
      },
      "text/plain": [
       "HBox(children=(FloatProgress(value=0.0, max=1.0), HTML(value='')))"
      ]
     },
     "metadata": {},
     "output_type": "display_data"
    },
    {
     "name": "stdout",
     "output_type": "stream",
     "text": [
      "\n"
     ]
    },
    {
     "data": {
      "application/vnd.jupyter.widget-view+json": {
       "model_id": "b42e8e1774ad48ababf8f490b0e5c73f",
       "version_major": 2,
       "version_minor": 0
      },
      "text/plain": [
       "HBox(children=(FloatProgress(value=0.0, max=1.0), HTML(value='')))"
      ]
     },
     "metadata": {},
     "output_type": "display_data"
    },
    {
     "name": "stdout",
     "output_type": "stream",
     "text": [
      "\n"
     ]
    },
    {
     "data": {
      "application/vnd.jupyter.widget-view+json": {
       "model_id": "4557d2a8a8f84624bce3216642934d5d",
       "version_major": 2,
       "version_minor": 0
      },
      "text/plain": [
       "HBox(children=(FloatProgress(value=0.0, description='Flattening the indices', max=1.0, style=ProgressStyle(des…"
      ]
     },
     "metadata": {},
     "output_type": "display_data"
    },
    {
     "name": "stdout",
     "output_type": "stream",
     "text": [
      "\n"
     ]
    },
    {
     "data": {
      "application/vnd.jupyter.widget-view+json": {
       "model_id": "198c0458dc3f4ad997b25be00ddaf43a",
       "version_major": 2,
       "version_minor": 0
      },
      "text/plain": [
       "HBox(children=(FloatProgress(value=0.0, description='Flattening the indices', max=1.0, style=ProgressStyle(des…"
      ]
     },
     "metadata": {},
     "output_type": "display_data"
    },
    {
     "name": "stdout",
     "output_type": "stream",
     "text": [
      "\n"
     ]
    },
    {
     "data": {
      "application/vnd.jupyter.widget-view+json": {
       "model_id": "12963d9583e14f2cb76bee5547b045ee",
       "version_major": 2,
       "version_minor": 0
      },
      "text/plain": [
       "HBox(children=(FloatProgress(value=0.0, description='Flattening the indices', max=1.0, style=ProgressStyle(des…"
      ]
     },
     "metadata": {},
     "output_type": "display_data"
    },
    {
     "name": "stdout",
     "output_type": "stream",
     "text": [
      "\n"
     ]
    },
    {
     "data": {
      "application/vnd.jupyter.widget-view+json": {
       "model_id": "47c522cca4434f0ea96a302ed4b036df",
       "version_major": 2,
       "version_minor": 0
      },
      "text/plain": [
       "HBox(children=(FloatProgress(value=0.0, description='Flattening the indices', max=1.0, style=ProgressStyle(des…"
      ]
     },
     "metadata": {},
     "output_type": "display_data"
    },
    {
     "name": "stdout",
     "output_type": "stream",
     "text": [
      "\n"
     ]
    },
    {
     "data": {
      "application/vnd.jupyter.widget-view+json": {
       "model_id": "98bfdcc144ee4778b2946a0f6c55dfc1",
       "version_major": 2,
       "version_minor": 0
      },
      "text/plain": [
       "HBox(children=(FloatProgress(value=0.0, description='Flattening the indices', max=1.0, style=ProgressStyle(des…"
      ]
     },
     "metadata": {},
     "output_type": "display_data"
    },
    {
     "name": "stdout",
     "output_type": "stream",
     "text": [
      "\n"
     ]
    },
    {
     "data": {
      "application/vnd.jupyter.widget-view+json": {
       "model_id": "57d321c6dd5a4efc96f698294ed7ffb5",
       "version_major": 2,
       "version_minor": 0
      },
      "text/plain": [
       "HBox(children=(FloatProgress(value=0.0, description='Flattening the indices', max=1.0, style=ProgressStyle(des…"
      ]
     },
     "metadata": {},
     "output_type": "display_data"
    },
    {
     "name": "stdout",
     "output_type": "stream",
     "text": [
      "\n"
     ]
    }
   ],
   "source": [
    "cfg = Config()  # default values\n",
    "if not in_jupyter():  # override with any -- options when running with command line\n",
    "    parser = setup_parser()\n",
    "    newargs = vars(parser.parse_args())\n",
    "    cfg = update_config_with_parsed_arguments(cfg, newargs)\n",
    "if cfg.use_small_ds:  cfg = cfg.small_ds()\n",
    "set_seed(cfg.seed)\n",
    "set_session_options()\n",
    "setup_logging(cfg, disable_other_loggers=True)\n",
    "vm_tokenizer,vm_model,pp_tokenizer,pp_model,ref_pp_model,sts_model,nli_tokenizer,nli_model,cola_tokenizer,cola_model,cfg = prepare_models(cfg)\n",
    "optimizer = get_optimizer(cfg, pp_model)\n",
    "ds = ProcessedDataset(cfg, vm_tokenizer, vm_model, pp_tokenizer, sts_model, load_processed_from_file=False)"
   ]
  },
  {
   "cell_type": "code",
   "execution_count": null,
   "metadata": {},
   "outputs": [
    {
     "name": "stdout",
     "output_type": "stream",
     "text": [
      "{'pp_name': 'prithivida/parrot_paraphraser_on_T5',\n",
      " 'dataset_name': 'financial',\n",
      " 'sts_name': 'sentence-transformers/paraphrase-MiniLM-L12-v2',\n",
      " 'nli_name': 'howey/electra-small-mnli',\n",
      " 'cola_name': 'textattack/albert-base-v2-CoLA',\n",
      " 'vm_name': 'mrm8488/distilroberta-finetuned-financial-news-sentiment-analysis',\n",
      " 'seed': 421,\n",
      " 'use_small_ds': True,\n",
      " 'lr': 4e-05,\n",
      " 'reward_fn': 'reward_fn_contradiction_and_letter_diff',\n",
      " 'reward_clip_max': 4,\n",
      " 'reward_vm_multiplier': 12,\n",
      " 'sts_threshold': 0.8,\n",
      " 'acceptability_threshold': 0.5,\n",
      " 'contradiction_threshold': 0.2,\n",
      " 'pp_letter_diff_threshold': 30,\n",
      " 'reward_penalty_type': 'kl_div',\n",
      " 'kl_coef': 0.25,\n",
      " 'ref_logp_coef': None,\n",
      " 'min_pp_length': 2,\n",
      " 'max_pp_length': 48,\n",
      " 'n_eval_seq': 48,\n",
      " 'decode_method_train': 'sample',\n",
      " 'decode_method_eval': 'sample',\n",
      " 'gen_params_train': {'do_sample': True, 'temperature': 1.1, 'top_p': 0.95},\n",
      " 'gen_params_eval': {'num_return_sequences': 48,\n",
      "                     'do_sample': True,\n",
      "                     'num_beams': 1,\n",
      "                     'top_p': 0.95,\n",
      "                     'temperature': 0.8,\n",
      "                     'diversity_penalty': None,\n",
      "                     'num_beam_groups': None},\n",
      " 'early_stopping': True,\n",
      " 'early_stopping_min_epochs': 10,\n",
      " 'early_stopping_metric': 'any_adv_example_proportion',\n",
      " 'orig_max_length': 32,\n",
      " 'batch_size_train': 16,\n",
      " 'batch_size_eval': 32,\n",
      " 'acc_steps': 2,\n",
      " 'n_train_epochs': 10,\n",
      " 'eval_freq': 1,\n",
      " 'cola_positive_label': 1,\n",
      " 'ds_length': {'train': 22, 'valid': 4, 'test': 3}}\n"
     ]
    },
    {
     "data": {
      "text/html": [
       "Finishing last run (ID:nu7xy35f) before initializing another..."
      ],
      "text/plain": [
       "<IPython.core.display.HTML object>"
      ]
     },
     "metadata": {},
     "output_type": "display_data"
    },
    {
     "data": {
      "text/html": [
       "<br/>Waiting for W&B process to finish, PID 7654... <strong style=\"color:green\">(success).</strong>"
      ],
      "text/plain": [
       "<IPython.core.display.HTML object>"
      ]
     },
     "metadata": {},
     "output_type": "display_data"
    },
    {
     "data": {
      "application/vnd.jupyter.widget-view+json": {
       "model_id": "",
       "version_major": 2,
       "version_minor": 0
      },
      "text/plain": [
       "VBox(children=(Label(value=' 0.14MB of 0.14MB uploaded (0.00MB deduped)\\r'), FloatProgress(value=1.0, max=1.0)…"
      ]
     },
     "metadata": {},
     "output_type": "display_data"
    },
    {
     "data": {
      "text/html": [
       "<style>\n",
       "    table.wandb td:nth-child(1) { padding: 0 10px; text-align: right }\n",
       "    .wandb-row { display: flex; flex-direction: row; flex-wrap: wrap; width: 100% }\n",
       "    .wandb-col { display: flex; flex-direction: column; flex-basis: 100%; flex: 1; padding: 10px; }\n",
       "    </style>\n",
       "<div class=\"wandb-row\"><div class=\"wandb-col\">\n",
       "<h3>Run history:</h3><br/><table class=\"wandb\"><tr><td>acceptability_scores-mean-test</td><td>▁</td></tr><tr><td>acceptability_scores-mean-train</td><td>▁</td></tr><tr><td>acceptability_scores-mean-valid</td><td>▁</td></tr><tr><td>acceptability_scores-std-test</td><td>▁</td></tr><tr><td>acceptability_scores-std-train</td><td>▁</td></tr><tr><td>acceptability_scores-std-valid</td><td>▁</td></tr><tr><td>any_adv_example_proportion-test</td><td>▁</td></tr><tr><td>any_adv_example_proportion-train</td><td>▁</td></tr><tr><td>any_adv_example_proportion-valid</td><td>▁</td></tr><tr><td>contradiction_scores-mean-test</td><td>▁</td></tr><tr><td>contradiction_scores-mean-train</td><td>▁</td></tr><tr><td>contradiction_scores-mean-valid</td><td>▁</td></tr><tr><td>contradiction_scores-std-test</td><td>▁</td></tr><tr><td>contradiction_scores-std-train</td><td>▁</td></tr><tr><td>contradiction_scores-std-valid</td><td>▁</td></tr><tr><td>epoch</td><td>▁▁▁</td></tr><tr><td>is_adv_example-mean-test</td><td>▁</td></tr><tr><td>is_adv_example-mean-train</td><td>▁</td></tr><tr><td>is_adv_example-mean-valid</td><td>▁</td></tr><tr><td>is_adv_example-std-test</td><td>▁</td></tr><tr><td>is_adv_example-std-train</td><td>▁</td></tr><tr><td>is_adv_example-std-valid</td><td>▁</td></tr><tr><td>is_valid_pp-mean-test</td><td>▁</td></tr><tr><td>is_valid_pp-mean-train</td><td>▁</td></tr><tr><td>is_valid_pp-mean-valid</td><td>▁</td></tr><tr><td>is_valid_pp-std-test</td><td>▁</td></tr><tr><td>is_valid_pp-std-train</td><td>▁</td></tr><tr><td>is_valid_pp-std-valid</td><td>▁</td></tr><tr><td>label_flip-mean-test</td><td>▁</td></tr><tr><td>label_flip-mean-train</td><td>▁</td></tr><tr><td>label_flip-mean-valid</td><td>▁</td></tr><tr><td>label_flip-std-test</td><td>▁</td></tr><tr><td>label_flip-std-train</td><td>▁</td></tr><tr><td>label_flip-std-valid</td><td>▁</td></tr><tr><td>n_pp-test</td><td>▁</td></tr><tr><td>n_pp-train</td><td>▁</td></tr><tr><td>n_pp-valid</td><td>▁</td></tr><tr><td>pp_letter_diff-mean-test</td><td>▁</td></tr><tr><td>pp_letter_diff-mean-train</td><td>▁</td></tr><tr><td>pp_letter_diff-mean-valid</td><td>▁</td></tr><tr><td>pp_letter_diff-std-test</td><td>▁</td></tr><tr><td>pp_letter_diff-std-train</td><td>▁</td></tr><tr><td>pp_letter_diff-std-valid</td><td>▁</td></tr><tr><td>reward_pp-mean-test</td><td>▁</td></tr><tr><td>reward_pp-mean-train</td><td>▁</td></tr><tr><td>reward_pp-mean-valid</td><td>▁</td></tr><tr><td>reward_pp-std-test</td><td>▁</td></tr><tr><td>reward_pp-std-train</td><td>▁</td></tr><tr><td>reward_pp-std-valid</td><td>▁</td></tr><tr><td>sts_scores-mean-test</td><td>▁</td></tr><tr><td>sts_scores-mean-train</td><td>▁</td></tr><tr><td>sts_scores-mean-valid</td><td>▁</td></tr><tr><td>sts_scores-std-test</td><td>▁</td></tr><tr><td>sts_scores-std-train</td><td>▁</td></tr><tr><td>sts_scores-std-valid</td><td>▁</td></tr><tr><td>vm_scores-mean-test</td><td>▁</td></tr><tr><td>vm_scores-mean-train</td><td>▁</td></tr><tr><td>vm_scores-mean-valid</td><td>▁</td></tr><tr><td>vm_scores-std-test</td><td>▁</td></tr><tr><td>vm_scores-std-train</td><td>▁</td></tr><tr><td>vm_scores-std-valid</td><td>▁</td></tr></table><br/></div><div class=\"wandb-col\">\n",
       "<h3>Run summary:</h3><br/><table class=\"wandb\"><tr><td>acceptability_scores-mean-test</td><td>0.74734</td></tr><tr><td>acceptability_scores-mean-train</td><td>0.79322</td></tr><tr><td>acceptability_scores-mean-valid</td><td>0.75648</td></tr><tr><td>acceptability_scores-std-test</td><td>0.05192</td></tr><tr><td>acceptability_scores-std-train</td><td>0.05899</td></tr><tr><td>acceptability_scores-std-valid</td><td>0.10159</td></tr><tr><td>any_adv_example_proportion-test</td><td>0.0</td></tr><tr><td>any_adv_example_proportion-train</td><td>0.09091</td></tr><tr><td>any_adv_example_proportion-valid</td><td>0.25</td></tr><tr><td>contradiction_scores-mean-test</td><td>0.01578</td></tr><tr><td>contradiction_scores-mean-train</td><td>0.02527</td></tr><tr><td>contradiction_scores-mean-valid</td><td>0.03512</td></tr><tr><td>contradiction_scores-std-test</td><td>0.00752</td></tr><tr><td>contradiction_scores-std-train</td><td>0.0372</td></tr><tr><td>contradiction_scores-std-valid</td><td>0.0768</td></tr><tr><td>epoch</td><td>0</td></tr><tr><td>is_adv_example-mean-test</td><td>0.0</td></tr><tr><td>is_adv_example-mean-train</td><td>0.02576</td></tr><tr><td>is_adv_example-mean-valid</td><td>0.05</td></tr><tr><td>is_adv_example-std-test</td><td>0.0</td></tr><tr><td>is_adv_example-std-train</td><td>0.03643</td></tr><tr><td>is_adv_example-std-valid</td><td>0.10351</td></tr><tr><td>is_valid_pp-mean-test</td><td>0.78261</td></tr><tr><td>is_valid_pp-mean-train</td><td>0.8437</td></tr><tr><td>is_valid_pp-mean-valid</td><td>0.72143</td></tr><tr><td>is_valid_pp-std-test</td><td>0.16233</td></tr><tr><td>is_valid_pp-std-train</td><td>0.15609</td></tr><tr><td>is_valid_pp-std-valid</td><td>0.1834</td></tr><tr><td>label_flip-mean-test</td><td>0.0</td></tr><tr><td>label_flip-mean-train</td><td>0.02576</td></tr><tr><td>label_flip-mean-valid</td><td>0.06786</td></tr><tr><td>label_flip-std-test</td><td>0.0</td></tr><tr><td>label_flip-std-train</td><td>0.03643</td></tr><tr><td>label_flip-std-valid</td><td>0.17033</td></tr><tr><td>n_pp-test</td><td>17.0</td></tr><tr><td>n_pp-train</td><td>17.86364</td></tr><tr><td>n_pp-valid</td><td>19.75</td></tr><tr><td>pp_letter_diff-mean-test</td><td>1.09356</td></tr><tr><td>pp_letter_diff-mean-train</td><td>3.6265</td></tr><tr><td>pp_letter_diff-mean-valid</td><td>1.19583</td></tr><tr><td>pp_letter_diff-std-test</td><td>6.40969</td></tr><tr><td>pp_letter_diff-std-train</td><td>5.38215</td></tr><tr><td>pp_letter_diff-std-valid</td><td>7.49687</td></tr><tr><td>reward_pp-mean-test</td><td>0.00013</td></tr><tr><td>reward_pp-mean-train</td><td>0.15505</td></tr><tr><td>reward_pp-mean-valid</td><td>0.22401</td></tr><tr><td>reward_pp-std-test</td><td>0.00019</td></tr><tr><td>reward_pp-std-train</td><td>0.15311</td></tr><tr><td>reward_pp-std-valid</td><td>0.41227</td></tr><tr><td>sts_scores-mean-test</td><td>0.95244</td></tr><tr><td>sts_scores-mean-train</td><td>0.95213</td></tr><tr><td>sts_scores-mean-valid</td><td>0.89848</td></tr><tr><td>sts_scores-std-test</td><td>0.03389</td></tr><tr><td>sts_scores-std-train</td><td>0.0375</td></tr><tr><td>sts_scores-std-valid</td><td>0.06823</td></tr><tr><td>vm_scores-mean-test</td><td>2e-05</td></tr><tr><td>vm_scores-mean-train</td><td>0.02086</td></tr><tr><td>vm_scores-mean-valid</td><td>0.03542</td></tr><tr><td>vm_scores-std-test</td><td>2e-05</td></tr><tr><td>vm_scores-std-train</td><td>0.0284</td></tr><tr><td>vm_scores-std-valid</td><td>0.16777</td></tr></table>\n",
       "</div></div>\n",
       "Synced 6 W&B file(s), 0 media file(s), 13 artifact file(s) and 1 other file(s)\n",
       "<br/>Synced <strong style=\"color:#cdcd00\">dandy-water-177</strong>: <a href=\"https://wandb.ai/uts_nlp/travis_attack/runs/nu7xy35f\" target=\"_blank\">https://wandb.ai/uts_nlp/travis_attack/runs/nu7xy35f</a><br/>\n",
       "Find logs at: <code>./wandb/run-20220608_124851-nu7xy35f/logs</code><br/>\n"
      ],
      "text/plain": [
       "<IPython.core.display.HTML object>"
      ]
     },
     "metadata": {},
     "output_type": "display_data"
    },
    {
     "data": {
      "text/html": [
       "Successfully finished last run (ID:nu7xy35f). Initializing new run:<br/>"
      ],
      "text/plain": [
       "<IPython.core.display.HTML object>"
      ]
     },
     "metadata": {},
     "output_type": "display_data"
    },
    {
     "name": "stderr",
     "output_type": "stream",
     "text": [
      "\u001b[34m\u001b[1mwandb\u001b[0m: wandb version 0.12.17 is available!  To upgrade, please run:\n",
      "\u001b[34m\u001b[1mwandb\u001b[0m:  $ pip install wandb --upgrade\n"
     ]
    },
    {
     "data": {
      "text/html": [
       "\n",
       "                    Syncing run <strong><a href=\"https://wandb.ai/uts_nlp/travis_attack/runs/1uqfbl6u\" target=\"_blank\">summer-cosmos-178</a></strong> to <a href=\"https://wandb.ai/uts_nlp/travis_attack\" target=\"_blank\">Weights & Biases</a> (<a href=\"https://docs.wandb.com/integrations/jupyter.html\" target=\"_blank\">docs</a>).<br/>\n",
       "\n",
       "                "
      ],
      "text/plain": [
       "<IPython.core.display.HTML object>"
      ]
     },
     "metadata": {},
     "output_type": "display_data"
    },
    {
     "data": {
      "application/vnd.jupyter.widget-view+json": {
       "model_id": "b2d5959208c84836b8f1edfcc1143b9f",
       "version_major": 2,
       "version_minor": 0
      },
      "text/plain": [
       "HBox(children=(FloatProgress(value=0.0, max=20.0), HTML(value='')))"
      ]
     },
     "metadata": {},
     "output_type": "display_data"
    },
    {
     "name": "stderr",
     "output_type": "stream",
     "text": [
      "travis_attack.trainer: INFO     Launching initial eval run: train\n",
      "travis_attack.trainer: INFO     Launching initial eval run: train\n",
      "travis_attack.trainer: INFO     Launching initial eval run: train\n",
      "travis_attack.trainer: INFO     Launching initial eval run: train\n",
      "travis_attack.trainer: INFO     Launching initial eval run: train\n"
     ]
    },
    {
     "data": {
      "application/vnd.jupyter.widget-view+json": {
       "model_id": "a883e57ed3d947c4a98dc69743a91cc8",
       "version_major": 2,
       "version_minor": 0
      },
      "text/plain": [
       "HBox(children=(FloatProgress(value=0.0, max=2.0), HTML(value='')))"
      ]
     },
     "metadata": {},
     "output_type": "display_data"
    },
    {
     "name": "stdout",
     "output_type": "stream",
     "text": [
      "\n"
     ]
    },
    {
     "data": {
      "application/vnd.jupyter.widget-view+json": {
       "model_id": "a903c306f7ad4e3e85a5c1e03505ec4d",
       "version_major": 2,
       "version_minor": 0
      },
      "text/plain": [
       "HBox(children=(FloatProgress(value=0.0, max=2.0), HTML(value='')))"
      ]
     },
     "metadata": {},
     "output_type": "display_data"
    },
    {
     "name": "stdout",
     "output_type": "stream",
     "text": [
      "\n"
     ]
    },
    {
     "data": {
      "application/vnd.jupyter.widget-view+json": {
       "model_id": "85a1b100f54447ec8780d4a3b1e73b73",
       "version_major": 2,
       "version_minor": 0
      },
      "text/plain": [
       "HBox(children=(FloatProgress(value=0.0, max=2.0), HTML(value='')))"
      ]
     },
     "metadata": {},
     "output_type": "display_data"
    },
    {
     "name": "stdout",
     "output_type": "stream",
     "text": [
      "\n"
     ]
    },
    {
     "data": {
      "application/vnd.jupyter.widget-view+json": {
       "model_id": "2442ef5d73b343258253e735dd321bad",
       "version_major": 2,
       "version_minor": 0
      },
      "text/plain": [
       "HBox(children=(FloatProgress(value=0.0, max=2.0), HTML(value='')))"
      ]
     },
     "metadata": {},
     "output_type": "display_data"
    },
    {
     "name": "stdout",
     "output_type": "stream",
     "text": [
      "\n"
     ]
    },
    {
     "data": {
      "application/vnd.jupyter.widget-view+json": {
       "model_id": "6413f087bc47467888ee0dbfe7be8aab",
       "version_major": 2,
       "version_minor": 0
      },
      "text/plain": [
       "HBox(children=(FloatProgress(value=0.0, max=2.0), HTML(value='')))"
      ]
     },
     "metadata": {},
     "output_type": "display_data"
    },
    {
     "name": "stdout",
     "output_type": "stream",
     "text": [
      "\n"
     ]
    },
    {
     "data": {
      "application/vnd.jupyter.widget-view+json": {
       "model_id": "e7331f08200f43dbb1718cf0e339bec0",
       "version_major": 2,
       "version_minor": 0
      },
      "text/plain": [
       "HBox(children=(FloatProgress(value=1.0, bar_style='info', layout=Layout(width='20px'), max=1.0), HTML(value=''…"
      ]
     },
     "metadata": {},
     "output_type": "display_data"
    },
    {
     "name": "stdout",
     "output_type": "stream",
     "text": [
      "\n"
     ]
    },
    {
     "data": {
      "application/vnd.jupyter.widget-view+json": {
       "model_id": "559d24c64a7b431e8fa38646783efca2",
       "version_major": 2,
       "version_minor": 0
      },
      "text/plain": [
       "HBox(children=(FloatProgress(value=0.0, max=2.0), HTML(value='')))"
      ]
     },
     "metadata": {},
     "output_type": "display_data"
    },
    {
     "name": "stderr",
     "output_type": "stream",
     "text": [
      "travis_attack.trainer: INFO     Launching initial eval run: valid\n",
      "travis_attack.trainer: INFO     Launching initial eval run: valid\n",
      "travis_attack.trainer: INFO     Launching initial eval run: valid\n",
      "travis_attack.trainer: INFO     Launching initial eval run: valid\n",
      "travis_attack.trainer: INFO     Launching initial eval run: valid\n"
     ]
    },
    {
     "name": "stdout",
     "output_type": "stream",
     "text": [
      "\n"
     ]
    },
    {
     "data": {
      "application/vnd.jupyter.widget-view+json": {
       "model_id": "6e5e4686cd9746078dbe03faa6970b50",
       "version_major": 2,
       "version_minor": 0
      },
      "text/plain": [
       "HBox(children=(FloatProgress(value=0.0, max=1.0), HTML(value='')))"
      ]
     },
     "metadata": {},
     "output_type": "display_data"
    },
    {
     "name": "stdout",
     "output_type": "stream",
     "text": [
      "\n"
     ]
    },
    {
     "data": {
      "application/vnd.jupyter.widget-view+json": {
       "model_id": "395f64f665ff43bb8f23302230052489",
       "version_major": 2,
       "version_minor": 0
      },
      "text/plain": [
       "HBox(children=(FloatProgress(value=0.0, max=1.0), HTML(value='')))"
      ]
     },
     "metadata": {},
     "output_type": "display_data"
    },
    {
     "name": "stdout",
     "output_type": "stream",
     "text": [
      "\n"
     ]
    },
    {
     "data": {
      "application/vnd.jupyter.widget-view+json": {
       "model_id": "8bc825e204b342e4ab6c46658ae3e4eb",
       "version_major": 2,
       "version_minor": 0
      },
      "text/plain": [
       "HBox(children=(FloatProgress(value=0.0, max=1.0), HTML(value='')))"
      ]
     },
     "metadata": {},
     "output_type": "display_data"
    },
    {
     "name": "stdout",
     "output_type": "stream",
     "text": [
      "\n"
     ]
    },
    {
     "data": {
      "application/vnd.jupyter.widget-view+json": {
       "model_id": "b569b71a961e4662a7b3f333f25f6ddf",
       "version_major": 2,
       "version_minor": 0
      },
      "text/plain": [
       "HBox(children=(FloatProgress(value=0.0, max=1.0), HTML(value='')))"
      ]
     },
     "metadata": {},
     "output_type": "display_data"
    },
    {
     "name": "stdout",
     "output_type": "stream",
     "text": [
      "\n"
     ]
    },
    {
     "data": {
      "application/vnd.jupyter.widget-view+json": {
       "model_id": "77057650b762472985e01ecb2a01eb94",
       "version_major": 2,
       "version_minor": 0
      },
      "text/plain": [
       "HBox(children=(FloatProgress(value=0.0, max=1.0), HTML(value='')))"
      ]
     },
     "metadata": {},
     "output_type": "display_data"
    },
    {
     "name": "stdout",
     "output_type": "stream",
     "text": [
      "\n"
     ]
    },
    {
     "data": {
      "application/vnd.jupyter.widget-view+json": {
       "model_id": "d43d9a2f2b1249cb9b656d1be85e5d48",
       "version_major": 2,
       "version_minor": 0
      },
      "text/plain": [
       "HBox(children=(FloatProgress(value=1.0, bar_style='info', layout=Layout(width='20px'), max=1.0), HTML(value=''…"
      ]
     },
     "metadata": {},
     "output_type": "display_data"
    },
    {
     "name": "stdout",
     "output_type": "stream",
     "text": [
      "\n"
     ]
    },
    {
     "data": {
      "application/vnd.jupyter.widget-view+json": {
       "model_id": "d223d61ae68b4c64b84c721961bfb989",
       "version_major": 2,
       "version_minor": 0
      },
      "text/plain": [
       "HBox(children=(FloatProgress(value=0.0, max=1.0), HTML(value='')))"
      ]
     },
     "metadata": {},
     "output_type": "display_data"
    },
    {
     "name": "stderr",
     "output_type": "stream",
     "text": [
      "travis_attack.trainer: INFO     Epoch: 0. Min epochs before early stopping activated: 10\n",
      "travis_attack.trainer: INFO     Epoch: 0. Min epochs before early stopping activated: 10\n",
      "travis_attack.trainer: INFO     Epoch: 0. Min epochs before early stopping activated: 10\n",
      "travis_attack.trainer: INFO     Epoch: 0. Min epochs before early stopping activated: 10\n",
      "travis_attack.trainer: INFO     Epoch: 0. Min epochs before early stopping activated: 10\n",
      "travis_attack.trainer: INFO     Eval metric: 0.250 | Running median: 0.250\n",
      "travis_attack.trainer: INFO     Eval metric: 0.250 | Running median: 0.250\n",
      "travis_attack.trainer: INFO     Eval metric: 0.250 | Running median: 0.250\n",
      "travis_attack.trainer: INFO     Eval metric: 0.250 | Running median: 0.250\n",
      "travis_attack.trainer: INFO     Eval metric: 0.250 | Running median: 0.250\n"
     ]
    },
    {
     "name": "stdout",
     "output_type": "stream",
     "text": [
      "\n"
     ]
    },
    {
     "name": "stderr",
     "output_type": "stream",
     "text": [
      "travis_attack.trainer: INFO     Launching initial eval run: test\n",
      "travis_attack.trainer: INFO     Launching initial eval run: test\n",
      "travis_attack.trainer: INFO     Launching initial eval run: test\n",
      "travis_attack.trainer: INFO     Launching initial eval run: test\n",
      "travis_attack.trainer: INFO     Launching initial eval run: test\n"
     ]
    },
    {
     "data": {
      "application/vnd.jupyter.widget-view+json": {
       "model_id": "79abe73462f640dda3d6ad11ab766eca",
       "version_major": 2,
       "version_minor": 0
      },
      "text/plain": [
       "HBox(children=(FloatProgress(value=0.0, max=1.0), HTML(value='')))"
      ]
     },
     "metadata": {},
     "output_type": "display_data"
    },
    {
     "name": "stdout",
     "output_type": "stream",
     "text": [
      "\n"
     ]
    },
    {
     "data": {
      "application/vnd.jupyter.widget-view+json": {
       "model_id": "d8f48150139647328d072b9e5eda17a2",
       "version_major": 2,
       "version_minor": 0
      },
      "text/plain": [
       "HBox(children=(FloatProgress(value=0.0, max=1.0), HTML(value='')))"
      ]
     },
     "metadata": {},
     "output_type": "display_data"
    },
    {
     "name": "stdout",
     "output_type": "stream",
     "text": [
      "\n"
     ]
    },
    {
     "data": {
      "application/vnd.jupyter.widget-view+json": {
       "model_id": "7ff716ceb9c646d28bb4e513ea93efcc",
       "version_major": 2,
       "version_minor": 0
      },
      "text/plain": [
       "HBox(children=(FloatProgress(value=0.0, max=1.0), HTML(value='')))"
      ]
     },
     "metadata": {},
     "output_type": "display_data"
    },
    {
     "name": "stdout",
     "output_type": "stream",
     "text": [
      "\n"
     ]
    },
    {
     "data": {
      "application/vnd.jupyter.widget-view+json": {
       "model_id": "b191c16c2dda4367b93948ea5c445fae",
       "version_major": 2,
       "version_minor": 0
      },
      "text/plain": [
       "HBox(children=(FloatProgress(value=0.0, max=1.0), HTML(value='')))"
      ]
     },
     "metadata": {},
     "output_type": "display_data"
    },
    {
     "name": "stdout",
     "output_type": "stream",
     "text": [
      "\n"
     ]
    },
    {
     "data": {
      "application/vnd.jupyter.widget-view+json": {
       "model_id": "8653b9f14bc541bea3e3d172849e2bc6",
       "version_major": 2,
       "version_minor": 0
      },
      "text/plain": [
       "HBox(children=(FloatProgress(value=0.0, max=1.0), HTML(value='')))"
      ]
     },
     "metadata": {},
     "output_type": "display_data"
    },
    {
     "name": "stdout",
     "output_type": "stream",
     "text": [
      "\n"
     ]
    },
    {
     "data": {
      "application/vnd.jupyter.widget-view+json": {
       "model_id": "3ea2e0c371234f16ba0986ab02210c6c",
       "version_major": 2,
       "version_minor": 0
      },
      "text/plain": [
       "HBox(children=(FloatProgress(value=1.0, bar_style='info', layout=Layout(width='20px'), max=1.0), HTML(value=''…"
      ]
     },
     "metadata": {},
     "output_type": "display_data"
    },
    {
     "name": "stdout",
     "output_type": "stream",
     "text": [
      "\n"
     ]
    },
    {
     "data": {
      "application/vnd.jupyter.widget-view+json": {
       "model_id": "5dbbce52e4d644fd8381ee107ea56bfd",
       "version_major": 2,
       "version_minor": 0
      },
      "text/plain": [
       "HBox(children=(FloatProgress(value=0.0, max=1.0), HTML(value='')))"
      ]
     },
     "metadata": {},
     "output_type": "display_data"
    },
    {
     "name": "stdout",
     "output_type": "stream",
     "text": [
      "\n"
     ]
    },
    {
     "name": "stderr",
     "output_type": "stream",
     "text": [
      "travis_attack.trainer: INFO     Now on epoch 1 of 10\n",
      "travis_attack.trainer: INFO     Now on epoch 1 of 10\n",
      "travis_attack.trainer: INFO     Now on epoch 1 of 10\n",
      "travis_attack.trainer: INFO     Now on epoch 1 of 10\n",
      "travis_attack.trainer: INFO     Now on epoch 1 of 10\n"
     ]
    },
    {
     "data": {
      "application/vnd.jupyter.widget-view+json": {
       "model_id": "440be63b93e34b899491aebb81260bc3",
       "version_major": 2,
       "version_minor": 0
      },
      "text/plain": [
       "HBox(children=(FloatProgress(value=0.0, max=2.0), HTML(value='')))"
      ]
     },
     "metadata": {},
     "output_type": "display_data"
    },
    {
     "name": "stdout",
     "output_type": "stream",
     "text": [
      "\n"
     ]
    },
    {
     "data": {
      "application/vnd.jupyter.widget-view+json": {
       "model_id": "f66e21195a0e4942b9ee36a9800c0102",
       "version_major": 2,
       "version_minor": 0
      },
      "text/plain": [
       "HBox(children=(FloatProgress(value=0.0, max=2.0), HTML(value='')))"
      ]
     },
     "metadata": {},
     "output_type": "display_data"
    },
    {
     "name": "stdout",
     "output_type": "stream",
     "text": [
      "\n"
     ]
    },
    {
     "data": {
      "application/vnd.jupyter.widget-view+json": {
       "model_id": "0689d91c2e274f61b81c116255d5c298",
       "version_major": 2,
       "version_minor": 0
      },
      "text/plain": [
       "HBox(children=(FloatProgress(value=0.0, max=2.0), HTML(value='')))"
      ]
     },
     "metadata": {},
     "output_type": "display_data"
    },
    {
     "name": "stdout",
     "output_type": "stream",
     "text": [
      "\n"
     ]
    },
    {
     "data": {
      "application/vnd.jupyter.widget-view+json": {
       "model_id": "c5787746e9344c829320fe60f8c9eeda",
       "version_major": 2,
       "version_minor": 0
      },
      "text/plain": [
       "HBox(children=(FloatProgress(value=0.0, max=2.0), HTML(value='')))"
      ]
     },
     "metadata": {},
     "output_type": "display_data"
    },
    {
     "name": "stdout",
     "output_type": "stream",
     "text": [
      "\n"
     ]
    },
    {
     "data": {
      "application/vnd.jupyter.widget-view+json": {
       "model_id": "5edcb93e2d2a422c8fdeef1958f6440e",
       "version_major": 2,
       "version_minor": 0
      },
      "text/plain": [
       "HBox(children=(FloatProgress(value=0.0, max=2.0), HTML(value='')))"
      ]
     },
     "metadata": {},
     "output_type": "display_data"
    },
    {
     "name": "stdout",
     "output_type": "stream",
     "text": [
      "\n"
     ]
    },
    {
     "data": {
      "application/vnd.jupyter.widget-view+json": {
       "model_id": "89268d98f4de4ec388b609b612812606",
       "version_major": 2,
       "version_minor": 0
      },
      "text/plain": [
       "HBox(children=(FloatProgress(value=1.0, bar_style='info', layout=Layout(width='20px'), max=1.0), HTML(value=''…"
      ]
     },
     "metadata": {},
     "output_type": "display_data"
    },
    {
     "name": "stdout",
     "output_type": "stream",
     "text": [
      "\n"
     ]
    },
    {
     "data": {
      "application/vnd.jupyter.widget-view+json": {
       "model_id": "883b7987377849e2b46b45aa9cd0ed99",
       "version_major": 2,
       "version_minor": 0
      },
      "text/plain": [
       "HBox(children=(FloatProgress(value=0.0, max=2.0), HTML(value='')))"
      ]
     },
     "metadata": {},
     "output_type": "display_data"
    },
    {
     "name": "stdout",
     "output_type": "stream",
     "text": [
      "\n"
     ]
    },
    {
     "data": {
      "application/vnd.jupyter.widget-view+json": {
       "model_id": "2bbfe65d138f4683b464a8574051e969",
       "version_major": 2,
       "version_minor": 0
      },
      "text/plain": [
       "HBox(children=(FloatProgress(value=0.0, max=1.0), HTML(value='')))"
      ]
     },
     "metadata": {},
     "output_type": "display_data"
    },
    {
     "name": "stdout",
     "output_type": "stream",
     "text": [
      "\n"
     ]
    },
    {
     "data": {
      "application/vnd.jupyter.widget-view+json": {
       "model_id": "5eaec1e1e04c459591f3c5b63c8fd4ba",
       "version_major": 2,
       "version_minor": 0
      },
      "text/plain": [
       "HBox(children=(FloatProgress(value=0.0, max=1.0), HTML(value='')))"
      ]
     },
     "metadata": {},
     "output_type": "display_data"
    },
    {
     "name": "stdout",
     "output_type": "stream",
     "text": [
      "\n"
     ]
    },
    {
     "data": {
      "application/vnd.jupyter.widget-view+json": {
       "model_id": "76984f31f107444f90d0c0a3bc3b3c03",
       "version_major": 2,
       "version_minor": 0
      },
      "text/plain": [
       "HBox(children=(FloatProgress(value=0.0, max=1.0), HTML(value='')))"
      ]
     },
     "metadata": {},
     "output_type": "display_data"
    },
    {
     "name": "stdout",
     "output_type": "stream",
     "text": [
      "\n"
     ]
    },
    {
     "data": {
      "application/vnd.jupyter.widget-view+json": {
       "model_id": "13b3f54684054665afa1ddf41c3e0fb4",
       "version_major": 2,
       "version_minor": 0
      },
      "text/plain": [
       "HBox(children=(FloatProgress(value=0.0, max=1.0), HTML(value='')))"
      ]
     },
     "metadata": {},
     "output_type": "display_data"
    },
    {
     "name": "stdout",
     "output_type": "stream",
     "text": [
      "\n"
     ]
    },
    {
     "data": {
      "application/vnd.jupyter.widget-view+json": {
       "model_id": "e786530eb34842c287d37dccd0cbb9b9",
       "version_major": 2,
       "version_minor": 0
      },
      "text/plain": [
       "HBox(children=(FloatProgress(value=0.0, max=1.0), HTML(value='')))"
      ]
     },
     "metadata": {},
     "output_type": "display_data"
    },
    {
     "name": "stdout",
     "output_type": "stream",
     "text": [
      "\n"
     ]
    },
    {
     "data": {
      "application/vnd.jupyter.widget-view+json": {
       "model_id": "9cb78bd324ab4ae59a8df3a703024f04",
       "version_major": 2,
       "version_minor": 0
      },
      "text/plain": [
       "HBox(children=(FloatProgress(value=1.0, bar_style='info', layout=Layout(width='20px'), max=1.0), HTML(value=''…"
      ]
     },
     "metadata": {},
     "output_type": "display_data"
    },
    {
     "name": "stdout",
     "output_type": "stream",
     "text": [
      "\n"
     ]
    },
    {
     "data": {
      "application/vnd.jupyter.widget-view+json": {
       "model_id": "696b2a7655e54aeebdca2f9a77458f90",
       "version_major": 2,
       "version_minor": 0
      },
      "text/plain": [
       "HBox(children=(FloatProgress(value=0.0, max=1.0), HTML(value='')))"
      ]
     },
     "metadata": {},
     "output_type": "display_data"
    },
    {
     "name": "stderr",
     "output_type": "stream",
     "text": [
      "travis_attack.trainer: INFO     Epoch: 1. Min epochs before early stopping activated: 10\n",
      "travis_attack.trainer: INFO     Epoch: 1. Min epochs before early stopping activated: 10\n",
      "travis_attack.trainer: INFO     Epoch: 1. Min epochs before early stopping activated: 10\n",
      "travis_attack.trainer: INFO     Epoch: 1. Min epochs before early stopping activated: 10\n",
      "travis_attack.trainer: INFO     Epoch: 1. Min epochs before early stopping activated: 10\n",
      "travis_attack.trainer: INFO     Eval metric: 0.250 | Running median: 0.250\n",
      "travis_attack.trainer: INFO     Eval metric: 0.250 | Running median: 0.250\n",
      "travis_attack.trainer: INFO     Eval metric: 0.250 | Running median: 0.250\n",
      "travis_attack.trainer: INFO     Eval metric: 0.250 | Running median: 0.250\n",
      "travis_attack.trainer: INFO     Eval metric: 0.250 | Running median: 0.250\n"
     ]
    },
    {
     "name": "stdout",
     "output_type": "stream",
     "text": [
      "\n"
     ]
    },
    {
     "name": "stderr",
     "output_type": "stream",
     "text": [
      "travis_attack.trainer: INFO     Now on epoch 2 of 10\n",
      "travis_attack.trainer: INFO     Now on epoch 2 of 10\n",
      "travis_attack.trainer: INFO     Now on epoch 2 of 10\n",
      "travis_attack.trainer: INFO     Now on epoch 2 of 10\n",
      "travis_attack.trainer: INFO     Now on epoch 2 of 10\n"
     ]
    },
    {
     "data": {
      "application/vnd.jupyter.widget-view+json": {
       "model_id": "ef4364cd0e814a77a92d0834379b4ff8",
       "version_major": 2,
       "version_minor": 0
      },
      "text/plain": [
       "HBox(children=(FloatProgress(value=0.0, max=2.0), HTML(value='')))"
      ]
     },
     "metadata": {},
     "output_type": "display_data"
    },
    {
     "name": "stdout",
     "output_type": "stream",
     "text": [
      "\n"
     ]
    },
    {
     "data": {
      "application/vnd.jupyter.widget-view+json": {
       "model_id": "9db705355be645f9a8e8b75c1530e5ee",
       "version_major": 2,
       "version_minor": 0
      },
      "text/plain": [
       "HBox(children=(FloatProgress(value=0.0, max=2.0), HTML(value='')))"
      ]
     },
     "metadata": {},
     "output_type": "display_data"
    },
    {
     "name": "stdout",
     "output_type": "stream",
     "text": [
      "\n"
     ]
    },
    {
     "data": {
      "application/vnd.jupyter.widget-view+json": {
       "model_id": "f13aee720002453ba4f26833915b8f05",
       "version_major": 2,
       "version_minor": 0
      },
      "text/plain": [
       "HBox(children=(FloatProgress(value=0.0, max=2.0), HTML(value='')))"
      ]
     },
     "metadata": {},
     "output_type": "display_data"
    },
    {
     "name": "stdout",
     "output_type": "stream",
     "text": [
      "\n"
     ]
    },
    {
     "data": {
      "application/vnd.jupyter.widget-view+json": {
       "model_id": "1546636ff43a4fff803431c50eccd1c8",
       "version_major": 2,
       "version_minor": 0
      },
      "text/plain": [
       "HBox(children=(FloatProgress(value=0.0, max=2.0), HTML(value='')))"
      ]
     },
     "metadata": {},
     "output_type": "display_data"
    },
    {
     "name": "stdout",
     "output_type": "stream",
     "text": [
      "\n"
     ]
    },
    {
     "data": {
      "application/vnd.jupyter.widget-view+json": {
       "model_id": "b33806ab0cce4c8c96ca90adfe0f5fe1",
       "version_major": 2,
       "version_minor": 0
      },
      "text/plain": [
       "HBox(children=(FloatProgress(value=0.0, max=2.0), HTML(value='')))"
      ]
     },
     "metadata": {},
     "output_type": "display_data"
    },
    {
     "name": "stdout",
     "output_type": "stream",
     "text": [
      "\n"
     ]
    },
    {
     "data": {
      "application/vnd.jupyter.widget-view+json": {
       "model_id": "8c5fc01b4c02419faccb73dfc869492b",
       "version_major": 2,
       "version_minor": 0
      },
      "text/plain": [
       "HBox(children=(FloatProgress(value=1.0, bar_style='info', layout=Layout(width='20px'), max=1.0), HTML(value=''…"
      ]
     },
     "metadata": {},
     "output_type": "display_data"
    },
    {
     "name": "stdout",
     "output_type": "stream",
     "text": [
      "\n"
     ]
    },
    {
     "data": {
      "application/vnd.jupyter.widget-view+json": {
       "model_id": "18e0163f041840c7956e78a2f691db63",
       "version_major": 2,
       "version_minor": 0
      },
      "text/plain": [
       "HBox(children=(FloatProgress(value=0.0, max=2.0), HTML(value='')))"
      ]
     },
     "metadata": {},
     "output_type": "display_data"
    },
    {
     "name": "stdout",
     "output_type": "stream",
     "text": [
      "\n"
     ]
    },
    {
     "data": {
      "application/vnd.jupyter.widget-view+json": {
       "model_id": "b4a7842bc1104e7497a663287bd0c5cf",
       "version_major": 2,
       "version_minor": 0
      },
      "text/plain": [
       "HBox(children=(FloatProgress(value=0.0, max=1.0), HTML(value='')))"
      ]
     },
     "metadata": {},
     "output_type": "display_data"
    },
    {
     "name": "stdout",
     "output_type": "stream",
     "text": [
      "\n"
     ]
    },
    {
     "data": {
      "application/vnd.jupyter.widget-view+json": {
       "model_id": "1ee591c391bf46659d93476dfa71109c",
       "version_major": 2,
       "version_minor": 0
      },
      "text/plain": [
       "HBox(children=(FloatProgress(value=0.0, max=1.0), HTML(value='')))"
      ]
     },
     "metadata": {},
     "output_type": "display_data"
    },
    {
     "name": "stdout",
     "output_type": "stream",
     "text": [
      "\n"
     ]
    },
    {
     "data": {
      "application/vnd.jupyter.widget-view+json": {
       "model_id": "546b626d9e0f4791b3cc38597f67eae5",
       "version_major": 2,
       "version_minor": 0
      },
      "text/plain": [
       "HBox(children=(FloatProgress(value=0.0, max=1.0), HTML(value='')))"
      ]
     },
     "metadata": {},
     "output_type": "display_data"
    },
    {
     "name": "stdout",
     "output_type": "stream",
     "text": [
      "\n"
     ]
    },
    {
     "data": {
      "application/vnd.jupyter.widget-view+json": {
       "model_id": "5f41f356013643ec880d460f97cd42ec",
       "version_major": 2,
       "version_minor": 0
      },
      "text/plain": [
       "HBox(children=(FloatProgress(value=0.0, max=1.0), HTML(value='')))"
      ]
     },
     "metadata": {},
     "output_type": "display_data"
    },
    {
     "name": "stdout",
     "output_type": "stream",
     "text": [
      "\n"
     ]
    },
    {
     "data": {
      "application/vnd.jupyter.widget-view+json": {
       "model_id": "1e93d3e11e1b4881a4526e5565336394",
       "version_major": 2,
       "version_minor": 0
      },
      "text/plain": [
       "HBox(children=(FloatProgress(value=0.0, max=1.0), HTML(value='')))"
      ]
     },
     "metadata": {},
     "output_type": "display_data"
    },
    {
     "name": "stdout",
     "output_type": "stream",
     "text": [
      "\n"
     ]
    },
    {
     "data": {
      "application/vnd.jupyter.widget-view+json": {
       "model_id": "c6458dc68f22455896a4126532a2208b",
       "version_major": 2,
       "version_minor": 0
      },
      "text/plain": [
       "HBox(children=(FloatProgress(value=1.0, bar_style='info', layout=Layout(width='20px'), max=1.0), HTML(value=''…"
      ]
     },
     "metadata": {},
     "output_type": "display_data"
    },
    {
     "name": "stdout",
     "output_type": "stream",
     "text": [
      "\n"
     ]
    },
    {
     "data": {
      "application/vnd.jupyter.widget-view+json": {
       "model_id": "e57c97586bdd41aba587be8d41815c9e",
       "version_major": 2,
       "version_minor": 0
      },
      "text/plain": [
       "HBox(children=(FloatProgress(value=0.0, max=1.0), HTML(value='')))"
      ]
     },
     "metadata": {},
     "output_type": "display_data"
    },
    {
     "name": "stderr",
     "output_type": "stream",
     "text": [
      "travis_attack.trainer: INFO     Epoch: 2. Min epochs before early stopping activated: 10\n",
      "travis_attack.trainer: INFO     Epoch: 2. Min epochs before early stopping activated: 10\n",
      "travis_attack.trainer: INFO     Epoch: 2. Min epochs before early stopping activated: 10\n",
      "travis_attack.trainer: INFO     Epoch: 2. Min epochs before early stopping activated: 10\n",
      "travis_attack.trainer: INFO     Epoch: 2. Min epochs before early stopping activated: 10\n",
      "travis_attack.trainer: INFO     Eval metric: 0.250 | Running median: 0.250\n",
      "travis_attack.trainer: INFO     Eval metric: 0.250 | Running median: 0.250\n",
      "travis_attack.trainer: INFO     Eval metric: 0.250 | Running median: 0.250\n",
      "travis_attack.trainer: INFO     Eval metric: 0.250 | Running median: 0.250\n",
      "travis_attack.trainer: INFO     Eval metric: 0.250 | Running median: 0.250\n"
     ]
    },
    {
     "name": "stdout",
     "output_type": "stream",
     "text": [
      "\n"
     ]
    },
    {
     "name": "stderr",
     "output_type": "stream",
     "text": [
      "travis_attack.trainer: INFO     Now on epoch 3 of 10\n",
      "travis_attack.trainer: INFO     Now on epoch 3 of 10\n",
      "travis_attack.trainer: INFO     Now on epoch 3 of 10\n",
      "travis_attack.trainer: INFO     Now on epoch 3 of 10\n",
      "travis_attack.trainer: INFO     Now on epoch 3 of 10\n"
     ]
    },
    {
     "data": {
      "application/vnd.jupyter.widget-view+json": {
       "model_id": "f1480dfee8764a8bb19ff2992605c3fb",
       "version_major": 2,
       "version_minor": 0
      },
      "text/plain": [
       "HBox(children=(FloatProgress(value=0.0, max=2.0), HTML(value='')))"
      ]
     },
     "metadata": {},
     "output_type": "display_data"
    },
    {
     "name": "stdout",
     "output_type": "stream",
     "text": [
      "\n"
     ]
    },
    {
     "data": {
      "application/vnd.jupyter.widget-view+json": {
       "model_id": "85f7797e2aec437dab2ad3d3b808cbc9",
       "version_major": 2,
       "version_minor": 0
      },
      "text/plain": [
       "HBox(children=(FloatProgress(value=0.0, max=2.0), HTML(value='')))"
      ]
     },
     "metadata": {},
     "output_type": "display_data"
    },
    {
     "name": "stdout",
     "output_type": "stream",
     "text": [
      "\n"
     ]
    },
    {
     "data": {
      "application/vnd.jupyter.widget-view+json": {
       "model_id": "40f05b8237f84bd0b74078f115ac1362",
       "version_major": 2,
       "version_minor": 0
      },
      "text/plain": [
       "HBox(children=(FloatProgress(value=0.0, max=2.0), HTML(value='')))"
      ]
     },
     "metadata": {},
     "output_type": "display_data"
    },
    {
     "name": "stdout",
     "output_type": "stream",
     "text": [
      "\n"
     ]
    },
    {
     "data": {
      "application/vnd.jupyter.widget-view+json": {
       "model_id": "393f77fbd7004d738bc8083ff674f48a",
       "version_major": 2,
       "version_minor": 0
      },
      "text/plain": [
       "HBox(children=(FloatProgress(value=0.0, max=2.0), HTML(value='')))"
      ]
     },
     "metadata": {},
     "output_type": "display_data"
    },
    {
     "name": "stdout",
     "output_type": "stream",
     "text": [
      "\n"
     ]
    },
    {
     "data": {
      "application/vnd.jupyter.widget-view+json": {
       "model_id": "61eda0c276a44338b3818a5cca518d1c",
       "version_major": 2,
       "version_minor": 0
      },
      "text/plain": [
       "HBox(children=(FloatProgress(value=0.0, max=2.0), HTML(value='')))"
      ]
     },
     "metadata": {},
     "output_type": "display_data"
    },
    {
     "name": "stdout",
     "output_type": "stream",
     "text": [
      "\n"
     ]
    },
    {
     "data": {
      "application/vnd.jupyter.widget-view+json": {
       "model_id": "58d7e5544272468186ae88bddad8de95",
       "version_major": 2,
       "version_minor": 0
      },
      "text/plain": [
       "HBox(children=(FloatProgress(value=1.0, bar_style='info', layout=Layout(width='20px'), max=1.0), HTML(value=''…"
      ]
     },
     "metadata": {},
     "output_type": "display_data"
    },
    {
     "name": "stdout",
     "output_type": "stream",
     "text": [
      "\n"
     ]
    },
    {
     "data": {
      "application/vnd.jupyter.widget-view+json": {
       "model_id": "b3a284a045c04588adf171c101453314",
       "version_major": 2,
       "version_minor": 0
      },
      "text/plain": [
       "HBox(children=(FloatProgress(value=0.0, max=2.0), HTML(value='')))"
      ]
     },
     "metadata": {},
     "output_type": "display_data"
    },
    {
     "name": "stdout",
     "output_type": "stream",
     "text": [
      "\n"
     ]
    },
    {
     "data": {
      "application/vnd.jupyter.widget-view+json": {
       "model_id": "6ba358a0cc5f423fbfd078e898d92cb1",
       "version_major": 2,
       "version_minor": 0
      },
      "text/plain": [
       "HBox(children=(FloatProgress(value=0.0, max=1.0), HTML(value='')))"
      ]
     },
     "metadata": {},
     "output_type": "display_data"
    },
    {
     "name": "stdout",
     "output_type": "stream",
     "text": [
      "\n"
     ]
    },
    {
     "data": {
      "application/vnd.jupyter.widget-view+json": {
       "model_id": "fb6fc58b3a274f938694b5c49054f94f",
       "version_major": 2,
       "version_minor": 0
      },
      "text/plain": [
       "HBox(children=(FloatProgress(value=0.0, max=1.0), HTML(value='')))"
      ]
     },
     "metadata": {},
     "output_type": "display_data"
    },
    {
     "name": "stdout",
     "output_type": "stream",
     "text": [
      "\n"
     ]
    },
    {
     "data": {
      "application/vnd.jupyter.widget-view+json": {
       "model_id": "acb63937b44047dcb8158fe72e72027a",
       "version_major": 2,
       "version_minor": 0
      },
      "text/plain": [
       "HBox(children=(FloatProgress(value=0.0, max=1.0), HTML(value='')))"
      ]
     },
     "metadata": {},
     "output_type": "display_data"
    },
    {
     "name": "stdout",
     "output_type": "stream",
     "text": [
      "\n"
     ]
    },
    {
     "data": {
      "application/vnd.jupyter.widget-view+json": {
       "model_id": "0a9ee0c477be4c96a157a8beac6f0fa9",
       "version_major": 2,
       "version_minor": 0
      },
      "text/plain": [
       "HBox(children=(FloatProgress(value=0.0, max=1.0), HTML(value='')))"
      ]
     },
     "metadata": {},
     "output_type": "display_data"
    },
    {
     "name": "stdout",
     "output_type": "stream",
     "text": [
      "\n"
     ]
    },
    {
     "data": {
      "application/vnd.jupyter.widget-view+json": {
       "model_id": "2a42ff8691694275872a12d53ccdd85b",
       "version_major": 2,
       "version_minor": 0
      },
      "text/plain": [
       "HBox(children=(FloatProgress(value=0.0, max=1.0), HTML(value='')))"
      ]
     },
     "metadata": {},
     "output_type": "display_data"
    },
    {
     "name": "stdout",
     "output_type": "stream",
     "text": [
      "\n"
     ]
    },
    {
     "data": {
      "application/vnd.jupyter.widget-view+json": {
       "model_id": "34754485076a43caabde2ae2e7d7ca44",
       "version_major": 2,
       "version_minor": 0
      },
      "text/plain": [
       "HBox(children=(FloatProgress(value=1.0, bar_style='info', layout=Layout(width='20px'), max=1.0), HTML(value=''…"
      ]
     },
     "metadata": {},
     "output_type": "display_data"
    },
    {
     "name": "stdout",
     "output_type": "stream",
     "text": [
      "\n"
     ]
    },
    {
     "data": {
      "application/vnd.jupyter.widget-view+json": {
       "model_id": "4c363492341445a785950a89bea0efcf",
       "version_major": 2,
       "version_minor": 0
      },
      "text/plain": [
       "HBox(children=(FloatProgress(value=0.0, max=1.0), HTML(value='')))"
      ]
     },
     "metadata": {},
     "output_type": "display_data"
    },
    {
     "name": "stderr",
     "output_type": "stream",
     "text": [
      "travis_attack.trainer: INFO     Epoch: 3. Min epochs before early stopping activated: 10\n",
      "travis_attack.trainer: INFO     Epoch: 3. Min epochs before early stopping activated: 10\n",
      "travis_attack.trainer: INFO     Epoch: 3. Min epochs before early stopping activated: 10\n",
      "travis_attack.trainer: INFO     Epoch: 3. Min epochs before early stopping activated: 10\n",
      "travis_attack.trainer: INFO     Epoch: 3. Min epochs before early stopping activated: 10\n",
      "travis_attack.trainer: INFO     Eval metric: 0.250 | Running median: 0.250\n",
      "travis_attack.trainer: INFO     Eval metric: 0.250 | Running median: 0.250\n",
      "travis_attack.trainer: INFO     Eval metric: 0.250 | Running median: 0.250\n",
      "travis_attack.trainer: INFO     Eval metric: 0.250 | Running median: 0.250\n",
      "travis_attack.trainer: INFO     Eval metric: 0.250 | Running median: 0.250\n"
     ]
    },
    {
     "name": "stdout",
     "output_type": "stream",
     "text": [
      "\n"
     ]
    },
    {
     "name": "stderr",
     "output_type": "stream",
     "text": [
      "travis_attack.trainer: INFO     Now on epoch 4 of 10\n",
      "travis_attack.trainer: INFO     Now on epoch 4 of 10\n",
      "travis_attack.trainer: INFO     Now on epoch 4 of 10\n",
      "travis_attack.trainer: INFO     Now on epoch 4 of 10\n",
      "travis_attack.trainer: INFO     Now on epoch 4 of 10\n"
     ]
    },
    {
     "data": {
      "application/vnd.jupyter.widget-view+json": {
       "model_id": "e6a5584e44214942a9e93a7b75bc62da",
       "version_major": 2,
       "version_minor": 0
      },
      "text/plain": [
       "HBox(children=(FloatProgress(value=0.0, max=2.0), HTML(value='')))"
      ]
     },
     "metadata": {},
     "output_type": "display_data"
    },
    {
     "name": "stdout",
     "output_type": "stream",
     "text": [
      "\n"
     ]
    },
    {
     "data": {
      "application/vnd.jupyter.widget-view+json": {
       "model_id": "2bdc31b3c1774c9d954e6a9f5b61642f",
       "version_major": 2,
       "version_minor": 0
      },
      "text/plain": [
       "HBox(children=(FloatProgress(value=0.0, max=2.0), HTML(value='')))"
      ]
     },
     "metadata": {},
     "output_type": "display_data"
    },
    {
     "name": "stdout",
     "output_type": "stream",
     "text": [
      "\n"
     ]
    },
    {
     "data": {
      "application/vnd.jupyter.widget-view+json": {
       "model_id": "c288ded2189349029419e6c07d337faa",
       "version_major": 2,
       "version_minor": 0
      },
      "text/plain": [
       "HBox(children=(FloatProgress(value=0.0, max=2.0), HTML(value='')))"
      ]
     },
     "metadata": {},
     "output_type": "display_data"
    },
    {
     "name": "stdout",
     "output_type": "stream",
     "text": [
      "\n"
     ]
    },
    {
     "data": {
      "application/vnd.jupyter.widget-view+json": {
       "model_id": "6d3e84978c4a479d970dccbf7ab1266d",
       "version_major": 2,
       "version_minor": 0
      },
      "text/plain": [
       "HBox(children=(FloatProgress(value=0.0, max=2.0), HTML(value='')))"
      ]
     },
     "metadata": {},
     "output_type": "display_data"
    },
    {
     "name": "stdout",
     "output_type": "stream",
     "text": [
      "\n"
     ]
    },
    {
     "data": {
      "application/vnd.jupyter.widget-view+json": {
       "model_id": "02f2d8d5f7ec4b0fac4c95b5ddc4a134",
       "version_major": 2,
       "version_minor": 0
      },
      "text/plain": [
       "HBox(children=(FloatProgress(value=0.0, max=2.0), HTML(value='')))"
      ]
     },
     "metadata": {},
     "output_type": "display_data"
    },
    {
     "name": "stdout",
     "output_type": "stream",
     "text": [
      "\n"
     ]
    },
    {
     "data": {
      "application/vnd.jupyter.widget-view+json": {
       "model_id": "aa12ed29fbcb4c0fa1c7065fed083900",
       "version_major": 2,
       "version_minor": 0
      },
      "text/plain": [
       "HBox(children=(FloatProgress(value=1.0, bar_style='info', layout=Layout(width='20px'), max=1.0), HTML(value=''…"
      ]
     },
     "metadata": {},
     "output_type": "display_data"
    },
    {
     "name": "stdout",
     "output_type": "stream",
     "text": [
      "\n"
     ]
    },
    {
     "data": {
      "application/vnd.jupyter.widget-view+json": {
       "model_id": "1be30745e66d4223ad03fb289d452e97",
       "version_major": 2,
       "version_minor": 0
      },
      "text/plain": [
       "HBox(children=(FloatProgress(value=0.0, max=2.0), HTML(value='')))"
      ]
     },
     "metadata": {},
     "output_type": "display_data"
    },
    {
     "name": "stdout",
     "output_type": "stream",
     "text": [
      "\n"
     ]
    },
    {
     "data": {
      "application/vnd.jupyter.widget-view+json": {
       "model_id": "eeca52200d4747db9ea35321e62c3db8",
       "version_major": 2,
       "version_minor": 0
      },
      "text/plain": [
       "HBox(children=(FloatProgress(value=0.0, max=1.0), HTML(value='')))"
      ]
     },
     "metadata": {},
     "output_type": "display_data"
    },
    {
     "name": "stdout",
     "output_type": "stream",
     "text": [
      "\n"
     ]
    },
    {
     "data": {
      "application/vnd.jupyter.widget-view+json": {
       "model_id": "77d0b675b27f4715ad59aa22cf9b0ca5",
       "version_major": 2,
       "version_minor": 0
      },
      "text/plain": [
       "HBox(children=(FloatProgress(value=0.0, max=1.0), HTML(value='')))"
      ]
     },
     "metadata": {},
     "output_type": "display_data"
    },
    {
     "name": "stdout",
     "output_type": "stream",
     "text": [
      "\n"
     ]
    },
    {
     "data": {
      "application/vnd.jupyter.widget-view+json": {
       "model_id": "fc31fecaa53c4f6e8ed0a5f2439d9e95",
       "version_major": 2,
       "version_minor": 0
      },
      "text/plain": [
       "HBox(children=(FloatProgress(value=0.0, max=1.0), HTML(value='')))"
      ]
     },
     "metadata": {},
     "output_type": "display_data"
    },
    {
     "name": "stdout",
     "output_type": "stream",
     "text": [
      "\n"
     ]
    },
    {
     "data": {
      "application/vnd.jupyter.widget-view+json": {
       "model_id": "543fe86ebc7a4b19bc322d93189512bc",
       "version_major": 2,
       "version_minor": 0
      },
      "text/plain": [
       "HBox(children=(FloatProgress(value=0.0, max=1.0), HTML(value='')))"
      ]
     },
     "metadata": {},
     "output_type": "display_data"
    },
    {
     "name": "stdout",
     "output_type": "stream",
     "text": [
      "\n"
     ]
    },
    {
     "data": {
      "application/vnd.jupyter.widget-view+json": {
       "model_id": "95787d27e5d94369b2fd26e9a5a7df8e",
       "version_major": 2,
       "version_minor": 0
      },
      "text/plain": [
       "HBox(children=(FloatProgress(value=0.0, max=1.0), HTML(value='')))"
      ]
     },
     "metadata": {},
     "output_type": "display_data"
    },
    {
     "name": "stdout",
     "output_type": "stream",
     "text": [
      "\n"
     ]
    },
    {
     "data": {
      "application/vnd.jupyter.widget-view+json": {
       "model_id": "0fa2beb8c88d4f7fa98ad212bd3f1804",
       "version_major": 2,
       "version_minor": 0
      },
      "text/plain": [
       "HBox(children=(FloatProgress(value=1.0, bar_style='info', layout=Layout(width='20px'), max=1.0), HTML(value=''…"
      ]
     },
     "metadata": {},
     "output_type": "display_data"
    },
    {
     "name": "stdout",
     "output_type": "stream",
     "text": [
      "\n"
     ]
    },
    {
     "data": {
      "application/vnd.jupyter.widget-view+json": {
       "model_id": "6787598410ea410b9aa00b1675092b53",
       "version_major": 2,
       "version_minor": 0
      },
      "text/plain": [
       "HBox(children=(FloatProgress(value=0.0, max=1.0), HTML(value='')))"
      ]
     },
     "metadata": {},
     "output_type": "display_data"
    },
    {
     "name": "stderr",
     "output_type": "stream",
     "text": [
      "travis_attack.trainer: INFO     Epoch: 4. Min epochs before early stopping activated: 10\n",
      "travis_attack.trainer: INFO     Epoch: 4. Min epochs before early stopping activated: 10\n",
      "travis_attack.trainer: INFO     Epoch: 4. Min epochs before early stopping activated: 10\n",
      "travis_attack.trainer: INFO     Epoch: 4. Min epochs before early stopping activated: 10\n",
      "travis_attack.trainer: INFO     Epoch: 4. Min epochs before early stopping activated: 10\n",
      "travis_attack.trainer: INFO     Eval metric: 0.250 | Running median: 0.250\n",
      "travis_attack.trainer: INFO     Eval metric: 0.250 | Running median: 0.250\n",
      "travis_attack.trainer: INFO     Eval metric: 0.250 | Running median: 0.250\n",
      "travis_attack.trainer: INFO     Eval metric: 0.250 | Running median: 0.250\n",
      "travis_attack.trainer: INFO     Eval metric: 0.250 | Running median: 0.250\n"
     ]
    },
    {
     "name": "stdout",
     "output_type": "stream",
     "text": [
      "\n"
     ]
    },
    {
     "name": "stderr",
     "output_type": "stream",
     "text": [
      "travis_attack.trainer: INFO     Now on epoch 5 of 10\n",
      "travis_attack.trainer: INFO     Now on epoch 5 of 10\n",
      "travis_attack.trainer: INFO     Now on epoch 5 of 10\n",
      "travis_attack.trainer: INFO     Now on epoch 5 of 10\n",
      "travis_attack.trainer: INFO     Now on epoch 5 of 10\n"
     ]
    },
    {
     "data": {
      "application/vnd.jupyter.widget-view+json": {
       "model_id": "e810915fbfcf454593c19065301f808e",
       "version_major": 2,
       "version_minor": 0
      },
      "text/plain": [
       "HBox(children=(FloatProgress(value=0.0, max=2.0), HTML(value='')))"
      ]
     },
     "metadata": {},
     "output_type": "display_data"
    },
    {
     "name": "stdout",
     "output_type": "stream",
     "text": [
      "\n"
     ]
    },
    {
     "data": {
      "application/vnd.jupyter.widget-view+json": {
       "model_id": "759e320295654dd9ad1ecfde79e6de36",
       "version_major": 2,
       "version_minor": 0
      },
      "text/plain": [
       "HBox(children=(FloatProgress(value=0.0, max=2.0), HTML(value='')))"
      ]
     },
     "metadata": {},
     "output_type": "display_data"
    },
    {
     "name": "stdout",
     "output_type": "stream",
     "text": [
      "\n"
     ]
    },
    {
     "data": {
      "application/vnd.jupyter.widget-view+json": {
       "model_id": "d968e05b468a4de7b03955a18f100207",
       "version_major": 2,
       "version_minor": 0
      },
      "text/plain": [
       "HBox(children=(FloatProgress(value=0.0, max=2.0), HTML(value='')))"
      ]
     },
     "metadata": {},
     "output_type": "display_data"
    },
    {
     "name": "stdout",
     "output_type": "stream",
     "text": [
      "\n"
     ]
    },
    {
     "data": {
      "application/vnd.jupyter.widget-view+json": {
       "model_id": "216bbc15ebd24e7e9f27662c816a3e19",
       "version_major": 2,
       "version_minor": 0
      },
      "text/plain": [
       "HBox(children=(FloatProgress(value=0.0, max=2.0), HTML(value='')))"
      ]
     },
     "metadata": {},
     "output_type": "display_data"
    },
    {
     "name": "stdout",
     "output_type": "stream",
     "text": [
      "\n"
     ]
    },
    {
     "data": {
      "application/vnd.jupyter.widget-view+json": {
       "model_id": "4a928520f24846408ebbd0d09dab5855",
       "version_major": 2,
       "version_minor": 0
      },
      "text/plain": [
       "HBox(children=(FloatProgress(value=0.0, max=2.0), HTML(value='')))"
      ]
     },
     "metadata": {},
     "output_type": "display_data"
    },
    {
     "name": "stdout",
     "output_type": "stream",
     "text": [
      "\n"
     ]
    },
    {
     "data": {
      "application/vnd.jupyter.widget-view+json": {
       "model_id": "9e511b2849b247edacac6f678d012d4c",
       "version_major": 2,
       "version_minor": 0
      },
      "text/plain": [
       "HBox(children=(FloatProgress(value=1.0, bar_style='info', layout=Layout(width='20px'), max=1.0), HTML(value=''…"
      ]
     },
     "metadata": {},
     "output_type": "display_data"
    },
    {
     "name": "stdout",
     "output_type": "stream",
     "text": [
      "\n"
     ]
    },
    {
     "data": {
      "application/vnd.jupyter.widget-view+json": {
       "model_id": "9afa9fbb0a984c8c88aa7037bc335251",
       "version_major": 2,
       "version_minor": 0
      },
      "text/plain": [
       "HBox(children=(FloatProgress(value=0.0, max=2.0), HTML(value='')))"
      ]
     },
     "metadata": {},
     "output_type": "display_data"
    },
    {
     "name": "stdout",
     "output_type": "stream",
     "text": [
      "\n"
     ]
    },
    {
     "data": {
      "application/vnd.jupyter.widget-view+json": {
       "model_id": "b82ddb43d5a240fd8d3df18ff3e71d41",
       "version_major": 2,
       "version_minor": 0
      },
      "text/plain": [
       "HBox(children=(FloatProgress(value=0.0, max=1.0), HTML(value='')))"
      ]
     },
     "metadata": {},
     "output_type": "display_data"
    },
    {
     "name": "stdout",
     "output_type": "stream",
     "text": [
      "\n"
     ]
    },
    {
     "data": {
      "application/vnd.jupyter.widget-view+json": {
       "model_id": "4060f313706b4b26b3b1e17059607226",
       "version_major": 2,
       "version_minor": 0
      },
      "text/plain": [
       "HBox(children=(FloatProgress(value=0.0, max=1.0), HTML(value='')))"
      ]
     },
     "metadata": {},
     "output_type": "display_data"
    },
    {
     "name": "stdout",
     "output_type": "stream",
     "text": [
      "\n"
     ]
    },
    {
     "data": {
      "application/vnd.jupyter.widget-view+json": {
       "model_id": "10ae8c51bc5d40d098a3a9198cdd8bed",
       "version_major": 2,
       "version_minor": 0
      },
      "text/plain": [
       "HBox(children=(FloatProgress(value=0.0, max=1.0), HTML(value='')))"
      ]
     },
     "metadata": {},
     "output_type": "display_data"
    },
    {
     "name": "stdout",
     "output_type": "stream",
     "text": [
      "\n"
     ]
    },
    {
     "data": {
      "application/vnd.jupyter.widget-view+json": {
       "model_id": "f851db26e01e4891975a4b676b730a67",
       "version_major": 2,
       "version_minor": 0
      },
      "text/plain": [
       "HBox(children=(FloatProgress(value=0.0, max=1.0), HTML(value='')))"
      ]
     },
     "metadata": {},
     "output_type": "display_data"
    },
    {
     "name": "stdout",
     "output_type": "stream",
     "text": [
      "\n"
     ]
    },
    {
     "data": {
      "application/vnd.jupyter.widget-view+json": {
       "model_id": "a88b2ed9b7324bdf815f45b51a1a312c",
       "version_major": 2,
       "version_minor": 0
      },
      "text/plain": [
       "HBox(children=(FloatProgress(value=0.0, max=1.0), HTML(value='')))"
      ]
     },
     "metadata": {},
     "output_type": "display_data"
    },
    {
     "name": "stdout",
     "output_type": "stream",
     "text": [
      "\n"
     ]
    },
    {
     "data": {
      "application/vnd.jupyter.widget-view+json": {
       "model_id": "8aaec152f7cf4f75a5e5806cff36b4af",
       "version_major": 2,
       "version_minor": 0
      },
      "text/plain": [
       "HBox(children=(FloatProgress(value=1.0, bar_style='info', layout=Layout(width='20px'), max=1.0), HTML(value=''…"
      ]
     },
     "metadata": {},
     "output_type": "display_data"
    },
    {
     "name": "stdout",
     "output_type": "stream",
     "text": [
      "\n"
     ]
    },
    {
     "data": {
      "application/vnd.jupyter.widget-view+json": {
       "model_id": "9bb5417bd5124e5ca22dc36c466406c2",
       "version_major": 2,
       "version_minor": 0
      },
      "text/plain": [
       "HBox(children=(FloatProgress(value=0.0, max=1.0), HTML(value='')))"
      ]
     },
     "metadata": {},
     "output_type": "display_data"
    },
    {
     "name": "stderr",
     "output_type": "stream",
     "text": [
      "travis_attack.trainer: INFO     Epoch: 5. Min epochs before early stopping activated: 10\n",
      "travis_attack.trainer: INFO     Epoch: 5. Min epochs before early stopping activated: 10\n",
      "travis_attack.trainer: INFO     Epoch: 5. Min epochs before early stopping activated: 10\n",
      "travis_attack.trainer: INFO     Epoch: 5. Min epochs before early stopping activated: 10\n",
      "travis_attack.trainer: INFO     Epoch: 5. Min epochs before early stopping activated: 10\n",
      "travis_attack.trainer: INFO     Eval metric: 0.250 | Running median: 0.250\n",
      "travis_attack.trainer: INFO     Eval metric: 0.250 | Running median: 0.250\n",
      "travis_attack.trainer: INFO     Eval metric: 0.250 | Running median: 0.250\n",
      "travis_attack.trainer: INFO     Eval metric: 0.250 | Running median: 0.250\n",
      "travis_attack.trainer: INFO     Eval metric: 0.250 | Running median: 0.250\n"
     ]
    },
    {
     "name": "stdout",
     "output_type": "stream",
     "text": [
      "\n"
     ]
    },
    {
     "name": "stderr",
     "output_type": "stream",
     "text": [
      "travis_attack.trainer: INFO     Now on epoch 6 of 10\n",
      "travis_attack.trainer: INFO     Now on epoch 6 of 10\n",
      "travis_attack.trainer: INFO     Now on epoch 6 of 10\n",
      "travis_attack.trainer: INFO     Now on epoch 6 of 10\n",
      "travis_attack.trainer: INFO     Now on epoch 6 of 10\n"
     ]
    },
    {
     "data": {
      "application/vnd.jupyter.widget-view+json": {
       "model_id": "66e77d662c8749e4a560a4429ba88864",
       "version_major": 2,
       "version_minor": 0
      },
      "text/plain": [
       "HBox(children=(FloatProgress(value=0.0, max=2.0), HTML(value='')))"
      ]
     },
     "metadata": {},
     "output_type": "display_data"
    },
    {
     "name": "stdout",
     "output_type": "stream",
     "text": [
      "\n"
     ]
    },
    {
     "data": {
      "application/vnd.jupyter.widget-view+json": {
       "model_id": "51c259ba8f754a82a480c5da109572a5",
       "version_major": 2,
       "version_minor": 0
      },
      "text/plain": [
       "HBox(children=(FloatProgress(value=0.0, max=2.0), HTML(value='')))"
      ]
     },
     "metadata": {},
     "output_type": "display_data"
    },
    {
     "name": "stdout",
     "output_type": "stream",
     "text": [
      "\n"
     ]
    },
    {
     "data": {
      "application/vnd.jupyter.widget-view+json": {
       "model_id": "dd3df9053edf42fd94cb1538543c04dc",
       "version_major": 2,
       "version_minor": 0
      },
      "text/plain": [
       "HBox(children=(FloatProgress(value=0.0, max=2.0), HTML(value='')))"
      ]
     },
     "metadata": {},
     "output_type": "display_data"
    },
    {
     "name": "stdout",
     "output_type": "stream",
     "text": [
      "\n"
     ]
    },
    {
     "data": {
      "application/vnd.jupyter.widget-view+json": {
       "model_id": "d8576064e3474a54bf16c45a634a5747",
       "version_major": 2,
       "version_minor": 0
      },
      "text/plain": [
       "HBox(children=(FloatProgress(value=0.0, max=2.0), HTML(value='')))"
      ]
     },
     "metadata": {},
     "output_type": "display_data"
    },
    {
     "name": "stdout",
     "output_type": "stream",
     "text": [
      "\n"
     ]
    },
    {
     "data": {
      "application/vnd.jupyter.widget-view+json": {
       "model_id": "23e85d5f9a3d4b2fb8484e8781ccad9f",
       "version_major": 2,
       "version_minor": 0
      },
      "text/plain": [
       "HBox(children=(FloatProgress(value=0.0, max=2.0), HTML(value='')))"
      ]
     },
     "metadata": {},
     "output_type": "display_data"
    },
    {
     "name": "stdout",
     "output_type": "stream",
     "text": [
      "\n"
     ]
    },
    {
     "data": {
      "application/vnd.jupyter.widget-view+json": {
       "model_id": "21da12a462374843b13a7b18088e8052",
       "version_major": 2,
       "version_minor": 0
      },
      "text/plain": [
       "HBox(children=(FloatProgress(value=1.0, bar_style='info', layout=Layout(width='20px'), max=1.0), HTML(value=''…"
      ]
     },
     "metadata": {},
     "output_type": "display_data"
    },
    {
     "name": "stdout",
     "output_type": "stream",
     "text": [
      "\n"
     ]
    },
    {
     "data": {
      "application/vnd.jupyter.widget-view+json": {
       "model_id": "f91cfd150edd42549f274ba99930d59c",
       "version_major": 2,
       "version_minor": 0
      },
      "text/plain": [
       "HBox(children=(FloatProgress(value=0.0, max=2.0), HTML(value='')))"
      ]
     },
     "metadata": {},
     "output_type": "display_data"
    },
    {
     "name": "stdout",
     "output_type": "stream",
     "text": [
      "\n"
     ]
    },
    {
     "data": {
      "application/vnd.jupyter.widget-view+json": {
       "model_id": "5b5dd46c02e142feabf1826b3a0fbf50",
       "version_major": 2,
       "version_minor": 0
      },
      "text/plain": [
       "HBox(children=(FloatProgress(value=0.0, max=1.0), HTML(value='')))"
      ]
     },
     "metadata": {},
     "output_type": "display_data"
    },
    {
     "name": "stdout",
     "output_type": "stream",
     "text": [
      "\n"
     ]
    },
    {
     "data": {
      "application/vnd.jupyter.widget-view+json": {
       "model_id": "c78679527338463181a24d8d70d5da7e",
       "version_major": 2,
       "version_minor": 0
      },
      "text/plain": [
       "HBox(children=(FloatProgress(value=0.0, max=1.0), HTML(value='')))"
      ]
     },
     "metadata": {},
     "output_type": "display_data"
    },
    {
     "name": "stdout",
     "output_type": "stream",
     "text": [
      "\n"
     ]
    },
    {
     "data": {
      "application/vnd.jupyter.widget-view+json": {
       "model_id": "608336457acd449387c12f15a94277a8",
       "version_major": 2,
       "version_minor": 0
      },
      "text/plain": [
       "HBox(children=(FloatProgress(value=0.0, max=1.0), HTML(value='')))"
      ]
     },
     "metadata": {},
     "output_type": "display_data"
    },
    {
     "name": "stdout",
     "output_type": "stream",
     "text": [
      "\n"
     ]
    },
    {
     "data": {
      "application/vnd.jupyter.widget-view+json": {
       "model_id": "9c903f07ac1b4dbb86cb6be777702eb9",
       "version_major": 2,
       "version_minor": 0
      },
      "text/plain": [
       "HBox(children=(FloatProgress(value=0.0, max=1.0), HTML(value='')))"
      ]
     },
     "metadata": {},
     "output_type": "display_data"
    },
    {
     "name": "stdout",
     "output_type": "stream",
     "text": [
      "\n"
     ]
    },
    {
     "data": {
      "application/vnd.jupyter.widget-view+json": {
       "model_id": "2a0c06a4e4a240bdbc4c5934cc6a3ca6",
       "version_major": 2,
       "version_minor": 0
      },
      "text/plain": [
       "HBox(children=(FloatProgress(value=0.0, max=1.0), HTML(value='')))"
      ]
     },
     "metadata": {},
     "output_type": "display_data"
    },
    {
     "name": "stdout",
     "output_type": "stream",
     "text": [
      "\n"
     ]
    },
    {
     "data": {
      "application/vnd.jupyter.widget-view+json": {
       "model_id": "e1fce5ef586746608878e764c040c6ca",
       "version_major": 2,
       "version_minor": 0
      },
      "text/plain": [
       "HBox(children=(FloatProgress(value=1.0, bar_style='info', layout=Layout(width='20px'), max=1.0), HTML(value=''…"
      ]
     },
     "metadata": {},
     "output_type": "display_data"
    },
    {
     "name": "stdout",
     "output_type": "stream",
     "text": [
      "\n"
     ]
    },
    {
     "data": {
      "application/vnd.jupyter.widget-view+json": {
       "model_id": "3592b303263c49d78fbc005cca147dd3",
       "version_major": 2,
       "version_minor": 0
      },
      "text/plain": [
       "HBox(children=(FloatProgress(value=0.0, max=1.0), HTML(value='')))"
      ]
     },
     "metadata": {},
     "output_type": "display_data"
    },
    {
     "name": "stderr",
     "output_type": "stream",
     "text": [
      "travis_attack.trainer: INFO     Epoch: 6. Min epochs before early stopping activated: 10\n",
      "travis_attack.trainer: INFO     Epoch: 6. Min epochs before early stopping activated: 10\n",
      "travis_attack.trainer: INFO     Epoch: 6. Min epochs before early stopping activated: 10\n",
      "travis_attack.trainer: INFO     Epoch: 6. Min epochs before early stopping activated: 10\n",
      "travis_attack.trainer: INFO     Epoch: 6. Min epochs before early stopping activated: 10\n",
      "travis_attack.trainer: INFO     Eval metric: 0.250 | Running median: 0.250\n",
      "travis_attack.trainer: INFO     Eval metric: 0.250 | Running median: 0.250\n",
      "travis_attack.trainer: INFO     Eval metric: 0.250 | Running median: 0.250\n",
      "travis_attack.trainer: INFO     Eval metric: 0.250 | Running median: 0.250\n",
      "travis_attack.trainer: INFO     Eval metric: 0.250 | Running median: 0.250\n"
     ]
    },
    {
     "name": "stdout",
     "output_type": "stream",
     "text": [
      "\n"
     ]
    },
    {
     "name": "stderr",
     "output_type": "stream",
     "text": [
      "travis_attack.trainer: INFO     Now on epoch 7 of 10\n",
      "travis_attack.trainer: INFO     Now on epoch 7 of 10\n",
      "travis_attack.trainer: INFO     Now on epoch 7 of 10\n",
      "travis_attack.trainer: INFO     Now on epoch 7 of 10\n",
      "travis_attack.trainer: INFO     Now on epoch 7 of 10\n"
     ]
    },
    {
     "data": {
      "application/vnd.jupyter.widget-view+json": {
       "model_id": "7b056325cdcf4222b4cd87bef1224ed7",
       "version_major": 2,
       "version_minor": 0
      },
      "text/plain": [
       "HBox(children=(FloatProgress(value=0.0, max=2.0), HTML(value='')))"
      ]
     },
     "metadata": {},
     "output_type": "display_data"
    },
    {
     "name": "stdout",
     "output_type": "stream",
     "text": [
      "\n"
     ]
    },
    {
     "data": {
      "application/vnd.jupyter.widget-view+json": {
       "model_id": "b3d700a4e76a4215a78ac5c05e147ced",
       "version_major": 2,
       "version_minor": 0
      },
      "text/plain": [
       "HBox(children=(FloatProgress(value=0.0, max=2.0), HTML(value='')))"
      ]
     },
     "metadata": {},
     "output_type": "display_data"
    },
    {
     "name": "stdout",
     "output_type": "stream",
     "text": [
      "\n"
     ]
    },
    {
     "data": {
      "application/vnd.jupyter.widget-view+json": {
       "model_id": "4394dd1c96414f8093aca53b3774aa1c",
       "version_major": 2,
       "version_minor": 0
      },
      "text/plain": [
       "HBox(children=(FloatProgress(value=0.0, max=2.0), HTML(value='')))"
      ]
     },
     "metadata": {},
     "output_type": "display_data"
    },
    {
     "name": "stdout",
     "output_type": "stream",
     "text": [
      "\n"
     ]
    },
    {
     "data": {
      "application/vnd.jupyter.widget-view+json": {
       "model_id": "bc0673d44e4a466c9459ea6d84ca5a05",
       "version_major": 2,
       "version_minor": 0
      },
      "text/plain": [
       "HBox(children=(FloatProgress(value=0.0, max=2.0), HTML(value='')))"
      ]
     },
     "metadata": {},
     "output_type": "display_data"
    },
    {
     "name": "stdout",
     "output_type": "stream",
     "text": [
      "\n"
     ]
    },
    {
     "data": {
      "application/vnd.jupyter.widget-view+json": {
       "model_id": "b0ca0c4a17e04972b1313490b10766fb",
       "version_major": 2,
       "version_minor": 0
      },
      "text/plain": [
       "HBox(children=(FloatProgress(value=0.0, max=2.0), HTML(value='')))"
      ]
     },
     "metadata": {},
     "output_type": "display_data"
    },
    {
     "name": "stdout",
     "output_type": "stream",
     "text": [
      "\n"
     ]
    },
    {
     "data": {
      "application/vnd.jupyter.widget-view+json": {
       "model_id": "0081efdd7e5340bc929fde7fc1a274cd",
       "version_major": 2,
       "version_minor": 0
      },
      "text/plain": [
       "HBox(children=(FloatProgress(value=1.0, bar_style='info', layout=Layout(width='20px'), max=1.0), HTML(value=''…"
      ]
     },
     "metadata": {},
     "output_type": "display_data"
    },
    {
     "name": "stdout",
     "output_type": "stream",
     "text": [
      "\n"
     ]
    },
    {
     "data": {
      "application/vnd.jupyter.widget-view+json": {
       "model_id": "d27cece657ed47d49a4563f3b33d8355",
       "version_major": 2,
       "version_minor": 0
      },
      "text/plain": [
       "HBox(children=(FloatProgress(value=0.0, max=2.0), HTML(value='')))"
      ]
     },
     "metadata": {},
     "output_type": "display_data"
    },
    {
     "name": "stdout",
     "output_type": "stream",
     "text": [
      "\n"
     ]
    },
    {
     "data": {
      "application/vnd.jupyter.widget-view+json": {
       "model_id": "83ad22e495cd4bce8d840057fe225d50",
       "version_major": 2,
       "version_minor": 0
      },
      "text/plain": [
       "HBox(children=(FloatProgress(value=0.0, max=1.0), HTML(value='')))"
      ]
     },
     "metadata": {},
     "output_type": "display_data"
    },
    {
     "name": "stdout",
     "output_type": "stream",
     "text": [
      "\n"
     ]
    },
    {
     "data": {
      "application/vnd.jupyter.widget-view+json": {
       "model_id": "b389d84e7ecb441fa15123140d2fcb88",
       "version_major": 2,
       "version_minor": 0
      },
      "text/plain": [
       "HBox(children=(FloatProgress(value=0.0, max=1.0), HTML(value='')))"
      ]
     },
     "metadata": {},
     "output_type": "display_data"
    },
    {
     "name": "stdout",
     "output_type": "stream",
     "text": [
      "\n"
     ]
    },
    {
     "data": {
      "application/vnd.jupyter.widget-view+json": {
       "model_id": "6cfa2e47095b4326b94b0ebbcf83696c",
       "version_major": 2,
       "version_minor": 0
      },
      "text/plain": [
       "HBox(children=(FloatProgress(value=0.0, max=1.0), HTML(value='')))"
      ]
     },
     "metadata": {},
     "output_type": "display_data"
    },
    {
     "name": "stdout",
     "output_type": "stream",
     "text": [
      "\n"
     ]
    },
    {
     "data": {
      "application/vnd.jupyter.widget-view+json": {
       "model_id": "42d64af722cb4b7680e4e59d1dfdf724",
       "version_major": 2,
       "version_minor": 0
      },
      "text/plain": [
       "HBox(children=(FloatProgress(value=0.0, max=1.0), HTML(value='')))"
      ]
     },
     "metadata": {},
     "output_type": "display_data"
    },
    {
     "name": "stdout",
     "output_type": "stream",
     "text": [
      "\n"
     ]
    },
    {
     "data": {
      "application/vnd.jupyter.widget-view+json": {
       "model_id": "01f8d9c1b9da4c31923844d665a47ef1",
       "version_major": 2,
       "version_minor": 0
      },
      "text/plain": [
       "HBox(children=(FloatProgress(value=0.0, max=1.0), HTML(value='')))"
      ]
     },
     "metadata": {},
     "output_type": "display_data"
    },
    {
     "name": "stdout",
     "output_type": "stream",
     "text": [
      "\n"
     ]
    },
    {
     "data": {
      "application/vnd.jupyter.widget-view+json": {
       "model_id": "59c95f41a1154f9385a38c359aada249",
       "version_major": 2,
       "version_minor": 0
      },
      "text/plain": [
       "HBox(children=(FloatProgress(value=1.0, bar_style='info', layout=Layout(width='20px'), max=1.0), HTML(value=''…"
      ]
     },
     "metadata": {},
     "output_type": "display_data"
    },
    {
     "name": "stdout",
     "output_type": "stream",
     "text": [
      "\n"
     ]
    },
    {
     "data": {
      "application/vnd.jupyter.widget-view+json": {
       "model_id": "254dadcb6adb4b02a093ac1d0ab4f759",
       "version_major": 2,
       "version_minor": 0
      },
      "text/plain": [
       "HBox(children=(FloatProgress(value=0.0, max=1.0), HTML(value='')))"
      ]
     },
     "metadata": {},
     "output_type": "display_data"
    },
    {
     "name": "stderr",
     "output_type": "stream",
     "text": [
      "travis_attack.trainer: INFO     Epoch: 7. Min epochs before early stopping activated: 10\n",
      "travis_attack.trainer: INFO     Epoch: 7. Min epochs before early stopping activated: 10\n",
      "travis_attack.trainer: INFO     Epoch: 7. Min epochs before early stopping activated: 10\n",
      "travis_attack.trainer: INFO     Epoch: 7. Min epochs before early stopping activated: 10\n",
      "travis_attack.trainer: INFO     Epoch: 7. Min epochs before early stopping activated: 10\n",
      "travis_attack.trainer: INFO     Eval metric: 0.250 | Running median: 0.250\n",
      "travis_attack.trainer: INFO     Eval metric: 0.250 | Running median: 0.250\n",
      "travis_attack.trainer: INFO     Eval metric: 0.250 | Running median: 0.250\n",
      "travis_attack.trainer: INFO     Eval metric: 0.250 | Running median: 0.250\n",
      "travis_attack.trainer: INFO     Eval metric: 0.250 | Running median: 0.250\n"
     ]
    },
    {
     "name": "stdout",
     "output_type": "stream",
     "text": [
      "\n"
     ]
    },
    {
     "name": "stderr",
     "output_type": "stream",
     "text": [
      "travis_attack.trainer: INFO     Now on epoch 8 of 10\n",
      "travis_attack.trainer: INFO     Now on epoch 8 of 10\n",
      "travis_attack.trainer: INFO     Now on epoch 8 of 10\n",
      "travis_attack.trainer: INFO     Now on epoch 8 of 10\n",
      "travis_attack.trainer: INFO     Now on epoch 8 of 10\n"
     ]
    },
    {
     "data": {
      "application/vnd.jupyter.widget-view+json": {
       "model_id": "866f26acf12249dd83d1637877ef47af",
       "version_major": 2,
       "version_minor": 0
      },
      "text/plain": [
       "HBox(children=(FloatProgress(value=0.0, max=2.0), HTML(value='')))"
      ]
     },
     "metadata": {},
     "output_type": "display_data"
    },
    {
     "name": "stdout",
     "output_type": "stream",
     "text": [
      "\n"
     ]
    },
    {
     "data": {
      "application/vnd.jupyter.widget-view+json": {
       "model_id": "478872ed01584164be537ec003f7bc32",
       "version_major": 2,
       "version_minor": 0
      },
      "text/plain": [
       "HBox(children=(FloatProgress(value=0.0, max=2.0), HTML(value='')))"
      ]
     },
     "metadata": {},
     "output_type": "display_data"
    },
    {
     "name": "stdout",
     "output_type": "stream",
     "text": [
      "\n"
     ]
    },
    {
     "data": {
      "application/vnd.jupyter.widget-view+json": {
       "model_id": "3dcb5df20e0f4f6c86d5afdd2733090a",
       "version_major": 2,
       "version_minor": 0
      },
      "text/plain": [
       "HBox(children=(FloatProgress(value=0.0, max=2.0), HTML(value='')))"
      ]
     },
     "metadata": {},
     "output_type": "display_data"
    },
    {
     "name": "stdout",
     "output_type": "stream",
     "text": [
      "\n"
     ]
    },
    {
     "data": {
      "application/vnd.jupyter.widget-view+json": {
       "model_id": "cfa88c099d7a4b13a44ad2b9a3845bad",
       "version_major": 2,
       "version_minor": 0
      },
      "text/plain": [
       "HBox(children=(FloatProgress(value=0.0, max=2.0), HTML(value='')))"
      ]
     },
     "metadata": {},
     "output_type": "display_data"
    },
    {
     "name": "stdout",
     "output_type": "stream",
     "text": [
      "\n"
     ]
    },
    {
     "data": {
      "application/vnd.jupyter.widget-view+json": {
       "model_id": "96a0d761ca524d8b8b204f941158a964",
       "version_major": 2,
       "version_minor": 0
      },
      "text/plain": [
       "HBox(children=(FloatProgress(value=0.0, max=2.0), HTML(value='')))"
      ]
     },
     "metadata": {},
     "output_type": "display_data"
    },
    {
     "name": "stdout",
     "output_type": "stream",
     "text": [
      "\n"
     ]
    },
    {
     "data": {
      "application/vnd.jupyter.widget-view+json": {
       "model_id": "b56adb78d3944deeb81b4461755daf09",
       "version_major": 2,
       "version_minor": 0
      },
      "text/plain": [
       "HBox(children=(FloatProgress(value=1.0, bar_style='info', layout=Layout(width='20px'), max=1.0), HTML(value=''…"
      ]
     },
     "metadata": {},
     "output_type": "display_data"
    },
    {
     "name": "stdout",
     "output_type": "stream",
     "text": [
      "\n"
     ]
    },
    {
     "data": {
      "application/vnd.jupyter.widget-view+json": {
       "model_id": "e3f462141013428eb1ced52c1cbdf80b",
       "version_major": 2,
       "version_minor": 0
      },
      "text/plain": [
       "HBox(children=(FloatProgress(value=0.0, max=2.0), HTML(value='')))"
      ]
     },
     "metadata": {},
     "output_type": "display_data"
    },
    {
     "name": "stdout",
     "output_type": "stream",
     "text": [
      "\n"
     ]
    },
    {
     "data": {
      "application/vnd.jupyter.widget-view+json": {
       "model_id": "1bdd9121e8034cceb2883d62a3317ec1",
       "version_major": 2,
       "version_minor": 0
      },
      "text/plain": [
       "HBox(children=(FloatProgress(value=0.0, max=1.0), HTML(value='')))"
      ]
     },
     "metadata": {},
     "output_type": "display_data"
    },
    {
     "name": "stdout",
     "output_type": "stream",
     "text": [
      "\n"
     ]
    },
    {
     "data": {
      "application/vnd.jupyter.widget-view+json": {
       "model_id": "8e68e900fef64c65b3dc6e2a5e7283f1",
       "version_major": 2,
       "version_minor": 0
      },
      "text/plain": [
       "HBox(children=(FloatProgress(value=0.0, max=1.0), HTML(value='')))"
      ]
     },
     "metadata": {},
     "output_type": "display_data"
    },
    {
     "name": "stdout",
     "output_type": "stream",
     "text": [
      "\n"
     ]
    },
    {
     "data": {
      "application/vnd.jupyter.widget-view+json": {
       "model_id": "1529a5d771a04fad9487e02fafc82bce",
       "version_major": 2,
       "version_minor": 0
      },
      "text/plain": [
       "HBox(children=(FloatProgress(value=0.0, max=1.0), HTML(value='')))"
      ]
     },
     "metadata": {},
     "output_type": "display_data"
    },
    {
     "name": "stdout",
     "output_type": "stream",
     "text": [
      "\n"
     ]
    },
    {
     "data": {
      "application/vnd.jupyter.widget-view+json": {
       "model_id": "3c1c5efcccb640ff85f1f30a90a53058",
       "version_major": 2,
       "version_minor": 0
      },
      "text/plain": [
       "HBox(children=(FloatProgress(value=0.0, max=1.0), HTML(value='')))"
      ]
     },
     "metadata": {},
     "output_type": "display_data"
    },
    {
     "name": "stdout",
     "output_type": "stream",
     "text": [
      "\n"
     ]
    },
    {
     "data": {
      "application/vnd.jupyter.widget-view+json": {
       "model_id": "cc9c8a999ab74c6cbe471afc8b53c83c",
       "version_major": 2,
       "version_minor": 0
      },
      "text/plain": [
       "HBox(children=(FloatProgress(value=0.0, max=1.0), HTML(value='')))"
      ]
     },
     "metadata": {},
     "output_type": "display_data"
    },
    {
     "name": "stdout",
     "output_type": "stream",
     "text": [
      "\n"
     ]
    },
    {
     "data": {
      "application/vnd.jupyter.widget-view+json": {
       "model_id": "1c8834ce3a784b3b8865dace1a594bc5",
       "version_major": 2,
       "version_minor": 0
      },
      "text/plain": [
       "HBox(children=(FloatProgress(value=1.0, bar_style='info', layout=Layout(width='20px'), max=1.0), HTML(value=''…"
      ]
     },
     "metadata": {},
     "output_type": "display_data"
    },
    {
     "name": "stdout",
     "output_type": "stream",
     "text": [
      "\n"
     ]
    },
    {
     "data": {
      "application/vnd.jupyter.widget-view+json": {
       "model_id": "68f46a5982cd46f7964dd296cce2adfb",
       "version_major": 2,
       "version_minor": 0
      },
      "text/plain": [
       "HBox(children=(FloatProgress(value=0.0, max=1.0), HTML(value='')))"
      ]
     },
     "metadata": {},
     "output_type": "display_data"
    },
    {
     "name": "stderr",
     "output_type": "stream",
     "text": [
      "travis_attack.trainer: INFO     Epoch: 8. Min epochs before early stopping activated: 10\n",
      "travis_attack.trainer: INFO     Epoch: 8. Min epochs before early stopping activated: 10\n",
      "travis_attack.trainer: INFO     Epoch: 8. Min epochs before early stopping activated: 10\n",
      "travis_attack.trainer: INFO     Epoch: 8. Min epochs before early stopping activated: 10\n",
      "travis_attack.trainer: INFO     Epoch: 8. Min epochs before early stopping activated: 10\n",
      "travis_attack.trainer: INFO     Eval metric: 0.250 | Running median: 0.250\n",
      "travis_attack.trainer: INFO     Eval metric: 0.250 | Running median: 0.250\n",
      "travis_attack.trainer: INFO     Eval metric: 0.250 | Running median: 0.250\n",
      "travis_attack.trainer: INFO     Eval metric: 0.250 | Running median: 0.250\n",
      "travis_attack.trainer: INFO     Eval metric: 0.250 | Running median: 0.250\n"
     ]
    },
    {
     "name": "stdout",
     "output_type": "stream",
     "text": [
      "\n"
     ]
    },
    {
     "name": "stderr",
     "output_type": "stream",
     "text": [
      "travis_attack.trainer: INFO     Now on epoch 9 of 10\n",
      "travis_attack.trainer: INFO     Now on epoch 9 of 10\n",
      "travis_attack.trainer: INFO     Now on epoch 9 of 10\n",
      "travis_attack.trainer: INFO     Now on epoch 9 of 10\n",
      "travis_attack.trainer: INFO     Now on epoch 9 of 10\n"
     ]
    },
    {
     "data": {
      "application/vnd.jupyter.widget-view+json": {
       "model_id": "4bbe6ac0f2444ed489e4ba3dd1b2c5fe",
       "version_major": 2,
       "version_minor": 0
      },
      "text/plain": [
       "HBox(children=(FloatProgress(value=0.0, max=2.0), HTML(value='')))"
      ]
     },
     "metadata": {},
     "output_type": "display_data"
    },
    {
     "name": "stdout",
     "output_type": "stream",
     "text": [
      "\n"
     ]
    },
    {
     "data": {
      "application/vnd.jupyter.widget-view+json": {
       "model_id": "b5e5a63885b94b06ae48a12caaafc923",
       "version_major": 2,
       "version_minor": 0
      },
      "text/plain": [
       "HBox(children=(FloatProgress(value=0.0, max=2.0), HTML(value='')))"
      ]
     },
     "metadata": {},
     "output_type": "display_data"
    },
    {
     "name": "stdout",
     "output_type": "stream",
     "text": [
      "\n"
     ]
    },
    {
     "data": {
      "application/vnd.jupyter.widget-view+json": {
       "model_id": "2004e36442794920a86a76ac798eff53",
       "version_major": 2,
       "version_minor": 0
      },
      "text/plain": [
       "HBox(children=(FloatProgress(value=0.0, max=2.0), HTML(value='')))"
      ]
     },
     "metadata": {},
     "output_type": "display_data"
    },
    {
     "name": "stdout",
     "output_type": "stream",
     "text": [
      "\n"
     ]
    },
    {
     "data": {
      "application/vnd.jupyter.widget-view+json": {
       "model_id": "ccbdd836f25046a99786105ebea291e5",
       "version_major": 2,
       "version_minor": 0
      },
      "text/plain": [
       "HBox(children=(FloatProgress(value=0.0, max=2.0), HTML(value='')))"
      ]
     },
     "metadata": {},
     "output_type": "display_data"
    },
    {
     "name": "stdout",
     "output_type": "stream",
     "text": [
      "\n"
     ]
    },
    {
     "data": {
      "application/vnd.jupyter.widget-view+json": {
       "model_id": "b24fbfdb26214a2db1525e6476486e30",
       "version_major": 2,
       "version_minor": 0
      },
      "text/plain": [
       "HBox(children=(FloatProgress(value=0.0, max=2.0), HTML(value='')))"
      ]
     },
     "metadata": {},
     "output_type": "display_data"
    },
    {
     "name": "stdout",
     "output_type": "stream",
     "text": [
      "\n"
     ]
    },
    {
     "data": {
      "application/vnd.jupyter.widget-view+json": {
       "model_id": "496c02ce86284672bfbe15e6ae5f1c86",
       "version_major": 2,
       "version_minor": 0
      },
      "text/plain": [
       "HBox(children=(FloatProgress(value=1.0, bar_style='info', layout=Layout(width='20px'), max=1.0), HTML(value=''…"
      ]
     },
     "metadata": {},
     "output_type": "display_data"
    },
    {
     "name": "stdout",
     "output_type": "stream",
     "text": [
      "\n"
     ]
    },
    {
     "data": {
      "application/vnd.jupyter.widget-view+json": {
       "model_id": "332ada04e41a4f66b85ab10cbb2b5bd9",
       "version_major": 2,
       "version_minor": 0
      },
      "text/plain": [
       "HBox(children=(FloatProgress(value=0.0, max=2.0), HTML(value='')))"
      ]
     },
     "metadata": {},
     "output_type": "display_data"
    },
    {
     "name": "stdout",
     "output_type": "stream",
     "text": [
      "\n"
     ]
    },
    {
     "data": {
      "application/vnd.jupyter.widget-view+json": {
       "model_id": "f87e7e35948c414e9f06802d169992cf",
       "version_major": 2,
       "version_minor": 0
      },
      "text/plain": [
       "HBox(children=(FloatProgress(value=0.0, max=1.0), HTML(value='')))"
      ]
     },
     "metadata": {},
     "output_type": "display_data"
    },
    {
     "name": "stdout",
     "output_type": "stream",
     "text": [
      "\n"
     ]
    },
    {
     "data": {
      "application/vnd.jupyter.widget-view+json": {
       "model_id": "6579ad6132564d76b8b1714ca52b714f",
       "version_major": 2,
       "version_minor": 0
      },
      "text/plain": [
       "HBox(children=(FloatProgress(value=0.0, max=1.0), HTML(value='')))"
      ]
     },
     "metadata": {},
     "output_type": "display_data"
    },
    {
     "name": "stdout",
     "output_type": "stream",
     "text": [
      "\n"
     ]
    },
    {
     "data": {
      "application/vnd.jupyter.widget-view+json": {
       "model_id": "2fdece28472b46da9e69483955c06695",
       "version_major": 2,
       "version_minor": 0
      },
      "text/plain": [
       "HBox(children=(FloatProgress(value=0.0, max=1.0), HTML(value='')))"
      ]
     },
     "metadata": {},
     "output_type": "display_data"
    },
    {
     "name": "stdout",
     "output_type": "stream",
     "text": [
      "\n"
     ]
    },
    {
     "data": {
      "application/vnd.jupyter.widget-view+json": {
       "model_id": "086ceb64e21a4e518624de1bbb34a99e",
       "version_major": 2,
       "version_minor": 0
      },
      "text/plain": [
       "HBox(children=(FloatProgress(value=0.0, max=1.0), HTML(value='')))"
      ]
     },
     "metadata": {},
     "output_type": "display_data"
    },
    {
     "name": "stdout",
     "output_type": "stream",
     "text": [
      "\n"
     ]
    },
    {
     "data": {
      "application/vnd.jupyter.widget-view+json": {
       "model_id": "e2d6b6b7ef3b4e6abb6a03449cdc2585",
       "version_major": 2,
       "version_minor": 0
      },
      "text/plain": [
       "HBox(children=(FloatProgress(value=0.0, max=1.0), HTML(value='')))"
      ]
     },
     "metadata": {},
     "output_type": "display_data"
    },
    {
     "name": "stdout",
     "output_type": "stream",
     "text": [
      "\n"
     ]
    },
    {
     "data": {
      "application/vnd.jupyter.widget-view+json": {
       "model_id": "5393a3abe91347c88021085e9dd55ba2",
       "version_major": 2,
       "version_minor": 0
      },
      "text/plain": [
       "HBox(children=(FloatProgress(value=1.0, bar_style='info', layout=Layout(width='20px'), max=1.0), HTML(value=''…"
      ]
     },
     "metadata": {},
     "output_type": "display_data"
    },
    {
     "name": "stdout",
     "output_type": "stream",
     "text": [
      "\n"
     ]
    },
    {
     "data": {
      "application/vnd.jupyter.widget-view+json": {
       "model_id": "7da2e3d6bc3a4a4cb8b8f766c4e9c07d",
       "version_major": 2,
       "version_minor": 0
      },
      "text/plain": [
       "HBox(children=(FloatProgress(value=0.0, max=1.0), HTML(value='')))"
      ]
     },
     "metadata": {},
     "output_type": "display_data"
    },
    {
     "name": "stderr",
     "output_type": "stream",
     "text": [
      "travis_attack.trainer: INFO     Epoch: 9. Min epochs before early stopping activated: 10\n",
      "travis_attack.trainer: INFO     Epoch: 9. Min epochs before early stopping activated: 10\n",
      "travis_attack.trainer: INFO     Epoch: 9. Min epochs before early stopping activated: 10\n",
      "travis_attack.trainer: INFO     Epoch: 9. Min epochs before early stopping activated: 10\n",
      "travis_attack.trainer: INFO     Epoch: 9. Min epochs before early stopping activated: 10\n",
      "travis_attack.trainer: INFO     Eval metric: 0.250 | Running median: 0.250\n",
      "travis_attack.trainer: INFO     Eval metric: 0.250 | Running median: 0.250\n",
      "travis_attack.trainer: INFO     Eval metric: 0.250 | Running median: 0.250\n",
      "travis_attack.trainer: INFO     Eval metric: 0.250 | Running median: 0.250\n",
      "travis_attack.trainer: INFO     Eval metric: 0.250 | Running median: 0.250\n"
     ]
    },
    {
     "name": "stdout",
     "output_type": "stream",
     "text": [
      "\n"
     ]
    },
    {
     "name": "stderr",
     "output_type": "stream",
     "text": [
      "travis_attack.trainer: INFO     Now on epoch 10 of 10\n",
      "travis_attack.trainer: INFO     Now on epoch 10 of 10\n",
      "travis_attack.trainer: INFO     Now on epoch 10 of 10\n",
      "travis_attack.trainer: INFO     Now on epoch 10 of 10\n",
      "travis_attack.trainer: INFO     Now on epoch 10 of 10\n"
     ]
    },
    {
     "data": {
      "application/vnd.jupyter.widget-view+json": {
       "model_id": "2458a979744c4d0d8789b09df1add2d2",
       "version_major": 2,
       "version_minor": 0
      },
      "text/plain": [
       "HBox(children=(FloatProgress(value=0.0, max=2.0), HTML(value='')))"
      ]
     },
     "metadata": {},
     "output_type": "display_data"
    },
    {
     "name": "stdout",
     "output_type": "stream",
     "text": [
      "\n"
     ]
    },
    {
     "data": {
      "application/vnd.jupyter.widget-view+json": {
       "model_id": "fdf0a12ccc624d6180a1327c1015e530",
       "version_major": 2,
       "version_minor": 0
      },
      "text/plain": [
       "HBox(children=(FloatProgress(value=0.0, max=2.0), HTML(value='')))"
      ]
     },
     "metadata": {},
     "output_type": "display_data"
    },
    {
     "name": "stdout",
     "output_type": "stream",
     "text": [
      "\n"
     ]
    },
    {
     "data": {
      "application/vnd.jupyter.widget-view+json": {
       "model_id": "9db50066647241b49c0431dbe948b289",
       "version_major": 2,
       "version_minor": 0
      },
      "text/plain": [
       "HBox(children=(FloatProgress(value=0.0, max=2.0), HTML(value='')))"
      ]
     },
     "metadata": {},
     "output_type": "display_data"
    },
    {
     "name": "stdout",
     "output_type": "stream",
     "text": [
      "\n"
     ]
    },
    {
     "data": {
      "application/vnd.jupyter.widget-view+json": {
       "model_id": "ac689d670fb74b99b1ce4947df102648",
       "version_major": 2,
       "version_minor": 0
      },
      "text/plain": [
       "HBox(children=(FloatProgress(value=0.0, max=2.0), HTML(value='')))"
      ]
     },
     "metadata": {},
     "output_type": "display_data"
    },
    {
     "name": "stdout",
     "output_type": "stream",
     "text": [
      "\n"
     ]
    },
    {
     "data": {
      "application/vnd.jupyter.widget-view+json": {
       "model_id": "73d680e2620549019937c3262488aeaa",
       "version_major": 2,
       "version_minor": 0
      },
      "text/plain": [
       "HBox(children=(FloatProgress(value=0.0, max=2.0), HTML(value='')))"
      ]
     },
     "metadata": {},
     "output_type": "display_data"
    },
    {
     "name": "stdout",
     "output_type": "stream",
     "text": [
      "\n"
     ]
    },
    {
     "data": {
      "application/vnd.jupyter.widget-view+json": {
       "model_id": "7720a3617db845de8a687b4ad12befae",
       "version_major": 2,
       "version_minor": 0
      },
      "text/plain": [
       "HBox(children=(FloatProgress(value=1.0, bar_style='info', layout=Layout(width='20px'), max=1.0), HTML(value=''…"
      ]
     },
     "metadata": {},
     "output_type": "display_data"
    },
    {
     "name": "stdout",
     "output_type": "stream",
     "text": [
      "\n"
     ]
    },
    {
     "data": {
      "application/vnd.jupyter.widget-view+json": {
       "model_id": "aef5a5faf2664246921f6721d01a6411",
       "version_major": 2,
       "version_minor": 0
      },
      "text/plain": [
       "HBox(children=(FloatProgress(value=0.0, max=2.0), HTML(value='')))"
      ]
     },
     "metadata": {},
     "output_type": "display_data"
    },
    {
     "name": "stdout",
     "output_type": "stream",
     "text": [
      "\n"
     ]
    },
    {
     "data": {
      "application/vnd.jupyter.widget-view+json": {
       "model_id": "a6eb889b415d43a58d5e1e878f698ff6",
       "version_major": 2,
       "version_minor": 0
      },
      "text/plain": [
       "HBox(children=(FloatProgress(value=0.0, max=1.0), HTML(value='')))"
      ]
     },
     "metadata": {},
     "output_type": "display_data"
    },
    {
     "name": "stdout",
     "output_type": "stream",
     "text": [
      "\n"
     ]
    },
    {
     "data": {
      "application/vnd.jupyter.widget-view+json": {
       "model_id": "927fa93f474a41198571bef734db4029",
       "version_major": 2,
       "version_minor": 0
      },
      "text/plain": [
       "HBox(children=(FloatProgress(value=0.0, max=1.0), HTML(value='')))"
      ]
     },
     "metadata": {},
     "output_type": "display_data"
    },
    {
     "name": "stdout",
     "output_type": "stream",
     "text": [
      "\n"
     ]
    },
    {
     "data": {
      "application/vnd.jupyter.widget-view+json": {
       "model_id": "9b2d88c3d43746efb53171d667a4ee5e",
       "version_major": 2,
       "version_minor": 0
      },
      "text/plain": [
       "HBox(children=(FloatProgress(value=0.0, max=1.0), HTML(value='')))"
      ]
     },
     "metadata": {},
     "output_type": "display_data"
    },
    {
     "name": "stdout",
     "output_type": "stream",
     "text": [
      "\n"
     ]
    },
    {
     "data": {
      "application/vnd.jupyter.widget-view+json": {
       "model_id": "47778131175c4ecbb654cd24bfd61e66",
       "version_major": 2,
       "version_minor": 0
      },
      "text/plain": [
       "HBox(children=(FloatProgress(value=0.0, max=1.0), HTML(value='')))"
      ]
     },
     "metadata": {},
     "output_type": "display_data"
    },
    {
     "name": "stdout",
     "output_type": "stream",
     "text": [
      "\n"
     ]
    },
    {
     "data": {
      "application/vnd.jupyter.widget-view+json": {
       "model_id": "413e121d6a04442cb8f2b5dc191fa86c",
       "version_major": 2,
       "version_minor": 0
      },
      "text/plain": [
       "HBox(children=(FloatProgress(value=0.0, max=1.0), HTML(value='')))"
      ]
     },
     "metadata": {},
     "output_type": "display_data"
    },
    {
     "name": "stdout",
     "output_type": "stream",
     "text": [
      "\n"
     ]
    },
    {
     "data": {
      "application/vnd.jupyter.widget-view+json": {
       "model_id": "ed7ac6d35d094cc589ec5bc67ee80081",
       "version_major": 2,
       "version_minor": 0
      },
      "text/plain": [
       "HBox(children=(FloatProgress(value=1.0, bar_style='info', layout=Layout(width='20px'), max=1.0), HTML(value=''…"
      ]
     },
     "metadata": {},
     "output_type": "display_data"
    },
    {
     "name": "stdout",
     "output_type": "stream",
     "text": [
      "\n"
     ]
    },
    {
     "data": {
      "application/vnd.jupyter.widget-view+json": {
       "model_id": "f18a0040913040d3afbecf62af659cae",
       "version_major": 2,
       "version_minor": 0
      },
      "text/plain": [
       "HBox(children=(FloatProgress(value=0.0, max=1.0), HTML(value='')))"
      ]
     },
     "metadata": {},
     "output_type": "display_data"
    },
    {
     "name": "stderr",
     "output_type": "stream",
     "text": [
      "travis_attack.trainer: INFO     Epoch: 10. Min epochs before early stopping activated: 10\n",
      "travis_attack.trainer: INFO     Epoch: 10. Min epochs before early stopping activated: 10\n",
      "travis_attack.trainer: INFO     Epoch: 10. Min epochs before early stopping activated: 10\n",
      "travis_attack.trainer: INFO     Epoch: 10. Min epochs before early stopping activated: 10\n",
      "travis_attack.trainer: INFO     Epoch: 10. Min epochs before early stopping activated: 10\n",
      "travis_attack.trainer: INFO     Eval metric: 0.250 | Running median: 0.250\n",
      "travis_attack.trainer: INFO     Eval metric: 0.250 | Running median: 0.250\n",
      "travis_attack.trainer: INFO     Eval metric: 0.250 | Running median: 0.250\n",
      "travis_attack.trainer: INFO     Eval metric: 0.250 | Running median: 0.250\n",
      "travis_attack.trainer: INFO     Eval metric: 0.250 | Running median: 0.250\n"
     ]
    },
    {
     "name": "stdout",
     "output_type": "stream",
     "text": [
      "\n"
     ]
    },
    {
     "name": "stderr",
     "output_type": "stream",
     "text": [
      "travis_attack.trainer: INFO     Evaluating test set with best model at path : ../model_checkpoints/travis_attack/summer-cosmos-178/model_0.pt\n",
      "travis_attack.trainer: INFO     Evaluating test set with best model at path : ../model_checkpoints/travis_attack/summer-cosmos-178/model_0.pt\n",
      "travis_attack.trainer: INFO     Evaluating test set with best model at path : ../model_checkpoints/travis_attack/summer-cosmos-178/model_0.pt\n",
      "travis_attack.trainer: INFO     Evaluating test set with best model at path : ../model_checkpoints/travis_attack/summer-cosmos-178/model_0.pt\n",
      "travis_attack.trainer: INFO     Evaluating test set with best model at path : ../model_checkpoints/travis_attack/summer-cosmos-178/model_0.pt\n"
     ]
    },
    {
     "data": {
      "application/vnd.jupyter.widget-view+json": {
       "model_id": "dc8fbae4f58541dd973391f0a8362d8d",
       "version_major": 2,
       "version_minor": 0
      },
      "text/plain": [
       "HBox(children=(FloatProgress(value=0.0, max=1.0), HTML(value='')))"
      ]
     },
     "metadata": {},
     "output_type": "display_data"
    },
    {
     "name": "stdout",
     "output_type": "stream",
     "text": [
      "\n"
     ]
    },
    {
     "data": {
      "application/vnd.jupyter.widget-view+json": {
       "model_id": "3220b5b4bd9543efa6fa9780b8a1570d",
       "version_major": 2,
       "version_minor": 0
      },
      "text/plain": [
       "HBox(children=(FloatProgress(value=0.0, max=1.0), HTML(value='')))"
      ]
     },
     "metadata": {},
     "output_type": "display_data"
    },
    {
     "name": "stdout",
     "output_type": "stream",
     "text": [
      "\n"
     ]
    },
    {
     "data": {
      "application/vnd.jupyter.widget-view+json": {
       "model_id": "331362efc6ee4f3b9343f0b20eac1747",
       "version_major": 2,
       "version_minor": 0
      },
      "text/plain": [
       "HBox(children=(FloatProgress(value=0.0, max=1.0), HTML(value='')))"
      ]
     },
     "metadata": {},
     "output_type": "display_data"
    },
    {
     "name": "stdout",
     "output_type": "stream",
     "text": [
      "\n"
     ]
    },
    {
     "data": {
      "application/vnd.jupyter.widget-view+json": {
       "model_id": "2e357964778840299934702ce4aaa328",
       "version_major": 2,
       "version_minor": 0
      },
      "text/plain": [
       "HBox(children=(FloatProgress(value=0.0, max=1.0), HTML(value='')))"
      ]
     },
     "metadata": {},
     "output_type": "display_data"
    },
    {
     "name": "stdout",
     "output_type": "stream",
     "text": [
      "\n"
     ]
    },
    {
     "data": {
      "application/vnd.jupyter.widget-view+json": {
       "model_id": "03755426a67549ae93ea0c7577a39229",
       "version_major": 2,
       "version_minor": 0
      },
      "text/plain": [
       "HBox(children=(FloatProgress(value=0.0, max=1.0), HTML(value='')))"
      ]
     },
     "metadata": {},
     "output_type": "display_data"
    },
    {
     "name": "stdout",
     "output_type": "stream",
     "text": [
      "\n"
     ]
    },
    {
     "data": {
      "application/vnd.jupyter.widget-view+json": {
       "model_id": "7ff51ea747a2441aa82f8f7fd40c8770",
       "version_major": 2,
       "version_minor": 0
      },
      "text/plain": [
       "HBox(children=(FloatProgress(value=1.0, bar_style='info', layout=Layout(width='20px'), max=1.0), HTML(value=''…"
      ]
     },
     "metadata": {},
     "output_type": "display_data"
    },
    {
     "name": "stdout",
     "output_type": "stream",
     "text": [
      "\n"
     ]
    },
    {
     "data": {
      "application/vnd.jupyter.widget-view+json": {
       "model_id": "6a2543f1d02f4fc3be1bad7fa84bd599",
       "version_major": 2,
       "version_minor": 0
      },
      "text/plain": [
       "HBox(children=(FloatProgress(value=0.0, max=1.0), HTML(value='')))"
      ]
     },
     "metadata": {},
     "output_type": "display_data"
    },
    {
     "name": "stdout",
     "output_type": "stream",
     "text": [
      "\n"
     ]
    }
   ],
   "source": [
    "cfg.wandb['mode'] = 'online'\n",
    "trainer = Trainer(cfg, vm_tokenizer,vm_model,pp_tokenizer,pp_model,ref_pp_model,sts_model,nli_tokenizer,nli_model,cola_tokenizer,cola_model, optimizer,\n",
    "         ds)\n",
    "print_important_cfg_vars(cfg)\n",
    "trainer.train()"
   ]
  },
  {
   "cell_type": "code",
   "execution_count": null,
   "metadata": {},
   "outputs": [
    {
     "name": "stdout",
     "output_type": "stream",
     "text": [
      "> \u001b[0;32m/data/tproth/travis_attack/travis_attack/trainer.py\u001b[0m(180)\u001b[0;36m_training_step\u001b[0;34m()\u001b[0m\n",
      "\u001b[0;32m    178 \u001b[0;31m                return_dict_in_generate=True, output_scores=True), # remove_invalid_values=False,\n",
      "\u001b[0m\u001b[0;32m    179 \u001b[0;31m               \u001b[0;31m# pad_token_id = self.pp_tokenizer.pad_token_id, eos_token_id = self.pp_tokenizer.eos_token_id\u001b[0m\u001b[0;34m\u001b[0m\u001b[0;34m\u001b[0m\u001b[0;34m\u001b[0m\u001b[0m\n",
      "\u001b[0m\u001b[0;32m--> 180 \u001b[0;31m            \u001b[0mpp_l\u001b[0m \u001b[0;34m=\u001b[0m \u001b[0mself\u001b[0m\u001b[0;34m.\u001b[0m\u001b[0mpp_tokenizer\u001b[0m\u001b[0;34m.\u001b[0m\u001b[0mbatch_decode\u001b[0m\u001b[0;34m(\u001b[0m\u001b[0mpp_output\u001b[0m\u001b[0;34m.\u001b[0m\u001b[0msequences\u001b[0m\u001b[0;34m,\u001b[0m \u001b[0mskip_special_tokens\u001b[0m\u001b[0;34m=\u001b[0m\u001b[0;32mTrue\u001b[0m\u001b[0;34m)\u001b[0m\u001b[0;34m\u001b[0m\u001b[0;34m\u001b[0m\u001b[0m\n",
      "\u001b[0m\u001b[0;32m    181 \u001b[0;31m        \u001b[0;31m# Update_batch_size_and_length_variables\u001b[0m\u001b[0;34m\u001b[0m\u001b[0;34m\u001b[0m\u001b[0;34m\u001b[0m\u001b[0m\n",
      "\u001b[0m\u001b[0;32m    182 \u001b[0;31m        \u001b[0mself\u001b[0m\u001b[0;34m.\u001b[0m\u001b[0morig_batch_size\u001b[0m\u001b[0;34m,\u001b[0m\u001b[0mself\u001b[0m\u001b[0;34m.\u001b[0m\u001b[0morig_length\u001b[0m \u001b[0;34m=\u001b[0m   \u001b[0mdata\u001b[0m\u001b[0;34m[\u001b[0m\u001b[0;34m'input_ids'\u001b[0m\u001b[0;34m]\u001b[0m\u001b[0;34m.\u001b[0m\u001b[0mshape\u001b[0m\u001b[0;34m[\u001b[0m\u001b[0;36m0\u001b[0m\u001b[0;34m]\u001b[0m\u001b[0;34m,\u001b[0m   \u001b[0mdata\u001b[0m\u001b[0;34m[\u001b[0m\u001b[0;34m'input_ids'\u001b[0m\u001b[0;34m]\u001b[0m\u001b[0;34m.\u001b[0m\u001b[0mshape\u001b[0m\u001b[0;34m[\u001b[0m\u001b[0;36m1\u001b[0m\u001b[0;34m]\u001b[0m\u001b[0;34m\u001b[0m\u001b[0;34m\u001b[0m\u001b[0m\n",
      "\u001b[0m\n",
      "ipdb> pp_output\n",
      "(SampleEncoderDecoderOutput(sequences=tensor([[    0,   486,     8,   337,    97,    27,   183,  5010,    24,    62,\n",
      "           130,     3,   179,    12,  8582,     8,  1470,    28,    69,   293,\n",
      "           372,     5,     1,     0,     0,     0,     0,     0],\n",
      "        [    0,    37,   349,    31,     7,  2337,    16,  5769,    54,    36,\n",
      "           894,    16,     8,  4019,  1364,  1596,    13,     8,   126,    73,\n",
      "         28556,  6991,     3,     5,     3,    31,    31,     1],\n",
      "        [    0,    37,   792,  3135,   792,    47,     3, 20431, 10186,    11,\n",
      "             8, 19297,   130,  3934,    30,     8, 10919,    13,     8,  1399,\n",
      "          5138,  8278,    11,  2100, 10906,     5,     1,     0],\n",
      "        [    0,   101,   320,  1039,    12,  2022,     8,   349,  1344,   165,\n",
      "          7763,   364,    11,   916,    12,  1125,  1737,   165,   364,    21,\n",
      "           165,   722,     5,     1,     0,     0,     0,     0],\n",
      "        [    0,  2150,    12,  4511,    17,    17,   173,  1220,     2,    31,\n",
      "             7,  2267,     3,    18,     8,  2329,  1053,    21,    48,  5878,\n",
      "            19,  4623,     5,     1,     0,     0,     0,     0],\n",
      "        [    0, 21606, 14609,   130, 12400,     3,  4949, 27336,    51,    29,\n",
      "             3,     5,     1,     0,     0,     0,     0,     0,     0,     0,\n",
      "             0,     0,     0,     0,     0,     0,     0,     0],\n",
      "        [    0,   391,  5166,    65,  3250, 29697,  6328,     3,  7563,    28,\n",
      "             8,   126,   988,    13,     8,  1156,  2699,   358,     5,     3,\n",
      "             1,     0,     0,     0,     0,     0,     0,     0],\n",
      "        [    0,  3833,   122,     9,  1414,   547,    32,  3481,   302,  3212,\n",
      "           165,   494,   365,     8, 10602, 15666,     7,     3,   184,  1290,\n",
      "           127,  7085,     5,     1,     0,     0,     0,     0],\n",
      "        [    0,    37,   792,   866,    13,  7644,  1596,    47,  4381,    16,\n",
      "             8,  3069,    21,     3,    60, 31958,   529,  2006,  1601,  8408,\n",
      "         11496,     3,     5,     1,     0,     0,     0,     0],\n",
      "        [    0,   242,     8,   166,   985,    13,    48,   215,  5424,  2099,\n",
      "          1694,     3,     9,  1973,   356,    13,   772,     5,     1,     0,\n",
      "             0,     0,     0,     0,     0,     0,     0,     0],\n",
      "        [    0,   283, 14678,   795,  8358,   758,    13,   175,  1564,    57,\n",
      "             3, 10165,  5298,    11,   610,   640,     8,   280, 10136,    13,\n",
      "            79,     3,     5,     1,     0,     0,     0,     0],\n",
      "        [    0,  6540,  1085, 13665,    12,  9526,     5,   927,   770,    45,\n",
      "             3,  3390,     5,  1298,   770, 12400,     5,     3,    31,    31,\n",
      "             1,     0,     0,     0,     0,     0,     0,     0],\n",
      "        [    0,    94,    47,  1597,    57,  5224,    51, 12032,     3,     6,\n",
      "             8,   889, 16604, 27754,  2237,    57, 16887,     3,     5,     1,\n",
      "             0,     0,     0,     0,     0,     0,     0,     0],\n",
      "        [    0,    86, 16458,     3,  4450,     3,  1454,    13,  1040,    11,\n",
      "          1040,  1976,    19,     3,    60, 20471,     5,     1,     0,     0,\n",
      "             0,     0,     0,     0,     0,     0,     0,     0],\n",
      "        [    0,    37,  2908,    13,     8,  1904, 13665,    57,  1401,     3,\n",
      "          1454,    12,     3, 21280,     3,    51,    29,  3173,     5,     1,\n",
      "             0,     0,     0,     0,     0,     0,     0,     0],\n",
      "        [    0,    37,   349, 10973,     7,  2018,     9,   115,    31,     7,\n",
      "           494,    38,   168,    38,   119,   494,     3,     5,     1,     0,\n",
      "             0,     0,     0,     0,     0,     0,     0,     0]],\n",
      "       device='cuda:0'), scores=(tensor([[-inf, -inf, -inf,  ..., -inf, -inf, -inf],\n",
      "        [-inf, -inf, -inf,  ..., -inf, -inf, -inf],\n",
      "        [-inf, -inf, -inf,  ..., -inf, -inf, -inf],\n",
      "        ...,\n",
      "        [-inf, -inf, -inf,  ..., -inf, -inf, -inf],\n",
      "        [-inf, -inf, -inf,  ..., -inf, -inf, -inf],\n",
      "        [-inf, -inf, -inf,  ..., -inf, -inf, -inf]], device='cuda:0',\n",
      "       grad_fn=<MaskedFillBackward0>), tensor([[-inf, -inf, -inf,  ..., -inf, -inf, -inf],\n",
      "        [-inf, -inf, -inf,  ..., -inf, -inf, -inf],\n",
      "        [-inf, -inf, -inf,  ..., -inf, -inf, -inf],\n",
      "        ...,\n",
      "        [-inf, -inf, -inf,  ..., -inf, -inf, -inf],\n",
      "        [-inf, -inf, -inf,  ..., -inf, -inf, -inf],\n",
      "        [-inf, -inf, -inf,  ..., -inf, -inf, -inf]], device='cuda:0',\n",
      "       grad_fn=<MaskedFillBackward0>), tensor([[-inf, -inf, -inf,  ..., -inf, -inf, -inf],\n",
      "        [-inf, -inf, -inf,  ..., -inf, -inf, -inf],\n",
      "        [-inf, -inf, -inf,  ..., -inf, -inf, -inf],\n",
      "        ...,\n",
      "        [-inf, -inf, -inf,  ..., -inf, -inf, -inf],\n",
      "        [-inf, -inf, -inf,  ..., -inf, -inf, -inf],\n",
      "        [-inf, -inf, -inf,  ..., -inf, -inf, -inf]], device='cuda:0',\n",
      "       grad_fn=<MaskedFillBackward0>), tensor([[-inf, -inf, -inf,  ..., -inf, -inf, -inf],\n",
      "        [-inf, -inf, -inf,  ..., -inf, -inf, -inf],\n",
      "        [-inf, -inf, -inf,  ..., -inf, -inf, -inf],\n",
      "        ...,\n",
      "        [-inf, -inf, -inf,  ..., -inf, -inf, -inf],\n",
      "        [-inf, -inf, -inf,  ..., -inf, -inf, -inf],\n",
      "        [-inf, -inf, -inf,  ..., -inf, -inf, -inf]], device='cuda:0',\n",
      "       grad_fn=<MaskedFillBackward0>), tensor([[-inf, -inf, -inf,  ..., -inf, -inf, -inf],\n",
      "        [-inf, -inf, -inf,  ..., -inf, -inf, -inf],\n",
      "        [-inf, -inf, -inf,  ..., -inf, -inf, -inf],\n",
      "        ...,\n",
      "        [-inf, -inf, -inf,  ..., -inf, -inf, -inf],\n",
      "        [-inf, -inf, -inf,  ..., -inf, -inf, -inf],\n",
      "        [-inf, -inf, -inf,  ..., -inf, -inf, -inf]], device='cuda:0',\n",
      "       grad_fn=<MaskedFillBackward0>), tensor([[-inf, -inf, -inf,  ..., -inf, -inf, -inf],\n",
      "        [-inf, -inf, -inf,  ..., -inf, -inf, -inf],\n",
      "        [-inf, -inf, -inf,  ..., -inf, -inf, -inf],\n",
      "        ...,\n",
      "        [-inf, -inf, -inf,  ..., -inf, -inf, -inf],\n",
      "        [-inf, -inf, -inf,  ..., -inf, -inf, -inf],\n",
      "        [-inf, -inf, -inf,  ..., -inf, -inf, -inf]], device='cuda:0',\n",
      "       grad_fn=<MaskedFillBackward0>), tensor([[-inf, -inf, -inf,  ..., -inf, -inf, -inf],\n",
      "        [-inf, -inf, -inf,  ..., -inf, -inf, -inf],\n",
      "        [-inf, -inf, -inf,  ..., -inf, -inf, -inf],\n",
      "        ...,\n",
      "        [-inf, -inf, -inf,  ..., -inf, -inf, -inf],\n",
      "        [-inf, -inf, -inf,  ..., -inf, -inf, -inf],\n",
      "        [-inf, -inf, -inf,  ..., -inf, -inf, -inf]], device='cuda:0',\n",
      "       grad_fn=<MaskedFillBackward0>), tensor([[-inf, -inf, -inf,  ..., -inf, -inf, -inf],\n",
      "        [-inf, -inf, -inf,  ..., -inf, -inf, -inf],\n",
      "        [-inf, -inf, -inf,  ..., -inf, -inf, -inf],\n",
      "        ...,\n",
      "        [-inf, -inf, -inf,  ..., -inf, -inf, -inf],\n",
      "        [-inf, -inf, -inf,  ..., -inf, -inf, -inf],\n",
      "        [-inf, -inf, -inf,  ..., -inf, -inf, -inf]], device='cuda:0',\n",
      "       grad_fn=<MaskedFillBackward0>), tensor([[-inf, -inf, -inf,  ..., -inf, -inf, -inf],\n",
      "        [-inf, -inf, -inf,  ..., -inf, -inf, -inf],\n",
      "        [-inf, -inf, -inf,  ..., -inf, -inf, -inf],\n",
      "        ...,\n",
      "        [-inf, -inf, -inf,  ..., -inf, -inf, -inf],\n",
      "        [-inf, -inf, -inf,  ..., -inf, -inf, -inf],\n",
      "        [-inf, -inf, -inf,  ..., -inf, -inf, -inf]], device='cuda:0',\n",
      "       grad_fn=<MaskedFillBackward0>), tensor([[-inf, -inf, -inf,  ..., -inf, -inf, -inf],\n",
      "        [-inf, -inf, -inf,  ..., -inf, -inf, -inf],\n",
      "        [-inf, -inf, -inf,  ..., -inf, -inf, -inf],\n",
      "        ...,\n",
      "        [-inf, -inf, -inf,  ..., -inf, -inf, -inf],\n",
      "        [-inf, -inf, -inf,  ..., -inf, -inf, -inf],\n",
      "        [-inf, -inf, -inf,  ..., -inf, -inf, -inf]], device='cuda:0',\n",
      "       grad_fn=<MaskedFillBackward0>), tensor([[-inf, -inf, -inf,  ..., -inf, -inf, -inf],\n",
      "        [-inf, -inf, -inf,  ..., -inf, -inf, -inf],\n",
      "        [-inf, -inf, -inf,  ..., -inf, -inf, -inf],\n",
      "        ...,\n",
      "        [-inf, -inf, -inf,  ..., -inf, -inf, -inf],\n",
      "        [-inf, -inf, -inf,  ..., -inf, -inf, -inf],\n",
      "        [-inf, -inf, -inf,  ..., -inf, -inf, -inf]], device='cuda:0',\n",
      "       grad_fn=<MaskedFillBackward0>), tensor([[-inf, -inf, -inf,  ..., -inf, -inf, -inf],\n",
      "        [-inf, -inf, -inf,  ..., -inf, -inf, -inf],\n",
      "        [-inf, -inf, -inf,  ..., -inf, -inf, -inf],\n",
      "        ...,\n",
      "        [-inf, -inf, -inf,  ..., -inf, -inf, -inf],\n",
      "        [-inf, -inf, -inf,  ..., -inf, -inf, -inf],\n",
      "        [-inf, -inf, -inf,  ..., -inf, -inf, -inf]], device='cuda:0',\n",
      "       grad_fn=<MaskedFillBackward0>), tensor([[-inf, -inf, -inf,  ..., -inf, -inf, -inf],\n",
      "        [-inf, -inf, -inf,  ..., -inf, -inf, -inf],\n",
      "        [-inf, -inf, -inf,  ..., -inf, -inf, -inf],\n",
      "        ...,\n",
      "        [-inf, -inf, -inf,  ..., -inf, -inf, -inf],\n",
      "        [-inf, -inf, -inf,  ..., -inf, -inf, -inf],\n",
      "        [-inf, -inf, -inf,  ..., -inf, -inf, -inf]], device='cuda:0',\n",
      "       grad_fn=<MaskedFillBackward0>), tensor([[-inf, -inf, -inf,  ..., -inf, -inf, -inf],\n",
      "        [-inf, -inf, -inf,  ..., -inf, -inf, -inf],\n",
      "        [-inf, -inf, -inf,  ..., -inf, -inf, -inf],\n",
      "        ...,\n",
      "        [-inf, -inf, -inf,  ..., -inf, -inf, -inf],\n",
      "        [-inf, -inf, -inf,  ..., -inf, -inf, -inf],\n",
      "        [-inf, -inf, -inf,  ..., -inf, -inf, -inf]], device='cuda:0',\n",
      "       grad_fn=<MaskedFillBackward0>), tensor([[-inf, -inf, -inf,  ..., -inf, -inf, -inf],\n",
      "        [-inf, -inf, -inf,  ..., -inf, -inf, -inf],\n",
      "        [-inf, -inf, -inf,  ..., -inf, -inf, -inf],\n",
      "        ...,\n",
      "        [-inf, -inf, -inf,  ..., -inf, -inf, -inf],\n",
      "        [-inf, -inf, -inf,  ..., -inf, -inf, -inf],\n",
      "        [-inf, -inf, -inf,  ..., -inf, -inf, -inf]], device='cuda:0',\n",
      "       grad_fn=<MaskedFillBackward0>), tensor([[   -inf,    -inf,    -inf,  ...,    -inf,    -inf,    -inf],\n",
      "        [   -inf,    -inf,    -inf,  ...,    -inf,    -inf,    -inf],\n",
      "        [   -inf,    -inf,    -inf,  ...,    -inf,    -inf,    -inf],\n",
      "        ...,\n",
      "        [   -inf, -6.3772,    -inf,  ...,    -inf,    -inf,    -inf],\n",
      "        [   -inf,    -inf,    -inf,  ...,    -inf,    -inf,    -inf],\n",
      "        [   -inf,    -inf,    -inf,  ...,    -inf,    -inf,    -inf]],\n",
      "       device='cuda:0', grad_fn=<MaskedFillBackward0>), tensor([[   -inf,    -inf,    -inf,  ...,    -inf,    -inf,    -inf],\n",
      "        [   -inf,    -inf,    -inf,  ...,    -inf,    -inf,    -inf],\n",
      "        [   -inf,    -inf,    -inf,  ...,    -inf,    -inf,    -inf],\n",
      "        ...,\n",
      "        [   -inf, -3.5120,    -inf,  ...,    -inf,    -inf,    -inf],\n",
      "        [   -inf,    -inf,    -inf,  ...,    -inf,    -inf,    -inf],\n",
      "        [   -inf,    -inf,    -inf,  ...,    -inf,    -inf,    -inf]],\n",
      "       device='cuda:0', grad_fn=<MaskedFillBackward0>), tensor([[   -inf,    -inf,    -inf,  ...,    -inf,    -inf,    -inf],\n",
      "        [   -inf,    -inf,    -inf,  ...,    -inf,    -inf,    -inf],\n",
      "        [   -inf,    -inf,    -inf,  ...,    -inf,    -inf,    -inf],\n",
      "        ...,\n",
      "        [   -inf, -0.4023,    -inf,  ...,    -inf,    -inf,    -inf],\n",
      "        [   -inf, -3.5866,    -inf,  ...,    -inf,    -inf,    -inf],\n",
      "        [   -inf, -5.6251,    -inf,  ...,    -inf,    -inf,    -inf]],\n",
      "       device='cuda:0', grad_fn=<MaskedFillBackward0>), tensor([[   -inf,    -inf,    -inf,  ...,    -inf,    -inf,    -inf],\n",
      "        [   -inf,    -inf,    -inf,  ...,    -inf,    -inf,    -inf],\n",
      "        [   -inf,    -inf,    -inf,  ...,    -inf,    -inf,    -inf],\n",
      "        ...,\n",
      "        [   -inf, -2.7691,    -inf,  ...,    -inf,    -inf,    -inf],\n",
      "        [   -inf, -6.5331,    -inf,  ...,    -inf,    -inf,    -inf],\n",
      "        [   -inf, -1.3966,    -inf,  ...,    -inf,    -inf,    -inf]],\n",
      "       device='cuda:0', grad_fn=<MaskedFillBackward0>), tensor([[   -inf,    -inf,    -inf,  ...,    -inf,    -inf,    -inf],\n",
      "        [   -inf,    -inf,    -inf,  ...,    -inf,    -inf,    -inf],\n",
      "        [   -inf,    -inf,    -inf,  ...,    -inf,    -inf,    -inf],\n",
      "        ...,\n",
      "        [   -inf, -4.2960,    -inf,  ...,    -inf,    -inf,    -inf],\n",
      "        [   -inf,  0.9212,    -inf,  ...,    -inf,    -inf,    -inf],\n",
      "        [   -inf, -2.4318,    -inf,  ...,    -inf,    -inf,    -inf]],\n",
      "       device='cuda:0', grad_fn=<MaskedFillBackward0>), tensor([[   -inf,    -inf,    -inf,  ...,    -inf,    -inf,    -inf],\n",
      "        [   -inf,    -inf,    -inf,  ...,    -inf,    -inf,    -inf],\n",
      "        [   -inf,    -inf,    -inf,  ...,    -inf,    -inf,    -inf],\n",
      "        ...,\n",
      "        [   -inf, -5.8062,    -inf,  ...,    -inf,    -inf,    -inf],\n",
      "        [   -inf, -3.4612,    -inf,  ...,    -inf,    -inf,    -inf],\n",
      "        [   -inf, -4.7799,    -inf,  ...,    -inf,    -inf,    -inf]],\n",
      "       device='cuda:0', grad_fn=<MaskedFillBackward0>), tensor([[   -inf, -3.6339,    -inf,  ...,    -inf,    -inf,    -inf],\n",
      "        [   -inf,    -inf,    -inf,  ...,    -inf,    -inf,    -inf],\n",
      "        [   -inf,    -inf,    -inf,  ...,    -inf,    -inf,    -inf],\n",
      "        ...,\n",
      "        [   -inf, -4.0268,    -inf,  ...,    -inf,    -inf,    -inf],\n",
      "        [   -inf, -4.1725,    -inf,  ...,    -inf,    -inf,    -inf],\n",
      "        [   -inf, -4.4703,    -inf,  ...,    -inf,    -inf,    -inf]],\n",
      "       device='cuda:0', grad_fn=<MaskedFillBackward0>), tensor([[   -inf, -0.4231,    -inf,  ...,    -inf,    -inf,    -inf],\n",
      "        [   -inf,    -inf,    -inf,  ...,    -inf,    -inf,    -inf],\n",
      "        [   -inf,    -inf,    -inf,  ...,    -inf,    -inf,    -inf],\n",
      "        ...,\n",
      "        [   -inf, -5.6375,    -inf,  ...,    -inf,    -inf,    -inf],\n",
      "        [   -inf, -4.5347,    -inf,  ...,    -inf,    -inf,    -inf],\n",
      "        [   -inf, -6.6631,    -inf,  ...,    -inf,    -inf,    -inf]],\n",
      "       device='cuda:0', grad_fn=<MaskedFillBackward0>), tensor([[   -inf, -3.4586,    -inf,  ...,    -inf,    -inf,    -inf],\n",
      "        [   -inf, -2.4526,    -inf,  ...,    -inf,    -inf,    -inf],\n",
      "        [   -inf,    -inf,    -inf,  ...,    -inf,    -inf,    -inf],\n",
      "        ...,\n",
      "        [   -inf, -7.9338,    -inf,  ...,    -inf,    -inf,    -inf],\n",
      "        [   -inf, -4.3238,    -inf,  ...,    -inf,    -inf,    -inf],\n",
      "        [   -inf, -5.8802,    -inf,  ...,    -inf,    -inf,    -inf]],\n",
      "       device='cuda:0', grad_fn=<MaskedFillBackward0>), tensor([[   -inf, -1.9022,    -inf,  ...,    -inf,    -inf,    -inf],\n",
      "        [   -inf, -7.9999,    -inf,  ...,    -inf,    -inf,    -inf],\n",
      "        [   -inf,    -inf,    -inf,  ...,    -inf,    -inf,    -inf],\n",
      "        ...,\n",
      "        [   -inf, -4.8806,    -inf,  ...,    -inf,    -inf,    -inf],\n",
      "        [   -inf, -6.5042,    -inf,  ...,    -inf,    -inf,    -inf],\n",
      "        [   -inf, -2.8539,    -inf,  ...,    -inf,    -inf,    -inf]],\n",
      "       device='cuda:0', grad_fn=<MaskedFillBackward0>), tensor([[   -inf, -8.1682,    -inf,  ...,    -inf,    -inf,    -inf],\n",
      "        [   -inf, -5.4580,    -inf,  ...,    -inf,    -inf,    -inf],\n",
      "        [   -inf, -5.5394,    -inf,  ...,    -inf,    -inf,    -inf],\n",
      "        ...,\n",
      "        [   -inf, -7.6079,    -inf,  ...,    -inf,    -inf,    -inf],\n",
      "        [   -inf, -2.8841,    -inf,  ...,    -inf,    -inf,    -inf],\n",
      "        [   -inf, -6.5317,    -inf,  ...,    -inf,    -inf,    -inf]],\n",
      "       device='cuda:0', grad_fn=<MaskedFillBackward0>), tensor([[   -inf, -5.1611,    -inf,  ...,    -inf,    -inf,    -inf],\n",
      "        [   -inf, -1.9809,    -inf,  ...,    -inf,    -inf,    -inf],\n",
      "        [   -inf, -0.4480,    -inf,  ...,    -inf,    -inf,    -inf],\n",
      "        ...,\n",
      "        [   -inf, -4.6560,    -inf,  ...,    -inf,    -inf,    -inf],\n",
      "        [   -inf, -7.6520,    -inf,  ...,    -inf,    -inf,    -inf],\n",
      "        [   -inf, -3.3966,    -inf,  ...,    -inf,    -inf,    -inf]],\n",
      "       device='cuda:0', grad_fn=<MaskedFillBackward0>)), encoder_attentions=None, encoder_hidden_states=None, decoder_attentions=None, cross_attentions=None, decoder_hidden_states=None),)\n"
     ]
    },
    {
     "name": "stdout",
     "output_type": "stream",
     "text": [
      "\n",
      "\n",
      "ipdb> ll\n",
      "\u001b[1;32m    166 \u001b[0m    \u001b[0;32mdef\u001b[0m \u001b[0m_training_step\u001b[0m\u001b[0;34m(\u001b[0m\u001b[0mself\u001b[0m\u001b[0;34m,\u001b[0m \u001b[0mdata\u001b[0m\u001b[0;34m,\u001b[0m \u001b[0mraw\u001b[0m\u001b[0;34m)\u001b[0m\u001b[0;34m:\u001b[0m\u001b[0;34m\u001b[0m\u001b[0;34m\u001b[0m\u001b[0m\n",
      "\u001b[1;32m    167 \u001b[0m        \"\"\"Forward pass, loss function, backwards pass, parameter update (with gradient accumulation optional),\n",
      "\u001b[1;32m    168 \u001b[0m        \u001b[0mrecording\u001b[0m \u001b[0mresults\u001b[0m\u001b[0;34m,\u001b[0m \u001b[0mwandb\u001b[0m \u001b[0mlogging\u001b[0m\u001b[0;34m.\u001b[0m\u001b[0;34m\u001b[0m\u001b[0;34m\u001b[0m\u001b[0m\n",
      "\u001b[1;32m    169 \u001b[0m        \"\"\"\n",
      "\u001b[1;32m    170 \u001b[0m        \u001b[0;32mif\u001b[0m \u001b[0;32mnot\u001b[0m \u001b[0mself\u001b[0m\u001b[0;34m.\u001b[0m\u001b[0mpp_model\u001b[0m\u001b[0;34m.\u001b[0m\u001b[0mtraining\u001b[0m\u001b[0;34m:\u001b[0m \u001b[0mself\u001b[0m\u001b[0;34m.\u001b[0m\u001b[0mpp_model\u001b[0m\u001b[0;34m.\u001b[0m\u001b[0mtrain\u001b[0m\u001b[0;34m(\u001b[0m\u001b[0;34m)\u001b[0m\u001b[0;34m\u001b[0m\u001b[0;34m\u001b[0m\u001b[0m\n",
      "\u001b[1;32m    171 \u001b[0m        \u001b[0;32mif\u001b[0m \u001b[0;32mnot\u001b[0m \u001b[0mself\u001b[0m\u001b[0;34m.\u001b[0m\u001b[0mvm_model\u001b[0m\u001b[0;34m.\u001b[0m\u001b[0mtraining\u001b[0m\u001b[0;34m:\u001b[0m \u001b[0mself\u001b[0m\u001b[0;34m.\u001b[0m\u001b[0mvm_model\u001b[0m\u001b[0;34m.\u001b[0m\u001b[0mtrain\u001b[0m\u001b[0;34m(\u001b[0m\u001b[0;34m)\u001b[0m\u001b[0;34m\u001b[0m\u001b[0;34m\u001b[0m\u001b[0m\n",
      "\u001b[1;32m    172 \u001b[0m        \u001b[0;32mfor\u001b[0m \u001b[0mk\u001b[0m \u001b[0;32min\u001b[0m \u001b[0;34m[\u001b[0m\u001b[0;34m'input_ids'\u001b[0m\u001b[0;34m,\u001b[0m \u001b[0;34m'attention_mask'\u001b[0m\u001b[0;34m,\u001b[0m \u001b[0;34m'label'\u001b[0m\u001b[0;34m,\u001b[0m \u001b[0;34m\"orig_truelabel_probs\"\u001b[0m\u001b[0;34m,\u001b[0m \u001b[0;34m\"orig_sts_embeddings\"\u001b[0m\u001b[0;34m]\u001b[0m\u001b[0;34m:\u001b[0m \u001b[0mdata\u001b[0m\u001b[0;34m[\u001b[0m\u001b[0mk\u001b[0m\u001b[0;34m]\u001b[0m \u001b[0;34m=\u001b[0m \u001b[0mdata\u001b[0m\u001b[0;34m[\u001b[0m\u001b[0mk\u001b[0m\u001b[0;34m]\u001b[0m\u001b[0;34m.\u001b[0m\u001b[0mto\u001b[0m\u001b[0;34m(\u001b[0m\u001b[0mself\u001b[0m\u001b[0;34m.\u001b[0m\u001b[0m_cfg\u001b[0m\u001b[0;34m.\u001b[0m\u001b[0mdevice\u001b[0m\u001b[0;34m)\u001b[0m\u001b[0;34m\u001b[0m\u001b[0;34m\u001b[0m\u001b[0m\n",
      "\u001b[1;32m    173 \u001b[0m        \u001b[0;32mwith\u001b[0m \u001b[0mtimecode\u001b[0m\u001b[0;34m(\u001b[0m\u001b[0;34m)\u001b[0m \u001b[0;32mas\u001b[0m \u001b[0mself\u001b[0m\u001b[0;34m.\u001b[0m\u001b[0mbatch_time_d\u001b[0m\u001b[0;34m[\u001b[0m\u001b[0;34m'time_generate_pp'\u001b[0m\u001b[0;34m]\u001b[0m\u001b[0;34m:\u001b[0m\u001b[0;34m\u001b[0m\u001b[0;34m\u001b[0m\u001b[0m\n",
      "\u001b[1;32m    174 \u001b[0m            pp_output = self.pp_model.generate_with_grad(\n",
      "\u001b[1;32m    175 \u001b[0m                \u001b[0minput_ids\u001b[0m\u001b[0;34m=\u001b[0m\u001b[0mdata\u001b[0m\u001b[0;34m[\u001b[0m\u001b[0;34m'input_ids'\u001b[0m\u001b[0;34m]\u001b[0m\u001b[0;34m,\u001b[0m \u001b[0mattention_mask\u001b[0m\u001b[0;34m=\u001b[0m\u001b[0mdata\u001b[0m\u001b[0;34m[\u001b[0m\u001b[0;34m'attention_mask'\u001b[0m\u001b[0;34m]\u001b[0m\u001b[0;34m,\u001b[0m\u001b[0;34m\u001b[0m\u001b[0;34m\u001b[0m\u001b[0m\n",
      "\u001b[1;32m    176 \u001b[0m                \u001b[0mnum_return_sequences\u001b[0m\u001b[0;34m=\u001b[0m\u001b[0;36m1\u001b[0m\u001b[0;34m,\u001b[0m \u001b[0mnum_beams\u001b[0m\u001b[0;34m=\u001b[0m\u001b[0;36m1\u001b[0m\u001b[0;34m,\u001b[0m \u001b[0;34m**\u001b[0m\u001b[0mself\u001b[0m\u001b[0;34m.\u001b[0m\u001b[0m_cfg\u001b[0m\u001b[0;34m.\u001b[0m\u001b[0mgen_params_train\u001b[0m\u001b[0;34m,\u001b[0m\u001b[0;34m\u001b[0m\u001b[0;34m\u001b[0m\u001b[0m\n",
      "\u001b[1;32m    177 \u001b[0m                \u001b[0mmin_length\u001b[0m\u001b[0;34m=\u001b[0m\u001b[0mself\u001b[0m\u001b[0;34m.\u001b[0m\u001b[0m_cfg\u001b[0m\u001b[0;34m.\u001b[0m\u001b[0mmin_pp_length\u001b[0m\u001b[0;34m,\u001b[0m \u001b[0mmax_length\u001b[0m\u001b[0;34m=\u001b[0m\u001b[0mself\u001b[0m\u001b[0;34m.\u001b[0m\u001b[0m_cfg\u001b[0m\u001b[0;34m.\u001b[0m\u001b[0mmax_pp_length\u001b[0m\u001b[0;34m,\u001b[0m\u001b[0;34m\u001b[0m\u001b[0;34m\u001b[0m\u001b[0m\n",
      "\u001b[1;32m    178 \u001b[0m                return_dict_in_generate=True, output_scores=True), # remove_invalid_values=False,\n",
      "\u001b[1;32m    179 \u001b[0m               \u001b[0;31m# pad_token_id = self.pp_tokenizer.pad_token_id, eos_token_id = self.pp_tokenizer.eos_token_id\u001b[0m\u001b[0;34m\u001b[0m\u001b[0;34m\u001b[0m\u001b[0;34m\u001b[0m\u001b[0m\n",
      "\u001b[0;32m--> 180 \u001b[0;31m            \u001b[0mpp_l\u001b[0m \u001b[0;34m=\u001b[0m \u001b[0mself\u001b[0m\u001b[0;34m.\u001b[0m\u001b[0mpp_tokenizer\u001b[0m\u001b[0;34m.\u001b[0m\u001b[0mbatch_decode\u001b[0m\u001b[0;34m(\u001b[0m\u001b[0mpp_output\u001b[0m\u001b[0;34m.\u001b[0m\u001b[0msequences\u001b[0m\u001b[0;34m,\u001b[0m \u001b[0mskip_special_tokens\u001b[0m\u001b[0;34m=\u001b[0m\u001b[0;32mTrue\u001b[0m\u001b[0;34m)\u001b[0m\u001b[0;34m\u001b[0m\u001b[0;34m\u001b[0m\u001b[0m\n",
      "\u001b[0m\u001b[1;32m    181 \u001b[0m        \u001b[0;31m# Update_batch_size_and_length_variables\u001b[0m\u001b[0;34m\u001b[0m\u001b[0;34m\u001b[0m\u001b[0;34m\u001b[0m\u001b[0m\n",
      "\u001b[1;32m    182 \u001b[0m        \u001b[0mself\u001b[0m\u001b[0;34m.\u001b[0m\u001b[0morig_batch_size\u001b[0m\u001b[0;34m,\u001b[0m\u001b[0mself\u001b[0m\u001b[0;34m.\u001b[0m\u001b[0morig_length\u001b[0m \u001b[0;34m=\u001b[0m   \u001b[0mdata\u001b[0m\u001b[0;34m[\u001b[0m\u001b[0;34m'input_ids'\u001b[0m\u001b[0;34m]\u001b[0m\u001b[0;34m.\u001b[0m\u001b[0mshape\u001b[0m\u001b[0;34m[\u001b[0m\u001b[0;36m0\u001b[0m\u001b[0;34m]\u001b[0m\u001b[0;34m,\u001b[0m   \u001b[0mdata\u001b[0m\u001b[0;34m[\u001b[0m\u001b[0;34m'input_ids'\u001b[0m\u001b[0;34m]\u001b[0m\u001b[0;34m.\u001b[0m\u001b[0mshape\u001b[0m\u001b[0;34m[\u001b[0m\u001b[0;36m1\u001b[0m\u001b[0;34m]\u001b[0m\u001b[0;34m\u001b[0m\u001b[0;34m\u001b[0m\u001b[0m\n",
      "\u001b[1;32m    183 \u001b[0m        \u001b[0mself\u001b[0m\u001b[0;34m.\u001b[0m\u001b[0mpp_batch_size\u001b[0m\u001b[0;34m,\u001b[0m  \u001b[0mself\u001b[0m\u001b[0;34m.\u001b[0m\u001b[0mpp_length\u001b[0m   \u001b[0;34m=\u001b[0m \u001b[0mpp_output\u001b[0m\u001b[0;34m.\u001b[0m\u001b[0msequences\u001b[0m\u001b[0;34m.\u001b[0m\u001b[0mshape\u001b[0m\u001b[0;34m[\u001b[0m\u001b[0;36m0\u001b[0m\u001b[0;34m]\u001b[0m\u001b[0;34m,\u001b[0m \u001b[0mpp_output\u001b[0m\u001b[0;34m.\u001b[0m\u001b[0msequences\u001b[0m\u001b[0;34m.\u001b[0m\u001b[0mshape\u001b[0m\u001b[0;34m[\u001b[0m\u001b[0;36m1\u001b[0m\u001b[0;34m]\u001b[0m\u001b[0;34m\u001b[0m\u001b[0;34m\u001b[0m\u001b[0m\n",
      "\u001b[1;32m    184 \u001b[0m        \u001b[0;31m# Loss function, backwards pass, optimizer step + measure gradient update norm\u001b[0m\u001b[0;34m\u001b[0m\u001b[0;34m\u001b[0m\u001b[0;34m\u001b[0m\u001b[0m\n",
      "\u001b[1;32m    185 \u001b[0m        \u001b[0;32mwith\u001b[0m \u001b[0mtimecode\u001b[0m\u001b[0;34m(\u001b[0m\u001b[0;34m)\u001b[0m \u001b[0;32mas\u001b[0m \u001b[0mself\u001b[0m\u001b[0;34m.\u001b[0m\u001b[0mbatch_time_d\u001b[0m\u001b[0;34m[\u001b[0m\u001b[0;34m'time_loss_fn'\u001b[0m\u001b[0;34m]\u001b[0m\u001b[0;34m:\u001b[0m            \u001b[0mloss_batch\u001b[0m \u001b[0;34m=\u001b[0m \u001b[0mself\u001b[0m\u001b[0;34m.\u001b[0m\u001b[0m_loss_fn\u001b[0m\u001b[0;34m(\u001b[0m\u001b[0mdata\u001b[0m\u001b[0;34m,\u001b[0m \u001b[0mraw\u001b[0m\u001b[0;34m,\u001b[0m \u001b[0mpp_output\u001b[0m\u001b[0;34m,\u001b[0m \u001b[0mpp_l\u001b[0m\u001b[0;34m)\u001b[0m\u001b[0;34m\u001b[0m\u001b[0;34m\u001b[0m\u001b[0m\n",
      "\u001b[1;32m    186 \u001b[0m        \u001b[0;32mwith\u001b[0m \u001b[0mtimecode\u001b[0m\u001b[0;34m(\u001b[0m\u001b[0;34m)\u001b[0m \u001b[0;32mas\u001b[0m \u001b[0mself\u001b[0m\u001b[0;34m.\u001b[0m\u001b[0mbatch_time_d\u001b[0m\u001b[0;34m[\u001b[0m\u001b[0;34m'time_backwards'\u001b[0m\u001b[0;34m]\u001b[0m\u001b[0;34m:\u001b[0m          \u001b[0mloss_batch\u001b[0m\u001b[0;34m.\u001b[0m\u001b[0mbackward\u001b[0m\u001b[0;34m(\u001b[0m\u001b[0;34m)\u001b[0m\u001b[0;34m\u001b[0m\u001b[0;34m\u001b[0m\u001b[0m\n",
      "\u001b[1;32m    187 \u001b[0m        \u001b[0;32mwith\u001b[0m \u001b[0mtimecode\u001b[0m\u001b[0;34m(\u001b[0m\u001b[0;34m)\u001b[0m \u001b[0;32mas\u001b[0m \u001b[0mself\u001b[0m\u001b[0;34m.\u001b[0m\u001b[0mbatch_time_d\u001b[0m\u001b[0;34m[\u001b[0m\u001b[0;34m'time_calc_gradient_norm'\u001b[0m\u001b[0;34m]\u001b[0m\u001b[0;34m:\u001b[0m \u001b[0mself\u001b[0m\u001b[0;34m.\u001b[0m\u001b[0mgrad_norm\u001b[0m \u001b[0;34m=\u001b[0m \u001b[0mself\u001b[0m\u001b[0;34m.\u001b[0m\u001b[0m_get_gradient_update_norm\u001b[0m\u001b[0;34m(\u001b[0m\u001b[0;34m)\u001b[0m\u001b[0;34m\u001b[0m\u001b[0;34m\u001b[0m\u001b[0m\n",
      "\u001b[1;32m    188 \u001b[0m        \u001b[0;32mwith\u001b[0m \u001b[0mtimecode\u001b[0m\u001b[0;34m(\u001b[0m\u001b[0;34m)\u001b[0m \u001b[0;32mas\u001b[0m \u001b[0mself\u001b[0m\u001b[0;34m.\u001b[0m\u001b[0mbatch_time_d\u001b[0m\u001b[0;34m[\u001b[0m\u001b[0;34m'time_opt_step_and_calc_param_norm'\u001b[0m\u001b[0;34m]\u001b[0m\u001b[0;34m:\u001b[0m\u001b[0;34m\u001b[0m\u001b[0;34m\u001b[0m\u001b[0m\n",
      "\u001b[1;32m    189 \u001b[0m            \u001b[0;32mif\u001b[0m \u001b[0mself\u001b[0m\u001b[0;34m.\u001b[0m\u001b[0m_batch_for_opt_step\u001b[0m\u001b[0;34m(\u001b[0m\u001b[0;34m)\u001b[0m\u001b[0;34m:\u001b[0m  \u001b[0mself\u001b[0m\u001b[0;34m.\u001b[0m\u001b[0m_opt_step_and_calc_param_norm\u001b[0m\u001b[0;34m(\u001b[0m\u001b[0;34m)\u001b[0m\u001b[0;34m\u001b[0m\u001b[0;34m\u001b[0m\u001b[0m\n",
      "\u001b[1;32m    190 \u001b[0m            \u001b[0;32melse\u001b[0m\u001b[0;34m:\u001b[0m\u001b[0;34m\u001b[0m\u001b[0;34m\u001b[0m\u001b[0m\n",
      "\u001b[1;32m    191 \u001b[0m                \u001b[0mself\u001b[0m\u001b[0;34m.\u001b[0m\u001b[0mparam_norm\u001b[0m \u001b[0;34m=\u001b[0m \u001b[0;36m0\u001b[0m\u001b[0;34m\u001b[0m\u001b[0;34m\u001b[0m\u001b[0m\n",
      "\u001b[1;32m    192 \u001b[0m                \u001b[0;32mwith\u001b[0m \u001b[0mtimecode\u001b[0m\u001b[0;34m(\u001b[0m\u001b[0;34m)\u001b[0m \u001b[0;32mas\u001b[0m \u001b[0mself\u001b[0m\u001b[0;34m.\u001b[0m\u001b[0mbatch_time_d\u001b[0m\u001b[0;34m[\u001b[0m\u001b[0;34m'time_opt_step'\u001b[0m\u001b[0;34m]\u001b[0m\u001b[0;34m:\u001b[0m \u001b[0;32mpass\u001b[0m  \u001b[0;31m# need some value here\u001b[0m\u001b[0;34m\u001b[0m\u001b[0;34m\u001b[0m\u001b[0m\n",
      "\u001b[1;32m    193 \u001b[0m        \u001b[0;31m# Gather values, append to containers, log to wandb\u001b[0m\u001b[0;34m\u001b[0m\u001b[0;34m\u001b[0m\u001b[0;34m\u001b[0m\u001b[0m\n",
      "\u001b[1;32m    194 \u001b[0m        \u001b[0mself\u001b[0m\u001b[0;34m.\u001b[0m\u001b[0m_prepare_train_batch_d\u001b[0m\u001b[0;34m(\u001b[0m\u001b[0mraw\u001b[0m\u001b[0;34m,\u001b[0m \u001b[0mdata\u001b[0m\u001b[0;34m,\u001b[0m \u001b[0mpp_l\u001b[0m\u001b[0;34m)\u001b[0m\u001b[0;34m\u001b[0m\u001b[0;34m\u001b[0m\u001b[0m\n",
      "\u001b[1;32m    195 \u001b[0m        \u001b[0mself\u001b[0m\u001b[0;34m.\u001b[0m\u001b[0mtrain_batch_results\u001b[0m\u001b[0;34m.\u001b[0m\u001b[0mappend\u001b[0m\u001b[0;34m(\u001b[0m\u001b[0mself\u001b[0m\u001b[0;34m.\u001b[0m\u001b[0mbatch_d\u001b[0m\u001b[0;34m)\u001b[0m\u001b[0;34m\u001b[0m\u001b[0;34m\u001b[0m\u001b[0m\n",
      "\u001b[1;32m    196 \u001b[0m        \u001b[0mself\u001b[0m\u001b[0;34m.\u001b[0m\u001b[0m_wandb_log_training_step\u001b[0m\u001b[0;34m(\u001b[0m\u001b[0;34m)\u001b[0m\u001b[0;34m\u001b[0m\u001b[0;34m\u001b[0m\u001b[0m\n",
      "\u001b[1;32m    197 \u001b[0m\u001b[0;34m\u001b[0m\u001b[0m\n",
      "\n",
      "ipdb> q\n"
     ]
    }
   ],
   "source": [
    "%debug"
   ]
  },
  {
   "cell_type": "code",
   "execution_count": null,
   "metadata": {},
   "outputs": [],
   "source": [
    "#df = pd.read_csv(cfg.path_results + \"run_results.csv\")\n",
    "#display_all(df)"
   ]
  },
  {
   "cell_type": "code",
   "execution_count": null,
   "metadata": {},
   "outputs": [],
   "source": [
    "# df = pd.read_csv(f'{cfg.path_run}training_step.csv')\n",
    "# #display_all(df.query('idx==1'))\n",
    "# df.columns"
   ]
  },
  {
   "cell_type": "code",
   "execution_count": null,
   "metadata": {},
   "outputs": [],
   "source": [
    "#trainer.run.finish()"
   ]
  },
  {
   "cell_type": "code",
   "execution_count": null,
   "metadata": {},
   "outputs": [],
   "source": [
    "# # ## TO RESUME RUN\n",
    "# cfg = Config()\n",
    "# cfg.run_id = 'b9r88lmz'\n",
    "# cfg.run_name = \"fresh-cosmos-151\"\n",
    "# cfg.path_run = f\"{cfg.path_checkpoints}{cfg.run_name}/\"\n",
    "# run = resume_wandb_run(cfg)\n"
   ]
  },
  {
   "cell_type": "code",
   "execution_count": null,
   "metadata": {},
   "outputs": [],
   "source": [
    "cfg.path_run"
   ]
  },
  {
   "cell_type": "code",
   "execution_count": null,
   "metadata": {},
   "outputs": [],
   "source": [
    "df_d = get_training_dfs(cfg.path_run, postprocessed=False)\n",
    "for k, df in df_d.items(): \n",
    "    df_d[k] = postprocess_df(df, filter_idx=None, num_proc=1)\n",
    "    df_d[k].to_pickle(f\"{cfg.path_run}{k}_postprocessed.pkl\")    \n",
    "create_and_log_wandb_postrun_plots(df_d)\n",
    "trainer.run.finish()\n",
    "#run.finish()"
   ]
  },
  {
   "cell_type": "code",
   "execution_count": null,
   "metadata": {},
   "outputs": [],
   "source": []
  }
 ],
 "metadata": {
  "kernelspec": {
   "display_name": "Python 3",
   "language": "python",
   "name": "python3"
  }
 },
 "nbformat": 4,
 "nbformat_minor": 4
}
