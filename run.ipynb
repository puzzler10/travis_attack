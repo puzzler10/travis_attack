{
 "cells": [
  {
   "cell_type": "code",
   "execution_count": null,
   "metadata": {},
   "outputs": [],
   "source": [
    "%load_ext autoreload\n",
    "%autoreload 2\n",
    "%load_ext line_profiler"
   ]
  },
  {
   "cell_type": "code",
   "execution_count": null,
   "metadata": {},
   "outputs": [],
   "source": [
    "## Imports and environment variables \n",
    "import os\n",
    "import torch\n",
    "\n",
    "from travis_attack.utils import set_seed, set_session_options, setup_logging, resume_wandb_run, display_all\n",
    "from travis_attack.config import Config\n",
    "from travis_attack.models import prepare_models, get_optimizer\n",
    "from travis_attack.data import ProcessedDataset\n",
    "from travis_attack.trainer import Trainer\n",
    "from travis_attack.insights import postprocess_df, create_and_log_wandb_postrun_plots"
   ]
  },
  {
   "cell_type": "code",
   "execution_count": null,
   "metadata": {},
   "outputs": [],
   "source": [
    "import logging \n",
    "logger = logging.getLogger(\"run\")"
   ]
  },
  {
   "cell_type": "code",
   "execution_count": null,
   "metadata": {},
   "outputs": [
    {
     "name": "stderr",
     "output_type": "stream",
     "text": [
      "sentence_transformers.SentenceTransformer: INFO     Load pretrained SentenceTransformer: sentence-transformers/paraphrase-multilingual-MiniLM-L12-v2\n",
      "sentence_transformers.SentenceTransformer: INFO     Load pretrained SentenceTransformer: sentence-transformers/paraphrase-multilingual-MiniLM-L12-v2\n",
      "sentence_transformers.SentenceTransformer: INFO     Load pretrained SentenceTransformer: sentence-transformers/paraphrase-multilingual-MiniLM-L12-v2\n",
      "sentence_transformers.SentenceTransformer: INFO     Did not find folder sentence-transformers/paraphrase-multilingual-MiniLM-L12-v2\n",
      "sentence_transformers.SentenceTransformer: INFO     Did not find folder sentence-transformers/paraphrase-multilingual-MiniLM-L12-v2\n",
      "sentence_transformers.SentenceTransformer: INFO     Did not find folder sentence-transformers/paraphrase-multilingual-MiniLM-L12-v2\n",
      "sentence_transformers.SentenceTransformer: INFO     Search model on server: http://sbert.net/models/sentence-transformers/paraphrase-multilingual-MiniLM-L12-v2.zip\n",
      "sentence_transformers.SentenceTransformer: INFO     Search model on server: http://sbert.net/models/sentence-transformers/paraphrase-multilingual-MiniLM-L12-v2.zip\n",
      "sentence_transformers.SentenceTransformer: INFO     Search model on server: http://sbert.net/models/sentence-transformers/paraphrase-multilingual-MiniLM-L12-v2.zip\n",
      "sentence_transformers.SentenceTransformer: INFO     Load SentenceTransformer from folder: /home/tproth/.cache/torch/sentence_transformers/sbert.net_models_sentence-transformers_paraphrase-multilingual-MiniLM-L12-v2\n",
      "sentence_transformers.SentenceTransformer: INFO     Load SentenceTransformer from folder: /home/tproth/.cache/torch/sentence_transformers/sbert.net_models_sentence-transformers_paraphrase-multilingual-MiniLM-L12-v2\n",
      "sentence_transformers.SentenceTransformer: INFO     Load SentenceTransformer from folder: /home/tproth/.cache/torch/sentence_transformers/sbert.net_models_sentence-transformers_paraphrase-multilingual-MiniLM-L12-v2\n",
      "sentence_transformers.SentenceTransformer: INFO     Use pytorch device: cuda\n",
      "sentence_transformers.SentenceTransformer: INFO     Use pytorch device: cuda\n",
      "sentence_transformers.SentenceTransformer: INFO     Use pytorch device: cuda\n",
      "travis_attack.data: INFO     Will load dataset rotten_tomatoes with use_small_ds set to True\n",
      "travis_attack.data: INFO     Will load dataset rotten_tomatoes with use_small_ds set to True\n",
      "travis_attack.data: INFO     Will load dataset rotten_tomatoes with use_small_ds set to True\n",
      "travis_attack.data: INFO     Cache file found for processed dataset, so loading that dataset.\n",
      "travis_attack.data: INFO     Cache file found for processed dataset, so loading that dataset.\n",
      "travis_attack.data: INFO     Cache file found for processed dataset, so loading that dataset.\n"
     ]
    }
   ],
   "source": [
    "cfg = Config()\n",
    "if cfg.dataset_name == \"rotten_tomatoes\": cfg = cfg.small_ds()\n",
    "set_seed(cfg.seed)\n",
    "set_session_options()\n",
    "setup_logging(cfg, disable_other_loggers=False)\n",
    "vm_tokenizer, vm_model, pp_tokenizer, pp_model, sts_model, cfg = prepare_models(cfg)\n",
    "optimizer = get_optimizer(cfg, pp_model)\n",
    "ds = ProcessedDataset(cfg, vm_tokenizer, vm_model, pp_tokenizer, sts_model, load_processed_from_file=True)"
   ]
  },
  {
   "cell_type": "code",
   "execution_count": null,
   "metadata": {},
   "outputs": [
    {
     "name": "stderr",
     "output_type": "stream",
     "text": [
      "/data/tproth/travis_attack/travis_attack/trainer.py:87: UserWarning: Config set to do gradient accumulation every 4 batches, and there are             15 total training steps, so there will be 3 batches at             the end that will not be trained on.\n",
      "  warnings.warn(msg)\n"
     ]
    },
    {
     "data": {
      "text/html": [
       "Finishing last run (ID:1l3lj1tz) before initializing another..."
      ],
      "text/plain": [
       "<IPython.core.display.HTML object>"
      ]
     },
     "metadata": {},
     "output_type": "display_data"
    },
    {
     "data": {
      "text/html": [
       "<br/>Waiting for W&B process to finish, PID 6964... <strong style=\"color:green\">(success).</strong>"
      ],
      "text/plain": [
       "<IPython.core.display.HTML object>"
      ]
     },
     "metadata": {},
     "output_type": "display_data"
    },
    {
     "data": {
      "application/vnd.jupyter.widget-view+json": {
       "model_id": "",
       "version_major": 2,
       "version_minor": 0
      },
      "text/plain": [
       "VBox(children=(Label(value=' 0.11MB of 0.11MB uploaded (0.00MB deduped)\\r'), FloatProgress(value=1.0, max=1.0)…"
      ]
     },
     "metadata": {},
     "output_type": "display_data"
    },
    {
     "data": {
      "text/html": [
       "<style>\n",
       "    table.wandb td:nth-child(1) { padding: 0 10px; text-align: right }\n",
       "    .wandb-row { display: flex; flex-direction: row; flex-wrap: wrap; width: 100% }\n",
       "    .wandb-col { display: flex; flex-direction: column; flex-basis: 100%; flex: 1; padding: 10px; }\n",
       "    </style>\n",
       "<div class=\"wandb-row\"><div class=\"wandb-col\">\n",
       "</div><div class=\"wandb-col\">\n",
       "</div></div>\n",
       "Synced 6 W&B file(s), 0 media file(s), 14 artifact file(s) and 1 other file(s)\n",
       "<br/>Synced <strong style=\"color:#cdcd00\">dandy-energy-288</strong>: <a href=\"https://wandb.ai/uts_nlp/travis_attack/runs/1l3lj1tz\" target=\"_blank\">https://wandb.ai/uts_nlp/travis_attack/runs/1l3lj1tz</a><br/>\n",
       "Find logs at: <code>./wandb/run-20220309_134344-1l3lj1tz/logs</code><br/>\n"
      ],
      "text/plain": [
       "<IPython.core.display.HTML object>"
      ]
     },
     "metadata": {},
     "output_type": "display_data"
    },
    {
     "data": {
      "text/html": [
       "Successfully finished last run (ID:1l3lj1tz). Initializing new run:<br/>"
      ],
      "text/plain": [
       "<IPython.core.display.HTML object>"
      ]
     },
     "metadata": {},
     "output_type": "display_data"
    },
    {
     "name": "stderr",
     "output_type": "stream",
     "text": [
      "\u001b[34m\u001b[1mwandb\u001b[0m: wandb version 0.12.11 is available!  To upgrade, please run:\n",
      "\u001b[34m\u001b[1mwandb\u001b[0m:  $ pip install wandb --upgrade\n"
     ]
    },
    {
     "data": {
      "text/html": [
       "\n",
       "                    Syncing run <strong><a href=\"https://wandb.ai/uts_nlp/travis_attack/runs/61zaljb2\" target=\"_blank\">hearty-cherry-289</a></strong> to <a href=\"https://wandb.ai/uts_nlp/travis_attack\" target=\"_blank\">Weights & Biases</a> (<a href=\"https://docs.wandb.com/integrations/jupyter.html\" target=\"_blank\">docs</a>).<br/>\n",
       "\n",
       "                "
      ],
      "text/plain": [
       "<IPython.core.display.HTML object>"
      ]
     },
     "metadata": {},
     "output_type": "display_data"
    },
    {
     "name": "stdout",
     "output_type": "stream",
     "text": [
      "Launching training on one GPU.\n"
     ]
    },
    {
     "data": {
      "application/vnd.jupyter.widget-view+json": {
       "model_id": "c0bf27b98cb144c592f24e67c6e610c2",
       "version_major": 2,
       "version_minor": 0
      },
      "text/plain": [
       "  0%|          | 0/15 [00:00<?, ?it/s]"
      ]
     },
     "metadata": {},
     "output_type": "display_data"
    },
    {
     "name": "stderr",
     "output_type": "stream",
     "text": [
      "travis_attack.trainer: INFO     Now on epoch 1 of 5\n",
      "travis_attack.trainer: INFO     Now on epoch 1 of 5\n",
      "travis_attack.trainer: INFO     Now on epoch 1 of 5\n"
     ]
    },
    {
     "data": {
      "application/vnd.jupyter.widget-view+json": {
       "model_id": "891dec6b7a524af5b79001e0329505eb",
       "version_major": 2,
       "version_minor": 0
      },
      "text/plain": [
       "Batches:   0%|          | 0/5 [00:00<?, ?it/s]"
      ]
     },
     "metadata": {},
     "output_type": "display_data"
    },
    {
     "data": {
      "application/vnd.jupyter.widget-view+json": {
       "model_id": "51955ddd18874072a2d6e74eb2531497",
       "version_major": 2,
       "version_minor": 0
      },
      "text/plain": [
       "Batches:   0%|          | 0/5 [00:00<?, ?it/s]"
      ]
     },
     "metadata": {},
     "output_type": "display_data"
    },
    {
     "data": {
      "application/vnd.jupyter.widget-view+json": {
       "model_id": "f32a14fb1b4d4b35b561df71a8296e8b",
       "version_major": 2,
       "version_minor": 0
      },
      "text/plain": [
       "Batches:   0%|          | 0/1 [00:00<?, ?it/s]"
      ]
     },
     "metadata": {},
     "output_type": "display_data"
    },
    {
     "data": {
      "application/vnd.jupyter.widget-view+json": {
       "model_id": "ef71d782806440e8a305a465f9bcef5f",
       "version_major": 2,
       "version_minor": 0
      },
      "text/plain": [
       "Batches:   0%|          | 0/10 [00:00<?, ?it/s]"
      ]
     },
     "metadata": {},
     "output_type": "display_data"
    },
    {
     "data": {
      "application/vnd.jupyter.widget-view+json": {
       "model_id": "2ec8ea38c9994515a3a5afff8311769b",
       "version_major": 2,
       "version_minor": 0
      },
      "text/plain": [
       "Batches:   0%|          | 0/2 [00:00<?, ?it/s]"
      ]
     },
     "metadata": {},
     "output_type": "display_data"
    },
    {
     "name": "stderr",
     "output_type": "stream",
     "text": [
      "travis_attack.trainer: INFO     Now on epoch 2 of 5\n",
      "travis_attack.trainer: INFO     Now on epoch 2 of 5\n",
      "travis_attack.trainer: INFO     Now on epoch 2 of 5\n"
     ]
    },
    {
     "data": {
      "application/vnd.jupyter.widget-view+json": {
       "model_id": "2814df3c160448f0a94a06191793e8e4",
       "version_major": 2,
       "version_minor": 0
      },
      "text/plain": [
       "Batches:   0%|          | 0/5 [00:00<?, ?it/s]"
      ]
     },
     "metadata": {},
     "output_type": "display_data"
    },
    {
     "data": {
      "application/vnd.jupyter.widget-view+json": {
       "model_id": "3151117bdd43434182f6f7e730c7c42a",
       "version_major": 2,
       "version_minor": 0
      },
      "text/plain": [
       "Batches:   0%|          | 0/5 [00:00<?, ?it/s]"
      ]
     },
     "metadata": {},
     "output_type": "display_data"
    },
    {
     "data": {
      "application/vnd.jupyter.widget-view+json": {
       "model_id": "bebe7111363c4fc9951d83cebdb00cc7",
       "version_major": 2,
       "version_minor": 0
      },
      "text/plain": [
       "Batches:   0%|          | 0/1 [00:00<?, ?it/s]"
      ]
     },
     "metadata": {},
     "output_type": "display_data"
    },
    {
     "data": {
      "application/vnd.jupyter.widget-view+json": {
       "model_id": "21e56bb07645416d8a38632c2c37ddf7",
       "version_major": 2,
       "version_minor": 0
      },
      "text/plain": [
       "Batches:   0%|          | 0/10 [00:00<?, ?it/s]"
      ]
     },
     "metadata": {},
     "output_type": "display_data"
    },
    {
     "data": {
      "application/vnd.jupyter.widget-view+json": {
       "model_id": "6382938f301648cc8af998280356e269",
       "version_major": 2,
       "version_minor": 0
      },
      "text/plain": [
       "Batches:   0%|          | 0/2 [00:00<?, ?it/s]"
      ]
     },
     "metadata": {},
     "output_type": "display_data"
    },
    {
     "name": "stderr",
     "output_type": "stream",
     "text": [
      "travis_attack.trainer: INFO     Now on epoch 3 of 5\n",
      "travis_attack.trainer: INFO     Now on epoch 3 of 5\n",
      "travis_attack.trainer: INFO     Now on epoch 3 of 5\n"
     ]
    },
    {
     "data": {
      "application/vnd.jupyter.widget-view+json": {
       "model_id": "621720e8d7854388a0f44ec0588f1b32",
       "version_major": 2,
       "version_minor": 0
      },
      "text/plain": [
       "Batches:   0%|          | 0/5 [00:00<?, ?it/s]"
      ]
     },
     "metadata": {},
     "output_type": "display_data"
    },
    {
     "data": {
      "application/vnd.jupyter.widget-view+json": {
       "model_id": "173f348c277e4761b048802ed02f4ac6",
       "version_major": 2,
       "version_minor": 0
      },
      "text/plain": [
       "Batches:   0%|          | 0/5 [00:00<?, ?it/s]"
      ]
     },
     "metadata": {},
     "output_type": "display_data"
    },
    {
     "data": {
      "application/vnd.jupyter.widget-view+json": {
       "model_id": "15e502de82a54e67af6ae58f16cf4c0d",
       "version_major": 2,
       "version_minor": 0
      },
      "text/plain": [
       "Batches:   0%|          | 0/1 [00:00<?, ?it/s]"
      ]
     },
     "metadata": {},
     "output_type": "display_data"
    },
    {
     "data": {
      "application/vnd.jupyter.widget-view+json": {
       "model_id": "70b14d08c07b44fa903fda9a323f417f",
       "version_major": 2,
       "version_minor": 0
      },
      "text/plain": [
       "Batches:   0%|          | 0/10 [00:00<?, ?it/s]"
      ]
     },
     "metadata": {},
     "output_type": "display_data"
    },
    {
     "data": {
      "application/vnd.jupyter.widget-view+json": {
       "model_id": "23b65b5dd57d4dcfb63a0344c95f3af7",
       "version_major": 2,
       "version_minor": 0
      },
      "text/plain": [
       "Batches:   0%|          | 0/2 [00:00<?, ?it/s]"
      ]
     },
     "metadata": {},
     "output_type": "display_data"
    },
    {
     "name": "stderr",
     "output_type": "stream",
     "text": [
      "travis_attack.trainer: INFO     Now on epoch 4 of 5\n",
      "travis_attack.trainer: INFO     Now on epoch 4 of 5\n",
      "travis_attack.trainer: INFO     Now on epoch 4 of 5\n"
     ]
    },
    {
     "data": {
      "application/vnd.jupyter.widget-view+json": {
       "model_id": "79d014aa44134a9da52ab663ac264fbf",
       "version_major": 2,
       "version_minor": 0
      },
      "text/plain": [
       "Batches:   0%|          | 0/5 [00:00<?, ?it/s]"
      ]
     },
     "metadata": {},
     "output_type": "display_data"
    },
    {
     "data": {
      "application/vnd.jupyter.widget-view+json": {
       "model_id": "c31067f298a1467c807729d79993ca39",
       "version_major": 2,
       "version_minor": 0
      },
      "text/plain": [
       "Batches:   0%|          | 0/5 [00:00<?, ?it/s]"
      ]
     },
     "metadata": {},
     "output_type": "display_data"
    },
    {
     "data": {
      "application/vnd.jupyter.widget-view+json": {
       "model_id": "e85fc3ead455426ca68f5eacd7c68f16",
       "version_major": 2,
       "version_minor": 0
      },
      "text/plain": [
       "Batches:   0%|          | 0/1 [00:00<?, ?it/s]"
      ]
     },
     "metadata": {},
     "output_type": "display_data"
    },
    {
     "data": {
      "application/vnd.jupyter.widget-view+json": {
       "model_id": "35d8d88bf31247be9cfbd1c7e1184822",
       "version_major": 2,
       "version_minor": 0
      },
      "text/plain": [
       "Batches:   0%|          | 0/10 [00:00<?, ?it/s]"
      ]
     },
     "metadata": {},
     "output_type": "display_data"
    },
    {
     "data": {
      "application/vnd.jupyter.widget-view+json": {
       "model_id": "62da6f5e538248ecba24dcd6a68e7414",
       "version_major": 2,
       "version_minor": 0
      },
      "text/plain": [
       "Batches:   0%|          | 0/2 [00:00<?, ?it/s]"
      ]
     },
     "metadata": {},
     "output_type": "display_data"
    },
    {
     "name": "stderr",
     "output_type": "stream",
     "text": [
      "travis_attack.trainer: INFO     Now on epoch 5 of 5\n",
      "travis_attack.trainer: INFO     Now on epoch 5 of 5\n",
      "travis_attack.trainer: INFO     Now on epoch 5 of 5\n"
     ]
    },
    {
     "data": {
      "application/vnd.jupyter.widget-view+json": {
       "model_id": "9a89deadde624c588c356f44ce3cc7f3",
       "version_major": 2,
       "version_minor": 0
      },
      "text/plain": [
       "Batches:   0%|          | 0/5 [00:00<?, ?it/s]"
      ]
     },
     "metadata": {},
     "output_type": "display_data"
    },
    {
     "data": {
      "application/vnd.jupyter.widget-view+json": {
       "model_id": "966cfa19bd1542eaaeca5643e0f653ee",
       "version_major": 2,
       "version_minor": 0
      },
      "text/plain": [
       "Batches:   0%|          | 0/5 [00:00<?, ?it/s]"
      ]
     },
     "metadata": {},
     "output_type": "display_data"
    },
    {
     "data": {
      "application/vnd.jupyter.widget-view+json": {
       "model_id": "3c1dae11417b4b89b13a7c3c1701d26f",
       "version_major": 2,
       "version_minor": 0
      },
      "text/plain": [
       "Batches:   0%|          | 0/1 [00:00<?, ?it/s]"
      ]
     },
     "metadata": {},
     "output_type": "display_data"
    },
    {
     "data": {
      "application/vnd.jupyter.widget-view+json": {
       "model_id": "19519bace88045f6bd00a162eb798821",
       "version_major": 2,
       "version_minor": 0
      },
      "text/plain": [
       "Batches:   0%|          | 0/10 [00:00<?, ?it/s]"
      ]
     },
     "metadata": {},
     "output_type": "display_data"
    },
    {
     "data": {
      "application/vnd.jupyter.widget-view+json": {
       "model_id": "7e2cf5902ec34d9bb6206eebbe5a0f53",
       "version_major": 2,
       "version_minor": 0
      },
      "text/plain": [
       "Batches:   0%|          | 0/2 [00:00<?, ?it/s]"
      ]
     },
     "metadata": {},
     "output_type": "display_data"
    },
    {
     "data": {
      "application/vnd.jupyter.widget-view+json": {
       "model_id": "9e1349ae8b3d4ea790f8b54a36504dd2",
       "version_major": 2,
       "version_minor": 0
      },
      "text/plain": [
       "Batches:   0%|          | 0/2 [00:00<?, ?it/s]"
      ]
     },
     "metadata": {},
     "output_type": "display_data"
    },
    {
     "data": {
      "text/html": [
       "<br/>Waiting for W&B process to finish, PID 8906... <strong style=\"color:green\">(success).</strong>"
      ],
      "text/plain": [
       "<IPython.core.display.HTML object>"
      ]
     },
     "metadata": {},
     "output_type": "display_data"
    },
    {
     "data": {
      "application/vnd.jupyter.widget-view+json": {
       "model_id": "",
       "version_major": 2,
       "version_minor": 0
      },
      "text/plain": [
       "VBox(children=(Label(value=' 0.11MB of 0.11MB uploaded (0.00MB deduped)\\r'), FloatProgress(value=1.0, max=1.0)…"
      ]
     },
     "metadata": {},
     "output_type": "display_data"
    },
    {
     "data": {
      "text/html": [
       "<style>\n",
       "    table.wandb td:nth-child(1) { padding: 0 10px; text-align: right }\n",
       "    .wandb-row { display: flex; flex-direction: row; flex-wrap: wrap; width: 100% }\n",
       "    .wandb-col { display: flex; flex-direction: column; flex-basis: 100%; flex: 1; padding: 10px; }\n",
       "    </style>\n",
       "<div class=\"wandb-row\"><div class=\"wandb-col\">\n",
       "<h3>Run history:</h3><br/><table class=\"wandb\"><tr><td>%_of_tokens_above_prob_0.0001</td><td>▁▁█▁▁▆▁▂▅▁▁█▁▁▅</td></tr><tr><td>%_of_tokens_above_prob_0.001</td><td>▁▂█▁▁█▁▂▅▁▁█▁▁▄</td></tr><tr><td>%_of_tokens_above_prob_0.01</td><td>▁▂▇▁▁█▁▂▄▁▂▅▁▁▅</td></tr><tr><td>%_of_tokens_above_prob_0.1</td><td>▂▁▃▂▂▄▂▂▇▂▁▅▂▁█</td></tr><tr><td>%_of_tokens_above_prob_1/vocab_size</td><td>▁▁█▁▁▅▁▂▅▁▁█▁▁▅</td></tr><tr><td>%_of_tokens_above_prob_1e-05</td><td>▁▁█▁▁▅▁▂▅▁▁█▁▁▆</td></tr><tr><td>acc_batch_n_examples</td><td>████████▂▂▂▂▁▁▁</td></tr><tr><td>acc_num</td><td>▁▃▆█▁▃▆█▁▃▆█▁▃▆</td></tr><tr><td>batch_num</td><td>▁▅█▁▅█▁▅█▁▅█▁▅█</td></tr><tr><td>epoch</td><td>▁▁▁▁▁▁▃▃▃▃▃▃▅▅▅▅▅▅▆▆▆▆▆▆██████</td></tr><tr><td>global_step</td><td>▁▁▂▃▃▃▄▅▅▅▆▇▇▇█</td></tr><tr><td>gradient_norm</td><td>▃▅▅█▂▂▅▇▁▅▇▇▄▇▇</td></tr><tr><td>label_flip_fraction</td><td>▁▁▁▁▁▁▁▁▁▁▁▁▁▁▁</td></tr><tr><td>label_flip_train</td><td>▁▁▁▁▁</td></tr><tr><td>label_flip_training_step</td><td>▁▁▁▁▁</td></tr><tr><td>label_flip_valid</td><td>▁▁▁▁▁</td></tr><tr><td>loss_batch</td><td>▅▃▂▆▄▁▆▄▂▇▅▂█▅▂</td></tr><tr><td>loss_sum</td><td>▇▄▂█▅▁▇▆▂▇▅▂█▅▂</td></tr><tr><td>loss_train</td><td>█▄▂▁▁</td></tr><tr><td>loss_training_step</td><td>▁▃█▆▄</td></tr><tr><td>loss_valid</td><td>█▅▃▁▁</td></tr><tr><td>orig_batch_size</td><td>██▁██▁██▁██▁██▁</td></tr><tr><td>orig_length</td><td>█▄▁█▄▁█▄▁█▄▁█▄▁</td></tr><tr><td>parameter_norm</td><td>▁▁▁█▁▁▁▇▁▁▁█▁▁▁</td></tr><tr><td>pp_batch_size</td><td>██▁██▁██▁██▁██▁</td></tr><tr><td>pp_length</td><td>█▄▁█▄▁█▄▂█▄▂█▄▁</td></tr><tr><td>pp_logp_mean</td><td>▄█▄▂█▃▄▆▄▃▇▁▃█▆</td></tr><tr><td>pp_logp_train</td><td>▁▅▇██</td></tr><tr><td>pp_logp_training_step</td><td>█▂▁▃▄</td></tr><tr><td>pp_logp_valid</td><td>▁▄▆██</td></tr><tr><td>rank_1_token_prob_0.25_quantile</td><td>██▂██▁█▇▅██▂██▄</td></tr><tr><td>rank_1_token_prob_0.75_quantile</td><td>█▇▃█▇▄█▇▁█▇▄█▇▂</td></tr><tr><td>rank_1_token_prob_mean</td><td>██▂██▁█▇▃██▁██▃</td></tr><tr><td>rank_1_token_prob_median</td><td>██▁██▅██▃██▃██▂</td></tr><tr><td>rank_2_token_prob_0.25_quantile</td><td>▂▃▇▂▂▃▁▃█▁▃▅▁▂▆</td></tr><tr><td>rank_2_token_prob_0.75_quantile</td><td>▂▁▅▂▂▆▂▂█▂▁▇▂▁▇</td></tr><tr><td>rank_2_token_prob_mean</td><td>▁▂▅▂▂▅▁▂█▁▂▅▁▁▇</td></tr><tr><td>rank_2_token_prob_median</td><td>▂▂▆▂▂▆▂▂█▁▂▅▁▂▆</td></tr><tr><td>rank_3_token_prob_0.25_quantile</td><td>▂▃█▂▂▆▁▃▆▁▃▆▁▂█</td></tr><tr><td>rank_3_token_prob_0.75_quantile</td><td>▁▁▆▁▁▆▁▂▇▁▁▆▁▂█</td></tr><tr><td>rank_3_token_prob_mean</td><td>▁▂▇▂▂▇▁▃█▁▃▆▁▂█</td></tr><tr><td>rank_3_token_prob_median</td><td>▂▂▆▂▂█▁▂█▁▃▆▁▂█</td></tr><tr><td>reward_train</td><td>█▁▁▁▁</td></tr><tr><td>reward_training_step</td><td>▇▁██▇</td></tr><tr><td>reward_valid</td><td>▁▁▁▁▁</td></tr><tr><td>rewards_mean</td><td>▇▇▇▇█▁▇▇█▇█▇▇▇▇</td></tr><tr><td>sts_score_train</td><td>▁▆███</td></tr><tr><td>sts_score_training_step</td><td>▆▁▇▁█</td></tr><tr><td>sts_score_valid</td><td>▁▁▁▁▁</td></tr><tr><td>sts_scores_mean</td><td>██▂██▁█▇▆█▇▃██▅</td></tr><tr><td>time/eval_compute_metrics</td><td>▁██▇▅</td></tr><tr><td>time/eval_empty_cache</td><td>█▁▃▄▂</td></tr><tr><td>time/eval_gc_collect</td><td>█▁▁▂▁</td></tr><tr><td>time/eval_train_thoroughput</td><td>█▃▁▅▂</td></tr><tr><td>time/eval_train_time</td><td>▁▆█▄▇</td></tr><tr><td>time/eval_valid_thoroughput</td><td>█▂▃▁▂</td></tr><tr><td>time/eval_valid_time</td><td>▁▇▆█▇</td></tr><tr><td>time/train_one_epoch_thoroughput</td><td>▂▄▁▂█</td></tr><tr><td>time/train_one_epoch_time</td><td>▇▅█▇▁</td></tr><tr><td>time_backwards</td><td>█▄▁█▄▁█▄▂█▄▂█▄▁</td></tr><tr><td>time_calc_gradient_norm</td><td>▇▆▁█▅▁█▄▁█▄▁█▃▁</td></tr><tr><td>time_generate_pp</td><td>█▃▁█▃▁█▃▁█▃▂█▃▁</td></tr><tr><td>time_log_entropy</td><td>█▄▁█▄▁█▅▁█▄▁█▄▁</td></tr><tr><td>time_log_token_probabilities</td><td>█▅▁█▅▁█▅▁█▅▁█▅▁</td></tr><tr><td>time_loss_fn</td><td>█▄▁▅▄▁▅▄▁▅▄▁▄▄▁</td></tr><tr><td>time_loss_fn_loss_calc</td><td>▄▃▄█▃▁▄▄▂▅▆▆▃▃▁</td></tr><tr><td>time_opt_step</td><td>▁▁▁█▁▁▁▆▁▁▁▆▁▁▁</td></tr><tr><td>time_opt_step_and_calc_param_norm</td><td>▁▁▁█▁▁▁█▁▁▁█▁▁▁</td></tr><tr><td>time_pp_logp</td><td>█▄▁█▄▁█▅▁█▄▁█▄▁</td></tr><tr><td>time_reward_fn</td><td>█▃▁▄▃▁▄▃▁▄▃▁▄▃▁</td></tr><tr><td>time_sts_scores</td><td>██▁█▇▁█▇▁█▇▁█▇▁</td></tr><tr><td>time_vm_scores</td><td>█▁▁▁▁▁▁▁▁▁▁▁▁▁▁</td></tr><tr><td>top_token_prob_over_0.1</td><td>█████▁█▆███▂█▇█</td></tr><tr><td>top_token_prob_over_0.3</td><td>██▄▇▇▁▇▇▃█▇▂▇█▆</td></tr><tr><td>top_token_prob_over_0.5</td><td>██▂▇█▁█▇▄██▂▇█▄</td></tr><tr><td>top_token_prob_over_0.75</td><td>██▂██▃█▇▃██▃██▁</td></tr><tr><td>top_token_prob_over_0.9</td><td>██▃██▃█▇▁██▃██▂</td></tr><tr><td>top_token_prob_over_0.95</td><td>▇▇▂▇▇▂█▆▁█▇▂█▇▂</td></tr><tr><td>top_token_prob_over_0.975</td><td>▇▆▁▇▆▃▇▆▁█▆▂█▇▂</td></tr><tr><td>top_token_prob_over_0.99</td><td>▆▅▃▇▅▄▇▅▂█▅▁█▅▄</td></tr><tr><td>vm_score_train</td><td>█▁▁▁▁</td></tr><tr><td>vm_score_training_step</td><td>▁█▂▂▁</td></tr><tr><td>vm_score_valid</td><td>▁▁▁▁▁</td></tr><tr><td>vm_scores_mean</td><td>▁▁▁▁▁█▁▁▂▁▁▁▁▁▁</td></tr></table><br/></div><div class=\"wandb-col\">\n",
       "<h3>Run summary:</h3><br/><table class=\"wandb\"><tr><td>%_of_tokens_above_prob_0.0001</td><td>0.00292</td></tr><tr><td>%_of_tokens_above_prob_0.001</td><td>0.00037</td></tr><tr><td>%_of_tokens_above_prob_0.01</td><td>8e-05</td></tr><tr><td>%_of_tokens_above_prob_0.1</td><td>3e-05</td></tr><tr><td>%_of_tokens_above_prob_1/vocab_size</td><td>0.01262</td></tr><tr><td>%_of_tokens_above_prob_1e-05</td><td>0.02201</td></tr><tr><td>acc_batch_n_examples</td><td>28</td></tr><tr><td>acc_num</td><td>2</td></tr><tr><td>batch_num</td><td>2</td></tr><tr><td>epoch</td><td>5</td></tr><tr><td>global_step</td><td>14</td></tr><tr><td>gradient_norm</td><td>16.56412</td></tr><tr><td>label_flip_avg_test</td><td>0.0</td></tr><tr><td>label_flip_fraction</td><td>0.0</td></tr><tr><td>label_flip_train</td><td>0.0</td></tr><tr><td>label_flip_training_step</td><td>0.0</td></tr><tr><td>label_flip_valid</td><td>0.0</td></tr><tr><td>loss_avg_test</td><td>1.02691</td></tr><tr><td>loss_batch</td><td>0.14016</td></tr><tr><td>loss_sum</td><td>3.92454</td></tr><tr><td>loss_train</td><td>1.42374</td></tr><tr><td>loss_training_step</td><td>2.18594</td></tr><tr><td>loss_valid</td><td>0.89241</td></tr><tr><td>orig_batch_size</td><td>2</td></tr><tr><td>orig_length</td><td>16</td></tr><tr><td>parameter_norm</td><td>0</td></tr><tr><td>pp_batch_size</td><td>2</td></tr><tr><td>pp_length</td><td>10</td></tr><tr><td>pp_logp_avg_test</td><td>-2.05383</td></tr><tr><td>pp_logp_mean</td><td>-3.92693</td></tr><tr><td>pp_logp_train</td><td>-2.83229</td></tr><tr><td>pp_logp_training_step</td><td>-4.45127</td></tr><tr><td>pp_logp_valid</td><td>-1.74153</td></tr><tr><td>rank_1_token_prob_0.25_quantile</td><td>-0.66867</td></tr><tr><td>rank_1_token_prob_0.75_quantile</td><td>-0.03745</td></tr><tr><td>rank_1_token_prob_mean</td><td>-0.46199</td></tr><tr><td>rank_1_token_prob_median</td><td>-0.31324</td></tr><tr><td>rank_2_token_prob_0.25_quantile</td><td>-4.78822</td></tr><tr><td>rank_2_token_prob_0.75_quantile</td><td>-2.06433</td></tr><tr><td>rank_2_token_prob_mean</td><td>-3.43952</td></tr><tr><td>rank_2_token_prob_median</td><td>-2.86582</td></tr><tr><td>rank_3_token_prob_0.25_quantile</td><td>-5.45366</td></tr><tr><td>rank_3_token_prob_0.75_quantile</td><td>-2.46891</td></tr><tr><td>rank_3_token_prob_mean</td><td>-4.3452</td></tr><tr><td>rank_3_token_prob_median</td><td>-3.74571</td></tr><tr><td>reward_avg_test</td><td>0.5</td></tr><tr><td>reward_train</td><td>0.50193</td></tr><tr><td>reward_training_step</td><td>0.49721</td></tr><tr><td>reward_valid</td><td>0.50769</td></tr><tr><td>rewards_mean</td><td>0.49958</td></tr><tr><td>sts_score_avg_test</td><td>0.97767</td></tr><tr><td>sts_score_train</td><td>0.98712</td></tr><tr><td>sts_score_training_step</td><td>0.9741</td></tr><tr><td>sts_score_valid</td><td>0.96535</td></tr><tr><td>sts_scores_mean</td><td>0.87662</td></tr><tr><td>time/eval_compute_metrics</td><td>0.24916</td></tr><tr><td>time/eval_empty_cache</td><td>0.13358</td></tr><tr><td>time/eval_gc_collect</td><td>0.16115</td></tr><tr><td>time/eval_train_thoroughput</td><td>13.93505</td></tr><tr><td>time/eval_train_time</td><td>2.00932</td></tr><tr><td>time/eval_valid_thoroughput</td><td>2.67826</td></tr><tr><td>time/eval_valid_time</td><td>1.49351</td></tr><tr><td>time/train_one_epoch_thoroughput</td><td>4.21514</td></tr><tr><td>time/train_one_epoch_time</td><td>6.64272</td></tr><tr><td>time_backwards</td><td>0.14246</td></tr><tr><td>time_calc_gradient_norm</td><td>0.00635</td></tr><tr><td>time_generate_pp</td><td>0.13618</td></tr><tr><td>time_log_entropy</td><td>0.00148</td></tr><tr><td>time_log_token_probabilities</td><td>0.00454</td></tr><tr><td>time_loss_fn</td><td>0.04828</td></tr><tr><td>time_loss_fn_loss_calc</td><td>6e-05</td></tr><tr><td>time_opt_step</td><td>0.0</td></tr><tr><td>time_opt_step_and_calc_param_norm</td><td>3e-05</td></tr><tr><td>time_pp_logp</td><td>0.00803</td></tr><tr><td>time_reward_fn</td><td>0.04009</td></tr><tr><td>time_sts_scores</td><td>0.03194</td></tr><tr><td>time_vm_scores</td><td>0.00762</td></tr><tr><td>top_token_prob_over_0.1</td><td>1.0</td></tr><tr><td>top_token_prob_over_0.3</td><td>0.94118</td></tr><tr><td>top_token_prob_over_0.5</td><td>0.76471</td></tr><tr><td>top_token_prob_over_0.75</td><td>0.41176</td></tr><tr><td>top_token_prob_over_0.9</td><td>0.35294</td></tr><tr><td>top_token_prob_over_0.95</td><td>0.29412</td></tr><tr><td>top_token_prob_over_0.975</td><td>0.23529</td></tr><tr><td>top_token_prob_over_0.99</td><td>0.17647</td></tr><tr><td>vm_score_avg_test</td><td>0.0</td></tr><tr><td>vm_score_train</td><td>0.00212</td></tr><tr><td>vm_score_training_step</td><td>-0.00304</td></tr><tr><td>vm_score_valid</td><td>0.0089</td></tr><tr><td>vm_scores_mean</td><td>-0.00055</td></tr></table>\n",
       "</div></div>\n",
       "Synced 6 W&B file(s), 0 media file(s), 14 artifact file(s) and 0 other file(s)\n",
       "<br/>Synced <strong style=\"color:#cdcd00\">hearty-cherry-289</strong>: <a href=\"https://wandb.ai/uts_nlp/travis_attack/runs/61zaljb2\" target=\"_blank\">https://wandb.ai/uts_nlp/travis_attack/runs/61zaljb2</a><br/>\n",
       "Find logs at: <code>./wandb/run-20220309_134522-61zaljb2/logs</code><br/>\n"
      ],
      "text/plain": [
       "<IPython.core.display.HTML object>"
      ]
     },
     "metadata": {},
     "output_type": "display_data"
    }
   ],
   "source": [
    "# cfg.wandb['mode'] = 'disabled'\n",
    "# trainer = Trainer(cfg, vm_tokenizer, vm_model, pp_tokenizer, pp_model, sts_model, optimizer,\n",
    "#                   ds, initial_eval=False)\n",
    "# trainer.train()"
   ]
  },
  {
   "cell_type": "code",
   "execution_count": null,
   "metadata": {},
   "outputs": [
    {
     "data": {
      "text/html": [
       "Finishing last run (ID:61zaljb2) before initializing another..."
      ],
      "text/plain": [
       "<IPython.core.display.HTML object>"
      ]
     },
     "metadata": {},
     "output_type": "display_data"
    },
    {
     "data": {
      "text/html": [
       "<br/>Waiting for W&B process to finish, PID 16349... <strong style=\"color:green\">(success).</strong>"
      ],
      "text/plain": [
       "<IPython.core.display.HTML object>"
      ]
     },
     "metadata": {},
     "output_type": "display_data"
    },
    {
     "data": {
      "application/vnd.jupyter.widget-view+json": {
       "model_id": "",
       "version_major": 2,
       "version_minor": 0
      },
      "text/plain": [
       "VBox(children=(Label(value=' 0.00MB of 0.00MB uploaded (0.00MB deduped)\\r'), FloatProgress(value=1.0, max=1.0)…"
      ]
     },
     "metadata": {},
     "output_type": "display_data"
    },
    {
     "data": {
      "text/html": [
       "<style>\n",
       "    table.wandb td:nth-child(1) { padding: 0 10px; text-align: right }\n",
       "    .wandb-row { display: flex; flex-direction: row; flex-wrap: wrap; width: 100% }\n",
       "    .wandb-col { display: flex; flex-direction: column; flex-basis: 100%; flex: 1; padding: 10px; }\n",
       "    </style>\n",
       "<div class=\"wandb-row\"><div class=\"wandb-col\">\n",
       "</div><div class=\"wandb-col\">\n",
       "<h3>Run summary:</h3><br/><table class=\"wandb\"><tr><td>%_of_tokens_above_prob_0.0001</td><td>0.00292</td></tr><tr><td>%_of_tokens_above_prob_0.001</td><td>0.00037</td></tr><tr><td>%_of_tokens_above_prob_0.01</td><td>8e-05</td></tr><tr><td>%_of_tokens_above_prob_0.1</td><td>3e-05</td></tr><tr><td>%_of_tokens_above_prob_1/vocab_size</td><td>0.01262</td></tr><tr><td>%_of_tokens_above_prob_1e-05</td><td>0.02201</td></tr><tr><td>acc_batch_n_examples</td><td>28</td></tr><tr><td>acc_num</td><td>2</td></tr><tr><td>batch_num</td><td>2</td></tr><tr><td>epoch</td><td>5</td></tr><tr><td>global_step</td><td>14</td></tr><tr><td>gradient_norm</td><td>16.56412</td></tr><tr><td>label_flip_avg_test</td><td>0</td></tr><tr><td>label_flip_fraction</td><td>0</td></tr><tr><td>label_flip_train</td><td>0</td></tr><tr><td>label_flip_training_step</td><td>0</td></tr><tr><td>label_flip_valid</td><td>0</td></tr><tr><td>loss_avg_test</td><td>1.02691</td></tr><tr><td>loss_batch</td><td>0.14016</td></tr><tr><td>loss_sum</td><td>3.92454</td></tr><tr><td>loss_train</td><td>1.42374</td></tr><tr><td>loss_training_step</td><td>2.18594</td></tr><tr><td>loss_valid</td><td>0.89241</td></tr><tr><td>orig_batch_size</td><td>2</td></tr><tr><td>orig_length</td><td>16</td></tr><tr><td>parameter_norm</td><td>0</td></tr><tr><td>pp_batch_size</td><td>2</td></tr><tr><td>pp_length</td><td>10</td></tr><tr><td>pp_logp_avg_test</td><td>-2.05383</td></tr><tr><td>pp_logp_mean</td><td>-3.92693</td></tr><tr><td>pp_logp_train</td><td>-2.83229</td></tr><tr><td>pp_logp_training_step</td><td>-4.45127</td></tr><tr><td>pp_logp_valid</td><td>-1.74153</td></tr><tr><td>rank_1_token_prob_0.25_quantile</td><td>-0.66867</td></tr><tr><td>rank_1_token_prob_0.75_quantile</td><td>-0.03745</td></tr><tr><td>rank_1_token_prob_mean</td><td>-0.46199</td></tr><tr><td>rank_1_token_prob_median</td><td>-0.31324</td></tr><tr><td>rank_2_token_prob_0.25_quantile</td><td>-4.78822</td></tr><tr><td>rank_2_token_prob_0.75_quantile</td><td>-2.06433</td></tr><tr><td>rank_2_token_prob_mean</td><td>-3.43952</td></tr><tr><td>rank_2_token_prob_median</td><td>-2.86582</td></tr><tr><td>rank_3_token_prob_0.25_quantile</td><td>-5.45366</td></tr><tr><td>rank_3_token_prob_0.75_quantile</td><td>-2.46891</td></tr><tr><td>rank_3_token_prob_mean</td><td>-4.3452</td></tr><tr><td>rank_3_token_prob_median</td><td>-3.74571</td></tr><tr><td>reward_avg_test</td><td>0.5</td></tr><tr><td>reward_train</td><td>0.50193</td></tr><tr><td>reward_training_step</td><td>0.49721</td></tr><tr><td>reward_valid</td><td>0.50769</td></tr><tr><td>rewards_mean</td><td>0.49958</td></tr><tr><td>sts_score_avg_test</td><td>0.97767</td></tr><tr><td>sts_score_train</td><td>0.98712</td></tr><tr><td>sts_score_training_step</td><td>0.9741</td></tr><tr><td>sts_score_valid</td><td>0.96535</td></tr><tr><td>sts_scores_mean</td><td>0.87662</td></tr><tr><td>time/eval_compute_metrics</td><td>0.24916</td></tr><tr><td>time/eval_empty_cache</td><td>0.13358</td></tr><tr><td>time/eval_gc_collect</td><td>0.16115</td></tr><tr><td>time/eval_train_thoroughput</td><td>13.93505</td></tr><tr><td>time/eval_train_time</td><td>2.00932</td></tr><tr><td>time/eval_valid_thoroughput</td><td>2.67826</td></tr><tr><td>time/eval_valid_time</td><td>1.49351</td></tr><tr><td>time/train_one_epoch_thoroughput</td><td>4.21514</td></tr><tr><td>time/train_one_epoch_time</td><td>6.64272</td></tr><tr><td>time_backwards</td><td>0.14246</td></tr><tr><td>time_calc_gradient_norm</td><td>0.00635</td></tr><tr><td>time_generate_pp</td><td>0.13618</td></tr><tr><td>time_log_entropy</td><td>0.00148</td></tr><tr><td>time_log_token_probabilities</td><td>0.00454</td></tr><tr><td>time_loss_fn</td><td>0.04828</td></tr><tr><td>time_loss_fn_loss_calc</td><td>6e-05</td></tr><tr><td>time_opt_step</td><td>0.0</td></tr><tr><td>time_opt_step_and_calc_param_norm</td><td>3e-05</td></tr><tr><td>time_pp_logp</td><td>0.00803</td></tr><tr><td>time_reward_fn</td><td>0.04009</td></tr><tr><td>time_sts_scores</td><td>0.03194</td></tr><tr><td>time_vm_scores</td><td>0.00762</td></tr><tr><td>top_token_prob_over_0.1</td><td>1</td></tr><tr><td>top_token_prob_over_0.3</td><td>0.94118</td></tr><tr><td>top_token_prob_over_0.5</td><td>0.76471</td></tr><tr><td>top_token_prob_over_0.75</td><td>0.41176</td></tr><tr><td>top_token_prob_over_0.9</td><td>0.35294</td></tr><tr><td>top_token_prob_over_0.95</td><td>0.29412</td></tr><tr><td>top_token_prob_over_0.975</td><td>0.23529</td></tr><tr><td>top_token_prob_over_0.99</td><td>0.17647</td></tr><tr><td>vm_score_avg_test</td><td>0</td></tr><tr><td>vm_score_train</td><td>0.00212</td></tr><tr><td>vm_score_training_step</td><td>-0.00304</td></tr><tr><td>vm_score_valid</td><td>0.0089</td></tr><tr><td>vm_scores_mean</td><td>-0.00055</td></tr></table>\n",
       "</div></div>\n",
       "Synced 3 W&B file(s), 0 media file(s), 0 artifact file(s) and 0 other file(s)\n",
       "<br/>Synced <strong style=\"color:#cdcd00\">hearty-cherry-289</strong>: <a href=\"https://wandb.ai/uts_nlp/travis_attack/runs/61zaljb2\" target=\"_blank\">https://wandb.ai/uts_nlp/travis_attack/runs/61zaljb2</a><br/>\n",
       "Find logs at: <code>./wandb/run-20220309_135216-61zaljb2/logs</code><br/>\n"
      ],
      "text/plain": [
       "<IPython.core.display.HTML object>"
      ]
     },
     "metadata": {},
     "output_type": "display_data"
    },
    {
     "data": {
      "text/html": [
       "Successfully finished last run (ID:61zaljb2). Initializing new run:<br/>"
      ],
      "text/plain": [
       "<IPython.core.display.HTML object>"
      ]
     },
     "metadata": {},
     "output_type": "display_data"
    },
    {
     "name": "stderr",
     "output_type": "stream",
     "text": [
      "\u001b[34m\u001b[1mwandb\u001b[0m: wandb version 0.12.11 is available!  To upgrade, please run:\n",
      "\u001b[34m\u001b[1mwandb\u001b[0m:  $ pip install wandb --upgrade\n"
     ]
    },
    {
     "data": {
      "text/html": [
       "\n",
       "                    Resuming run <strong><a href=\"https://wandb.ai/uts_nlp/travis_attack/runs/61zaljb2\" target=\"_blank\">hearty-cherry-289</a></strong> to <a href=\"https://wandb.ai/uts_nlp/travis_attack\" target=\"_blank\">Weights & Biases</a> (<a href=\"https://docs.wandb.com/integrations/jupyter.html\" target=\"_blank\">docs</a>).<br/>\n",
       "\n",
       "                "
      ],
      "text/plain": [
       "<IPython.core.display.HTML object>"
      ]
     },
     "metadata": {},
     "output_type": "display_data"
    }
   ],
   "source": [
    "run = resume_wandb_run(cfg)"
   ]
  },
  {
   "cell_type": "code",
   "execution_count": null,
   "metadata": {},
   "outputs": [
    {
     "name": "stderr",
     "output_type": "stream",
     "text": [
      "travis_attack.trainer: INFO     Dataframes have shapes ['train: (140, 25)', 'valid: (20, 25)', 'test: (4, 25)', 'training_step: (140, 38)']\n",
      "travis_attack.trainer: INFO     Dataframes have shapes ['train: (140, 25)', 'valid: (20, 25)', 'test: (4, 25)', 'training_step: (140, 38)']\n",
      "travis_attack.trainer: INFO     Dataframes have shapes ['train: (140, 25)', 'valid: (20, 25)', 'test: (4, 25)', 'training_step: (140, 38)']\n"
     ]
    }
   ],
   "source": [
    "df_d = trainer.get_training_dfs()\n",
    "num_proc = 4\n",
    "for k, df in df_d.items(): df_d[k] = postprocess_df(df, filter_idx=None, num_proc=num_proc)\n"
   ]
  },
  {
   "cell_type": "code",
   "execution_count": null,
   "metadata": {},
   "outputs": [],
   "source": [
    "create_and_log_wandb_postrun_plots(df_d)"
   ]
  },
  {
   "cell_type": "code",
   "execution_count": null,
   "metadata": {},
   "outputs": [
    {
     "data": {
      "text/html": [
       "<div>\n",
       "<style scoped>\n",
       "    .dataframe tbody tr th:only-of-type {\n",
       "        vertical-align: middle;\n",
       "    }\n",
       "\n",
       "    .dataframe tbody tr th {\n",
       "        vertical-align: top;\n",
       "    }\n",
       "\n",
       "    .dataframe thead th {\n",
       "        text-align: right;\n",
       "    }\n",
       "</style>\n",
       "<table border=\"1\" class=\"dataframe\">\n",
       "  <thead>\n",
       "    <tr style=\"text-align: right;\">\n",
       "      <th></th>\n",
       "      <th>idx</th>\n",
       "      <th>epoch</th>\n",
       "      <th>orig_l</th>\n",
       "      <th>pp_l</th>\n",
       "      <th>orig_truelabel_probs</th>\n",
       "      <th>pp_truelabel_probs</th>\n",
       "      <th>pp_predclass_probs</th>\n",
       "      <th>orig_label</th>\n",
       "      <th>pp_predclass</th>\n",
       "      <th>label_flip</th>\n",
       "      <th>...</th>\n",
       "      <th>time_vm_scores</th>\n",
       "      <th>time_sts_scores</th>\n",
       "      <th>time_pp_logp</th>\n",
       "      <th>time_log_entropy</th>\n",
       "      <th>time_log_token_probabilities</th>\n",
       "      <th>time_loss_fn_loss_calc</th>\n",
       "      <th>time_backwards</th>\n",
       "      <th>time_calc_gradient_norm</th>\n",
       "      <th>time_opt_step_and_calc_param_norm</th>\n",
       "      <th>time_opt_step</th>\n",
       "    </tr>\n",
       "  </thead>\n",
       "  <tbody>\n",
       "    <tr>\n",
       "      <th>0</th>\n",
       "      <td>0</td>\n",
       "      <td>1</td>\n",
       "      <td>the rock is destined to be the 21st century's new \" conan \" and that he's going to make a splash even greater than arnold schwarzenegger , jean-claud van damme or steven segal .</td>\n",
       "      <td>The rock is destined to be the 21st century's new \" Conan '' and that he's going to make a splash even greater than arnold schwarzenegger, jean-claud van damme or steven segal.</td>\n",
       "      <td>0.855556</td>\n",
       "      <td>0.85373</td>\n",
       "      <td>0.853729</td>\n",
       "      <td>1</td>\n",
       "      <td>1</td>\n",
       "      <td>0</td>\n",
       "      <td>...</td>\n",
       "      <td>NaN</td>\n",
       "      <td>NaN</td>\n",
       "      <td>NaN</td>\n",
       "      <td>NaN</td>\n",
       "      <td>NaN</td>\n",
       "      <td>NaN</td>\n",
       "      <td>NaN</td>\n",
       "      <td>NaN</td>\n",
       "      <td>NaN</td>\n",
       "      <td>NaN</td>\n",
       "    </tr>\n",
       "    <tr>\n",
       "      <th>1</th>\n",
       "      <td>0</td>\n",
       "      <td>2</td>\n",
       "      <td>the rock is destined to be the 21st century's new \" conan \" and that he's going to make a splash even greater than arnold schwarzenegger , jean-claud van damme or steven segal .</td>\n",
       "      <td>The rock is destined to be the 21st century's new \" Conan '' and that he's going to make a splash even greater than arnold schwarzenegger, jean-claud van damme or steven segal.</td>\n",
       "      <td>0.855556</td>\n",
       "      <td>0.85373</td>\n",
       "      <td>0.853729</td>\n",
       "      <td>1</td>\n",
       "      <td>1</td>\n",
       "      <td>0</td>\n",
       "      <td>...</td>\n",
       "      <td>NaN</td>\n",
       "      <td>NaN</td>\n",
       "      <td>NaN</td>\n",
       "      <td>NaN</td>\n",
       "      <td>NaN</td>\n",
       "      <td>NaN</td>\n",
       "      <td>NaN</td>\n",
       "      <td>NaN</td>\n",
       "      <td>NaN</td>\n",
       "      <td>NaN</td>\n",
       "    </tr>\n",
       "    <tr>\n",
       "      <th>2</th>\n",
       "      <td>0</td>\n",
       "      <td>3</td>\n",
       "      <td>the rock is destined to be the 21st century's new \" conan \" and that he's going to make a splash even greater than arnold schwarzenegger , jean-claud van damme or steven segal .</td>\n",
       "      <td>The rock is destined to be the 21st century's new \" Conan '' and that he's going to make a splash even greater than arnold schwarzenegger, jean-claud van damme or steven segal.</td>\n",
       "      <td>0.855556</td>\n",
       "      <td>0.85373</td>\n",
       "      <td>0.853729</td>\n",
       "      <td>1</td>\n",
       "      <td>1</td>\n",
       "      <td>0</td>\n",
       "      <td>...</td>\n",
       "      <td>NaN</td>\n",
       "      <td>NaN</td>\n",
       "      <td>NaN</td>\n",
       "      <td>NaN</td>\n",
       "      <td>NaN</td>\n",
       "      <td>NaN</td>\n",
       "      <td>NaN</td>\n",
       "      <td>NaN</td>\n",
       "      <td>NaN</td>\n",
       "      <td>NaN</td>\n",
       "    </tr>\n",
       "    <tr>\n",
       "      <th>3</th>\n",
       "      <td>0</td>\n",
       "      <td>4</td>\n",
       "      <td>the rock is destined to be the 21st century's new \" conan \" and that he's going to make a splash even greater than arnold schwarzenegger , jean-claud van damme or steven segal .</td>\n",
       "      <td>The rock is destined to be the 21st century's new \" Conan '' and that he's going to make a splash even greater than arnold schwarzenegger, jean-claud van damme or steven segal.</td>\n",
       "      <td>0.855556</td>\n",
       "      <td>0.85373</td>\n",
       "      <td>0.853729</td>\n",
       "      <td>1</td>\n",
       "      <td>1</td>\n",
       "      <td>0</td>\n",
       "      <td>...</td>\n",
       "      <td>NaN</td>\n",
       "      <td>NaN</td>\n",
       "      <td>NaN</td>\n",
       "      <td>NaN</td>\n",
       "      <td>NaN</td>\n",
       "      <td>NaN</td>\n",
       "      <td>NaN</td>\n",
       "      <td>NaN</td>\n",
       "      <td>NaN</td>\n",
       "      <td>NaN</td>\n",
       "    </tr>\n",
       "    <tr>\n",
       "      <th>4</th>\n",
       "      <td>0</td>\n",
       "      <td>5</td>\n",
       "      <td>the rock is destined to be the 21st century's new \" conan \" and that he's going to make a splash even greater than arnold schwarzenegger , jean-claud van damme or steven segal .</td>\n",
       "      <td>The rock is destined to be the 21st century's new \" Conan '' and that he's going to make a splash even greater than arnold schwarzenegger, jean-claud van damme or steven segal.</td>\n",
       "      <td>0.855556</td>\n",
       "      <td>0.85373</td>\n",
       "      <td>0.853729</td>\n",
       "      <td>1</td>\n",
       "      <td>1</td>\n",
       "      <td>0</td>\n",
       "      <td>...</td>\n",
       "      <td>NaN</td>\n",
       "      <td>NaN</td>\n",
       "      <td>NaN</td>\n",
       "      <td>NaN</td>\n",
       "      <td>NaN</td>\n",
       "      <td>NaN</td>\n",
       "      <td>NaN</td>\n",
       "      <td>NaN</td>\n",
       "      <td>NaN</td>\n",
       "      <td>NaN</td>\n",
       "    </tr>\n",
       "    <tr>\n",
       "      <th>...</th>\n",
       "      <td>...</td>\n",
       "      <td>...</td>\n",
       "      <td>...</td>\n",
       "      <td>...</td>\n",
       "      <td>...</td>\n",
       "      <td>...</td>\n",
       "      <td>...</td>\n",
       "      <td>...</td>\n",
       "      <td>...</td>\n",
       "      <td>...</td>\n",
       "      <td>...</td>\n",
       "      <td>...</td>\n",
       "      <td>...</td>\n",
       "      <td>...</td>\n",
       "      <td>...</td>\n",
       "      <td>...</td>\n",
       "      <td>...</td>\n",
       "      <td>...</td>\n",
       "      <td>...</td>\n",
       "      <td>...</td>\n",
       "      <td>...</td>\n",
       "    </tr>\n",
       "    <tr>\n",
       "      <th>135</th>\n",
       "      <td>8400</td>\n",
       "      <td>1</td>\n",
       "      <td>the exclamation point seems to be the only bit of glee you'll find in this dreary mess .</td>\n",
       "      <td>the exclamation point seems to be the only bit of glee you'll find in this dreary mess.</td>\n",
       "      <td>0.933802</td>\n",
       "      <td>0.93380</td>\n",
       "      <td>0.933802</td>\n",
       "      <td>0</td>\n",
       "      <td>0</td>\n",
       "      <td>0</td>\n",
       "      <td>...</td>\n",
       "      <td>0.009106</td>\n",
       "      <td>0.069361</td>\n",
       "      <td>0.025311</td>\n",
       "      <td>0.005172</td>\n",
       "      <td>0.013185</td>\n",
       "      <td>0.000063</td>\n",
       "      <td>0.434055</td>\n",
       "      <td>0.019009</td>\n",
       "      <td>0.000026</td>\n",
       "      <td>0.000003</td>\n",
       "    </tr>\n",
       "    <tr>\n",
       "      <th>136</th>\n",
       "      <td>8400</td>\n",
       "      <td>2</td>\n",
       "      <td>the exclamation point seems to be the only bit of glee you'll find in this dreary mess .</td>\n",
       "      <td>The exclamation point seems to be the only bit of glee you'll find in this dreary mess.</td>\n",
       "      <td>0.933802</td>\n",
       "      <td>0.93380</td>\n",
       "      <td>0.933802</td>\n",
       "      <td>0</td>\n",
       "      <td>0</td>\n",
       "      <td>0</td>\n",
       "      <td>...</td>\n",
       "      <td>0.008631</td>\n",
       "      <td>0.067139</td>\n",
       "      <td>0.025241</td>\n",
       "      <td>0.005199</td>\n",
       "      <td>0.013056</td>\n",
       "      <td>0.000063</td>\n",
       "      <td>0.449043</td>\n",
       "      <td>0.018118</td>\n",
       "      <td>0.000038</td>\n",
       "      <td>0.000003</td>\n",
       "    </tr>\n",
       "    <tr>\n",
       "      <th>137</th>\n",
       "      <td>8400</td>\n",
       "      <td>3</td>\n",
       "      <td>the exclamation point seems to be the only bit of glee you'll find in this dreary mess .</td>\n",
       "      <td>The exclamation point seems to be the only bit of glee you'll find in this dreary mess.</td>\n",
       "      <td>0.933802</td>\n",
       "      <td>0.93380</td>\n",
       "      <td>0.933802</td>\n",
       "      <td>0</td>\n",
       "      <td>0</td>\n",
       "      <td>0</td>\n",
       "      <td>...</td>\n",
       "      <td>0.008358</td>\n",
       "      <td>0.067487</td>\n",
       "      <td>0.025539</td>\n",
       "      <td>0.005223</td>\n",
       "      <td>0.013379</td>\n",
       "      <td>0.000065</td>\n",
       "      <td>0.444843</td>\n",
       "      <td>0.014140</td>\n",
       "      <td>0.033678</td>\n",
       "      <td>0.007324</td>\n",
       "    </tr>\n",
       "    <tr>\n",
       "      <th>138</th>\n",
       "      <td>8400</td>\n",
       "      <td>4</td>\n",
       "      <td>the exclamation point seems to be the only bit of glee you'll find in this dreary mess .</td>\n",
       "      <td>The exclamation point seems to be the only bit of glee you'll find in this dreary mess.</td>\n",
       "      <td>0.933802</td>\n",
       "      <td>0.93380</td>\n",
       "      <td>0.933802</td>\n",
       "      <td>0</td>\n",
       "      <td>0</td>\n",
       "      <td>0</td>\n",
       "      <td>...</td>\n",
       "      <td>0.008539</td>\n",
       "      <td>0.066399</td>\n",
       "      <td>0.024764</td>\n",
       "      <td>0.005025</td>\n",
       "      <td>0.013044</td>\n",
       "      <td>0.000068</td>\n",
       "      <td>0.426211</td>\n",
       "      <td>0.014934</td>\n",
       "      <td>0.000030</td>\n",
       "      <td>0.000003</td>\n",
       "    </tr>\n",
       "    <tr>\n",
       "      <th>139</th>\n",
       "      <td>8400</td>\n",
       "      <td>5</td>\n",
       "      <td>the exclamation point seems to be the only bit of glee you'll find in this dreary mess .</td>\n",
       "      <td>The exclamation point seems to be the only bit of glee you'll find in this dreary mess.</td>\n",
       "      <td>0.933802</td>\n",
       "      <td>0.93380</td>\n",
       "      <td>0.933802</td>\n",
       "      <td>0</td>\n",
       "      <td>0</td>\n",
       "      <td>0</td>\n",
       "      <td>...</td>\n",
       "      <td>0.008343</td>\n",
       "      <td>0.066640</td>\n",
       "      <td>0.025217</td>\n",
       "      <td>0.005150</td>\n",
       "      <td>0.013062</td>\n",
       "      <td>0.000064</td>\n",
       "      <td>0.460097</td>\n",
       "      <td>0.012575</td>\n",
       "      <td>0.000030</td>\n",
       "      <td>0.000003</td>\n",
       "    </tr>\n",
       "  </tbody>\n",
       "</table>\n",
       "<p>304 rows × 70 columns</p>\n",
       "</div>"
      ],
      "text/plain": [
       "      idx  epoch  \\\n",
       "0       0      1   \n",
       "1       0      2   \n",
       "2       0      3   \n",
       "3       0      4   \n",
       "4       0      5   \n",
       "..    ...    ...   \n",
       "135  8400      1   \n",
       "136  8400      2   \n",
       "137  8400      3   \n",
       "138  8400      4   \n",
       "139  8400      5   \n",
       "\n",
       "                                                                                                                                                                                orig_l  \\\n",
       "0    the rock is destined to be the 21st century's new \" conan \" and that he's going to make a splash even greater than arnold schwarzenegger , jean-claud van damme or steven segal .   \n",
       "1    the rock is destined to be the 21st century's new \" conan \" and that he's going to make a splash even greater than arnold schwarzenegger , jean-claud van damme or steven segal .   \n",
       "2    the rock is destined to be the 21st century's new \" conan \" and that he's going to make a splash even greater than arnold schwarzenegger , jean-claud van damme or steven segal .   \n",
       "3    the rock is destined to be the 21st century's new \" conan \" and that he's going to make a splash even greater than arnold schwarzenegger , jean-claud van damme or steven segal .   \n",
       "4    the rock is destined to be the 21st century's new \" conan \" and that he's going to make a splash even greater than arnold schwarzenegger , jean-claud van damme or steven segal .   \n",
       "..                                                                                                                                                                                 ...   \n",
       "135                                                                                           the exclamation point seems to be the only bit of glee you'll find in this dreary mess .   \n",
       "136                                                                                           the exclamation point seems to be the only bit of glee you'll find in this dreary mess .   \n",
       "137                                                                                           the exclamation point seems to be the only bit of glee you'll find in this dreary mess .   \n",
       "138                                                                                           the exclamation point seems to be the only bit of glee you'll find in this dreary mess .   \n",
       "139                                                                                           the exclamation point seems to be the only bit of glee you'll find in this dreary mess .   \n",
       "\n",
       "                                                                                                                                                                                 pp_l  \\\n",
       "0    The rock is destined to be the 21st century's new \" Conan '' and that he's going to make a splash even greater than arnold schwarzenegger, jean-claud van damme or steven segal.   \n",
       "1    The rock is destined to be the 21st century's new \" Conan '' and that he's going to make a splash even greater than arnold schwarzenegger, jean-claud van damme or steven segal.   \n",
       "2    The rock is destined to be the 21st century's new \" Conan '' and that he's going to make a splash even greater than arnold schwarzenegger, jean-claud van damme or steven segal.   \n",
       "3    The rock is destined to be the 21st century's new \" Conan '' and that he's going to make a splash even greater than arnold schwarzenegger, jean-claud van damme or steven segal.   \n",
       "4    The rock is destined to be the 21st century's new \" Conan '' and that he's going to make a splash even greater than arnold schwarzenegger, jean-claud van damme or steven segal.   \n",
       "..                                                                                                                                                                                ...   \n",
       "135                                                                                           the exclamation point seems to be the only bit of glee you'll find in this dreary mess.   \n",
       "136                                                                                           The exclamation point seems to be the only bit of glee you'll find in this dreary mess.   \n",
       "137                                                                                           The exclamation point seems to be the only bit of glee you'll find in this dreary mess.   \n",
       "138                                                                                           The exclamation point seems to be the only bit of glee you'll find in this dreary mess.   \n",
       "139                                                                                           The exclamation point seems to be the only bit of glee you'll find in this dreary mess.   \n",
       "\n",
       "     orig_truelabel_probs  pp_truelabel_probs  pp_predclass_probs  orig_label  \\\n",
       "0                0.855556             0.85373            0.853729           1   \n",
       "1                0.855556             0.85373            0.853729           1   \n",
       "2                0.855556             0.85373            0.853729           1   \n",
       "3                0.855556             0.85373            0.853729           1   \n",
       "4                0.855556             0.85373            0.853729           1   \n",
       "..                    ...                 ...                 ...         ...   \n",
       "135              0.933802             0.93380            0.933802           0   \n",
       "136              0.933802             0.93380            0.933802           0   \n",
       "137              0.933802             0.93380            0.933802           0   \n",
       "138              0.933802             0.93380            0.933802           0   \n",
       "139              0.933802             0.93380            0.933802           0   \n",
       "\n",
       "     pp_predclass  label_flip  ...  time_vm_scores  time_sts_scores  \\\n",
       "0               1           0  ...             NaN              NaN   \n",
       "1               1           0  ...             NaN              NaN   \n",
       "2               1           0  ...             NaN              NaN   \n",
       "3               1           0  ...             NaN              NaN   \n",
       "4               1           0  ...             NaN              NaN   \n",
       "..            ...         ...  ...             ...              ...   \n",
       "135             0           0  ...        0.009106         0.069361   \n",
       "136             0           0  ...        0.008631         0.067139   \n",
       "137             0           0  ...        0.008358         0.067487   \n",
       "138             0           0  ...        0.008539         0.066399   \n",
       "139             0           0  ...        0.008343         0.066640   \n",
       "\n",
       "     time_pp_logp  time_log_entropy  time_log_token_probabilities  \\\n",
       "0             NaN               NaN                           NaN   \n",
       "1             NaN               NaN                           NaN   \n",
       "2             NaN               NaN                           NaN   \n",
       "3             NaN               NaN                           NaN   \n",
       "4             NaN               NaN                           NaN   \n",
       "..            ...               ...                           ...   \n",
       "135      0.025311          0.005172                      0.013185   \n",
       "136      0.025241          0.005199                      0.013056   \n",
       "137      0.025539          0.005223                      0.013379   \n",
       "138      0.024764          0.005025                      0.013044   \n",
       "139      0.025217          0.005150                      0.013062   \n",
       "\n",
       "     time_loss_fn_loss_calc  time_backwards  time_calc_gradient_norm  \\\n",
       "0                       NaN             NaN                      NaN   \n",
       "1                       NaN             NaN                      NaN   \n",
       "2                       NaN             NaN                      NaN   \n",
       "3                       NaN             NaN                      NaN   \n",
       "4                       NaN             NaN                      NaN   \n",
       "..                      ...             ...                      ...   \n",
       "135                0.000063        0.434055                 0.019009   \n",
       "136                0.000063        0.449043                 0.018118   \n",
       "137                0.000065        0.444843                 0.014140   \n",
       "138                0.000068        0.426211                 0.014934   \n",
       "139                0.000064        0.460097                 0.012575   \n",
       "\n",
       "     time_opt_step_and_calc_param_norm  time_opt_step  \n",
       "0                                  NaN            NaN  \n",
       "1                                  NaN            NaN  \n",
       "2                                  NaN            NaN  \n",
       "3                                  NaN            NaN  \n",
       "4                                  NaN            NaN  \n",
       "..                                 ...            ...  \n",
       "135                           0.000026       0.000003  \n",
       "136                           0.000038       0.000003  \n",
       "137                           0.033678       0.007324  \n",
       "138                           0.000030       0.000003  \n",
       "139                           0.000030       0.000003  \n",
       "\n",
       "[304 rows x 70 columns]"
      ]
     },
     "execution_count": null,
     "metadata": {},
     "output_type": "execute_result"
    }
   ],
   "source": [
    "pd.concat(df_d.values())"
   ]
  },
  {
   "cell_type": "code",
   "execution_count": null,
   "metadata": {},
   "outputs": [
    {
     "name": "stderr",
     "output_type": "stream",
     "text": [
      "travis_attack.insights: INFO     Adding text metrics for column orig_l\n",
      "travis_attack.insights: INFO     Adding text metrics for column orig_l\n",
      "travis_attack.insights: INFO     Adding text metrics for column orig_l\n",
      "datasets.arrow_dataset: WARNING  Setting TOKENIZERS_PARALLELISM=false for forked processes.\n",
      "datasets.arrow_dataset: WARNING  Setting TOKENIZERS_PARALLELISM=false for forked processes.\n",
      "datasets.arrow_dataset: WARNING  Setting TOKENIZERS_PARALLELISM=false for forked processes.\n",
      "travis_attack.insights: INFO     Adding text metrics for column pp_l\n",
      "travis_attack.insights: INFO     Adding text metrics for column pp_l\n",
      "travis_attack.insights: INFO     Adding text metrics for column pp_l\n",
      "datasets.arrow_dataset: WARNING  Setting TOKENIZERS_PARALLELISM=false for forked processes.\n",
      "datasets.arrow_dataset: WARNING  Setting TOKENIZERS_PARALLELISM=false for forked processes.\n",
      "datasets.arrow_dataset: WARNING  Setting TOKENIZERS_PARALLELISM=false for forked processes.\n",
      "travis_attack.insights: INFO     Calculating metric differences between orig and pp\n",
      "travis_attack.insights: INFO     Calculating metric differences between orig and pp\n",
      "travis_attack.insights: INFO     Calculating metric differences between orig and pp\n",
      "travis_attack.insights: INFO     Calculating text pair statistics for (orig, pp) unique pairs\n",
      "travis_attack.insights: INFO     Calculating text pair statistics for (orig, pp) unique pairs\n",
      "travis_attack.insights: INFO     Calculating text pair statistics for (orig, pp) unique pairs\n",
      "datasets.arrow_dataset: WARNING  Setting TOKENIZERS_PARALLELISM=false for forked processes.\n",
      "datasets.arrow_dataset: WARNING  Setting TOKENIZERS_PARALLELISM=false for forked processes.\n",
      "datasets.arrow_dataset: WARNING  Setting TOKENIZERS_PARALLELISM=false for forked processes.\n",
      "travis_attack.insights: INFO     Adding text metrics for column orig_l\n",
      "travis_attack.insights: INFO     Adding text metrics for column orig_l\n",
      "travis_attack.insights: INFO     Adding text metrics for column orig_l\n",
      "datasets.arrow_dataset: WARNING  Setting TOKENIZERS_PARALLELISM=false for forked processes.\n",
      "datasets.arrow_dataset: WARNING  Setting TOKENIZERS_PARALLELISM=false for forked processes.\n",
      "datasets.arrow_dataset: WARNING  Setting TOKENIZERS_PARALLELISM=false for forked processes.\n",
      "travis_attack.insights: INFO     Adding text metrics for column pp_l\n",
      "travis_attack.insights: INFO     Adding text metrics for column pp_l\n",
      "travis_attack.insights: INFO     Adding text metrics for column pp_l\n",
      "datasets.arrow_dataset: WARNING  Setting TOKENIZERS_PARALLELISM=false for forked processes.\n",
      "datasets.arrow_dataset: WARNING  Setting TOKENIZERS_PARALLELISM=false for forked processes.\n",
      "datasets.arrow_dataset: WARNING  Setting TOKENIZERS_PARALLELISM=false for forked processes.\n",
      "travis_attack.insights: INFO     Calculating metric differences between orig and pp\n",
      "travis_attack.insights: INFO     Calculating metric differences between orig and pp\n",
      "travis_attack.insights: INFO     Calculating metric differences between orig and pp\n",
      "travis_attack.insights: INFO     Calculating text pair statistics for (orig, pp) unique pairs\n",
      "travis_attack.insights: INFO     Calculating text pair statistics for (orig, pp) unique pairs\n",
      "travis_attack.insights: INFO     Calculating text pair statistics for (orig, pp) unique pairs\n",
      "datasets.arrow_dataset: WARNING  Setting TOKENIZERS_PARALLELISM=false for forked processes.\n",
      "datasets.arrow_dataset: WARNING  Setting TOKENIZERS_PARALLELISM=false for forked processes.\n",
      "datasets.arrow_dataset: WARNING  Setting TOKENIZERS_PARALLELISM=false for forked processes.\n",
      "travis_attack.insights: INFO     Adding text metrics for column orig_l\n",
      "travis_attack.insights: INFO     Adding text metrics for column orig_l\n",
      "travis_attack.insights: INFO     Adding text metrics for column orig_l\n",
      "datasets.arrow_dataset: WARNING  Setting TOKENIZERS_PARALLELISM=false for forked processes.\n",
      "datasets.arrow_dataset: WARNING  Setting TOKENIZERS_PARALLELISM=false for forked processes.\n",
      "datasets.arrow_dataset: WARNING  Setting TOKENIZERS_PARALLELISM=false for forked processes.\n",
      "travis_attack.insights: INFO     Adding text metrics for column pp_l\n",
      "travis_attack.insights: INFO     Adding text metrics for column pp_l\n",
      "travis_attack.insights: INFO     Adding text metrics for column pp_l\n",
      "datasets.arrow_dataset: WARNING  Setting TOKENIZERS_PARALLELISM=false for forked processes.\n",
      "datasets.arrow_dataset: WARNING  Setting TOKENIZERS_PARALLELISM=false for forked processes.\n",
      "datasets.arrow_dataset: WARNING  Setting TOKENIZERS_PARALLELISM=false for forked processes.\n",
      "travis_attack.insights: INFO     Calculating metric differences between orig and pp\n",
      "travis_attack.insights: INFO     Calculating metric differences between orig and pp\n",
      "travis_attack.insights: INFO     Calculating metric differences between orig and pp\n",
      "travis_attack.insights: INFO     Calculating text pair statistics for (orig, pp) unique pairs\n",
      "travis_attack.insights: INFO     Calculating text pair statistics for (orig, pp) unique pairs\n",
      "travis_attack.insights: INFO     Calculating text pair statistics for (orig, pp) unique pairs\n",
      "datasets.arrow_dataset: WARNING  Setting TOKENIZERS_PARALLELISM=false for forked processes.\n",
      "datasets.arrow_dataset: WARNING  Setting TOKENIZERS_PARALLELISM=false for forked processes.\n",
      "datasets.arrow_dataset: WARNING  Setting TOKENIZERS_PARALLELISM=false for forked processes.\n",
      "travis_attack.insights: INFO     Adding text metrics for column orig_l\n",
      "travis_attack.insights: INFO     Adding text metrics for column orig_l\n",
      "travis_attack.insights: INFO     Adding text metrics for column orig_l\n",
      "datasets.arrow_dataset: WARNING  Setting TOKENIZERS_PARALLELISM=false for forked processes.\n",
      "datasets.arrow_dataset: WARNING  Setting TOKENIZERS_PARALLELISM=false for forked processes.\n",
      "datasets.arrow_dataset: WARNING  Setting TOKENIZERS_PARALLELISM=false for forked processes.\n",
      "travis_attack.insights: INFO     Adding text metrics for column pp_l\n",
      "travis_attack.insights: INFO     Adding text metrics for column pp_l\n",
      "travis_attack.insights: INFO     Adding text metrics for column pp_l\n",
      "datasets.arrow_dataset: WARNING  Setting TOKENIZERS_PARALLELISM=false for forked processes.\n",
      "datasets.arrow_dataset: WARNING  Setting TOKENIZERS_PARALLELISM=false for forked processes.\n",
      "datasets.arrow_dataset: WARNING  Setting TOKENIZERS_PARALLELISM=false for forked processes.\n",
      "travis_attack.insights: INFO     Calculating metric differences between orig and pp\n",
      "travis_attack.insights: INFO     Calculating metric differences between orig and pp\n",
      "travis_attack.insights: INFO     Calculating metric differences between orig and pp\n",
      "travis_attack.insights: INFO     Calculating text pair statistics for (orig, pp) unique pairs\n",
      "travis_attack.insights: INFO     Calculating text pair statistics for (orig, pp) unique pairs\n",
      "travis_attack.insights: INFO     Calculating text pair statistics for (orig, pp) unique pairs\n",
      "datasets.arrow_dataset: WARNING  Setting TOKENIZERS_PARALLELISM=false for forked processes.\n",
      "datasets.arrow_dataset: WARNING  Setting TOKENIZERS_PARALLELISM=false for forked processes.\n",
      "datasets.arrow_dataset: WARNING  Setting TOKENIZERS_PARALLELISM=false for forked processes.\n"
     ]
    }
   ],
   "source": []
  },
  {
   "cell_type": "code",
   "execution_count": null,
   "metadata": {},
   "outputs": [
    {
     "data": {
      "text/html": [
       "<div>\n",
       "<style scoped>\n",
       "    .dataframe tbody tr th:only-of-type {\n",
       "        vertical-align: middle;\n",
       "    }\n",
       "\n",
       "    .dataframe tbody tr th {\n",
       "        vertical-align: top;\n",
       "    }\n",
       "\n",
       "    .dataframe thead th {\n",
       "        text-align: right;\n",
       "    }\n",
       "</style>\n",
       "<table border=\"1\" class=\"dataframe\">\n",
       "  <thead>\n",
       "    <tr style=\"text-align: right;\">\n",
       "      <th></th>\n",
       "      <th>idx</th>\n",
       "      <th>epoch</th>\n",
       "      <th>orig_l</th>\n",
       "      <th>pp_l</th>\n",
       "      <th>orig_truelabel_probs</th>\n",
       "      <th>pp_truelabel_probs</th>\n",
       "      <th>pp_predclass_probs</th>\n",
       "      <th>orig_label</th>\n",
       "      <th>pp_predclass</th>\n",
       "      <th>label_flip</th>\n",
       "      <th>vm_score</th>\n",
       "      <th>sts_score</th>\n",
       "      <th>reward</th>\n",
       "      <th>pp_logp</th>\n",
       "      <th>loss</th>\n",
       "      <th>batch_num</th>\n",
       "      <th>global_step</th>\n",
       "      <th>acc_num</th>\n",
       "      <th>loss_sum</th>\n",
       "      <th>loss_batch</th>\n",
       "      <th>label_flip_fraction</th>\n",
       "      <th>orig_length</th>\n",
       "      <th>orig_batch_size</th>\n",
       "      <th>pp_length</th>\n",
       "      <th>pp_batch_size</th>\n",
       "      <th>idx_n_unique_pp</th>\n",
       "      <th>idx_n_pp_changes</th>\n",
       "      <th>epoch_of_first_label_flip</th>\n",
       "      <th>n_words_orig</th>\n",
       "      <th>n_sentences_orig</th>\n",
       "      <th>n_punctuation_orig</th>\n",
       "      <th>n_digits_orig</th>\n",
       "      <th>n_letters_orig</th>\n",
       "      <th>n_words_pp</th>\n",
       "      <th>n_sentences_pp</th>\n",
       "      <th>n_punctuation_pp</th>\n",
       "      <th>n_digits_pp</th>\n",
       "      <th>n_letters_pp</th>\n",
       "      <th>n_words_diff</th>\n",
       "      <th>n_sentences_diff</th>\n",
       "      <th>n_punctuation_diff</th>\n",
       "      <th>n_digits_diff</th>\n",
       "      <th>n_letters_diff</th>\n",
       "      <th>removals_idx</th>\n",
       "      <th>removals</th>\n",
       "      <th>insertions_idx</th>\n",
       "      <th>insertions</th>\n",
       "      <th>unchanged_idx</th>\n",
       "      <th>unchanged</th>\n",
       "      <th>n_segments_inserted</th>\n",
       "      <th>n_segments_removed</th>\n",
       "      <th>n_tokens_inserted</th>\n",
       "      <th>n_tokens_removed</th>\n",
       "      <th>is_truncation</th>\n",
       "      <th>any_phrase_capitalised</th>\n",
       "      <th>any_phrase_decapitalised</th>\n",
       "      <th>edit_distance_token_level</th>\n",
       "    </tr>\n",
       "  </thead>\n",
       "  <tbody>\n",
       "    <tr>\n",
       "      <th>0</th>\n",
       "      <td>0</td>\n",
       "      <td>1</td>\n",
       "      <td>compassionately explores the seemingly irreconcilable situation between conservative christian parents and their estranged gay and lesbian children .</td>\n",
       "      <td>compassionately explores the seemingly irreconcilable situation between conservative Christian parents and their estranged gay and lesbian children.</td>\n",
       "      <td>0.94481</td>\n",
       "      <td>0.94481</td>\n",
       "      <td>0.94481</td>\n",
       "      <td>1</td>\n",
       "      <td>1</td>\n",
       "      <td>0</td>\n",
       "      <td>0.0</td>\n",
       "      <td>0.99967</td>\n",
       "      <td>0.5</td>\n",
       "      <td>-1.107438</td>\n",
       "      <td>0.553719</td>\n",
       "      <td>0</td>\n",
       "      <td>3</td>\n",
       "      <td>3</td>\n",
       "      <td>3.964367</td>\n",
       "      <td>0.096692</td>\n",
       "      <td>0.0</td>\n",
       "      <td>32</td>\n",
       "      <td>4</td>\n",
       "      <td>32</td>\n",
       "      <td>4</td>\n",
       "      <td>1</td>\n",
       "      <td>0</td>\n",
       "      <td>1</td>\n",
       "      <td>17</td>\n",
       "      <td>1</td>\n",
       "      <td>1</td>\n",
       "      <td>0</td>\n",
       "      <td>131</td>\n",
       "      <td>17</td>\n",
       "      <td>1</td>\n",
       "      <td>1</td>\n",
       "      <td>0</td>\n",
       "      <td>131</td>\n",
       "      <td>0</td>\n",
       "      <td>0</td>\n",
       "      <td>0</td>\n",
       "      <td>0</td>\n",
       "      <td>0</td>\n",
       "      <td>[8]</td>\n",
       "      <td>[christian christian]</td>\n",
       "      <td>[10]</td>\n",
       "      <td>[Christian Christian]</td>\n",
       "      <td>[0, 1, 2, 3, 4, 5, 6, 7, 12, 13, 14, 15, 16, 17, 18, 19, 20]</td>\n",
       "      <td>[compassionately compassionately explores the seemingly irreconcilable situation between conservative, parents parents and their estranged gay and lesbian children.]</td>\n",
       "      <td>1</td>\n",
       "      <td>1</td>\n",
       "      <td>1</td>\n",
       "      <td>1</td>\n",
       "      <td>False</td>\n",
       "      <td>False</td>\n",
       "      <td>False</td>\n",
       "      <td>1</td>\n",
       "    </tr>\n",
       "    <tr>\n",
       "      <th>1</th>\n",
       "      <td>0</td>\n",
       "      <td>2</td>\n",
       "      <td>compassionately explores the seemingly irreconcilable situation between conservative christian parents and their estranged gay and lesbian children .</td>\n",
       "      <td>compassionately explores the seemingly irreconcilable situation between conservative Christian parents and their estranged gay and lesbian children.</td>\n",
       "      <td>0.94481</td>\n",
       "      <td>0.94481</td>\n",
       "      <td>0.94481</td>\n",
       "      <td>1</td>\n",
       "      <td>1</td>\n",
       "      <td>0</td>\n",
       "      <td>0.0</td>\n",
       "      <td>0.99967</td>\n",
       "      <td>0.5</td>\n",
       "      <td>-1.058536</td>\n",
       "      <td>0.529268</td>\n",
       "      <td>0</td>\n",
       "      <td>6</td>\n",
       "      <td>2</td>\n",
       "      <td>3.820292</td>\n",
       "      <td>0.093178</td>\n",
       "      <td>0.0</td>\n",
       "      <td>32</td>\n",
       "      <td>4</td>\n",
       "      <td>32</td>\n",
       "      <td>4</td>\n",
       "      <td>1</td>\n",
       "      <td>0</td>\n",
       "      <td>1</td>\n",
       "      <td>17</td>\n",
       "      <td>1</td>\n",
       "      <td>1</td>\n",
       "      <td>0</td>\n",
       "      <td>131</td>\n",
       "      <td>17</td>\n",
       "      <td>1</td>\n",
       "      <td>1</td>\n",
       "      <td>0</td>\n",
       "      <td>131</td>\n",
       "      <td>0</td>\n",
       "      <td>0</td>\n",
       "      <td>0</td>\n",
       "      <td>0</td>\n",
       "      <td>0</td>\n",
       "      <td>[8]</td>\n",
       "      <td>[christian christian]</td>\n",
       "      <td>[10]</td>\n",
       "      <td>[Christian Christian]</td>\n",
       "      <td>[0, 1, 2, 3, 4, 5, 6, 7, 12, 13, 14, 15, 16, 17, 18, 19, 20]</td>\n",
       "      <td>[compassionately compassionately explores the seemingly irreconcilable situation between conservative, parents parents and their estranged gay and lesbian children.]</td>\n",
       "      <td>1</td>\n",
       "      <td>1</td>\n",
       "      <td>1</td>\n",
       "      <td>1</td>\n",
       "      <td>False</td>\n",
       "      <td>False</td>\n",
       "      <td>False</td>\n",
       "      <td>1</td>\n",
       "    </tr>\n",
       "    <tr>\n",
       "      <th>2</th>\n",
       "      <td>0</td>\n",
       "      <td>3</td>\n",
       "      <td>compassionately explores the seemingly irreconcilable situation between conservative christian parents and their estranged gay and lesbian children .</td>\n",
       "      <td>compassionately explores the seemingly irreconcilable situation between conservative Christian parents and their estranged gay and lesbian children.</td>\n",
       "      <td>0.94481</td>\n",
       "      <td>0.94481</td>\n",
       "      <td>0.94481</td>\n",
       "      <td>1</td>\n",
       "      <td>1</td>\n",
       "      <td>0</td>\n",
       "      <td>0.0</td>\n",
       "      <td>0.99967</td>\n",
       "      <td>0.5</td>\n",
       "      <td>-1.016760</td>\n",
       "      <td>0.508380</td>\n",
       "      <td>0</td>\n",
       "      <td>9</td>\n",
       "      <td>1</td>\n",
       "      <td>3.689664</td>\n",
       "      <td>0.122989</td>\n",
       "      <td>0.0</td>\n",
       "      <td>32</td>\n",
       "      <td>4</td>\n",
       "      <td>32</td>\n",
       "      <td>4</td>\n",
       "      <td>1</td>\n",
       "      <td>0</td>\n",
       "      <td>1</td>\n",
       "      <td>17</td>\n",
       "      <td>1</td>\n",
       "      <td>1</td>\n",
       "      <td>0</td>\n",
       "      <td>131</td>\n",
       "      <td>17</td>\n",
       "      <td>1</td>\n",
       "      <td>1</td>\n",
       "      <td>0</td>\n",
       "      <td>131</td>\n",
       "      <td>0</td>\n",
       "      <td>0</td>\n",
       "      <td>0</td>\n",
       "      <td>0</td>\n",
       "      <td>0</td>\n",
       "      <td>[8]</td>\n",
       "      <td>[christian christian]</td>\n",
       "      <td>[10]</td>\n",
       "      <td>[Christian Christian]</td>\n",
       "      <td>[0, 1, 2, 3, 4, 5, 6, 7, 12, 13, 14, 15, 16, 17, 18, 19, 20]</td>\n",
       "      <td>[compassionately compassionately explores the seemingly irreconcilable situation between conservative, parents parents and their estranged gay and lesbian children.]</td>\n",
       "      <td>1</td>\n",
       "      <td>1</td>\n",
       "      <td>1</td>\n",
       "      <td>1</td>\n",
       "      <td>False</td>\n",
       "      <td>False</td>\n",
       "      <td>False</td>\n",
       "      <td>1</td>\n",
       "    </tr>\n",
       "    <tr>\n",
       "      <th>3</th>\n",
       "      <td>0</td>\n",
       "      <td>4</td>\n",
       "      <td>compassionately explores the seemingly irreconcilable situation between conservative christian parents and their estranged gay and lesbian children .</td>\n",
       "      <td>compassionately explores the seemingly irreconcilable situation between conservative Christian parents and their estranged gay and lesbian children.</td>\n",
       "      <td>0.94481</td>\n",
       "      <td>0.94481</td>\n",
       "      <td>0.94481</td>\n",
       "      <td>1</td>\n",
       "      <td>1</td>\n",
       "      <td>0</td>\n",
       "      <td>0.0</td>\n",
       "      <td>0.99967</td>\n",
       "      <td>0.5</td>\n",
       "      <td>-0.975335</td>\n",
       "      <td>0.487667</td>\n",
       "      <td>0</td>\n",
       "      <td>12</td>\n",
       "      <td>0</td>\n",
       "      <td>3.569643</td>\n",
       "      <td>0.127487</td>\n",
       "      <td>0.0</td>\n",
       "      <td>32</td>\n",
       "      <td>4</td>\n",
       "      <td>32</td>\n",
       "      <td>4</td>\n",
       "      <td>1</td>\n",
       "      <td>0</td>\n",
       "      <td>1</td>\n",
       "      <td>17</td>\n",
       "      <td>1</td>\n",
       "      <td>1</td>\n",
       "      <td>0</td>\n",
       "      <td>131</td>\n",
       "      <td>17</td>\n",
       "      <td>1</td>\n",
       "      <td>1</td>\n",
       "      <td>0</td>\n",
       "      <td>131</td>\n",
       "      <td>0</td>\n",
       "      <td>0</td>\n",
       "      <td>0</td>\n",
       "      <td>0</td>\n",
       "      <td>0</td>\n",
       "      <td>[8]</td>\n",
       "      <td>[christian christian]</td>\n",
       "      <td>[10]</td>\n",
       "      <td>[Christian Christian]</td>\n",
       "      <td>[0, 1, 2, 3, 4, 5, 6, 7, 12, 13, 14, 15, 16, 17, 18, 19, 20]</td>\n",
       "      <td>[compassionately compassionately explores the seemingly irreconcilable situation between conservative, parents parents and their estranged gay and lesbian children.]</td>\n",
       "      <td>1</td>\n",
       "      <td>1</td>\n",
       "      <td>1</td>\n",
       "      <td>1</td>\n",
       "      <td>False</td>\n",
       "      <td>False</td>\n",
       "      <td>False</td>\n",
       "      <td>1</td>\n",
       "    </tr>\n",
       "    <tr>\n",
       "      <th>4</th>\n",
       "      <td>0</td>\n",
       "      <td>5</td>\n",
       "      <td>compassionately explores the seemingly irreconcilable situation between conservative christian parents and their estranged gay and lesbian children .</td>\n",
       "      <td>compassionately explores the seemingly irreconcilable situation between conservative Christian parents and their estranged gay and lesbian children.</td>\n",
       "      <td>0.94481</td>\n",
       "      <td>0.94481</td>\n",
       "      <td>0.94481</td>\n",
       "      <td>1</td>\n",
       "      <td>1</td>\n",
       "      <td>0</td>\n",
       "      <td>0.0</td>\n",
       "      <td>0.99967</td>\n",
       "      <td>0.5</td>\n",
       "      <td>-0.975335</td>\n",
       "      <td>0.487667</td>\n",
       "      <td>0</td>\n",
       "      <td>15</td>\n",
       "      <td>3</td>\n",
       "      <td>3.569643</td>\n",
       "      <td>0.127487</td>\n",
       "      <td>0.0</td>\n",
       "      <td>32</td>\n",
       "      <td>4</td>\n",
       "      <td>32</td>\n",
       "      <td>4</td>\n",
       "      <td>1</td>\n",
       "      <td>0</td>\n",
       "      <td>1</td>\n",
       "      <td>17</td>\n",
       "      <td>1</td>\n",
       "      <td>1</td>\n",
       "      <td>0</td>\n",
       "      <td>131</td>\n",
       "      <td>17</td>\n",
       "      <td>1</td>\n",
       "      <td>1</td>\n",
       "      <td>0</td>\n",
       "      <td>131</td>\n",
       "      <td>0</td>\n",
       "      <td>0</td>\n",
       "      <td>0</td>\n",
       "      <td>0</td>\n",
       "      <td>0</td>\n",
       "      <td>[8]</td>\n",
       "      <td>[christian christian]</td>\n",
       "      <td>[10]</td>\n",
       "      <td>[Christian Christian]</td>\n",
       "      <td>[0, 1, 2, 3, 4, 5, 6, 7, 12, 13, 14, 15, 16, 17, 18, 19, 20]</td>\n",
       "      <td>[compassionately compassionately explores the seemingly irreconcilable situation between conservative, parents parents and their estranged gay and lesbian children.]</td>\n",
       "      <td>1</td>\n",
       "      <td>1</td>\n",
       "      <td>1</td>\n",
       "      <td>1</td>\n",
       "      <td>False</td>\n",
       "      <td>False</td>\n",
       "      <td>False</td>\n",
       "      <td>1</td>\n",
       "    </tr>\n",
       "  </tbody>\n",
       "</table>\n",
       "</div>"
      ],
      "text/plain": [
       "   idx  epoch  \\\n",
       "0    0      1   \n",
       "1    0      2   \n",
       "2    0      3   \n",
       "3    0      4   \n",
       "4    0      5   \n",
       "\n",
       "                                                                                                                                                  orig_l  \\\n",
       "0  compassionately explores the seemingly irreconcilable situation between conservative christian parents and their estranged gay and lesbian children .   \n",
       "1  compassionately explores the seemingly irreconcilable situation between conservative christian parents and their estranged gay and lesbian children .   \n",
       "2  compassionately explores the seemingly irreconcilable situation between conservative christian parents and their estranged gay and lesbian children .   \n",
       "3  compassionately explores the seemingly irreconcilable situation between conservative christian parents and their estranged gay and lesbian children .   \n",
       "4  compassionately explores the seemingly irreconcilable situation between conservative christian parents and their estranged gay and lesbian children .   \n",
       "\n",
       "                                                                                                                                                   pp_l  \\\n",
       "0  compassionately explores the seemingly irreconcilable situation between conservative Christian parents and their estranged gay and lesbian children.   \n",
       "1  compassionately explores the seemingly irreconcilable situation between conservative Christian parents and their estranged gay and lesbian children.   \n",
       "2  compassionately explores the seemingly irreconcilable situation between conservative Christian parents and their estranged gay and lesbian children.   \n",
       "3  compassionately explores the seemingly irreconcilable situation between conservative Christian parents and their estranged gay and lesbian children.   \n",
       "4  compassionately explores the seemingly irreconcilable situation between conservative Christian parents and their estranged gay and lesbian children.   \n",
       "\n",
       "   orig_truelabel_probs  pp_truelabel_probs  pp_predclass_probs  orig_label  \\\n",
       "0               0.94481             0.94481             0.94481           1   \n",
       "1               0.94481             0.94481             0.94481           1   \n",
       "2               0.94481             0.94481             0.94481           1   \n",
       "3               0.94481             0.94481             0.94481           1   \n",
       "4               0.94481             0.94481             0.94481           1   \n",
       "\n",
       "   pp_predclass  label_flip  vm_score  sts_score  reward   pp_logp      loss  \\\n",
       "0             1           0       0.0    0.99967     0.5 -1.107438  0.553719   \n",
       "1             1           0       0.0    0.99967     0.5 -1.058536  0.529268   \n",
       "2             1           0       0.0    0.99967     0.5 -1.016760  0.508380   \n",
       "3             1           0       0.0    0.99967     0.5 -0.975335  0.487667   \n",
       "4             1           0       0.0    0.99967     0.5 -0.975335  0.487667   \n",
       "\n",
       "   batch_num  global_step  acc_num  loss_sum  loss_batch  label_flip_fraction  \\\n",
       "0          0            3        3  3.964367    0.096692                  0.0   \n",
       "1          0            6        2  3.820292    0.093178                  0.0   \n",
       "2          0            9        1  3.689664    0.122989                  0.0   \n",
       "3          0           12        0  3.569643    0.127487                  0.0   \n",
       "4          0           15        3  3.569643    0.127487                  0.0   \n",
       "\n",
       "   orig_length  orig_batch_size  pp_length  pp_batch_size  idx_n_unique_pp  \\\n",
       "0           32                4         32              4                1   \n",
       "1           32                4         32              4                1   \n",
       "2           32                4         32              4                1   \n",
       "3           32                4         32              4                1   \n",
       "4           32                4         32              4                1   \n",
       "\n",
       "   idx_n_pp_changes  epoch_of_first_label_flip  n_words_orig  \\\n",
       "0                 0                          1            17   \n",
       "1                 0                          1            17   \n",
       "2                 0                          1            17   \n",
       "3                 0                          1            17   \n",
       "4                 0                          1            17   \n",
       "\n",
       "   n_sentences_orig  n_punctuation_orig  n_digits_orig  n_letters_orig  \\\n",
       "0                 1                   1              0             131   \n",
       "1                 1                   1              0             131   \n",
       "2                 1                   1              0             131   \n",
       "3                 1                   1              0             131   \n",
       "4                 1                   1              0             131   \n",
       "\n",
       "   n_words_pp  n_sentences_pp  n_punctuation_pp  n_digits_pp  n_letters_pp  \\\n",
       "0          17               1                 1            0           131   \n",
       "1          17               1                 1            0           131   \n",
       "2          17               1                 1            0           131   \n",
       "3          17               1                 1            0           131   \n",
       "4          17               1                 1            0           131   \n",
       "\n",
       "   n_words_diff  n_sentences_diff  n_punctuation_diff  n_digits_diff  \\\n",
       "0             0                 0                   0              0   \n",
       "1             0                 0                   0              0   \n",
       "2             0                 0                   0              0   \n",
       "3             0                 0                   0              0   \n",
       "4             0                 0                   0              0   \n",
       "\n",
       "   n_letters_diff removals_idx               removals insertions_idx  \\\n",
       "0               0          [8]  [christian christian]           [10]   \n",
       "1               0          [8]  [christian christian]           [10]   \n",
       "2               0          [8]  [christian christian]           [10]   \n",
       "3               0          [8]  [christian christian]           [10]   \n",
       "4               0          [8]  [christian christian]           [10]   \n",
       "\n",
       "              insertions  \\\n",
       "0  [Christian Christian]   \n",
       "1  [Christian Christian]   \n",
       "2  [Christian Christian]   \n",
       "3  [Christian Christian]   \n",
       "4  [Christian Christian]   \n",
       "\n",
       "                                                  unchanged_idx  \\\n",
       "0  [0, 1, 2, 3, 4, 5, 6, 7, 12, 13, 14, 15, 16, 17, 18, 19, 20]   \n",
       "1  [0, 1, 2, 3, 4, 5, 6, 7, 12, 13, 14, 15, 16, 17, 18, 19, 20]   \n",
       "2  [0, 1, 2, 3, 4, 5, 6, 7, 12, 13, 14, 15, 16, 17, 18, 19, 20]   \n",
       "3  [0, 1, 2, 3, 4, 5, 6, 7, 12, 13, 14, 15, 16, 17, 18, 19, 20]   \n",
       "4  [0, 1, 2, 3, 4, 5, 6, 7, 12, 13, 14, 15, 16, 17, 18, 19, 20]   \n",
       "\n",
       "                                                                                                                                                               unchanged  \\\n",
       "0  [compassionately compassionately explores the seemingly irreconcilable situation between conservative, parents parents and their estranged gay and lesbian children.]   \n",
       "1  [compassionately compassionately explores the seemingly irreconcilable situation between conservative, parents parents and their estranged gay and lesbian children.]   \n",
       "2  [compassionately compassionately explores the seemingly irreconcilable situation between conservative, parents parents and their estranged gay and lesbian children.]   \n",
       "3  [compassionately compassionately explores the seemingly irreconcilable situation between conservative, parents parents and their estranged gay and lesbian children.]   \n",
       "4  [compassionately compassionately explores the seemingly irreconcilable situation between conservative, parents parents and their estranged gay and lesbian children.]   \n",
       "\n",
       "   n_segments_inserted  n_segments_removed  n_tokens_inserted  \\\n",
       "0                    1                   1                  1   \n",
       "1                    1                   1                  1   \n",
       "2                    1                   1                  1   \n",
       "3                    1                   1                  1   \n",
       "4                    1                   1                  1   \n",
       "\n",
       "   n_tokens_removed  is_truncation  any_phrase_capitalised  \\\n",
       "0                 1          False                   False   \n",
       "1                 1          False                   False   \n",
       "2                 1          False                   False   \n",
       "3                 1          False                   False   \n",
       "4                 1          False                   False   \n",
       "\n",
       "   any_phrase_decapitalised  edit_distance_token_level  \n",
       "0                     False                          1  \n",
       "1                     False                          1  \n",
       "2                     False                          1  \n",
       "3                     False                          1  \n",
       "4                     False                          1  "
      ]
     },
     "metadata": {},
     "output_type": "display_data"
    }
   ],
   "source": [
    "display_all(df_valid.head())"
   ]
  },
  {
   "cell_type": "code",
   "execution_count": null,
   "metadata": {},
   "outputs": [],
   "source": []
  }
 ],
 "metadata": {
  "kernelspec": {
   "display_name": "Python 3",
   "language": "python",
   "name": "python3"
  }
 },
 "nbformat": 4,
 "nbformat_minor": 4
}
