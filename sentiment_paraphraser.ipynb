{
 "cells": [
  {
   "cell_type": "markdown",
   "metadata": {},
   "source": [
    "GLUE sets: model will be trained on eval set, so you shouldn't also test on the eval set. The problem is that the labels are withheld for the test set. \n",
    "Start with SNLI. MultiNLI is a later option too. As is rotten_tomatoes. \n",
    "* Victim model performance on dataset train, valid, test set. (done, written code to measure it)\n",
    "* Create new paraphrased valid + test datasets (done a preliminary version on the valid set) \n",
    "* Measure victim model performance on paraphrased datasets (done. on vanilla valid set is about 87% accuracy. generating 16 paraphrases (i.e. not many) and evaluating performance on all of them, we get ~75% accuracy)\n",
    "* Get document embeddings of original and paraphrased and compare \n",
    "  * https://github.com/UKPLab/sentence-transformers\n",
    "* Write a simple way to measure paraphrase quality\n",
    "* Construct reward function \n"
   ]
  },
  {
   "cell_type": "code",
   "execution_count": 1,
   "metadata": {},
   "outputs": [],
   "source": [
    "%load_ext autoreload\n",
    "%autoreload 2"
   ]
  },
  {
   "cell_type": "code",
   "execution_count": 25,
   "metadata": {},
   "outputs": [],
   "source": [
    "import os\n",
    "import torch \n",
    "from torch.utils.data import DataLoader\n",
    "from datasets import load_dataset, load_metric\n",
    "import datasets, transformers\n",
    "from transformers import pipeline, AutoModelForSeq2SeqLM, AutoModelForSequenceClassification, AutoTokenizer\n",
    "from pprint import pprint\n",
    "import numpy as np, pandas as pd\n",
    "from utils import *   # local script \n",
    "import pyarrow\n",
    "from sentence_transformers import SentenceTransformer, util\n",
    "from IPython.core.debugger import set_trace\n",
    "\n",
    "pd.set_option(\"display.max_colwidth\", 400)\n",
    "path_cache = './cache/'\n",
    "\n",
    "seed = 420\n",
    "torch.manual_seed(seed)\n",
    "np.random.seed(seed)\n",
    "torch.cuda.manual_seed(seed)\n",
    "\n",
    "device = torch.device('cuda' if torch.cuda.is_available() else 'cpu') \n",
    "devicenum = torch.cuda.current_device() if device.type == 'cuda' else -1\n",
    "n_wkrs = 4 * torch.cuda.device_count()\n",
    "batch_size = 64"
   ]
  },
  {
   "cell_type": "code",
   "execution_count": 3,
   "metadata": {},
   "outputs": [],
   "source": [
    "para_name = \"tuner007/pegasus_paraphrase\"\n",
    "para_tokenizer = AutoTokenizer.from_pretrained(para_name)\n",
    "para_model = AutoModelForSeq2SeqLM.from_pretrained(para_name).to(device)"
   ]
  },
  {
   "cell_type": "code",
   "execution_count": 4,
   "metadata": {},
   "outputs": [],
   "source": [
    "# Victim Model (VM)\n",
    "vm_name = \"textattack/distilbert-base-cased-snli\"\n",
    "vm_tokenizer = AutoTokenizer.from_pretrained(vm_name)\n",
    "vm_model = AutoModelForSequenceClassification.from_pretrained(vm_name).to(device)\n",
    "vm_idx2lbl = vm_model.config.id2label\n",
    "vm_lbl2idx = vm_model.config.label2id"
   ]
  },
  {
   "cell_type": "code",
   "execution_count": 5,
   "metadata": {},
   "outputs": [
    {
     "name": "stderr",
     "output_type": "stream",
     "text": [
      "Reusing dataset snli (/data/tproth/.cache/huggingface/datasets/snli/plain_text/1.0.0/1f60b67533b65ae0275561ff7828aad5ee4282d0e6f844fd148d05d3c6ea251b)\n"
     ]
    },
    {
     "data": {
      "application/vnd.jupyter.widget-view+json": {
       "model_id": "b963a6d215bf4bb3b26fc9ede1c77060",
       "version_major": 2,
       "version_minor": 0
      },
      "text/plain": [
       "HBox(children=(FloatProgress(value=0.0, max=551.0), HTML(value='')))"
      ]
     },
     "metadata": {},
     "output_type": "display_data"
    },
    {
     "name": "stdout",
     "output_type": "stream",
     "text": [
      "\n"
     ]
    },
    {
     "data": {
      "application/vnd.jupyter.widget-view+json": {
       "model_id": "3225875f9b814c39867b152b24480b43",
       "version_major": 2,
       "version_minor": 0
      },
      "text/plain": [
       "HBox(children=(FloatProgress(value=0.0, max=10.0), HTML(value='')))"
      ]
     },
     "metadata": {},
     "output_type": "display_data"
    },
    {
     "name": "stdout",
     "output_type": "stream",
     "text": [
      "\n"
     ]
    },
    {
     "data": {
      "application/vnd.jupyter.widget-view+json": {
       "model_id": "ff991543072149959cfa2bab6aa39e1a",
       "version_major": 2,
       "version_minor": 0
      },
      "text/plain": [
       "HBox(children=(FloatProgress(value=0.0, max=10.0), HTML(value='')))"
      ]
     },
     "metadata": {},
     "output_type": "display_data"
    },
    {
     "name": "stdout",
     "output_type": "stream",
     "text": [
      "\n"
     ]
    }
   ],
   "source": [
    "dataset = load_dataset(\"snli\")\n",
    "train,valid,test = dataset['train'],dataset['validation'],dataset['test']\n",
    "\n",
    "remove_minus1_labels = lambda x: x['label'] != -1\n",
    "train = train.filter(remove_minus1_labels)\n",
    "valid = valid.filter(remove_minus1_labels)\n",
    "test = test.filter(remove_minus1_labels)\n",
    "\n",
    "train_dl = DataLoader(train, batch_size=batch_size, shuffle=True, num_workers=n_wkrs)\n",
    "valid_dl = DataLoader(valid, batch_size=batch_size, shuffle=True, num_workers=n_wkrs)\n",
    "test_dl = DataLoader( test,  batch_size=batch_size, shuffle=True, num_workers=n_wkrs)\n",
    "\n"
   ]
  },
  {
   "cell_type": "code",
   "execution_count": 6,
   "metadata": {
    "code_folding": [
     0,
     7
    ]
   },
   "outputs": [],
   "source": [
    "def get_paraphrases(input_text,num_return_sequences,num_beams, num_beam_groups=1,diversity_penalty=0):\n",
    "  batch = para_tokenizer(input_text,truncation=True,padding='longest', return_tensors=\"pt\").to(device)\n",
    "  translated = para_model.generate(**batch,num_beams=num_beams, num_return_sequences=num_return_sequences, \n",
    "                                   temperature=1.5, num_beam_groups=num_beam_groups, diversity_penalty=diversity_penalty)\n",
    "  tgt_text = para_tokenizer.batch_decode(translated, skip_special_tokens=True)\n",
    "  return tgt_text\n",
    "\n",
    "def gen_hypothesis_paraphrases(x, n_seed_seqs=32): \n",
    "  \"\"\"keep n_seed_seqs at 4,8,16,32,64 etc\"\"\"\n",
    "  # TODO: figure out how to batch this. \n",
    "  if n_seed_seqs % 4 != 0: raise ValueError(\"keep n_seed_seqs divisible by 4 for now\")\n",
    "  n = n_seed_seqs/2\n",
    "  #low diversity (ld) paraphrases \n",
    "  ld_l = get_paraphrases(x['hypothesis'],num_return_sequences=int(n),\n",
    "                            num_beams=int(n))\n",
    "  #high diversity (hd) paraphrases. We can use num_beam_groups and diversity_penalty as hyperparameters. \n",
    "  hd_l =  get_paraphrases(x['hypothesis'],num_return_sequences=int(n),\n",
    "                            num_beams=int(n), num_beam_groups=int(n),diversity_penalty=50002.5)\n",
    "  l = ld_l + hd_l \n",
    "  x['hypothesis_paraphrases'] = l#  list(set(l))             \n",
    "  return x \n"
   ]
  },
  {
   "cell_type": "code",
   "execution_count": 85,
   "metadata": {},
   "outputs": [
    {
     "data": {
      "application/vnd.jupyter.widget-view+json": {
       "model_id": "786686d9c2654d79834f2240a028eded",
       "version_major": 2,
       "version_minor": 0
      },
      "text/plain": [
       "HBox(children=(FloatProgress(value=0.0, max=493.0), HTML(value='')))"
      ]
     },
     "metadata": {},
     "output_type": "display_data"
    },
    {
     "name": "stdout",
     "output_type": "stream",
     "text": [
      "\n"
     ]
    }
   ],
   "source": [
    "fname = path_cache + 'valid_small_48'\n",
    "if os.path.exists(fname):  # caching, rudimentally\n",
    "    valid_small = datasets.load_from_disk(fname)\n",
    "else:\n",
    "    valid_small = valid.shard(20, 0, contiguous=True)\n",
    "    valid_small = valid_small.map(lambda x: gen_hypothesis_paraphrases(x, n_seed_seqs=48),\n",
    "                  batched=False)\n",
    "    valid_small.save_to_disk(fname)"
   ]
  },
  {
   "cell_type": "code",
   "execution_count": 8,
   "metadata": {
    "code_folding": []
   },
   "outputs": [
    {
     "data": {
      "application/vnd.jupyter.widget-view+json": {
       "model_id": "ce715613f35a40dd8cf2d9d2b3c93e09",
       "version_major": 2,
       "version_minor": 0
      },
      "text/plain": [
       "HBox(children=(FloatProgress(value=0.0, max=1.0), HTML(value='')))"
      ]
     },
     "metadata": {},
     "output_type": "display_data"
    },
    {
     "name": "stdout",
     "output_type": "stream",
     "text": [
      "\n"
     ]
    }
   ],
   "source": [
    "# Create a new dataset by repeating all other fields to be same length as number of paraphrases. \n",
    "# \n",
    "def create_paraphrase_dataset(batch): \n",
    "    \"\"\"Repeat the other fields to be the same length as the number of paraphrases.\"\"\"    \n",
    "    n_premises = len(batch['premise'])\n",
    "    paraphrases,hyp,prem,labels=[],[],[],[]\n",
    "    d1 = dict()\n",
    "    def rep_entry(x): return [x for o in range(n_paraphrases)]\n",
    "    for p,h,l,hp in zip(batch['premise'], batch['hypothesis'], batch['label'], batch['hypothesis_paraphrases']):\n",
    "        n_paraphrases = len(hp)\n",
    "        paraphrases +=    hp\n",
    "        hyp         +=    rep_entry(h)\n",
    "        prem        +=    rep_entry(p)\n",
    "        labels      +=    rep_entry(l)\n",
    "    return {\n",
    "        'hypothesis': hyp,\n",
    "        'hypothesis_paraphrases': paraphrases,\n",
    "        'premise':prem,\n",
    "        'label':labels \n",
    "       }\n"
   ]
  },
  {
   "cell_type": "code",
   "execution_count": 31,
   "metadata": {},
   "outputs": [
    {
     "data": {
      "text/plain": [
       "True"
      ]
     },
     "execution_count": 31,
     "metadata": {},
     "output_type": "execute_result"
    }
   ],
   "source": [
    "fname = path_cache + 'valid_small_paraphrases_48'\n",
    "if os.path.exists(fname):     \n",
    "    valid_small_paraphrases = datasets.load_from_disk(fname)\n",
    "else:\n",
    "    # Need to call this with batched=True to work. \n",
    "    valid_small_paraphrases = valid_small.map(create_paraphrase_dataset,batched=True)\n",
    "    valid_small_paraphrases.save_to_disk(fname)\n",
    "some_dl = DataLoader(valid_small_paraphrases, batch_size=16, shuffle=False, num_workers=n_wkrs)"
   ]
  },
  {
   "cell_type": "code",
   "execution_count": 34,
   "metadata": {},
   "outputs": [
    {
     "name": "stdout",
     "output_type": "stream",
     "text": [
      "0 out of 493\n",
      "10 out of 493\n",
      "20 out of 493\n",
      "30 out of 493\n",
      "40 out of 493\n",
      "50 out of 493\n",
      "60 out of 493\n",
      "70 out of 493\n",
      "80 out of 493\n",
      "90 out of 493\n",
      "100 out of 493\n",
      "110 out of 493\n",
      "120 out of 493\n",
      "130 out of 493\n",
      "140 out of 493\n",
      "150 out of 493\n",
      "160 out of 493\n",
      "170 out of 493\n",
      "180 out of 493\n",
      "190 out of 493\n",
      "200 out of 493\n",
      "210 out of 493\n",
      "220 out of 493\n",
      "230 out of 493\n",
      "240 out of 493\n",
      "250 out of 493\n",
      "260 out of 493\n",
      "270 out of 493\n",
      "280 out of 493\n",
      "290 out of 493\n",
      "300 out of 493\n",
      "310 out of 493\n",
      "320 out of 493\n",
      "330 out of 493\n",
      "340 out of 493\n",
      "350 out of 493\n",
      "360 out of 493\n",
      "370 out of 493\n",
      "380 out of 493\n",
      "390 out of 493\n",
      "400 out of 493\n",
      "410 out of 493\n",
      "420 out of 493\n",
      "430 out of 493\n",
      "440 out of 493\n",
      "450 out of 493\n",
      "460 out of 493\n",
      "470 out of 493\n",
      "480 out of 493\n",
      "490 out of 493\n"
     ]
    },
    {
     "data": {
      "text/plain": [
       "{'accuracy': 0.7560851926977687}"
      ]
     },
     "execution_count": 34,
     "metadata": {},
     "output_type": "execute_result"
    }
   ],
   "source": []
  },
  {
   "cell_type": "code",
   "execution_count": 11,
   "metadata": {},
   "outputs": [
    {
     "name": "stdout",
     "output_type": "stream",
     "text": [
      "0 out of 154\n",
      "10 out of 154\n",
      "20 out of 154\n",
      "30 out of 154\n",
      "40 out of 154\n",
      "50 out of 154\n",
      "60 out of 154\n",
      "70 out of 154\n",
      "80 out of 154\n",
      "90 out of 154\n",
      "100 out of 154\n",
      "110 out of 154\n",
      "120 out of 154\n",
      "130 out of 154\n",
      "140 out of 154\n",
      "150 out of 154\n"
     ]
    },
    {
     "data": {
      "text/plain": [
       "{'accuracy': 0.8768542979069295}"
      ]
     },
     "execution_count": 11,
     "metadata": {},
     "output_type": "execute_result"
    }
   ],
   "source": []
  },
  {
   "cell_type": "code",
   "execution_count": 128,
   "metadata": {},
   "outputs": [],
   "source": [
    "embedding_model = SentenceTransformer('paraphrase-distilroberta-base-v1')"
   ]
  },
  {
   "cell_type": "code",
   "execution_count": 130,
   "metadata": {},
   "outputs": [
    {
     "name": "stdout",
     "output_type": "stream",
     "text": [
      "boys play football\n"
     ]
    },
    {
     "data": {
      "text/html": [
       "<div>\n",
       "<style scoped>\n",
       "    .dataframe tbody tr th:only-of-type {\n",
       "        vertical-align: middle;\n",
       "    }\n",
       "\n",
       "    .dataframe tbody tr th {\n",
       "        vertical-align: top;\n",
       "    }\n",
       "\n",
       "    .dataframe thead th {\n",
       "        text-align: right;\n",
       "    }\n",
       "</style>\n",
       "<table border=\"1\" class=\"dataframe\">\n",
       "  <thead>\n",
       "    <tr style=\"text-align: right;\">\n",
       "      <th></th>\n",
       "      <th>para</th>\n",
       "      <th>score</th>\n",
       "    </tr>\n",
       "  </thead>\n",
       "  <tbody>\n",
       "    <tr>\n",
       "      <th>26</th>\n",
       "      <td>boys playing football</td>\n",
       "      <td>0.947049</td>\n",
       "    </tr>\n",
       "    <tr>\n",
       "      <th>27</th>\n",
       "      <td>boys playing football.</td>\n",
       "      <td>0.914903</td>\n",
       "    </tr>\n",
       "    <tr>\n",
       "      <th>31</th>\n",
       "      <td>boys playing football.</td>\n",
       "      <td>0.914903</td>\n",
       "    </tr>\n",
       "    <tr>\n",
       "      <th>8</th>\n",
       "      <td>The boys play football.</td>\n",
       "      <td>0.851649</td>\n",
       "    </tr>\n",
       "    <tr>\n",
       "      <th>4</th>\n",
       "      <td>Boys play football.</td>\n",
       "      <td>0.850938</td>\n",
       "    </tr>\n",
       "    <tr>\n",
       "      <th>16</th>\n",
       "      <td>Boys are playing football</td>\n",
       "      <td>0.823949</td>\n",
       "    </tr>\n",
       "    <tr>\n",
       "      <th>15</th>\n",
       "      <td>Boys playing football.</td>\n",
       "      <td>0.821321</td>\n",
       "    </tr>\n",
       "    <tr>\n",
       "      <th>14</th>\n",
       "      <td>The boys are playing football</td>\n",
       "      <td>0.818522</td>\n",
       "    </tr>\n",
       "    <tr>\n",
       "      <th>25</th>\n",
       "      <td>The boys are playing football</td>\n",
       "      <td>0.818522</td>\n",
       "    </tr>\n",
       "    <tr>\n",
       "      <th>9</th>\n",
       "      <td>There are boys playing football.</td>\n",
       "      <td>0.816782</td>\n",
       "    </tr>\n",
       "    <tr>\n",
       "      <th>20</th>\n",
       "      <td>A group of boys play football.</td>\n",
       "      <td>0.815534</td>\n",
       "    </tr>\n",
       "    <tr>\n",
       "      <th>0</th>\n",
       "      <td>Boys are playing football.</td>\n",
       "      <td>0.803519</td>\n",
       "    </tr>\n",
       "    <tr>\n",
       "      <th>22</th>\n",
       "      <td>Boys play a game of football.</td>\n",
       "      <td>0.801205</td>\n",
       "    </tr>\n",
       "    <tr>\n",
       "      <th>1</th>\n",
       "      <td>The boys are playing football.</td>\n",
       "      <td>0.800540</td>\n",
       "    </tr>\n",
       "    <tr>\n",
       "      <th>19</th>\n",
       "      <td>Boys are playing a football game.</td>\n",
       "      <td>0.774959</td>\n",
       "    </tr>\n",
       "    <tr>\n",
       "      <th>23</th>\n",
       "      <td>A group of boys are playing football.</td>\n",
       "      <td>0.774760</td>\n",
       "    </tr>\n",
       "    <tr>\n",
       "      <th>10</th>\n",
       "      <td>The boys are playing a football game.</td>\n",
       "      <td>0.773342</td>\n",
       "    </tr>\n",
       "    <tr>\n",
       "      <th>3</th>\n",
       "      <td>Boys are playing a game of football.</td>\n",
       "      <td>0.771550</td>\n",
       "    </tr>\n",
       "    <tr>\n",
       "      <th>17</th>\n",
       "      <td>Boys playing a game of football.</td>\n",
       "      <td>0.768752</td>\n",
       "    </tr>\n",
       "    <tr>\n",
       "      <th>5</th>\n",
       "      <td>The boys are playing a game of football.</td>\n",
       "      <td>0.768007</td>\n",
       "    </tr>\n",
       "    <tr>\n",
       "      <th>33</th>\n",
       "      <td>football game between Boys playing</td>\n",
       "      <td>0.759886</td>\n",
       "    </tr>\n",
       "    <tr>\n",
       "      <th>32</th>\n",
       "      <td>football game between Boys</td>\n",
       "      <td>0.727184</td>\n",
       "    </tr>\n",
       "    <tr>\n",
       "      <th>37</th>\n",
       "      <td>Childrenplay Football</td>\n",
       "      <td>0.715676</td>\n",
       "    </tr>\n",
       "    <tr>\n",
       "      <th>6</th>\n",
       "      <td>Boys play sports.</td>\n",
       "      <td>0.689212</td>\n",
       "    </tr>\n",
       "    <tr>\n",
       "      <th>40</th>\n",
       "      <td>childrensplay Football</td>\n",
       "      <td>0.679872</td>\n",
       "    </tr>\n",
       "    <tr>\n",
       "      <th>29</th>\n",
       "      <td>Some people play football</td>\n",
       "      <td>0.673627</td>\n",
       "    </tr>\n",
       "    <tr>\n",
       "      <th>28</th>\n",
       "      <td>the football players are boys</td>\n",
       "      <td>0.670091</td>\n",
       "    </tr>\n",
       "    <tr>\n",
       "      <th>13</th>\n",
       "      <td>Boys play a game.</td>\n",
       "      <td>0.667597</td>\n",
       "    </tr>\n",
       "    <tr>\n",
       "      <th>18</th>\n",
       "      <td>The boys play a game.</td>\n",
       "      <td>0.657246</td>\n",
       "    </tr>\n",
       "    <tr>\n",
       "      <th>7</th>\n",
       "      <td>The boys play a sport.</td>\n",
       "      <td>0.652700</td>\n",
       "    </tr>\n",
       "    <tr>\n",
       "      <th>24</th>\n",
       "      <td>Boys play a sport.</td>\n",
       "      <td>0.645716</td>\n",
       "    </tr>\n",
       "    <tr>\n",
       "      <th>2</th>\n",
       "      <td>Boys play a sport.</td>\n",
       "      <td>0.645716</td>\n",
       "    </tr>\n",
       "    <tr>\n",
       "      <th>45</th>\n",
       "      <td>childrensplay Football plays</td>\n",
       "      <td>0.641729</td>\n",
       "    </tr>\n",
       "    <tr>\n",
       "      <th>11</th>\n",
       "      <td>The boys are playing a game.</td>\n",
       "      <td>0.623531</td>\n",
       "    </tr>\n",
       "    <tr>\n",
       "      <th>12</th>\n",
       "      <td>The boys are playing a sport.</td>\n",
       "      <td>0.611470</td>\n",
       "    </tr>\n",
       "    <tr>\n",
       "      <th>36</th>\n",
       "      <td>Young men plays sports</td>\n",
       "      <td>0.605015</td>\n",
       "    </tr>\n",
       "    <tr>\n",
       "      <th>21</th>\n",
       "      <td>Boys are playing a sport.</td>\n",
       "      <td>0.601319</td>\n",
       "    </tr>\n",
       "    <tr>\n",
       "      <th>30</th>\n",
       "      <td>football game</td>\n",
       "      <td>0.579063</td>\n",
       "    </tr>\n",
       "    <tr>\n",
       "      <th>38</th>\n",
       "      <td>boy's played soccer</td>\n",
       "      <td>0.558289</td>\n",
       "    </tr>\n",
       "    <tr>\n",
       "      <th>39</th>\n",
       "      <td>Guys get to PLAY Football</td>\n",
       "      <td>0.506410</td>\n",
       "    </tr>\n",
       "    <tr>\n",
       "      <th>47</th>\n",
       "      <td>Men and Boys Play</td>\n",
       "      <td>0.499595</td>\n",
       "    </tr>\n",
       "    <tr>\n",
       "      <th>34</th>\n",
       "      <td>People plays sports</td>\n",
       "      <td>0.445083</td>\n",
       "    </tr>\n",
       "    <tr>\n",
       "      <th>43</th>\n",
       "      <td>Girls Play ball</td>\n",
       "      <td>0.432761</td>\n",
       "    </tr>\n",
       "    <tr>\n",
       "      <th>35</th>\n",
       "      <td>kids PLAY BOYS</td>\n",
       "      <td>0.427014</td>\n",
       "    </tr>\n",
       "    <tr>\n",
       "      <th>41</th>\n",
       "      <td>Kids enjoy soccer plays</td>\n",
       "      <td>0.377550</td>\n",
       "    </tr>\n",
       "    <tr>\n",
       "      <th>46</th>\n",
       "      <td>Kids enjoy soccer</td>\n",
       "      <td>0.376592</td>\n",
       "    </tr>\n",
       "    <tr>\n",
       "      <th>42</th>\n",
       "      <td>Kids enjoy soccer plays,</td>\n",
       "      <td>0.360260</td>\n",
       "    </tr>\n",
       "    <tr>\n",
       "      <th>44</th>\n",
       "      <td>a boy is in front</td>\n",
       "      <td>0.337214</td>\n",
       "    </tr>\n",
       "  </tbody>\n",
       "</table>\n",
       "</div>"
      ],
      "text/plain": [
       "                                        para     score\n",
       "26                     boys playing football  0.947049\n",
       "27                    boys playing football.  0.914903\n",
       "31                   boys playing football.   0.914903\n",
       "8                    The boys play football.  0.851649\n",
       "4                        Boys play football.  0.850938\n",
       "16                 Boys are playing football  0.823949\n",
       "15                    Boys playing football.  0.821321\n",
       "14             The boys are playing football  0.818522\n",
       "25             The boys are playing football  0.818522\n",
       "9           There are boys playing football.  0.816782\n",
       "20            A group of boys play football.  0.815534\n",
       "0                 Boys are playing football.  0.803519\n",
       "22             Boys play a game of football.  0.801205\n",
       "1             The boys are playing football.  0.800540\n",
       "19         Boys are playing a football game.  0.774959\n",
       "23     A group of boys are playing football.  0.774760\n",
       "10     The boys are playing a football game.  0.773342\n",
       "3       Boys are playing a game of football.  0.771550\n",
       "17          Boys playing a game of football.  0.768752\n",
       "5   The boys are playing a game of football.  0.768007\n",
       "33        football game between Boys playing  0.759886\n",
       "32                football game between Boys  0.727184\n",
       "37                     Childrenplay Football  0.715676\n",
       "6                          Boys play sports.  0.689212\n",
       "40                    childrensplay Football  0.679872\n",
       "29                 Some people play football  0.673627\n",
       "28             the football players are boys  0.670091\n",
       "13                         Boys play a game.  0.667597\n",
       "18                     The boys play a game.  0.657246\n",
       "7                     The boys play a sport.  0.652700\n",
       "24                        Boys play a sport.  0.645716\n",
       "2                         Boys play a sport.  0.645716\n",
       "45              childrensplay Football plays  0.641729\n",
       "11              The boys are playing a game.  0.623531\n",
       "12             The boys are playing a sport.  0.611470\n",
       "36                    Young men plays sports  0.605015\n",
       "21                 Boys are playing a sport.  0.601319\n",
       "30                             football game  0.579063\n",
       "38                       boy's played soccer  0.558289\n",
       "39                 Guys get to PLAY Football  0.506410\n",
       "47                         Men and Boys Play  0.499595\n",
       "34                       People plays sports  0.445083\n",
       "43                           Girls Play ball  0.432761\n",
       "35                            kids PLAY BOYS  0.427014\n",
       "41                   Kids enjoy soccer plays  0.377550\n",
       "46                         Kids enjoy soccer  0.376592\n",
       "42                  Kids enjoy soccer plays,  0.360260\n",
       "44                         a boy is in front  0.337214"
      ]
     },
     "execution_count": 130,
     "metadata": {},
     "output_type": "execute_result"
    }
   ],
   "source": [
    "# with sentence transformers\n",
    "i =9\n",
    "data = valid_small[i]\n",
    "orig, para = data['hypothesis'], data['hypothesis_paraphrases']\n",
    "orig_emb,para_emb  = embedding_model.encode(orig),embedding_model.encode(para)\n",
    "cos_sim = util.cos_sim(orig_emb,para_emb)[0]\n",
    "results_df = pd.DataFrame({'para': para,'score': cos_sim})\n",
    "print(orig)\n",
    "results_df.sort_values('score', ascending=False)"
   ]
  },
  {
   "cell_type": "markdown",
   "metadata": {},
   "source": [
    "## Archive "
   ]
  },
  {
   "cell_type": "code",
   "execution_count": null,
   "metadata": {},
   "outputs": [],
   "source": [
    "# # calculates performance of victim model on a dataloader \n",
    "# dl = valid_dl\n",
    "# metric = load_metric('accuracy')\n",
    "# for i, data in enumerate(dl): \n",
    "#     if i % 10 == 0 : print(i, \"out of\", len(dl)) \n",
    "#     labels,premise,hypothesis = data['label'].to(device),data[\"premise\"],data[\"hypothesis\"]\n",
    "#     inputs = vm_tokenizer(premise,hypothesis, padding=True,truncation=True, return_tensors=\"pt\")\n",
    "#     inputs.to(device)\n",
    "#     outputs = vm_model(**inputs, labels=labels)\n",
    "#     probs = outputs.logits.softmax(1)\n",
    "#     preds = probs.argmax(1)\n",
    "#     metric.add_batch(predictions=preds, references=labels)\n",
    "\n",
    "# metric.compute()\n"
   ]
  },
  {
   "cell_type": "code",
   "execution_count": null,
   "metadata": {},
   "outputs": [],
   "source": [
    "# # Calculates accuracy on the paraphrase dataset\n",
    "# dl = some_dl\n",
    "# metric = load_metric('accuracy')\n",
    "# for i, data in enumerate(dl): \n",
    "#     if i % 10 == 0 : print(i, \"out of\", len(dl))\n",
    "#     labels,premise,paraphrases = data['label'].to(device),data[\"premise\"],data[\"hypothesis_paraphrases\"]\n",
    "#     inputs = vm_tokenizer(premise,paraphrases, padding=True,truncation=True, return_tensors=\"pt\")\n",
    "#     inputs.to(device)\n",
    "#     outputs = vm_model(**inputs, labels=labels)\n",
    "#     probs = outputs.logits.softmax(1)\n",
    "#     preds = probs.argmax(1)\n",
    "#     metric.add_batch(predictions=preds, references=labels)\n",
    "\n",
    "# metric.compute()"
   ]
  },
  {
   "cell_type": "code",
   "execution_count": null,
   "metadata": {},
   "outputs": [],
   "source": [
    "# # Score semantic similarity with cross encoders\n",
    "# from sentence_transformers.cross_encoder import CrossEncoder\n",
    "# cross_encoder= CrossEncoder('cross-encoder/quora-distilroberta-base')\n",
    "# i =11\n",
    "# data = valid_small[i]\n",
    "# orig, para = data['hypothesis'], data['hypothesis_paraphrases']\n",
    "# orig_rep = [orig for i in range(len(para))]\n",
    "# pairs = list(zip(orig_rep,para))\n",
    "# scores = cross_encoder.predict(pairs)\n",
    "# results_df = pd.DataFrame({'pairs':pairs, 'para': para,'score': cos_sim})\n",
    "# print(orig)\n",
    "# results_df.sort_values('score', ascending=False)"
   ]
  }
 ],
 "metadata": {
  "kernelspec": {
   "display_name": "Python 3",
   "language": "python",
   "name": "python3"
  },
  "language_info": {
   "codemirror_mode": {
    "name": "ipython",
    "version": 3
   },
   "file_extension": ".py",
   "mimetype": "text/x-python",
   "name": "python",
   "nbconvert_exporter": "python",
   "pygments_lexer": "ipython3",
   "version": "3.8.5"
  },
  "toc": {
   "base_numbering": 1,
   "nav_menu": {},
   "number_sections": true,
   "sideBar": true,
   "skip_h1_title": false,
   "title_cell": "Table of Contents",
   "title_sidebar": "Contents",
   "toc_cell": false,
   "toc_position": {},
   "toc_section_display": true,
   "toc_window_display": false
  }
 },
 "nbformat": 4,
 "nbformat_minor": 4
}
