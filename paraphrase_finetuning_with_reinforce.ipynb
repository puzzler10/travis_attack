{
 "cells": [
  {
   "cell_type": "markdown",
   "metadata": {
    "heading_collapsed": true
   },
   "source": [
    "## Introduction "
   ]
  },
  {
   "cell_type": "markdown",
   "metadata": {
    "hidden": true
   },
   "source": [
    "Here we are trying to adjust parameters of a paraphrase model to generate adversarial examples. \n",
    "### Policy gradients \n",
    "The key parameter update equation is $\\theta_{t+1} = \\theta_t + \\alpha \\nabla_\\theta J(\\theta)$, where $\\alpha$ is a step size parameter, the parameter vector $\\theta$ is for a model (here a paraphrase model), and $J$ is a loss function. The time step $t$ depends on the problem specification and we will get to it later. \n",
    "\n",
    "Now in my review I have defined the loss function $J(\\theta) = E_\\pi[r(\\tau)]$. Here: \n",
    "* $\\pi$ is the policy, a probability distribution for the next action in a given state; essentially $p(a_t|s_t)$\n",
    "* $\\tau$ is a trajectory, a specific sequence $s_0, a_0, r_1, s_1, a_1, \\ldots$ of the agent in the game. This starts at time $t=0$ and finishes at time $t=T$. \n",
    "* $r(\\tau)$ is the sum of rewards for a trajectory $\\tau$, or in other words, the total reward for the trajectory. \n",
    "\n",
    "For this loss function higher values are better (which might make it a reward function) and so we might have to invert it at some point. \n",
    "\n",
    "To update parameters we must find the gradient $\\nabla_\\theta J(\\theta)$, which measures how $J(\\theta)$ changes when we adjust the parameters of the paraphrase model. The gradient is simplified through some maths to get the policy gradient theorem $$ \\nabla_\\theta J(\\theta) =  \\nabla_\\theta E_\\pi [r(\\tau)]  = E_\\pi \\left[r(\\tau) \\sum_{t=1}^T \\nabla_\\theta \\log \\pi (a_t|s_t)  \\right] $$ \n",
    "\n",
    "To calculate this you need to calculate the expectation term, which in turn means evaluating every possible trajectory $\\tau$ and its expected return. Generally this is not possible and instead we turn to estimators.  \n",
    "\n",
    "One of these is REINFORCE. It gives us  $$ \\nabla_\\theta J(\\theta) \\approx \\sum_{s=1}^S \\sum_{t=1}^T G_t \\nabla \\log \\pi(a_t|s_t)$$ where \n",
    "* $G_t$ is the discounted return and is given by $G_t = r_t + \\beta r_{t-1} + \\beta^2 r_{t-2} + \\dots$. It's a rough estimate of $r(\\tau)$. Rewards obtained later in the episode are weighted much higher than rewards obtained earlier. I guess it assumes that the parameters update every timestep. \n",
    "* $S$ is some number of samples.\n",
    "\n",
    "The implementation of REINFORCE and similar estimators depends on how we formulate the problem. Below we present some possible formulations"
   ]
  },
  {
   "cell_type": "markdown",
   "metadata": {
    "hidden": true
   },
   "source": [
    "### Interpretation One: Document-level  \n",
    "This is the first implementation we will try. \n",
    "\n",
    "Here we generate a list of paraphrases at each time point. The idea is that there is one paraphrase amongst them that is a good adversarial example. We try to tune the model to produce the best one. \n",
    "\n",
    "This interpretation sees forming the complete paraphrase as one time step. So it isn't token-level but document-level. \n",
    "\n",
    "* Starting state: $s0 = x$, the original example  \n",
    "* Actions: each action is \"choosing\" a paraphrase (or of choosing $n$ paraphrases). The set of all possible paraphrases and their probabilities is the policy. So $\\pi(a|s) = p(x'| x;\\theta)$ where $x'$ is the paraphrase (or list of paraphrases). \n",
    "    * To approximate this probability, what we can do is generate a large list of paraphrases, and for each, the probabilities of generating each token in turn for that paraphrase. This gives a rough \"probability\" of how likely that sequence was. This number is kind of like a weight for how good that paraphrase is, according to the model.  We can then turn the weights into probabilities to get a \"probability\" of the paraphrase. This is dependent on the number of paraphrases generated, so generating a large list is likely to be better for this task. \n",
    "* Reward: The paraphrase moves through the reward function $R(x, x')$) to get the reward $r$. \n",
    "* Time steps: We only have one time step in the game ($T=1$ and $G_t=r$)  \n"
   ]
  },
  {
   "cell_type": "markdown",
   "metadata": {
    "hidden": true
   },
   "source": [
    "There are a few variations to this scenario that we can do. For each of these we will formulate the policy and the reward function $R$. Below, $x'$ means paraphrase, $f(x)_y$ means the model confidence of x for the class of the true label $y$, $SS(a,b)$ is the result of a semantic similarity model run over $a$ and $b$, and $\\lambda$ is a hyperparameter.  \n",
    "\n",
    "\n",
    "#### One-paraphrase \n",
    "Here we only generate one paraphrase. This scenario also has a few options. First we generate a list of paraphrases with the probabilities of selecting one. Then we either sample probabilistically from the list or pick the most probable option. \n",
    "\n",
    "In this case the policy $p(x'|x,\\theta)$ is the chance of obtaining a specific paraphrase. For the sampling option this is equal to its sample probability. For the top option this is just the probability of selecting that option. \n",
    "\n",
    "The reward function might look like $R(x,x') = f(x)_y - f(x')_y + \\lambda SS(x, x')$. We could also make the $SS$ factor a step-function above some threshold. \n",
    "\n",
    "The REINFORCE equation $$ \\nabla_\\theta J(\\theta) \\approx \\sum_{s=1}^S \\sum_{t=1}^T G_t \\nabla \\log \\pi(a_t|s_t)$$ becomes $$ \\nabla_\\theta J(\\theta) \\approx \\sum_{s=1}^S  R(x,x'_s) \\nabla \\log p(x'_s|x,\\theta)$$ We repeat the process $S$ times where $S$ is ideally as large as possible. We can start with something simple (e.g. $S=10$ or $S=100$) and go from there.  \n",
    "\n",
    "The gradient term $\\nabla \\log p(x'_s|x,\\theta)$ can hopefully be found with autodiff. \n",
    "\n",
    "#### Set of paraphrases\n",
    "In this scenario the paraphrase model is evaluated on performance over a set of paraphrases, which we call $X'$ here. The policy becomes $p(X'|x, \\theta)$, the probability of obtaining that list. We can get this probability by multipling together the \"probability\" of each individual paraphrase, multiplying also by nCr (for r paraphrases out of n total) to account for the lack of order in the list. \n",
    "\n",
    "We can make a number of sub-scenarios here. \n",
    "\n",
    "For the **top-paraphrase in set** condition the paraphrase generator is only measured on the best reward for a paraphrase in its set. The idea is the generator will learn to produce a diverse set of examples, any of which could plausibly be a good adversarial example. Here we only look at best performing paraphrase $x'_m$, which we can find by $x'_m = \\max_i [f(x)_y - f(x'_i)_y]$, then return $R(x,x'_m) = [f(x)_y - f(x'_m)_y] + \\lambda SS(x,x'_m)$ \n",
    "\n",
    "For the **average-paraphrase in set** condition the paraphrase generator is measured on the average reward of the paraphrases in its set. This encourages the generator to consider performance of all examples more-or-less equally. The reward function could be something like $\\frac{1}{k} \\sum_{i=1}^k \\left[ f(x)_y - f(x'_i)_y + \\lambda SS(x, x'_i) \\right]$ \n",
    "\n",
    "A combination of these scenarios is the **top-k/top-p\\% paraphrases in set**. Here we only use the top-$k$ paraphrases, or more generally, the top $p$ percentage of paraphrases. \n"
   ]
  },
  {
   "cell_type": "markdown",
   "metadata": {
    "hidden": true
   },
   "source": [
    "### Interpretation 2: Token-level\n",
    "This interpretation is at token-level; it sees choosing the next word as the next time step. \n",
    "\n",
    "* Starting state: $s0 = x$, the initial state. But you also have a \"blank slate\" for the paraphrase. So maybe it's a tuple (x, pp) where pp is a paraphrase with no words. Here x is used as the reference for the paraphrase generator.  \n",
    "* Actions: Choose the next word of p. I guess this starts with the \\<START\\> token (or something similar). Then you have the policy $\\pi(a|s)$ which is the same as $p(w_{next}|pp, x; \\theta)$ where $\\theta$ is the paraphrase model parameters, $pp$ is the so-far constructed sentence, and $w_{next}$ is the next token (I say token because I don't know if this model is on the subword or word basis). \n",
    "* Time steps: every token is generated one-by-one and each of these is allocated a time step. This means probably that you also update the parameters after each token generated too. \n",
    "* Reward. The reward is allocated every token. There are many reward functions (see papers on token-level loss functions). Some also incorporate document-level rewards too. \n",
    "* Next state. $s_1$ is again the tuple $(x, pp)$ but now $pp$ has the first word in it. \n",
    "\n",
    "On *teacher forcing*. This is when you have a ground-truth paraphrase and you can use it when generating tokens. This is useful because if the model makes a mistake it doesn't continue down that track but is adjusted back. This stops big divergences (but also might limit the diversity of generated paraphrases). This is used when training a paraphrase model. You have a set of reference paraphrases that are human provided. Here though we only have the original sentence and no references. We could generate adversarial examples and use that to do teacher forcing. Generating them using textattack recipes might work. This is only really used on the token-level rewards. "
   ]
  },
  {
   "cell_type": "markdown",
   "metadata": {
    "hidden": true
   },
   "source": [
    "### Updating the paraphrase model parameters. "
   ]
  },
  {
   "cell_type": "markdown",
   "metadata": {
    "hidden": true
   },
   "source": [
    "There is a choice here. We can either directly update the parameters of the paraphrase model. Or we can fix the parameters and add a new dense layer to the end of the model. We could then train this dense layer to convert paraphrases to adversarial paraphrases. \n",
    "\n",
    "Before trying this out, I am worried that we will destroy the capabilities of the paraphrase generator a bit. We might get semantically invalid or ungrammatical or gibberish text. If so we could try and mitigate it a bit by shaping our reward function to maintain grammatical components. "
   ]
  },
  {
   "cell_type": "markdown",
   "metadata": {
    "hidden": true
   },
   "source": [
    "### Experiment order"
   ]
  },
  {
   "cell_type": "markdown",
   "metadata": {
    "hidden": true
   },
   "source": [
    "Plan is to try the following order: \n",
    "\n",
    "1. One-paraphrase (most probable option). I'll start with this one because it is probably the most simple case. Within this category: \n",
    "    1a. tune existing parameters only (see if the text is recognisable) \n",
    "    1b. add dense layer onto end and try again \n",
    "2. One-paraphrase (sampled). This seems like a logical extension on the first one. \n",
    "3. Paraphrase-set options. (Decide after finishing 1, 2) \n",
    "4. Token-level tuning. (Decide after 1,2,3)\n"
   ]
  },
  {
   "cell_type": "markdown",
   "metadata": {
    "hidden": true
   },
   "source": [
    "### Layer Freezing"
   ]
  },
  {
   "cell_type": "markdown",
   "metadata": {
    "hidden": true
   },
   "source": [
    "I am uncertain on if to do this or not. \n",
    "\n",
    "* This [paper](https://arxiv.org/abs/1911.03090) indicates that you can get pretty good results by freezing all layers except the last few \n",
    "* Conversely I saw in the transformers documentation that transformers train better if you don't do layer freezing \n"
   ]
  },
  {
   "cell_type": "markdown",
   "metadata": {},
   "source": [
    "## Setup, load models + datasets "
   ]
  },
  {
   "cell_type": "code",
   "execution_count": 1,
   "metadata": {},
   "outputs": [],
   "source": [
    "%load_ext autoreload\n",
    "%autoreload 2\n",
    "%load_ext line_profiler"
   ]
  },
  {
   "cell_type": "code",
   "execution_count": 2,
   "metadata": {
    "code_folding": [
     0
    ]
   },
   "outputs": [],
   "source": [
    "## Imports and environment variables \n",
    "import os\n",
    "os.environ[\"TOKENIZERS_PARALLELISM\"]  = \"true\"  # set to false if not working\n",
    "\n",
    "# Core imports \n",
    "import torch, numpy as np, pandas as pd, gc,sys, logging, warnings, time\n",
    "from torch.utils.data import DataLoader, RandomSampler\n",
    "from datasets import load_dataset, load_metric, load_from_disk, DatasetDict\n",
    "from transformers import (AutoModelForSeq2SeqLM, AutoModelForSequenceClassification, \n",
    "                          AutoTokenizer, AdamW, SchedulerType, get_scheduler)\n",
    "from sentence_transformers import SentenceTransformer\n",
    "from sentence_transformers.util import pytorch_cos_sim\n",
    "from collections import defaultdict\n",
    "from accelerate import Accelerator, notebook_launcher\n",
    "from cachetools import cached, LRUCache\n",
    "from types import MethodType\n",
    "import utils; from utils import *   # local script \n",
    "from tqdm.auto import tqdm\n",
    "import itertools\n",
    "import copy \n",
    "import wandb\n",
    "from undecorated import undecorated\n",
    "\n",
    "\n",
    "# Dev imports (not needed for final script)\n",
    "import seaborn as sns\n",
    "from IPython.display import Markdown\n",
    "from pprint import pprint\n",
    "from IPython.core.debugger import set_trace\n",
    "from GPUtil import showUtilization\n",
    "import torchsnooper"
   ]
  },
  {
   "cell_type": "code",
   "execution_count": 3,
   "metadata": {
    "code_folding": []
   },
   "outputs": [],
   "source": [
    "#### Parameters, notes and training settings\n",
    "\n",
    "### These parameters mostly don't do anything but are more notes (for the wanb.init function)\n",
    "debug_run = \"true\"   # doesn't do anything\n",
    "sampling_strategy = \"greedy\"  # doesn't do anything\n",
    "# copy-paste this from reward function\n",
    "reward_strategy = \"[-0.5 if sts < 0.5 else 0.5+v*sts for v,sts in zip(vm_scores, sts_scores)]\" # doesn't do anything\n",
    "# options for the pp_model \n",
    "# 1. tuner007/pegasus_paraphrase\n",
    "# 2. tdopierre/ProtAugment-ParaphraseGenerator\n",
    "# 3. eugenesiow/bart-paraphrase\n",
    "#pp_name = \"eugenesiow/bart-paraphrase\"\n",
    "pp_name = \"eugenesiow/bart-paraphrase\"\n",
    "vm_name = \"textattack/distilbert-base-uncased-rotten-tomatoes\"\n",
    "sts_name = \"sentence-transformers/paraphrase-multilingual-MiniLM-L12-v2\"\n",
    "dataset_name = \"simple\"\n",
    "n_layers_frozen = \"2\"  # counting from the back (doesn't do anything yet)\n",
    "use_fp16 = True\n",
    "save_model_while_training = False\n",
    "save_model_freq = 10\n",
    "\n",
    "# These parameters only have effect if small_ds = True\n",
    "\n",
    "### Paraphrase parameters  \n",
    "pp_model_params = {\n",
    "    \"num_beams\": 1, \n",
    "    \"num_return_sequences\": 1, \n",
    "    \"num_beam_groups\": 1, \n",
    "    \"diversity_penalty\": 0.,   # must be a float\n",
    "    \"temperature\": 1.5,\n",
    "    \"length_penalty\" : 1,\n",
    "    \"min_length\" : 5\n",
    "}\n",
    "if dataset_name == \"rotten_tomatoes\":\n",
    "    max_length = 64\n",
    "    pp_model_params['max_length'] = max_length\n",
    "    batch_size_train = 32\n",
    "    batch_size_eval = 128\n",
    "    accumulation_steps = 1\n",
    "    n_train_epochs = 3\n",
    "    eval_freq = 1 \n",
    "    use_small_ds = False  # for testing purposes\n",
    "    n_shards         = 10    if use_small_ds else None \n",
    "    shard_contiguous = False if use_small_ds else None \n",
    "elif dataset_name == \"simple\":\n",
    "    max_length = 20\n",
    "    pp_model_params['max_length'] = max_length\n",
    "    batch_size_train = 2\n",
    "    batch_size_eval = 4\n",
    "    accumulation_steps = 1\n",
    "    eval_freq = 10 \n",
    "    n_train_epochs = 150\n",
    "    use_small_ds = False  # for testing purposes\n",
    "    n_shards         =  None \n",
    "    shard_contiguous =  None \n",
    "    if use_small_ds == True: \n",
    "        raise Exception(\"Don't shard when using the simple dataset (no need)\")\n",
    "\n",
    "\n",
    "### Training parameters\n",
    "seed = 420\n",
    "lr = 3e-5 # Initial learning rate (after the potential warmup period) to use\n",
    "normalise_rewards = False\n",
    "metrics = ['loss', 'pp_logp', 'reward', 'vm_score', \"sts_score\", 'label_flip']\n",
    "pin_memory = True\n",
    "zero_grad_with_none = False\n",
    "pad_token_embeddings = True\n",
    "padding_multiple = 8 \n",
    "bucket_by_length = True\n",
    "shuffle_train = False\n",
    "remove_misclassified_examples = True\n",
    "#weight_decay = 0\n",
    "#lr_scheduler_type = 'none'\n",
    "#n_warmup_steps = 30 \n",
    "\n",
    "### W&B parameters\n",
    "wandb_mode = \"online\"  # set to \"disabled\" to turn off wandb, \"online\" to enable it\n",
    "wandb_log_grads = False   \n",
    "wandb_log_grads_freq = 1  # no effect if wandb_log_grads is False\n",
    "wandb_plot_examples = False\n",
    "wandb_n_examples_plot = 4  # number of individual examples to plot curves for\n",
    "# log a table to wandb with the examples and rewards the model sees while training. Useful for debugging \n",
    "# and seeing what is going on, but slows down training time. \n",
    "wandb_log_training_step_table = True  \n",
    "\n",
    "# Parameter dict\n",
    "config_d = dict(\n",
    "    debug_run = debug_run,\n",
    "    sampling_strategy = sampling_strategy,\n",
    "    reward_strategy = reward_strategy,\n",
    "    pp_name = pp_name,\n",
    "    vm_name = vm_name,\n",
    "    sts_name=sts_name,\n",
    "    dataset_name = dataset_name, \n",
    "    use_small_ds = use_small_ds,\n",
    "    shard_params = dict(\n",
    "        n_shards = n_shards,\n",
    "        shard_contiguous = shard_contiguous,\n",
    "    ),\n",
    "    n_layers_frozen = n_layers_frozen,\n",
    "    pp_model_params = pp_model_params, \n",
    "    seed = seed,\n",
    "    batch_size_train = batch_size_train,\n",
    "    batch_size_eval = batch_size_eval,\n",
    "    fp16 = use_fp16,\n",
    "    max_length = max_length,\n",
    "    lr = lr, \n",
    "    accumulation_steps=accumulation_steps,\n",
    "    n_train_epochs = n_train_epochs,\n",
    "    eval_freq = eval_freq,\n",
    "    normalise_rewards = normalise_rewards,\n",
    "    metrics = metrics,\n",
    "    pin_memory = pin_memory,\n",
    "    zero_grad_with_none = zero_grad_with_none,\n",
    "    pad_token_embeddings = pad_token_embeddings,\n",
    "    padding_multiple = padding_multiple,\n",
    "    bucket_by_length = bucket_by_length,\n",
    "    shuffle_train = shuffle_train,\n",
    "    remove_misclassified_examples = remove_misclassified_examples, \n",
    "    wandb_params=dict(\n",
    "        log_grads = wandb_log_grads,\n",
    "        log_grads_freq = wandb_log_grads_freq, \n",
    "        plot_examples = wandb_plot_examples, \n",
    "        n_examples_plot = wandb_n_examples_plot, \n",
    "        log_training_step_table = wandb_log_training_step_table\n",
    "    )\n",
    ")"
   ]
  },
  {
   "cell_type": "code",
   "execution_count": 4,
   "metadata": {
    "code_folding": []
   },
   "outputs": [],
   "source": [
    "#### Misc setup\n",
    "# Paths\n",
    "path_cache = './cache/'\n",
    "path_results = \"./results/\"\n",
    "path_data = \"./data/\"\n",
    "path_checkpoints = \"../model_checkpoints/travis_attack/\"\n",
    "\n",
    "# Seeds\n",
    "torch.manual_seed(seed)\n",
    "np.random.seed(seed)\n",
    "torch.cuda.manual_seed(seed)\n",
    "\n",
    "# Devices and GPU settings\n",
    "device = torch.device('cuda' if torch.cuda.is_available() else 'cpu') \n",
    "#device = accelerator.device\n",
    "devicenum = torch.cuda.current_device() if device.type == 'cuda' else -1\n",
    "# When not using Accelerator\n",
    "#n_wkrs = 4 * torch.cuda.device_count()\n",
    "# When using Accelerator \n",
    "n_wkrs = 0 \n",
    "\n",
    "# Configs\n",
    "pd.set_option(\"display.max_colwidth\", 400)\n",
    "wandb.Table.MAX_ARTIFACT_ROWS = 1000000\n",
    "wandb.Table.MAX_ROWS = 1000000\n",
    "run_notes = f\"Debug run:{debug_run}\\nReward: {reward_strategy}\\nDataset: {dataset_name}\\\n",
    "\\nSampling strategy: {sampling_strategy}\"\n",
    "\n",
    "# Logging \n",
    "logging.basicConfig(format='%(message)s', stream=sys.stdout) # stdout while we are doing stdout to file piping\n",
    "logger = logging.getLogger(\"main_logger\")\n",
    "logger.setLevel(logging.INFO)\n",
    "\n",
    "# Other \n",
    "splits = ['train', 'valid', 'test']\n",
    "\n",
    "### Dev code\n",
    "# used to know what to set max_pp_length to. \n",
    "track_pp_sizes = False\n",
    "if track_pp_sizes: \n",
    "    n_train_epochs = 1\n",
    "    use_small_ds = True \n",
    "    n_shards = 2  # half the train dataset gives us a good understanding of this\n",
    "    orig_max_l = []\n",
    "    pp_max_l = []\n",
    "    # After running the code  \n",
    "    # sns.distplot(orig_max_l)\n",
    "    # sns.distplot(pp_max_l)"
   ]
  },
  {
   "cell_type": "markdown",
   "metadata": {},
   "source": [
    "### Load models"
   ]
  },
  {
   "cell_type": "code",
   "execution_count": 5,
   "metadata": {
    "code_folding": [
     21
    ]
   },
   "outputs": [],
   "source": [
    "## Paraphrase (pp) model \n",
    "pp_tokenizer = AutoTokenizer.from_pretrained(pp_name)\n",
    "# takes about 3GB memory space up on the GPU\n",
    "# change the `local_files_only` argument if changing the model name \n",
    "pp_model = AutoModelForSeq2SeqLM.from_pretrained(pp_name, local_files_only=True)\n",
    "# The no_grad version of generate\n",
    "generate_with_grad = undecorated(pp_model.generate)\n",
    "pp_model.generate_with_grad = MethodType(generate_with_grad, pp_model)\n",
    "\n",
    "## Victim Model (VM)\n",
    "vm_tokenizer = AutoTokenizer.from_pretrained(vm_name)\n",
    "vm_model = AutoModelForSequenceClassification.from_pretrained(vm_name, local_files_only=True).to(device)\n",
    "vm_idx2lbl = vm_model.config.id2label\n",
    "vm_lbl2idx = vm_model.config.label2id\n",
    "vm_num_labels = vm_model.num_labels\n",
    "\n",
    "## Semantic Textual Similarity (STS) model\n",
    "sts_model = SentenceTransformer(sts_name)\n",
    "\n",
    "# Pad vocab to multiple of 8 (for better tensor core efficiency in fp16)\n",
    "if pad_token_embeddings: \n",
    "    def pad_token_embeddings_to_multiple_of_n(model, n):\n",
    "        def get_new_vocab_size(model): return int((np.floor(model.config.vocab_size / n) + 1) * n)\n",
    "        model.resize_token_embeddings(get_new_vocab_size(model))\n",
    "    pad_token_embeddings_to_multiple_of_n(pp_model, 8)\n",
    "    pad_token_embeddings_to_multiple_of_n(vm_model, 8)\n",
    "    # sts_model is from SentenceTransformers so needs a bit of unwrapping to access the base huggingface model \n",
    "    pad_token_embeddings_to_multiple_of_n(sts_model._first_module().auto_model, 8)  "
   ]
  },
  {
   "cell_type": "markdown",
   "metadata": {},
   "source": [
    "### Load raw datasets and create dataloaders"
   ]
  },
  {
   "cell_type": "markdown",
   "metadata": {},
   "source": [
    "#### Functions "
   ]
  },
  {
   "cell_type": "code",
   "execution_count": 6,
   "metadata": {
    "code_folding": [
     6,
     10,
     21,
     28,
     33,
     37,
     43,
     49
    ]
   },
   "outputs": [],
   "source": [
    "def add_idx(x, idx): x['idx'] = idx; return x   # add row numbers\n",
    "\n",
    "def add_n_tokens(x): x['n_tokens'] = [len(o) for o in x['input_ids']]; return x  # number of tokens of \"text\" field \n",
    "\n",
    "def tokenize_fn(x):  return pp_tokenizer(x['text'], truncation=True, max_length=max_length)\n",
    "\n",
    "def prep_small_ds(ds_dict):\n",
    "    for k,v in ds_dict.items():  ds_dict[k] = v.shard(n_shards, 0, contiguous=shard_contiguous)\n",
    "    return ds_dict\n",
    "\n",
    "def get_vm_probs(text, return_predclass=False): \n",
    "    \"\"\"Used also by the reward_fn to get vm_score\"\"\"\n",
    "    if vm_model.training: vm_model.eval()\n",
    "    with torch.no_grad():\n",
    "        tkns = vm_tokenizer(text, truncation=True, padding=True, pad_to_multiple_of=padding_multiple,\n",
    "                            return_tensors=\"pt\").to(device)\n",
    "        logits = vm_model(**tkns).logits\n",
    "        probs = torch.softmax(logits,1)\n",
    "        if return_predclass:    return probs, torch.argmax(probs,1)\n",
    "        else:                   return probs\n",
    "\n",
    "def get_vm_orig_score(batch): \n",
    "    labels = torch.tensor(batch['label'], device=device)\n",
    "    orig_probs,orig_predclass = get_vm_probs(text = batch['text'], return_predclass=True)\n",
    "    batch['orig_truelabel_probs'] = torch.gather(orig_probs,1, labels[:,None]).squeeze().cpu().tolist()\n",
    "    batch['orig_vm_predclass'] = orig_predclass.cpu().tolist()\n",
    "    return batch\n",
    "\n",
    "def get_sampler(ds): \n",
    "    g = torch.Generator()\n",
    "    g.manual_seed(seed)\n",
    "    return RandomSampler(ds, generator=g)\n",
    "\n",
    "def get_sts_orig_embeddings(batch): \n",
    "    batch['orig_sts_embeddings'] = sts_model.encode(batch['text'], batch_size=64, convert_to_tensor=False)\n",
    "    return batch\n",
    "\n",
    "def collate_fn_tkn(x): \n",
    "    d = dict()\n",
    "    for k in ['idx', 'attention_mask', 'input_ids', 'label', 'orig_truelabel_probs', 'orig_sts_embeddings']: \n",
    "        d[k] = [o[k] for o in x]\n",
    "    return pp_tokenizer.pad(d, pad_to_multiple_of=padding_multiple, return_tensors=\"pt\")\n",
    "\n",
    "def collate_fn_raw(x): \n",
    "    d = dict()\n",
    "    for k in ['text', 'idx']: \n",
    "        d[k] = [o[k] for o in x]\n",
    "    return d \n",
    "\n",
    "def get_dataloaders_dict(ds_dict, collate_fn): \n",
    "    if bucket_by_length and shuffle_train:  raise Exception(\"Can only do one of bucket by length or shuffle\")\n",
    "    d = dict()\n",
    "    for split, ds in ds_dict.items(): \n",
    "        if shuffle_train:\n",
    "            if split == \"train\": \n",
    "                sampler = get_sampler(ds)\n",
    "                d[split] =  DataLoader(ds, batch_size=batch_size_train, sampler=sampler, collate_fn=collate_fn, \n",
    "                                       num_workers=n_wkrs, pin_memory=pin_memory) \n",
    "            else: \n",
    "                d[split] =  DataLoader(ds, batch_size=batch_size_eval, shuffle=False, collate_fn=collate_fn, \n",
    "                                       num_workers=n_wkrs, pin_memory=pin_memory) \n",
    "        if bucket_by_length: \n",
    "            batch_size = batch_size_train if split == \"train\" else batch_size_eval\n",
    "            d[split] =  DataLoader(ds, batch_size=batch_size, shuffle=False, collate_fn=collate_fn, \n",
    "                                   num_workers=n_wkrs, pin_memory=pin_memory) \n",
    "    \n",
    "    # Add eval dataloader for train \n",
    "    d['train_eval'] =DataLoader(ds_dict['train'], batch_size=batch_size_eval, shuffle=False,\n",
    "                                collate_fn=collate_fn, num_workers=n_wkrs, pin_memory=pin_memory) \n",
    "    return d \n"
   ]
  },
  {
   "cell_type": "markdown",
   "metadata": {},
   "source": [
    "#### Load, tokenise, preprocess datasets "
   ]
  },
  {
   "cell_type": "code",
   "execution_count": 7,
   "metadata": {
    "code_folding": []
   },
   "outputs": [
    {
     "name": "stdout",
     "output_type": "stream",
     "text": [
      "Using custom data configuration default-b253756c445fb811\n",
      "Reusing dataset csv (/data/tproth/.cache/huggingface/datasets/csv/default-b253756c445fb811/0.0.0/bf68a4c4aefa545d0712b2fcbb1b327f905bbe2f6425fbc5e8c25234acb9e14a)\n"
     ]
    },
    {
     "data": {
      "application/vnd.jupyter.widget-view+json": {
       "model_id": "6565db80a4bd46aba4e151ec1109df56",
       "version_major": 2,
       "version_minor": 0
      },
      "text/plain": [
       "  0%|          | 0/1 [00:00<?, ?it/s]"
      ]
     },
     "metadata": {},
     "output_type": "display_data"
    },
    {
     "name": "stdout",
     "output_type": "stream",
     "text": [
      "Using custom data configuration default-c802946231f72062\n",
      "Reusing dataset csv (/data/tproth/.cache/huggingface/datasets/csv/default-c802946231f72062/0.0.0/bf68a4c4aefa545d0712b2fcbb1b327f905bbe2f6425fbc5e8c25234acb9e14a)\n"
     ]
    },
    {
     "data": {
      "application/vnd.jupyter.widget-view+json": {
       "model_id": "9fd35dadd9504856a7d07d4a1ce5fcd0",
       "version_major": 2,
       "version_minor": 0
      },
      "text/plain": [
       "  0%|          | 0/1 [00:00<?, ?it/s]"
      ]
     },
     "metadata": {},
     "output_type": "display_data"
    },
    {
     "name": "stdout",
     "output_type": "stream",
     "text": [
      "Using custom data configuration default-43a49c5188c42e69\n",
      "Reusing dataset csv (/data/tproth/.cache/huggingface/datasets/csv/default-43a49c5188c42e69/0.0.0/bf68a4c4aefa545d0712b2fcbb1b327f905bbe2f6425fbc5e8c25234acb9e14a)\n"
     ]
    },
    {
     "data": {
      "application/vnd.jupyter.widget-view+json": {
       "model_id": "18f505d99e3a41f09bf41b932a6119e9",
       "version_major": 2,
       "version_minor": 0
      },
      "text/plain": [
       "  0%|          | 0/1 [00:00<?, ?it/s]"
      ]
     },
     "metadata": {},
     "output_type": "display_data"
    },
    {
     "name": "stdout",
     "output_type": "stream",
     "text": [
      "Loading cached processed dataset at /data/tproth/.cache/huggingface/datasets/csv/default-b253756c445fb811/0.0.0/bf68a4c4aefa545d0712b2fcbb1b327f905bbe2f6425fbc5e8c25234acb9e14a/cache-a5edd4f7b5f30765.arrow\n",
      "Loading cached processed dataset at /data/tproth/.cache/huggingface/datasets/csv/default-c802946231f72062/0.0.0/bf68a4c4aefa545d0712b2fcbb1b327f905bbe2f6425fbc5e8c25234acb9e14a/cache-b5c4ff556910996b.arrow\n",
      "Loading cached processed dataset at /data/tproth/.cache/huggingface/datasets/csv/default-43a49c5188c42e69/0.0.0/bf68a4c4aefa545d0712b2fcbb1b327f905bbe2f6425fbc5e8c25234acb9e14a/cache-5a12731c4f785a54.arrow\n"
     ]
    },
    {
     "data": {
      "application/vnd.jupyter.widget-view+json": {
       "model_id": "800cba2395c34d39b6e136ec2f77b353",
       "version_major": 2,
       "version_minor": 0
      },
      "text/plain": [
       "  0%|          | 0/1 [00:00<?, ?ba/s]"
      ]
     },
     "metadata": {},
     "output_type": "display_data"
    },
    {
     "data": {
      "application/vnd.jupyter.widget-view+json": {
       "model_id": "1ea9f49a426141bb9bfa67d2ffc3fe91",
       "version_major": 2,
       "version_minor": 0
      },
      "text/plain": [
       "  0%|          | 0/1 [00:00<?, ?ba/s]"
      ]
     },
     "metadata": {},
     "output_type": "display_data"
    },
    {
     "data": {
      "application/vnd.jupyter.widget-view+json": {
       "model_id": "109a2e301998404186885716b332b4ad",
       "version_major": 2,
       "version_minor": 0
      },
      "text/plain": [
       "  0%|          | 0/1 [00:00<?, ?ba/s]"
      ]
     },
     "metadata": {},
     "output_type": "display_data"
    },
    {
     "data": {
      "application/vnd.jupyter.widget-view+json": {
       "model_id": "5b0ef618a24a426187dd3fdaa7431fea",
       "version_major": 2,
       "version_minor": 0
      },
      "text/plain": [
       "  0%|          | 0/1 [00:00<?, ?ba/s]"
      ]
     },
     "metadata": {},
     "output_type": "display_data"
    },
    {
     "data": {
      "application/vnd.jupyter.widget-view+json": {
       "model_id": "90f0e75e34d648cebb8469791a668c21",
       "version_major": 2,
       "version_minor": 0
      },
      "text/plain": [
       "  0%|          | 0/1 [00:00<?, ?ba/s]"
      ]
     },
     "metadata": {},
     "output_type": "display_data"
    },
    {
     "data": {
      "application/vnd.jupyter.widget-view+json": {
       "model_id": "09e93b1c73574d17b0fd961143a2ddb7",
       "version_major": 2,
       "version_minor": 0
      },
      "text/plain": [
       "  0%|          | 0/1 [00:00<?, ?ba/s]"
      ]
     },
     "metadata": {},
     "output_type": "display_data"
    },
    {
     "data": {
      "application/vnd.jupyter.widget-view+json": {
       "model_id": "64b232816efa4626b5fdb541f62a6e2d",
       "version_major": 2,
       "version_minor": 0
      },
      "text/plain": [
       "  0%|          | 0/1 [00:00<?, ?ba/s]"
      ]
     },
     "metadata": {},
     "output_type": "display_data"
    },
    {
     "data": {
      "application/vnd.jupyter.widget-view+json": {
       "model_id": "489bd4ed915f41d0971ae60339504459",
       "version_major": 2,
       "version_minor": 0
      },
      "text/plain": [
       "  0%|          | 0/1 [00:00<?, ?ba/s]"
      ]
     },
     "metadata": {},
     "output_type": "display_data"
    },
    {
     "data": {
      "application/vnd.jupyter.widget-view+json": {
       "model_id": "cf87091891914af69bd6d8f78356d9a8",
       "version_major": 2,
       "version_minor": 0
      },
      "text/plain": [
       "  0%|          | 0/1 [00:00<?, ?ba/s]"
      ]
     },
     "metadata": {},
     "output_type": "display_data"
    },
    {
     "data": {
      "application/vnd.jupyter.widget-view+json": {
       "model_id": "8cb22256e3fc49f9a7aeacae501b2892",
       "version_major": 2,
       "version_minor": 0
      },
      "text/plain": [
       "  0%|          | 0/1 [00:00<?, ?ba/s]"
      ]
     },
     "metadata": {},
     "output_type": "display_data"
    },
    {
     "data": {
      "application/vnd.jupyter.widget-view+json": {
       "model_id": "53ecdfbcfb274a6da0a43da5969602ce",
       "version_major": 2,
       "version_minor": 0
      },
      "text/plain": [
       "  0%|          | 0/1 [00:00<?, ?ba/s]"
      ]
     },
     "metadata": {},
     "output_type": "display_data"
    },
    {
     "data": {
      "application/vnd.jupyter.widget-view+json": {
       "model_id": "21b3d6850b244e48b644010d504ee2ba",
       "version_major": 2,
       "version_minor": 0
      },
      "text/plain": [
       "  0%|          | 0/1 [00:00<?, ?ba/s]"
      ]
     },
     "metadata": {},
     "output_type": "display_data"
    },
    {
     "data": {
      "application/vnd.jupyter.widget-view+json": {
       "model_id": "a2f07fae3f3f4ac9a14231711bf7abb4",
       "version_major": 2,
       "version_minor": 0
      },
      "text/plain": [
       "  0%|          | 0/1 [00:00<?, ?ba/s]"
      ]
     },
     "metadata": {},
     "output_type": "display_data"
    },
    {
     "data": {
      "application/vnd.jupyter.widget-view+json": {
       "model_id": "324972bcb80d4f41b1378a4e9f167db2",
       "version_major": 2,
       "version_minor": 0
      },
      "text/plain": [
       "  0%|          | 0/1 [00:00<?, ?ba/s]"
      ]
     },
     "metadata": {},
     "output_type": "display_data"
    },
    {
     "data": {
      "application/vnd.jupyter.widget-view+json": {
       "model_id": "59c566397c644427ba1204224636b2c8",
       "version_major": 2,
       "version_minor": 0
      },
      "text/plain": [
       "  0%|          | 0/1 [00:00<?, ?ba/s]"
      ]
     },
     "metadata": {},
     "output_type": "display_data"
    }
   ],
   "source": [
    "if dataset_name == \"rotten_tomatoes\": \n",
    "    dsd_raw = load_dataset(\"rotten_tomatoes\")\n",
    "    dsd_raw['valid'] = dsd_raw.pop('validation')  # \"valid\" is easier than \"validation\"\n",
    "    label_cname = 'label'\n",
    "    for _,ds in dsd_raw.items():\n",
    "        # make sure that all datasets have the same number of labels as what the victim model predicts\n",
    "        assert ds.features[label_cname].num_classes == vm_num_labels    \n",
    "elif dataset_name == \"simple\": \n",
    "    dsd_raw = DatasetDict()\n",
    "    for s in splits:  dsd_raw[s] = load_dataset('csv', data_files=f\"{path_data}simple_dataset_{s}.csv\")['train']\n",
    "elif dataset_name==\"snli\": \n",
    "    next\n",
    "    ## For snli\n",
    "    # remove_minus1_labels = lambda x: x[label_cname] != -1\n",
    "    # ds_train = ds_train.filter(remove_minus1_labels)\n",
    "    # valid = valid.filter(remove_minus1_labels)\n",
    "    # test = test.filter(remove_minus1_labels)\n",
    "dsd = dsd_raw.map(add_idx, batched=True, with_indices=True)\n",
    "if use_small_ds: dsd = prep_small_ds(dsd)  # do after adding idx so it's consistent across runs\n",
    "dsd = dsd.map(get_vm_orig_score,       batched=True)\n",
    "if remove_misclassified_examples: dsd = dsd.filter(lambda x: x['orig_vm_predclass'] == x['label'])\n",
    "dsd = dsd.map(get_sts_orig_embeddings, batched=True)\n",
    "dsd = dsd.map(tokenize_fn, batched=True) \n",
    "dsd = dsd.map(add_n_tokens, batched=True)\n",
    "if bucket_by_length: dsd = dsd.sort(\"n_tokens\", reverse=True)\n",
    "dld_raw = get_dataloaders_dict(dsd, collate_fn=collate_fn_raw) \n",
    "dld_tkn = get_dataloaders_dict(dsd, collate_fn=collate_fn_tkn)    "
   ]
  },
  {
   "cell_type": "markdown",
   "metadata": {},
   "source": [
    "\n",
    "## Training"
   ]
  },
  {
   "cell_type": "markdown",
   "metadata": {
    "heading_collapsed": true
   },
   "source": [
    "### Description "
   ]
  },
  {
   "cell_type": "markdown",
   "metadata": {
    "hidden": true
   },
   "source": [
    "Training loop pseudocode\n",
    "\n",
    "The REINFORCE estimator is $$ \\nabla_\\theta J(\\theta) \\approx \\sum_{s=1}^S  R(x,x'_s) \\nabla \\log p(x'_s|x,\\theta)$$\n"
   ]
  },
  {
   "cell_type": "markdown",
   "metadata": {
    "hidden": true
   },
   "source": [
    "$$ J(\\theta) \\approx \\sum_{s=1}^S  R(x,x'_s) \\log p(x'_s|x,\\theta)$$"
   ]
  },
  {
   "cell_type": "markdown",
   "metadata": {},
   "source": [
    "### Preprocessing and setup "
   ]
  },
  {
   "cell_type": "markdown",
   "metadata": {},
   "source": [
    "#### Define functions "
   ]
  },
  {
   "cell_type": "markdown",
   "metadata": {},
   "source": [
    "##### Training functions "
   ]
  },
  {
   "cell_type": "code",
   "execution_count": 8,
   "metadata": {
    "code_folding": [
     0,
     19,
     39,
     81,
     85,
     100,
     122,
     135,
     143
    ]
   },
   "outputs": [],
   "source": [
    "def get_paraphrases(input_ids,attention_mask):\n",
    "    \"\"\"Wrapper for generating paraphrases (pp's). Most keywords are passed on to pp_model.generate function, \n",
    "    so see docs for that function. \"\"\"\n",
    "    # Only greedy search supported at the moment\n",
    "    generated = pp_model.generate_with_grad(input_ids=input_ids, \n",
    "                                            attention_mask=attention_mask, \n",
    "                                             **pp_model_params,\n",
    "                                             do_sample=False, \n",
    "                                             return_dict_in_generate=True,\n",
    "                                             output_scores=True,\n",
    "                                                remove_invalid_values=False, \n",
    "                                             pad_token_id = pp_tokenizer.pad_token_id,\n",
    "                                             eos_token_id = pp_tokenizer.eos_token_id)\n",
    "    pp_l = pp_tokenizer.batch_decode(generated.sequences, skip_special_tokens=True)\n",
    "    if track_pp_sizes:  # DEV CODE (can delete later)\n",
    "        orig_max_l.append(batch['input_ids'].shape[1])\n",
    "        pp_max_l.append(generated.sequences.shape[1])\n",
    "    return generated, pp_l\n",
    "\n",
    "def get_pp_logp(translated): \n",
    "    \"\"\"log(p(pp|orig)) basically.\n",
    "    works for greedy search, will need tweaking for other types probably\"\"\"\n",
    "    seq_without_first_tkn = translated.sequences[:, 1:]\n",
    "    attention_mask = pp_model._prepare_attention_mask_for_generation(\n",
    "        seq_without_first_tkn, pp_tokenizer.pad_token_id, pp_tokenizer.eos_token_id\n",
    "    )\n",
    "    scores_log_softmax = torch.stack(translated.scores, 1).log_softmax(2)\n",
    "    seq_token_log_probs = torch.gather(scores_log_softmax,2,seq_without_first_tkn[:,:,None]).squeeze(-1)\n",
    "    del scores_log_softmax\n",
    "    # account for nan values by setting them to 0 (maybe a bit of a hack)\n",
    "    # will also handle inf and -inf values too by default\n",
    "    seq_token_log_probs = torch.nan_to_num(seq_token_log_probs)\n",
    "    # account for the padding tokens at the end \n",
    "    seq_token_log_probs = seq_token_log_probs * attention_mask\n",
    "    seq_log_prob = seq_token_log_probs.sum(-1)\n",
    "#     if np.any(np.isnan(seq_log_prob.detach().cpu()).tolist()): \n",
    "#         warnings.warn(f\"Warning: NAN's detected in pp_logp calclulations.\\n seq_token_log_probs: {seq_token_log_probs}\")\n",
    "    return seq_log_prob\n",
    "\n",
    "def reward_fn(data, raw, pp_l, return_components=False): \n",
    "    \"\"\"orig_l, pp_l are lists of original and paraphrase respectively\"\"\"\n",
    "    # Victim model probability differences between orig and pp\n",
    "    pp_probs = get_vm_probs(pp_l) \n",
    "    pp_predclass = torch.argmax(pp_probs, axis=1)\n",
    "    pp_truelabel_probs   = torch.gather(pp_probs, 1, data['label'][:,None]).squeeze()\n",
    "    pp_predclass_probs   = torch.gather(pp_probs, 1, pp_predclass[ :,None]).squeeze()\n",
    "    label_flip = (pp_predclass != data['label']) * 1\n",
    "    vm_scores = (data['orig_truelabel_probs'] - pp_truelabel_probs)\n",
    "    \n",
    "    # STS scores\n",
    "    #orig_embeddings = sts_model.encode(raw['text'], batch_size=len(raw), convert_to_tensor=True, device=device)\n",
    "    pp_embeddings   = sts_model.encode(pp_l,        batch_size=len(raw), convert_to_tensor=True, device=device)\n",
    "    # This returns a cosine similarity matrix, of which we just want the diagonal\n",
    "    sts_scores = pytorch_cos_sim(data['orig_sts_embeddings'], pp_embeddings).diagonal()  \n",
    "\n",
    "#     @cached(LRUCache(maxsize=2**20))  # keep as power of 2\n",
    "#     def get_rouge_score(ref, pred):\n",
    "#         return rouge_metric.compute(rouge_types=[\"rougeL\"],\n",
    "#             predictions=[pred], references=[ref])['rougeL'].mid.fmeasure \n",
    "#     rouge_scores = torch.tensor([get_rouge_score(ref=orig,pred=pp)\n",
    "#                                    for orig,pp in zip(raw['text'], pp_l)], device=device)\n",
    "\n",
    "    # Reward calculation \n",
    "    rewards = torch.tensor([-0.5 if sts < 0.5 else 0.5+v*sts for v,sts in zip(vm_scores, sts_scores)],device=device)\n",
    "    \n",
    "    if return_components: \n",
    "        return {\n",
    "            \"orig_l\": raw['text'],\n",
    "            \"pp_l\": pp_l,  \n",
    "            \"truelabel\": data['label'],\n",
    "            \"orig_truelabel_probs\": data['orig_truelabel_probs'],\n",
    "            \"pp_truelabel_probs\":  pp_truelabel_probs,\n",
    "            \"pp_predclass\": pp_predclass,\n",
    "            \"pp_predclass_probs\": pp_predclass_probs,\n",
    "            \"vm_score\": vm_scores, \n",
    "            \"sts_score\": sts_scores,\n",
    "            \"reward\": rewards,\n",
    "            \"label_flip\": label_flip\n",
    "        }\n",
    "    else:  return {\"reward\": rewards}\n",
    "\n",
    "def pp_model_forward(data): \n",
    "    generated, pp_l = get_paraphrases(data['input_ids'], data['attention_mask'])\n",
    "    return generated, pp_l\n",
    "\n",
    "def loss_fn(data, raw, generated, pp_l, return_components=False): \n",
    "    d = reward_fn(data, raw, pp_l, return_components=return_components)\n",
    "    if normalise_rewards: \n",
    "        d['orig_reward'] = copy.deepcopy(d['reward'])\n",
    "        d['reward'] = (d['reward']-torch.mean(d['reward']))/torch.std(d['reward'])\n",
    "    d['pp_logp'] = get_pp_logp(generated)\n",
    "    d['loss'] = -d['reward'] * d['pp_logp']\n",
    "    d['loss_batch'] = torch.mean(d['loss'])\n",
    "    if return_components ==  False: return d['loss_batch'] \n",
    "    # remove some items from compgraph\n",
    "    d['pp_logp'] = d['pp_logp'].detach()  \n",
    "    d['loss']    = d['loss'].detach()\n",
    "    gc.collect() \n",
    "    return d\n",
    "\n",
    "def training_step(data, raw, accelerator, epoch, batch_num, accumulation_num): \n",
    "    \"\"\"With gradient accumulation\"\"\"\n",
    "    generated, pp_l = pp_model_forward(data)\n",
    "    #logger.info(show_gpu(f'Batch {batch_num}, GPU memory usage after forward pass: '))\n",
    "    \n",
    "    with accelerator.autocast():\n",
    "        if wandb_log_training_step_table: \n",
    "            results_d = loss_fn(data, raw, generated, pp_l, return_components=True)\n",
    "            loss_batch = results_d['loss_batch']\n",
    "        else: \n",
    "            loss_batch = loss_fn(data, raw, generated, pp_l, return_components=False)\n",
    "        loss_batch = loss_batch / accumulation_steps  # Normalize our loss for gradient accumulation\n",
    "    #loss_batch.backward()\n",
    "    accelerator.backward(loss_batch) \n",
    "    #logger.info(show_gpu(f'Batch {batch_num}, GPU memory usage after backwards pass: '))\n",
    "    if (accumulation_num + 1) % accumulation_steps == 0: \n",
    "        optimizer.step()\n",
    "        pp_model.zero_grad(set_to_none=zero_grad_with_none)\n",
    "    if wandb_log_training_step_table: \n",
    "        results_d = process_results_d1(results_d, raw, epoch)\n",
    "        add_preds_to_data_d(results_d, split='training_step', epoch=epoch) \n",
    "\n",
    "def process_results_d1(results_d, raw, epoch): \n",
    "    \"\"\"REFACTOR THIS LATER\"\"\"\n",
    "    # wandb logging \n",
    "    results_d['epoch'] = epoch\n",
    "    results_d['idx'] = raw['idx']\n",
    "    for k,v in results_d.items(): \n",
    "        if torch.is_tensor(v): \n",
    "            results_d[k] = v.detach().cpu().tolist()\n",
    "        elif type(v) == int or type(v) == float: \n",
    "            # make into list repeated n times\n",
    "            results_d[k] = [v for o in range(batch_size_train)]\n",
    "    return results_d\n",
    "\n",
    "def save_model(epoch): \n",
    "    path = f\"{path_run}model_{epoch}\"\n",
    "    torch.save({\n",
    "                'epoch': epoch,\n",
    "                'pp_model_state_dict': pp_model.state_dict(),\n",
    "                'optimizer_state_dict': optimizer.state_dict(),\n",
    "                }, path)\n",
    "    \n",
    "def resume_model(path): \n",
    "    state = torch.load(path)\n",
    "    pp_model.load_state_dict(state['pp_model_state_dict'])\n",
    "    optimizer.load_state_dict(state['optimizer_state_dict'])\n",
    "    "
   ]
  },
  {
   "cell_type": "markdown",
   "metadata": {},
   "source": [
    "##### Eval and wandb functions "
   ]
  },
  {
   "cell_type": "code",
   "execution_count": 9,
   "metadata": {
    "code_folding": [
     2,
     21,
     49,
     68,
     78,
     115
    ]
   },
   "outputs": [],
   "source": [
    "def table2df(table):  return pd.DataFrame(data=table.data, columns=table.columns)  # wandb table to dataframe\n",
    "\n",
    "def process_results_d_for_wandb(results_d): \n",
    "    # Flatten batches for each key, depending on datatype (e.g. lists of lists )\n",
    "    for k,v in results_d.items(): \n",
    "        # v[0] is arbitrary - we are just checking the first item in the list to see the type\n",
    "        if type(v) == float or type(v) == int: \n",
    "            next\n",
    "        elif  torch.is_tensor(v[0]): \n",
    "            # case where we have a list of scalars - the cat function doesn't work here \n",
    "            if  v[0].size() == torch.Size([]): x = torch.stack(v)\n",
    "            else:                              x = torch.cat(v)\n",
    "            results_d[k] = x.detach().cpu().squeeze().tolist()  # convert to list (squeeze is for single scalar list)\n",
    "        elif type(v[0]) == list:  # this is True for tensors also, so it has to go after the is_tensor check\n",
    "            results_d[k] = list(itertools.chain(*v)) \n",
    "        elif type(v) == list: \n",
    "            next\n",
    "        else: \n",
    "            raise Exception(\"shouldn't get here\")\n",
    "    return results_d\n",
    "\n",
    "def eval_dl(dl_tkn, dl_raw, epoch, device): \n",
    "    \"\"\"Get evaluation metrics for a dataloader\"\"\"\n",
    "    # Put models in eval mode and do the forward pass \n",
    "    # Current logic: push all batches together into one big list.     \n",
    "    if pp_model.training: pp_model.eval()\n",
    "    if vm_model.training: vm_model.eval()\n",
    "    results_d = defaultdict(list)\n",
    "    with torch.no_grad(): \n",
    "        for eval_batch_num, (data, raw) in enumerate(zip(dl_tkn, dl_raw)):\n",
    "          #  logger.info(show_gpu(f'EVAL, batch {i}, GPU memory usage after loading data: '))\n",
    "            for k, v in data.items(): \n",
    "                if data[k].device != device: data[k] = data[k].to(device)\n",
    "           # if data['input_ids'].device != device: data['input_ids'].to(device)\n",
    "                \n",
    "            generated, pp_l = pp_model_forward(data)\n",
    "            d = loss_fn(data, raw, generated, pp_l, return_components=True)\n",
    "            #logger.info(show_gpu(f'EVAL, batch {eval_batch_num}, GPU memory usage after loss_fn pass: '))\n",
    "            d['idx'] = raw['idx']\n",
    "                      \n",
    "            for k,v in d.items(): \n",
    "                results_d[k].append(v) \n",
    "    del eval_batch_num, data, raw, generated,pp_l, d\n",
    "    results_d = process_results_d_for_wandb(results_d)\n",
    "            \n",
    "    # Calculate additional metrics \n",
    "    results_d['epoch'] = epoch\n",
    "    return results_d\n",
    "\n",
    "def add_preds_to_data_d(results_d, split, epoch):\n",
    "    if split not in data_d.keys() or split == \"training_summary\": # training summary table logic is elsewhere\n",
    "        raise Exception(\"split not in table keys or split == training_summary \") \n",
    "    #table = table_d[split]\n",
    "        \n",
    "    # Need epoch to be repeated to the same length as the rest of the fields \n",
    "    # (this isn't the batch size because we concat a bunch of stuff)\n",
    "    # we don't want to change the `epoch` key because it screws up logging of the other metrics. \n",
    "    # So we make a new dict.\n",
    "    # d1 = copy.deepcopy(results_d)\n",
    "    d1 = results_d\n",
    "    d1['epoch'] = [epoch for o in range(len(d1['pp_l']))]\n",
    "    dcols = [d1[c] for c in table_columns]  # filter out loss_batch\n",
    "    assert len(set([len(o) for o in dcols])) == 1  # all lists should be of the same length \n",
    "    \n",
    "    for row in zip(*dcols):\n",
    "        d2 = {k:v for k,v in zip(table_columns,row)}\n",
    "        data_d[split].append(d2)\n",
    "\n",
    "def update_training_summary_table(results_d, split, epoch):\n",
    "    d = dict()\n",
    "    # key names here have to match those in summary_table_columns\n",
    "    d['epoch'] = epoch\n",
    "    d['split'] = split\n",
    "    for metric in metrics:\n",
    "        d[f'{metric}_avg'] = np.mean(results_d[metric])\n",
    "    #data_d['training_summary'].append(*[d[c] for c in summary_table_columns])\n",
    "    data_d['training_summary'].append(d)\n",
    "\n",
    "def log_wandb_tables(run): \n",
    "    \"\"\"Log wandb tables to the UI\"\"\"\n",
    "    d = dict()\n",
    "    d[\"eval/training_summary_table\"] = table_d['training_summary']\n",
    "  #  print(len(d[\"eval/training_summary_table\"].data))\n",
    "    run.log(d)\n",
    "\n",
    "def plot_examples_chart(split, table, metric, commit):\n",
    "    spec = \"uts_nlp/line_chart_v2\"\n",
    "    fields = {\"x\": \"epoch\",'groupKeys': 'idx'}\n",
    "    fields['y'] = f\"{metric}\"\n",
    "    string_fields = dict()\n",
    "    string_fields['title'] = f\"{split}_{metric} vs epoch (examples)\"\n",
    "    chart = wandb.plot_table(vega_spec_name=spec, data_table=table, \n",
    "                            fields=fields, string_fields=string_fields)\n",
    "    wandb.log({f\"individual_examples/{split}_{metric}_vs_epoch_examples\": chart}, commit=commit)\n",
    "\n",
    "def plot_summary_charts(metric, table, commit):\n",
    "    spec = \"uts_nlp/line_chart_v2\"\n",
    "    fields = {\"x\": \"epoch\",'groupKeys': 'split'}\n",
    "    fields['y']  = f\"{metric}_avg\"\n",
    "    chart = wandb.plot_table(vega_spec_name=spec, data_table=table, \n",
    "                                 fields=fields, string_fields={'title': f\"{metric} vs epoch\"})\n",
    "    \n",
    "    wandb.log({f\"summary_charts/avg_{metric}_vs_epoch\": chart}, commit=commit)\n",
    "\n",
    "def plot_wandb_charts(): \n",
    "    if wandb_plot_examples: \n",
    "        # Examples charts \n",
    "        for split in ['train', 'valid']:\n",
    "            df = pd.DataFrame(data_d[split]) if type(data_d[split]) is list else data_d[split]\n",
    "            df = df.query(\"idx in @plt_idx_d[@split]\").sort_values(['idx', 'epoch'])\n",
    "            for metric in metrics: \n",
    "                plot_examples_chart(split, table=wandb.Table(dataframe=df), metric=metric, commit=False)\n",
    "        \n",
    "    ## Summary charts \n",
    "    for metric in metrics: \n",
    "        commit = True if metric == metrics[len(metrics)-1] else False\n",
    "        df = pd.DataFrame(data_d['training_summary'])\n",
    "        plot_summary_charts(metric, table=wandb.Table(dataframe=df),\n",
    "                            commit=commit)\n",
    "\n",
    "def add_wandb_run_summary_statistics(run):\n",
    "    ## Training summary statistics \n",
    "    df_summary = pd.DataFrame(data_d['training_summary']) \n",
    "    # We calculate the best epoch according to the validation set\n",
    "    best_epoch_idx = df_summary.query(\"split=='valid'\")['loss_avg'].idxmin() \n",
    "    valid_row = df_summary.iloc[best_epoch_idx]\n",
    "    best_epoch = valid_row['epoch'].item()\n",
    "    run.summary['best_epoch'] = best_epoch\n",
    "    # iloc transforms 1row df to series (so it is same as  valid_row)\n",
    "    train_row = df_summary.query(\"split=='train' & epoch==@best_epoch\").iloc[0]  \n",
    "    for metric in metrics: \n",
    "        run.summary[f\"{metric}_avg_train\"] = train_row[f\"{metric}_avg\"].item()\n",
    "        run.summary[f\"{metric}_avg_valid\"] = valid_row[f\"{metric}_avg\"].item()\n",
    "                                 \n",
    "    ## Summary statistics of the test set \n",
    "    # From the last epoch atm because we don't have early stopping \n",
    "    test_metrics = data_d['test'].filter(metrics, axis=1).mean()\n",
    "    for metric, val in zip(test_metrics.index, test_metrics): \n",
    "        run.summary[f\"{metric}_avg_test\"] = val"
   ]
  },
  {
   "cell_type": "code",
   "execution_count": 10,
   "metadata": {
    "code_folding": [
     0
    ]
   },
   "outputs": [],
   "source": [
    "#### Set up models and do layer freezing\n",
    "vm_model.eval()\n",
    "pp_model.train()\n",
    "## Layer freezing \n",
    "# Unfreeze last 2 layers of the base model decoder\n",
    "# Not sure if decoder layer norm should be unfrozen or not, but it appears after the\n",
    "#   other parameters in the module ordering, so let's include it for now\n",
    "# Also unfreeze the linear head.  This isn't stored in the base model but rather tacked on top\n",
    "#   and will be fine-tuned for summarisation. \n",
    "if pp_name == \"tuner007/pegasus_paraphrase\":\n",
    "    layer_list = ['decoder.layers.14', 'decoder.layers.15', 'decoder.layer_norm'] \n",
    "elif pp_name == \"tdopierre/ProtAugment-ParaphraseGenerator\":\n",
    "    layer_list = ['decoder.layers.4','decoder.layers.5', 'decoder.layernorm_embedding']\n",
    "elif pp_name == \"eugenesiow/bart-paraphrase\":\n",
    "    layer_list = ['decoder.layers.10','decoder.layers.11', 'decoder.layernorm_embedding']\n",
    "for i, (name,param) in enumerate(pp_model.base_model.named_parameters()): \n",
    "    if np.any([o in name for o in layer_list]):   param.requires_grad = True\n",
    "    else:                                         param.requires_grad = False\n",
    "for param in pp_model.lm_head.parameters():       param.requires_grad = True\n",
    "# Not sure if to include this or not. this seems to affect lm_head. i might just leave it as it was for now.\n",
    "# this will freeze the embeddings/lm head. \n",
    "# From here: https://github.com/huggingface/transformers/issues/10479#issuecomment-788964822\n",
    "# self.lm_head is tied (the same parameter as) to self.encoder.embed_tokens and self.decoder.embed_tokens.\n",
    "for param in pp_model.base_model.shared.parameters(): param.requires_grad = False \n",
    "### For checking the grad status of the layers\n",
    "# for i, (name, param) in enumerate(pp_model.base_model.named_parameters()): print(i, name, param.requires_grad)\n",
    "# for i, (name, param) in enumerate(pp_model.lm_head.named_parameters()):    print(i, name, param.requires_grad)\n",
    "\n",
    "#### Optimizer\n",
    "# For now we just keep this simple\n",
    "optimizer = AdamW(pp_model.parameters(), lr=lr)\n",
    "\n",
    "#### Set up other miscellaneous things\n",
    "#rouge_metric = load_metric(\"rouge\", keep_in_memory=True)\n",
    "n_train_steps = n_train_epochs * len(dld_tkn['train'])"
   ]
  },
  {
   "cell_type": "code",
   "execution_count": 11,
   "metadata": {
    "code_folding": []
   },
   "outputs": [],
   "source": [
    "def training_function(pp_model, vm_model, dld_tkn, dld_raw, optimizer): \n",
    "    # Accelerator \n",
    "    accelerator = Accelerator()\n",
    "    device = accelerator.device\n",
    "    \n",
    "    pp_model,vm_model,optimizer,dld_tkn['train'] = accelerator.prepare(\n",
    "        pp_model,vm_model,optimizer,dld_tkn['train']\n",
    "    )\n",
    "        # lr_scheduler = get_scheduler(\n",
    "    #     name=lr_scheduler_type,\n",
    "    #     optimizer=optimizer,\n",
    "    #     num_warmup_steps=n_warmup_steps,\n",
    "    #     num_training_steps=n_train_steps,\n",
    "    # )\n",
    "    \n",
    "    #logger.info(show_gpu(f' GPU memory usage after loading models:'))\n",
    "    progress_bar = tqdm(range(n_train_steps))\n",
    "\n",
    "    time_d = dict(train_loop=[], eval_loop=[])\n",
    "    t0 = time.time()\n",
    "    pp_model.zero_grad(set_to_none=zero_grad_with_none) \n",
    "    accumulation_num = 0 \n",
    "    for epoch in range(n_train_epochs): \n",
    "        logger.info(f\"Now on epoch {epoch} of {n_train_epochs}\")\n",
    "        if not pp_model.training: pp_model.train()\n",
    "        t0 = time.time()\n",
    "        for batch_num, (data, raw) in enumerate(zip(dld_tkn['train'], dld_raw['train'])): \n",
    "            if batch_num % 10 == 0 :   logging.info(f\"Now processing batch {batch_num} out of {len(dld_tkn['train'])}\")\n",
    "            training_step(data, raw, accelerator, epoch, batch_num, accumulation_num) \n",
    "            accumulation_num += 1\n",
    "            progress_bar.update(1) \n",
    "        t1 = time.time()\n",
    "        time_d['train_loop'].append(t1-t0)\n",
    "        \n",
    "        if wandb_log_grads and epoch % wandb_log_grads_freq == 0: \n",
    "            plt = plot_grad_flow(pp_model.named_parameters())\n",
    "            wandb.log({\"gradient flow\": wandb.Image(plt)})  # doesn't work as a non-image (i.e. plotly)\n",
    "            del plt \n",
    "        gc.collect() \n",
    "        torch.cuda.empty_cache()\n",
    "        \n",
    "        if save_model_while_training and (epoch + 1) % save_model_freq == 0:  save_model(epoch)\n",
    "        \n",
    "        # Evaluation loop\n",
    "        if epoch % eval_freq == 0: \n",
    "            t0 = time.time()\n",
    "            logging.info(f\"Now doing train eval\")\n",
    "            train_set_preds = eval_dl(dl_tkn = dld_tkn['train_eval'], dl_raw=dld_raw['train_eval'], \n",
    "                                      epoch=epoch, device=device)\n",
    "            logging.info(f\"Now doing valid eval\")\n",
    "            valid_set_preds = eval_dl(dl_tkn = dld_tkn['valid'],      dl_raw=dld_raw['valid'], \n",
    "                                      epoch=epoch, device=device)\n",
    "            t1 = time.time()\n",
    "            time_d['eval_loop'].append(t1-t0)\n",
    "            \n",
    "            # update the tables every epoch and log them\n",
    "            update_training_summary_table(train_set_preds, split='train', epoch=epoch)\n",
    "            update_training_summary_table(valid_set_preds, split='valid', epoch=epoch)\n",
    "            add_preds_to_data_d(train_set_preds, split='train', epoch=epoch)\n",
    "            add_preds_to_data_d(valid_set_preds, split='valid', epoch=epoch)\n",
    "            #log_wandb_tables(run)\n",
    "            plot_wandb_charts()\n",
    "            del train_set_preds\n",
    "            del valid_set_preds\n",
    "            gc.collect() \n",
    "            torch.cuda.empty_cache()\n",
    "    \n",
    "    logging.info(f\"Now doing test eval\")        \n",
    "    # Eval on test set \n",
    "    test_set_preds = eval_dl(dl_tkn = dld_tkn['test'], dl_raw=dld_raw['test'], epoch=epoch,  device=device)\n",
    "    add_preds_to_data_d(test_set_preds, split='test', epoch=epoch)\n",
    "    # Log, plot, and finish up\n",
    "    #log_wandb_tables(run)\n",
    "    \n",
    "    # Data -> df and save dfs to file \n",
    "    for key in data_d.keys():  # splits and sometimes 'training_step' too \n",
    "        data_d[key] = pd.DataFrame(data_d[key]) # dict of list of dict -> dict of dataframe\n",
    "        data_d[key].to_csv(f\"{path_run}{key}.csv\", index=False)\n",
    "    # Save training_summary table to csv too \n",
    "    pd.DataFrame(data_d['training_summary']).to_csv(f\"{path_run}training_summary.csv\", index=False)\n",
    "        \n",
    "    plot_wandb_charts()\n",
    "    add_wandb_run_summary_statistics(run)\n",
    "    print(\"Times\\n\", time_d)\n",
    "    run.summary['time_train_loop_avg'] = np.mean(time_d['train_loop'])\n",
    "    run.summary['time_eval_loop_avg' ] = np.mean(time_d['eval_loop'])"
   ]
  },
  {
   "cell_type": "markdown",
   "metadata": {},
   "source": [
    "#### Run"
   ]
  },
  {
   "cell_type": "code",
   "execution_count": 12,
   "metadata": {},
   "outputs": [],
   "source": [
    "#resume_model(f\"{path_checkpoints}devout-durian-172_39\")"
   ]
  },
  {
   "cell_type": "code",
   "execution_count": 13,
   "metadata": {
    "code_folding": []
   },
   "outputs": [
    {
     "name": "stdout",
     "output_type": "stream",
     "text": [
      "Failed to detect the name of this notebook, you can set it manually with the WANDB_NOTEBOOK_NAME environment variable to enable code saving.\n"
     ]
    },
    {
     "name": "stderr",
     "output_type": "stream",
     "text": [
      "\u001b[34m\u001b[1mwandb\u001b[0m: Currently logged in as: \u001b[33muts_nlp\u001b[0m (use `wandb login --relogin` to force relogin)\n"
     ]
    },
    {
     "data": {
      "text/html": [
       "\n",
       "                    Syncing run <strong><a href=\"https://wandb.ai/uts_nlp/travis_attack/runs/2ormkpfb\" target=\"_blank\">honest-snowball-194</a></strong> to <a href=\"https://wandb.ai/uts_nlp/travis_attack\" target=\"_blank\">Weights & Biases</a> (<a href=\"https://docs.wandb.com/integrations/jupyter.html\" target=\"_blank\">docs</a>).<br/>\n",
       "\n",
       "                "
      ],
      "text/plain": [
       "<IPython.core.display.HTML object>"
      ]
     },
     "metadata": {},
     "output_type": "display_data"
    },
    {
     "name": "stdout",
     "output_type": "stream",
     "text": [
      "Launching training on one GPU.\n"
     ]
    },
    {
     "data": {
      "application/vnd.jupyter.widget-view+json": {
       "model_id": "09f9a2ded7c94c14b56f53c6944722fa",
       "version_major": 2,
       "version_minor": 0
      },
      "text/plain": [
       "  0%|          | 0/300 [00:00<?, ?it/s]"
      ]
     },
     "metadata": {},
     "output_type": "display_data"
    },
    {
     "name": "stdout",
     "output_type": "stream",
     "text": [
      "Now on epoch 0 of 150\n",
      "Now on epoch 1 of 150\n",
      "Now on epoch 2 of 150\n",
      "Now on epoch 3 of 150\n",
      "Now on epoch 4 of 150\n",
      "Now on epoch 5 of 150\n",
      "Now on epoch 6 of 150\n",
      "Now on epoch 7 of 150\n",
      "Now on epoch 8 of 150\n",
      "Now on epoch 9 of 150\n",
      "Now on epoch 10 of 150\n",
      "Now on epoch 11 of 150\n",
      "Now on epoch 12 of 150\n",
      "Now on epoch 13 of 150\n",
      "Now on epoch 14 of 150\n",
      "Now on epoch 15 of 150\n",
      "Now on epoch 16 of 150\n",
      "Now on epoch 17 of 150\n",
      "Now on epoch 18 of 150\n",
      "Now on epoch 19 of 150\n",
      "Now on epoch 20 of 150\n",
      "Now on epoch 21 of 150\n",
      "Now on epoch 22 of 150\n",
      "Now on epoch 23 of 150\n",
      "Now on epoch 24 of 150\n",
      "Now on epoch 25 of 150\n",
      "Now on epoch 26 of 150\n",
      "Now on epoch 27 of 150\n",
      "Now on epoch 28 of 150\n",
      "Now on epoch 29 of 150\n",
      "Now on epoch 30 of 150\n",
      "Now on epoch 31 of 150\n",
      "Now on epoch 32 of 150\n",
      "Now on epoch 33 of 150\n",
      "Now on epoch 34 of 150\n",
      "Now on epoch 35 of 150\n",
      "Now on epoch 36 of 150\n",
      "Now on epoch 37 of 150\n",
      "Now on epoch 38 of 150\n",
      "Now on epoch 39 of 150\n",
      "Now on epoch 40 of 150\n",
      "Now on epoch 41 of 150\n",
      "Now on epoch 42 of 150\n",
      "Now on epoch 43 of 150\n",
      "Now on epoch 44 of 150\n",
      "Now on epoch 45 of 150\n",
      "Now on epoch 46 of 150\n",
      "Now on epoch 47 of 150\n",
      "Now on epoch 48 of 150\n",
      "Now on epoch 49 of 150\n",
      "Now on epoch 50 of 150\n",
      "Now on epoch 51 of 150\n",
      "Now on epoch 52 of 150\n",
      "Now on epoch 53 of 150\n",
      "Now on epoch 54 of 150\n",
      "Now on epoch 55 of 150\n",
      "Now on epoch 56 of 150\n",
      "Now on epoch 57 of 150\n",
      "Now on epoch 58 of 150\n",
      "Now on epoch 59 of 150\n",
      "Now on epoch 60 of 150\n",
      "Now on epoch 61 of 150\n",
      "Now on epoch 62 of 150\n",
      "Now on epoch 63 of 150\n",
      "Now on epoch 64 of 150\n",
      "Now on epoch 65 of 150\n",
      "Now on epoch 66 of 150\n",
      "Now on epoch 67 of 150\n",
      "Now on epoch 68 of 150\n",
      "Now on epoch 69 of 150\n",
      "Now on epoch 70 of 150\n",
      "Now on epoch 71 of 150\n",
      "Now on epoch 72 of 150\n",
      "Now on epoch 73 of 150\n",
      "Now on epoch 74 of 150\n",
      "Now on epoch 75 of 150\n",
      "Now on epoch 76 of 150\n",
      "Now on epoch 77 of 150\n",
      "Now on epoch 78 of 150\n",
      "Now on epoch 79 of 150\n",
      "Now on epoch 80 of 150\n",
      "Now on epoch 81 of 150\n",
      "Now on epoch 82 of 150\n",
      "Now on epoch 83 of 150\n",
      "Now on epoch 84 of 150\n",
      "Now on epoch 85 of 150\n",
      "Now on epoch 86 of 150\n",
      "Now on epoch 87 of 150\n",
      "Now on epoch 88 of 150\n",
      "Now on epoch 89 of 150\n",
      "Now on epoch 90 of 150\n",
      "Now on epoch 91 of 150\n",
      "Now on epoch 92 of 150\n",
      "Now on epoch 93 of 150\n",
      "Now on epoch 94 of 150\n",
      "Now on epoch 95 of 150\n",
      "Now on epoch 96 of 150\n",
      "Now on epoch 97 of 150\n",
      "Now on epoch 98 of 150\n",
      "Now on epoch 99 of 150\n",
      "Now on epoch 100 of 150\n",
      "Now on epoch 101 of 150\n",
      "Now on epoch 102 of 150\n",
      "Now on epoch 103 of 150\n",
      "Now on epoch 104 of 150\n",
      "Now on epoch 105 of 150\n",
      "Now on epoch 106 of 150\n",
      "Now on epoch 107 of 150\n",
      "Now on epoch 108 of 150\n",
      "Now on epoch 109 of 150\n",
      "Now on epoch 110 of 150\n",
      "Now on epoch 111 of 150\n",
      "Now on epoch 112 of 150\n",
      "Now on epoch 113 of 150\n",
      "Now on epoch 114 of 150\n",
      "Now on epoch 115 of 150\n",
      "Now on epoch 116 of 150\n",
      "Now on epoch 117 of 150\n",
      "Now on epoch 118 of 150\n",
      "Now on epoch 119 of 150\n",
      "Now on epoch 120 of 150\n",
      "Now on epoch 121 of 150\n",
      "Now on epoch 122 of 150\n",
      "Now on epoch 123 of 150\n",
      "Now on epoch 124 of 150\n",
      "Now on epoch 125 of 150\n",
      "Now on epoch 126 of 150\n",
      "Now on epoch 127 of 150\n",
      "Now on epoch 128 of 150\n",
      "Now on epoch 129 of 150\n",
      "Now on epoch 130 of 150\n",
      "Now on epoch 131 of 150\n",
      "Now on epoch 132 of 150\n",
      "Now on epoch 133 of 150\n",
      "Now on epoch 134 of 150\n",
      "Now on epoch 135 of 150\n",
      "Now on epoch 136 of 150\n",
      "Now on epoch 137 of 150\n",
      "Now on epoch 138 of 150\n",
      "Now on epoch 139 of 150\n",
      "Now on epoch 140 of 150\n",
      "Now on epoch 141 of 150\n",
      "Now on epoch 142 of 150\n",
      "Now on epoch 143 of 150\n",
      "Now on epoch 144 of 150\n",
      "Now on epoch 145 of 150\n",
      "Now on epoch 146 of 150\n",
      "Now on epoch 147 of 150\n",
      "Now on epoch 148 of 150\n",
      "Now on epoch 149 of 150\n",
      "Times\n",
      " {'train_loop': [1.1136558055877686, 1.0297935009002686, 0.7189443111419678, 0.7119321823120117, 0.7081801891326904, 0.7097280025482178, 0.7078554630279541, 0.7094361782073975, 0.712620735168457, 0.7138292789459229, 0.7076749801635742, 0.7230920791625977, 0.7199199199676514, 0.7206707000732422, 0.7285945415496826, 0.7223877906799316, 0.7197391986846924, 0.7181305885314941, 0.7263259887695312, 0.7247409820556641, 0.7313582897186279, 0.7171177864074707, 0.7639787197113037, 0.7191107273101807, 0.7208313941955566, 0.7193522453308105, 0.7516541481018066, 0.7186233997344971, 0.7170910835266113, 0.7187790870666504, 0.7413949966430664, 0.7286596298217773, 0.7239835262298584, 0.7237181663513184, 0.7177965641021729, 0.7180943489074707, 0.7189850807189941, 0.7189428806304932, 0.7207033634185791, 0.7154593467712402, 0.7186524868011475, 0.7305347919464111, 0.7266607284545898, 0.7245597839355469, 0.7279367446899414, 0.7327377796173096, 0.7308812141418457, 0.7273726463317871, 0.7290093898773193, 0.7298915386199951, 0.7262892723083496, 0.7306704521179199, 0.8521993160247803, 0.7008793354034424, 0.7239325046539307, 0.7011189460754395, 0.7081139087677002, 0.7138323783874512, 0.7058124542236328, 0.7166106700897217, 0.7082557678222656, 0.7222635746002197, 0.72727370262146, 0.7162618637084961, 0.7383341789245605, 0.7092916965484619, 0.8076536655426025, 0.7144279479980469, 0.7164652347564697, 0.7236032485961914, 0.7174348831176758, 0.7888965606689453, 0.7186751365661621, 0.7131805419921875, 0.7177200317382812, 0.753349781036377, 0.7373137474060059, 0.7214601039886475, 0.7147929668426514, 0.7141528129577637, 0.7280259132385254, 0.7789971828460693, 0.7554643154144287, 0.7314276695251465, 0.7243208885192871, 0.7236297130584717, 0.7700726985931396, 0.7161016464233398, 0.7147815227508545, 0.7159433364868164, 0.7454299926757812, 0.727588415145874, 0.7450370788574219, 0.7371294498443604, 0.7274134159088135, 0.7483947277069092, 0.7227892875671387, 0.7298245429992676, 0.7215485572814941, 0.714911937713623, 0.7179524898529053, 0.7200725078582764, 0.7172715663909912, 0.7473530769348145, 0.719167947769165, 0.7234623432159424, 0.716529130935669, 0.7187352180480957, 0.7400975227355957, 0.7215344905853271, 0.7382636070251465, 0.735335111618042, 0.7282979488372803, 0.7280828952789307, 0.7248597145080566, 0.7181224822998047, 0.7335939407348633, 0.730816125869751, 0.7421534061431885, 0.7261624336242676, 0.7739269733428955, 0.7318224906921387, 0.7308845520019531, 0.7346162796020508, 0.7268378734588623, 0.7271397113800049, 0.7213969230651855, 0.7164754867553711, 0.7177326679229736, 0.7130324840545654, 0.715808629989624, 0.7288844585418701, 0.7169620990753174, 0.7169373035430908, 0.7248079776763916, 0.794323205947876, 0.7927062511444092, 0.7940020561218262, 0.7931036949157715, 0.839888334274292, 0.8020772933959961, 0.7396082878112793, 0.7350180149078369, 0.7165529727935791, 0.7184185981750488, 0.7184474468231201, 0.7360043525695801, 0.7186956405639648, 0.7174766063690186, 0.7183146476745605], 'eval_loop': [0.5504381656646729, 0.5157763957977295, 0.5298850536346436, 0.5266780853271484, 0.5247836112976074, 0.5397038459777832, 0.6147475242614746, 0.5267982482910156, 0.5306761264801025, 0.5317518711090088, 0.5312891006469727, 0.5350699424743652, 0.5556850433349609, 0.5284099578857422, 0.6213676929473877]}\n"
     ]
    },
    {
     "data": {
      "text/html": [
       "<br/>Waiting for W&B process to finish, PID 24877... <strong style=\"color:green\">(success).</strong>"
      ],
      "text/plain": [
       "<IPython.core.display.HTML object>"
      ]
     },
     "metadata": {},
     "output_type": "display_data"
    },
    {
     "data": {
      "application/vnd.jupyter.widget-view+json": {
       "model_id": "",
       "version_major": 2,
       "version_minor": 0
      },
      "text/plain": [
       "VBox(children=(Label(value=' 0.25MB of 0.25MB uploaded (0.00MB deduped)\\r'), FloatProgress(value=0.98512236655…"
      ]
     },
     "metadata": {},
     "output_type": "display_data"
    },
    {
     "data": {
      "text/html": [
       "<style>\n",
       "    table.wandb td:nth-child(1) { padding: 0 10px; text-align: right }\n",
       "    .wandb-row { display: flex; flex-direction: row; flex-wrap: wrap; width: 100% }\n",
       "    .wandb-col { display: flex; flex-direction: column; flex-basis: 100%; flex: 1; padding: 10px; }\n",
       "    </style>\n",
       "<div class=\"wandb-row\"><div class=\"wandb-col\">\n",
       "</div><div class=\"wandb-col\">\n",
       "<h3>Run summary:</h3><br/><table class=\"wandb\"><tr><td>best_epoch</td><td>140</td></tr><tr><td>label_flip_avg_test</td><td>0.0</td></tr><tr><td>label_flip_avg_train</td><td>0.0</td></tr><tr><td>label_flip_avg_valid</td><td>0.0</td></tr><tr><td>loss_avg_test</td><td>0.04231</td></tr><tr><td>loss_avg_train</td><td>0.00021</td></tr><tr><td>loss_avg_valid</td><td>0.00261</td></tr><tr><td>pp_logp_avg_test</td><td>-0.09299</td></tr><tr><td>pp_logp_avg_train</td><td>-0.00048</td></tr><tr><td>pp_logp_avg_valid</td><td>-0.0058</td></tr><tr><td>reward_avg_test</td><td>0.44374</td></tr><tr><td>reward_avg_train</td><td>0.43718</td></tr><tr><td>reward_avg_valid</td><td>0.4376</td></tr><tr><td>sts_score_avg_test</td><td>0.93725</td></tr><tr><td>sts_score_avg_train</td><td>0.98499</td></tr><tr><td>sts_score_avg_valid</td><td>0.97794</td></tr><tr><td>time_eval_loop_avg</td><td>0.5442</td></tr><tr><td>time_train_loop_avg</td><td>0.73433</td></tr><tr><td>vm_score_avg_test</td><td>-0.06023</td></tr><tr><td>vm_score_avg_train</td><td>-0.06351</td></tr><tr><td>vm_score_avg_valid</td><td>-0.06328</td></tr></table>\n",
       "</div></div>\n",
       "Synced 5 W&B file(s), 96 media file(s), 15 artifact file(s) and 0 other file(s)\n",
       "<br/>Synced <strong style=\"color:#cdcd00\">honest-snowball-194</strong>: <a href=\"https://wandb.ai/uts_nlp/travis_attack/runs/2ormkpfb\" target=\"_blank\">https://wandb.ai/uts_nlp/travis_attack/runs/2ormkpfb</a><br/>\n",
       "Find logs at: <code>./wandb/run-20220110_135025-2ormkpfb/logs</code><br/>\n"
      ],
      "text/plain": [
       "<IPython.core.display.HTML object>"
      ]
     },
     "metadata": {},
     "output_type": "display_data"
    }
   ],
   "source": [
    "## Launch run and configure what it is tracking\n",
    "#wandb_mode='online'\n",
    "run = wandb.init(project=\"travis_attack\", entity=\"uts_nlp\", config=config_d,\n",
    "                 mode=wandb_mode, notes=run_notes)\n",
    "if wandb_log_grads: wandb.watch(pp_model, log='gradients', log_freq=wandb_log_grads_freq)\n",
    "\n",
    "path_run = f\"{path_checkpoints}{run.name}/\"\n",
    "if not os.path.exists(path_run): os.makedirs(path_run, exist_ok=True)\n",
    "### Set up tables \n",
    "\n",
    "\n",
    "##### TO REFACTOR ######\n",
    "# These have to be in the keys of the output from eval_dl\n",
    "# table_columns = ['idx', 'orig_l',  'truelabel', 'orig_truelabel_probs', 'epoch', 'pp_l',\n",
    "#              'pp_truelabel_probs', \"pp_predclass\", \"pp_predclass_probs\"] + metrics\n",
    "# def make_table(cols): return wandb.Table(columns=cols)\n",
    "# for key in splits:                table_d[key]             = make_table(table_columns) \n",
    "# if wandb_log_training_step_table: table_d['training_step'] = make_table(table_columns) \n",
    "# summary_table_columns = ['epoch','split'] + [f'{m}_avg' for m in metrics]\n",
    "# table_d['training_summary'] = make_table(summary_table_columns)\n",
    "########################\n",
    "\n",
    "\n",
    "#### NEW ####\n",
    "## Raw observation data (lists of dicts, later becomes pandas df)\n",
    "# These have to be in the keys of the output from eval_dl\n",
    "table_columns = ['idx', 'orig_l',  'truelabel', 'orig_truelabel_probs', 'epoch', 'pp_l',\n",
    "             'pp_truelabel_probs', \"pp_predclass\", \"pp_predclass_probs\"] + metrics\n",
    "summary_table_columns = ['epoch','split'] + [f'{m}_avg' for m in metrics]\n",
    "\n",
    "data_d = dict()\n",
    "for key in splits + ['training_summary']:  data_d[key]             = [] \n",
    "if wandb_log_training_step_table:          data_d['training_step'] = []\n",
    "\n",
    "## Training summary table (W&B table)\n",
    "# Future W&B tables here\n",
    "#table_d = dict()\n",
    "#def make_table(cols): return wandb.Table(columns=cols)\n",
    "#table_d['training_summary'] = make_table(summary_table_columns)\n",
    "#############\n",
    "\n",
    "## Get indices for the examples plots\n",
    "if wandb_plot_examples:\n",
    "    def get_examples_plot_idxs(ds): \n",
    "        return np.random.choice(ds['idx'], size=wandb_n_examples_plot, replace=False).tolist()\n",
    "    plt_idx_d = dict()\n",
    "    for split in splits: plt_idx_d[split] = get_examples_plot_idxs(dsd[split])\n",
    "\n",
    "#%lprun -f training_function -f  plot_summary_charts -f training_step -f eval_dl -f add_preds_to_data_d -f plot_wandb_charts -f update_training_summary_table notebook_launcher(training_function, args=(pp_model, vm_model, dld_tkn, dld_raw, optimizer), num_processes=1, use_fp16=use_fp16)\n",
    "notebook_launcher(training_function, args=(pp_model, vm_model, dld_tkn, dld_raw, optimizer), num_processes=1, use_fp16=use_fp16)\n",
    "wandb.finish()"
   ]
  },
  {
   "cell_type": "markdown",
   "metadata": {},
   "source": [
    "\n",
    "\n",
    "\n",
    "\n",
    "\n",
    "\n",
    "\n",
    "\n",
    "\n",
    "### Training loop "
   ]
  },
  {
   "cell_type": "code",
   "execution_count": 14,
   "metadata": {
    "code_folding": [],
    "scrolled": false
   },
   "outputs": [],
   "source": [
    "# logger.info(show_gpu(f' GPU memory usage after loading models:'))\n",
    "# progress_bar = tqdm(range(n_train_steps))\n",
    "\n",
    "# t0 = time.time()\n",
    "# pp_model.zero_grad(set_to_none=zero_grad_with_none) \n",
    "# for epoch in range(n_train_epochs): \n",
    "#     logger.info(f\"Now on epoch {epoch} of {n_train_epochs}\")\n",
    "#     if not pp_model.training: pp_model.train()\n",
    "#     for i, (data, raw) in enumerate(zip(dld_tkn['train'], dld_raw['train'])): \n",
    "#         if i % 10 == 0 :   logging.info(f\"Now processing batch {i} out of {len(dld_tkn['train'])}\")\n",
    "#         training_step(data, raw) \n",
    "            \n",
    "#         # For debugging\n",
    "#         # print_info_on_generated_text()\n",
    "#         progress_bar.update(1)   \n",
    "#     if wandb_log_grads and epoch % wandb_log_grads_freq == 0: \n",
    "#         plt = plot_grad_flow(pp_model.named_parameters())\n",
    "#         wandb.log({\"gradient flow\": wandb.Image(plt)})  # doesn't work as a non-image (i.e. plotly)\n",
    "#         del plt \n",
    "#     gc.collect() \n",
    "#     torch.cuda.empty_cache()\n",
    "#     # Evaluation loop\n",
    "#     if epoch % eval_freq == 0: \n",
    "#         train_set_preds = eval_dl(dl_tkn = dld_tkn['train'], dl_raw=dld_raw['train'])\n",
    "#         valid_set_preds = eval_dl(dl_tkn = dld_tkn['valid'], dl_raw=dld_raw['valid'])\n",
    "        \n",
    "#         # can't update the tables every epoch, so store them and do it at the end \n",
    "#         update_training_summary_table(train_set_preds, split='train')\n",
    "#         update_training_summary_table(valid_set_preds, split='valid')\n",
    "#         add_preds_to_data_d(train_set_preds, split='train')\n",
    "#         add_preds_to_data_d(valid_set_preds, split='valid')\n",
    "#         #del train_set_preds\n",
    "#         #del valid_set_preds\n",
    "            \n",
    "# # Eval on test set \n",
    "# test_set_preds = eval_dl(dl_tkn = dld_tkn['test'], dl_raw=dld_raw['test'])\n",
    "# add_preds_to_data_d(test_set_preds, split='test')\n",
    "# # Log, plot, and finish up\n",
    "# log_wandb_tables()\n",
    "# plot_wandb_charts()\n",
    "# add_wandb_run_summary_statistics()\n",
    "\n",
    "# t1 = time.time()\n",
    "# total = t1-t0\n",
    "# print(\"Total time:\", total)\n",
    "\n",
    "# wandb.finish()"
   ]
  },
  {
   "cell_type": "markdown",
   "metadata": {},
   "source": [
    "## Testing and debugging "
   ]
  },
  {
   "cell_type": "markdown",
   "metadata": {
    "heading_collapsed": true
   },
   "source": [
    "### Verifying that the weights update each training step "
   ]
  },
  {
   "cell_type": "code",
   "execution_count": 15,
   "metadata": {
    "code_folding": [],
    "hidden": true
   },
   "outputs": [],
   "source": [
    "#check_parameters_update(dl)  # from utils script"
   ]
  },
  {
   "cell_type": "markdown",
   "metadata": {},
   "source": [
    "## Code scraps "
   ]
  },
  {
   "cell_type": "markdown",
   "metadata": {
    "heading_collapsed": true
   },
   "source": [
    "### Experiments around plotting average parameter updates "
   ]
  },
  {
   "cell_type": "code",
   "execution_count": 16,
   "metadata": {
    "hidden": true
   },
   "outputs": [],
   "source": [
    "# def get_parameter_group_dict(): \n",
    "#     \"\"\"Function to create \"groups\" of parameters. This is useful to check how much a group of \n",
    "#     parameters updates at an epoch. \n",
    "#     Parameter groups are hardcoded into this code for now. \n",
    "#     \"\"\"\n",
    "#     # Identify which parameters should be grouped together\n",
    "#     isolates = ['model.shared.weight',\"model.encoder.embed_positions.weight\", \"model.encoder.layer_norm\",\n",
    "#                 \"model.decoder.embed_positions.weight\", \"model.decoder.layer_norm\"]\n",
    "#     layers_base = [\"model.encoder.layers\", \"model.decoder.layers\"]\n",
    "#     def flatten_list(l): return list(np.concatenate(l).flat)\n",
    "#     layers = flatten_list([[lyr + \".\" + str(o) +\".\" for o in list(range(16))] for lyr in layers_base])\n",
    "#     parameter_groups = layers + isolates\n",
    "#     # Sort the parameter groups by the order they appear in the model \n",
    "#     all_params = [name for name,_ in pp_model.named_parameters()]\n",
    "#     ordering = [np.min(np.where([pg in o for o in all_params])) for pg in parameter_groups]\n",
    "#     parameter_groups = [o for _,o in sorted(zip(ordering, parameter_groups))]\n",
    "#     # Assign each model parameter a parameter group \n",
    "#     group_d = dict()\n",
    "#     for pg in parameter_groups: \n",
    "#         name = pg[:-1] if pg in layers else pg  # remove the \".\" from the end of the name for the numeric layers\n",
    "#         group_d[name] = [o for o in all_params if pg in o]\n",
    "#     return group_d"
   ]
  },
  {
   "cell_type": "code",
   "execution_count": 17,
   "metadata": {
    "hidden": true
   },
   "outputs": [],
   "source": [
    "# def get_parameter_update_amount(): \n",
    "#     group_d = get_parameter_group_dict()\n",
    "#     params_all_initial_d = dict(params_all_initial)\n",
    "#     params_all_d = dict(params_all)\n",
    "#     group_d = get_parameter_group_dict()\n",
    "#     df_d = dict()\n",
    "#     for k,param_l in group_d.items(): \n",
    "#         l = list()\n",
    "#         for p in param_l: \n",
    "#             l.append((params_all_initial_d[p] - params_all_d[p]).abs().flatten())\n",
    "#         l = torch.cat(l).cpu().detach().numpy()  # list of 1-d tensors to tensor and then to numpy\n",
    "#         df_d[k] = pd.DataFrame(l).describe().values.flatten()\n",
    "#     df = pd.DataFrame(df_d)\n",
    "#     df.index = pd.DataFrame([1,2,3]).describe().index\n",
    "#     return df "
   ]
  },
  {
   "cell_type": "code",
   "execution_count": 18,
   "metadata": {
    "hidden": true
   },
   "outputs": [],
   "source": [
    "## Random code snippets\n",
    "\n",
    "# initial_params = [(name, p.detach().clone()) for (name, p) in pp_model.named_parameters()]\n",
    "# loss, reward, pp_logp = training_step(data) \n",
    "# update_d =  dict()\n",
    "# for (_,old_p), (name, new_p) in zip(initial_params, pp_model.named_parameters()): \n",
    "#     update_d[name] = torch.abs(old_p - new_p).detach().flatten()     \n",
    "    \n",
    "#             update_d =  dict()\n",
    "#             for (_,old_p), (name, new_p) in zip(initial_params, pp_model.named_parameters()): \n",
    "#                 update_d[name] = torch.abs(old_p - new_p).flatten() \n",
    "#                 print (name, torch.norm(new_p - old_p).item())  \n",
    "            \n",
    "#             group_d = get_parameter_group_dict()\n",
    "#             initial_params_d,current_params_d = dict(initial_params),dict()\n",
    "#             params_all_d = dict(params_all)\n",
    "#             group_d = get_parameter_group_dict()\n",
    "#             df_d = dict()\n",
    "#             for k,param_l in group_d.items(): \n",
    "#                 l = list()\n",
    "#                 for p in param_l: \n",
    "#                     l.append((params_all_initial_d[p] - params_all_d[p]).abs().flatten())\n",
    "#                 l = torch.cat(l).cpu().detach().numpy()  # list of 1-d tensors to tensor and then to numpy\n",
    "#                 df_d[k] = pd.DataFrame(l).describe().values.flatten()\n",
    "#             df = pd.DataFrame(df_d)\n",
    "#             df.index = pd.DataFrame([1,2,3]).describe().index"
   ]
  },
  {
   "cell_type": "markdown",
   "metadata": {
    "heading_collapsed": true
   },
   "source": [
    "### Generating a paraphrase dataset and getting VM predictions for it"
   ]
  },
  {
   "cell_type": "code",
   "execution_count": 19,
   "metadata": {
    "code_folding": [],
    "hidden": true
   },
   "outputs": [],
   "source": [
    "# def create_paraphrase_dataset(batch, cname_input, cname_output, num_beams=32,\n",
    "#                               num_return_sequences=32): \n",
    "#     \"\"\"Create paraphrases for each example in the batch. Then repeat the other fields \n",
    "#         so that the resulting datase has the same length as the number of paraphrases. \n",
    "#         Key assumption is \n",
    "#         that the same number of paraphrases is created for each example.\n",
    "#         batch: a dict of examples used by the `map` function from the dataset\n",
    "#         cname_input: What column to create paraphrases of \n",
    "#         cname_output: What to call the column of paraphrases\n",
    "#         other parameters - passed to get_paraphrases. \"\"\"\n",
    "    \n",
    "#     # Generate paraphrases. \n",
    "#     # This can be later extended to add diversity or so on. \n",
    "#     #set_trace()\n",
    "#     pp_l,probs = get_paraphrases(batch[cname_input], num_beams=num_beams,\n",
    "#         num_return_sequences=num_return_sequences)\n",
    "    \n",
    "#     # To return paraphrases as a list of lists for batch input (not done here but might need later)\n",
    "#     #     split_into_sublists = lambda l,n: [l[i:i + n] for i in range(0, len(l), n)]\n",
    "#     #     pp_l = split_into_sublists(pp_l, n_seed_seqs)\n",
    "#     batch[cname_output] = pp_l \n",
    "#     batch[\"probs\"] = probs.to('cpu').numpy()\n",
    "    \n",
    "#     # Repeat each entry in all other columns `num_return_sequences` times so they are the same length\n",
    "#     # as the paraphrase column\n",
    "#     # Only works if the same number of paraphrases is generated for each phrase. \n",
    "#     # Else try something like \n",
    "#         # for o in zip(*batch.values()):\n",
    "#         #     d = dict(zip(batch.keys(), o))\n",
    "#         #     get_paraphrases(batch[cname_input],num_return_sequences=n_seed_seqs,num_beams=n_seed_seqs)\n",
    "#         #     for k,v in d.items(): \n",
    "#         #       return_d[k] += v if k == 'text' else [v for o in range(n_paraphrases)]\n",
    "#         # return return_d\n",
    "#     return_d = defaultdict(list) \n",
    "#     repeat_each_item_n_times = lambda l,n: [o for o in l for i in range(n)]\n",
    "#     for k in batch.keys(): \n",
    "#         if   k == cname_output: return_d[k] = batch[cname_output]\n",
    "#         elif k == \"probs\"     : return_d[k] = batch[\"probs\"]\n",
    "#         else:                   return_d[k] = repeat_each_item_n_times(batch[k], num_return_sequences)\n",
    "#     return return_d "
   ]
  },
  {
   "cell_type": "code",
   "execution_count": 20,
   "metadata": {
    "code_folding": [
     0
    ],
    "hidden": true
   },
   "outputs": [],
   "source": [
    "# def get_vm_scores(ds_pp, cname_orig, cname_pp, cname_label='label', \n",
    "#                   use_metric=False, monitor=False): \n",
    "#     \"\"\"Get victim model preds+probs for the paraphrase dataset.\n",
    "#     \"\"\"\n",
    "#     assert vm_model.training == False  # checks that model is in eval mode \n",
    "#     if use_metric: \n",
    "#         metric_d = {}\n",
    "#         metric_d['orig'],metric_d['pp'] = load_metric('accuracy'),load_metric('accuracy')\n",
    "#     orig_probs_l,pp_probs_l = [],[]\n",
    "#     if monitor: monitor = Monitor(2)  # track GPU usage and memory\n",
    "    \n",
    "#     def get_vm_preds(x): \n",
    "#         \"\"\"Get predictions for a vector x (here a vector of documents/text). \n",
    "#         Works for a sentiment-analysis dataset (needs to be adjusted for NLI tasks)\"\"\"\n",
    "#         inputs = vm_tokenizer(x, padding=True, truncation=True, return_tensors=\"pt\")\n",
    "#         inputs.to(device)\n",
    "#         outputs = vm_model(**inputs, labels=labels)\n",
    "#         probs = outputs.logits.softmax(1).cpu()\n",
    "#         preds = probs.argmax(1)\n",
    "#         return probs, preds\n",
    "       \n",
    "#     print(\"Getting victim model predictions for both original and paraphrased text.\")\n",
    "#     dl = DataLoader(ds_pp, batch_size=batch_size, shuffle=False, \n",
    "#                     num_workers=n_wkrs, pin_memory=True)\n",
    "#     with torch.no_grad():\n",
    "#         for i, data in enumerate(dl): \n",
    "#             if i % 50 == 0 : print(\"Now processing batch\", i, \"out of\", len(dl))\n",
    "#             labels,orig,pp = data['label'].to(device),data[cname_orig],data[cname_pp]\n",
    "#             orig_probs, orig_preds = get_vm_preds(orig)            \n",
    "#             pp_probs,   pp_preds   = get_vm_preds(pp)    \n",
    "#             orig_probs_l.append(orig_probs); pp_probs_l.append(pp_probs)\n",
    "#             if use_metric: \n",
    "#                 metric_d['orig'].add_batch(predictions=orig_preds, references=labels)\n",
    "#                 metric_d['pp'].add_batch(  predictions=pp_preds,   references=labels)\n",
    "#     if monitor: monitor.stop()\n",
    "#     def list2tensor(l): return torch.cat(l)\n",
    "#     orig_probs_t,pp_probs_t = list2tensor(orig_probs_l),list2tensor(pp_probs_l)\n",
    "#     if use_metric: return orig_probs_t, pp_probs_t, metric_d\n",
    "#     else:          return orig_probs_t, pp_probs_t, None"
   ]
  },
  {
   "cell_type": "code",
   "execution_count": 21,
   "metadata": {
    "code_folding": [],
    "hidden": true
   },
   "outputs": [],
   "source": [
    "# ### Generate paraphrase dataset\n",
    "# num_beams = 10\n",
    "# num_return_sequences = 3\n",
    "# cname_input = 'text' # which text column to paraphrase\n",
    "# cname_output= cname_input + '_pp'\n",
    "# date = '20210825'\n",
    "# fname = path_cache + '_rt_train'+ date + '_' + str(num_return_sequences)\n",
    "# if os.path.exists(fname):  \n",
    "#     ds_pp = datasets.load_from_disk(fname)\n",
    "# else:\n",
    "#     ds_pp = train.shard(200, 0, contiguous=True)\n",
    "#     # Have to call with batched=True\n",
    "#     # Need to set a batch size otherwise will run out of memory on the GPU card. \n",
    "#     # 64 seems to work well \n",
    "#     ds_pp = ds_pp.map(\n",
    "#         lambda x: create_paraphrase_dataset(x, \n",
    "#             num_beams=num_beams, num_return_sequences=num_return_sequences,\n",
    "#             cname_input=cname_input, cname_output=cname_output),\n",
    "#         batched=True, batch_size=4) \n",
    "#     ds_pp.save_to_disk(fname)\n",
    "#     gc.collect(); torch.cuda.empty_cache() # free up most of the GPU memory"
   ]
  },
  {
   "cell_type": "code",
   "execution_count": 22,
   "metadata": {
    "code_folding": [],
    "hidden": true
   },
   "outputs": [],
   "source": [
    "# ### Get predictions\n",
    "# cname_orig = cname_input\n",
    "# cname_pp = cname_output\n",
    "# cname_label = 'label'\n",
    "# print_metric = True\n",
    "# fname = path_cache + 'results_df_'+ date + \"_\" + str(num_return_sequences) + \".csv\"\n",
    "# if os.path.exists(fname):    results_df = pd.read_csv(fname)\n",
    "# else: \n",
    "#     #sim_score_t = generate_sim_scores()\n",
    "#     orig_probs_t,pp_probs_t,metric_d = get_vm_scores(ds_pp, cname_orig, \n",
    "#                                                      cname_pp, cname_label,\n",
    "#                                                      monitor=True, use_metric=print_metric)\n",
    "#     if print_metric: \n",
    "#         print(\"orig vm accuracy:\",       metric_d['orig'].compute())\n",
    "#         print(\"paraphrase vm accuracy:\", metric_d['pp'].compute())\n",
    "#     vm_orig_scores  = torch.tensor([r[idx] for idx,r in zip(ds_pp[cname_label], orig_probs_t)])\n",
    "#     vm_pp_scores    = torch.tensor([r[idx] for idx,r in zip(ds_pp[cname_label], pp_probs_t)])\n",
    "#     results_df = pd.DataFrame({\n",
    "#                   cname_orig: ds_pp[cname_orig],\n",
    "#                   cname_pp: ds_pp[cname_pp],\n",
    "#    #               'sim_score': sim_score_t,\n",
    "#                   'label_true': ds_pp[cname_label], \n",
    "#                   'label_vm_orig': orig_probs_t.argmax(1),\n",
    "#                   'label_vm_pp': pp_probs_t.argmax(1),\n",
    "#                   'vm_orig_truelabel': vm_orig_scores,             \n",
    "#                   'vm_pp_truelabel': vm_pp_scores,\n",
    "#                   'vm_truelabel_change': vm_orig_scores - vm_pp_scores,\n",
    "#                   'vm_orig_class0': orig_probs_t[:,0], \n",
    "#                   'vm_orig_class1': orig_probs_t[:,1], \n",
    "#                   'vm_pp_class0': pp_probs_t[:,0], \n",
    "#                   'vm_pp_class1': pp_probs_t[:,1], \n",
    "#                   })\n",
    "# #    results_df['vm_truelabel_change_X_sim_score'] = results_df['vm_truelabel_change'] * results_df['sim_score']\n",
    "#     results_df.to_csv(fname, index_label = 'idx')"
   ]
  },
  {
   "cell_type": "markdown",
   "metadata": {
    "heading_collapsed": true
   },
   "source": [
    "### Testing how to keep gradients with `generate` functions"
   ]
  },
  {
   "cell_type": "code",
   "execution_count": 23,
   "metadata": {
    "code_folding": [],
    "hidden": true
   },
   "outputs": [],
   "source": [
    "# ### Testing the `generate_with_grad` function\n",
    "\n",
    "# input_text=\"hello my name is Tom\"\n",
    "# num_return_sequences=1\n",
    "# num_beams=2\n",
    "# return_probs=True\n",
    "# batch = pp_tokenizer(input_text, truncation=True, padding='longest', return_tensors=\"pt\").to(device)\n",
    "# generated = pp_model.generate_with_grad(**batch, return_dict_in_generate=True, output_scores=True,\n",
    "#                               num_return_sequences=num_return_sequences,\n",
    "#                                 num_beams=num_beams,\n",
    "#                                 num_beam_groups=1,\n",
    "#                                 diversity_penalty=0,\n",
    "#                                 temperature=1.5, \n",
    "#                               length_penalty=1)\n",
    "# print(generated)\n",
    "\n",
    "# tgt_text = pp_tokenizer.batch_decode(generated.sequences, skip_special_tokens=True)\n",
    "# print(pp_tokenizer.tokenize(tgt_text[0]))\n",
    "# print(pp_tokenizer.encode(tgt_text[0]))\n",
    "\n",
    "# # Score: score = sum_logprobs / (hyp.shape[-1] ** self.length_penalty)\n",
    "# # gradient gets removed (i think) by the line \n",
    "# # beam_hyp.add(\n",
    "# #   input_ids[batch_beam_idx].clone(),\n",
    "# #   next_score.item())\n",
    "\n",
    "\n",
    "# x=generated['scores'][5]\n",
    "# print(x.max(1))\n",
    "# x.max(1).values / (len(generated['scores']) ** 0.8)"
   ]
  },
  {
   "cell_type": "code",
   "execution_count": 24,
   "metadata": {
    "code_folding": [
     0
    ],
    "hidden": true
   },
   "outputs": [],
   "source": [
    "## An example of how to use greedy_search\n",
    "\n",
    "# from transformers import (\n",
    "# AutoTokenizer,\n",
    "# AutoModelForCausalLM,\n",
    "# LogitsProcessorList,\n",
    "# MinLengthLogitsProcessor,\n",
    "# )\n",
    "\n",
    "# tokenizer = AutoTokenizer.from_pretrained(\"gpt2\")\n",
    "# model = AutoModelForCausalLM.from_pretrained(\"gpt2\")\n",
    "\n",
    "# # set pad_token_id to eos_token_id because GPT2 does not have a EOS token\n",
    "# model.config.pad_token_id = model.config.eos_token_id\n",
    "\n",
    "# input_prompt = \"Today is a beautiful day, and\"\n",
    "# input_ids = tokenizer(input_prompt, return_tensors=\"pt\").input_ids\n",
    "\n",
    "# # instantiate logits processors\n",
    "# logits_processor = LogitsProcessorList([\n",
    "#     MinLengthLogitsProcessor(15, eos_token_id=model.config.eos_token_id),\n",
    "# ])\n",
    "\n",
    "# outputs = model.greedy_search(input_ids, logits_processor=logits_processor)\n",
    "\n",
    "# print(\"Generated:\", tokenizer.batch_decode(outputs, skip_special_tokens=True))"
   ]
  },
  {
   "cell_type": "markdown",
   "metadata": {
    "heading_collapsed": true
   },
   "source": [
    "### Tensorboard setup "
   ]
  },
  {
   "cell_type": "code",
   "execution_count": 25,
   "metadata": {
    "hidden": true
   },
   "outputs": [],
   "source": [
    "\n",
    "# from torch.utils.tensorboard import SummaryWriter\n",
    "# import datetime \n",
    "# # Create writer and track to run directory \n",
    "# path_runs = './runs/'\n",
    "# log_dir = path_runs + datetime.datetime.now().strftime(\"%Y%m%d-%H%M%S\") + \"/\"\n",
    "# writer = SummaryWriter(log_dir = log_dir)\n",
    "# # stuff here logging to tensorboard\n",
    "# #writer.close() # important otherwise Tensorboard eventually shuts down\n"
   ]
  },
  {
   "cell_type": "markdown",
   "metadata": {
    "heading_collapsed": true
   },
   "source": [
    "### WandB artifact tables "
   ]
  },
  {
   "cell_type": "code",
   "execution_count": 26,
   "metadata": {
    "hidden": true
   },
   "outputs": [],
   "source": [
    "# log predictions table to wandb, giving it a name\n",
    "#  train_table_artifact = wandb.Artifact(\"train_samples_\" + str(wandb.run.id), type=\"predictions\")\n",
    "#  valid_table_artifact = wandb.Artifact(\"test_samples_\"   + str(wandb.run.id), type=\"predictions\")\n",
    "#train_table_artifact.add(train_table, \"predictions\")\n",
    "#valid_table_artifact.add(valid_table, \"predictions\")\n",
    "#wandb.run.log_artifact(train_table_artifact) \n",
    "#wandb.run.log_artifact(valid_table_artifact)"
   ]
  },
  {
   "cell_type": "markdown",
   "metadata": {
    "heading_collapsed": true
   },
   "source": [
    "### A no_grad version of `model.generate()` adapted from transformers v4.5.0"
   ]
  },
  {
   "cell_type": "code",
   "execution_count": 27,
   "metadata": {
    "code_folding": [
     0
    ],
    "hidden": true
   },
   "outputs": [],
   "source": [
    "# from typing import Any, Callable, Dict, Iterable, List, Mapping, Optional, Union\n",
    "# from transformers.generation_beam_search import BeamScorer, BeamSearchScorer\n",
    "# import torch\n",
    "\n",
    "\n",
    "# def generate_with_grad(\n",
    "#     self,\n",
    "#     input_ids: Optional[torch.LongTensor] = None,\n",
    "#     max_length: Optional[int] = None,\n",
    "#     min_length: Optional[int] = None,\n",
    "#     do_sample: Optional[bool] = None,\n",
    "#     early_stopping: Optional[bool] = None,\n",
    "#     num_beams: Optional[int] = None,\n",
    "#     temperature: Optional[float] = None,\n",
    "#     top_k: Optional[int] = None,\n",
    "#     top_p: Optional[float] = None,\n",
    "#     repetition_penalty: Optional[float] = None,\n",
    "#     bad_words_ids: Optional[Iterable[int]] = None,\n",
    "#     bos_token_id: Optional[int] = None,\n",
    "#     pad_token_id: Optional[int] = None,\n",
    "#     eos_token_id: Optional[int] = None,\n",
    "#     length_penalty: Optional[float] = None,\n",
    "#     no_repeat_ngram_size: Optional[int] = None,\n",
    "#     encoder_no_repeat_ngram_size: Optional[int] = None,\n",
    "#     num_return_sequences: Optional[int] = None,\n",
    "#     max_time: Optional[float] = None,\n",
    "#     decoder_start_token_id: Optional[int] = None,\n",
    "#     use_cache: Optional[bool] = None,\n",
    "#     num_beam_groups: Optional[int] = None,\n",
    "#     diversity_penalty: Optional[float] = None,\n",
    "#     prefix_allowed_tokens_fn: Optional[Callable[[int, torch.Tensor], List[int]]] = None,\n",
    "#     output_attentions: Optional[bool] = None,\n",
    "#     output_hidden_states: Optional[bool] = None,\n",
    "#     output_scores: Optional[bool] = None,\n",
    "#     return_dict_in_generate: Optional[bool] = None,\n",
    "#     forced_bos_token_id: Optional[int] = None,\n",
    "#     forced_eos_token_id: Optional[int] = None,\n",
    "#     remove_invalid_values: Optional[bool] = None,\n",
    "#     **model_kwargs):\n",
    "#     # set init values\n",
    "#     num_beams = num_beams if num_beams is not None else self.config.num_beams\n",
    "#     num_beam_groups = num_beam_groups if num_beam_groups is not None else self.config.num_beam_groups\n",
    "#     max_length = max_length if max_length is not None else self.config.max_length\n",
    "#     do_sample = do_sample if do_sample is not None else self.config.do_sample\n",
    "#     num_return_sequences = (\n",
    "#         num_return_sequences if num_return_sequences is not None else self.config.num_return_sequences\n",
    "#     )\n",
    "\n",
    "#     pad_token_id = pad_token_id if pad_token_id is not None else self.config.pad_token_id\n",
    "#     bos_token_id = bos_token_id if bos_token_id is not None else self.config.bos_token_id\n",
    "#     eos_token_id = eos_token_id if eos_token_id is not None else self.config.eos_token_id\n",
    "\n",
    "#     output_scores = output_scores if output_scores is not None else self.config.output_scores\n",
    "#     output_attentions = output_attentions if output_attentions is not None else self.config.output_attentions\n",
    "#     output_hidden_states = (\n",
    "#         output_hidden_states if output_hidden_states is not None else self.config.output_hidden_states\n",
    "#     )\n",
    "#     return_dict_in_generate = (\n",
    "#         return_dict_in_generate if return_dict_in_generate is not None else self.config.return_dict_in_generate\n",
    "#     )\n",
    "\n",
    "#     model_kwargs[\"output_attentions\"] = output_attentions\n",
    "#     model_kwargs[\"output_hidden_states\"] = output_hidden_states\n",
    "\n",
    "#     if input_ids is None:\n",
    "#         # init `input_ids` with bos_token_id\n",
    "#         input_ids = self._prepare_input_ids_for_generation(bos_token_id, model_kwargs.get(\"encoder_outputs\"))\n",
    "\n",
    "#     if model_kwargs.get(\"attention_mask\", None) is None:\n",
    "#         # init `attention_mask` depending on `pad_token_id`\n",
    "#         model_kwargs[\"attention_mask\"] = self._prepare_attention_mask_for_generation(\n",
    "#             input_ids, pad_token_id, eos_token_id\n",
    "#         )\n",
    "\n",
    "#     # special case if pad_token_id is not defined\n",
    "#     if pad_token_id is None and eos_token_id is not None:\n",
    "#         logger.warning(f\"Setting `pad_token_id` to `eos_token_id`:{eos_token_id} for open-end generation.\")\n",
    "#         pad_token_id = eos_token_id\n",
    "\n",
    "#     # Storing encoder_input_ids for logits_processor that could use them\n",
    "#     encoder_input_ids = input_ids if self.config.is_encoder_decoder else None\n",
    "\n",
    "#     if self.config.is_encoder_decoder:\n",
    "#         # add encoder_outputs to model_kwargs\n",
    "#         model_kwargs = self._prepare_encoder_decoder_kwargs_for_generation(input_ids, model_kwargs)\n",
    "\n",
    "#         # set input_ids as decoder_input_ids\n",
    "#         if \"decoder_input_ids\" in model_kwargs:\n",
    "#             input_ids = model_kwargs.pop(\"decoder_input_ids\")\n",
    "#         else:\n",
    "#             input_ids = self._prepare_decoder_input_ids_for_generation(\n",
    "#                 input_ids, decoder_start_token_id=decoder_start_token_id, bos_token_id=bos_token_id\n",
    "#             )\n",
    "\n",
    "# #         if \"encoder_outputs\" not in model_kwargs or not isinstance(model_kwargs[\"encoder_outputs\"], ModelOutput):\n",
    "# #             raise ValueError(\"Make sure that `model_kwargs` include `encoder_outputs` of type `ModelOutput`.\")\n",
    "#     if input_ids.shape[-1] >= max_length:\n",
    "#         input_ids_string = \"decoder_input_ids\" if self.config.is_encoder_decoder else \"input_ids\"\n",
    "#         logger.warning(\n",
    "#             f\"Input length of {input_ids_string} is {input_ids.shape[-1]}, but ``max_length`` is set to {max_length}.\"\n",
    "#             \"This can lead to unexpected behavior. You should consider increasing ``config.max_length`` or ``max_length``.\"\n",
    "#         )\n",
    "\n",
    "#     # determine generation mode\n",
    "#     is_greedy_gen_mode = (num_beams == 1) and (num_beam_groups == 1) and do_sample is False\n",
    "#     is_sample_gen_mode = (num_beams == 1) and (num_beam_groups == 1) and do_sample is True\n",
    "#     is_beam_gen_mode = (num_beams > 1) and (num_beam_groups == 1) and do_sample is False\n",
    "#     is_beam_sample_gen_mode = (num_beams > 1) and (num_beam_groups == 1) and do_sample is True\n",
    "#     is_group_beam_gen_mode = (num_beams > 1) and (num_beam_groups > 1)\n",
    "#     if num_beam_groups > num_beams:\n",
    "#         raise ValueError(\"`num_beam_groups` has to be smaller or equal to `num_beams`\")\n",
    "#     if is_group_beam_gen_mode and do_sample is True:\n",
    "#         raise ValueError(\n",
    "#             \"Diverse beam search cannot be used in sampling mode. Make sure that `do_sample` is set to `False`.\"\n",
    "#         )\n",
    "\n",
    "#     # set model_kwargs\n",
    "#     model_kwargs[\"use_cache\"] = use_cache\n",
    "\n",
    "#     # get distribution pre_processing samplers\n",
    "#     logits_processor = self._get_logits_processor(\n",
    "#         repetition_penalty=repetition_penalty,\n",
    "#         no_repeat_ngram_size=no_repeat_ngram_size,\n",
    "#         encoder_no_repeat_ngram_size=encoder_no_repeat_ngram_size,\n",
    "#         encoder_input_ids=encoder_input_ids,\n",
    "#         bad_words_ids=bad_words_ids,\n",
    "#         min_length=min_length,\n",
    "#         max_length=max_length,\n",
    "#         eos_token_id=eos_token_id,\n",
    "#         forced_bos_token_id=forced_bos_token_id,\n",
    "#         forced_eos_token_id=forced_eos_token_id,\n",
    "#         prefix_allowed_tokens_fn=prefix_allowed_tokens_fn,\n",
    "#         num_beams=num_beams,\n",
    "#         num_beam_groups=num_beam_groups,\n",
    "#         diversity_penalty=diversity_penalty,\n",
    "#         remove_invalid_values=remove_invalid_values,\n",
    "#     )\n",
    "\n",
    "#     stopping_criteria = self._get_stopping_criteria(\n",
    "#         max_length=max_length,\n",
    "#         max_time=max_time,\n",
    "#     )\n",
    "\n",
    "#     if is_greedy_gen_mode:\n",
    "#         if num_return_sequences > 1:\n",
    "#             raise ValueError(\n",
    "#                 f\"num_return_sequences has to be 1, but is {num_return_sequences} when doing greedy search.\"\n",
    "#             )\n",
    "\n",
    "#         # greedy search\n",
    "#         return self.greedy_search(\n",
    "#             input_ids,\n",
    "#             logits_processor=logits_processor,\n",
    "#             stopping_criteria=stopping_criteria,\n",
    "#             max_length=max_length,\n",
    "#             pad_token_id=pad_token_id,\n",
    "#             eos_token_id=eos_token_id,\n",
    "#             output_scores=output_scores,\n",
    "#             return_dict_in_generate=return_dict_in_generate,\n",
    "#             **model_kwargs,\n",
    "#         )\n",
    "\n",
    "#     elif is_sample_gen_mode:\n",
    "#         # get probability distribution warper\n",
    "#         logits_warper = self._get_logits_warper(\n",
    "#             top_k=top_k, top_p=top_p, temperature=temperature, num_beams=num_beams\n",
    "#         )\n",
    "\n",
    "#         # expand input_ids with `num_return_sequences` additional sequences per batch\n",
    "#         input_ids, model_kwargs = self._expand_inputs_for_generation(\n",
    "#             input_ids,\n",
    "#             expand_size=num_return_sequences,\n",
    "#             is_encoder_decoder=self.config.is_encoder_decoder,\n",
    "#             **model_kwargs,\n",
    "#         )\n",
    "\n",
    "#         # sample\n",
    "#         return self.sample(\n",
    "#             input_ids,\n",
    "#             logits_processor=logits_processor,\n",
    "#             logits_warper=logits_warper,\n",
    "#             stopping_criteria=stopping_criteria,\n",
    "#             max_length=max_length,\n",
    "#             pad_token_id=pad_token_id,\n",
    "#             eos_token_id=eos_token_id,\n",
    "#             output_scores=output_scores,\n",
    "#             return_dict_in_generate=return_dict_in_generate,\n",
    "#             **model_kwargs,\n",
    "#         )\n",
    "\n",
    "#     elif is_beam_gen_mode:\n",
    "#         batch_size = input_ids.shape[0]\n",
    "\n",
    "#         length_penalty = length_penalty if length_penalty is not None else self.config.length_penalty\n",
    "#         early_stopping = early_stopping if early_stopping is not None else self.config.early_stopping\n",
    "\n",
    "#         if num_return_sequences > num_beams:\n",
    "#             raise ValueError(\"`num_return_sequences` has to be smaller or equal to `num_beams`.\")\n",
    "\n",
    "#         beam_scorer = BeamSearchScorer(\n",
    "#             batch_size=batch_size,\n",
    "#             max_length=max_length,\n",
    "#             num_beams=num_beams,\n",
    "#             device=self.device,\n",
    "#             length_penalty=length_penalty,\n",
    "#             do_early_stopping=early_stopping,\n",
    "#             num_beam_hyps_to_keep=num_return_sequences,\n",
    "#         )\n",
    "#         # interleave with `num_beams`\n",
    "#         input_ids, model_kwargs = self._expand_inputs_for_generation(\n",
    "#             input_ids, expand_size=num_beams, is_encoder_decoder=self.config.is_encoder_decoder, **model_kwargs\n",
    "#         )\n",
    "#         #with torchsnooper.snoop(depth=4, max_variable_length=200, normalize=True):\n",
    "#         return self.beam_search(\n",
    "#             input_ids,\n",
    "#             beam_scorer,\n",
    "#             logits_processor=logits_processor,\n",
    "#             stopping_criteria=stopping_criteria,\n",
    "#             max_length=max_length,\n",
    "#             pad_token_id=pad_token_id,\n",
    "#             eos_token_id=eos_token_id,\n",
    "#             output_scores=output_scores,\n",
    "#             return_dict_in_generate=return_dict_in_generate,\n",
    "#             **model_kwargs,\n",
    "#         )\n",
    "\n",
    "#     elif is_beam_sample_gen_mode:\n",
    "#         logits_warper = self._get_logits_warper(\n",
    "#             top_k=top_k, top_p=top_p, temperature=temperature, num_beams=num_beams\n",
    "#         )\n",
    "\n",
    "#         batch_size = input_ids.shape[0] * num_return_sequences\n",
    "\n",
    "#         length_penalty = length_penalty if length_penalty is not None else self.config.length_penalty\n",
    "#         beam_scorer = BeamSearchScorer(\n",
    "#             batch_size=batch_size,\n",
    "#             max_length=max_length,\n",
    "#             num_beams=num_beams,\n",
    "#             device=self.device,\n",
    "#             length_penalty=length_penalty,\n",
    "#             do_early_stopping=early_stopping,\n",
    "#         )\n",
    "\n",
    "#         # interleave with `num_beams * num_return_sequences`\n",
    "#         input_ids, model_kwargs = self._expand_inputs_for_generation(\n",
    "#             input_ids,\n",
    "#             expand_size=num_beams * num_return_sequences,\n",
    "#             is_encoder_decoder=self.config.is_encoder_decoder,\n",
    "#             **model_kwargs,\n",
    "#         )\n",
    "\n",
    "#         return self.beam_sample(\n",
    "#             input_ids,\n",
    "#             beam_scorer,\n",
    "#             logits_processor=logits_processor,\n",
    "#             logits_warper=logits_warper,\n",
    "#             stopping_criteria=stopping_criteria,\n",
    "#             max_length=max_length,\n",
    "#             pad_token_id=pad_token_id,\n",
    "#             eos_token_id=eos_token_id,\n",
    "#             output_scores=output_scores,\n",
    "#             return_dict_in_generate=return_dict_in_generate,\n",
    "#             **model_kwargs,\n",
    "#         )\n",
    "\n",
    "#     elif is_group_beam_gen_mode:\n",
    "#         batch_size = input_ids.shape[0]\n",
    "\n",
    "#         length_penalty = length_penalty if length_penalty is not None else self.config.length_penalty\n",
    "#         early_stopping = early_stopping if early_stopping is not None else self.config.early_stopping\n",
    "\n",
    "#         if num_return_sequences > num_beams:\n",
    "#             raise ValueError(\"`num_return_sequences` has to be smaller or equal to `num_beams`.\")\n",
    "\n",
    "#         if num_beams % num_beam_groups != 0:\n",
    "#             raise ValueError(\"`num_beams` should be divisible by `num_beam_groups` for group beam search.\")\n",
    "\n",
    "#         diverse_beam_scorer = BeamSearchScorer(\n",
    "#             batch_size=batch_size,\n",
    "#             max_length=max_length,\n",
    "#             num_beams=num_beams,\n",
    "#             device=self.device,\n",
    "#             length_penalty=length_penalty,\n",
    "#             do_early_stopping=early_stopping,\n",
    "#             num_beam_hyps_to_keep=num_return_sequences,\n",
    "#             num_beam_groups=num_beam_groups,\n",
    "#         )\n",
    "#         # interleave with `num_beams`\n",
    "#         input_ids, model_kwargs = self._expand_inputs_for_generation(\n",
    "#             input_ids, expand_size=num_beams, is_encoder_decoder=self.config.is_encoder_decoder, **model_kwargs\n",
    "#         )\n",
    "#         return self.group_beam_search(\n",
    "#             input_ids,\n",
    "#             diverse_beam_scorer,\n",
    "#             logits_processor=logits_processor,\n",
    "#             stopping_criteria=stopping_criteria,\n",
    "#             max_length=max_length,\n",
    "#             pad_token_id=pad_token_id,\n",
    "#             eos_token_id=eos_token_id,\n",
    "#             output_scores=output_scores,\n",
    "#             return_dict_in_generate=return_dict_in_generate,\n",
    "#             **model_kwargs,\n",
    "#         )\n"
   ]
  },
  {
   "cell_type": "markdown",
   "metadata": {},
   "source": [
    "### Old eval/wandb functions "
   ]
  },
  {
   "cell_type": "code",
   "execution_count": 28,
   "metadata": {},
   "outputs": [],
   "source": [
    "# def print_eval_metrics(preds, split):\n",
    "#     ### Might be obselete ###\n",
    "#     print(f\"{split} paraphrases:\", preds['pp_l'])\n",
    "#     print(f\"{split} VM scores:\",    np.round(preds['vm_score'],3))\n",
    "#     print(f\"{split} ROUGE scores:\", np.round(preds['rouge_score'],3))\n",
    "#     if normalise_rewards: print(f\"{split} unnormalised rewards:\", preds['orig_reward'])\n",
    "#     print(f\"{split} rewards:\", round_t(preds['reward'], 3))\n",
    "#     print(f\"{split} avg reward:\", torch.mean(preds['reward']).item())\n",
    "#     print(f\"{split} logp:\", round_t(preds['pp_logp'], 3))\n",
    "#     print(f\"{split} avg logp:\", torch.mean(preds['pp_logp']).item())\n",
    "#     print(f\"{split} loss:\", train_set_preds['loss'].item())"
   ]
  },
  {
   "cell_type": "code",
   "execution_count": 29,
   "metadata": {},
   "outputs": [],
   "source": [
    "# def log_wandb_metrics(results_d, split): \n",
    "#     \"\"\"flattens lists of metrics to wandb acceptable form. obselete now but might be useful later\"\"\"\n",
    "#     #### MIGHT BE OBSELETE #####\n",
    "#     # Log numeric data \n",
    "#     # Convert all lists of values to wandb format. Scalars are unchanged\n",
    "#     d = dict()\n",
    "#     orig_keys = results_d.keys()\n",
    "#     for k,v in results_d.items(): \n",
    "#         if type(v) is list: \n",
    "#             if type(v[0]) == int or type(v[0]) == float:  # we handle strings differently\n",
    "#                 d1 = {f\"eval/{split}/examples/{k}/{i}\": o for i,o in enumerate(v)}  # list -> dict of len(v) scalars\n",
    "#                 d = {**d, **d1}  # merge dicts\n",
    "#         else: \n",
    "#             d[f\"{split}/{k}\"] = v\n",
    "#     d['epoch'] = epoch\n",
    "#     wandb.log(d) "
   ]
  },
  {
   "cell_type": "code",
   "execution_count": 30,
   "metadata": {
    "code_folding": [
     0
    ]
   },
   "outputs": [],
   "source": [
    "### An attempt to rename wandb columns of a table. This seemed to break something internally inside the table.\n",
    "#\n",
    "#     def rename_wandb_column(table, old, new): \n",
    "#         if old not in table.columns: \n",
    "#             warnings.warn(f\"{old} not in columns of table. Skipping. Columns of table are {table.columns}\")\n",
    "#         else: \n",
    "#             idx = [i for i,o in enumerate(table.columns) if o == old][0]\n",
    "#             table.columns[idx] = new\n",
    "        \n",
    "    # Can't just originally name these 'orig' and 'pp' because they don't match key names used in `eval_dl`\n",
    "    # NOTE: this seems to break the internals of wandb. might have to just live with the names. \n",
    "#     rename_wandb_column(train_table, old='orig_l', new='orig')\n",
    "#     rename_wandb_column(train_table, old='pp_l',   new='pp')\n",
    "#     rename_wandb_column(valid_table,  old='orig_l', new='orig')\n",
    "#     rename_wandb_column(valid_table,  old='pp_l',   new='pp')"
   ]
  }
 ],
 "metadata": {
  "kernelspec": {
   "display_name": "Python 3",
   "language": "python",
   "name": "python3"
  },
  "language_info": {
   "codemirror_mode": {
    "name": "ipython",
    "version": 3
   },
   "file_extension": ".py",
   "mimetype": "text/x-python",
   "name": "python",
   "nbconvert_exporter": "python",
   "pygments_lexer": "ipython3",
   "version": "3.8.5"
  },
  "toc": {
   "base_numbering": 1,
   "nav_menu": {},
   "number_sections": true,
   "sideBar": true,
   "skip_h1_title": false,
   "title_cell": "Table of Contents",
   "title_sidebar": "Contents",
   "toc_cell": false,
   "toc_position": {},
   "toc_section_display": true,
   "toc_window_display": false
  }
 },
 "nbformat": 4,
 "nbformat_minor": 4
}
