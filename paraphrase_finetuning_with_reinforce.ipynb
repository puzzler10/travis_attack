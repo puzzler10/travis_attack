{
 "cells": [
  {
   "cell_type": "markdown",
   "metadata": {
    "heading_collapsed": true
   },
   "source": [
    "## Introduction "
   ]
  },
  {
   "cell_type": "markdown",
   "metadata": {
    "hidden": true
   },
   "source": [
    "Here we are trying to adjust parameters of a paraphrase model to generate adversarial examples. \n",
    "### Policy gradients \n",
    "The key parameter update equation is $\\theta_{t+1} = \\theta_t + \\alpha \\nabla_\\theta J(\\theta)$, where $\\alpha$ is a step size parameter, the parameter vector $\\theta$ is for a model (here a paraphrase model), and $J$ is a loss function. The time step $t$ depends on the problem specification and we will get to it later. \n",
    "\n",
    "Now in my review I have defined the loss function $J(\\theta) = E_\\pi[r(\\tau)]$. Here: \n",
    "* $\\pi$ is the policy, a probability distribution for the next action in a given state; essentially $p(a_t|s_t)$\n",
    "* $\\tau$ is a trajectory, a specific sequence $s_0, a_0, r_1, s_1, a_1, \\ldots$ of the agent in the game. This starts at time $t=0$ and finishes at time $t=T$. \n",
    "* $r(\\tau)$ is the sum of rewards for a trajectory $\\tau$, or in other words, the total reward for the trajectory. \n",
    "\n",
    "For this loss function higher values are better (which might make it a reward function) and so we might have to invert it at some point. \n",
    "\n",
    "To update parameters we must find the gradient $\\nabla_\\theta J(\\theta)$, which measures how $J(\\theta)$ changes when we adjust the parameters of the paraphrase model. The gradient is simplified through some maths to get the policy gradient theorem $$ \\nabla_\\theta J(\\theta) =  \\nabla_\\theta E_\\pi [r(\\tau)]  = E_\\pi \\left[r(\\tau) \\sum_{t=1}^T \\nabla_\\theta \\log \\pi (a_t|s_t)  \\right] $$ \n",
    "\n",
    "To calculate this you need to calculate the expectation term, which in turn means evaluating every possible trajectory $\\tau$ and its expected return. Generally this is not possible and instead we turn to estimators.  \n",
    "\n",
    "One of these is REINFORCE. It gives us  $$ \\nabla_\\theta J(\\theta) \\approx \\sum_{s=1}^S \\sum_{t=1}^T G_t \\nabla \\log \\pi(a_t|s_t)$$ where \n",
    "* $G_t$ is the discounted return and is given by $G_t = r_t + \\beta r_{t-1} + \\beta^2 r_{t-2} + \\dots$. It's a rough estimate of $r(\\tau)$. Rewards obtained later in the episode are weighted much higher than rewards obtained earlier. I guess it assumes that the parameters update every timestep. \n",
    "* $S$ is some number of samples.\n",
    "\n",
    "The implementation of REINFORCE and similar estimators depends on how we formulate the problem. Below we present some possible formulations"
   ]
  },
  {
   "cell_type": "markdown",
   "metadata": {
    "hidden": true
   },
   "source": [
    "### Interpretation One: Document-level  \n",
    "This is the first implementation we will try. \n",
    "\n",
    "Here we generate a list of paraphrases at each time point. The idea is that there is one paraphrase amongst them that is a good adversarial example. We try to tune the model to produce the best one. \n",
    "\n",
    "This interpretation sees forming the complete paraphrase as one time step. So it isn't token-level but document-level. \n",
    "\n",
    "* Starting state: $s0 = x$, the original example  \n",
    "* Actions: each action is \"choosing\" a paraphrase (or of choosing $n$ paraphrases). The set of all possible paraphrases and their probabilities is the policy. So $\\pi(a|s) = p(x'| x;\\theta)$ where $x'$ is the paraphrase (or list of paraphrases). \n",
    "    * To approximate this probability, what we can do is generate a large list of paraphrases, and for each, the probabilities of generating each token in turn for that paraphrase. This gives a rough \"probability\" of how likely that sequence was. This number is kind of like a weight for how good that paraphrase is, according to the model.  We can then turn the weights into probabilities to get a \"probability\" of the paraphrase. This is dependent on the number of paraphrases generated, so generating a large list is likely to be better for this task. \n",
    "* Reward: The paraphrase moves through the reward function $R(x, x')$) to get the reward $r$. \n",
    "* Time steps: We only have one time step in the game ($T=1$ and $G_t=r$)  \n"
   ]
  },
  {
   "cell_type": "markdown",
   "metadata": {
    "hidden": true
   },
   "source": [
    "There are a few variations to this scenario that we can do. For each of these we will formulate the policy and the reward function $R$. Below, $x'$ means paraphrase, $f(x)_y$ means the model confidence of x for the class of the true label $y$, $SS(a,b)$ is the result of a semantic similarity model run over $a$ and $b$, and $\\lambda$ is a hyperparameter.  \n",
    "\n",
    "\n",
    "#### One-paraphrase \n",
    "Here we only generate one paraphrase. This scenario also has a few options. First we generate a list of paraphrases with the probabilities of selecting one. Then we either sample probabilistically from the list or pick the most probable option. \n",
    "\n",
    "In this case the policy $p(x'|x,\\theta)$ is the chance of obtaining a specific paraphrase. For the sampling option this is equal to its sample probability. For the top option this is just the probability of selecting that option. \n",
    "\n",
    "The reward function might look like $R(x,x') = f(x)_y - f(x')_y + \\lambda SS(x, x')$. We could also make the $SS$ factor a step-function above some threshold. \n",
    "\n",
    "The REINFORCE equation $$ \\nabla_\\theta J(\\theta) \\approx \\sum_{s=1}^S \\sum_{t=1}^T G_t \\nabla \\log \\pi(a_t|s_t)$$ becomes $$ \\nabla_\\theta J(\\theta) \\approx \\sum_{s=1}^S  R(x,x'_s) \\nabla \\log p(x'_s|x,\\theta)$$ We repeat the process $S$ times where $S$ is ideally as large as possible. We can start with something simple (e.g. $S=10$ or $S=100$) and go from there.  \n",
    "\n",
    "The gradient term $\\nabla \\log p(x'_s|x,\\theta)$ can hopefully be found with autodiff. \n",
    "\n",
    "#### Set of paraphrases\n",
    "In this scenario the paraphrase model is evaluated on performance over a set of paraphrases, which we call $X'$ here. The policy becomes $p(X'|x, \\theta)$, the probability of obtaining that list. We can get this probability by multipling together the \"probability\" of each individual paraphrase, multiplying also by nCr (for r paraphrases out of n total) to account for the lack of order in the list. \n",
    "\n",
    "We can make a number of sub-scenarios here. \n",
    "\n",
    "For the **top-paraphrase in set** condition the paraphrase generator is only measured on the best reward for a paraphrase in its set. The idea is the generator will learn to produce a diverse set of examples, any of which could plausibly be a good adversarial example. Here we only look at best performing paraphrase $x'_m$, which we can find by $x'_m = \\max_i [f(x)_y - f(x'_i)_y]$, then return $R(x,x'_m) = [f(x)_y - f(x'_m)_y] + \\lambda SS(x,x'_m)$ \n",
    "\n",
    "For the **average-paraphrase in set** condition the paraphrase generator is measured on the average reward of the paraphrases in its set. This encourages the generator to consider performance of all examples more-or-less equally. The reward function could be something like $\\frac{1}{k} \\sum_{i=1}^k \\left[ f(x)_y - f(x'_i)_y + \\lambda SS(x, x'_i) \\right]$ \n",
    "\n",
    "A combination of these scenarios is the **top-k/top-p\\% paraphrases in set**. Here we only use the top-$k$ paraphrases, or more generally, the top $p$ percentage of paraphrases. \n"
   ]
  },
  {
   "cell_type": "markdown",
   "metadata": {
    "hidden": true
   },
   "source": [
    "### Interpretation 2: Token-level\n",
    "This interpretation is at token-level; it sees choosing the next word as the next time step. \n",
    "\n",
    "* Starting state: $s0 = x$, the initial state. But you also have a \"blank slate\" for the paraphrase. So maybe it's a tuple (x, pp) where pp is a paraphrase with no words. Here x is used as the reference for the paraphrase generator.  \n",
    "* Actions: Choose the next word of p. I guess this starts with the \\<START\\> token (or something similar). Then you have the policy $\\pi(a|s)$ which is the same as $p(w_{next}|pp, x; \\theta)$ where $\\theta$ is the paraphrase model parameters, $pp$ is the so-far constructed sentence, and $w_{next}$ is the next token (I say token because I don't know if this model is on the subword or word basis). \n",
    "* Time steps: every token is generated one-by-one and each of these is allocated a time step. This means probably that you also update the parameters after each token generated too. \n",
    "* Reward. The reward is allocated every token. There are many reward functions (see papers on token-level loss functions). Some also incorporate document-level rewards too. \n",
    "* Next state. $s_1$ is again the tuple $(x, pp)$ but now $pp$ has the first word in it. \n",
    "\n",
    "On *teacher forcing*. This is when you have a ground-truth paraphrase and you can use it when generating tokens. This is useful because if the model makes a mistake it doesn't continue down that track but is adjusted back. This stops big divergences (but also might limit the diversity of generated paraphrases). This is used when training a paraphrase model. You have a set of reference paraphrases that are human provided. Here though we only have the original sentence and no references. We could generate adversarial examples and use that to do teacher forcing. Generating them using textattack recipes might work. This is only really used on the token-level rewards. "
   ]
  },
  {
   "cell_type": "markdown",
   "metadata": {
    "hidden": true
   },
   "source": [
    "### Updating the paraphrase model parameters. "
   ]
  },
  {
   "cell_type": "markdown",
   "metadata": {
    "hidden": true
   },
   "source": [
    "There is a choice here. We can either directly update the parameters of the paraphrase model. Or we can fix the parameters and add a new dense layer to the end of the model. We could then train this dense layer to convert paraphrases to adversarial paraphrases. \n",
    "\n",
    "Before trying this out, I am worried that we will destroy the capabilities of the paraphrase generator a bit. We might get semantically invalid or ungrammatical or gibberish text. If so we could try and mitigate it a bit by shaping our reward function to maintain grammatical components. "
   ]
  },
  {
   "cell_type": "markdown",
   "metadata": {
    "hidden": true
   },
   "source": [
    "### Experiment order"
   ]
  },
  {
   "cell_type": "markdown",
   "metadata": {
    "hidden": true
   },
   "source": [
    "Plan is to try the following order: \n",
    "\n",
    "1. One-paraphrase (most probable option). I'll start with this one because it is probably the most simple case. Within this category: \n",
    "    1a. tune existing parameters only (see if the text is recognisable) \n",
    "    1b. add dense layer onto end and try again \n",
    "2. One-paraphrase (sampled). This seems like a logical extension on the first one. \n",
    "3. Paraphrase-set options. (Decide after finishing 1, 2) \n",
    "4. Token-level tuning. (Decide after 1,2,3)\n"
   ]
  },
  {
   "cell_type": "markdown",
   "metadata": {
    "hidden": true
   },
   "source": [
    "### Layer Freezing"
   ]
  },
  {
   "cell_type": "markdown",
   "metadata": {
    "hidden": true
   },
   "source": [
    "I am uncertain on if to do this or not. \n",
    "\n",
    "* This [paper](https://arxiv.org/abs/1911.03090) indicates that you can get pretty good results by freezing all layers except the last few \n",
    "* Conversely I saw in the transformers documentation that transformers train better if you don't do layer freezing \n"
   ]
  },
  {
   "cell_type": "markdown",
   "metadata": {},
   "source": [
    "## Setup, load models + datasets "
   ]
  },
  {
   "cell_type": "code",
   "execution_count": 1,
   "metadata": {},
   "outputs": [],
   "source": [
    "%load_ext autoreload\n",
    "%autoreload 2"
   ]
  },
  {
   "cell_type": "code",
   "execution_count": 2,
   "metadata": {},
   "outputs": [],
   "source": [
    "# Core imports \n",
    "import torch, numpy as np, pandas as pd, os, gc, logging\n",
    "from torch.utils.data import DataLoader\n",
    "from datasets import load_dataset, load_metric, load_from_disk\n",
    "from transformers import (AutoModelForSeq2SeqLM, AutoModelForSequenceClassification, \n",
    "                          AutoTokenizer, AdamW, SchedulerType, get_scheduler)\n",
    "from collections import defaultdict\n",
    "from types import MethodType\n",
    "import utils; from utils import *   # local script \n",
    "from tqdm.auto import tqdm\n",
    "\n",
    "# Dev imports (not needed for final script)\n",
    "import seaborn as sns\n",
    "from IPython.display import Markdown\n",
    "from pprint import pprint\n",
    "from IPython.core.debugger import set_trace\n",
    "from GPUtil import showUtilization\n",
    "import torchsnooper\n",
    "\n",
    "# Paths\n",
    "path_cache = './cache/'\n",
    "path_results = \"./results/\"\n",
    "\n",
    "# Seeds\n",
    "seed = 420\n",
    "torch.manual_seed(seed)\n",
    "np.random.seed(seed)\n",
    "torch.cuda.manual_seed(seed)\n",
    "\n",
    "# Devices and GPU settings\n",
    "device = torch.device('cuda' if torch.cuda.is_available() else 'cpu') \n",
    "devicenum = torch.cuda.current_device() if device.type == 'cuda' else -1\n",
    "n_wkrs = 4 * torch.cuda.device_count()\n",
    "batch_size_dl = 64\n",
    "\n",
    "# Config\n",
    "pd.set_option(\"display.max_colwidth\", 400)\n",
    "\n",
    "# Logging \n",
    "logging.basicConfig(format='%(message)s')\n",
    "logger = logging.getLogger(\"main_logger\")\n",
    "logger.setLevel(logging.INFO)"
   ]
  },
  {
   "cell_type": "markdown",
   "metadata": {},
   "source": [
    "### Load models"
   ]
  },
  {
   "cell_type": "code",
   "execution_count": 3,
   "metadata": {},
   "outputs": [],
   "source": [
    "## Paraphrase (pp) model \n",
    "pp_name = \"tuner007/pegasus_paraphrase\"\n",
    "pp_tokenizer = AutoTokenizer.from_pretrained(pp_name)\n",
    "# takes about 3GB memory space up on the GPU\n",
    "pp_model = AutoModelForSeq2SeqLM.from_pretrained(pp_name).to(device)\n",
    "# If need a no_grad version of generate:\n",
    "pp_model.generate_with_grad = MethodType(utils.generate_with_grad, pp_model)\n",
    "\n",
    "## Victim Model (VM)\n",
    "vm_name = \"textattack/distilbert-base-uncased-rotten-tomatoes\"\n",
    "vm_tokenizer = AutoTokenizer.from_pretrained(vm_name)\n",
    "vm_model = AutoModelForSequenceClassification.from_pretrained(vm_name).to(device)\n",
    "vm_idx2lbl = vm_model.config.id2label\n",
    "vm_lbl2idx = vm_model.config.label2id\n",
    "vm_num_labels = vm_model.num_labels"
   ]
  },
  {
   "cell_type": "markdown",
   "metadata": {},
   "source": [
    "### Load raw datasets and create dataloaders"
   ]
  },
  {
   "cell_type": "code",
   "execution_count": 4,
   "metadata": {},
   "outputs": [
    {
     "name": "stderr",
     "output_type": "stream",
     "text": [
      "Using custom data configuration default\n",
      "Reusing dataset rotten_tomatoes_movie_review (/data/tproth/.cache/huggingface/datasets/rotten_tomatoes_movie_review/default/1.0.0/9c411f7ecd9f3045389de0d9ce984061a1056507703d2e3183b1ac1a90816e4d)\n"
     ]
    }
   ],
   "source": [
    "dataset = load_dataset(\"rotten_tomatoes\")\n",
    "train,valid,test = dataset['train'],dataset['validation'],dataset['test']\n",
    "label_cname = 'label'\n",
    "## For snli\n",
    "# remove_minus1_labels = lambda x: x[label_cname] != -1\n",
    "# train = train.filter(remove_minus1_labels)\n",
    "# valid = valid.filter(remove_minus1_labels)\n",
    "# test = test.filter(remove_minus1_labels)\n",
    "\n",
    "# make sure that all datasets have the same number of labels as what the victim model predicts\n",
    "assert train.features[label_cname].num_classes == vm_num_labels\n",
    "assert valid.features[label_cname].num_classes == vm_num_labels\n",
    "assert test.features[ label_cname].num_classes == vm_num_labels\n",
    "\n",
    "train_dl = DataLoader(train, batch_size=batch_size_dl, shuffle=True, num_workers=n_wkrs)\n",
    "valid_dl = DataLoader(valid, batch_size=batch_size_dl, shuffle=True, num_workers=n_wkrs)\n",
    "test_dl = DataLoader( test,  batch_size=batch_size_dl, shuffle=True, num_workers=n_wkrs)"
   ]
  },
  {
   "cell_type": "markdown",
   "metadata": {},
   "source": [
    "## Training"
   ]
  },
  {
   "cell_type": "markdown",
   "metadata": {},
   "source": [
    "Training loop pseudocode\n",
    "\n",
    "The REINFORCE estimator is $$ \\nabla_\\theta J(\\theta) \\approx \\sum_{s=1}^S  R(x,x'_s) \\nabla \\log p(x'_s|x,\\theta)$$\n",
    "\n",
    "**Non-batched version (one example), stochastic gradient descent**  \n",
    "Inputs: train, n_pp=1, vm, ppm, $\\alpha = 5e^{-5}$ (saw this rate for $\\alpha$ somewhere  \n",
    "Set eval_mode=true for vm, eval_mode = false for ppm  \n",
    "Freeze all layers of ppm except last 6  \n",
    "Shuffle traning dataset  \n",
    "\n",
    "Loop: take one row $x$ from train\n",
    "* tokenize\n",
    "* do greedy search to get paraphrase pp\n",
    "* get reward using `reward_fn_onepp(x, pp)`. $r=R(x,x'_s) = f(x)_y - f(x'_s)_y + \\lambda SS(x, x'_s)$ \n",
    "* update model parameters \n",
    "\n",
    "\n",
    "* generate large UNIVERSE list of paraphrases `pp_l` (e.g. 128) from 'text' column using ppm\n",
    "* extract sequence scores from this list to get a vector of probabilities `pp_probs`\n",
    "* take `log` of `pp_probs` and store in `pp_logprobs`\n",
    "* pick S paraphrases from `pp_l` to get `pp_s`. \n",
    "* Take the corresponding entries from `pp_logprobs`. Get gradient of each entry by looking at .grad attribute. Sum them up and store in a variable `gradsum` \n",
    "* for each `pp` (i.e. $x'_s$) in `pp_s`:\n",
    "    * \n",
    "* Sum up these rewards to get `rewardsum` and add to `gradsum` to get `nablaJ`\n",
    "* Update parameters of paraphrase model with $\\theta_{t+1} = \\theta_t + \\alpha \\nabla_\\theta J(\\theta)$"
   ]
  },
  {
   "cell_type": "markdown",
   "metadata": {},
   "source": [
    "$$ J(\\theta) \\approx \\sum_{s=1}^S  R(x,x'_s) \\log p(x'_s|x,\\theta)$$"
   ]
  },
  {
   "cell_type": "markdown",
   "metadata": {},
   "source": [
    "#### Define functions "
   ]
  },
  {
   "cell_type": "code",
   "execution_count": 5,
   "metadata": {
    "code_folding": []
   },
   "outputs": [],
   "source": [
    "def get_paraphrases(input_text, num_return_sequences, num_beams, return_probs=True, \n",
    "                     num_beam_groups=1, diversity_penalty=0, temperature=1.5, length_penalty=1):\n",
    "    \"\"\"Wrapper for generating paraphrases (pp's). Most keywords are passed on to pp_model.generate function, \n",
    "    so see docs for that function. Set return_probs=True to return a tuple of (pp's, probs), \n",
    "    else we return just a list of pp's. \"\"\"\n",
    "    batch = pp_tokenizer(input_text, truncation=True, padding='longest', return_tensors=\"pt\").to(device)\n",
    "    translated = pp_model.generate_with_grad(**batch, num_beams=num_beams, \n",
    "        num_return_sequences=num_return_sequences, temperature=temperature, \n",
    "        num_beam_groups=num_beam_groups, diversity_penalty=diversity_penalty,\n",
    "        length_penalty=length_penalty,\n",
    "        return_dict_in_generate=True, output_scores=True\n",
    "    )\n",
    "    # sequence_score is given by something like  sum_logprobs / (len_of_seq^length_penalty)\n",
    "    # The `length_penalty` parameter defaults to 0.8 in the beam_search generate function, I think\n",
    "    # Sequence scores won't add to 1 across the generated paraphrases, so here we normalise them. \n",
    "    # We also need to take exp for them to work. \n",
    "    seq_probs = torch.exp(translated.sequences_scores) / sum(torch.exp(translated.sequences_scores))\n",
    "    tgt_text = pp_tokenizer.batch_decode(translated.sequences, skip_special_tokens=True)\n",
    "    if return_probs:   return tgt_text, seq_probs\n",
    "    else:              return tgt_text"
   ]
  },
  {
   "cell_type": "code",
   "execution_count": 171,
   "metadata": {},
   "outputs": [],
   "source": [
    "def print_info_on_generated_text():\n",
    "    \"\"\"\n",
    "        Prints a bunch of statistics around the generated text. Useful for debugging purposes.\n",
    "        So far only works for greedy search.\n",
    "    \"\"\"\n",
    "    logger.info(\"\\n######################################################################\\n\")\n",
    "    logger.info(f\"Original text: {text}\")\n",
    "    tgt_text = pp_tokenizer.batch_decode(translated.sequences, skip_special_tokens=True)\n",
    "    tgt_text_with_tokens = pp_tokenizer.batch_decode(translated.sequences, skip_special_tokens=False)\n",
    "    logger.info(f\"Generated text: {tgt_text}\")\n",
    "    logger.info(f\"Generated text with special tokens: {tgt_text_with_tokens}\")\n",
    "    logger.info(f\"Shape of translated.sequences:{translated.sequences.shape}\")\n",
    "    logger.info(f\"translated.sequences:{translated.sequences}\")\n",
    "    logger.info(f\"Scores is a tuple of length {len(translated.scores)} \\\n",
    "and each score is a tensor of shape {translated.scores[0].shape}\")\n",
    "    scores_stacked = torch.stack(translated.scores, 1)\n",
    "    logger.info(f\"Stacking the scores into a tensor of shape {scores_stacked.shape}\")\n",
    "    scores_softmax = torch.softmax(scores_stacked, 2)\n",
    "    logger.info(f\"Now taking softmax. This shouldn't change the shape, but just to check,\\\n",
    "its shape is {scores_softmax.shape}\")\n",
    "    probsums = scores_softmax.sum(axis=2)\n",
    "    logger.info(f\"These are probabilities now and so they should all sum to 1 (or close to it) in the axis \\\n",
    "corresponding to each time step. We can check the sums here: {probsums}, but it's a long tensor \\\n",
    "of shape {probsums.shape} and hard to see, so summing over all these values and removing 1 \\\n",
    "from each gives {torch.sum(probsums - 1)} \\\n",
    "which should be close to 0.\")\n",
    "    seq_without_first_tkn = translated.sequences[:, 1:]\n",
    "    logger.info(\"Now calculating sequence probabilities\")\n",
    "    seq_token_probs = torch.gather(scores_softmax,2,seq_without_first_tkn[:,:,None]).squeeze(-1)\n",
    "    seq_prob = seq_token_probs.prod(-1).item()\n",
    "    logger.info(f\"Sequence probability: {seq_prob}\")\n",
    "\n",
    "    # Get the 2nd and 3rd most likely tokens at each st\n",
    "    topk_ids = torch.topk(scores_softmax,3,dim=2).indices[:,:,1:]\n",
    "    topk_tokens_probs = torch.gather(scores_softmax,2,topk_ids).squeeze(-1)\n",
    "    toks2 = pp_tokenizer.convert_ids_to_tokens(topk_ids[:,:,0].squeeze())\n",
    "    toks3 = pp_tokenizer.convert_ids_to_tokens(topk_ids[:,:,1].squeeze())\n",
    "    tok_probs2 = topk_tokens_probs[:,:,0].squeeze()\n",
    "    tok_probs3 = topk_tokens_probs[:,:,1].squeeze()\n",
    "\n",
    "    logger.info(f\"Probabilities of getting the top 3 tokens at each step:\")\n",
    "    tokens = pp_tokenizer.convert_ids_to_tokens(seq_without_first_tkn.squeeze())\n",
    "    for (p, t, p2,t2,p3,t3)  in zip(seq_token_probs.squeeze(), tokens, tok_probs2, toks2, tok_probs3, toks3): \n",
    "        logger.info(f\"{t}: {round(p.item(),3)}  {t2}: {round(p2.item(),3)}  {t3}: {round(p3.item(),3)}\") \n"
   ]
  },
  {
   "cell_type": "code",
   "execution_count": 172,
   "metadata": {
    "code_folding": []
   },
   "outputs": [],
   "source": [
    "def reward_fn_onepp(orig, pp): \n",
    "    pass\n",
    "    \n",
    "def reward_fn_onerow(x): \n",
    "    \"\"\"x is one row of a pandas df\"\"\"\n",
    "    text,pp,lbl_change = x['text'],x['text_pp'],x['vm_truelabel_change']\n",
    "    return lbl_change\n",
    "\n",
    "def reward_fn_batch(): \n",
    "    pass \n",
    "\n",
    "def loss_fn(): \n",
    "    pass "
   ]
  },
  {
   "cell_type": "markdown",
   "metadata": {},
   "source": [
    "#### Define parameters and training settings"
   ]
  },
  {
   "cell_type": "code",
   "execution_count": 173,
   "metadata": {},
   "outputs": [],
   "source": [
    "# Paraphrase parameters  \n",
    "num_beams = 1\n",
    "num_return_sequences=1\n",
    "num_beam_groups = 1\n",
    "diversity_penalty = 0.\n",
    "temperature = 1.5\n",
    "length_penalty = 1\n",
    "\n",
    "# REINFORCE parameters \n",
    "S = 20\n",
    "\n",
    "# Model training parameters\n",
    "batch_size = 1\n",
    "lr = 5e-5 # Initial learning rate (after the potential warmup period) to use\n",
    "weight_decay = 0\n",
    "n_train_epochs = 1\n",
    "lr_scheduler_type = 'linear'\n",
    "n_warmup_steps = 30 \n"
   ]
  },
  {
   "cell_type": "markdown",
   "metadata": {},
   "source": [
    "#### Set up models and do layer freezing"
   ]
  },
  {
   "cell_type": "code",
   "execution_count": 174,
   "metadata": {},
   "outputs": [],
   "source": [
    "### Setup\n",
    "vm_model.eval()\n",
    "pp_model.train()\n",
    "\n",
    "## Layer freezing \n",
    "# Unfreeze last 2 layers of the base model decoder\n",
    "# Not sure if decoder layer norm should be unfrozen or not, but it appears after the\n",
    "#   other parameters in the module ordering, so let's include it for now\n",
    "# Also unfreeze the linear head.  This isn't stored in the base model but rather tacked on top\n",
    "#   and will be fine-tuned for summarisation. \n",
    "layer_list = ['decoder.layers.14', 'decoder.layers.15', 'decoder.layer_norm'] \n",
    "for i, (name,param) in enumerate(pp_model.base_model.named_parameters()): \n",
    "    if np.any([o in name for o in layer_list]):   param.requires_grad = True\n",
    "    else:                                         param.requires_grad = False\n",
    "for param in pp_model.lm_head.parameters():       param.requires_grad = True\n",
    "# For some reason this seems to be excluded\n",
    "for param in pp_model.base_model.shared.parameters(): param.requires_grad=False \n",
    "### For checking the grad status of the layers\n",
    "# for i, (name, param) in enumerate(pp_model.base_model.named_parameters()): print(i, name, param.requires_grad)\n",
    "# for i, (name, param) in enumerate(pp_model.lm_head.named_parameters()):    print(i, name, param.requires_grad)"
   ]
  },
  {
   "cell_type": "markdown",
   "metadata": {},
   "source": [
    "#### Create small dataset (dev step for quicker development, delete later)"
   ]
  },
  {
   "cell_type": "code",
   "execution_count": 175,
   "metadata": {},
   "outputs": [],
   "source": [
    "train_small = train.shard(100, 0, contiguous=True)  # small training set for testing purposes\n",
    "train_small_dl = DataLoader(train_small, batch_size=batch_size, \n",
    "                            shuffle=True, num_workers=n_wkrs)\n",
    "dl = train_small_dl"
   ]
  },
  {
   "cell_type": "markdown",
   "metadata": {},
   "source": [
    "#### Set up optimiser and learning rate scheduler"
   ]
  },
  {
   "cell_type": "code",
   "execution_count": 176,
   "metadata": {
    "code_folding": [
     0,
     3
    ]
   },
   "outputs": [],
   "source": [
    "# Code below taken from https://github.com/huggingface/transformers/blob/master/examples/pytorch/text-classification/run_glue_no_trainer.py#L363\n",
    "# Split weights in two groups, one with weight decay and the other not.\n",
    "no_decay = [\"bias\", \"LayerNorm.weight\"]\n",
    "optimizer_grouped_parameters = [\n",
    "    {\n",
    "        \"params\": [p for n, p in pp_model.named_parameters() if not any(nd in n for nd in no_decay)],\n",
    "        \"weight_decay\": weight_decay,\n",
    "    },\n",
    "    {\n",
    "        \"params\": [p for n, p in pp_model.named_parameters() if any(nd in n for nd in no_decay)],\n",
    "        \"weight_decay\": 0.0,\n",
    "    },\n",
    "]\n",
    "optimizer = AdamW(optimizer_grouped_parameters, lr=lr)\n",
    "\n",
    "n_train_steps = n_train_epochs * len(dl)\n",
    "lr_scheduler = get_scheduler(\n",
    "    name=lr_scheduler_type,\n",
    "    optimizer=optimizer,\n",
    "    num_warmup_steps=n_warmup_steps,\n",
    "    num_training_steps=n_train_steps,\n",
    ")"
   ]
  },
  {
   "cell_type": "markdown",
   "metadata": {},
   "source": [
    "#### Training loop "
   ]
  },
  {
   "cell_type": "code",
   "execution_count": 177,
   "metadata": {
    "code_folding": [],
    "scrolled": false
   },
   "outputs": [
    {
     "data": {
      "application/vnd.jupyter.widget-view+json": {
       "model_id": "db4a55049f2042d3834bd65fae24f75a",
       "version_major": 2,
       "version_minor": 0
      },
      "text/plain": [
       "HBox(children=(FloatProgress(value=0.0, max=86.0), HTML(value='')))"
      ]
     },
     "metadata": {},
     "output_type": "display_data"
    },
    {
     "name": "stderr",
     "output_type": "stream",
     "text": [
      "Now on epoch 0 of 1\n",
      "\n",
      "######################################################################\n",
      "\n",
      "Original text: ['a masterpiece four years in the making .']\n",
      "Generated text: ['A masterpiece four years in the making.']\n",
      "Generated text with special tokens: ['<pad> A masterpiece four years in the making.</s>']\n",
      "Shape of translated.sequences:torch.Size([1, 10])\n",
      "translated.sequences:tensor([[    0,   202, 13810,   541,   231,   115,   109,   395,   107,     1]],\n",
      "       device='cuda:0')\n",
      "Scores is a tuple of length 9 and each score is a tensor of shape torch.Size([1, 96103])\n",
      "Stacking the scores into a tensor of shape torch.Size([1, 9, 96103])\n",
      "Now taking softmax. This shouldn't change the shape, but just to check,its shape is torch.Size([1, 9, 96103])\n",
      "These are probabilities now and so they should all sum to 1 (or close to it) in the axis corresponding to each time step. We can check the sums here: tensor([[1.0000, 1.0000, 1.0000, 1.0000, 1.0000, 1.0000, 1.0000, 1.0000, 1.0000]],\n",
      "       device='cuda:0', grad_fn=<SumBackward1>), but it's a long tensor of shape torch.Size([1, 9]) and hard to see, so summing over all these values and removing 1 from each gives 1.6689300537109375e-06 which should be close to 0.\n",
      "Now calculating sequence probabilities\n",
      "Sequence probability: 0.023539597168564796\n",
      "Probabilities of getting the top 3 tokens at each step:\n",
      "▁A: 0.474  ▁It: 0.188  ▁Four: 0.064\n",
      "▁masterpiece: 0.518  ▁four: 0.088  ▁work: 0.038\n",
      "▁four: 0.36  ▁for: 0.244  ▁in: 0.042\n",
      "▁years: 0.758  ▁year: 0.006  ▁long: 0.004\n",
      "▁in: 0.766  ▁long: 0.021  ▁of: 0.012\n",
      "▁the: 0.788  ▁making: 0.04  ▁a: 0.006\n",
      "▁making: 0.897  ▁Making: 0.009  making: 0.008\n",
      ".: 0.716  </s>: 0.044  ▁: 0.025\n",
      "</s>: 0.906  .: 0.001  ▁The: 0.0\n",
      "\n",
      "######################################################################\n",
      "\n",
      "Original text: [\"not for everyone , but for those with whom it will connect , it's a nice departure from standard moviegoing fare .\"]\n",
      "Generated text: [\"It's a nice departure from the standard moviegoing fare, but for those with whom it will connect.\"]\n",
      "Generated text with special tokens: [\"<pad> It's a nice departure from the standard moviegoing fare, but for those with whom it will connect.</s>\"]\n",
      "Shape of translated.sequences:torch.Size([1, 24])\n",
      "translated.sequences:tensor([[    0,   168,   131,   116,   114,   948,  7135,   135,   109,   971,\n",
      "          1397, 10542,  9042,   108,   155,   118,   274,   122,  2901,   126,\n",
      "           138,  1820,   107,     1]], device='cuda:0')\n",
      "Scores is a tuple of length 23 and each score is a tensor of shape torch.Size([1, 96103])\n",
      "Stacking the scores into a tensor of shape torch.Size([1, 23, 96103])\n",
      "Now taking softmax. This shouldn't change the shape, but just to check,its shape is torch.Size([1, 23, 96103])\n",
      "These are probabilities now and so they should all sum to 1 (or close to it) in the axis corresponding to each time step. We can check the sums here: tensor([[1.0000, 1.0000, 1.0000, 1.0000, 1.0000, 1.0000, 1.0000, 1.0000, 1.0000,\n",
      "         1.0000, 1.0000, 1.0000, 1.0000, 1.0000, 1.0000, 1.0000, 1.0000, 1.0000,\n",
      "         1.0000, 1.0000, 1.0000, 1.0000, 1.0000]], device='cuda:0',\n",
      "       grad_fn=<SumBackward1>), but it's a long tensor of shape torch.Size([1, 23]) and hard to see, so summing over all these values and removing 1 from each gives 2.0265579223632812e-06 which should be close to 0.\n",
      "Now calculating sequence probabilities\n",
      "Sequence probability: 2.2794108645030065e-06\n",
      "Probabilities of getting the top 3 tokens at each step:\n",
      "▁It: 0.354  ▁Not: 0.177  ▁For: 0.175\n",
      "': 0.522  ▁is: 0.299  ▁isn: 0.02\n",
      "s: 0.876  ll: 0.002  d: 0.002\n",
      "▁a: 0.335  ▁not: 0.322  ▁nice: 0.064\n",
      "▁nice: 0.481  ▁departure: 0.309  ▁different: 0.054\n",
      "▁departure: 0.615  ▁change: 0.09  ▁deviation: 0.028\n",
      "▁from: 0.89  ▁for: 0.011  ▁of: 0.006\n",
      "▁the: 0.319  ▁standard: 0.226  ▁a: 0.131\n",
      "▁standard: 0.37  ▁usual: 0.105  ▁norm: 0.09\n",
      "▁movie: 0.59  ▁fare: 0.105  ▁film: 0.024\n",
      "going: 0.42  ▁fare: 0.04  ▁going: 0.029\n",
      "▁fare: 0.924  ▁movie: 0.005  ▁film: 0.002\n",
      ",: 0.205  ▁and: 0.186  ▁for: 0.178\n",
      "▁but: 0.492  ▁and: 0.167  ▁for: 0.094\n",
      "▁for: 0.356  ▁not: 0.28  ▁it: 0.058\n",
      "▁those: 0.671  ▁people: 0.042  ▁the: 0.031\n",
      "▁with: 0.69  ▁who: 0.132  ▁that: 0.015\n",
      "▁whom: 0.971  ▁who: 0.009  ▁Whom: 0.003\n",
      "▁it: 0.835  ▁the: 0.005  .: 0.003\n",
      "▁will: 0.848  ': 0.046  ▁can: 0.004\n",
      "▁connect: 0.916  ▁link: 0.006  ▁tie: 0.006\n",
      ".: 0.604  </s>: 0.129  ,: 0.129\n",
      "</s>: 0.933  .: 0.0  ,: 0.0\n",
      "\n",
      "######################################################################\n",
      "\n",
      "Original text: ['if you sometimes like to go to the movies to have fun , wasabi is a good place to start .']\n",
      "Generated text: ['If you like to go to the movies to have fun, you should go to the wasabi.']\n",
      "Generated text with special tokens: ['<pad> If you like to go to the movies to have fun, you should go to the wasabi.</s>']\n",
      "Shape of translated.sequences:torch.Size([1, 21])\n",
      "translated.sequences:tensor([[    0,   240,   119,   172,   112,   275,   112,   109,  2959,   112,\n",
      "           133,   546,   108,   119,   246,   275,   112,   109, 73369,   107,\n",
      "             1]], device='cuda:0')\n",
      "Scores is a tuple of length 20 and each score is a tensor of shape torch.Size([1, 96103])\n",
      "Stacking the scores into a tensor of shape torch.Size([1, 20, 96103])\n",
      "Now taking softmax. This shouldn't change the shape, but just to check,its shape is torch.Size([1, 20, 96103])\n",
      "These are probabilities now and so they should all sum to 1 (or close to it) in the axis corresponding to each time step. We can check the sums here: tensor([[1.0000, 1.0000, 1.0000, 1.0000, 1.0000, 1.0000, 1.0000, 1.0000, 1.0000,\n",
      "         1.0000, 1.0000, 1.0000, 1.0000, 1.0000, 1.0000, 1.0000, 1.0000, 1.0000,\n",
      "         1.0000, 1.0000]], device='cuda:0', grad_fn=<SumBackward1>), but it's a long tensor of shape torch.Size([1, 20]) and hard to see, so summing over all these values and removing 1 from each gives 4.172325134277344e-07 which should be close to 0.\n",
      "Now calculating sequence probabilities\n",
      "Sequence probability: 8.419381458679709e-08\n",
      "Probabilities of getting the top 3 tokens at each step:\n",
      "▁If: 0.459  ▁You: 0.065  ▁It: 0.034\n",
      "▁you: 0.932  ▁it: 0.004  ▁your: 0.004\n",
      "▁like: 0.29  ▁want: 0.204  ▁enjoy: 0.072\n",
      "▁to: 0.64  ▁going: 0.084  ▁watching: 0.022\n",
      "▁go: 0.698  ▁see: 0.098  ▁have: 0.016\n",
      "▁to: 0.837  ▁for: 0.013  ▁out: 0.011\n",
      "▁the: 0.717  ▁movies: 0.107  ▁movie: 0.008\n",
      "▁movies: 0.694  ▁movie: 0.071  ▁cinema: 0.041\n",
      "▁to: 0.556  ▁for: 0.101  ▁and: 0.066\n",
      "▁have: 0.673  ▁be: 0.029  ▁enjoy: 0.026\n",
      "▁fun: 0.78  ▁a: 0.106  ▁some: 0.03\n",
      ",: 0.745  ▁then: 0.022  ▁you: 0.015\n",
      "▁you: 0.164  ▁then: 0.117  ▁it: 0.044\n",
      "▁should: 0.238  ▁can: 0.17  ▁could: 0.151\n",
      "▁go: 0.116  ▁start: 0.11  ▁probably: 0.06\n",
      "▁to: 0.856  ▁there: 0.006  ▁here: 0.004\n",
      "▁the: 0.291  ▁wasabi: 0.092  ▁Wasabi: 0.011\n",
      "▁wasabi: 0.035  ▁Wasabi: 0.004  ▁at: 0.003\n",
      ".: 0.475  ▁area: 0.142  ▁location: 0.025\n",
      "</s>: 0.892  .: 0.001  ,: 0.0\n"
     ]
    }
   ],
   "source": [
    "progress_bar = tqdm(range(n_train_steps))\n",
    "for epoch in range(n_train_epochs): \n",
    "    logger.info(f\"Now on epoch {epoch} of {n_train_epochs}\")\n",
    "    for i, data in enumerate(dl): \n",
    "        if i % 10 == 0 :   logging.info(f\"Now processing batch {i} out of {len(dl)}\")\n",
    "            \n",
    "        ## Forward pass\n",
    "        label,text = data['label'].to(device),data[\"text\"]\n",
    "        batch = pp_tokenizer(text, truncation=True, padding='longest', return_tensors=\"pt\").to(device)\n",
    "\n",
    "        # Only greedy search supported at the moment\n",
    "        translated = pp_model.generate_with_grad(**batch, num_beams=num_beams,\n",
    "                        num_return_sequences=1, do_sample=False, \n",
    "                        return_dict_in_generate=True, output_scores=True)\n",
    "   \n",
    "        \n",
    "        print_info_on_generated_text()\n",
    "        \n",
    "        # generate paraphrase universe\n",
    "#         pp_universe,pp_universe_probs = get_paraphrases(text, num_return_sequences=universe_sz, \n",
    "#             num_beams=num_beams_universe, num_beam_groups=num_beam_groups, \n",
    "#             diversity_penalty=diversity_penalty, temperature=temperature, return_probs=True)\n",
    "#         pp_logprobs = torch.log(pp_universe_probs)\n",
    "        \n",
    "        \n",
    "        \n",
    "        # Useful link: \n",
    "        # https://discuss.huggingface.co/t/generation-probabilities-how-to-compute-probabilities-of-output-scores-for-gpt2/3175\n",
    "        # might be helpful?\n",
    "        # https://discuss.huggingface.co/t/showing-individual-token-and-corresponding-score-during-beam-search/3735/5\n",
    "        \n",
    "        \n",
    "        \n",
    "        progress_bar.update(1)\n",
    "        if i ==2: break\n",
    "            \n",
    "        ## Backward pass \n",
    "    "
   ]
  },
  {
   "cell_type": "code",
   "execution_count": null,
   "metadata": {},
   "outputs": [],
   "source": [
    "# for epoch in range(args.num_train_epochs):\n",
    "#         model.train()\n",
    "#         for step, batch in enumerate(train_dataloader):\n",
    "#             outputs = model(**batch)\n",
    "#             loss = outputs.loss\n",
    "#             loss = loss / args.gradient_accumulation_steps\n",
    "#             accelerator.backward(loss)\n",
    "#             if step % args.gradient_accumulation_steps == 0 or step == len(train_dataloader) - 1:\n",
    "#                 optimizer.step()\n",
    "#                 lr_scheduler.step()\n",
    "#                 optimizer.zero_grad()\n",
    "#                 progress_bar.update(1)\n",
    "#                 completed_steps += 1\n",
    "\n",
    "#             if completed_steps >= args.max_train_steps:\n",
    "#                 break\n",
    "\n",
    "#         model.eval()\n",
    "#         for step, batch in enumerate(eval_dataloader):\n",
    "#             outputs = model(**batch)\n",
    "#             predictions = outputs.logits.argmax(dim=-1) if not is_regression else outputs.logits.squeeze()\n",
    "#             metric.add_batch(\n",
    "#                 predictions=accelerator.gather(predictions),\n",
    "#                 references=accelerator.gather(batch[\"labels\"]),\n",
    "#             )\n",
    "\n",
    "#         eval_metric = metric.compute()\n",
    "#         logger.info(f\"epoch {epoch}: {eval_metric}\")\n"
   ]
  },
  {
   "cell_type": "markdown",
   "metadata": {},
   "source": [
    "## Code scraps "
   ]
  },
  {
   "cell_type": "markdown",
   "metadata": {},
   "source": [
    "### Generating a paraphrase dataset and getting VM predictions for it"
   ]
  },
  {
   "cell_type": "code",
   "execution_count": null,
   "metadata": {
    "code_folding": [
     0
    ]
   },
   "outputs": [],
   "source": [
    "def create_paraphrase_dataset(batch, cname_input, cname_output, num_beams=32,\n",
    "                              num_return_sequences=32): \n",
    "    \"\"\"Create paraphrases for each example in the batch. Then repeat the other fields \n",
    "        so that the resulting datase has the same length as the number of paraphrases. \n",
    "        Key assumption is \n",
    "        that the same number of paraphrases is created for each example.\n",
    "        batch: a dict of examples used by the `map` function from the dataset\n",
    "        cname_input: What column to create paraphrases of \n",
    "        cname_output: What to call the column of paraphrases\n",
    "        other parameters - passed to get_paraphrases. \"\"\"\n",
    "    \n",
    "    # Generate paraphrases. \n",
    "    # This can be later extended to add diversity or so on. \n",
    "    #set_trace()\n",
    "    pp_l,probs = get_paraphrases(batch[cname_input], num_beams=num_beams,\n",
    "        num_return_sequences=num_return_sequences)\n",
    "    \n",
    "    # To return paraphrases as a list of lists for batch input (not done here but might need later)\n",
    "    #     split_into_sublists = lambda l,n: [l[i:i + n] for i in range(0, len(l), n)]\n",
    "    #     pp_l = split_into_sublists(pp_l, n_seed_seqs)\n",
    "    batch[cname_output] = pp_l \n",
    "    batch[\"probs\"] = probs.to('cpu').numpy()\n",
    "    \n",
    "    # Repeat each entry in all other columns `num_return_sequences` times so they are the same length\n",
    "    # as the paraphrase column\n",
    "    # Only works if the same number of paraphrases is generated for each phrase. \n",
    "    # Else try something like \n",
    "        # for o in zip(*batch.values()):\n",
    "        #     d = dict(zip(batch.keys(), o))\n",
    "        #     get_paraphrases(batch[cname_input],num_return_sequences=n_seed_seqs,num_beams=n_seed_seqs)\n",
    "        #     for k,v in d.items(): \n",
    "        #       return_d[k] += v if k == 'text' else [v for o in range(n_paraphrases)]\n",
    "        # return return_d\n",
    "    return_d = defaultdict(list) \n",
    "    repeat_each_item_n_times = lambda l,n: [o for o in l for i in range(n)]\n",
    "    for k in batch.keys(): \n",
    "        if   k == cname_output: return_d[k] = batch[cname_output]\n",
    "        elif k == \"probs\"     : return_d[k] = batch[\"probs\"]\n",
    "        else:                   return_d[k] = repeat_each_item_n_times(batch[k], num_return_sequences)\n",
    "    return return_d "
   ]
  },
  {
   "cell_type": "code",
   "execution_count": null,
   "metadata": {
    "code_folding": [
     0
    ]
   },
   "outputs": [],
   "source": [
    "def get_vm_scores(ds_pp, cname_orig, cname_pp, cname_label='label', \n",
    "                  use_metric=False, monitor=False): \n",
    "    \"\"\"Get victim model preds+probs for the paraphrase dataset.\n",
    "    \"\"\"\n",
    "    assert vm_model.training == False  # checks that model is in eval mode \n",
    "    if use_metric: \n",
    "        metric_d = {}\n",
    "        metric_d['orig'],metric_d['pp'] = load_metric('accuracy'),load_metric('accuracy')\n",
    "    orig_probs_l,pp_probs_l = [],[]\n",
    "    if monitor: monitor = Monitor(2)  # track GPU usage and memory\n",
    "    \n",
    "    def get_vm_preds(x): \n",
    "        \"\"\"Get predictions for a vector x (here a vector of documents/text). \n",
    "        Works for a sentiment-analysis dataset (needs to be adjusted for NLI tasks)\"\"\"\n",
    "        inputs = vm_tokenizer(x, padding=True, truncation=True, return_tensors=\"pt\")\n",
    "        inputs.to(device)\n",
    "        outputs = vm_model(**inputs, labels=labels)\n",
    "        probs = outputs.logits.softmax(1).cpu()\n",
    "        preds = probs.argmax(1)\n",
    "        return probs, preds\n",
    "       \n",
    "    print(\"Getting victim model predictions for both original and paraphrased text.\")\n",
    "    dl = DataLoader(ds_pp, batch_size=batch_size, shuffle=False, \n",
    "                    num_workers=n_wkrs, pin_memory=True)\n",
    "    with torch.no_grad():\n",
    "        for i, data in enumerate(dl): \n",
    "            if i % 50 == 0 : print(\"Now processing batch\", i, \"out of\", len(dl))\n",
    "            labels,orig,pp = data['label'].to(device),data[cname_orig],data[cname_pp]\n",
    "            orig_probs, orig_preds = get_vm_preds(orig)            \n",
    "            pp_probs,   pp_preds   = get_vm_preds(pp)    \n",
    "            orig_probs_l.append(orig_probs); pp_probs_l.append(pp_probs)\n",
    "            if use_metric: \n",
    "                metric_d['orig'].add_batch(predictions=orig_preds, references=labels)\n",
    "                metric_d['pp'].add_batch(  predictions=pp_preds,   references=labels)\n",
    "    if monitor: monitor.stop()\n",
    "    def list2tensor(l): return torch.cat(l)\n",
    "    orig_probs_t,pp_probs_t = list2tensor(orig_probs_l),list2tensor(pp_probs_l)\n",
    "    if use_metric: return orig_probs_t, pp_probs_t, metric_d\n",
    "    else:          return orig_probs_t, pp_probs_t, None"
   ]
  },
  {
   "cell_type": "code",
   "execution_count": null,
   "metadata": {
    "code_folding": [
     0
    ]
   },
   "outputs": [],
   "source": [
    "### Generate paraphrase dataset\n",
    "num_beams = 10\n",
    "num_return_sequences = 3\n",
    "cname_input = 'text' # which text column to paraphrase\n",
    "cname_output= cname_input + '_pp'\n",
    "date = '20210825'\n",
    "fname = path_cache + '_rt_train'+ date + '_' + str(num_return_sequences)\n",
    "if os.path.exists(fname):  \n",
    "    ds_pp = datasets.load_from_disk(fname)\n",
    "else:\n",
    "    ds_pp = train.shard(200, 0, contiguous=True)\n",
    "    # Have to call with batched=True\n",
    "    # Need to set a batch size otherwise will run out of memory on the GPU card. \n",
    "    # 64 seems to work well \n",
    "    ds_pp = ds_pp.map(\n",
    "        lambda x: create_paraphrase_dataset(x, \n",
    "            num_beams=num_beams, num_return_sequences=num_return_sequences,\n",
    "            cname_input=cname_input, cname_output=cname_output),\n",
    "        batched=True, batch_size=4) \n",
    "    ds_pp.save_to_disk(fname)\n",
    "    gc.collect(); torch.cuda.empty_cache() # free up most of the GPU memory"
   ]
  },
  {
   "cell_type": "code",
   "execution_count": null,
   "metadata": {
    "code_folding": [
     0
    ]
   },
   "outputs": [],
   "source": [
    "### Get predictions\n",
    "cname_orig = cname_input\n",
    "cname_pp = cname_output\n",
    "cname_label = 'label'\n",
    "print_metric = True\n",
    "fname = path_cache + 'results_df_'+ date + \"_\" + str(num_return_sequences) + \".csv\"\n",
    "if os.path.exists(fname):    results_df = pd.read_csv(fname)\n",
    "else: \n",
    "    #sim_score_t = generate_sim_scores()\n",
    "    orig_probs_t,pp_probs_t,metric_d = get_vm_scores(ds_pp, cname_orig, \n",
    "                                                     cname_pp, cname_label,\n",
    "                                                     monitor=True, use_metric=print_metric)\n",
    "    if print_metric: \n",
    "        print(\"orig vm accuracy:\",       metric_d['orig'].compute())\n",
    "        print(\"paraphrase vm accuracy:\", metric_d['pp'].compute())\n",
    "    vm_orig_scores  = torch.tensor([r[idx] for idx,r in zip(ds_pp[cname_label], orig_probs_t)])\n",
    "    vm_pp_scores    = torch.tensor([r[idx] for idx,r in zip(ds_pp[cname_label], pp_probs_t)])\n",
    "    results_df = pd.DataFrame({\n",
    "                  cname_orig: ds_pp[cname_orig],\n",
    "                  cname_pp: ds_pp[cname_pp],\n",
    "   #               'sim_score': sim_score_t,\n",
    "                  'label_true': ds_pp[cname_label], \n",
    "                  'label_vm_orig': orig_probs_t.argmax(1),\n",
    "                  'label_vm_pp': pp_probs_t.argmax(1),\n",
    "                  'vm_orig_truelabel': vm_orig_scores,             \n",
    "                  'vm_pp_truelabel': vm_pp_scores,\n",
    "                  'vm_truelabel_change': vm_orig_scores - vm_pp_scores,\n",
    "                  'vm_orig_class0': orig_probs_t[:,0], \n",
    "                  'vm_orig_class1': orig_probs_t[:,1], \n",
    "                  'vm_pp_class0': pp_probs_t[:,0], \n",
    "                  'vm_pp_class1': pp_probs_t[:,1], \n",
    "                  })\n",
    "#    results_df['vm_truelabel_change_X_sim_score'] = results_df['vm_truelabel_change'] * results_df['sim_score']\n",
    "    results_df.to_csv(fname, index_label = 'idx')"
   ]
  },
  {
   "cell_type": "markdown",
   "metadata": {},
   "source": [
    "### Testing how to keep gradients with `generate` functions"
   ]
  },
  {
   "cell_type": "code",
   "execution_count": null,
   "metadata": {
    "code_folding": []
   },
   "outputs": [],
   "source": [
    "### Testing the `generate_with_grad` function\n",
    "\n",
    "input_text=\"hello my name is Tom\"\n",
    "num_return_sequences=1\n",
    "num_beams=2\n",
    "return_probs=True\n",
    "batch = pp_tokenizer(input_text, truncation=True, padding='longest', return_tensors=\"pt\").to(device)\n",
    "generated = pp_model.generate_with_grad(**batch, return_dict_in_generate=True, output_scores=True,\n",
    "                              num_return_sequences=num_return_sequences,\n",
    "                                num_beams=num_beams,\n",
    "                                num_beam_groups=1,\n",
    "                                diversity_penalty=0,\n",
    "                                temperature=1.5, \n",
    "                              length_penalty=1)\n",
    "print(generated)\n",
    "\n",
    "tgt_text = pp_tokenizer.batch_decode(generated.sequences, skip_special_tokens=True)\n",
    "print(pp_tokenizer.tokenize(tgt_text[0]))\n",
    "print(pp_tokenizer.encode(tgt_text[0]))\n",
    "\n",
    "# Score: score = sum_logprobs / (hyp.shape[-1] ** self.length_penalty)\n",
    "# gradient gets removed (i think) by the line \n",
    "# beam_hyp.add(\n",
    "#   input_ids[batch_beam_idx].clone(),\n",
    "#   next_score.item())\n",
    "\n",
    "\n",
    "x=generated['scores'][5]\n",
    "print(x.max(1))\n",
    "x.max(1).values / (len(generated['scores']) ** 0.8)"
   ]
  },
  {
   "cell_type": "code",
   "execution_count": null,
   "metadata": {
    "code_folding": [
     0
    ]
   },
   "outputs": [],
   "source": [
    "## An example of how to use greedy_search\n",
    "\n",
    "# from transformers import (\n",
    "# AutoTokenizer,\n",
    "# AutoModelForCausalLM,\n",
    "# LogitsProcessorList,\n",
    "# MinLengthLogitsProcessor,\n",
    "# )\n",
    "\n",
    "# tokenizer = AutoTokenizer.from_pretrained(\"gpt2\")\n",
    "# model = AutoModelForCausalLM.from_pretrained(\"gpt2\")\n",
    "\n",
    "# # set pad_token_id to eos_token_id because GPT2 does not have a EOS token\n",
    "# model.config.pad_token_id = model.config.eos_token_id\n",
    "\n",
    "# input_prompt = \"Today is a beautiful day, and\"\n",
    "# input_ids = tokenizer(input_prompt, return_tensors=\"pt\").input_ids\n",
    "\n",
    "# # instantiate logits processors\n",
    "# logits_processor = LogitsProcessorList([\n",
    "#     MinLengthLogitsProcessor(15, eos_token_id=model.config.eos_token_id),\n",
    "# ])\n",
    "\n",
    "# outputs = model.greedy_search(input_ids, logits_processor=logits_processor)\n",
    "\n",
    "# print(\"Generated:\", tokenizer.batch_decode(outputs, skip_special_tokens=True))"
   ]
  }
 ],
 "metadata": {
  "kernelspec": {
   "display_name": "Python 3",
   "language": "python",
   "name": "python3"
  },
  "language_info": {
   "codemirror_mode": {
    "name": "ipython",
    "version": 3
   },
   "file_extension": ".py",
   "mimetype": "text/x-python",
   "name": "python",
   "nbconvert_exporter": "python",
   "pygments_lexer": "ipython3",
   "version": "3.8.5"
  },
  "toc": {
   "base_numbering": 1,
   "nav_menu": {},
   "number_sections": true,
   "sideBar": true,
   "skip_h1_title": false,
   "title_cell": "Table of Contents",
   "title_sidebar": "Contents",
   "toc_cell": false,
   "toc_position": {},
   "toc_section_display": true,
   "toc_window_display": false
  }
 },
 "nbformat": 4,
 "nbformat_minor": 4
}
