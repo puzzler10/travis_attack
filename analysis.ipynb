{
 "cells": [
  {
   "cell_type": "code",
   "execution_count": 9,
   "metadata": {},
   "outputs": [
    {
     "name": "stdout",
     "output_type": "stream",
     "text": [
      "The autoreload extension is already loaded. To reload it, use:\n",
      "  %reload_ext autoreload\n"
     ]
    }
   ],
   "source": [
    "%load_ext autoreload\n",
    "%autoreload 2"
   ]
  },
  {
   "cell_type": "code",
   "execution_count": 10,
   "metadata": {},
   "outputs": [],
   "source": [
    "import pandas as pd, numpy as np, seaborn as sns\n",
    "import matplotlib.pyplot as plt\n",
    "import wandb\n",
    "from datasets import load_metric, Dataset\n",
    "from IPython.display import Markdown, display\n",
    "from IPython.core.debugger import set_trace\n",
    "import plotly.express as px\n",
    "\n",
    "from datasets import load_dataset, Dataset\n",
    "\n",
    "from lexicalrichness import LexicalRichness\n",
    "import functools\n",
    "import string\n",
    "import psutil\n",
    "from collections import defaultdict\n",
    "from spacy_wordnet.wordnet_annotator import WordnetAnnotator \n",
    "import operator\n",
    "import spacy\n",
    "import textstat\n",
    "import difflib as dl\n",
    "from itertools import groupby\n",
    "from operator import itemgetter"
   ]
  },
  {
   "cell_type": "code",
   "execution_count": 11,
   "metadata": {},
   "outputs": [],
   "source": [
    "from analysis_functions import *"
   ]
  },
  {
   "cell_type": "code",
   "execution_count": 12,
   "metadata": {},
   "outputs": [],
   "source": [
    "seed = 420\n",
    "np.random.seed(seed)\n",
    "run_name = \"mild-jazz-178\"\n",
    "run_id = \"36206pkc\"\n",
    "wandb_run_path = f\"uts_nlp/travis_attack/{run_id}\"  # get this from wandb overview section \n",
    "pd.options.mode.chained_assignment = None  # default='warn'\n",
    "\n",
    "\n",
    "# Init W&B run object\n",
    "api = wandb.Api()\n",
    "run = api.run(wandb_run_path)\n",
    "config = run.config\n",
    "\n",
    "# Load CSV files\n",
    "path_results = f\"../model_checkpoints/travis_attack/{run_name}/\"\n",
    "train            = pd.read_csv(path_results + \"train.csv\")\n",
    "valid            = pd.read_csv(path_results + \"valid.csv\")\n",
    "test             = pd.read_csv(path_results + \"test.csv\")\n",
    "training_step    = pd.read_csv(path_results + \"training_step.csv\")\n",
    "training_summary = pd.read_csv(path_results + \"training_summary.csv\")"
   ]
  },
  {
   "cell_type": "markdown",
   "metadata": {},
   "source": [
    "## Dataset-level stats"
   ]
  },
  {
   "cell_type": "code",
   "execution_count": 13,
   "metadata": {},
   "outputs": [],
   "source": [
    "#df_training_step = postprocess_df(training_step, filter_idx=None)\n",
    "#df_train = postprocess_df(train, filter_idx=None)\n",
    "#df_valid = postprocess_df(valid, filter_idx=None)"
   ]
  },
  {
   "cell_type": "code",
   "execution_count": 14,
   "metadata": {},
   "outputs": [],
   "source": [
    "#df_training_step.to_csv(path_results + \"df_temp_training_step.csv\",index=False)\n",
    "#df_train.to_csv(path_results + \"df_temp_train.csv\",index=False)\n",
    "#df_valid.to_csv(path_results + \"df_temp_valid.csv\",index=False)\n",
    "\n",
    "df_training_step = pd.read_csv(path_results + \"df_temp_training_step.csv\")\n",
    "df_train = pd.read_csv(path_results + \"df_temp_train.csv\")\n",
    "df_valid = pd.read_csv(path_results + \"df_temp_valid.csv\")"
   ]
  },
  {
   "cell_type": "code",
   "execution_count": 15,
   "metadata": {},
   "outputs": [],
   "source": [
    "df_training_step['data_split'] = 'training_step'\n",
    "df_train['data_split'] = 'eval_train'\n",
    "df_valid['data_split'] = 'eval_valid'\n",
    "df_concat = pd.concat([df_training_step,df_train,df_valid])\n",
    "\n",
    "# Otherwise we get a big spike at 0\n",
    "df_concat.loc[df_concat.epoch_of_first_label_flip == 0, 'epoch_of_first_label_flip'] = None\n",
    "fig_l = []"
   ]
  },
  {
   "cell_type": "code",
   "execution_count": 16,
   "metadata": {
    "code_folding": []
   },
   "outputs": [
    {
     "data": {
      "text/html": [
       "\n",
       "                    Syncing run <strong><a href=\"https://wandb.ai/uts_nlp/travis_attack/runs/2nedln17\" target=\"_blank\">earnest-tree-206</a></strong> to <a href=\"https://wandb.ai/uts_nlp/travis_attack\" target=\"_blank\">Weights & Biases</a> (<a href=\"https://docs.wandb.com/integrations/jupyter.html\" target=\"_blank\">docs</a>).<br/>\n",
       "\n",
       "                "
      ],
      "text/plain": [
       "<IPython.core.display.HTML object>"
      ]
     },
     "metadata": {},
     "output_type": "display_data"
    },
    {
     "data": {
      "text/html": [
       "<br/>Waiting for W&B process to finish, PID 25084... <strong style=\"color:green\">(success).</strong>"
      ],
      "text/plain": [
       "<IPython.core.display.HTML object>"
      ]
     },
     "metadata": {},
     "output_type": "display_data"
    },
    {
     "data": {
      "application/vnd.jupyter.widget-view+json": {
       "model_id": "",
       "version_major": 2,
       "version_minor": 0
      },
      "text/plain": [
       "VBox(children=(Label(value=' 0.00MB of 0.36MB uploaded (0.00MB deduped)\\r'), FloatProgress(value=0.0, max=1.0)…"
      ]
     },
     "metadata": {},
     "output_type": "display_data"
    },
    {
     "data": {
      "text/html": [
       "<style>\n",
       "    table.wandb td:nth-child(1) { padding: 0 10px; text-align: right }\n",
       "    .wandb-row { display: flex; flex-direction: row; flex-wrap: wrap; width: 100% }\n",
       "    .wandb-col { display: flex; flex-direction: column; flex-basis: 100%; flex: 1; padding: 10px; }\n",
       "    </style>\n",
       "<div class=\"wandb-row\"><div class=\"wandb-col\">\n",
       "</div><div class=\"wandb-col\">\n",
       "</div></div>\n",
       "Synced 4 W&B file(s), 43 media file(s), 0 artifact file(s) and 0 other file(s)\n",
       "<br/>Synced <strong style=\"color:#cdcd00\">earnest-tree-206</strong>: <a href=\"https://wandb.ai/uts_nlp/travis_attack/runs/2nedln17\" target=\"_blank\">https://wandb.ai/uts_nlp/travis_attack/runs/2nedln17</a><br/>\n",
       "Find logs at: <code>./wandb/run-20220124_165348-2nedln17/logs</code><br/>\n"
      ],
      "text/plain": [
       "<IPython.core.display.HTML object>"
      ]
     },
     "metadata": {},
     "output_type": "display_data"
    }
   ],
   "source": [
    "hist_config_dicts = [\n",
    "    {\n",
    "        'colname': 'epoch_of_first_label_flip', \n",
    "        'xlabel': \"Epoch of first label flip\", \n",
    "        'desc': \"Cumulative prob Epoch of first label flip for each original example\",\n",
    "        'cumulative': True,\n",
    "    },\n",
    "    {\n",
    "        'colname': 'idx_n_unique_pp', \n",
    "        'xlabel': \"Unique paraphrases per original example\", \n",
    "        \"desc\": \"Number of generated unique paraphrases per original example during training\", \n",
    "        'cumulative': False,\n",
    "    },\n",
    "    {\n",
    "        'colname': 'idx_n_pp_changes', \n",
    "        'xlabel': \"Paraphrase changes per original example\", \n",
    "        \"desc\": \"Number of paraphrase changes per original example during training\", \n",
    "        'cumulative': False,\n",
    "    },\n",
    "]\n",
    "\n",
    "\n",
    "fig_l = []\n",
    "line_colnames = [o for o in df_concat.columns if \"_diff\" in o] + ['rouge_score', \"is_truncation\"]\n",
    "for colname in line_colnames: \n",
    "    fig = plot_epoch_line_charts(df_concat, colname)\n",
    "    fig_l.append({f\"pp_metrics/{colname}\":fig })\n",
    "    \n",
    "for d in hist_config_dicts: \n",
    "    fig = plot_idx_hist(df_concat, d['colname'],d['xlabel'],d['cumulative'])\n",
    "    fig_l.append({f\"pp_metrics/{d['colname']}\":fig })\n",
    "\n",
    "d1 = {k: v for d in fig_l for k, v in d.items()}\n",
    "#for fig in d1.values(): fig.show()\n",
    "run1 = wandb.init(job_type=\"analysis\")\n",
    "run1.log(d1)\n",
    "run1.finish()"
   ]
  },
  {
   "cell_type": "code",
   "execution_count": 20,
   "metadata": {},
   "outputs": [
    {
     "data": {
      "text/html": [
       "<div>\n",
       "<style scoped>\n",
       "    .dataframe tbody tr th:only-of-type {\n",
       "        vertical-align: middle;\n",
       "    }\n",
       "\n",
       "    .dataframe tbody tr th {\n",
       "        vertical-align: top;\n",
       "    }\n",
       "\n",
       "    .dataframe thead th {\n",
       "        text-align: right;\n",
       "    }\n",
       "</style>\n",
       "<table border=\"1\" class=\"dataframe\">\n",
       "  <thead>\n",
       "    <tr style=\"text-align: right;\">\n",
       "      <th></th>\n",
       "      <th>orig_l</th>\n",
       "      <th>pp_l</th>\n",
       "      <th>removals</th>\n",
       "      <th>insertions</th>\n",
       "      <th>unchanged</th>\n",
       "      <th>is_truncation</th>\n",
       "    </tr>\n",
       "  </thead>\n",
       "  <tbody>\n",
       "    <tr>\n",
       "      <th>4613</th>\n",
       "      <td>for a good chunk of its running time , trapped is an effective and claustrophobic thriller .</td>\n",
       "      <td>For a good chunk of its running time, trapped is an effective and claustrophobic thriller.</td>\n",
       "      <td>[for]</td>\n",
       "      <td>[For]</td>\n",
       "      <td>[a good chunk of its running time, trapped is an effective and claustrophobic thriller.]</td>\n",
       "      <td>False</td>\n",
       "    </tr>\n",
       "    <tr>\n",
       "      <th>5013</th>\n",
       "      <td>a cop story that understands the medium amazingly well .</td>\n",
       "      <td>A cop story that understands the medium amazingly well.</td>\n",
       "      <td>[a]</td>\n",
       "      <td>[A]</td>\n",
       "      <td>[cop story that understands the medium amazingly well.]</td>\n",
       "      <td>False</td>\n",
       "    </tr>\n",
       "    <tr>\n",
       "      <th>6495</th>\n",
       "      <td>the passions aroused by the discord between old and new cultures are set against the strange , stark beauty of the mideast desert , so lovingly and perceptively filmed that you can almost taste the desiccated air .</td>\n",
       "      <td>The passions aroused by the discord between old and new cultures are set against the strange, stark beauty of the mideast desert, so lovingly and perceptively filmed that you can almost taste the desiccated air.</td>\n",
       "      <td>[the]</td>\n",
       "      <td>[The]</td>\n",
       "      <td>[passions aroused by the discord between old and new cultures are set against the strange, stark beauty of the mideast desert, so lovingly and perceptively filmed that you can almost taste the desiccated air.]</td>\n",
       "      <td>False</td>\n",
       "    </tr>\n",
       "    <tr>\n",
       "      <th>6606</th>\n",
       "      <td>behan himself knew how to spin a tale and one can't help but think he'd appreciate this attempt to turn his life into art .</td>\n",
       "      <td>behan himself knew how to spin a tale and one can't help but think he'd appreciate this attempt to turn his life into art.</td>\n",
       "      <td>[]</td>\n",
       "      <td>[]</td>\n",
       "      <td>[behan himself knew how to spin a tale and one ca n't help but think he 'd appreciate this attempt to turn his life into art.]</td>\n",
       "      <td>False</td>\n",
       "    </tr>\n",
       "    <tr>\n",
       "      <th>3278</th>\n",
       "      <td>an enthralling , playful film that constantly frustrates our desire to know the 'truth' about this man , while deconstructing the very format of the biography in a manner that derrida would doubtless give his blessing to .</td>\n",
       "      <td>An enthralling, playful film that constantly frustrates our desire to know the 'truth' about this man, while deconstructing the very format of the biography in a manner that derrida would doubtless give his blessing to.</td>\n",
       "      <td>[an]</td>\n",
       "      <td>[An]</td>\n",
       "      <td>[enthralling, playful film that constantly frustrates our desire to know the' truth' about this man, while deconstructing the very format of the biography in a manner that derrida would doubtless give his blessing to.]</td>\n",
       "      <td>False</td>\n",
       "    </tr>\n",
       "    <tr>\n",
       "      <th>5744</th>\n",
       "      <td>[drumline] is entertaining for what it does , and admirable for what it doesn't do .</td>\n",
       "      <td>[drumline] is entertaining for what it does, and admirable for whatit doesn't do.</td>\n",
       "      <td>[what, it]</td>\n",
       "      <td>[whatit]</td>\n",
       "      <td>[[ drumline] is entertaining for what it does, and admirable for, does n't do.]</td>\n",
       "      <td>False</td>\n",
       "    </tr>\n",
       "    <tr>\n",
       "      <th>7555</th>\n",
       "      <td>thankfully , the film , which skirts that rapidly deteriorating line between fantasy and reality . . . takes a tongue-in-cheek attitude even as it pushes the croc hunter agenda .</td>\n",
       "      <td>thankfully, the film, which skirts that rapidly deteriorating line between fantasy and reality.</td>\n",
       "      <td>[.. takes a tongue- in- cheek attitude even as it pushes the croc hunter agenda.]</td>\n",
       "      <td>[]</td>\n",
       "      <td>[thankfully, the film, which skirts that rapidly deteriorating line between fantasy and reality.]</td>\n",
       "      <td>True</td>\n",
       "    </tr>\n",
       "    <tr>\n",
       "      <th>1800</th>\n",
       "      <td>part of the charm of satin rouge is that it avoids the obvious with humour and lightness .</td>\n",
       "      <td>Part of the charm of satin rouge is that it avoids the obvious with humour and lightness.</td>\n",
       "      <td>[part]</td>\n",
       "      <td>[Part]</td>\n",
       "      <td>[of the charm of satin rouge is that it avoids the obvious with humour and lightness.]</td>\n",
       "      <td>False</td>\n",
       "    </tr>\n",
       "    <tr>\n",
       "      <th>1408</th>\n",
       "      <td>sandra nettelbeck beautifully orchestrates the transformation of the chilly , neurotic , and self-absorbed martha as her heart begins to open .</td>\n",
       "      <td>sandra nettelbeck beautifully orchestrates the transformation of the chilly, neurotic, and self-absorbed martha as her heart begins to open.</td>\n",
       "      <td>[]</td>\n",
       "      <td>[]</td>\n",
       "      <td>[sandra nettelbeck beautifully orchestrates the transformation of the chilly, neurotic, and self- absorbed martha as her heart begins to open.]</td>\n",
       "      <td>False</td>\n",
       "    </tr>\n",
       "    <tr>\n",
       "      <th>8058</th>\n",
       "      <td>intriguing and beautiful film , but those of you who read the book are likely to be disappointed .</td>\n",
       "      <td>intriguing and beautiful film, but those of you who read the book are likely to be disappointed.</td>\n",
       "      <td>[]</td>\n",
       "      <td>[]</td>\n",
       "      <td>[intriguing and beautiful film, but those of you who read the book are likely to be disappointed.]</td>\n",
       "      <td>False</td>\n",
       "    </tr>\n",
       "  </tbody>\n",
       "</table>\n",
       "</div>"
      ],
      "text/plain": [
       "                                                                                                                                                                                                                              orig_l  \\\n",
       "4613                                                                                                                                    for a good chunk of its running time , trapped is an effective and claustrophobic thriller .   \n",
       "5013                                                                                                                                                                        a cop story that understands the medium amazingly well .   \n",
       "6495          the passions aroused by the discord between old and new cultures are set against the strange , stark beauty of the mideast desert , so lovingly and perceptively filmed that you can almost taste the desiccated air .   \n",
       "6606                                                                                                     behan himself knew how to spin a tale and one can't help but think he'd appreciate this attempt to turn his life into art .   \n",
       "3278  an enthralling , playful film that constantly frustrates our desire to know the 'truth' about this man , while deconstructing the very format of the biography in a manner that derrida would doubtless give his blessing to .   \n",
       "5744                                                                                                                                            [drumline] is entertaining for what it does , and admirable for what it doesn't do .   \n",
       "7555                                              thankfully , the film , which skirts that rapidly deteriorating line between fantasy and reality . . . takes a tongue-in-cheek attitude even as it pushes the croc hunter agenda .   \n",
       "1800                                                                                                                                      part of the charm of satin rouge is that it avoids the obvious with humour and lightness .   \n",
       "1408                                                                                 sandra nettelbeck beautifully orchestrates the transformation of the chilly , neurotic , and self-absorbed martha as her heart begins to open .   \n",
       "8058                                                                                                                              intriguing and beautiful film , but those of you who read the book are likely to be disappointed .   \n",
       "\n",
       "                                                                                                                                                                                                                             pp_l  \\\n",
       "4613                                                                                                                                   For a good chunk of its running time, trapped is an effective and claustrophobic thriller.   \n",
       "5013                                                                                                                                                                      A cop story that understands the medium amazingly well.   \n",
       "6495          The passions aroused by the discord between old and new cultures are set against the strange, stark beauty of the mideast desert, so lovingly and perceptively filmed that you can almost taste the desiccated air.   \n",
       "6606                                                                                                   behan himself knew how to spin a tale and one can't help but think he'd appreciate this attempt to turn his life into art.   \n",
       "3278  An enthralling, playful film that constantly frustrates our desire to know the 'truth' about this man, while deconstructing the very format of the biography in a manner that derrida would doubtless give his blessing to.   \n",
       "5744                                                                                                                                            [drumline] is entertaining for what it does, and admirable for whatit doesn't do.   \n",
       "7555                                                                                                                              thankfully, the film, which skirts that rapidly deteriorating line between fantasy and reality.   \n",
       "1800                                                                                                                                    Part of the charm of satin rouge is that it avoids the obvious with humour and lightness.   \n",
       "1408                                                                                 sandra nettelbeck beautifully orchestrates the transformation of the chilly, neurotic, and self-absorbed martha as her heart begins to open.   \n",
       "8058                                                                                                                             intriguing and beautiful film, but those of you who read the book are likely to be disappointed.   \n",
       "\n",
       "                                                                               removals  \\\n",
       "4613                                                                              [for]   \n",
       "5013                                                                                [a]   \n",
       "6495                                                                              [the]   \n",
       "6606                                                                                 []   \n",
       "3278                                                                               [an]   \n",
       "5744                                                                         [what, it]   \n",
       "7555  [.. takes a tongue- in- cheek attitude even as it pushes the croc hunter agenda.]   \n",
       "1800                                                                             [part]   \n",
       "1408                                                                                 []   \n",
       "8058                                                                                 []   \n",
       "\n",
       "     insertions  \\\n",
       "4613      [For]   \n",
       "5013        [A]   \n",
       "6495      [The]   \n",
       "6606         []   \n",
       "3278       [An]   \n",
       "5744   [whatit]   \n",
       "7555         []   \n",
       "1800     [Part]   \n",
       "1408         []   \n",
       "8058         []   \n",
       "\n",
       "                                                                                                                                                                                                                       unchanged  \\\n",
       "4613                                                                                                                                    [a good chunk of its running time, trapped is an effective and claustrophobic thriller.]   \n",
       "5013                                                                                                                                                                     [cop story that understands the medium amazingly well.]   \n",
       "6495           [passions aroused by the discord between old and new cultures are set against the strange, stark beauty of the mideast desert, so lovingly and perceptively filmed that you can almost taste the desiccated air.]   \n",
       "6606                                                                                              [behan himself knew how to spin a tale and one ca n't help but think he 'd appreciate this attempt to turn his life into art.]   \n",
       "3278  [enthralling, playful film that constantly frustrates our desire to know the' truth' about this man, while deconstructing the very format of the biography in a manner that derrida would doubtless give his blessing to.]   \n",
       "5744                                                                                                                                             [[ drumline] is entertaining for what it does, and admirable for, does n't do.]   \n",
       "7555                                                                                                                           [thankfully, the film, which skirts that rapidly deteriorating line between fantasy and reality.]   \n",
       "1800                                                                                                                                      [of the charm of satin rouge is that it avoids the obvious with humour and lightness.]   \n",
       "1408                                                                             [sandra nettelbeck beautifully orchestrates the transformation of the chilly, neurotic, and self- absorbed martha as her heart begins to open.]   \n",
       "8058                                                                                                                          [intriguing and beautiful film, but those of you who read the book are likely to be disappointed.]   \n",
       "\n",
       "      is_truncation  \n",
       "4613          False  \n",
       "5013          False  \n",
       "6495          False  \n",
       "6606          False  \n",
       "3278          False  \n",
       "5744          False  \n",
       "7555           True  \n",
       "1800          False  \n",
       "1408          False  \n",
       "8058          False  "
      ]
     },
     "metadata": {},
     "output_type": "display_data"
    }
   ],
   "source": [
    "#display_all(df[['orig_l', 'pp_l','removals','insertions','unchanged',  'is_truncation']].sample(10))"
   ]
  },
  {
   "cell_type": "markdown",
   "metadata": {},
   "source": [
    "## Individual examples "
   ]
  },
  {
   "cell_type": "code",
   "execution_count": 189,
   "metadata": {
    "code_folding": []
   },
   "outputs": [],
   "source": []
  },
  {
   "cell_type": "markdown",
   "metadata": {},
   "source": [
    "## Text statistics (to send to w&b )"
   ]
  },
  {
   "cell_type": "code",
   "execution_count": null,
   "metadata": {},
   "outputs": [],
   "source": []
  },
  {
   "cell_type": "code",
   "execution_count": null,
   "metadata": {},
   "outputs": [],
   "source": []
  },
  {
   "cell_type": "code",
   "execution_count": null,
   "metadata": {},
   "outputs": [],
   "source": []
  },
  {
   "cell_type": "code",
   "execution_count": null,
   "metadata": {},
   "outputs": [],
   "source": []
  }
 ],
 "metadata": {
  "kernelspec": {
   "display_name": "Python 3",
   "language": "python",
   "name": "python3"
  },
  "language_info": {
   "codemirror_mode": {
    "name": "ipython",
    "version": 3
   },
   "file_extension": ".py",
   "mimetype": "text/x-python",
   "name": "python",
   "nbconvert_exporter": "python",
   "pygments_lexer": "ipython3",
   "version": "3.8.5"
  },
  "toc": {
   "base_numbering": 1,
   "nav_menu": {},
   "number_sections": true,
   "sideBar": true,
   "skip_h1_title": false,
   "title_cell": "Table of Contents",
   "title_sidebar": "Contents",
   "toc_cell": false,
   "toc_position": {},
   "toc_section_display": true,
   "toc_window_display": false
  }
 },
 "nbformat": 4,
 "nbformat_minor": 4
}
