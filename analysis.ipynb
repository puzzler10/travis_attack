{
 "cells": [
  {
   "cell_type": "code",
   "execution_count": 6,
   "metadata": {},
   "outputs": [
    {
     "name": "stdout",
     "output_type": "stream",
     "text": [
      "The autoreload extension is already loaded. To reload it, use:\n",
      "  %reload_ext autoreload\n"
     ]
    }
   ],
   "source": [
    "%load_ext autoreload\n",
    "%autoreload 2"
   ]
  },
  {
   "cell_type": "code",
   "execution_count": 7,
   "metadata": {},
   "outputs": [],
   "source": [
    "import pandas as pd, numpy as np, seaborn as sns\n",
    "import matplotlib.pyplot as plt\n",
    "import wandb\n",
    "from IPython.display import Markdown, display\n",
    "from IPython.core.debugger import set_trace"
   ]
  },
  {
   "cell_type": "code",
   "execution_count": 84,
   "metadata": {},
   "outputs": [],
   "source": [
    "seed = 420\n",
    "np.random.seed(seed)\n",
    "\n",
    "run_name = \"mild-jazz-178\"\n",
    "wandb_run_path = \"uts_nlp/travis_attack/36206pkc\"  # get this from wandb overview section \n",
    "\n",
    "# Init W&B run object\n",
    "api = wandb.Api()\n",
    "run = api.run(wandb_run_path)\n",
    "config = run.config\n",
    "\n",
    "# Load CSV files\n",
    "path_results = f\"../model_checkpoints/travis_attack/{run_name}/\"\n",
    "train            = pd.read_csv(path_results + \"train.csv\")\n",
    "valid            = pd.read_csv(path_results + \"valid.csv\")\n",
    "test             = pd.read_csv(path_results + \"test.csv\")\n",
    "training_step    = pd.read_csv(path_results + \"training_step.csv\")\n",
    "training_summary = pd.read_csv(path_results + \"training_summary.csv\")"
   ]
  },
  {
   "cell_type": "code",
   "execution_count": 85,
   "metadata": {},
   "outputs": [],
   "source": [
    "def display_all(df):\n",
    "    with pd.option_context(\"display.max_rows\", 1000): \n",
    "        with pd.option_context(\"display.max_columns\", 1000): \n",
    "            with pd.option_context(\"max_colwidth\", 480):\n",
    "                display(df) "
   ]
  },
  {
   "cell_type": "markdown",
   "metadata": {},
   "source": [
    "## General run information "
   ]
  },
  {
   "cell_type": "code",
   "execution_count": 86,
   "metadata": {
    "code_folding": [
     0
    ]
   },
   "outputs": [
    {
     "data": {
      "text/markdown": [
       "\n",
       "### Summary \n",
       "\n",
       "**Dataset**: rotten_tomatoes  \n",
       "**Paraphrase model**: `eugenesiow/bart-paraphrase`  \n",
       "**Victim model**: `textattack/distilbert-base-uncased-rotten-tomatoes`  \n",
       "**Semantic Textual Similarity model**: `sentence-transformers/paraphrase-multilingual-MiniLM-L12-v2`  \n",
       "**Number of epochs**: 30  \n",
       "**Reward function**: `[-0.5 if sts < 0.5 else 0.5+v*sts for v,sts in zip(vm_scores, sts_scores)]`  \n",
       "**Using the full dataset**: True   \n",
       "We freeze all layers of the paraphrase model except the last **2** layers.  \n",
       "We eval every **1** epochs.   \n",
       "\n",
       "### Paraphrase parameters \n",
       "**Decoding strategy**: greedy  \n",
       "**Number of beams**: 1  \n",
       "**Number of return sequences**: 1  \n",
       "**Max length**: 64  \n",
       "**Min length**: 5  \n",
       "**Temperature**: 1.5  \n",
       "**Length penalty**: 1  \n",
       "**Number of beam groups**: 1  \n",
       "**Diversity penalty**: 0  \n",
       "\n",
       "  \n",
       "### Run parameters\n",
       "**Seed**: 420  \n",
       "**Learning rate**: 3e-05  \n",
       "**Batch sizes:** Train: 32, Eval: 128  \n",
       "**Max number of tokens in input**: 64  \n",
       "**Remove initially misclassified examples**: True  \n",
       "**Input bucketed by length:** True  \n",
       "**Shuffle training data:** False  \n",
       "**Pad input data to multiple of**: 8  \n",
       "**Pad embedding matrices**: True  \n",
       "**Normalise rewards?**: False  \n",
       "**Gradient accumulation?**: False  \n",
       "\n",
       "### Low-level parameters \n",
       "**Use fp16 for training?**: True  \n",
       "**Use memory pinning with dataloaders?**: True  \n",
       "**Initilise gradients with `None` when running `zero_grad()`**: False  \n"
      ],
      "text/plain": [
       "<IPython.core.display.Markdown object>"
      ]
     },
     "execution_count": 86,
     "metadata": {},
     "output_type": "execute_result"
    }
   ],
   "source": [
    "## Some markdown below \n",
    "Markdown(f\"\"\"\n",
    "### Summary \n",
    "\n",
    "**Dataset**: {config['dataset_name']}  \n",
    "**Paraphrase model**: `{config['pp_name']}`  \n",
    "**Victim model**: `{config['vm_name']}`  \n",
    "**Semantic Textual Similarity model**: `{config['sts_name']}`  \n",
    "**Number of epochs**: {config['n_train_epochs']}  \n",
    "**Reward function**: `{config['reward_strategy']}`  \n",
    "**Using the full dataset**: {True if not config['use_small_ds'] else f\"False: n_shards set to {config['shard_params']['n_shards']} shards with shard_contiguous set to {config['shard_params']['shard_contiguous']}\"}   \n",
    "We freeze all layers of the paraphrase model except the last **{config['n_layers_frozen']}** layers.  \n",
    "We eval every **{config['eval_freq']}** epochs.   \n",
    "\n",
    "### Paraphrase parameters \n",
    "**Decoding strategy**: {config['sampling_strategy']}  \n",
    "**Number of beams**: {config['pp_model_params']['num_beams']}  \n",
    "**Number of return sequences**: {config['pp_model_params']['num_return_sequences']}  \n",
    "**Max length**: {config['pp_model_params']['max_length']}  \n",
    "**Min length**: {config['pp_model_params']['min_length']}  \n",
    "**Temperature**: {config['pp_model_params']['temperature']}  \n",
    "**Length penalty**: {config['pp_model_params']['length_penalty']}  \n",
    "**Number of beam groups**: {config['pp_model_params']['num_beam_groups']}  \n",
    "**Diversity penalty**: {config['pp_model_params']['diversity_penalty']}  \n",
    "\n",
    "  \n",
    "### Run parameters\n",
    "**Seed**: {config['seed']}  \n",
    "**Learning rate**: {config['lr']}  \n",
    "**Batch sizes:** Train: {config['batch_size_train']}, Eval: {config['batch_size_eval']}  \n",
    "**Max number of tokens in input**: {config['max_length']}  \n",
    "**Remove initially misclassified examples**: {config['remove_misclassified_examples']}  \n",
    "**Input bucketed by length:** {config['bucket_by_length']}  \n",
    "**Shuffle training data:** {config['shuffle_train']}  \n",
    "**Pad input data to multiple of**: {config['padding_multiple']}  \n",
    "**Pad embedding matrices**: {config['pad_token_embeddings']}  \n",
    "**Normalise rewards?**: {config['normalise_rewards']}  \n",
    "**Gradient accumulation?**: {False if config['accumulation_steps'] == 1  else f\"Every {config['accumulation_steps']} steps\"}  \n",
    "\n",
    "### Low-level parameters \n",
    "**Use fp16 for training?**: {config['fp16']}  \n",
    "**Use memory pinning with dataloaders?**: {config['pin_memory']}  \n",
    "**Initilise gradients with `None` when running `zero_grad()`**: {config['zero_grad_with_none']}  \n",
    "\"\"\")"
   ]
  },
  {
   "cell_type": "markdown",
   "metadata": {},
   "source": [
    "## Training summary "
   ]
  },
  {
   "cell_type": "code",
   "execution_count": 87,
   "metadata": {
    "code_folding": [
     0
    ]
   },
   "outputs": [
    {
     "data": {
      "text/markdown": [
       "For this one go to the [dashboard](https://wandb.ai/uts_nlp/travis_attack/36206pkc) and have a look at it manually"
      ],
      "text/plain": [
       "<IPython.core.display.Markdown object>"
      ]
     },
     "execution_count": 87,
     "metadata": {},
     "output_type": "execute_result"
    }
   ],
   "source": [
    "## Some markdown below\n",
    "Markdown(f\"\"\"For this one go to the [dashboard](https://wandb.ai/{wandb_run_path}) and have a look at it manually\"\"\")"
   ]
  },
  {
   "cell_type": "markdown",
   "metadata": {},
   "source": [
    "## Dataset-level stats"
   ]
  },
  {
   "cell_type": "code",
   "execution_count": 183,
   "metadata": {},
   "outputs": [],
   "source": [
    "df = training_step  # can set to train, valid or test (and maybe training_step)\n",
    "df = df.sort_values(by=['idx', \"epoch\"], axis=0)\n",
    "# Getting weird behaviour with group_by's so binning some of the numeric values\n",
    "df['sts_score'] = df['sts_score'].round(4) \n",
    "df['vm_score'] = df['vm_score'].round(4) \n",
    "df['reward'] = df['reward'].round(4) \n",
    "df['pp_truelabel_probs'] = df['pp_truelabel_probs'].round(4) \n",
    "\n",
    "#display_all(df)"
   ]
  },
  {
   "cell_type": "code",
   "execution_count": 185,
   "metadata": {},
   "outputs": [
    {
     "name": "stdout",
     "output_type": "stream",
     "text": [
      "Fraction of examples with more than one paraphrase tried: 0.677\n"
     ]
    },
    {
     "data": {
      "image/png": "[encoded data removed]",
      "text/plain": [
       "<Figure size 432x288 with 1 Axes>"
      ]
     },
     "metadata": {
      "needs_background": "light"
     },
     "output_type": "display_data"
    }
   ],
   "source": [
    "def add_number_of_unique_pps_per_idx(df): \n",
    "    df_grp = df.groupby(\"idx\").agg({\"pp_l\":\"nunique\"})\n",
    "    df_grp= df_grp.rename(columns = {\"pp_l\":\"idx_n_unique_pp\"})\n",
    "    # plot histogram\n",
    "    fig = sns.countplot(x='idx_n_unique_pp', data=df_grp) \n",
    "    plt.title(\"Distribution of the number of unique paraphrases per original example\")\n",
    "    plt.xlabel(\"Unique paraphrases\")\n",
    "    plt.ylabel(\"Count\") \n",
    "    # Add column to orig df and return \n",
    "    df = df.merge(df_grp, left_on='idx', right_index=True, how='left')\n",
    "    return df\n",
    "\n",
    "df = add_number_of_unique_pps_per_idx(df)\n",
    "# some summary statistics \n",
    "counts = df[['idx','idx_n_unique_pp']].drop_duplicates()['idx_n_unique_pp'].value_counts()\n",
    "print(f\"Fraction of examples with more than one paraphrase tried: {1 - (counts.iloc[0]/sum(counts)).round(3)}\")"
   ]
  },
  {
   "cell_type": "code",
   "execution_count": 186,
   "metadata": {},
   "outputs": [
    {
     "data": {
      "image/png": "[encoded data removed]",
      "text/plain": [
       "<Figure size 432x288 with 1 Axes>"
      ]
     },
     "metadata": {
      "needs_background": "light"
     },
     "output_type": "display_data"
    }
   ],
   "source": [
    "def add_number_of_pp_changes_per_idx(df): \n",
    "    df['pp_changed'] = df.sort_values([\"idx\",\"epoch\"]).groupby('idx')['pp_l'].shift().ne(df['pp_l']).astype(int)\n",
    "    df_grp = df.groupby('idx').agg({'pp_changed': 'sum'})\n",
    "    df_grp= df_grp.rename(columns = {\"pp_changed\":\"idx_n_pp_changes\"})\n",
    "    df_grp['idx_n_pp_changes'] -= 1  # The first paraphrase isn't a change\n",
    "    df = df.drop('pp_changed', 1) # don't need this anymore \n",
    "    \n",
    "    # Plot histogram\n",
    "    fig = sns.countplot(x='idx_n_pp_changes', data=df_grp) \n",
    "    plt.title(\"Distribution of the number of paraphrase changes during training per original example\")\n",
    "    plt.xlabel(\"Paraphrase changes\")\n",
    "    plt.ylabel(\"Count\")\n",
    "    \n",
    "    # Add column to orig df before returning \n",
    "    df = df.merge(df_grp, left_on='idx', right_index=True, how='left')\n",
    "    return df \n",
    "df = add_number_of_pp_changes_per_idx(df)"
   ]
  },
  {
   "cell_type": "code",
   "execution_count": 187,
   "metadata": {},
   "outputs": [
    {
     "name": "stdout",
     "output_type": "stream",
     "text": [
      "Fraction of examples with a label flip at some point: 0.07599999999999996\n"
     ]
    },
    {
     "data": {
      "image/png": "[encoded data removed]",
      "text/plain": [
       "<Figure size 432x288 with 1 Axes>"
      ]
     },
     "metadata": {
      "needs_background": "light"
     },
     "output_type": "display_data"
    }
   ],
   "source": [
    "def add_epoch_of_first_label_flip(df): \n",
    "    rownum_of_first_flip = df.groupby('idx')[['epoch','label_flip']].idxmax()['label_flip']\n",
    "    ## idxmax returns first max\n",
    "    df_grp = df[['idx','epoch']].loc[rownum_of_first_flip]\n",
    "    df_grp= df_grp.rename(columns = {\"epoch\":\"epoch_of_first_label_flip\"})\n",
    "    fig = sns.countplot(x='epoch_of_first_label_flip', data=df_grp)\n",
    "    plt.title(\"Distribution of the epoch a label flip first occurs for each original example\")\n",
    "    plt.xlabel(\"Epoch\")\n",
    "    plt.ylabel(\"Count\")\n",
    "    df = df.merge(df_grp, left_on='idx', right_on='idx', how='left')\n",
    "    return df\n",
    "df = add_epoch_of_first_label_flip(df)\n",
    "# some summary statistics \n",
    "counts = df[['idx','epoch_of_first_label_flip']].drop_duplicates()['epoch_of_first_label_flip'].value_counts()\n",
    "print(f\"Fraction of examples with a label flip at some point: {1 - (counts.iloc[0]/sum(counts)).round(3)}\")\n"
   ]
  },
  {
   "cell_type": "code",
   "execution_count": 188,
   "metadata": {},
   "outputs": [],
   "source": [
    "# Sampling some low sts score examples \n",
    "#display_all(df.query('sts_score < 0.7').sort_values('sts_score').sample(10)[['orig_l','pp_l','sts_score']])"
   ]
  },
  {
   "cell_type": "markdown",
   "metadata": {},
   "source": [
    "## Individual examples "
   ]
  },
  {
   "cell_type": "code",
   "execution_count": 189,
   "metadata": {},
   "outputs": [],
   "source": [
    "def get_interesting_idx(df, n):\n",
    "    def get_idx_with_top_column_values(cname, n=5, ascending=False):\n",
    "        return df[['idx',cname]].\\\n",
    "            drop_duplicates().\\\n",
    "            sort_values(cname, ascending=ascending)\\\n",
    "            ['idx'][0:n].values.tolist()\n",
    "    \n",
    "    def sample_idx_with_label_flips(n=5): \n",
    "        return df[['idx','epoch_of_first_label_flip']].\\\n",
    "            query(\"epoch_of_first_label_flip!=0\").\\\n",
    "            drop_duplicates()\\\n",
    "            ['idx'].sample(n).values.tolist()\n",
    "    \n",
    "    idx_d = dict(\n",
    "        random           = df.idx.drop_duplicates().sample(n).tolist(),\n",
    "        label_flips = sample_idx_with_label_flips(n=n),\n",
    "        idx_n_unique_pp  = get_idx_with_top_column_values('idx_n_unique_pp',n=n,ascending=False),\n",
    "       # idx_n_pp_changes = get_idx_with_top_column_values('idx_n_pp_changes',n=n,ascending=False),\n",
    "        low_sts = get_idx_with_top_column_values('sts_score',n=n,ascending=True)\n",
    "      #  orig_long = None, \n",
    "      #  orig_short = None,\n",
    "    )\n",
    "    return idx_d\n"
   ]
  },
  {
   "cell_type": "code",
   "execution_count": 190,
   "metadata": {},
   "outputs": [],
   "source": [
    "n=5\n",
    "idx_d = get_interesting_idx(df, n)\n",
    "#idx_d\n",
    "\n",
    "def print_stats(key,i):\n",
    "    print(\"\\n###############\\n\")\n",
    "    print(key, i, \"\\n\")\n",
    "    idx = idx_d[key][i]\n",
    "    # Setup \n",
    "    df1 = df.query('idx==@idx')\n",
    "    orig = pd.unique(df1['orig_l'])[0]\n",
    "    print(\"Original:\", orig)\n",
    "    print(\"Original label\", pd.unique(df1['truelabel'])[0] )\n",
    "    pp_all = list(df1['pp_l'])\n",
    "    #print(\"All paraphrases\", pp_all)\n",
    "    pp_unique = list(pd.unique(df1['pp_l']))\n",
    "    n_pp_unique = len(pp_unique)\n",
    "\n",
    "    # showing a \"timeline\" of how the paraphrases change over the epochs\n",
    "    g_fields = [\"pp_l\",\"pp_truelabel_probs\",\"vm_score\",\"sts_score\",\"reward\",\"label_flip\"]\n",
    "    #g_fields = [\"pp_l\",\"vm_score\"]\n",
    "    g = df1.groupby(g_fields).agg({'epoch' : lambda x: list(x)})\n",
    "    g = g.sort_values(by='epoch', key = lambda col: col.map(lambda x: np.min(x)))\n",
    "    print(\"Unique paraphrases:\", n_pp_unique)\n",
    "    print(\"How the paraphrases change:\")\n",
    "    display_all(g)\n",
    "\n",
    "    # Showing a dataframe of the few best paraphrases\n",
    "    best_pps = df1.sort_values('pp_truelabel_probs').iloc[0]\n",
    "    print(\"Best Paraphrase\")\n",
    "    display_all(best_pps.to_frame().T)\n",
    "\n",
    "    #print(\"Everything\")\n",
    "    #display_all(df1)\n",
    "  \n",
    "for key in idx_d.keys():\n",
    "    for i in range(n): \n",
    "        print_stats(key,i)"
   ]
  },
  {
   "cell_type": "code",
   "execution_count": null,
   "metadata": {},
   "outputs": [],
   "source": []
  }
 ],
 "metadata": {
  "kernelspec": {
   "display_name": "Python 3",
   "language": "python",
   "name": "python3"
  },
  "language_info": {
   "codemirror_mode": {
    "name": "ipython",
    "version": 3
   },
   "file_extension": ".py",
   "mimetype": "text/x-python",
   "name": "python",
   "nbconvert_exporter": "python",
   "pygments_lexer": "ipython3",
   "version": "3.8.5"
  },
  "toc": {
   "base_numbering": 1,
   "nav_menu": {},
   "number_sections": true,
   "sideBar": true,
   "skip_h1_title": false,
   "title_cell": "Table of Contents",
   "title_sidebar": "Contents",
   "toc_cell": false,
   "toc_position": {},
   "toc_section_display": true,
   "toc_window_display": false
  }
 },
 "nbformat": 4,
 "nbformat_minor": 4
}
