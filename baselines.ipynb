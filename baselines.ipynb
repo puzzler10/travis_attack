{
 "cells": [
  {
   "cell_type": "code",
   "execution_count": null,
   "metadata": {},
   "outputs": [],
   "source": [
    "%load_ext autoreload\n",
    "%autoreload 2\n",
    "%load_ext line_profiler"
   ]
  },
  {
   "cell_type": "code",
   "execution_count": null,
   "metadata": {},
   "outputs": [],
   "source": [
    "import transformers, nltk, pandas as pd, torch, string\n",
    "from datasets import load_dataset, load_from_disk, DatasetDict, ClassLabel\n",
    "from pprint import pprint\n",
    "from datetime import datetime\n",
    "import argparse\n",
    "import functools\n",
    "\n",
    "\n",
    "from textattack import Attack, AttackArgs,Attacker\n",
    "from textattack.models.wrappers import HuggingFaceModelWrapper\n",
    "from textattack.datasets import HuggingFaceDataset\n",
    "from textattack.loggers import CSVLogger # tracks a dataframe for us.\n",
    "from textattack.attack_recipes import AttackRecipe\n",
    "from textattack.search_methods import BeamSearch\n",
    "from textattack.constraints import Constraint\n",
    "from textattack.constraints.pre_transformation import RepeatModification, StopwordModification\n",
    "from textattack.transformations import WordSwapEmbedding, WordSwapMaskedLM\n",
    "from textattack.goal_functions import UntargetedClassification\n",
    "from textattack.metrics.attack_metrics.attack_success_rate import AttackSuccessRate\n",
    "from textattack.metrics.attack_metrics.words_perturbed import WordsPerturbed\n",
    "from textattack.metrics.attack_metrics.attack_queries import AttackQueries\n",
    "from textattack.metrics.quality_metrics.perplexity import Perplexity\n",
    "from textattack.metrics.quality_metrics.use import USEMetric\n",
    "from sentence_transformers.util import pytorch_cos_sim\n",
    "\n",
    "from travis_attack.utils import display_all, merge_dicts, append_df_to_csv, set_seed\n",
    "from travis_attack.data import prep_dsd_rotten_tomatoes,prep_dsd_simple,prep_dsd_financial\n",
    "from travis_attack.config import Config\n",
    "from travis_attack.models import _prepare_vm_tokenizer_and_model, get_vm_probs, prepare_models, get_nli_probs\n",
    "from travis_attack.baseline_attacks import AttackRecipes, setup_baselines_parser\n",
    "from fastcore.basics import in_jupyter\n",
    "\n",
    "\n",
    "import warnings\n",
    "warnings.filterwarnings(\"ignore\", message=\"FutureWarning: The frame.append method is deprecated\") \n",
    "\n",
    "path_baselines = \"./baselines/\"\n",
    "\n",
    "set_seed(1000)\n"
   ]
  },
  {
   "cell_type": "code",
   "execution_count": null,
   "metadata": {},
   "outputs": [
    {
     "name": "stdout",
     "output_type": "stream",
     "text": [
      "[NbConvertApp] Converting notebook baselines.ipynb to python\r\n"
     ]
    }
   ],
   "source": [
    "!jupyter nbconvert \\\n",
    "    --TagRemovePreprocessor.enabled=True \\\n",
    "    --TagRemovePreprocessor.remove_cell_tags=\"['hide']\" \\\n",
    "    --TemplateExporter.exclude_markdown=True \\\n",
    "    --to python \"baselines.ipynb\""
   ]
  },
  {
   "cell_type": "code",
   "execution_count": null,
   "metadata": {},
   "outputs": [],
   "source": [
    "######### CONFIG (default values) #########\n",
    "param_d = dict(\n",
    "    ds_name = \"financial\",\n",
    "    split='test',\n",
    "    sts_threshold = 0.8,\n",
    "    contradiction_threshold = 0.2,\n",
    "    acceptability_threshold = 0.5,\n",
    "    pp_letter_diff_threshold = 30\n",
    ")\n",
    "###########################################\n",
    "\n",
    "if not in_jupyter():  # override with any script options\n",
    "    parser = setup_baselines_parser()\n",
    "    newargs = vars(parser.parse_args())\n",
    "    for k,v in newargs.items(): \n",
    "        if v is not None: param_d[k] = v"
   ]
  },
  {
   "cell_type": "code",
   "execution_count": null,
   "metadata": {},
   "outputs": [
    {
     "name": "stderr",
     "output_type": "stream",
     "text": [
      "Reusing dataset financial_phrasebank (/data/tproth/.cache/huggingface/datasets/financial_phrasebank/sentences_50agree/1.0.0/a6d468761d4e0c8ae215c77367e1092bead39deb08fbf4bffd7c0a6991febbf0)\n"
     ]
    },
    {
     "data": {
      "application/vnd.jupyter.widget-view+json": {
       "model_id": "09a46dba3d27414b83ef79e286ef77b0",
       "version_major": 2,
       "version_minor": 0
      },
      "text/plain": [
       "HBox(children=(FloatProgress(value=0.0, max=1.0), HTML(value='')))"
      ]
     },
     "metadata": {},
     "output_type": "display_data"
    },
    {
     "name": "stderr",
     "output_type": "stream",
     "text": [
      "Loading cached split indices for dataset at /data/tproth/.cache/huggingface/datasets/financial_phrasebank/sentences_50agree/1.0.0/a6d468761d4e0c8ae215c77367e1092bead39deb08fbf4bffd7c0a6991febbf0/cache-8cd79ddb74449b16.arrow and /data/tproth/.cache/huggingface/datasets/financial_phrasebank/sentences_50agree/1.0.0/a6d468761d4e0c8ae215c77367e1092bead39deb08fbf4bffd7c0a6991febbf0/cache-767acf0081605736.arrow\n",
      "Loading cached split indices for dataset at /data/tproth/.cache/huggingface/datasets/financial_phrasebank/sentences_50agree/1.0.0/a6d468761d4e0c8ae215c77367e1092bead39deb08fbf4bffd7c0a6991febbf0/cache-8bc5c0fec38cf232.arrow and /data/tproth/.cache/huggingface/datasets/financial_phrasebank/sentences_50agree/1.0.0/a6d468761d4e0c8ae215c77367e1092bead39deb08fbf4bffd7c0a6991febbf0/cache-ea0232ccd720d2dc.arrow\n"
     ]
    },
    {
     "name": "stdout",
     "output_type": "stream",
     "text": [
      "\n"
     ]
    },
    {
     "data": {
      "application/vnd.jupyter.widget-view+json": {
       "model_id": "f08a1500015f4d01ad1de974ac16db4a",
       "version_major": 2,
       "version_minor": 0
      },
      "text/plain": [
       "HBox(children=(FloatProgress(value=0.0, max=4.0), HTML(value='')))"
      ]
     },
     "metadata": {},
     "output_type": "display_data"
    },
    {
     "name": "stdout",
     "output_type": "stream",
     "text": [
      "\n"
     ]
    },
    {
     "data": {
      "application/vnd.jupyter.widget-view+json": {
       "model_id": "6a5634c93044425c98c43b9f4da23cc6",
       "version_major": 2,
       "version_minor": 0
      },
      "text/plain": [
       "HBox(children=(FloatProgress(value=0.0, max=1.0), HTML(value='')))"
      ]
     },
     "metadata": {},
     "output_type": "display_data"
    },
    {
     "name": "stdout",
     "output_type": "stream",
     "text": [
      "\n"
     ]
    },
    {
     "data": {
      "application/vnd.jupyter.widget-view+json": {
       "model_id": "eeed7221496a4f249ecb32ccf5f075c7",
       "version_major": 2,
       "version_minor": 0
      },
      "text/plain": [
       "HBox(children=(FloatProgress(value=0.0, max=1.0), HTML(value='')))"
      ]
     },
     "metadata": {},
     "output_type": "display_data"
    },
    {
     "name": "stdout",
     "output_type": "stream",
     "text": [
      "\n"
     ]
    },
    {
     "data": {
      "application/vnd.jupyter.widget-view+json": {
       "model_id": "d4acf160714a43e68d58a9a2054ff64a",
       "version_major": 2,
       "version_minor": 0
      },
      "text/plain": [
       "HBox(children=(FloatProgress(value=0.0, max=4.0), HTML(value='')))"
      ]
     },
     "metadata": {},
     "output_type": "display_data"
    },
    {
     "name": "stdout",
     "output_type": "stream",
     "text": [
      "\n"
     ]
    },
    {
     "data": {
      "application/vnd.jupyter.widget-view+json": {
       "model_id": "b23e5acc308f4ec79aae8604de293a7e",
       "version_major": 2,
       "version_minor": 0
      },
      "text/plain": [
       "HBox(children=(FloatProgress(value=0.0, max=1.0), HTML(value='')))"
      ]
     },
     "metadata": {},
     "output_type": "display_data"
    },
    {
     "name": "stdout",
     "output_type": "stream",
     "text": [
      "\n"
     ]
    },
    {
     "data": {
      "application/vnd.jupyter.widget-view+json": {
       "model_id": "5a0b88acf374417baa1aa78ed401abb3",
       "version_major": 2,
       "version_minor": 0
      },
      "text/plain": [
       "HBox(children=(FloatProgress(value=0.0, max=1.0), HTML(value='')))"
      ]
     },
     "metadata": {},
     "output_type": "display_data"
    },
    {
     "name": "stdout",
     "output_type": "stream",
     "text": [
      "\n"
     ]
    },
    {
     "data": {
      "application/vnd.jupyter.widget-view+json": {
       "model_id": "4038ee0527b94b2382269ddf75713f5e",
       "version_major": 2,
       "version_minor": 0
      },
      "text/plain": [
       "HBox(children=(FloatProgress(value=0.0, max=4.0), HTML(value='')))"
      ]
     },
     "metadata": {},
     "output_type": "display_data"
    },
    {
     "name": "stdout",
     "output_type": "stream",
     "text": [
      "\n"
     ]
    },
    {
     "data": {
      "application/vnd.jupyter.widget-view+json": {
       "model_id": "45ee4abcacce4c1c9764286c409f6fff",
       "version_major": 2,
       "version_minor": 0
      },
      "text/plain": [
       "HBox(children=(FloatProgress(value=0.0, max=1.0), HTML(value='')))"
      ]
     },
     "metadata": {},
     "output_type": "display_data"
    },
    {
     "name": "stdout",
     "output_type": "stream",
     "text": [
      "\n"
     ]
    },
    {
     "data": {
      "application/vnd.jupyter.widget-view+json": {
       "model_id": "921191c174824e489dba9e54567914e6",
       "version_major": 2,
       "version_minor": 0
      },
      "text/plain": [
       "HBox(children=(FloatProgress(value=0.0, max=1.0), HTML(value='')))"
      ]
     },
     "metadata": {},
     "output_type": "display_data"
    },
    {
     "name": "stdout",
     "output_type": "stream",
     "text": [
      "\n"
     ]
    },
    {
     "data": {
      "application/vnd.jupyter.widget-view+json": {
       "model_id": "60cd29cb09734295b0c21277566fe75e",
       "version_major": 2,
       "version_minor": 0
      },
      "text/plain": [
       "HBox(children=(FloatProgress(value=0.0, max=4.0), HTML(value='')))"
      ]
     },
     "metadata": {},
     "output_type": "display_data"
    },
    {
     "name": "stdout",
     "output_type": "stream",
     "text": [
      "\n"
     ]
    },
    {
     "data": {
      "application/vnd.jupyter.widget-view+json": {
       "model_id": "91436e69bc654370927e0cc06cbca807",
       "version_major": 2,
       "version_minor": 0
      },
      "text/plain": [
       "HBox(children=(FloatProgress(value=0.0, max=1.0), HTML(value='')))"
      ]
     },
     "metadata": {},
     "output_type": "display_data"
    },
    {
     "name": "stdout",
     "output_type": "stream",
     "text": [
      "\n"
     ]
    },
    {
     "data": {
      "application/vnd.jupyter.widget-view+json": {
       "model_id": "2e6db545fd134e45bebf178e69d35607",
       "version_major": 2,
       "version_minor": 0
      },
      "text/plain": [
       "HBox(children=(FloatProgress(value=0.0, max=1.0), HTML(value='')))"
      ]
     },
     "metadata": {},
     "output_type": "display_data"
    },
    {
     "name": "stdout",
     "output_type": "stream",
     "text": [
      "\n"
     ]
    },
    {
     "data": {
      "application/vnd.jupyter.widget-view+json": {
       "model_id": "8a09058ee3834204a0729373b64594a6",
       "version_major": 2,
       "version_minor": 0
      },
      "text/plain": [
       "HBox(children=(FloatProgress(value=0.0, max=4.0), HTML(value='')))"
      ]
     },
     "metadata": {},
     "output_type": "display_data"
    },
    {
     "name": "stdout",
     "output_type": "stream",
     "text": [
      "\n"
     ]
    },
    {
     "data": {
      "application/vnd.jupyter.widget-view+json": {
       "model_id": "352f3ef466c04404a5955bb9ea0b8814",
       "version_major": 2,
       "version_minor": 0
      },
      "text/plain": [
       "HBox(children=(FloatProgress(value=0.0, max=1.0), HTML(value='')))"
      ]
     },
     "metadata": {},
     "output_type": "display_data"
    },
    {
     "name": "stdout",
     "output_type": "stream",
     "text": [
      "\n"
     ]
    },
    {
     "data": {
      "application/vnd.jupyter.widget-view+json": {
       "model_id": "12fb71af5960463b9edd0d663aeff98f",
       "version_major": 2,
       "version_minor": 0
      },
      "text/plain": [
       "HBox(children=(FloatProgress(value=0.0, max=1.0), HTML(value='')))"
      ]
     },
     "metadata": {},
     "output_type": "display_data"
    },
    {
     "name": "stdout",
     "output_type": "stream",
     "text": [
      "\n"
     ]
    },
    {
     "data": {
      "application/vnd.jupyter.widget-view+json": {
       "model_id": "5d5d96fb999d466cb457d638888e265e",
       "version_major": 2,
       "version_minor": 0
      },
      "text/plain": [
       "HBox(children=(FloatProgress(value=0.0, max=4.0), HTML(value='')))"
      ]
     },
     "metadata": {},
     "output_type": "display_data"
    },
    {
     "name": "stdout",
     "output_type": "stream",
     "text": [
      "\n"
     ]
    },
    {
     "data": {
      "application/vnd.jupyter.widget-view+json": {
       "model_id": "4abda15cf1584705bef35866219eb0f4",
       "version_major": 2,
       "version_minor": 0
      },
      "text/plain": [
       "HBox(children=(FloatProgress(value=0.0, max=1.0), HTML(value='')))"
      ]
     },
     "metadata": {},
     "output_type": "display_data"
    },
    {
     "name": "stdout",
     "output_type": "stream",
     "text": [
      "\n"
     ]
    },
    {
     "data": {
      "application/vnd.jupyter.widget-view+json": {
       "model_id": "d23d3a0738ce458683aafb2228109af2",
       "version_major": 2,
       "version_minor": 0
      },
      "text/plain": [
       "HBox(children=(FloatProgress(value=0.0, max=1.0), HTML(value='')))"
      ]
     },
     "metadata": {},
     "output_type": "display_data"
    },
    {
     "name": "stdout",
     "output_type": "stream",
     "text": [
      "\n"
     ]
    },
    {
     "data": {
      "application/vnd.jupyter.widget-view+json": {
       "model_id": "b233d72db55647ccaad406b024603d2d",
       "version_major": 2,
       "version_minor": 0
      },
      "text/plain": [
       "HBox(children=(FloatProgress(value=0.0, max=4.0), HTML(value='')))"
      ]
     },
     "metadata": {},
     "output_type": "display_data"
    },
    {
     "name": "stdout",
     "output_type": "stream",
     "text": [
      "\n"
     ]
    },
    {
     "data": {
      "application/vnd.jupyter.widget-view+json": {
       "model_id": "6489c86d7a18456d9f66e86560a77d53",
       "version_major": 2,
       "version_minor": 0
      },
      "text/plain": [
       "HBox(children=(FloatProgress(value=0.0, max=1.0), HTML(value='')))"
      ]
     },
     "metadata": {},
     "output_type": "display_data"
    },
    {
     "name": "stdout",
     "output_type": "stream",
     "text": [
      "\n"
     ]
    },
    {
     "data": {
      "application/vnd.jupyter.widget-view+json": {
       "model_id": "1e4bcdbc6a9e4dd9a1c3da10fa11b28c",
       "version_major": 2,
       "version_minor": 0
      },
      "text/plain": [
       "HBox(children=(FloatProgress(value=0.0, max=1.0), HTML(value='')))"
      ]
     },
     "metadata": {},
     "output_type": "display_data"
    },
    {
     "name": "stdout",
     "output_type": "stream",
     "text": [
      "\n"
     ]
    },
    {
     "data": {
      "application/vnd.jupyter.widget-view+json": {
       "model_id": "0675031f65f04befbcfe7af5e9ace669",
       "version_major": 2,
       "version_minor": 0
      },
      "text/plain": [
       "HBox(children=(FloatProgress(value=0.0, max=4.0), HTML(value='')))"
      ]
     },
     "metadata": {},
     "output_type": "display_data"
    },
    {
     "name": "stdout",
     "output_type": "stream",
     "text": [
      "\n"
     ]
    },
    {
     "data": {
      "application/vnd.jupyter.widget-view+json": {
       "model_id": "d847bc9019b54e488fd19d0867c65db1",
       "version_major": 2,
       "version_minor": 0
      },
      "text/plain": [
       "HBox(children=(FloatProgress(value=0.0, max=1.0), HTML(value='')))"
      ]
     },
     "metadata": {},
     "output_type": "display_data"
    },
    {
     "name": "stdout",
     "output_type": "stream",
     "text": [
      "\n"
     ]
    },
    {
     "data": {
      "application/vnd.jupyter.widget-view+json": {
       "model_id": "0080b8225b484929b445b73c8f8308fb",
       "version_major": 2,
       "version_minor": 0
      },
      "text/plain": [
       "HBox(children=(FloatProgress(value=0.0, max=1.0), HTML(value='')))"
      ]
     },
     "metadata": {},
     "output_type": "display_data"
    },
    {
     "name": "stdout",
     "output_type": "stream",
     "text": [
      "\n"
     ]
    },
    {
     "data": {
      "application/vnd.jupyter.widget-view+json": {
       "model_id": "14df521f432547f6bccc4ee95a90ff24",
       "version_major": 2,
       "version_minor": 0
      },
      "text/plain": [
       "HBox(children=(FloatProgress(value=0.0, max=2.0), HTML(value='')))"
      ]
     },
     "metadata": {},
     "output_type": "display_data"
    },
    {
     "name": "stdout",
     "output_type": "stream",
     "text": [
      "\n"
     ]
    },
    {
     "data": {
      "application/vnd.jupyter.widget-view+json": {
       "model_id": "bf8e274e64f6463c8caa2e62d5d681b4",
       "version_major": 2,
       "version_minor": 0
      },
      "text/plain": [
       "HBox(children=(FloatProgress(value=0.0, max=1.0), HTML(value='')))"
      ]
     },
     "metadata": {},
     "output_type": "display_data"
    },
    {
     "name": "stdout",
     "output_type": "stream",
     "text": [
      "\n"
     ]
    },
    {
     "data": {
      "application/vnd.jupyter.widget-view+json": {
       "model_id": "93e0386129584ed0bdbc188ffc0168ab",
       "version_major": 2,
       "version_minor": 0
      },
      "text/plain": [
       "HBox(children=(FloatProgress(value=0.0, max=1.0), HTML(value='')))"
      ]
     },
     "metadata": {},
     "output_type": "display_data"
    },
    {
     "name": "stdout",
     "output_type": "stream",
     "text": [
      "\n"
     ]
    },
    {
     "data": {
      "application/vnd.jupyter.widget-view+json": {
       "model_id": "c5e3aaceda4440cf99598a67ef708473",
       "version_major": 2,
       "version_minor": 0
      },
      "text/plain": [
       "HBox(children=(FloatProgress(value=0.0, description='Flattening the indices', max=2.0, style=ProgressStyle(des…"
      ]
     },
     "metadata": {},
     "output_type": "display_data"
    },
    {
     "name": "stdout",
     "output_type": "stream",
     "text": [
      "\n"
     ]
    },
    {
     "data": {
      "application/vnd.jupyter.widget-view+json": {
       "model_id": "aab5ca7872ec43c48f15f9ae0dba3404",
       "version_major": 2,
       "version_minor": 0
      },
      "text/plain": [
       "HBox(children=(FloatProgress(value=0.0, description='Flattening the indices', max=1.0, style=ProgressStyle(des…"
      ]
     },
     "metadata": {},
     "output_type": "display_data"
    },
    {
     "name": "stdout",
     "output_type": "stream",
     "text": [
      "\n"
     ]
    },
    {
     "data": {
      "application/vnd.jupyter.widget-view+json": {
       "model_id": "5c36e67f42bf4f4abc92de3553bd9249",
       "version_major": 2,
       "version_minor": 0
      },
      "text/plain": [
       "HBox(children=(FloatProgress(value=0.0, description='Flattening the indices', max=1.0, style=ProgressStyle(des…"
      ]
     },
     "metadata": {},
     "output_type": "display_data"
    },
    {
     "name": "stdout",
     "output_type": "stream",
     "text": [
      "\n"
     ]
    },
    {
     "data": {
      "application/vnd.jupyter.widget-view+json": {
       "model_id": "113c215ae7044fccb6861a549b471849",
       "version_major": 2,
       "version_minor": 0
      },
      "text/plain": [
       "HBox(children=(FloatProgress(value=0.0, description='Flattening the indices', max=2.0, style=ProgressStyle(des…"
      ]
     },
     "metadata": {},
     "output_type": "display_data"
    },
    {
     "name": "stdout",
     "output_type": "stream",
     "text": [
      "\n"
     ]
    },
    {
     "data": {
      "application/vnd.jupyter.widget-view+json": {
       "model_id": "515f3f31e00b4057b818b531fa777b2b",
       "version_major": 2,
       "version_minor": 0
      },
      "text/plain": [
       "HBox(children=(FloatProgress(value=0.0, description='Flattening the indices', max=1.0, style=ProgressStyle(des…"
      ]
     },
     "metadata": {},
     "output_type": "display_data"
    },
    {
     "name": "stdout",
     "output_type": "stream",
     "text": [
      "\n"
     ]
    },
    {
     "data": {
      "application/vnd.jupyter.widget-view+json": {
       "model_id": "0485feba4d2241bdada5a6e51fbf47de",
       "version_major": 2,
       "version_minor": 0
      },
      "text/plain": [
       "HBox(children=(FloatProgress(value=0.0, description='Flattening the indices', max=1.0, style=ProgressStyle(des…"
      ]
     },
     "metadata": {},
     "output_type": "display_data"
    },
    {
     "name": "stderr",
     "output_type": "stream",
     "text": [
      "textattack: Unknown if model of class <class 'transformers.models.roberta.modeling_roberta.RobertaForSequenceClassification'> compatible with goal function <class 'textattack.goal_functions.classification.untargeted_classification.UntargetedClassification'>.\n"
     ]
    },
    {
     "name": "stdout",
     "output_type": "stream",
     "text": [
      "\n"
     ]
    },
    {
     "name": "stderr",
     "output_type": "stream",
     "text": [
      "If you want to use `RobertaLMHeadModel` as a standalone, add `is_decoder=True.`\n"
     ]
    }
   ],
   "source": [
    "### Common attack components\n",
    "attack_recipes = AttackRecipes(param_d)\n",
    "attack_list = attack_recipes.get_attack_list()"
   ]
  },
  {
   "cell_type": "markdown",
   "metadata": {},
   "source": [
    "## Attack "
   ]
  },
  {
   "cell_type": "code",
   "execution_count": null,
   "metadata": {},
   "outputs": [
    {
     "name": "stderr",
     "output_type": "stream",
     "text": [
      "textattack: Logging to CSV at path ./baselines/2022-07-04_145655_financial_test_LM-WR-BS-b2m5.csv\n",
      "  0%|          | 0/3 [00:00<?, ?it/s]"
     ]
    },
    {
     "name": "stdout",
     "output_type": "stream",
     "text": [
      "Attack(\n",
      "  (search_method): BeamSearch(\n",
      "    (beam_width):  2\n",
      "  )\n",
      "  (goal_function):  UntargetedClassification\n",
      "  (transformation):  WordSwapMaskedLM(\n",
      "    (method):  bae\n",
      "    (masked_lm_name):  RobertaForCausalLM\n",
      "    (max_length):  512\n",
      "    (max_candidates):  5\n",
      "    (min_confidence):  0.0005\n",
      "  )\n",
      "  (constraints): \n",
      "    (0): StsScoreConstraint(\n",
      "        (compare_against_original):  True\n",
      "      )\n",
      "    (1): ContradictionScoreConstraint(\n",
      "        (compare_against_original):  True\n",
      "      )\n",
      "    (2): AcceptabilityScoreConstraint(\n",
      "        (compare_against_original):  True\n",
      "      )\n",
      "    (3): PpLetterDiffConstraint(\n",
      "        (compare_against_original):  True\n",
      "      )\n",
      "    (4): LCPConstraint(\n",
      "        (compare_against_original):  True\n",
      "      )\n",
      "    (5): RepeatModification\n",
      "    (6): StopwordModification\n",
      "  (is_black_box):  True\n",
      ") \n",
      "\n"
     ]
    },
    {
     "name": "stderr",
     "output_type": "stream",
     "text": [
      " 33%|███▎      | 1/3 [00:13<00:26, 13.19s/it]/home/tproth/Programs/miniconda/envs/nlp_env/lib/python3.8/site-packages/textattack/loggers/csv_logger.py:41: FutureWarning: The frame.append method is deprecated and will be removed from pandas in a future version. Use pandas.concat instead.\n",
      "  self.df = self.df.append(row, ignore_index=True)\n",
      "[Succeeded / Failed / Skipped / Total] 1 / 0 / 0 / 1:  67%|██████▋   | 2/3 [00:18<00:09,  9.44s/it]/home/tproth/Programs/miniconda/envs/nlp_env/lib/python3.8/site-packages/textattack/loggers/csv_logger.py:41: FutureWarning: The frame.append method is deprecated and will be removed from pandas in a future version. Use pandas.concat instead.\n",
      "  self.df = self.df.append(row, ignore_index=True)\n",
      "[Succeeded / Failed / Skipped / Total] 1 / 1 / 0 / 2: 100%|██████████| 3/3 [00:22<00:00,  7.64s/it]/home/tproth/Programs/miniconda/envs/nlp_env/lib/python3.8/site-packages/textattack/loggers/csv_logger.py:41: FutureWarning: The frame.append method is deprecated and will be removed from pandas in a future version. Use pandas.concat instead.\n",
      "  self.df = self.df.append(row, ignore_index=True)\n",
      "[Succeeded / Failed / Skipped / Total] 2 / 1 / 0 / 3: 100%|██████████| 3/3 [00:22<00:00,  7.65s/it]\n"
     ]
    },
    {
     "name": "stdout",
     "output_type": "stream",
     "text": [
      "\n",
      "+-------------------------------+--------+\n",
      "| Attack Results                |        |\n",
      "+-------------------------------+--------+\n",
      "| Number of successful attacks: | 2      |\n",
      "| Number of failed attacks:     | 1      |\n",
      "| Number of skipped attacks:    | 0      |\n",
      "| Original accuracy:            | 100.0% |\n",
      "| Accuracy under attack:        | 33.33% |\n",
      "| Attack success rate:          | 66.67% |\n",
      "| Average perturbed word %:     | 26.24% |\n",
      "| Average num. words per input: | 16.0   |\n",
      "| Avg num queries:              | 80.33  |\n",
      "| Average Original Perplexity:  | 573.64 |\n",
      "| Average Attack Perplexity:    | 761.11 |\n",
      "| Average Attack USE Score:     | 0.71   |\n",
      "+-------------------------------+--------+\n"
     ]
    },
    {
     "name": "stderr",
     "output_type": "stream",
     "text": [
      "textattack: Logging to CSV at path ./baselines/2022-07-04_145745_financial_test_LM-WR-BS-b5m25.csv\n",
      "  0%|          | 0/3 [00:00<?, ?it/s]"
     ]
    },
    {
     "name": "stdout",
     "output_type": "stream",
     "text": [
      "Attack(\n",
      "  (search_method): BeamSearch(\n",
      "    (beam_width):  5\n",
      "  )\n",
      "  (goal_function):  UntargetedClassification\n",
      "  (transformation):  WordSwapMaskedLM(\n",
      "    (method):  bae\n",
      "    (masked_lm_name):  RobertaForCausalLM\n",
      "    (max_length):  512\n",
      "    (max_candidates):  25\n",
      "    (min_confidence):  0.0005\n",
      "  )\n",
      "  (constraints): \n",
      "    (0): StsScoreConstraint(\n",
      "        (compare_against_original):  True\n",
      "      )\n",
      "    (1): ContradictionScoreConstraint(\n",
      "        (compare_against_original):  True\n",
      "      )\n",
      "    (2): AcceptabilityScoreConstraint(\n",
      "        (compare_against_original):  True\n",
      "      )\n",
      "    (3): PpLetterDiffConstraint(\n",
      "        (compare_against_original):  True\n",
      "      )\n",
      "    (4): LCPConstraint(\n",
      "        (compare_against_original):  True\n",
      "      )\n",
      "    (5): RepeatModification\n",
      "    (6): StopwordModification\n",
      "  (is_black_box):  True\n",
      ") \n",
      "\n"
     ]
    },
    {
     "name": "stderr",
     "output_type": "stream",
     "text": [
      " 33%|███▎      | 1/3 [00:28<00:56, 28.46s/it]/home/tproth/Programs/miniconda/envs/nlp_env/lib/python3.8/site-packages/textattack/loggers/csv_logger.py:41: FutureWarning: The frame.append method is deprecated and will be removed from pandas in a future version. Use pandas.concat instead.\n",
      "  self.df = self.df.append(row, ignore_index=True)\n",
      "[Succeeded / Failed / Skipped / Total] 1 / 0 / 0 / 1:  67%|██████▋   | 2/3 [00:56<00:28, 28.15s/it]/home/tproth/Programs/miniconda/envs/nlp_env/lib/python3.8/site-packages/textattack/loggers/csv_logger.py:41: FutureWarning: The frame.append method is deprecated and will be removed from pandas in a future version. Use pandas.concat instead.\n",
      "  self.df = self.df.append(row, ignore_index=True)\n",
      "[Succeeded / Failed / Skipped / Total] 1 / 1 / 0 / 2: 100%|██████████| 3/3 [01:14<00:00, 24.71s/it]/home/tproth/Programs/miniconda/envs/nlp_env/lib/python3.8/site-packages/textattack/loggers/csv_logger.py:41: FutureWarning: The frame.append method is deprecated and will be removed from pandas in a future version. Use pandas.concat instead.\n",
      "  self.df = self.df.append(row, ignore_index=True)\n",
      "[Succeeded / Failed / Skipped / Total] 2 / 1 / 0 / 3: 100%|██████████| 3/3 [01:14<00:00, 24.72s/it]\n"
     ]
    },
    {
     "name": "stdout",
     "output_type": "stream",
     "text": [
      "\n",
      "+-------------------------------+--------+\n",
      "| Attack Results                |        |\n",
      "+-------------------------------+--------+\n",
      "| Number of successful attacks: | 2      |\n",
      "| Number of failed attacks:     | 1      |\n",
      "| Number of skipped attacks:    | 0      |\n",
      "| Original accuracy:            | 100.0% |\n",
      "| Accuracy under attack:        | 33.33% |\n",
      "| Attack success rate:          | 66.67% |\n",
      "| Average perturbed word %:     | 13.57% |\n",
      "| Average num. words per input: | 16.0   |\n",
      "| Avg num queries:              | 434.0  |\n",
      "| Average Original Perplexity:  | 573.64 |\n",
      "| Average Attack Perplexity:    | 825.23 |\n",
      "| Average Attack USE Score:     | 0.78   |\n",
      "+-------------------------------+--------+\n"
     ]
    },
    {
     "name": "stderr",
     "output_type": "stream",
     "text": [
      "textattack: Logging to CSV at path ./baselines/2022-07-04_145926_financial_test_LM-WR-BS-b10m50.csv\n",
      "  0%|          | 0/3 [00:00<?, ?it/s]"
     ]
    },
    {
     "name": "stdout",
     "output_type": "stream",
     "text": [
      "Attack(\n",
      "  (search_method): BeamSearch(\n",
      "    (beam_width):  10\n",
      "  )\n",
      "  (goal_function):  UntargetedClassification\n",
      "  (transformation):  WordSwapMaskedLM(\n",
      "    (method):  bae\n",
      "    (masked_lm_name):  RobertaForCausalLM\n",
      "    (max_length):  512\n",
      "    (max_candidates):  50\n",
      "    (min_confidence):  0.0005\n",
      "  )\n",
      "  (constraints): \n",
      "    (0): StsScoreConstraint(\n",
      "        (compare_against_original):  True\n",
      "      )\n",
      "    (1): ContradictionScoreConstraint(\n",
      "        (compare_against_original):  True\n",
      "      )\n",
      "    (2): AcceptabilityScoreConstraint(\n",
      "        (compare_against_original):  True\n",
      "      )\n",
      "    (3): PpLetterDiffConstraint(\n",
      "        (compare_against_original):  True\n",
      "      )\n",
      "    (4): LCPConstraint(\n",
      "        (compare_against_original):  True\n",
      "      )\n",
      "    (5): RepeatModification\n",
      "    (6): StopwordModification\n",
      "  (is_black_box):  True\n",
      ") \n",
      "\n"
     ]
    },
    {
     "name": "stderr",
     "output_type": "stream",
     "text": [
      " 33%|███▎      | 1/3 [00:08<00:17,  8.56s/it]/home/tproth/Programs/miniconda/envs/nlp_env/lib/python3.8/site-packages/textattack/loggers/csv_logger.py:41: FutureWarning: The frame.append method is deprecated and will be removed from pandas in a future version. Use pandas.concat instead.\n",
      "  self.df = self.df.append(row, ignore_index=True)\n",
      "[Succeeded / Failed / Skipped / Total] 1 / 0 / 0 / 1:  67%|██████▋   | 2/3 [01:34<00:47, 47.17s/it]/home/tproth/Programs/miniconda/envs/nlp_env/lib/python3.8/site-packages/textattack/loggers/csv_logger.py:41: FutureWarning: The frame.append method is deprecated and will be removed from pandas in a future version. Use pandas.concat instead.\n",
      "  self.df = self.df.append(row, ignore_index=True)\n",
      "[Succeeded / Failed / Skipped / Total] 1 / 1 / 0 / 2: 100%|██████████| 3/3 [02:27<00:00, 49.29s/it]/home/tproth/Programs/miniconda/envs/nlp_env/lib/python3.8/site-packages/textattack/loggers/csv_logger.py:41: FutureWarning: The frame.append method is deprecated and will be removed from pandas in a future version. Use pandas.concat instead.\n",
      "  self.df = self.df.append(row, ignore_index=True)\n",
      "[Succeeded / Failed / Skipped / Total] 2 / 1 / 0 / 3: 100%|██████████| 3/3 [02:27<00:00, 49.30s/it]\n"
     ]
    },
    {
     "name": "stdout",
     "output_type": "stream",
     "text": [
      "\n",
      "+-------------------------------+--------+\n",
      "| Attack Results                |        |\n",
      "+-------------------------------+--------+\n",
      "| Number of successful attacks: | 2      |\n",
      "| Number of failed attacks:     | 1      |\n",
      "| Number of skipped attacks:    | 0      |\n",
      "| Original accuracy:            | 100.0% |\n",
      "| Accuracy under attack:        | 33.33% |\n",
      "| Attack success rate:          | 66.67% |\n",
      "| Average perturbed word %:     | 10.63% |\n",
      "| Average num. words per input: | 16.0   |\n",
      "| Avg num queries:              | 907.0  |\n",
      "| Average Original Perplexity:  | 573.64 |\n",
      "| Average Attack Perplexity:    | 830.06 |\n",
      "| Average Attack USE Score:     | 0.82   |\n",
      "+-------------------------------+--------+\n"
     ]
    },
    {
     "name": "stderr",
     "output_type": "stream",
     "text": [
      "textattack: Logging to CSV at path ./baselines/2022-07-04_150221_financial_test_LM-WADR-BS-b5m25.csv\n",
      "  0%|          | 0/3 [00:00<?, ?it/s]"
     ]
    },
    {
     "name": "stdout",
     "output_type": "stream",
     "text": [
      "Attack(\n",
      "  (search_method): BeamSearch(\n",
      "    (beam_width):  5\n",
      "  )\n",
      "  (goal_function):  UntargetedClassification\n",
      "  (transformation):  CompositeTransformation(\n",
      "    (0): WordSwapMaskedLM(\n",
      "        (method):  bae\n",
      "        (masked_lm_name):  RobertaForCausalLM\n",
      "        (max_length):  512\n",
      "        (max_candidates):  25\n",
      "        (min_confidence):  0.0005\n",
      "      )\n",
      "    (1): WordInsertionMaskedLM(\n",
      "        (masked_lm_name):  RobertaForCausalLM\n",
      "        (max_length):  512\n",
      "        (max_candidates):  25\n",
      "        (min_confidence):  0.0005\n",
      "      )\n",
      "    (2): WordMergeMaskedLM(\n",
      "        (masked_lm_name):  RobertaForCausalLM\n",
      "        (max_length):  512\n",
      "        (max_candidates):  25\n",
      "        (min_confidence):  0.0005\n",
      "      )\n",
      "    )\n",
      "  (constraints): \n",
      "    (0): StsScoreConstraint(\n",
      "        (compare_against_original):  True\n",
      "      )\n",
      "    (1): ContradictionScoreConstraint(\n",
      "        (compare_against_original):  True\n",
      "      )\n",
      "    (2): AcceptabilityScoreConstraint(\n",
      "        (compare_against_original):  True\n",
      "      )\n",
      "    (3): PpLetterDiffConstraint(\n",
      "        (compare_against_original):  True\n",
      "      )\n",
      "    (4): LCPConstraint(\n",
      "        (compare_against_original):  True\n",
      "      )\n",
      "    (5): RepeatModification\n",
      "    (6): StopwordModification\n",
      "  (is_black_box):  True\n",
      ") \n",
      "\n",
      "2022-07-04 15:02:26,445 https://nlp.informatik.hu-berlin.de/resources/models/upos-fast/en-upos-ontonotes-fast-v0.4.pt not found in cache, downloading to /tmp/tmpjt6n3dw0\n"
     ]
    },
    {
     "name": "stderr",
     "output_type": "stream",
     "text": [
      "\n",
      "  0%|          | 0/75175004 [00:00<?, ?B/s]\u001b[A\n",
      "  0%|          | 9216/75175004 [00:00<37:40, 33256.82B/s]\u001b[A\n",
      "  0%|          | 31744/75175004 [00:00<29:29, 42457.37B/s]\u001b[A\n",
      "  0%|          | 88064/75175004 [00:00<21:39, 57795.07B/s]\u001b[A\n",
      "  0%|          | 102400/75175004 [00:00<18:26, 67830.66B/s]\u001b[A\n",
      "  0%|          | 191488/75175004 [00:00<13:24, 93191.25B/s]\u001b[A\n",
      "  0%|          | 223232/75175004 [00:01<11:14, 111139.99B/s]\u001b[A\n",
      "  0%|          | 352256/75175004 [00:01<08:12, 151963.33B/s]\u001b[A\n",
      "  1%|          | 404480/75175004 [00:01<06:52, 181410.56B/s]\u001b[A\n",
      "  1%|          | 520192/75175004 [00:01<05:11, 239673.00B/s]\u001b[A\n",
      "  1%|          | 581632/75175004 [00:01<04:47, 259204.23B/s]\u001b[A\n",
      "  1%|          | 688128/75175004 [00:01<04:12, 294973.02B/s]\u001b[A\n",
      "  1%|          | 839680/75175004 [00:01<03:14, 382804.46B/s]\u001b[A\n",
      "  1%|          | 912384/75175004 [00:02<03:32, 350223.42B/s]\u001b[A\n",
      "  1%|▏         | 1015808/75175004 [00:02<03:08, 393195.69B/s]\u001b[A\n",
      "  2%|▏         | 1160192/75175004 [00:02<02:30, 492036.57B/s]\u001b[A\n",
      "  2%|▏         | 1236992/75175004 [00:02<02:56, 417773.03B/s]\u001b[A\n",
      "  2%|▏         | 1343488/75175004 [00:02<02:42, 453720.15B/s]\u001b[A\n",
      "  2%|▏         | 1487872/75175004 [00:03<02:17, 537842.03B/s]\u001b[A\n",
      "  2%|▏         | 1559552/75175004 [00:03<02:42, 451931.03B/s]\u001b[A\n",
      "  2%|▏         | 1664000/75175004 [00:03<02:21, 520294.47B/s]\u001b[A\n",
      "  2%|▏         | 1730560/75175004 [00:03<02:28, 495894.80B/s]\u001b[A\n",
      "  2%|▏         | 1831936/75175004 [00:03<02:24, 508027.56B/s]\u001b[A\n",
      "  3%|▎         | 1968128/75175004 [00:03<02:00, 608147.68B/s]\u001b[A\n",
      "  3%|▎         | 2042880/75175004 [00:04<02:36, 466109.03B/s]\u001b[A\n",
      "  3%|▎         | 2152448/75175004 [00:04<02:15, 537891.11B/s]\u001b[A\n",
      "  3%|▎         | 2221056/75175004 [00:04<02:22, 512435.78B/s]\u001b[A\n",
      "  3%|▎         | 2312192/75175004 [00:04<02:10, 557260.67B/s]\u001b[A\n",
      "  3%|▎         | 2376704/75175004 [00:04<02:21, 513116.07B/s]\u001b[A\n",
      "  3%|▎         | 2480128/75175004 [00:04<02:18, 523492.89B/s]\u001b[A\n",
      "  3%|▎         | 2608128/75175004 [00:05<01:57, 617073.34B/s]\u001b[A\n",
      "  4%|▎         | 2679808/75175004 [00:05<02:37, 460405.62B/s]\u001b[A\n",
      "  4%|▎         | 2807808/75175004 [00:05<02:22, 509535.50B/s]\u001b[A\n",
      "  4%|▍         | 2927616/75175004 [00:05<02:01, 596254.50B/s]\u001b[A\n",
      "  4%|▍         | 3001344/75175004 [00:05<02:37, 458452.35B/s]\u001b[A\n",
      "  4%|▍         | 3128320/75175004 [00:06<02:17, 524442.24B/s]\u001b[A\n",
      "  4%|▍         | 3194880/75175004 [00:06<02:14, 535157.51B/s]\u001b[A\n",
      "  4%|▍         | 3288064/75175004 [00:06<02:11, 548167.70B/s]\u001b[A\n",
      "  4%|▍         | 3349504/75175004 [00:06<02:13, 539473.96B/s]\u001b[A\n",
      "  5%|▍         | 3447808/75175004 [00:06<02:01, 590070.54B/s]\u001b[A\n",
      "  5%|▍         | 3512320/75175004 [00:06<02:14, 532590.50B/s]\u001b[A\n",
      "  5%|▍         | 3607552/75175004 [00:06<02:03, 580022.44B/s]\u001b[A\n",
      "  5%|▍         | 3670016/75175004 [00:06<02:17, 520397.95B/s]\u001b[A\n",
      "  5%|▌         | 3768320/75175004 [00:07<02:04, 574160.88B/s]\u001b[A\n",
      "  5%|▌         | 3830784/75175004 [00:07<02:17, 517333.17B/s]\u001b[A\n",
      "  5%|▌         | 3936256/75175004 [00:07<02:08, 552390.00B/s]\u001b[A\n",
      "  5%|▌         | 3995648/75175004 [00:07<02:12, 536377.39B/s]\u001b[A\n",
      "  5%|▌         | 4087808/75175004 [00:07<02:02, 578841.56B/s]\u001b[A\n",
      "  6%|▌         | 4149248/75175004 [00:07<02:17, 516616.94B/s]\u001b[A\n",
      "  6%|▌         | 4247552/75175004 [00:07<02:04, 571065.37B/s]\u001b[A\n",
      "  6%|▌         | 4308992/75175004 [00:08<02:18, 511965.32B/s]\u001b[A\n",
      "  6%|▌         | 4408320/75175004 [00:08<02:04, 568439.86B/s]\u001b[A\n",
      "  6%|▌         | 4470784/75175004 [00:08<02:17, 513731.86B/s]\u001b[A\n",
      "  6%|▌         | 4576256/75175004 [00:08<02:08, 549493.79B/s]\u001b[A\n",
      "  6%|▌         | 4635648/75175004 [00:08<02:11, 534637.82B/s]\u001b[A\n",
      "  6%|▋         | 4736000/75175004 [00:08<01:59, 588183.35B/s]\u001b[A\n",
      "  6%|▋         | 4798464/75175004 [00:08<02:13, 525933.32B/s]\u001b[A\n",
      "  7%|▋         | 4895744/75175004 [00:09<02:01, 577537.08B/s]\u001b[A\n",
      "  7%|▋         | 4958208/75175004 [00:09<02:15, 518915.69B/s]\u001b[A\n",
      "  7%|▋         | 5048320/75175004 [00:09<02:04, 562011.36B/s]\u001b[A\n",
      "  7%|▋         | 5108736/75175004 [00:09<02:12, 529877.52B/s]\u001b[A\n",
      "  7%|▋         | 5208064/75175004 [00:09<01:57, 595870.01B/s]\u001b[A\n",
      "  7%|▋         | 5272576/75175004 [00:09<02:20, 496523.29B/s]\u001b[A\n",
      "  7%|▋         | 5376000/75175004 [00:09<02:04, 558765.95B/s]\u001b[A\n",
      "  7%|▋         | 5439488/75175004 [00:10<02:16, 512582.46B/s]\u001b[A\n",
      "  7%|▋         | 5535744/75175004 [00:10<02:03, 564614.60B/s]\u001b[A\n",
      "  7%|▋         | 5598208/75175004 [00:10<02:09, 538771.77B/s]\u001b[A\n",
      "  8%|▊         | 5688320/75175004 [00:10<01:57, 590679.06B/s]\u001b[A\n",
      "  8%|▊         | 5751808/75175004 [00:10<02:14, 516015.29B/s]\u001b[A\n",
      "  8%|▊         | 5848064/75175004 [00:10<01:59, 578015.10B/s]\u001b[A\n",
      "  8%|▊         | 5912576/75175004 [00:10<02:15, 512174.02B/s]\u001b[A\n",
      "  8%|▊         | 6007808/75175004 [00:10<02:00, 574048.56B/s]\u001b[A\n",
      "  8%|▊         | 6072320/75175004 [00:11<02:15, 509900.63B/s]\u001b[A\n",
      "  8%|▊         | 6167552/75175004 [00:11<02:00, 571963.49B/s]\u001b[A\n",
      "  8%|▊         | 6232064/75175004 [00:11<02:15, 510584.04B/s]\u001b[A\n",
      "  8%|▊         | 6335488/75175004 [00:11<02:04, 552258.97B/s]\u001b[A\n",
      "  9%|▊         | 6400000/75175004 [00:11<02:08, 534948.88B/s]\u001b[A\n",
      "  9%|▊         | 6496256/75175004 [00:11<01:55, 595768.47B/s]\u001b[A\n",
      "  9%|▊         | 6560768/75175004 [00:11<02:11, 521314.08B/s]\u001b[A\n",
      "  9%|▉         | 6656000/75175004 [00:12<01:57, 582008.24B/s]\u001b[A\n",
      "  9%|▉         | 6720512/75175004 [00:12<02:12, 515569.90B/s]\u001b[A\n",
      "  9%|▉         | 6823936/75175004 [00:12<02:02, 556990.09B/s]\u001b[A\n",
      "  9%|▉         | 6888448/75175004 [00:12<02:06, 537874.82B/s]\u001b[A\n",
      "  9%|▉         | 6983680/75175004 [00:12<02:00, 564536.17B/s]\u001b[A\n",
      "  9%|▉         | 7048192/75175004 [00:12<02:05, 543210.05B/s]\u001b[A\n",
      " 10%|▉         | 7144448/75175004 [00:12<01:53, 601848.34B/s]\u001b[A\n",
      " 10%|▉         | 7208960/75175004 [00:13<02:09, 526523.97B/s]\u001b[A\n",
      " 10%|▉         | 7304192/75175004 [00:13<01:56, 584410.38B/s]\u001b[A\n",
      " 10%|▉         | 7367680/75175004 [00:13<02:02, 555497.48B/s]\u001b[A\n",
      " 10%|▉         | 7455744/75175004 [00:13<01:51, 604783.52B/s]\u001b[A\n",
      " 10%|█         | 7520256/75175004 [00:13<02:10, 517020.67B/s]\u001b[A\n",
      " 10%|█         | 7615488/75175004 [00:13<01:55, 586491.87B/s]\u001b[A\n",
      " 10%|█         | 7681024/75175004 [00:13<02:20, 478902.42B/s]\u001b[A\n",
      " 10%|█         | 7784448/75175004 [00:14<02:02, 551155.98B/s]\u001b[A\n",
      " 10%|█         | 7849984/75175004 [00:14<02:14, 501963.05B/s]\u001b[A\n",
      " 11%|█         | 7952384/75175004 [00:14<02:03, 545802.77B/s]\u001b[A\n",
      " 11%|█         | 8013824/75175004 [00:14<02:09, 520285.00B/s]\u001b[A\n",
      " 11%|█         | 8112128/75175004 [00:14<02:00, 556479.35B/s]\u001b[A\n",
      " 11%|█         | 8172544/75175004 [00:14<02:07, 523895.26B/s]\u001b[A\n",
      " 11%|█         | 8271872/75175004 [00:14<01:55, 580837.72B/s]\u001b[A\n",
      " 11%|█         | 8334336/75175004 [00:15<02:09, 517649.96B/s]\u001b[A\n",
      " 11%|█         | 8439808/75175004 [00:15<01:59, 558329.91B/s]\u001b[A\n",
      " 11%|█▏        | 8500224/75175004 [00:15<02:05, 533111.44B/s]\u001b[A\n",
      " 11%|█▏        | 8599552/75175004 [00:15<01:57, 568526.16B/s]\u001b[A\n",
      " 12%|█▏        | 8659968/75175004 [00:15<02:05, 530087.59B/s]\u001b[A\n",
      " 12%|█▏        | 8760320/75175004 [00:15<01:52, 588297.43B/s]\u001b[A\n",
      " 12%|█▏        | 8823808/75175004 [00:15<02:07, 522004.30B/s]\u001b[A\n",
      " 12%|█▏        | 8920064/75175004 [00:15<01:53, 581268.96B/s]\u001b[A\n",
      " 12%|█▏        | 8983552/75175004 [00:16<02:09, 513023.26B/s]\u001b[A\n",
      " 12%|█▏        | 9079808/75175004 [00:16<01:55, 573437.41B/s]\u001b[A\n",
      " 12%|█▏        | 9143296/75175004 [00:16<02:09, 510585.80B/s]\u001b[A\n",
      " 12%|█▏        | 9247744/75175004 [00:16<01:54, 576633.96B/s]\u001b[A\n",
      " 12%|█▏        | 9312256/75175004 [00:16<02:12, 496809.07B/s]\u001b[A\n",
      " 13%|█▎        | 9407488/75175004 [00:16<01:54, 572677.06B/s]\u001b[A\n",
      " 13%|█▎        | 9474048/75175004 [00:17<02:11, 500389.25B/s]\u001b[A\n",
      " 13%|█▎        | 9568256/75175004 [00:17<01:53, 577585.55B/s]\u001b[A\n",
      " 13%|█▎        | 9635840/75175004 [00:17<02:05, 522816.08B/s]\u001b[A\n",
      " 13%|█▎        | 9719808/75175004 [00:17<01:56, 563534.56B/s]\u001b[A\n",
      " 13%|█▎        | 9783296/75175004 [00:17<02:08, 510223.44B/s]\u001b[A\n",
      " 13%|█▎        | 9879552/75175004 [00:17<01:55, 565791.01B/s]\u001b[A\n",
      " 13%|█▎        | 9942016/75175004 [00:17<02:09, 504668.02B/s]\u001b[A\n",
      " 13%|█▎        | 10040320/75175004 [00:17<01:54, 566851.00B/s]\u001b[A\n",
      " 13%|█▎        | 10103808/75175004 [00:18<02:08, 505391.64B/s]\u001b[A\n",
      " 14%|█▎        | 10200064/75175004 [00:18<01:54, 566933.53B/s]\u001b[A\n",
      " 14%|█▎        | 10263552/75175004 [00:18<02:08, 505618.37B/s]\u001b[A\n",
      " 14%|█▍        | 10368000/75175004 [00:18<01:56, 555107.57B/s]\u001b[A\n"
     ]
    },
    {
     "name": "stderr",
     "output_type": "stream",
     "text": [
      " 14%|█▍        | 10429440/75175004 [00:18<02:03, 522268.54B/s]\u001b[A\n",
      " 14%|█▍        | 10504192/75175004 [00:18<01:53, 570385.71B/s]\u001b[A\n",
      " 14%|█▍        | 10567680/75175004 [00:18<02:00, 536039.21B/s]\u001b[A\n",
      " 14%|█▍        | 10663936/75175004 [00:19<01:48, 594717.16B/s]\u001b[A\n",
      " 14%|█▍        | 10728448/75175004 [00:19<01:55, 559359.77B/s]\u001b[A\n",
      " 14%|█▍        | 10823680/75175004 [00:19<01:47, 601123.03B/s]\u001b[A\n",
      " 14%|█▍        | 10887168/75175004 [00:19<01:52, 571413.06B/s]\u001b[A\n",
      " 15%|█▍        | 10947584/75175004 [00:19<01:53, 564010.84B/s]\u001b[A\n",
      " 15%|█▍        | 11005952/75175004 [00:19<01:53, 564332.43B/s]\u001b[A\n",
      " 15%|█▍        | 11064320/75175004 [00:19<02:00, 530452.20B/s]\u001b[A\n",
      " 15%|█▍        | 11152384/75175004 [00:19<01:53, 562660.92B/s]\u001b[A\n",
      " 15%|█▍        | 11215872/75175004 [00:20<02:03, 519086.53B/s]\u001b[A\n",
      " 15%|█▌        | 11312128/75175004 [00:20<01:52, 565435.28B/s]\u001b[A\n",
      " 15%|█▌        | 11375616/75175004 [00:20<01:59, 532732.86B/s]\u001b[A\n",
      " 15%|█▌        | 11463680/75175004 [00:20<01:46, 599595.02B/s]\u001b[A\n",
      " 15%|█▌        | 11528192/75175004 [00:20<01:50, 574401.67B/s]\u001b[A\n",
      " 15%|█▌        | 11589632/75175004 [00:20<01:51, 569493.84B/s]\u001b[A\n",
      " 15%|█▌        | 11649024/75175004 [00:20<01:51, 569988.82B/s]\u001b[A\n",
      " 16%|█▌        | 11708416/75175004 [00:20<01:57, 538172.23B/s]\u001b[A\n",
      " 16%|█▌        | 11799552/75175004 [00:21<01:54, 553166.68B/s]\u001b[A\n",
      " 16%|█▌        | 11864064/75175004 [00:21<01:56, 542186.88B/s]\u001b[A\n",
      " 16%|█▌        | 11960320/75175004 [00:21<01:48, 583648.37B/s]\u001b[A\n",
      " 16%|█▌        | 12023808/75175004 [00:21<01:58, 532686.12B/s]\u001b[A\n",
      " 16%|█▌        | 12120064/75175004 [00:21<01:44, 602329.64B/s]\u001b[A\n",
      " 16%|█▌        | 12185600/75175004 [00:21<01:59, 528743.19B/s]\u001b[A\n",
      " 16%|█▋        | 12256256/75175004 [00:21<01:51, 565362.14B/s]\u001b[A\n",
      " 16%|█▋        | 12336128/75175004 [00:21<01:46, 588669.47B/s]\u001b[A\n",
      " 16%|█▋        | 12398592/75175004 [00:22<01:47, 582800.58B/s]\u001b[A\n",
      " 17%|█▋        | 12460032/75175004 [00:22<01:47, 582023.01B/s]\u001b[A\n",
      " 17%|█▋        | 12520448/75175004 [00:22<02:01, 514066.64B/s]\u001b[A\n",
      " 17%|█▋        | 12615680/75175004 [00:22<01:50, 565263.34B/s]\u001b[A\n",
      " 17%|█▋        | 12676096/75175004 [00:22<01:53, 552867.47B/s]\u001b[A\n",
      " 17%|█▋        | 12743680/75175004 [00:22<01:48, 577156.23B/s]\u001b[A\n",
      " 17%|█▋        | 12816384/75175004 [00:22<01:45, 592478.29B/s]\u001b[A\n",
      " 17%|█▋        | 12877824/75175004 [00:22<01:49, 570500.95B/s]\u001b[A\n",
      " 17%|█▋        | 12944384/75175004 [00:22<01:45, 587238.67B/s]\u001b[A\n",
      " 17%|█▋        | 13004800/75175004 [00:23<01:52, 553149.66B/s]\u001b[A\n",
      " 17%|█▋        | 13072384/75175004 [00:23<01:49, 569034.89B/s]\u001b[A\n",
      " 17%|█▋        | 13144064/75175004 [00:23<01:42, 604371.80B/s]\u001b[A\n",
      " 18%|█▊        | 13206528/75175004 [00:23<01:46, 580727.13B/s]\u001b[A\n",
      " 18%|█▊        | 13265920/75175004 [00:23<01:53, 544213.02B/s]\u001b[A\n",
      " 18%|█▊        | 13322240/75175004 [00:23<01:53, 546257.35B/s]\u001b[A\n",
      " 18%|█▊        | 13391872/75175004 [00:23<01:48, 567436.83B/s]\u001b[A\n",
      " 18%|█▊        | 13463552/75175004 [00:23<01:42, 604487.75B/s]\u001b[A\n",
      " 18%|█▊        | 13526016/75175004 [00:23<01:46, 580669.22B/s]\u001b[A\n",
      " 18%|█▊        | 13585408/75175004 [00:24<01:46, 576186.56B/s]\u001b[A\n",
      " 18%|█▊        | 13643776/75175004 [00:24<01:52, 549352.13B/s]\u001b[A\n",
      " 18%|█▊        | 13712384/75175004 [00:24<01:45, 580442.78B/s]\u001b[A\n",
      " 18%|█▊        | 13792256/75175004 [00:24<01:40, 610567.92B/s]\u001b[A\n",
      " 18%|█▊        | 13854720/75175004 [00:24<01:45, 583556.30B/s]\u001b[A\n",
      " 19%|█▊        | 13915136/75175004 [00:24<01:51, 548024.25B/s]\u001b[A\n",
      " 19%|█▊        | 13971456/75175004 [00:24<01:51, 547210.06B/s]\u001b[A\n",
      " 19%|█▊        | 14040064/75175004 [00:24<01:47, 567744.38B/s]\u001b[A\n",
      " 19%|█▉        | 14111744/75175004 [00:24<01:40, 604593.77B/s]\u001b[A\n",
      " 19%|█▉        | 14174208/75175004 [00:25<01:45, 578363.16B/s]\u001b[A\n",
      " 19%|█▉        | 14233600/75175004 [00:25<01:52, 543143.66B/s]\u001b[A\n",
      " 19%|█▉        | 14296064/75175004 [00:25<01:48, 561252.41B/s]\u001b[A\n",
      " 19%|█▉        | 14359552/75175004 [00:25<01:47, 565640.94B/s]\u001b[A\n",
      " 19%|█▉        | 14424064/75175004 [00:25<01:43, 584981.66B/s]\u001b[A\n",
      " 19%|█▉        | 14483456/75175004 [00:25<01:48, 557047.41B/s]\u001b[A\n",
      " 19%|█▉        | 14543872/75175004 [00:25<01:46, 567754.00B/s]\u001b[A\n",
      " 19%|█▉        | 14615552/75175004 [00:25<01:45, 571378.08B/s]\u001b[A\n",
      " 20%|█▉        | 14680064/75175004 [00:25<01:45, 571652.58B/s]\u001b[A\n",
      " 20%|█▉        | 14738432/75175004 [00:26<01:45, 572914.02B/s]\u001b[A\n",
      " 20%|█▉        | 14808064/75175004 [00:26<01:44, 576921.97B/s]\u001b[A\n",
      " 20%|█▉        | 14866432/75175004 [00:26<01:44, 575957.18B/s]\u001b[A\n",
      " 20%|█▉        | 14936064/75175004 [00:26<01:43, 580798.13B/s]\u001b[A\n",
      " 20%|█▉        | 14999552/75175004 [00:26<01:41, 590000.20B/s]\u001b[A\n",
      " 20%|██        | 15064064/75175004 [00:26<01:44, 572875.94B/s]\u001b[A\n",
      " 20%|██        | 15127552/75175004 [00:26<01:45, 568242.34B/s]\u001b[A\n",
      " 20%|██        | 15192064/75175004 [00:26<01:42, 585270.86B/s]\u001b[A\n",
      " 20%|██        | 15263744/75175004 [00:26<01:42, 584696.47B/s]\u001b[A\n",
      " 20%|██        | 15328256/75175004 [00:27<01:43, 581032.70B/s]\u001b[A\n",
      " 20%|██        | 15386624/75175004 [00:27<01:44, 569825.99B/s]\u001b[A\n",
      " 21%|██        | 15448064/75175004 [00:27<01:46, 560851.01B/s]\u001b[A\n",
      " 21%|██        | 15511552/75175004 [00:27<01:42, 579477.08B/s]\u001b[A\n",
      " 21%|██        | 15584256/75175004 [00:27<01:41, 588424.48B/s]\u001b[A\n",
      " 21%|██        | 15647744/75175004 [00:27<01:39, 597492.95B/s]\u001b[A\n",
      " 21%|██        | 15708160/75175004 [00:27<01:45, 564002.17B/s]\u001b[A\n",
      " 21%|██        | 15775744/75175004 [00:27<01:44, 569909.89B/s]\u001b[A\n",
      " 21%|██        | 15848448/75175004 [00:28<01:45, 560155.31B/s]\u001b[A\n",
      " 21%|██        | 15920128/75175004 [00:28<01:42, 579513.99B/s]\u001b[A\n",
      " 21%|██▏       | 15983616/75175004 [00:28<01:42, 577000.28B/s]\u001b[A\n",
      " 21%|██▏       | 16056320/75175004 [00:28<01:37, 605759.03B/s]\u001b[A\n",
      " 21%|██▏       | 16128000/75175004 [00:28<01:33, 631802.27B/s]\u001b[A\n",
      " 22%|██▏       | 16192512/75175004 [00:28<01:47, 547576.92B/s]\u001b[A\n",
      " 22%|██▏       | 16256000/75175004 [00:28<01:46, 552126.20B/s]\u001b[A\n",
      " 22%|██▏       | 16319488/75175004 [00:28<01:49, 537022.34B/s]\u001b[A\n",
      " 22%|██▏       | 16400384/75175004 [00:28<01:38, 597003.47B/s]\u001b[A\n",
      " 22%|██▏       | 16463872/75175004 [00:29<01:46, 551654.89B/s]\u001b[A\n",
      " 22%|██▏       | 16543744/75175004 [00:29<01:37, 600833.00B/s]\u001b[A\n",
      " 22%|██▏       | 16607232/75175004 [00:29<01:36, 605547.18B/s]\u001b[A\n",
      " 22%|██▏       | 16670720/75175004 [00:29<01:42, 570722.24B/s]\u001b[A\n",
      " 22%|██▏       | 16730112/75175004 [00:29<01:44, 558873.06B/s]\u001b[A\n",
      " 22%|██▏       | 16791552/75175004 [00:29<01:45, 554085.31B/s]\u001b[A\n",
      " 22%|██▏       | 16864256/75175004 [00:29<01:38, 590650.80B/s]\u001b[A\n",
      " 23%|██▎       | 16925696/75175004 [00:29<01:38, 593637.15B/s]\u001b[A\n",
      " 23%|██▎       | 16986112/75175004 [00:30<01:53, 513145.46B/s]\u001b[A\n",
      " 23%|██▎       | 17063936/75175004 [00:30<01:44, 555634.11B/s]\u001b[A\n",
      " 23%|██▎       | 17128448/75175004 [00:30<01:41, 573232.75B/s]\u001b[A\n",
      " 23%|██▎       | 17200128/75175004 [00:30<01:38, 589530.99B/s]\u001b[A\n",
      " 23%|██▎       | 17263616/75175004 [00:30<01:41, 570924.82B/s]\u001b[A\n",
      " 23%|██▎       | 17321984/75175004 [00:30<01:45, 550527.37B/s]\u001b[A\n",
      " 23%|██▎       | 17384448/75175004 [00:30<01:42, 561664.45B/s]\u001b[A\n",
      " 23%|██▎       | 17456128/75175004 [00:30<01:42, 565194.47B/s]\u001b[A\n",
      " 23%|██▎       | 17527808/75175004 [00:30<01:35, 602314.51B/s]\u001b[A\n",
      " 23%|██▎       | 17592320/75175004 [00:31<01:43, 555688.42B/s]\u001b[A\n",
      " 24%|██▎       | 17672192/75175004 [00:31<01:34, 606925.97B/s]\u001b[A\n",
      " 24%|██▎       | 17735680/75175004 [00:31<01:34, 610131.07B/s]\u001b[A\n",
      " 24%|██▎       | 17799168/75175004 [00:31<01:47, 532471.03B/s]\u001b[A\n",
      " 24%|██▍       | 17871872/75175004 [00:31<01:42, 557967.87B/s]\u001b[A\n",
      " 24%|██▍       | 17936384/75175004 [00:31<01:38, 578589.25B/s]\u001b[A\n",
      " 24%|██▍       | 18016256/75175004 [00:31<01:35, 601321.85B/s]\u001b[A\n",
      " 24%|██▍       | 18078720/75175004 [00:31<01:36, 588723.06B/s]\u001b[A\n",
      " 24%|██▍       | 18139136/75175004 [00:31<01:40, 566145.03B/s]\u001b[A\n",
      " 24%|██▍       | 18197504/75175004 [00:32<01:41, 563958.00B/s]\u001b[A\n",
      " 24%|██▍       | 18264064/75175004 [00:32<01:42, 552792.22B/s]\u001b[A\n",
      " 24%|██▍       | 18343936/75175004 [00:32<01:38, 577158.86B/s]\u001b[A\n",
      " 24%|██▍       | 18408448/75175004 [00:32<01:38, 575084.75B/s]\u001b[A\n",
      " 25%|██▍       | 18480128/75175004 [00:32<01:33, 606172.23B/s]\u001b[A\n",
      " 25%|██▍       | 18541568/75175004 [00:32<01:33, 605525.92B/s]\u001b[A\n",
      " 25%|██▍       | 18603008/75175004 [00:32<01:48, 521512.53B/s]\u001b[A\n",
      " 25%|██▍       | 18679808/75175004 [00:32<01:40, 560762.02B/s]\u001b[A\n",
      " 25%|██▍       | 18744320/75175004 [00:33<01:37, 577200.44B/s]\u001b[A\n"
     ]
    },
    {
     "name": "stderr",
     "output_type": "stream",
     "text": [
      " 25%|██▌       | 18824192/75175004 [00:33<01:32, 610438.11B/s]\u001b[A\n",
      " 25%|██▌       | 18887680/75175004 [00:33<01:36, 584879.95B/s]\u001b[A\n",
      " 25%|██▌       | 18948096/75175004 [00:33<01:39, 562361.76B/s]\u001b[A\n",
      " 25%|██▌       | 19006464/75175004 [00:33<01:39, 563854.78B/s]\u001b[A\n",
      " 25%|██▌       | 19063808/75175004 [00:33<01:40, 557371.30B/s]\u001b[A\n",
      " 25%|██▌       | 19143680/75175004 [00:33<01:34, 595115.37B/s]\u001b[A\n",
      " 26%|██▌       | 19205120/75175004 [00:33<01:35, 588788.99B/s]\u001b[A\n",
      " 26%|██▌       | 19265536/75175004 [00:33<01:42, 545905.09B/s]\u001b[A\n",
      " 26%|██▌       | 19328000/75175004 [00:34<01:40, 557953.59B/s]\u001b[A\n",
      " 26%|██▌       | 19391488/75175004 [00:34<01:36, 576163.65B/s]\u001b[A\n",
      " 26%|██▌       | 19464192/75175004 [00:34<01:33, 594011.12B/s]\u001b[A\n",
      " 26%|██▌       | 19524608/75175004 [00:34<01:35, 585194.25B/s]\u001b[A\n",
      " 26%|██▌       | 19584000/75175004 [00:34<01:42, 540155.12B/s]\u001b[A\n",
      " 26%|██▌       | 19647488/75175004 [00:34<01:38, 562026.37B/s]\u001b[A\n",
      " 26%|██▌       | 19720192/75175004 [00:34<01:33, 595511.01B/s]\u001b[A\n",
      " 26%|██▋       | 19791872/75175004 [00:34<01:31, 605058.55B/s]\u001b[A\n",
      " 26%|██▋       | 19853312/75175004 [00:34<01:32, 594937.33B/s]\u001b[A\n",
      " 26%|██▋       | 19913728/75175004 [00:35<01:40, 549477.63B/s]\u001b[A\n",
      " 27%|██▋       | 19970048/75175004 [00:35<01:40, 548644.16B/s]\u001b[A\n",
      " 27%|██▋       | 20039680/75175004 [00:35<01:35, 580019.70B/s]\u001b[A\n",
      " 27%|██▋       | 20104192/75175004 [00:35<01:35, 576767.02B/s]\u001b[A\n",
      " 27%|██▋       | 20167680/75175004 [00:35<01:34, 582092.08B/s]\u001b[A\n",
      " 27%|██▋       | 20227072/75175004 [00:35<01:41, 540024.63B/s]\u001b[A\n",
      " 27%|██▋       | 20287488/75175004 [00:35<01:39, 550578.83B/s]\u001b[A\n",
      " 27%|██▋       | 20360192/75175004 [00:35<01:33, 588445.88B/s]\u001b[A\n",
      " 27%|██▋       | 20431872/75175004 [00:35<01:31, 600320.45B/s]\u001b[A\n",
      " 27%|██▋       | 20493312/75175004 [00:36<01:32, 592690.06B/s]\u001b[A\n",
      " 27%|██▋       | 20553728/75175004 [00:36<01:39, 548432.55B/s]\u001b[A\n",
      " 27%|██▋       | 20616192/75175004 [00:36<01:37, 560661.52B/s]\u001b[A\n",
      " 28%|██▊       | 20679680/75175004 [00:36<01:34, 577732.90B/s]\u001b[A\n",
      " 28%|██▊       | 20752384/75175004 [00:36<01:31, 594146.67B/s]\u001b[A\n",
      " 28%|██▊       | 20812800/75175004 [00:36<01:32, 590198.71B/s]\u001b[A\n",
      " 28%|██▊       | 20873216/75175004 [00:36<01:39, 544401.89B/s]\u001b[A\n",
      " 28%|██▊       | 20935680/75175004 [00:36<01:36, 561493.22B/s]\u001b[A\n",
      " 28%|██▊       | 21000192/75175004 [00:36<01:33, 576327.88B/s]\u001b[A\n",
      " 28%|██▊       | 21071872/75175004 [00:37<01:31, 589041.10B/s]\u001b[A\n",
      " 28%|██▊       | 21136384/75175004 [00:37<01:30, 596760.82B/s]\u001b[A\n",
      " 28%|██▊       | 21196800/75175004 [00:37<01:37, 553578.89B/s]\u001b[A\n",
      " 28%|██▊       | 21264384/75175004 [00:37<01:34, 573443.55B/s]\u001b[A\n",
      " 28%|██▊       | 21327872/75175004 [00:37<01:31, 586470.15B/s]\u001b[A\n",
      " 28%|██▊       | 21399552/75175004 [00:37<01:29, 597884.98B/s]\u001b[A\n",
      " 29%|██▊       | 21459968/75175004 [00:37<01:30, 593950.53B/s]\u001b[A\n",
      " 29%|██▊       | 21520384/75175004 [00:37<01:37, 549481.13B/s]\u001b[A\n",
      " 29%|██▊       | 21576704/75175004 [00:37<01:38, 545991.56B/s]\u001b[A\n",
      " 29%|██▉       | 21648384/75175004 [00:38<01:32, 579981.30B/s]\u001b[A\n",
      " 29%|██▉       | 21720064/75175004 [00:38<01:30, 588182.15B/s]\u001b[A\n",
      " 29%|██▉       | 21783552/75175004 [00:38<01:29, 595980.50B/s]\u001b[A\n",
      " 29%|██▉       | 21843968/75175004 [00:38<01:34, 562878.66B/s]\u001b[A\n",
      " 29%|██▉       | 21904384/75175004 [00:38<01:35, 559223.00B/s]\u001b[A\n",
      " 29%|██▉       | 21976064/75175004 [00:38<01:30, 589845.23B/s]\u001b[A\n",
      " 29%|██▉       | 22047744/75175004 [00:38<01:35, 555422.24B/s]\u001b[A\n",
      " 29%|██▉       | 22127616/75175004 [00:38<01:29, 595099.70B/s]\u001b[A\n",
      " 30%|██▉       | 22189056/75175004 [00:38<01:29, 591366.34B/s]\u001b[A\n",
      " 30%|██▉       | 22255616/75175004 [00:39<01:26, 611833.36B/s]\u001b[A\n",
      " 30%|██▉       | 22320128/75175004 [00:39<01:29, 589380.40B/s]\u001b[A\n",
      " 30%|██▉       | 22380544/75175004 [00:39<01:41, 518707.71B/s]\u001b[A\n",
      " 30%|██▉       | 22463488/75175004 [00:39<01:31, 578576.48B/s]\u001b[A\n",
      " 30%|██▉       | 22536192/75175004 [00:39<01:35, 550712.24B/s]\u001b[A\n",
      " 30%|███       | 22616064/75175004 [00:39<01:29, 590337.74B/s]\u001b[A\n",
      " 30%|███       | 22678528/75175004 [00:39<01:28, 590610.77B/s]\u001b[A\n",
      " 30%|███       | 22744064/75175004 [00:39<01:34, 553292.71B/s]\u001b[A\n",
      " 30%|███       | 22807552/75175004 [00:40<01:35, 545864.07B/s]\u001b[A\n",
      " 30%|███       | 22863872/75175004 [00:40<01:37, 533927.43B/s]\u001b[A\n",
      " 31%|███       | 22943744/75175004 [00:40<01:28, 586898.11B/s]\u001b[A\n",
      " 31%|███       | 23016448/75175004 [00:40<01:33, 555337.07B/s]\u001b[A\n",
      " 31%|███       | 23096320/75175004 [00:40<01:28, 585889.64B/s]\u001b[A\n",
      " 31%|███       | 23168000/75175004 [00:40<01:24, 618986.25B/s]\u001b[A\n",
      " 31%|███       | 23232512/75175004 [00:40<01:31, 568035.19B/s]\u001b[A\n",
      " 31%|███       | 23296000/75175004 [00:40<01:33, 554155.58B/s]\u001b[A\n",
      " 31%|███       | 23353344/75175004 [00:40<01:35, 545423.34B/s]\u001b[A\n",
      " 31%|███       | 23424000/75175004 [00:41<01:28, 581963.02B/s]\u001b[A\n",
      " 31%|███▏      | 23503872/75175004 [00:41<01:31, 566895.07B/s]\u001b[A\n",
      " 31%|███▏      | 23583744/75175004 [00:41<01:28, 581372.56B/s]\u001b[A\n",
      " 31%|███▏      | 23663616/75175004 [00:41<01:31, 566003.70B/s]\u001b[A\n",
      " 32%|███▏      | 23743488/75175004 [00:41<01:28, 581020.30B/s]\u001b[A\n",
      " 32%|███▏      | 23824384/75175004 [00:41<01:25, 602429.43B/s]\u001b[A\n",
      " 32%|███▏      | 23885824/75175004 [00:41<01:25, 601808.87B/s]\u001b[A\n",
      " 32%|███▏      | 23947264/75175004 [00:42<01:30, 567441.16B/s]\u001b[A\n",
      " 32%|███▏      | 24005632/75175004 [00:42<01:32, 555629.55B/s]\u001b[A\n",
      " 32%|███▏      | 24072192/75175004 [00:42<01:27, 584294.28B/s]\u001b[A\n",
      " 32%|███▏      | 24152064/75175004 [00:42<01:29, 568037.04B/s]\u001b[A\n",
      " 32%|███▏      | 24223744/75175004 [00:42<01:27, 581086.53B/s]\u001b[A\n",
      " 32%|███▏      | 24288256/75175004 [00:42<01:25, 596362.84B/s]\u001b[A\n",
      " 32%|███▏      | 24359936/75175004 [00:42<01:28, 574479.87B/s]\u001b[A\n",
      " 32%|███▏      | 24431616/75175004 [00:42<01:28, 575597.76B/s]\u001b[A\n",
      " 33%|███▎      | 24489984/75175004 [00:42<01:30, 561492.38B/s]\u001b[A\n",
      " 33%|███▎      | 24559616/75175004 [00:43<01:25, 592911.63B/s]\u001b[A\n",
      " 33%|███▎      | 24632320/75175004 [00:43<01:24, 596804.58B/s]\u001b[A\n",
      " 33%|███▎      | 24692736/75175004 [00:43<01:24, 595370.45B/s]\u001b[A\n",
      " 33%|███▎      | 24753152/75175004 [00:43<01:30, 558291.61B/s]\u001b[A\n",
      " 33%|███▎      | 24810496/75175004 [00:43<01:32, 547217.22B/s]\u001b[A\n",
      " 33%|███▎      | 24880128/75175004 [00:43<01:26, 584423.71B/s]\u001b[A\n",
      " 33%|███▎      | 24943616/75175004 [00:43<01:29, 564151.05B/s]\u001b[A\n",
      " 33%|███▎      | 25016320/75175004 [00:43<01:23, 600925.65B/s]\u001b[A\n",
      " 33%|███▎      | 25079808/75175004 [00:43<01:27, 572312.20B/s]\u001b[A\n",
      " 33%|███▎      | 25139200/75175004 [00:44<01:29, 556489.98B/s]\u001b[A\n",
      " 34%|███▎      | 25232384/75175004 [00:44<01:22, 605321.14B/s]\u001b[A\n",
      " 34%|███▎      | 25294848/75175004 [00:44<01:35, 524268.29B/s]\u001b[A\n",
      " 34%|███▍      | 25400320/75175004 [00:44<01:25, 582061.49B/s]\u001b[A\n",
      " 34%|███▍      | 25463808/75175004 [00:44<01:33, 530529.27B/s]\u001b[A\n",
      " 34%|███▍      | 25560064/75175004 [00:44<01:25, 582268.01B/s]\u001b[A\n",
      " 34%|███▍      | 25623552/75175004 [00:44<01:34, 521775.49B/s]\u001b[A\n",
      " 34%|███▍      | 25719808/75175004 [00:45<01:25, 581100.96B/s]\u001b[A\n",
      " 34%|███▍      | 25783296/75175004 [00:45<01:36, 513666.60B/s]\u001b[A\n",
      " 34%|███▍      | 25879552/75175004 [00:45<01:25, 574171.33B/s]\u001b[A\n",
      " 35%|███▍      | 25943040/75175004 [00:45<01:37, 506091.54B/s]\u001b[A\n",
      " 35%|███▍      | 26040320/75175004 [00:45<01:25, 571772.61B/s]\u001b[A\n",
      " 35%|███▍      | 26104832/75175004 [00:45<01:37, 504257.32B/s]\u001b[A\n",
      " 35%|███▍      | 26208256/75175004 [00:45<01:25, 574596.57B/s]\u001b[A\n",
      " 35%|███▍      | 26273792/75175004 [00:46<01:34, 515212.35B/s]\u001b[A\n",
      " 35%|███▌      | 26368000/75175004 [00:46<01:25, 573530.38B/s]\u001b[A\n",
      " 35%|███▌      | 26432512/75175004 [00:46<01:35, 511482.71B/s]\u001b[A\n",
      " 35%|███▌      | 26527744/75175004 [00:46<01:25, 571720.03B/s]\u001b[A\n",
      " 35%|███▌      | 26592256/75175004 [00:46<01:35, 509790.68B/s]\u001b[A\n",
      " 36%|███▌      | 26687488/75175004 [00:46<01:24, 576766.45B/s]\u001b[A\n",
      " 36%|███▌      | 26753024/75175004 [00:46<01:35, 508779.81B/s]\u001b[A\n",
      " 36%|███▌      | 26848256/75175004 [00:46<01:23, 575810.76B/s]\u001b[A\n",
      " 36%|███▌      | 26913792/75175004 [00:47<01:34, 508621.74B/s]\u001b[A\n",
      " 36%|███▌      | 27008000/75175004 [00:47<01:23, 573719.42B/s]\u001b[A\n",
      " 36%|███▌      | 27073536/75175004 [00:47<01:34, 507598.54B/s]\u001b[A\n",
      " 36%|███▌      | 27167744/75175004 [00:47<01:23, 572770.35B/s]\u001b[A\n",
      " 36%|███▌      | 27233280/75175004 [00:47<01:34, 507363.45B/s]\u001b[A\n",
      " 36%|███▋      | 27335680/75175004 [00:47<01:22, 581914.02B/s]\u001b[A\n",
      " 36%|███▋      | 27403264/75175004 [00:47<01:33, 508511.59B/s]\u001b[A\n"
     ]
    },
    {
     "name": "stderr",
     "output_type": "stream",
     "text": [
      " 37%|███▋      | 27488256/75175004 [00:48<01:23, 570624.69B/s]\u001b[A\n",
      " 37%|███▋      | 27553792/75175004 [00:48<01:35, 496670.12B/s]\u001b[A\n",
      " 37%|███▋      | 27648000/75175004 [00:48<01:23, 571510.24B/s]\u001b[A\n",
      " 37%|███▋      | 27714560/75175004 [00:48<01:32, 510328.16B/s]\u001b[A\n",
      " 37%|███▋      | 27815936/75175004 [00:48<01:21, 583176.06B/s]\u001b[A\n",
      " 37%|███▋      | 27883520/75175004 [00:48<01:37, 485898.46B/s]\u001b[A\n",
      " 37%|███▋      | 27983872/75175004 [00:48<01:27, 542143.44B/s]\u001b[A\n",
      " 37%|███▋      | 28047360/75175004 [00:49<01:32, 507709.29B/s]\u001b[A\n",
      " 37%|███▋      | 28143616/75175004 [00:49<01:23, 560893.67B/s]\u001b[A\n",
      " 38%|███▊      | 28206080/75175004 [00:49<01:27, 536182.48B/s]\u001b[A\n",
      " 38%|███▊      | 28296192/75175004 [00:49<01:17, 602380.83B/s]\u001b[A\n",
      " 38%|███▊      | 28362752/75175004 [00:49<01:30, 515857.84B/s]\u001b[A\n",
      " 38%|███▊      | 28455936/75175004 [00:49<01:25, 549476.91B/s]\u001b[A\n",
      " 38%|███▊      | 28516352/75175004 [00:49<01:28, 530200.36B/s]\u001b[A\n",
      " 38%|███▊      | 28615680/75175004 [00:50<01:18, 596462.25B/s]\u001b[A\n",
      " 38%|███▊      | 28681216/75175004 [00:50<01:29, 520791.50B/s]\u001b[A\n",
      " 38%|███▊      | 28783616/75175004 [00:50<01:23, 557904.41B/s]\u001b[A\n",
      " 38%|███▊      | 28844032/75175004 [00:50<01:27, 532081.59B/s]\u001b[A\n",
      " 39%|███▊      | 28944384/75175004 [00:50<01:21, 563900.82B/s]\u001b[A\n",
      " 39%|███▊      | 29003776/75175004 [00:50<01:26, 532499.93B/s]\u001b[A\n",
      " 39%|███▊      | 29104128/75175004 [00:50<01:20, 569674.13B/s]\u001b[A\n",
      " 39%|███▉      | 29163520/75175004 [00:51<01:27, 528543.47B/s]\u001b[A\n",
      " 39%|███▉      | 29263872/75175004 [00:51<01:16, 599117.04B/s]\u001b[A\n",
      " 39%|███▉      | 29329408/75175004 [00:51<01:29, 510989.38B/s]\u001b[A\n",
      " 39%|███▉      | 29423616/75175004 [00:51<01:18, 585128.08B/s]\u001b[A\n",
      " 39%|███▉      | 29490176/75175004 [00:51<01:28, 517704.89B/s]\u001b[A\n",
      " 39%|███▉      | 29584384/75175004 [00:51<01:18, 581273.76B/s]\u001b[A\n",
      " 39%|███▉      | 29649920/75175004 [00:51<01:28, 512776.02B/s]\u001b[A\n",
      " 40%|███▉      | 29744128/75175004 [00:51<01:18, 576393.50B/s]\u001b[A\n",
      " 40%|███▉      | 29809664/75175004 [00:52<01:28, 513293.25B/s]\u001b[A\n",
      " 40%|███▉      | 29912064/75175004 [00:52<01:21, 554300.91B/s]\u001b[A\n",
      " 40%|███▉      | 29973504/75175004 [00:52<01:25, 529132.49B/s]\u001b[A\n",
      " 40%|████      | 30071808/75175004 [00:52<01:15, 593717.88B/s]\u001b[A\n",
      " 40%|████      | 30137344/75175004 [00:52<01:26, 520245.50B/s]\u001b[A\n",
      " 40%|████      | 30231552/75175004 [00:52<01:17, 582487.88B/s]\u001b[A\n",
      " 40%|████      | 30296064/75175004 [00:52<01:27, 513873.33B/s]\u001b[A\n",
      " 40%|████      | 30399488/75175004 [00:53<01:21, 551229.96B/s]\u001b[A\n",
      " 41%|████      | 30459904/75175004 [00:53<01:24, 531867.33B/s]\u001b[A\n",
      " 41%|████      | 30552064/75175004 [00:53<01:15, 587339.60B/s]\u001b[A\n",
      " 41%|████      | 30615552/75175004 [00:53<01:26, 513255.34B/s]\u001b[A\n",
      " 41%|████      | 30720000/75175004 [00:53<01:19, 556533.40B/s]\u001b[A\n",
      " 41%|████      | 30780416/75175004 [00:53<01:22, 536001.64B/s]\u001b[A\n",
      " 41%|████      | 30864384/75175004 [00:53<01:13, 600869.14B/s]\u001b[A\n",
      " 41%|████      | 30929920/75175004 [00:54<01:13, 598615.50B/s]\u001b[A\n",
      " 41%|████      | 30993408/75175004 [00:54<01:16, 580837.34B/s]\u001b[A\n",
      " 41%|████▏     | 31054848/75175004 [00:54<01:17, 565905.88B/s]\u001b[A\n",
      " 41%|████▏     | 31114240/75175004 [00:54<01:24, 524381.52B/s]\u001b[A\n",
      " 42%|████▏     | 31200256/75175004 [00:54<01:20, 544930.12B/s]\u001b[A\n",
      " 42%|████▏     | 31263744/75175004 [00:54<01:20, 542990.49B/s]\u001b[A\n",
      " 42%|████▏     | 31343616/75175004 [00:54<01:13, 599554.74B/s]\u001b[A\n",
      " 42%|████▏     | 31416320/75175004 [00:54<01:12, 602769.58B/s]\u001b[A\n",
      " 42%|████▏     | 31478784/75175004 [00:54<01:12, 599516.62B/s]\u001b[A\n",
      " 42%|████▏     | 31540224/75175004 [00:55<01:16, 568031.31B/s]\u001b[A\n",
      " 42%|████▏     | 31598592/75175004 [00:55<01:20, 542590.48B/s]\u001b[A\n",
      " 42%|████▏     | 31664128/75175004 [00:57<06:55, 104672.67B/s]\u001b[A\n",
      " 42%|████▏     | 31911936/75175004 [00:57<05:20, 135060.86B/s]\u001b[A\n",
      " 43%|████▎     | 31952896/75175004 [00:58<06:40, 107892.88B/s]\u001b[A\n",
      " 43%|████▎     | 32016384/75175004 [00:58<05:36, 128139.11B/s]\u001b[A\n",
      " 43%|████▎     | 32184320/75175004 [00:58<04:16, 167755.07B/s]\u001b[A\n",
      " 43%|████▎     | 32344064/75175004 [00:59<03:21, 212946.15B/s]\u001b[A\n",
      " 43%|████▎     | 32503808/75175004 [00:59<02:42, 262418.83B/s]\u001b[A\n",
      " 43%|████▎     | 32671744/75175004 [00:59<02:14, 315909.22B/s]\u001b[A\n",
      " 44%|████▎     | 32831488/75175004 [00:59<01:56, 365013.56B/s]\u001b[A\n",
      " 44%|████▍     | 32992256/75175004 [01:00<01:42, 409545.91B/s]\u001b[A\n",
      " 44%|████▍     | 33160192/75175004 [01:00<01:32, 453392.12B/s]\u001b[A\n",
      " 44%|████▍     | 33319936/75175004 [01:00<01:26, 483476.93B/s]\u001b[A\n",
      " 45%|████▍     | 33479680/75175004 [01:00<01:22, 507374.06B/s]\u001b[A\n",
      " 45%|████▍     | 33647616/75175004 [01:01<01:18, 531943.47B/s]\u001b[A\n",
      " 45%|████▍     | 33808384/75175004 [01:01<01:15, 544798.24B/s]\u001b[A\n",
      " 45%|████▌     | 33968128/75175004 [01:01<01:14, 553013.92B/s]\u001b[A\n",
      " 45%|████▌     | 34136064/75175004 [01:02<01:12, 566984.56B/s]\u001b[A\n",
      " 46%|████▌     | 34295808/75175004 [01:02<01:11, 568086.87B/s]\u001b[A\n",
      " 46%|████▌     | 34455552/75175004 [01:02<01:11, 569549.83B/s]\u001b[A\n",
      " 46%|████▌     | 34623488/75175004 [01:02<01:10, 578791.57B/s]\u001b[A\n",
      " 46%|████▋     | 34784256/75175004 [01:03<01:09, 578209.79B/s]\u001b[A\n",
      " 46%|████▋     | 34944000/75175004 [01:03<01:09, 576555.87B/s]\u001b[A\n",
      " 47%|████▋     | 35103744/75175004 [01:03<01:09, 575484.41B/s]\u001b[A\n",
      " 47%|████▋     | 35271680/75175004 [01:04<01:08, 582990.06B/s]\u001b[A\n",
      " 47%|████▋     | 35432448/75175004 [01:04<01:08, 580903.49B/s]\u001b[A\n",
      " 47%|████▋     | 35592192/75175004 [01:04<01:08, 578645.21B/s]\u001b[A\n",
      " 48%|████▊     | 35760128/75175004 [01:04<01:07, 585404.62B/s]\u001b[A\n",
      " 48%|████▊     | 35919872/75175004 [01:05<01:07, 581127.85B/s]\u001b[A\n",
      " 48%|████▊     | 36079616/75175004 [01:05<00:58, 673219.18B/s]\u001b[A\n",
      " 48%|████▊     | 36153344/75175004 [01:05<01:01, 634506.49B/s]\u001b[A\n",
      " 48%|████▊     | 36240384/75175004 [01:05<00:57, 677244.80B/s]\u001b[A\n",
      " 48%|████▊     | 36312064/75175004 [01:05<01:07, 572320.14B/s]\u001b[A\n",
      " 48%|████▊     | 36408320/75175004 [01:05<01:20, 480075.47B/s]\u001b[A\n",
      " 49%|████▊     | 36559872/75175004 [01:06<01:04, 600452.79B/s]\u001b[A\n",
      " 49%|████▊     | 36641792/75175004 [01:06<01:10, 548723.83B/s]\u001b[A\n",
      " 49%|████▉     | 36727808/75175004 [01:06<01:08, 560398.18B/s]\u001b[A\n",
      " 49%|████▉     | 36795392/75175004 [01:06<01:10, 543243.59B/s]\u001b[A\n",
      " 49%|████▉     | 36887552/75175004 [01:06<01:02, 612913.78B/s]\u001b[A\n",
      " 49%|████▉     | 36958208/75175004 [01:06<01:11, 532074.53B/s]\u001b[A\n",
      " 49%|████▉     | 37055488/75175004 [01:07<01:22, 463303.23B/s]\u001b[A\n",
      " 49%|████▉     | 37208064/75175004 [01:07<01:05, 582276.06B/s]\u001b[A\n",
      " 50%|████▉     | 37289984/75175004 [01:07<01:10, 537175.15B/s]\u001b[A\n",
      " 50%|████▉     | 37376000/75175004 [01:07<01:25, 443808.78B/s]\u001b[A\n",
      " 50%|████▉     | 37527552/75175004 [01:07<01:07, 560207.76B/s]\u001b[A\n",
      " 50%|█████     | 37612544/75175004 [01:07<01:10, 530648.98B/s]\u001b[A\n",
      " 50%|█████     | 37695488/75175004 [01:08<01:07, 551862.30B/s]\u001b[A\n",
      " 50%|█████     | 37765120/75175004 [01:08<01:10, 531402.70B/s]\u001b[A\n",
      " 50%|█████     | 37856256/75175004 [01:08<01:02, 601715.37B/s]\u001b[A\n",
      " 50%|█████     | 37926912/75175004 [01:08<01:10, 525866.19B/s]\u001b[A\n",
      " 51%|█████     | 38016000/75175004 [01:08<01:06, 558435.13B/s]\u001b[A\n",
      " 51%|█████     | 38079488/75175004 [01:08<01:11, 519328.17B/s]\u001b[A\n",
      " 51%|█████     | 38175744/75175004 [01:08<01:01, 597149.83B/s]\u001b[A\n",
      " 51%|█████     | 38244352/75175004 [01:09<01:11, 517549.92B/s]\u001b[A\n",
      " 51%|█████     | 38335488/75175004 [01:09<01:02, 588846.55B/s]\u001b[A\n",
      " 51%|█████     | 38403072/75175004 [01:09<01:12, 510450.95B/s]\u001b[A\n",
      " 51%|█████     | 38496256/75175004 [01:09<01:02, 584890.92B/s]\u001b[A\n",
      " 51%|█████▏    | 38564864/75175004 [01:09<01:11, 510788.87B/s]\u001b[A\n",
      " 51%|█████▏    | 38664192/75175004 [01:09<01:05, 560784.67B/s]\u001b[A\n",
      " 52%|█████▏    | 38727680/75175004 [01:09<01:10, 520666.62B/s]\u001b[A\n",
      " 52%|█████▏    | 38822912/75175004 [01:10<01:00, 602607.04B/s]\u001b[A\n",
      " 52%|█████▏    | 38892544/75175004 [01:10<01:10, 517550.61B/s]\u001b[A\n",
      " 52%|█████▏    | 38975488/75175004 [01:10<01:02, 578161.45B/s]\u001b[A\n",
      " 52%|█████▏    | 39042048/75175004 [01:10<01:12, 500274.10B/s]\u001b[A\n",
      " 52%|█████▏    | 39144448/75175004 [01:10<01:01, 586898.86B/s]\u001b[A\n",
      " 52%|█████▏    | 39215104/75175004 [01:10<01:09, 516841.51B/s]\u001b[A\n",
      " 52%|█████▏    | 39304192/75175004 [01:10<01:01, 586765.00B/s]\u001b[A\n",
      " 52%|█████▏    | 39372800/75175004 [01:11<01:10, 510876.89B/s]\u001b[A\n",
      " 52%|█████▏    | 39463936/75175004 [01:11<01:01, 583422.47B/s]\u001b[A\n",
      " 53%|█████▎    | 39532544/75175004 [01:11<01:09, 509808.44B/s]\u001b[A\n",
      " 53%|█████▎    | 39623680/75175004 [01:11<01:01, 582421.89B/s]\u001b[A\n"
     ]
    },
    {
     "name": "stderr",
     "output_type": "stream",
     "text": [
      " 53%|█████▎    | 39692288/75175004 [01:11<01:09, 509623.67B/s]\u001b[A\n",
      " 53%|█████▎    | 39784448/75175004 [01:11<01:00, 582995.08B/s]\u001b[A\n",
      " 53%|█████▎    | 39853056/75175004 [01:11<01:09, 509987.15B/s]\u001b[A\n",
      " 53%|█████▎    | 39952384/75175004 [01:11<01:02, 559799.79B/s]\u001b[A\n",
      " 53%|█████▎    | 40015872/75175004 [01:12<01:07, 520049.70B/s]\u001b[A\n",
      " 53%|█████▎    | 40112128/75175004 [01:12<00:58, 598497.52B/s]\u001b[A\n",
      " 53%|█████▎    | 40180736/75175004 [01:12<01:07, 518091.09B/s]\u001b[A\n",
      " 54%|█████▎    | 40271872/75175004 [01:12<00:59, 589629.73B/s]\u001b[A\n",
      " 54%|█████▎    | 40340480/75175004 [01:12<01:08, 511996.75B/s]\u001b[A\n",
      " 54%|█████▍    | 40439808/75175004 [01:12<01:01, 562594.38B/s]\u001b[A\n",
      " 54%|█████▍    | 40503296/75175004 [01:12<01:06, 522267.33B/s]\u001b[A\n",
      " 54%|█████▍    | 40599552/75175004 [01:13<00:57, 599872.67B/s]\u001b[A\n",
      " 54%|█████▍    | 40668160/75175004 [01:13<01:06, 517708.79B/s]\u001b[A\n",
      " 54%|█████▍    | 40752128/75175004 [01:13<00:59, 580366.83B/s]\u001b[A\n",
      " 54%|█████▍    | 40818688/75175004 [01:13<01:08, 502452.15B/s]\u001b[A\n",
      " 54%|█████▍    | 40920064/75175004 [01:13<00:58, 586998.13B/s]\u001b[A\n",
      " 55%|█████▍    | 40989696/75175004 [01:13<01:06, 513874.05B/s]\u001b[A\n",
      " 55%|█████▍    | 41079808/75175004 [01:13<00:58, 585430.77B/s]\u001b[A\n",
      " 55%|█████▍    | 41148416/75175004 [01:14<01:06, 509910.89B/s]\u001b[A\n",
      " 55%|█████▍    | 41239552/75175004 [01:14<00:58, 583412.73B/s]\u001b[A\n",
      " 55%|█████▍    | 41308160/75175004 [01:14<01:06, 509432.85B/s]\u001b[A\n",
      " 55%|█████▌    | 41400320/75175004 [01:14<00:57, 583795.19B/s]\u001b[A\n",
      " 55%|█████▌    | 41468928/75175004 [01:14<01:06, 509383.33B/s]\u001b[A\n",
      " 55%|█████▌    | 41560064/75175004 [01:14<00:57, 586881.46B/s]\u001b[A\n",
      " 55%|█████▌    | 41629696/75175004 [01:14<01:05, 509638.25B/s]\u001b[A\n",
      " 55%|█████▌    | 41719808/75175004 [01:15<00:57, 585888.20B/s]\u001b[A\n",
      " 56%|█████▌    | 41789440/75175004 [01:15<01:05, 508751.50B/s]\u001b[A\n",
      " 56%|█████▌    | 41887744/75175004 [01:15<00:56, 590606.56B/s]\u001b[A\n",
      " 56%|█████▌    | 41958400/75175004 [01:15<01:04, 518294.61B/s]\u001b[A\n",
      " 56%|█████▌    | 42047488/75175004 [01:15<00:56, 588281.35B/s]\u001b[A\n",
      " 56%|█████▌    | 42117120/75175004 [01:15<01:04, 514594.24B/s]\u001b[A\n",
      " 56%|█████▌    | 42216448/75175004 [01:15<00:55, 597170.93B/s]\u001b[A\n",
      " 56%|█████▋    | 42288128/75175004 [01:16<01:02, 524342.08B/s]\u001b[A\n",
      " 56%|█████▋    | 42376192/75175004 [01:16<00:58, 558144.13B/s]\u001b[A\n",
      " 56%|█████▋    | 42439680/75175004 [01:16<01:03, 515194.67B/s]\u001b[A\n",
      " 57%|█████▋    | 42535936/75175004 [01:16<00:57, 563173.36B/s]\u001b[A\n",
      " 57%|█████▋    | 42598400/75175004 [01:16<01:03, 515775.97B/s]\u001b[A\n",
      " 57%|█████▋    | 42703872/75175004 [01:16<00:56, 572611.47B/s]\u001b[A\n",
      " 57%|█████▋    | 42766336/75175004 [01:16<01:01, 525185.92B/s]\u001b[A\n",
      " 57%|█████▋    | 42863616/75175004 [01:17<00:56, 569973.31B/s]\u001b[A\n",
      " 57%|█████▋    | 42925056/75175004 [01:17<01:01, 520222.29B/s]\u001b[A\n",
      " 57%|█████▋    | 43024384/75175004 [01:17<00:56, 571664.84B/s]\u001b[A\n",
      " 57%|█████▋    | 43085824/75175004 [01:17<01:02, 517468.41B/s]\u001b[A\n",
      " 57%|█████▋    | 43184128/75175004 [01:17<00:56, 562906.17B/s]\u001b[A\n",
      " 58%|█████▊    | 43244544/75175004 [01:17<01:01, 515812.12B/s]\u001b[A\n",
      " 58%|█████▊    | 43335680/75175004 [01:17<00:53, 589657.22B/s]\u001b[A\n",
      " 58%|█████▊    | 43401216/75175004 [01:17<01:03, 502124.57B/s]\u001b[A\n",
      " 58%|█████▊    | 43496448/75175004 [01:18<00:54, 581891.26B/s]\u001b[A\n",
      " 58%|█████▊    | 43564032/75175004 [01:18<01:02, 504358.59B/s]\u001b[A\n",
      " 58%|█████▊    | 43664384/75175004 [01:18<00:56, 554412.60B/s]\u001b[A\n",
      " 58%|█████▊    | 43727872/75175004 [01:18<01:00, 519614.93B/s]\u001b[A\n",
      " 58%|█████▊    | 43824128/75175004 [01:18<00:55, 566164.50B/s]\u001b[A\n",
      " 58%|█████▊    | 43886592/75175004 [01:18<01:00, 518613.72B/s]\u001b[A\n",
      " 59%|█████▊    | 43983872/75175004 [01:18<00:55, 566806.78B/s]\u001b[A\n",
      " 59%|█████▊    | 44045312/75175004 [01:19<01:00, 515782.11B/s]\u001b[A\n",
      " 59%|█████▊    | 44143616/75175004 [01:19<00:52, 592372.62B/s]\u001b[A\n",
      " 59%|█████▉    | 44210176/75175004 [01:19<01:00, 513020.19B/s]\u001b[A\n",
      " 59%|█████▉    | 44311552/75175004 [01:19<00:54, 563109.02B/s]\u001b[A\n",
      " 59%|█████▉    | 44374016/75175004 [01:19<00:59, 521986.67B/s]\u001b[A\n",
      " 59%|█████▉    | 44472320/75175004 [01:19<00:53, 570879.94B/s]\u001b[A\n",
      " 59%|█████▉    | 44534784/75175004 [01:19<00:58, 521199.92B/s]\u001b[A\n",
      " 59%|█████▉    | 44632064/75175004 [01:20<00:51, 596235.99B/s]\u001b[A\n",
      " 59%|█████▉    | 44698624/75175004 [01:20<00:59, 514539.29B/s]\u001b[A\n",
      " 60%|█████▉    | 44791808/75175004 [01:20<00:51, 584765.32B/s]\u001b[A\n",
      " 60%|█████▉    | 44858368/75175004 [01:20<00:59, 509149.60B/s]\u001b[A\n",
      " 60%|█████▉    | 44951552/75175004 [01:20<00:52, 580198.05B/s]\u001b[A\n",
      " 60%|█████▉    | 45019136/75175004 [01:20<00:59, 509469.67B/s]\u001b[A\n",
      " 60%|██████    | 45119488/75175004 [01:20<00:53, 558542.59B/s]\u001b[A\n",
      " 60%|██████    | 45182976/75175004 [01:21<00:57, 523233.20B/s]\u001b[A\n",
      " 60%|██████    | 45280256/75175004 [01:21<00:52, 565634.38B/s]\u001b[A\n",
      " 60%|██████    | 45341696/75175004 [01:21<00:57, 520822.39B/s]\u001b[A\n",
      " 60%|██████    | 45440000/75175004 [01:21<00:52, 570382.12B/s]\u001b[A\n",
      " 61%|██████    | 45501440/75175004 [01:21<00:57, 517194.09B/s]\u001b[A\n",
      " 61%|██████    | 45599744/75175004 [01:21<00:49, 594093.68B/s]\u001b[A\n",
      " 61%|██████    | 45666304/75175004 [01:21<00:57, 510794.91B/s]\u001b[A\n",
      " 61%|██████    | 45759488/75175004 [01:22<00:50, 584395.86B/s]\u001b[A\n",
      " 61%|██████    | 45827072/75175004 [01:22<00:57, 508323.41B/s]\u001b[A\n",
      " 61%|██████    | 45928448/75175004 [01:22<00:53, 544778.06B/s]\u001b[A\n",
      " 61%|██████    | 45989888/75175004 [01:22<00:55, 529250.75B/s]\u001b[A\n",
      " 61%|██████▏   | 46088192/75175004 [01:22<00:50, 574328.04B/s]\u001b[A\n",
      " 61%|██████▏   | 46150656/75175004 [01:22<00:55, 526792.05B/s]\u001b[A\n",
      " 62%|██████▏   | 46247936/75175004 [01:22<00:50, 570438.51B/s]\u001b[A\n",
      " 62%|██████▏   | 46309376/75175004 [01:23<00:55, 521798.97B/s]\u001b[A\n",
      " 62%|██████▏   | 46407680/75175004 [01:23<00:50, 567833.79B/s]\u001b[A\n",
      " 62%|██████▏   | 46468096/75175004 [01:23<00:55, 517117.01B/s]\u001b[A\n",
      " 62%|██████▏   | 46568448/75175004 [01:23<00:47, 599199.26B/s]\u001b[A\n",
      " 62%|██████▏   | 46636032/75175004 [01:23<00:55, 515226.40B/s]\u001b[A\n",
      " 62%|██████▏   | 46736384/75175004 [01:23<00:51, 549392.27B/s]\u001b[A\n",
      " 62%|██████▏   | 46797824/75175004 [01:23<00:53, 531517.94B/s]\u001b[A\n",
      " 62%|██████▏   | 46896128/75175004 [01:24<00:50, 559203.58B/s]\u001b[A\n",
      " 62%|██████▏   | 46955520/75175004 [01:24<00:53, 532186.18B/s]\u001b[A\n",
      " 63%|██████▎   | 47055872/75175004 [01:24<00:45, 614050.13B/s]\u001b[A\n",
      " 63%|██████▎   | 47124480/75175004 [01:24<00:53, 526204.31B/s]\u001b[A\n",
      " 63%|██████▎   | 47215616/75175004 [01:24<00:46, 596897.15B/s]\u001b[A\n",
      " 63%|██████▎   | 47283200/75175004 [01:24<00:54, 514263.37B/s]\u001b[A\n",
      " 63%|██████▎   | 47383552/75175004 [01:24<00:52, 526219.52B/s]\u001b[A\n",
      " 63%|██████▎   | 47497216/75175004 [01:24<00:44, 627278.72B/s]\u001b[A\n",
      " 63%|██████▎   | 47571968/75175004 [01:25<00:58, 473591.05B/s]\u001b[A\n",
      " 63%|██████▎   | 47695872/75175004 [01:25<00:48, 560925.50B/s]\u001b[A\n",
      " 64%|██████▎   | 47768576/75175004 [01:25<00:54, 500014.54B/s]\u001b[A\n",
      " 64%|██████▎   | 47855616/75175004 [01:25<00:48, 568282.70B/s]\u001b[A\n",
      " 64%|██████▍   | 47925248/75175004 [01:25<00:53, 505426.33B/s]\u001b[A\n",
      " 64%|██████▍   | 48023552/75175004 [01:25<00:49, 551544.04B/s]\u001b[A\n",
      " 64%|██████▍   | 48087040/75175004 [01:26<00:52, 519999.76B/s]\u001b[A\n",
      " 64%|██████▍   | 48184320/75175004 [01:26<00:45, 598027.67B/s]\u001b[A\n",
      " 64%|██████▍   | 48252928/75175004 [01:26<00:51, 517777.47B/s]\u001b[A\n",
      " 64%|██████▍   | 48344064/75175004 [01:26<00:45, 589442.94B/s]\u001b[A\n",
      " 64%|██████▍   | 48412672/75175004 [01:26<00:52, 513333.65B/s]\u001b[A\n",
      " 65%|██████▍   | 48503808/75175004 [01:26<00:45, 585292.14B/s]\u001b[A\n",
      " 65%|██████▍   | 48572416/75175004 [01:26<00:51, 511860.33B/s]\u001b[A\n",
      " 65%|██████▍   | 48671744/75175004 [01:27<00:47, 558038.32B/s]\u001b[A\n",
      " 65%|██████▍   | 48735232/75175004 [01:27<00:50, 524048.04B/s]\u001b[A\n",
      " 65%|██████▍   | 48831488/75175004 [01:27<00:46, 566942.12B/s]\u001b[A\n",
      " 65%|██████▌   | 48892928/75175004 [01:27<00:50, 519812.29B/s]\u001b[A\n",
      " 65%|██████▌   | 48984064/75175004 [01:27<00:44, 589933.40B/s]\u001b[A\n",
      " 65%|██████▌   | 49049600/75175004 [01:27<00:51, 505781.97B/s]\u001b[A\n",
      " 65%|██████▌   | 49152000/75175004 [01:27<00:44, 590042.30B/s]\u001b[A\n",
      " 65%|██████▌   | 49221632/75175004 [01:28<00:50, 516815.54B/s]\u001b[A\n",
      " 66%|██████▌   | 49311744/75175004 [01:28<00:44, 586800.62B/s]\u001b[A\n",
      " 66%|██████▌   | 49380352/75175004 [01:28<00:50, 510902.60B/s]\u001b[A\n",
      " 66%|██████▌   | 49471488/75175004 [01:28<00:44, 584005.91B/s]\u001b[A\n",
      " 66%|██████▌   | 49540096/75175004 [01:28<00:50, 511089.42B/s]\u001b[A\n",
      " 66%|██████▌   | 49632256/75175004 [01:28<00:43, 584009.42B/s]\u001b[A\n",
      " 66%|██████▌   | 49700864/75175004 [01:28<00:50, 509433.62B/s]\u001b[A\n"
     ]
    },
    {
     "name": "stderr",
     "output_type": "stream",
     "text": [
      " 66%|██████▌   | 49800192/75175004 [01:28<00:42, 592314.11B/s]\u001b[A\n",
      " 66%|██████▋   | 49870848/75175004 [01:29<00:48, 519292.43B/s]\u001b[A\n",
      " 66%|██████▋   | 49959936/75175004 [01:29<00:45, 554038.03B/s]\u001b[A\n",
      " 67%|██████▋   | 50023424/75175004 [01:29<00:48, 515918.33B/s]\u001b[A\n",
      " 67%|██████▋   | 50119680/75175004 [01:29<00:42, 595109.71B/s]\u001b[A\n",
      " 67%|██████▋   | 50188288/75175004 [01:29<00:48, 515090.68B/s]\u001b[A\n",
      " 67%|██████▋   | 50287616/75175004 [01:29<00:44, 562019.53B/s]\u001b[A\n",
      " 67%|██████▋   | 50351104/75175004 [01:29<00:47, 524641.29B/s]\u001b[A\n",
      " 67%|██████▋   | 50448384/75175004 [01:30<00:43, 570001.05B/s]\u001b[A\n",
      " 67%|██████▋   | 50510848/75175004 [01:30<00:47, 522726.03B/s]\u001b[A\n",
      " 67%|██████▋   | 50608128/75175004 [01:30<00:40, 602063.69B/s]\u001b[A\n",
      " 67%|██████▋   | 50675712/75175004 [01:30<00:47, 516205.86B/s]\u001b[A\n",
      " 68%|██████▊   | 50776064/75175004 [01:30<00:43, 564504.58B/s]\u001b[A\n",
      " 68%|██████▊   | 50839552/75175004 [01:30<00:46, 526092.13B/s]\u001b[A\n",
      " 68%|██████▊   | 50935808/75175004 [01:30<00:42, 567142.69B/s]\u001b[A\n",
      " 68%|██████▊   | 50997248/75175004 [01:31<00:46, 521960.48B/s]\u001b[A\n",
      " 68%|██████▊   | 51095552/75175004 [01:31<00:42, 568862.86B/s]\u001b[A\n",
      " 68%|██████▊   | 51156992/75175004 [01:31<00:46, 519831.81B/s]\u001b[A\n",
      " 68%|██████▊   | 51256320/75175004 [01:31<00:42, 569321.76B/s]\u001b[A\n",
      " 68%|██████▊   | 51317760/75175004 [01:31<00:45, 519023.33B/s]\u001b[A\n",
      " 68%|██████▊   | 51416064/75175004 [01:31<00:41, 566583.28B/s]\u001b[A\n",
      " 68%|██████▊   | 51477504/75175004 [01:31<00:45, 518004.94B/s]\u001b[A\n",
      " 69%|██████▊   | 51575808/75175004 [01:32<00:39, 596998.07B/s]\u001b[A\n",
      " 69%|██████▊   | 51642368/75175004 [01:32<00:45, 512281.09B/s]\u001b[A\n",
      " 69%|██████▉   | 51735552/75175004 [01:32<00:42, 553618.85B/s]\u001b[A\n",
      " 69%|██████▉   | 51796992/75175004 [01:32<00:45, 511159.88B/s]\u001b[A\n",
      " 69%|██████▉   | 51896320/75175004 [01:32<00:41, 560504.76B/s]\u001b[A\n",
      " 69%|██████▉   | 51957760/75175004 [01:32<00:45, 515537.99B/s]\u001b[A\n",
      " 69%|██████▉   | 52056064/75175004 [01:32<00:38, 593894.83B/s]\u001b[A\n",
      " 69%|██████▉   | 52122624/75175004 [01:33<00:45, 510735.72B/s]\u001b[A\n",
      " 69%|██████▉   | 52224000/75175004 [01:33<00:40, 563575.15B/s]\u001b[A\n",
      " 70%|██████▉   | 52287488/75175004 [01:33<00:43, 521888.09B/s]\u001b[A\n",
      " 70%|██████▉   | 52383744/75175004 [01:33<00:40, 566469.19B/s]\u001b[A\n",
      " 70%|██████▉   | 52445184/75175004 [01:33<00:43, 518099.68B/s]\u001b[A\n",
      " 70%|██████▉   | 52543488/75175004 [01:33<00:37, 597264.68B/s]\u001b[A\n",
      " 70%|██████▉   | 52611072/75175004 [01:33<00:43, 515206.61B/s]\u001b[A\n",
      " 70%|███████   | 52704256/75175004 [01:33<00:38, 588894.53B/s]\u001b[A\n",
      " 70%|███████   | 52771840/75175004 [01:34<00:43, 510853.19B/s]\u001b[A\n",
      " 70%|███████   | 52872192/75175004 [01:34<00:39, 562599.54B/s]\u001b[A\n",
      " 70%|███████   | 52935680/75175004 [01:34<00:42, 520836.54B/s]\u001b[A\n",
      " 71%|███████   | 53031936/75175004 [01:34<00:39, 565812.01B/s]\u001b[A\n",
      " 71%|███████   | 53094400/75175004 [01:34<00:42, 520268.31B/s]\u001b[A\n",
      " 71%|███████   | 53191680/75175004 [01:34<00:38, 565376.85B/s]\u001b[A\n",
      " 71%|███████   | 53253120/75175004 [01:35<00:42, 517645.46B/s]\u001b[A\n",
      " 71%|███████   | 53352448/75175004 [01:35<00:38, 566561.62B/s]\u001b[A\n",
      " 71%|███████   | 53413888/75175004 [01:35<00:41, 518195.38B/s]\u001b[A\n",
      " 71%|███████   | 53512192/75175004 [01:35<00:36, 598186.97B/s]\u001b[A\n",
      " 71%|███████▏  | 53579776/75175004 [01:35<00:41, 515221.34B/s]\u001b[A\n",
      " 71%|███████▏  | 53680128/75175004 [01:35<00:38, 564838.75B/s]\u001b[A\n",
      " 71%|███████▏  | 53743616/75175004 [01:35<00:40, 524627.64B/s]\u001b[A\n",
      " 72%|███████▏  | 53839872/75175004 [01:35<00:37, 567178.43B/s]\u001b[A\n",
      " 72%|███████▏  | 53901312/75175004 [01:36<00:40, 518879.06B/s]\u001b[A\n",
      " 72%|███████▏  | 53999616/75175004 [01:36<00:35, 599787.80B/s]\u001b[A\n",
      " 72%|███████▏  | 54067200/75175004 [01:36<00:40, 514848.85B/s]\u001b[A\n",
      " 72%|███████▏  | 54167552/75175004 [01:36<00:37, 565058.94B/s]\u001b[A\n",
      " 72%|███████▏  | 54231040/75175004 [01:36<00:39, 524142.09B/s]\u001b[A\n",
      " 72%|███████▏  | 54328320/75175004 [01:36<00:36, 569182.30B/s]\u001b[A\n",
      " 72%|███████▏  | 54390784/75175004 [01:36<00:39, 523192.10B/s]\u001b[A\n",
      " 72%|███████▏  | 54488064/75175004 [01:37<00:36, 568076.32B/s]\u001b[A\n",
      " 73%|███████▎  | 54549504/75175004 [01:37<00:39, 519309.65B/s]\u001b[A\n",
      " 73%|███████▎  | 54647808/75175004 [01:37<00:34, 599760.68B/s]\u001b[A\n",
      " 73%|███████▎  | 54715392/75175004 [01:37<00:39, 515721.97B/s]\u001b[A\n",
      " 73%|███████▎  | 54807552/75175004 [01:37<00:34, 588880.83B/s]\u001b[A\n",
      " 73%|███████▎  | 54875136/75175004 [01:37<00:39, 509925.73B/s]\u001b[A\n",
      " 73%|███████▎  | 54968320/75175004 [01:37<00:34, 584485.99B/s]\u001b[A\n",
      " 73%|███████▎  | 55036928/75175004 [01:38<00:39, 510741.73B/s]\u001b[A\n",
      " 73%|███████▎  | 55136256/75175004 [01:38<00:35, 560615.87B/s]\u001b[A\n",
      " 73%|███████▎  | 55199744/75175004 [01:38<00:38, 520617.26B/s]\u001b[A\n",
      " 74%|███████▎  | 55296000/75175004 [01:38<00:35, 564891.73B/s]\u001b[A\n",
      " 74%|███████▎  | 55358464/75175004 [01:38<00:38, 520391.34B/s]\u001b[A\n",
      " 74%|███████▍  | 55447552/75175004 [01:38<00:33, 588511.18B/s]\u001b[A\n",
      " 74%|███████▍  | 55513088/75175004 [01:38<00:39, 503971.63B/s]\u001b[A\n",
      " 74%|███████▍  | 55615488/75175004 [01:39<00:33, 588679.40B/s]\u001b[A\n",
      " 74%|███████▍  | 55685120/75175004 [01:39<00:37, 516677.05B/s]\u001b[A\n",
      " 74%|███████▍  | 55776256/75175004 [01:39<00:33, 587072.88B/s]\u001b[A\n",
      " 74%|███████▍  | 55844864/75175004 [01:39<00:37, 513241.16B/s]\u001b[A\n",
      " 74%|███████▍  | 55936000/75175004 [01:39<00:32, 584134.84B/s]\u001b[A\n",
      " 74%|███████▍  | 56003584/75175004 [01:39<00:37, 508847.15B/s]\u001b[A\n",
      " 75%|███████▍  | 56103936/75175004 [01:39<00:32, 590614.75B/s]\u001b[A\n",
      " 75%|███████▍  | 56173568/75175004 [01:40<00:36, 517873.84B/s]\u001b[A\n",
      " 75%|███████▍  | 56263680/75175004 [01:40<00:32, 587040.44B/s]\u001b[A\n",
      " 75%|███████▍  | 56332288/75175004 [01:40<00:36, 513408.68B/s]\u001b[A\n",
      " 75%|███████▌  | 56424448/75175004 [01:40<00:32, 585435.67B/s]\u001b[A\n",
      " 75%|███████▌  | 56493056/75175004 [01:40<00:36, 511943.18B/s]\u001b[A\n",
      " 75%|███████▌  | 56584192/75175004 [01:40<00:31, 583190.24B/s]\u001b[A\n",
      " 75%|███████▌  | 56651776/75175004 [01:40<00:36, 508472.00B/s]\u001b[A\n",
      " 75%|███████▌  | 56743936/75175004 [01:40<00:31, 583166.44B/s]\u001b[A\n",
      " 76%|███████▌  | 56812544/75175004 [01:41<00:36, 508799.97B/s]\u001b[A\n",
      " 76%|███████▌  | 56911872/75175004 [01:41<00:30, 589837.46B/s]\u001b[A\n",
      " 76%|███████▌  | 56982528/75175004 [01:41<00:35, 519363.71B/s]\u001b[A\n",
      " 76%|███████▌  | 57071616/75175004 [01:41<00:30, 588093.52B/s]\u001b[A\n",
      " 76%|███████▌  | 57140224/75175004 [01:41<00:35, 512659.34B/s]\u001b[A\n",
      " 76%|███████▌  | 57232384/75175004 [01:41<00:30, 587465.37B/s]\u001b[A\n",
      " 76%|███████▌  | 57300992/75175004 [01:41<00:35, 509556.10B/s]\u001b[A\n",
      " 76%|███████▋  | 57392128/75175004 [01:42<00:30, 578935.82B/s]\u001b[A\n",
      " 76%|███████▋  | 57459712/75175004 [01:42<00:34, 507623.96B/s]\u001b[A\n",
      " 77%|███████▋  | 57551872/75175004 [01:42<00:32, 549673.53B/s]\u001b[A\n",
      " 77%|███████▋  | 57614336/75175004 [01:42<00:34, 510674.27B/s]\u001b[A\n",
      " 77%|███████▋  | 57711616/75175004 [01:42<00:29, 586471.92B/s]\u001b[A\n",
      " 77%|███████▋  | 57778176/75175004 [01:42<00:34, 508964.85B/s]\u001b[A\n",
      " 77%|███████▋  | 57879552/75175004 [01:42<00:30, 562533.28B/s]\u001b[A\n",
      " 77%|███████▋  | 57943040/75175004 [01:43<00:33, 521916.34B/s]\u001b[A\n",
      " 77%|███████▋  | 58040320/75175004 [01:43<00:30, 567466.46B/s]\u001b[A\n",
      " 77%|███████▋  | 58102784/75175004 [01:43<00:32, 521793.98B/s]\u001b[A\n",
      " 77%|███████▋  | 58200064/75175004 [01:43<00:29, 567202.41B/s]\u001b[A\n",
      " 78%|███████▊  | 58261504/75175004 [01:43<00:32, 518734.56B/s]\u001b[A\n",
      " 78%|███████▊  | 58359808/75175004 [01:43<00:28, 595319.12B/s]\u001b[A\n",
      " 78%|███████▊  | 58426368/75175004 [01:43<00:32, 513833.94B/s]\u001b[A\n",
      " 78%|███████▊  | 58527744/75175004 [01:44<00:29, 566425.16B/s]\u001b[A\n",
      " 78%|███████▊  | 58591232/75175004 [01:44<00:31, 524679.70B/s]\u001b[A\n",
      " 78%|███████▊  | 58687488/75175004 [01:44<00:29, 567867.03B/s]\u001b[A\n",
      " 78%|███████▊  | 58748928/75175004 [01:44<00:31, 517841.03B/s]\u001b[A\n",
      " 78%|███████▊  | 58848256/75175004 [01:44<00:28, 567207.31B/s]\u001b[A\n",
      " 78%|███████▊  | 58909696/75175004 [01:44<00:31, 517930.78B/s]\u001b[A\n",
      " 78%|███████▊  | 58999808/75175004 [01:44<00:27, 584770.76B/s]\u001b[A\n",
      " 79%|███████▊  | 59064320/75175004 [01:45<00:32, 503279.33B/s]\u001b[A\n",
      " 79%|███████▊  | 59159552/75175004 [01:45<00:27, 576925.84B/s]\u001b[A\n",
      " 79%|███████▉  | 59226112/75175004 [01:45<00:31, 506377.14B/s]\u001b[A\n",
      " 79%|███████▉  | 59327488/75175004 [01:45<00:28, 557784.32B/s]\u001b[A\n",
      " 79%|███████▉  | 59389952/75175004 [01:45<00:30, 518777.85B/s]\u001b[A\n",
      " 79%|███████▉  | 59488256/75175004 [01:45<00:26, 592677.42B/s]\u001b[A\n",
      " 79%|███████▉  | 59554816/75175004 [01:45<00:30, 513804.40B/s]\u001b[A\n",
      " 79%|███████▉  | 59648000/75175004 [01:45<00:26, 583626.04B/s]\u001b[A\n",
      " 79%|███████▉  | 59714560/75175004 [01:46<00:30, 508815.11B/s]\u001b[A\n"
     ]
    },
    {
     "name": "stderr",
     "output_type": "stream",
     "text": [
      " 80%|███████▉  | 59815936/75175004 [01:46<00:27, 561850.98B/s]\u001b[A\n",
      " 80%|███████▉  | 59879424/75175004 [01:46<00:29, 522730.75B/s]\u001b[A\n",
      " 80%|███████▉  | 59975680/75175004 [01:46<00:25, 594698.71B/s]\u001b[A\n",
      " 80%|███████▉  | 60043264/75175004 [01:46<00:29, 518079.69B/s]\u001b[A\n",
      " 80%|███████▉  | 60136448/75175004 [01:46<00:25, 587287.22B/s]\u001b[A\n",
      " 80%|████████  | 60204032/75175004 [01:46<00:29, 514651.53B/s]\u001b[A\n",
      " 80%|████████  | 60304384/75175004 [01:47<00:26, 564890.72B/s]\u001b[A\n",
      " 80%|████████  | 60367872/75175004 [01:47<00:28, 523905.90B/s]\u001b[A\n",
      " 80%|████████  | 60464128/75175004 [01:47<00:24, 596457.11B/s]\u001b[A\n",
      " 81%|████████  | 60531712/75175004 [01:47<00:28, 519375.36B/s]\u001b[A\n",
      " 81%|████████  | 60623872/75175004 [01:47<00:24, 587043.28B/s]\u001b[A\n",
      " 81%|████████  | 60690432/75175004 [01:47<00:28, 512126.07B/s]\u001b[A\n",
      " 81%|████████  | 60791808/75175004 [01:47<00:25, 562172.19B/s]\u001b[A\n",
      " 81%|████████  | 60855296/75175004 [01:48<00:27, 524358.70B/s]\u001b[A\n",
      " 81%|████████  | 60951552/75175004 [01:48<00:25, 565671.71B/s]\u001b[A\n",
      " 81%|████████  | 61012992/75175004 [01:48<00:27, 521071.08B/s]\u001b[A\n",
      " 81%|████████▏ | 61112320/75175004 [01:48<00:24, 566933.26B/s]\u001b[A\n",
      " 81%|████████▏ | 61173760/75175004 [01:48<00:26, 522042.11B/s]\u001b[A\n",
      " 82%|████████▏ | 61272064/75175004 [01:48<00:23, 596243.64B/s]\u001b[A\n",
      " 82%|████████▏ | 61338624/75175004 [01:48<00:26, 516371.15B/s]\u001b[A\n",
      " 82%|████████▏ | 61440000/75175004 [01:49<00:24, 559806.44B/s]\u001b[A\n",
      " 82%|████████▏ | 61501440/75175004 [01:49<00:25, 526335.62B/s]\u001b[A\n",
      " 82%|████████▏ | 61599744/75175004 [01:49<00:23, 570047.64B/s]\u001b[A\n",
      " 82%|████████▏ | 61661184/75175004 [01:49<00:25, 523049.30B/s]\u001b[A\n",
      " 82%|████████▏ | 61759488/75175004 [01:49<00:22, 597843.55B/s]\u001b[A\n",
      " 82%|████████▏ | 61826048/75175004 [01:49<00:25, 516618.18B/s]\u001b[A\n",
      " 82%|████████▏ | 61920256/75175004 [01:49<00:22, 587313.19B/s]\u001b[A\n",
      " 82%|████████▏ | 61986816/75175004 [01:50<00:25, 511286.70B/s]\u001b[A\n",
      " 83%|████████▎ | 62080000/75175004 [01:50<00:22, 581135.64B/s]\u001b[A\n",
      " 83%|████████▎ | 62146560/75175004 [01:50<00:25, 507957.16B/s]\u001b[A\n",
      " 83%|████████▎ | 62239744/75175004 [01:50<00:22, 577910.86B/s]\u001b[A\n",
      " 83%|████████▎ | 62306304/75175004 [01:50<00:25, 508315.71B/s]\u001b[A\n",
      " 83%|████████▎ | 62399488/75175004 [01:50<00:21, 587529.73B/s]\u001b[A\n",
      " 83%|████████▎ | 62468096/75175004 [01:50<00:25, 507608.71B/s]\u001b[A\n",
      " 83%|████████▎ | 62560256/75175004 [01:50<00:21, 586135.29B/s]\u001b[A\n",
      " 83%|████████▎ | 62629888/75175004 [01:51<00:24, 509285.20B/s]\u001b[A\n",
      " 83%|████████▎ | 62728192/75175004 [01:51<00:21, 583974.22B/s]\u001b[A\n",
      " 84%|████████▎ | 62797824/75175004 [01:51<00:23, 518738.51B/s]\u001b[A\n",
      " 84%|████████▎ | 62887936/75175004 [01:51<00:21, 583215.66B/s]\u001b[A\n",
      " 84%|████████▎ | 62955520/75175004 [01:51<00:23, 512633.22B/s]\u001b[A\n",
      " 84%|████████▍ | 63047680/75175004 [01:51<00:20, 580550.91B/s]\u001b[A\n",
      " 84%|████████▍ | 63114240/75175004 [01:52<00:23, 506665.61B/s]\u001b[A\n",
      " 84%|████████▍ | 63215616/75175004 [01:52<00:21, 559321.28B/s]\u001b[A\n",
      " 84%|████████▍ | 63279104/75175004 [01:52<00:22, 520358.37B/s]\u001b[A\n",
      " 84%|████████▍ | 63376384/75175004 [01:52<00:19, 595805.77B/s]\u001b[A\n",
      " 84%|████████▍ | 63443968/75175004 [01:52<00:22, 516673.04B/s]\u001b[A\n",
      " 85%|████████▍ | 63536128/75175004 [01:52<00:19, 586624.27B/s]\u001b[A\n",
      " 85%|████████▍ | 63603712/75175004 [01:52<00:22, 508074.24B/s]\u001b[A\n",
      " 85%|████████▍ | 63695872/75175004 [01:52<00:19, 582467.92B/s]\u001b[A\n",
      " 85%|████████▍ | 63763456/75175004 [01:53<00:22, 505879.46B/s]\u001b[A\n",
      " 85%|████████▍ | 63855616/75175004 [01:53<00:19, 580555.27B/s]\u001b[A\n",
      " 85%|████████▌ | 63924224/75175004 [01:53<00:22, 507803.19B/s]\u001b[A\n",
      " 85%|████████▌ | 64016384/75175004 [01:53<00:19, 582401.95B/s]\u001b[A\n",
      " 85%|████████▌ | 64084992/75175004 [01:53<00:21, 508691.13B/s]\u001b[A\n",
      " 85%|████████▌ | 64184320/75175004 [01:53<00:18, 591660.20B/s]\u001b[A\n",
      " 85%|████████▌ | 64254976/75175004 [01:53<00:21, 519473.40B/s]\u001b[A\n",
      " 86%|████████▌ | 64344064/75175004 [01:54<00:18, 588638.96B/s]\u001b[A\n",
      " 86%|████████▌ | 64412672/75175004 [01:54<00:21, 511569.77B/s]\u001b[A\n",
      " 86%|████████▌ | 64503808/75175004 [01:54<00:19, 553687.54B/s]\u001b[A\n",
      " 86%|████████▌ | 64566272/75175004 [01:54<00:20, 508055.62B/s]\u001b[A\n",
      " 86%|████████▌ | 64671744/75175004 [01:54<00:18, 567637.51B/s]\u001b[A\n",
      " 86%|████████▌ | 64735232/75175004 [01:54<00:20, 519935.01B/s]\u001b[A\n",
      " 86%|████████▌ | 64831488/75175004 [01:54<00:18, 563717.52B/s]\u001b[A\n",
      " 86%|████████▋ | 64892928/75175004 [01:55<00:19, 516630.66B/s]\u001b[A\n",
      " 86%|████████▋ | 64992256/75175004 [01:55<00:17, 569937.20B/s]\u001b[A\n",
      " 87%|████████▋ | 65054720/75175004 [01:55<00:19, 517962.99B/s]\u001b[A\n",
      " 87%|████████▋ | 65160192/75175004 [01:55<00:18, 546482.41B/s]\u001b[A\n",
      " 87%|████████▋ | 65218560/75175004 [01:55<00:18, 540353.19B/s]\u001b[A\n",
      " 87%|████████▋ | 65319936/75175004 [01:55<00:17, 557821.63B/s]\u001b[A\n",
      " 87%|████████▋ | 65378304/75175004 [01:55<00:17, 548538.10B/s]\u001b[A\n",
      " 87%|████████▋ | 65479680/75175004 [01:56<00:16, 598262.18B/s]\u001b[A\n",
      " 87%|████████▋ | 65542144/75175004 [01:56<00:17, 535634.92B/s]\u001b[A\n",
      " 87%|████████▋ | 65647616/75175004 [01:56<00:17, 556143.17B/s]\u001b[A\n",
      " 87%|████████▋ | 65705984/75175004 [01:56<00:17, 554284.65B/s]\u001b[A\n",
      " 88%|████████▊ | 65808384/75175004 [01:56<00:16, 565323.43B/s]\u001b[A\n",
      " 88%|████████▊ | 65866752/75175004 [01:56<00:16, 560485.31B/s]\u001b[A\n",
      " 88%|████████▊ | 65968128/75175004 [01:56<00:15, 607751.03B/s]\u001b[A\n",
      " 88%|████████▊ | 66031616/75175004 [01:57<00:16, 544477.64B/s]\u001b[A\n",
      " 88%|████████▊ | 66127872/75175004 [01:57<00:15, 587344.48B/s]\u001b[A\n",
      " 88%|████████▊ | 66189312/75175004 [01:57<00:17, 526554.85B/s]\u001b[A\n",
      " 88%|████████▊ | 66287616/75175004 [01:57<00:15, 585162.56B/s]\u001b[A\n",
      " 88%|████████▊ | 66351104/75175004 [01:57<00:17, 515731.77B/s]\u001b[A\n",
      " 88%|████████▊ | 66455552/75175004 [01:57<00:15, 576833.98B/s]\u001b[A\n",
      " 88%|████████▊ | 66519040/75175004 [01:57<00:16, 520294.72B/s]\u001b[A\n",
      " 89%|████████▊ | 66608128/75175004 [01:57<00:14, 579729.84B/s]\u001b[A\n",
      " 89%|████████▊ | 66672640/75175004 [01:58<00:16, 505020.55B/s]\u001b[A\n",
      " 89%|████████▉ | 66776064/75175004 [01:58<00:14, 576692.87B/s]\u001b[A\n",
      " 89%|████████▉ | 66841600/75175004 [01:58<00:16, 515371.02B/s]\u001b[A\n",
      " 89%|████████▉ | 66935808/75175004 [01:58<00:14, 574188.94B/s]\u001b[A\n",
      " 89%|████████▉ | 67000320/75175004 [01:58<00:15, 511376.45B/s]\u001b[A\n",
      " 89%|████████▉ | 67095552/75175004 [01:58<00:13, 580385.91B/s]\u001b[A\n",
      " 89%|████████▉ | 67161088/75175004 [01:58<00:15, 508097.31B/s]\u001b[A\n",
      " 89%|████████▉ | 67223552/75175004 [01:59<00:15, 521547.11B/s]\u001b[A\n",
      " 90%|████████▉ | 67288064/75175004 [01:59<00:14, 528737.62B/s]\u001b[A\n",
      " 90%|████████▉ | 67384320/75175004 [01:59<00:13, 572470.40B/s]\u001b[A\n",
      " 90%|████████▉ | 67445760/75175004 [01:59<00:14, 521356.96B/s]\u001b[A\n",
      " 90%|████████▉ | 67544064/75175004 [01:59<00:13, 573820.63B/s]\u001b[A\n",
      " 90%|████████▉ | 67605504/75175004 [01:59<00:13, 556192.18B/s]\u001b[A\n",
      " 90%|█████████ | 67695616/75175004 [01:59<00:11, 627642.37B/s]\u001b[A\n",
      " 90%|█████████ | 67764224/75175004 [01:59<00:12, 571212.06B/s]\u001b[A\n",
      " 90%|█████████ | 67826688/75175004 [02:00<00:12, 567822.50B/s]\u001b[A\n",
      " 90%|█████████ | 67887104/75175004 [02:00<00:13, 557405.10B/s]\u001b[A\n",
      " 90%|█████████ | 67945472/75175004 [02:00<00:13, 518314.76B/s]\u001b[A\n",
      " 90%|█████████ | 68024320/75175004 [02:00<00:12, 557215.09B/s]\u001b[A\n",
      " 91%|█████████ | 68087808/75175004 [02:00<00:13, 510946.98B/s]\u001b[A\n",
      " 91%|█████████ | 68184064/75175004 [02:00<00:12, 562367.80B/s]\u001b[A\n",
      " 91%|█████████ | 68247552/75175004 [02:00<00:12, 554907.20B/s]\u001b[A\n",
      " 91%|█████████ | 68328448/75175004 [02:00<00:11, 573333.70B/s]\u001b[A\n",
      " 91%|█████████ | 68408320/75175004 [02:01<00:12, 562231.46B/s]\u001b[A\n",
      " 91%|█████████ | 68488192/75175004 [02:01<00:11, 576375.26B/s]\u001b[A\n",
      " 91%|█████████ | 68568064/75175004 [02:01<00:10, 606080.73B/s]\u001b[A\n",
      " 91%|█████████▏| 68630528/75175004 [02:01<00:11, 592140.60B/s]\u001b[A\n",
      " 91%|█████████▏| 68690944/75175004 [02:01<00:11, 573448.33B/s]\u001b[A\n",
      " 91%|█████████▏| 68749312/75175004 [02:01<00:13, 487153.17B/s]\u001b[A\n",
      " 92%|█████████▏| 68847616/75175004 [02:01<00:11, 557542.58B/s]\u001b[A\n",
      " 92%|█████████▏| 68909056/75175004 [02:02<00:12, 488542.06B/s]\u001b[A\n",
      " 92%|█████████▏| 69008384/75175004 [02:02<00:11, 560314.99B/s]\u001b[A\n",
      " 92%|█████████▏| 69072896/75175004 [02:02<00:12, 498859.56B/s]\u001b[A\n",
      " 92%|█████████▏| 69168128/75175004 [02:02<00:10, 565690.30B/s]\u001b[A\n",
      " 92%|█████████▏| 69232640/75175004 [02:02<00:11, 500824.36B/s]\u001b[A\n",
      " 92%|█████████▏| 69336064/75175004 [02:02<00:10, 573499.92B/s]\u001b[A\n",
      " 92%|█████████▏| 69402624/75175004 [02:02<00:11, 512836.07B/s]\u001b[A\n",
      " 92%|█████████▏| 69495808/75175004 [02:03<00:09, 577156.45B/s]\u001b[A\n",
      " 93%|█████████▎| 69561344/75175004 [02:03<00:10, 510944.40B/s]\u001b[A\n"
     ]
    },
    {
     "name": "stderr",
     "output_type": "stream",
     "text": [
      " 93%|█████████▎| 69655552/75175004 [02:03<00:09, 575350.74B/s]\u001b[A\n",
      " 93%|█████████▎| 69721088/75175004 [02:03<00:10, 506995.72B/s]\u001b[A\n",
      " 93%|█████████▎| 69816320/75175004 [02:03<00:09, 574710.89B/s]\u001b[A\n",
      " 93%|█████████▎| 69881856/75175004 [02:03<00:10, 506971.28B/s]\u001b[A\n",
      " 93%|█████████▎| 69976064/75175004 [02:03<00:09, 573661.36B/s]\u001b[A\n",
      " 93%|█████████▎| 70041600/75175004 [02:04<00:10, 507908.29B/s]\u001b[A\n",
      " 93%|█████████▎| 70135808/75175004 [02:04<00:08, 572268.59B/s]\u001b[A\n",
      " 93%|█████████▎| 70201344/75175004 [02:04<00:09, 507800.74B/s]\u001b[A\n",
      " 94%|█████████▎| 70295552/75175004 [02:04<00:08, 572587.66B/s]\u001b[A\n",
      " 94%|█████████▎| 70361088/75175004 [02:04<00:09, 505574.46B/s]\u001b[A\n",
      " 94%|█████████▎| 70448128/75175004 [02:04<00:08, 562899.46B/s]\u001b[A\n",
      " 94%|█████████▍| 70511616/75175004 [02:04<00:09, 496175.96B/s]\u001b[A\n",
      " 94%|█████████▍| 70616064/75175004 [02:04<00:07, 573641.61B/s]\u001b[A\n",
      " 94%|█████████▍| 70682624/75175004 [02:05<00:08, 511446.11B/s]\u001b[A\n",
      " 94%|█████████▍| 70775808/75175004 [02:05<00:07, 574537.42B/s]\u001b[A\n",
      " 94%|█████████▍| 70841344/75175004 [02:05<00:08, 508921.86B/s]\u001b[A\n",
      " 94%|█████████▍| 70935552/75175004 [02:05<00:07, 573269.94B/s]\u001b[A\n",
      " 94%|█████████▍| 71001088/75175004 [02:05<00:08, 508558.26B/s]\u001b[A\n",
      " 95%|█████████▍| 71103488/75175004 [02:05<00:06, 582697.89B/s]\u001b[A\n",
      " 95%|█████████▍| 71171072/75175004 [02:05<00:07, 516706.48B/s]\u001b[A\n",
      " 95%|█████████▍| 71264256/75175004 [02:06<00:06, 581439.35B/s]\u001b[A\n",
      " 95%|█████████▍| 71330816/75175004 [02:06<00:07, 515503.30B/s]\u001b[A\n",
      " 95%|█████████▌| 71424000/75175004 [02:06<00:06, 577783.27B/s]\u001b[A\n",
      " 95%|█████████▌| 71489536/75175004 [02:06<00:07, 510877.91B/s]\u001b[A\n",
      " 95%|█████████▌| 71591936/75175004 [02:06<00:06, 583786.25B/s]\u001b[A\n",
      " 95%|█████████▌| 71658496/75175004 [02:06<00:06, 515570.09B/s]\u001b[A\n",
      " 95%|█████████▌| 71751680/75175004 [02:06<00:05, 572602.85B/s]\u001b[A\n",
      " 96%|█████████▌| 71816192/75175004 [02:07<00:06, 511171.61B/s]\u001b[A\n",
      " 96%|█████████▌| 71912448/75175004 [02:07<00:05, 579114.87B/s]\u001b[A\n",
      " 96%|█████████▌| 71977984/75175004 [02:07<00:06, 509921.89B/s]\u001b[A\n",
      " 96%|█████████▌| 72080384/75175004 [02:07<00:05, 551545.03B/s]\u001b[A\n",
      " 96%|█████████▌| 72141824/75175004 [02:07<00:05, 527617.53B/s]\u001b[A\n",
      " 96%|█████████▌| 72231936/75175004 [02:07<00:05, 584868.56B/s]\u001b[A\n",
      " 96%|█████████▌| 72295424/75175004 [02:07<00:05, 510702.57B/s]\u001b[A\n",
      " 96%|█████████▋| 72391680/75175004 [02:08<00:04, 575716.15B/s]\u001b[A\n",
      " 96%|█████████▋| 72456192/75175004 [02:08<00:05, 508814.09B/s]\u001b[A\n",
      " 97%|█████████▋| 72552448/75175004 [02:08<00:04, 573902.72B/s]\u001b[A\n",
      " 97%|█████████▋| 72616960/75175004 [02:08<00:05, 508014.74B/s]\u001b[A\n",
      " 97%|█████████▋| 72720384/75175004 [02:08<00:04, 548718.88B/s]\u001b[A\n",
      " 97%|█████████▋| 72780800/75175004 [02:08<00:04, 522556.64B/s]\u001b[A\n",
      " 97%|█████████▋| 72880128/75175004 [02:08<00:03, 587221.82B/s]\u001b[A\n",
      " 97%|█████████▋| 72944640/75175004 [02:09<00:04, 518536.71B/s]\u001b[A\n",
      " 97%|█████████▋| 73039872/75175004 [02:09<00:03, 584009.48B/s]\u001b[A\n",
      " 97%|█████████▋| 73105408/75175004 [02:09<00:04, 513468.78B/s]\u001b[A\n",
      " 97%|█████████▋| 73199616/75175004 [02:09<00:03, 578003.19B/s]\u001b[A\n",
      " 97%|█████████▋| 73265152/75175004 [02:09<00:03, 510284.51B/s]\u001b[A\n",
      " 98%|█████████▊| 73360384/75175004 [02:09<00:03, 575901.83B/s]\u001b[A\n",
      " 98%|█████████▊| 73425920/75175004 [02:09<00:03, 509875.63B/s]\u001b[A\n",
      " 98%|█████████▊| 73520128/75175004 [02:09<00:02, 574561.54B/s]\u001b[A\n",
      " 98%|█████████▊| 73585664/75175004 [02:10<00:03, 508760.47B/s]\u001b[A\n",
      " 98%|█████████▊| 73688064/75175004 [02:10<00:02, 546758.16B/s]\u001b[A\n",
      " 98%|█████████▊| 73748480/75175004 [02:10<00:02, 526806.74B/s]\u001b[A\n",
      " 98%|█████████▊| 73847808/75175004 [02:10<00:02, 591184.33B/s]\u001b[A\n",
      " 98%|█████████▊| 73912320/75175004 [02:10<00:02, 519316.69B/s]\u001b[A\n",
      " 98%|█████████▊| 74007552/75175004 [02:10<00:02, 580164.72B/s]\u001b[A\n",
      " 99%|█████████▊| 74072064/75175004 [02:10<00:02, 513501.70B/s]\u001b[A\n",
      " 99%|█████████▊| 74168320/75175004 [02:11<00:01, 572469.20B/s]\u001b[A\n",
      " 99%|█████████▊| 74231808/75175004 [02:11<00:01, 510332.00B/s]\u001b[A\n",
      " 99%|█████████▉| 74328064/75175004 [02:11<00:01, 577422.48B/s]\u001b[A\n",
      " 99%|█████████▉| 74393600/75175004 [02:11<00:01, 509869.37B/s]\u001b[A\n",
      " 99%|█████████▉| 74496000/75175004 [02:11<00:01, 552038.98B/s]\u001b[A\n",
      " 99%|█████████▉| 74557440/75175004 [02:11<00:01, 528257.55B/s]\u001b[A\n",
      " 99%|█████████▉| 74655744/75175004 [02:11<00:00, 588624.33B/s]\u001b[A\n",
      " 99%|█████████▉| 74720256/75175004 [02:12<00:00, 518935.53B/s]\u001b[A\n",
      "100%|█████████▉| 74808320/75175004 [02:12<00:00, 575200.23B/s]\u001b[A\n",
      "100%|█████████▉| 74871808/75175004 [02:12<00:00, 504831.89B/s]\u001b[A\n",
      "100%|█████████▉| 74968064/75175004 [02:12<00:00, 570811.39B/s]\u001b[A\n",
      "100%|█████████▉| 75032576/75175004 [02:12<00:00, 505430.72B/s]\u001b[A\n",
      "100%|██████████| 75175004/75175004 [02:12<00:00, 565834.58B/s]\u001b[A"
     ]
    },
    {
     "name": "stdout",
     "output_type": "stream",
     "text": [
      "2022-07-04 15:04:40,292 copying /tmp/tmpjt6n3dw0 to cache at /home/tproth/.flair/models/en-upos-ontonotes-fast-v0.4.pt\n"
     ]
    },
    {
     "name": "stderr",
     "output_type": "stream",
     "text": [
      "\n"
     ]
    },
    {
     "name": "stdout",
     "output_type": "stream",
     "text": [
      "2022-07-04 15:04:40,438 removing temp file /tmp/tmpjt6n3dw0\n",
      "2022-07-04 15:04:40,448 loading file /home/tproth/.flair/models/en-upos-ontonotes-fast-v0.4.pt\n"
     ]
    },
    {
     "name": "stderr",
     "output_type": "stream",
     "text": [
      " 33%|███▎      | 1/3 [02:35<05:11, 155.89s/it]/home/tproth/Programs/miniconda/envs/nlp_env/lib/python3.8/site-packages/textattack/loggers/csv_logger.py:41: FutureWarning: The frame.append method is deprecated and will be removed from pandas in a future version. Use pandas.concat instead.\n",
      "  self.df = self.df.append(row, ignore_index=True)\n",
      "[Succeeded / Failed / Skipped / Total] 1 / 0 / 0 / 1:  67%|██████▋   | 2/3 [05:36<02:48, 168.40s/it]/home/tproth/Programs/miniconda/envs/nlp_env/lib/python3.8/site-packages/textattack/loggers/csv_logger.py:41: FutureWarning: The frame.append method is deprecated and will be removed from pandas in a future version. Use pandas.concat instead.\n",
      "  self.df = self.df.append(row, ignore_index=True)\n",
      "[Succeeded / Failed / Skipped / Total] 2 / 0 / 0 / 2: 100%|██████████| 3/3 [06:50<00:00, 136.93s/it]/home/tproth/Programs/miniconda/envs/nlp_env/lib/python3.8/site-packages/textattack/loggers/csv_logger.py:41: FutureWarning: The frame.append method is deprecated and will be removed from pandas in a future version. Use pandas.concat instead.\n",
      "  self.df = self.df.append(row, ignore_index=True)\n",
      "[Succeeded / Failed / Skipped / Total] 3 / 0 / 0 / 3: 100%|██████████| 3/3 [06:50<00:00, 136.94s/it]\n"
     ]
    },
    {
     "name": "stdout",
     "output_type": "stream",
     "text": [
      "\n",
      "+-------------------------------+--------+\n",
      "| Attack Results                |        |\n",
      "+-------------------------------+--------+\n",
      "| Number of successful attacks: | 3      |\n",
      "| Number of failed attacks:     | 0      |\n",
      "| Number of skipped attacks:    | 0      |\n",
      "| Original accuracy:            | 100.0% |\n",
      "| Accuracy under attack:        | 0.0%   |\n",
      "| Attack success rate:          | 100.0% |\n",
      "| Average perturbed word %:     | 68.76% |\n",
      "| Average num. words per input: | 16.0   |\n",
      "| Avg num queries:              | 2265.0 |\n",
      "| Average Original Perplexity:  | 446.47 |\n",
      "| Average Attack Perplexity:    | 664.48 |\n",
      "| Average Attack USE Score:     | 0.82   |\n",
      "+-------------------------------+--------+\n"
     ]
    },
    {
     "name": "stderr",
     "output_type": "stream",
     "text": [
      "textattack: Logging to CSV at path ./baselines/2022-07-04_150938_financial_test_CF-WR-BS-b5m25.csv\n",
      "  0%|          | 0/3 [00:00<?, ?it/s]"
     ]
    },
    {
     "name": "stdout",
     "output_type": "stream",
     "text": [
      "Attack(\n",
      "  (search_method): BeamSearch(\n",
      "    (beam_width):  5\n",
      "  )\n",
      "  (goal_function):  UntargetedClassification\n",
      "  (transformation):  WordSwapEmbedding(\n",
      "    (max_candidates):  25\n",
      "    (embedding):  WordEmbedding\n",
      "  )\n",
      "  (constraints): \n",
      "    (0): StsScoreConstraint(\n",
      "        (compare_against_original):  True\n",
      "      )\n",
      "    (1): ContradictionScoreConstraint(\n",
      "        (compare_against_original):  True\n",
      "      )\n",
      "    (2): AcceptabilityScoreConstraint(\n",
      "        (compare_against_original):  True\n",
      "      )\n",
      "    (3): PpLetterDiffConstraint(\n",
      "        (compare_against_original):  True\n",
      "      )\n",
      "    (4): LCPConstraint(\n",
      "        (compare_against_original):  True\n",
      "      )\n",
      "    (5): RepeatModification\n",
      "    (6): StopwordModification\n",
      "  (is_black_box):  True\n",
      ") \n",
      "\n"
     ]
    },
    {
     "name": "stderr",
     "output_type": "stream",
     "text": [
      " 33%|███▎      | 1/3 [00:26<00:52, 26.45s/it]/home/tproth/Programs/miniconda/envs/nlp_env/lib/python3.8/site-packages/textattack/loggers/csv_logger.py:41: FutureWarning: The frame.append method is deprecated and will be removed from pandas in a future version. Use pandas.concat instead.\n",
      "  self.df = self.df.append(row, ignore_index=True)\n",
      "[Succeeded / Failed / Skipped / Total] 1 / 0 / 0 / 1:  67%|██████▋   | 2/3 [01:03<00:31, 31.70s/it]/home/tproth/Programs/miniconda/envs/nlp_env/lib/python3.8/site-packages/textattack/loggers/csv_logger.py:41: FutureWarning: The frame.append method is deprecated and will be removed from pandas in a future version. Use pandas.concat instead.\n",
      "  self.df = self.df.append(row, ignore_index=True)\n",
      "[Succeeded / Failed / Skipped / Total] 1 / 1 / 0 / 2: 100%|██████████| 3/3 [01:14<00:00, 24.91s/it]/home/tproth/Programs/miniconda/envs/nlp_env/lib/python3.8/site-packages/textattack/loggers/csv_logger.py:41: FutureWarning: The frame.append method is deprecated and will be removed from pandas in a future version. Use pandas.concat instead.\n",
      "  self.df = self.df.append(row, ignore_index=True)\n",
      "[Succeeded / Failed / Skipped / Total] 2 / 1 / 0 / 3: 100%|██████████| 3/3 [01:14<00:00, 24.92s/it]\n"
     ]
    },
    {
     "name": "stdout",
     "output_type": "stream",
     "text": [
      "\n",
      "+-------------------------------+---------+\n",
      "| Attack Results                |         |\n",
      "+-------------------------------+---------+\n",
      "| Number of successful attacks: | 2       |\n",
      "| Number of failed attacks:     | 1       |\n",
      "| Number of skipped attacks:    | 0       |\n",
      "| Original accuracy:            | 100.0%  |\n",
      "| Accuracy under attack:        | 33.33%  |\n",
      "| Attack success rate:          | 66.67%  |\n",
      "| Average perturbed word %:     | 13.57%  |\n",
      "| Average num. words per input: | 16.0    |\n",
      "| Avg num queries:              | 362.0   |\n",
      "| Average Original Perplexity:  | 573.64  |\n",
      "| Average Attack Perplexity:    | 1137.85 |\n",
      "| Average Attack USE Score:     | 0.83    |\n",
      "+-------------------------------+---------+\n"
     ]
    },
    {
     "name": "stderr",
     "output_type": "stream",
     "text": [
      "textattack: Logging to CSV at path ./baselines/2022-07-04_151119_financial_test_LM-WR-GA-m25p60mi20mr5.csv\n",
      "  0%|          | 0/3 [00:00<?, ?it/s]"
     ]
    },
    {
     "name": "stdout",
     "output_type": "stream",
     "text": [
      "Attack(\n",
      "  (search_method): ImprovedGeneticAlgorithm(\n",
      "    (pop_size):  60\n",
      "    (max_iters):  20\n",
      "    (temp):  0.3\n",
      "    (give_up_if_no_improvement):  False\n",
      "    (post_crossover_check):  False\n",
      "    (max_crossover_retries):  20\n",
      "    (max_replace_times_per_index):  5\n",
      "  )\n",
      "  (goal_function):  UntargetedClassification\n",
      "  (transformation):  WordSwapMaskedLM(\n",
      "    (method):  bae\n",
      "    (masked_lm_name):  RobertaForCausalLM\n",
      "    (max_length):  512\n",
      "    (max_candidates):  25\n",
      "    (min_confidence):  0.0005\n",
      "  )\n",
      "  (constraints): \n",
      "    (0): StsScoreConstraint(\n",
      "        (compare_against_original):  True\n",
      "      )\n",
      "    (1): ContradictionScoreConstraint(\n",
      "        (compare_against_original):  True\n",
      "      )\n",
      "    (2): AcceptabilityScoreConstraint(\n",
      "        (compare_against_original):  True\n",
      "      )\n",
      "    (3): PpLetterDiffConstraint(\n",
      "        (compare_against_original):  True\n",
      "      )\n",
      "    (4): LCPConstraint(\n",
      "        (compare_against_original):  True\n",
      "      )\n",
      "    (5): RepeatModification\n",
      "    (6): StopwordModification\n",
      "  (is_black_box):  True\n",
      ") \n",
      "\n"
     ]
    },
    {
     "name": "stderr",
     "output_type": "stream",
     "text": [
      " 33%|███▎      | 1/3 [00:28<00:56, 28.31s/it]/home/tproth/Programs/miniconda/envs/nlp_env/lib/python3.8/site-packages/textattack/loggers/csv_logger.py:41: FutureWarning: The frame.append method is deprecated and will be removed from pandas in a future version. Use pandas.concat instead.\n",
      "  self.df = self.df.append(row, ignore_index=True)\n",
      "[Succeeded / Failed / Skipped / Total] 1 / 0 / 0 / 1:  67%|██████▋   | 2/3 [03:10<01:35, 95.10s/it]/home/tproth/Programs/miniconda/envs/nlp_env/lib/python3.8/site-packages/textattack/loggers/csv_logger.py:41: FutureWarning: The frame.append method is deprecated and will be removed from pandas in a future version. Use pandas.concat instead.\n",
      "  self.df = self.df.append(row, ignore_index=True)\n",
      "[Succeeded / Failed / Skipped / Total] 1 / 1 / 0 / 2: 100%|██████████| 3/3 [03:32<00:00, 70.90s/it]/home/tproth/Programs/miniconda/envs/nlp_env/lib/python3.8/site-packages/textattack/loggers/csv_logger.py:41: FutureWarning: The frame.append method is deprecated and will be removed from pandas in a future version. Use pandas.concat instead.\n",
      "  self.df = self.df.append(row, ignore_index=True)\n",
      "[Succeeded / Failed / Skipped / Total] 2 / 1 / 0 / 3: 100%|██████████| 3/3 [03:32<00:00, 70.91s/it]\n"
     ]
    },
    {
     "name": "stdout",
     "output_type": "stream",
     "text": [
      "\n",
      "+-------------------------------+---------+\n",
      "| Attack Results                |         |\n",
      "+-------------------------------+---------+\n",
      "| Number of successful attacks: | 2       |\n",
      "| Number of failed attacks:     | 1       |\n",
      "| Number of skipped attacks:    | 0       |\n",
      "| Original accuracy:            | 100.0%  |\n",
      "| Accuracy under attack:        | 33.33%  |\n",
      "| Attack success rate:          | 66.67%  |\n",
      "| Average perturbed word %:     | 20.36%  |\n",
      "| Average num. words per input: | 16.0    |\n",
      "| Avg num queries:              | 917.67  |\n",
      "| Average Original Perplexity:  | 573.64  |\n",
      "| Average Attack Perplexity:    | 1080.47 |\n",
      "| Average Attack USE Score:     | 0.75    |\n",
      "+-------------------------------+---------+\n"
     ]
    }
   ],
   "source": [
    "hf_dataset = HuggingFaceDataset(attack_recipes.ds.dsd_raw[param_d['split']], dataset_columns=(['text'], 'label'))\n",
    "for attack_json in attack_list:\n",
    "    print(\"Now doing attack recipe number\", attack_json['attack_num'], \"with code\", attack_json['attack_code'])\n",
    "    datetime_now = datetime.now().strftime(\"%Y-%m-%d_%H%M%S\")\n",
    "    param_d['datetime'] =  datetime_now\n",
    "    param_d['attack_num'] = attack_json['attack_num']\n",
    "    param_d['attack_code'] = attack_json['attack_code']\n",
    "    filename = f\"{path_baselines}{datetime_now}_{param_d['ds_name']}_{param_d['split']}_{attack_json['attack_code']}.csv\"\n",
    "    attack_args = AttackArgs(num_examples=-1, enable_advance_metrics=True,\n",
    "                            log_to_csv=filename, csv_coloring_style='plain', disable_stdout=True)\n",
    "    attacker = Attacker(attack_json['attack_recipe'], hf_dataset, attack_args)\n",
    "\n",
    "    # print(\"Current config for attack:\")\n",
    "    # print(d)\n",
    "\n",
    "    attack_results = attacker.attack_dataset()\n",
    "\n",
    "    attack_result_metrics = {\n",
    "        **AttackSuccessRate().calculate(attack_results), \n",
    "        **WordsPerturbed().calculate(attack_results),\n",
    "        **AttackQueries().calculate(attack_results),\n",
    "        **Perplexity().calculate(attack_results),\n",
    "        **USEMetric().calculate(attack_results)\n",
    "    }\n",
    "    attack_result_metrics.pop('num_words_changed_until_success')\n",
    "    d = merge_dicts(param_d, attack_result_metrics)\n",
    "    summary_df = pd.Series(d).to_frame().T\n",
    "    append_df_to_csv(summary_df, f\"{path_baselines}results.csv\")"
   ]
  },
  {
   "cell_type": "markdown",
   "metadata": {},
   "source": [
    "## Example-specific metrics "
   ]
  },
  {
   "cell_type": "code",
   "execution_count": null,
   "metadata": {},
   "outputs": [],
   "source": [
    "def display_adv_example(df): \n",
    "    from IPython.core.display import display, HTML\n",
    "    pd.options.display.max_colwidth = 480 # increase column width so we can actually read the examples\n",
    "    #display(HTML(df[['original_text', 'perturbed_text']].to_html(escape=False)))\n",
    "    display(df[['original_text', 'perturbed_text']])\n",
    "\n",
    "# def add_vm_score_and_label_flip(df, dataset, cfg, vm_tokenizer, vm_model): \n",
    "#     truelabels = torch.tensor(dataset._dataset['label'], device =cfg.device)\n",
    "#     orig_probs =  get_vm_probs(df['original_text'].tolist(), cfg, vm_tokenizer, vm_model, return_predclass=False)\n",
    "#     pp_probs = get_vm_probs(df['perturbed_text'].tolist(), cfg, vm_tokenizer, vm_model, return_predclass=False)\n",
    "#     orig_predclass = torch.argmax(orig_probs, axis=1)\n",
    "#     pp_predclass = torch.argmax(pp_probs, axis=1)\n",
    "#     orig_truelabel_probs = torch.gather(orig_probs, 1, truelabels[:,None]).squeeze()\n",
    "#     pp_truelabel_probs   = torch.gather(pp_probs, 1,   truelabels[:,None]).squeeze()\n",
    "#     pp_predclass_probs   = torch.gather(pp_probs, 1,   pp_predclass[ :,None]).squeeze()\n",
    "    \n",
    "#     df['truelabel'] = truelabels.cpu().tolist()\n",
    "#     df['orig_predclass'] = orig_predclass.cpu().tolist()\n",
    "#     df['pp_predclass'] = pp_predclass.cpu().tolist()\n",
    "#     df['orig_truelabel_probs'] = orig_truelabel_probs.cpu().tolist()\n",
    "#     df['pp_truelabel_probs'] = pp_truelabel_probs.cpu().tolist()\n",
    "#     df['vm_scores'] = (orig_truelabel_probs - pp_truelabel_probs).cpu().tolist()\n",
    "#     df['label_flip'] = ((pp_predclass != truelabels) * 1).cpu().tolist()\n",
    "#     return df\n",
    "\n",
    "# def add_sts_score(df, sts_model, cfg): \n",
    "#     orig_embeddings  = sts_model.encode(df['original_text'].tolist(),  convert_to_tensor=True, device=cfg.device)\n",
    "#     pp_embeddings    = sts_model.encode(df['perturbed_text'].tolist(), convert_to_tensor=True, device=cfg.device)\n",
    "#     df['sts_scores'] = pytorch_cos_sim(orig_embeddings, pp_embeddings).diagonal().cpu().tolist()\n",
    "#     return df\n",
    "\n",
    "# def add_contradiction_score(df, cfg, nli_tokenizer, nli_model): \n",
    "#     contradiction_scores = get_nli_probs(df['original_text'].tolist(), df['perturbed_text'].tolist(), cfg, nli_tokenizer, nli_model)\n",
    "#     df['contradiction_scores'] =  contradiction_scores[:,cfg.contra_label].cpu().tolist()\n",
    "#     return df \n",
    "\n",
    "# def get_df_mean_cols(df): \n",
    "#     cols = ['label_flip', 'vm_scores', 'sts_scores',\n",
    "#             'contradiction_scores', 'sts_threshold_met', 'contradiction_threshold_met']\n",
    "#     s = df[cols].mean()\n",
    "#     s.index = [f\"{o}_mean\" for o in s.index]\n",
    "#     return dict(s)\n",
    "\n",
    "# def get_cts_summary_stats(df): \n",
    "#     cols = ['vm_scores', 'sts_scores', 'contradiction_scores']\n",
    "#     df_summary = df[cols].describe(percentiles=[.1,.25,.5,.75,.9]).loc[['std','10%','25%','50%','75%','90%']]\n",
    "#     tmp_d = dict()\n",
    "#     for c in cols: \n",
    "#         s = df_summary[c]\n",
    "#         s.index = [f\"{c}_{o}\" for o in s.index]\n",
    "#         tmp_d = merge_dicts(tmp_d, dict(s))\n",
    "#     return tmp_d\n"
   ]
  },
  {
   "cell_type": "code",
   "execution_count": null,
   "metadata": {},
   "outputs": [],
   "source": [
    "#filename1 = f\"/data/tproth/travis_attack/baselines/2022-04-21_044443_rotten_tomatoes_valid_BeamSearchLMAttack_beam_sz=2_max_candidates=5.csv\"\n",
    "#filename = filename1\n",
    "df = pd.read_csv(filename)\n",
    "#display_adv_example(df)\n",
    "\n",
    "#df = add_vm_score_and_label_flip(df, dataset, cfg, vm_tokenizer, vm_model)\n",
    "#df = df.query(\"result_type != 'Skipped'\")\n",
    "#df = add_sts_score(df, sts_model, cfg)\n",
    "#df = add_contradiction_score(df, cfg, nli_tokenizer, nli_model)\n",
    "\n",
    "#df['sts_threshold_met'] = df['sts_scores'] > d['sts_threshold']\n",
    "#df['contradiction_threshold_met'] = df['contradiction_scores'] < d['contradiction_threshold']\n",
    "#df.to_csv(f\"{filename[:-4]}_processed.csv\", index=False)\n",
    "\n",
    "#d = merge_dicts(d, get_df_mean_cols(df))\n",
    "#d = merge_dicts(d, get_cts_summary_stats(df))\n",
    "\n"
   ]
  },
  {
   "cell_type": "markdown",
   "metadata": {},
   "source": [
    "## Old code "
   ]
  },
  {
   "cell_type": "code",
   "execution_count": null,
   "metadata": {},
   "outputs": [],
   "source": [
    "# df1 = df.sample(5)\n",
    "# orig_l = df1['original_text'].tolist()\n",
    "# pp_l = df1['perturbed_text'].tolist()\n",
    "# print(orig_l)\n",
    "# print(pp_l)"
   ]
  },
  {
   "cell_type": "code",
   "execution_count": null,
   "metadata": {},
   "outputs": [],
   "source": [
    "# for orig, adv in zip(df1['original_text'].tolist(), df1['perturbed_text'].tolist()): \n",
    "#     print(f\"{orig}{adv}\")\n",
    "#     print()"
   ]
  },
  {
   "cell_type": "code",
   "execution_count": null,
   "metadata": {},
   "outputs": [],
   "source": [
    "#df.iloc[104][['original_text', 'perturbed_text']].values"
   ]
  },
  {
   "cell_type": "code",
   "execution_count": null,
   "metadata": {},
   "outputs": [],
   "source": [
    "#filename1 = f\"/data/tproth/travis_attack/baselines/2022-04-20_133329_rotten_tomatoes_valid_BeamSearchCFEmbeddingAttack_beam_sz=1_max_candidates=1_processed.csv\"\n",
    "#df = pd.read_csv(filename1)\n",
    "#display_all(df.sample(2))"
   ]
  },
  {
   "cell_type": "code",
   "execution_count": null,
   "metadata": {},
   "outputs": [],
   "source": [
    "#df_results = pd.read_csv(f\"/data/tproth/travis_attack/baselines/results.csv\")"
   ]
  },
  {
   "cell_type": "code",
   "execution_count": null,
   "metadata": {},
   "outputs": [],
   "source": []
  }
 ],
 "metadata": {
  "kernelspec": {
   "display_name": "Python 3",
   "language": "python",
   "name": "python3"
  }
 },
 "nbformat": 4,
 "nbformat_minor": 4
}
