{
 "cells": [
  {
   "cell_type": "code",
   "execution_count": null,
   "metadata": {},
   "outputs": [],
   "source": [
    "%load_ext autoreload\n",
    "%autoreload 2\n",
    "%load_ext line_profiler"
   ]
  },
  {
   "cell_type": "code",
   "execution_count": null,
   "metadata": {},
   "outputs": [],
   "source": [
    "import transformers, nltk, pandas as pd, torch\n",
    "from datasets import load_dataset, load_from_disk, DatasetDict, ClassLabel\n",
    "from pprint import pprint\n",
    "from textattack import Attack, AttackArgs,Attacker\n",
    "from textattack.models.wrappers import HuggingFaceModelWrapper\n",
    "from textattack.datasets import HuggingFaceDataset\n",
    "from textattack.loggers import CSVLogger # tracks a dataframe for us.\n",
    "from textattack.attack_recipes import AttackRecipe\n",
    "from textattack.search_methods import BeamSearch\n",
    "from textattack.constraints.pre_transformation import RepeatModification, StopwordModification\n",
    "from textattack.transformations import WordSwapEmbedding, WordSwapMaskedLM\n",
    "from textattack.goal_functions import UntargetedClassification\n",
    "from textattack.metrics.attack_metrics.attack_success_rate import AttackSuccessRate\n",
    "from textattack.metrics.attack_metrics.words_perturbed import WordsPerturbed\n",
    "from textattack.metrics.attack_metrics.attack_queries import AttackQueries\n",
    "from textattack.metrics.quality_metrics.perplexity import Perplexity\n",
    "from textattack.metrics.quality_metrics.use import USEMetric\n",
    "from sentence_transformers.util import pytorch_cos_sim\n",
    "\n",
    "from travis_attack.utils import display_all\n",
    "from travis_attack.data import prep_dsd_rotten_tomatoes,prep_dsd_simple,prep_dsd_financial\n",
    "from travis_attack.config import Config\n",
    "from travis_attack.models import _prepare_vm_tokenizer_and_model, get_vm_probs, prepare_models, get_nli_probs"
   ]
  },
  {
   "cell_type": "code",
   "execution_count": null,
   "metadata": {},
   "outputs": [],
   "source": [
    "class BeamSearchCFEmbeddingAttack(AttackRecipe):\n",
    "    \"\"\"Untarged classification + word embedding swap + [no repeat, no stopword] constraints + beam search\"\"\"\n",
    "    @staticmethod\n",
    "    def build(model_wrapper, beam_sz=2, max_candidates=5):\n",
    "        goal_function = UntargetedClassification(model_wrapper)\n",
    "        stopwords = nltk.corpus.stopwords.words(\"english\") # The one used by default in textattack\n",
    "        constraints = [RepeatModification(),\n",
    "                       StopwordModification(stopwords)]\n",
    "        transformation = WordSwapEmbedding(max_candidates=max_candidates)\n",
    "        search_method = BeamSearch(beam_width=beam_sz)\n",
    "        attack = Attack(goal_function, constraints, transformation, search_method)\n",
    "        return attack\n",
    "\n",
    "class BeamSearchLMAttack(AttackRecipe): \n",
    "    \"\"\"\"\"\"\n",
    "    @staticmethod\n",
    "    def build(model_wrapper, beam_sz=2, max_candidates=5):\n",
    "        stopwords = nltk.corpus.stopwords.words(\"english\") # The one used by default in textattack\n",
    "        goal_function = UntargetedClassification(model_wrapper)\n",
    "        constraints = [RepeatModification(),\n",
    "                       StopwordModification()]\n",
    "        transformation = WordSwapMaskedLM(method='bae', masked_language_model='distilroberta-base', max_candidates=max_candidates)\n",
    "        search_method = BeamSearch(beam_width=beam_sz)\n",
    "        attack = Attack(goal_function, constraints, transformation, search_method)\n",
    "        return attack"
   ]
  },
  {
   "cell_type": "code",
   "execution_count": null,
   "metadata": {},
   "outputs": [],
   "source": [
    "######### CONFIG #########\n",
    "ds_name = \"rotten_tomatoes\" \n",
    "split='valid'\n",
    "beam_sz=5\n",
    "num_examples=4\n",
    "max_candidates=25\n",
    "attack_recipe = BeamSearchLMAttack\n",
    "filename = f\"/data/tproth/travis_attack/baselines/{ds_name}_{split}_{attack_recipe.__name__}_beam_sz={beam_sz}_max_candidates={max_candidates}_tmp.csv\"\n",
    "##########################"
   ]
  },
  {
   "cell_type": "markdown",
   "metadata": {},
   "source": [
    "## Attack "
   ]
  },
  {
   "cell_type": "code",
   "execution_count": null,
   "metadata": {},
   "outputs": [
    {
     "name": "stderr",
     "output_type": "stream",
     "text": [
      "Using custom data configuration default\n",
      "Reusing dataset rotten_tomatoes_movie_review (/data/tproth/.cache/huggingface/datasets/rotten_tomatoes_movie_review/default/1.0.0/40d411e45a6ce3484deed7cc15b82a53dad9a72aafd9f86f8f227134bec5ca46)\n"
     ]
    },
    {
     "data": {
      "application/vnd.jupyter.widget-view+json": {
       "model_id": "ae47b5bd09bb4891826d546d89015fa1",
       "version_major": 2,
       "version_minor": 0
      },
      "text/plain": [
       "HBox(children=(FloatProgress(value=0.0, max=3.0), HTML(value='')))"
      ]
     },
     "metadata": {},
     "output_type": "display_data"
    },
    {
     "name": "stdout",
     "output_type": "stream",
     "text": [
      "\n"
     ]
    }
   ],
   "source": [
    "if ds_name == \"financial_phrasebank\":\n",
    "    cfg = Config().adjust_config_for_financial_dataset()\n",
    "    dsd = prep_dsd_financial(cfg)\n",
    "elif ds_name == \"rotten_tomatoes\":      \n",
    "    cfg = Config().adjust_config_for_rotten_tomatoes_dataset()\n",
    "    dsd = prep_dsd_rotten_tomatoes(cfg)\n",
    "elif ds_name == \"simple\":      \n",
    "    cfg = Config().adjust_config_for_simple_dataset()\n",
    "    dataset = prep_dsd_simple(cfg)\n",
    "    #dataset = ...\n",
    "dataset = HuggingFaceDataset(dsd[split])\n"
   ]
  },
  {
   "cell_type": "code",
   "execution_count": null,
   "metadata": {},
   "outputs": [
    {
     "name": "stderr",
     "output_type": "stream",
     "text": [
      "textattack: Unknown if model of class <class 'transformers.models.distilbert.modeling_distilbert.DistilBertForSequenceClassification'> compatible with goal function <class 'textattack.goal_functions.classification.untargeted_classification.UntargetedClassification'>.\n"
     ]
    }
   ],
   "source": [
    "vm_tokenizer, vm_model, _,_, sts_model, nli_tokenizer, nli_model, cfg = prepare_models(cfg)\n",
    "model_wrapper = HuggingFaceModelWrapper(vm_model, vm_tokenizer)\n",
    "attack = attack_recipe.build(model_wrapper, beam_sz, max_candidates)\n",
    "attack_args = AttackArgs(num_examples=num_examples, enable_advance_metrics=True,\n",
    "                        log_to_csv=filename, csv_coloring_style='plain', disable_stdout=True)\n",
    "attacker = Attacker(attack, dataset, attack_args)"
   ]
  },
  {
   "cell_type": "code",
   "execution_count": null,
   "metadata": {},
   "outputs": [
    {
     "name": "stderr",
     "output_type": "stream",
     "text": [
      "textattack: Logging to CSV at path /data/tproth/travis_attack/baselines/rotten_tomatoes_valid_BeamSearchLMAttack_beam_sz=5_max_candidates=25_tmp.csv\n",
      "  0%|          | 0/4 [00:00<?, ?it/s]"
     ]
    },
    {
     "name": "stdout",
     "output_type": "stream",
     "text": [
      "Attack(\n",
      "  (search_method): BeamSearch(\n",
      "    (beam_width):  5\n",
      "  )\n",
      "  (goal_function):  UntargetedClassification\n",
      "  (transformation):  WordSwapMaskedLM(\n",
      "    (method):  bae\n",
      "    (masked_lm_name):  RobertaForMaskedLM\n",
      "    (max_length):  512\n",
      "    (max_candidates):  25\n",
      "    (min_confidence):  0.0005\n",
      "  )\n",
      "  (constraints): \n",
      "    (0): RepeatModification\n",
      "    (1): StopwordModification\n",
      "  (is_black_box):  True\n",
      ") \n",
      "\n"
     ]
    },
    {
     "name": "stderr",
     "output_type": "stream",
     "text": [
      "[Succeeded / Failed / Skipped / Total] 3 / 1 / 0 / 4: 100%|██████████| 4/4 [01:09<00:00, 17.25s/it]\n"
     ]
    },
    {
     "name": "stdout",
     "output_type": "stream",
     "text": [
      "\n",
      "+-------------------------------+---------+\n",
      "| Attack Results                |         |\n",
      "+-------------------------------+---------+\n",
      "| Number of successful attacks: | 3       |\n",
      "| Number of failed attacks:     | 1       |\n",
      "| Number of skipped attacks:    | 0       |\n",
      "| Original accuracy:            | 100.0%  |\n",
      "| Accuracy under attack:        | 25.0%   |\n",
      "| Attack success rate:          | 75.0%   |\n",
      "| Average perturbed word %:     | 10.72%  |\n",
      "| Average num. words per input: | 16.0    |\n",
      "| Avg num queries:              | 2026.75 |\n",
      "| Average Original Perplexity:  | 179.37  |\n",
      "| Average Attack Perplexity:    | 294.71  |\n",
      "| Average Attack USE Score:     | 0.87    |\n",
      "+-------------------------------+---------+\n"
     ]
    }
   ],
   "source": [
    "attack_results = attacker.attack_dataset()"
   ]
  },
  {
   "cell_type": "markdown",
   "metadata": {},
   "source": [
    "## General metrics "
   ]
  },
  {
   "cell_type": "code",
   "execution_count": null,
   "metadata": {},
   "outputs": [],
   "source": [
    "metrics = {\n",
    "    **AttackSuccessRate().calculate(attack_results), \n",
    "    **WordsPerturbed().calculate(attack_results),\n",
    "    **AttackQueries().calculate(attack_results),\n",
    "    **Perplexity().calculate(attack_results),\n",
    "    **USEMetric().calculate(attack_results)\n",
    "}"
   ]
  },
  {
   "cell_type": "markdown",
   "metadata": {},
   "source": [
    "## Example-specific metrics "
   ]
  },
  {
   "cell_type": "code",
   "execution_count": null,
   "metadata": {},
   "outputs": [],
   "source": [
    "def display_adv_example(df): \n",
    "    from IPython.core.display import display, HTML\n",
    "    pd.options.display.max_colwidth = 480 # increase column width so we can actually read the examples\n",
    "    display(HTML(df[['original_text', 'perturbed_text']].to_html(escape=False)))\n",
    "\n",
    "def add_vm_score_and_label_flip(df, dataset,  cfg, vm_tokenizer, vm_model): \n",
    "    truelabels = torch.tensor(dataset._dataset['label'], device =cfg.device)\n",
    "    orig_probs =  get_vm_probs(df['original_text'].tolist(), cfg, vm_tokenizer, vm_model, return_predclass=False)\n",
    "    pp_probs = get_vm_probs(df['perturbed_text'].tolist(), cfg, vm_tokenizer, vm_model, return_predclass=False)\n",
    "    orig_predclass = torch.argmax(orig_probs, axis=1)\n",
    "    pp_predclass = torch.argmax(pp_probs, axis=1)\n",
    "    orig_truelabel_probs = torch.gather(orig_probs, 1, truelabels[:,None]).squeeze()\n",
    "    pp_truelabel_probs   = torch.gather(pp_probs, 1,   truelabels[:,None]).squeeze()\n",
    "    pp_predclass_probs   = torch.gather(pp_probs, 1,   pp_predclass[ :,None]).squeeze()\n",
    "    \n",
    "    df['truelabel'] = truelabels.cpu().tolist()\n",
    "    df['orig_predclass'] = orig_predclass.cpu().tolist()\n",
    "    df['pp_predclass'] = pp_predclass.cpu().tolist()\n",
    "    df['orig_truelabel_probs'] = orig_truelabel_probs.cpu().tolist()\n",
    "    df['pp_truelabel_probs'] = pp_truelabel_probs.cpu().tolist()\n",
    "    df['vm_scores'] = (orig_truelabel_probs - pp_truelabel_probs).cpu().tolist()\n",
    "    df['label_flip'] = ((pp_predclass != truelabels) * 1).cpu().tolist()\n",
    "    return df\n",
    "\n",
    "def add_sts_score(df, sts_model, cfg): \n",
    "    orig_embeddings  = sts_model.encode(df['original_text'].tolist(),  convert_to_tensor=True, device=cfg.device)\n",
    "    pp_embeddings    = sts_model.encode(df['perturbed_text'].tolist(), convert_to_tensor=True, device=cfg.device)\n",
    "    df['sts_scores'] = pytorch_cos_sim(orig_embeddings, pp_embeddings).diagonal().cpu().tolist()\n",
    "    return df\n",
    "\n",
    "def add_contradiction_score(df, cfg, nli_tokenizer, nli_model): \n",
    "    contradiction_scores = get_nli_probs(df['original_text'].tolist(), df['perturbed_text'].tolist(), cfg,  nli_tokenizer, nli_model)\n",
    "    df['contradiction_scores'] =  contradiction_scores.cpu().tolist()"
   ]
  },
  {
   "cell_type": "code",
   "execution_count": null,
   "metadata": {},
   "outputs": [
    {
     "ename": "NameError",
     "evalue": "name 'nli_tokenizer' is not defined",
     "output_type": "error",
     "traceback": [
      "\u001b[0;31m---------------------------------------------------------------------------\u001b[0m",
      "\u001b[0;31mNameError\u001b[0m                                 Traceback (most recent call last)",
      "\u001b[0;32m<ipython-input-58-d7073a23d382>\u001b[0m in \u001b[0;36m<module>\u001b[0;34m\u001b[0m\n\u001b[1;32m      5\u001b[0m \u001b[0mdf\u001b[0m \u001b[0;34m=\u001b[0m \u001b[0mdf\u001b[0m\u001b[0;34m.\u001b[0m\u001b[0mquery\u001b[0m\u001b[0;34m(\u001b[0m\u001b[0;34m\"result_type != 'Skipped'\"\u001b[0m\u001b[0;34m)\u001b[0m\u001b[0;34m\u001b[0m\u001b[0;34m\u001b[0m\u001b[0m\n\u001b[1;32m      6\u001b[0m \u001b[0mdf\u001b[0m \u001b[0;34m=\u001b[0m \u001b[0madd_sts_score\u001b[0m\u001b[0;34m(\u001b[0m\u001b[0mdf\u001b[0m\u001b[0;34m,\u001b[0m \u001b[0msts_model\u001b[0m\u001b[0;34m,\u001b[0m \u001b[0mcfg\u001b[0m\u001b[0;34m)\u001b[0m\u001b[0;34m\u001b[0m\u001b[0;34m\u001b[0m\u001b[0m\n\u001b[0;32m----> 7\u001b[0;31m \u001b[0mdf\u001b[0m \u001b[0;34m=\u001b[0m \u001b[0madd_contradiction_score\u001b[0m\u001b[0;34m(\u001b[0m\u001b[0mdf\u001b[0m\u001b[0;34m,\u001b[0m \u001b[0mcfg\u001b[0m\u001b[0;34m,\u001b[0m \u001b[0mnli_tokenizer\u001b[0m\u001b[0;34m,\u001b[0m \u001b[0mnli_model\u001b[0m\u001b[0;34m)\u001b[0m\u001b[0;34m\u001b[0m\u001b[0;34m\u001b[0m\u001b[0m\n\u001b[0m",
      "\u001b[0;31mNameError\u001b[0m: name 'nli_tokenizer' is not defined"
     ]
    }
   ],
   "source": [
    "filename = f\"/data/tproth/travis_attack/baselines/{ds_name}_{split}_{attack_recipe.__name__}_beam_sz={beam_sz}_max_candidates={max_candidates}.csv\"\n",
    "df = pd.read_csv(filename)\n",
    "#display_adv_example(df)\n",
    "df = add_vm_score_and_label_flip(df,dataset,  cfg, vm_tokenizer, vm_model)\n",
    "df = df.query(\"result_type != 'Skipped'\")\n",
    "df = add_sts_score(df, sts_model, cfg)\n",
    "df = add_contradiction_score(df, cfg, nli_tokenizer, nli_model)"
   ]
  },
  {
   "cell_type": "code",
   "execution_count": null,
   "metadata": {},
   "outputs": [
    {
     "data": {
      "text/html": [
       "<div>\n",
       "<style scoped>\n",
       "    .dataframe tbody tr th:only-of-type {\n",
       "        vertical-align: middle;\n",
       "    }\n",
       "\n",
       "    .dataframe tbody tr th {\n",
       "        vertical-align: top;\n",
       "    }\n",
       "\n",
       "    .dataframe thead th {\n",
       "        text-align: right;\n",
       "    }\n",
       "</style>\n",
       "<table border=\"1\" class=\"dataframe\">\n",
       "  <thead>\n",
       "    <tr style=\"text-align: right;\">\n",
       "      <th></th>\n",
       "      <th>ground_truth_output</th>\n",
       "      <th>num_queries</th>\n",
       "      <th>original_output</th>\n",
       "      <th>original_score</th>\n",
       "      <th>original_text</th>\n",
       "      <th>perturbed_output</th>\n",
       "      <th>perturbed_score</th>\n",
       "      <th>perturbed_text</th>\n",
       "      <th>result_type</th>\n",
       "      <th>truelabel</th>\n",
       "      <th>orig_predclass</th>\n",
       "      <th>pp_predclass</th>\n",
       "      <th>orig_truelabel_probs</th>\n",
       "      <th>pp_truelabel_probs</th>\n",
       "      <th>vm_scores</th>\n",
       "      <th>label_flip</th>\n",
       "      <th>sts_scores</th>\n",
       "    </tr>\n",
       "  </thead>\n",
       "  <tbody>\n",
       "    <tr>\n",
       "      <th>294</th>\n",
       "      <td>1.0</td>\n",
       "      <td>3966.0</td>\n",
       "      <td>1.0</td>\n",
       "      <td>0.046687</td>\n",
       "      <td>assured , vital and well wrought , the film is , arguably , the most accomplished work to date from hong kong's versatile stanley kwan .</td>\n",
       "      <td>0.0</td>\n",
       "      <td>0.879079</td>\n",
       "      <td>assured , vital and poorly plotted , the film is , unfortunately , the most underrated work to date from hong kong's versatile stanley kwan .</td>\n",
       "      <td>Successful</td>\n",
       "      <td>1</td>\n",
       "      <td>1</td>\n",
       "      <td>0</td>\n",
       "      <td>0.953313</td>\n",
       "      <td>0.120921</td>\n",
       "      <td>0.832392</td>\n",
       "      <td>1</td>\n",
       "      <td>0.639580</td>\n",
       "    </tr>\n",
       "    <tr>\n",
       "      <th>116</th>\n",
       "      <td>1.0</td>\n",
       "      <td>1492.0</td>\n",
       "      <td>1.0</td>\n",
       "      <td>0.052343</td>\n",
       "      <td>an ebullient tunisian film about the startling transformation of a tradition-bound widow who is drawn into the exotic world of belly dancing .</td>\n",
       "      <td>0.0</td>\n",
       "      <td>0.657411</td>\n",
       "      <td>an obscure tunisian film about the slow transformation of a tradition-bound widow who is drawn into the exotic world of belly dancing .</td>\n",
       "      <td>Successful</td>\n",
       "      <td>1</td>\n",
       "      <td>1</td>\n",
       "      <td>0</td>\n",
       "      <td>0.947657</td>\n",
       "      <td>0.342589</td>\n",
       "      <td>0.605069</td>\n",
       "      <td>1</td>\n",
       "      <td>0.978464</td>\n",
       "    </tr>\n",
       "  </tbody>\n",
       "</table>\n",
       "</div>"
      ],
      "text/plain": [
       "     ground_truth_output  num_queries  original_output  original_score  \\\n",
       "294                  1.0       3966.0              1.0        0.046687   \n",
       "116                  1.0       1492.0              1.0        0.052343   \n",
       "\n",
       "                                                                                                                                      original_text  \\\n",
       "294        assured , vital and well wrought , the film is , arguably , the most accomplished work to date from hong kong's versatile stanley kwan .   \n",
       "116  an ebullient tunisian film about the startling transformation of a tradition-bound widow who is drawn into the exotic world of belly dancing .   \n",
       "\n",
       "     perturbed_output  perturbed_score  \\\n",
       "294               0.0         0.879079   \n",
       "116               0.0         0.657411   \n",
       "\n",
       "                                                                                                                                    perturbed_text  \\\n",
       "294  assured , vital and poorly plotted , the film is , unfortunately , the most underrated work to date from hong kong's versatile stanley kwan .   \n",
       "116        an obscure tunisian film about the slow transformation of a tradition-bound widow who is drawn into the exotic world of belly dancing .   \n",
       "\n",
       "    result_type  truelabel  orig_predclass  pp_predclass  \\\n",
       "294  Successful          1               1             0   \n",
       "116  Successful          1               1             0   \n",
       "\n",
       "     orig_truelabel_probs  pp_truelabel_probs  vm_scores  label_flip  \\\n",
       "294              0.953313            0.120921   0.832392           1   \n",
       "116              0.947657            0.342589   0.605069           1   \n",
       "\n",
       "     sts_scores  \n",
       "294    0.639580  \n",
       "116    0.978464  "
      ]
     },
     "metadata": {},
     "output_type": "display_data"
    }
   ],
   "source": [
    "display_all(df.sample(2))"
   ]
  },
  {
   "cell_type": "code",
   "execution_count": null,
   "metadata": {},
   "outputs": [
    {
     "name": "stdout",
     "output_type": "stream",
     "text": [
      "[\"[stephen] earnhart's film is more about the optimism of a group of people who are struggling to give themselves a better lot in life than the ones they currently have .\", \"the irwins' scenes are fascinating ; the movie as a whole is cheap junk and an insult to their death-defying efforts .\", 'the story , touching though it is , does not quite have enough emotional resonance or variety of incident to sustain a feature , and even at 85 minutes it feels a bit long .', 'starts out strongly before quickly losing its focus , point and purpose in a mess of mixed messages , over-blown drama and bruce willis with a scar .', 'a guilty pleasure at best , and not worth seeing unless you want to laugh at it .']\n",
      "[\"[stephen] earnhart's rant is more about the frustration of a group of people who are struggling to give themselves a better lot in life than the ones they currently have .\", \"the irwins' scenes are fascinating ; the movie as a whole is cheap fun and an insult to their death-defying efforts .\", 'the story , touching though it is , does not simply have enough emotional resonance or variety of incident to sustain a feature , and yet at 85 minutes it feels a lifetime long .', 'starts out strongly before quickly establishing its focus , point and purpose in a tale of mixed messages , fiery drama and bruce willis with a scar .', 'a guilty pleasure at best , and not worth seeing but you want to laugh at it .']\n"
     ]
    }
   ],
   "source": [
    "df1 = df.sample(5)\n",
    "orig_l = df1['original_text'].tolist()\n",
    "pp_l = df1['perturbed_text'].tolist()\n",
    "print(orig_l)\n",
    "print(pp_l)"
   ]
  },
  {
   "cell_type": "code",
   "execution_count": null,
   "metadata": {},
   "outputs": [
    {
     "name": "stdout",
     "output_type": "stream",
     "text": [
      "long before it's over , you'll be thinking of 51 ways to leave this loser .long before it's over , you'll be thinking of innovative ways to leave this loser .\n",
      "\n",
      "jaunty fun , with its celeb-strewn backdrop well used .jaunty fun , with its celeb-strewn backdrop badly used .\n",
      "\n",
      ". . . by the time it's done with us , mira nair's new movie has its audience giddy with the delight of discovery , of having been immersed in a foreign culture only to find that human nature is pretty much the same all over .. . . by the time it's done with us , mira nair's new movie has its audience struggling with the idea of discovery , of having been immersed in a foreign culture only to find that human nature is pretty much the same all over .\n",
      "\n",
      "as a feature-length film , it wears out its welcome as tryingly as the title character .as a feature-length film , it holds out its welcome as tryingly as the title character .\n",
      "\n",
      "brosnan is more feral in this film than i've seen him before and halle berry does her best to keep up with him .brosnan is more feral in this film than i've seen him before and halle berry does her worst to keep up with him .\n",
      "\n"
     ]
    }
   ],
   "source": [
    "for orig, adv in zip(df1['original_text'].tolist(), df1['perturbed_text'].tolist()): \n",
    "    print(f\"{orig}{adv}\")\n",
    "    print()"
   ]
  },
  {
   "cell_type": "code",
   "execution_count": null,
   "metadata": {},
   "outputs": [
    {
     "data": {
      "text/plain": [
       "<AxesSubplot:>"
      ]
     },
     "execution_count": null,
     "metadata": {},
     "output_type": "execute_result"
    },
    {
     "data": {
      "image/png": "[encoded data removed]",
      "text/plain": [
       "<Figure size 432x288 with 1 Axes>"
      ]
     },
     "metadata": {
      "needs_background": "light"
     },
     "output_type": "display_data"
    }
   ],
   "source": [
    "df.sts_scores.hist()"
   ]
  },
  {
   "cell_type": "code",
   "execution_count": null,
   "metadata": {},
   "outputs": [],
   "source": []
  }
 ],
 "metadata": {
  "kernelspec": {
   "display_name": "Python 3",
   "language": "python",
   "name": "python3"
  }
 },
 "nbformat": 4,
 "nbformat_minor": 4
}
