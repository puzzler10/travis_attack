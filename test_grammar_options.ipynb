{
 "cells": [
  {
   "cell_type": "code",
   "execution_count": null,
   "metadata": {},
   "outputs": [
    {
     "data": {
      "application/vnd.jupyter.widget-view+json": {
       "model_id": "a0a93af1facb46e097b91cad21e01331",
       "version_major": 2,
       "version_minor": 0
      },
      "text/plain": [
       "HBox(children=(FloatProgress(value=0.0, description='Downloading', max=25.0, style=ProgressStyle(description_w…"
      ]
     },
     "metadata": {},
     "output_type": "display_data"
    },
    {
     "name": "stdout",
     "output_type": "stream",
     "text": [
      "\n"
     ]
    },
    {
     "data": {
      "application/vnd.jupyter.widget-view+json": {
       "model_id": "779a02620b6b445caa81ec20e534fc7a",
       "version_major": 2,
       "version_minor": 0
      },
      "text/plain": [
       "HBox(children=(FloatProgress(value=0.0, description='Downloading', max=732.0, style=ProgressStyle(description_…"
      ]
     },
     "metadata": {},
     "output_type": "display_data"
    },
    {
     "name": "stdout",
     "output_type": "stream",
     "text": [
      "\n"
     ]
    },
    {
     "data": {
      "application/vnd.jupyter.widget-view+json": {
       "model_id": "2a9f059da9d6435c9c2acd4515ac08c5",
       "version_major": 2,
       "version_minor": 0
      },
      "text/plain": [
       "HBox(children=(FloatProgress(value=0.0, description='Downloading', max=760289.0, style=ProgressStyle(descripti…"
      ]
     },
     "metadata": {},
     "output_type": "display_data"
    },
    {
     "name": "stdout",
     "output_type": "stream",
     "text": [
      "\n"
     ]
    },
    {
     "data": {
      "application/vnd.jupyter.widget-view+json": {
       "model_id": "6e645297788144babfc8bb27d02746d0",
       "version_major": 2,
       "version_minor": 0
      },
      "text/plain": [
       "HBox(children=(FloatProgress(value=0.0, description='Downloading', max=156.0, style=ProgressStyle(description_…"
      ]
     },
     "metadata": {},
     "output_type": "display_data"
    },
    {
     "name": "stdout",
     "output_type": "stream",
     "text": [
      "\n"
     ]
    },
    {
     "data": {
      "application/vnd.jupyter.widget-view+json": {
       "model_id": "4fb2d1adfa694317a3923b4b4dc54402",
       "version_major": 2,
       "version_minor": 0
      },
      "text/plain": [
       "HBox(children=(FloatProgress(value=0.0, description='Downloading', max=46747112.0, style=ProgressStyle(descrip…"
      ]
     },
     "metadata": {},
     "output_type": "display_data"
    },
    {
     "name": "stdout",
     "output_type": "stream",
     "text": [
      "\n"
     ]
    }
   ],
   "source": [
    "from transformers import AutoTokenizer, AutoModelForSequenceClassification\n",
    "import torch\n",
    "from travis_attack.utils import round_t\n",
    "\n",
    "tokenizer = AutoTokenizer.from_pretrained(\"textattack/albert-base-v2-CoLA\")\n",
    "\n",
    "model = AutoModelForSequenceClassification.from_pretrained(\"textattack/albert-base-v2-CoLA\")"
   ]
  },
  {
   "cell_type": "code",
   "execution_count": null,
   "metadata": {},
   "outputs": [],
   "source": []
  },
  {
   "cell_type": "code",
   "execution_count": null,
   "metadata": {},
   "outputs": [],
   "source": [
    "\n",
    "text =['however however tempered elements are the direct antithesis of what is right. ',\n",
    " \"though mild amusing I can't recommend it\",\n",
    " 'this is a film about film living in its own head',\n",
    " 'although small movie impact ',\n",
    " 'even tunney misfire though',\n",
    " 'although somewhat inane cross between xxx and vertical limits',\n",
    " 'Thoughthoughhill may not enough to salvage this boxing movie',\n",
    " 'though though stunning film tour de force.',\n",
    " 'although however Diaz wears her welcome in her performance',\n",
    " 'though though just collection of this and that fills time without unified whole',\n",
    " 'depths of despair believable',\n",
    " 'though who needs love',\n",
    " 'although however the repread of material already plumbed by martin scorsese',\n",
    " 'I thought the watch stopped keeping time as I logged clockstoppers',\n",
    " 'Epps neither charisma nor the natural affability that made tucker star',\n",
    " \"sometimes but because simone is not real she can't provide conflict.\",\n",
    " 'the sweet home stereotype',\n",
    " 'though though plodding teen remake mechanical grease on the plot twists',\n",
    " 'however sadness though not without fun',\n",
    " 'though though delightful coming-of-age story',\n",
    " 'half baked',\n",
    " \"movies to you misty even when you don't want\",\n",
    " 'though though stiff and schmaltzy directed',\n",
    " 'however objects could go long',\n",
    " 'but provoke sexual romp has something',\n",
    " 'maryam now timely',\n",
    " 'however although Ponski found perfect material to address his own World War iI experience in his Signature Style addressed',\n",
    " 'though though many shallower movies these days are shorter',\n",
    " 'it expose the hustler life of male hustlers exploitive without insightful',\n",
    " \"other than that the cast list eye see you junk isn't fooled\",\n",
    " 'although however you must-see list ecks',\n",
    " 'though though the fast runner transports the viewer into space',\n",
    " 'sometimes the movie idiomatic lackluster',\n",
    " 'comedy bonehead summer.',\n",
    " 'even though poor editing bad ultracheesy dialogue about radical action',\n",
    " 'this version justice stevenson both sci-fi genre',\n",
    " 'when i see madonna.',\n",
    " 'she is stylishly directed with verve.',\n",
    " 'singles culture one of the best',\n",
    " 'even if 88 minute highlight reel is longer',\n",
    " 'victim domestic abuse victims pity and terror.',\n",
    " 'although however magical the film not in mysterious spring performances',\n",
    " 'character portrait romantic comedy beat-the-clock thriller',\n",
    " \"eventhough Kusk's brillant here\",\n",
    " 'though though fine movie go see it ',\n",
    " 'however it claims simple diversion for kids',\n",
    " 'cinema movies movies movies',\n",
    " 'though though superior genre storytelling gets under our skin simply crossing the nuclear line',\n",
    " 'although however corpuse count ultimately overrides what little we learn about vicarious redemption',\n",
    " 'though though interesting unfaithfully']\n",
    "#text = [\"hello my name is tom\", \"I liked this movie\", \"I really did enjoy this\"]\n",
    "device = torch.device('cuda' if torch.cuda.is_available() else 'cpu')\n",
    "model = model.to(device)\n",
    "#mylabels = [1,1,1,1,1,1,1,1,1,1]"
   ]
  },
  {
   "cell_type": "code",
   "execution_count": null,
   "metadata": {},
   "outputs": [],
   "source": [
    "encoding = tokenizer(text, padding=True, return_tensors=\"pt\").to('cuda')\n",
    "#input_ids, attention_mask = encoding[\"input_ids\"].to(device), encoding[\"attention_mask\"].to(device)"
   ]
  },
  {
   "cell_type": "code",
   "execution_count": null,
   "metadata": {},
   "outputs": [],
   "source": [
    "cola_model = model \n",
    "cola_tokenizer = tokenizer\n",
    "def get_cola_probs(pp_l, cfg, cola_tokenizer, cola_model): \n",
    "    inputs = cola_tokenizer(pp_l, return_tensors=\"pt\", padding=True, truncation=True).to(cfg.device)\n",
    "    with torch.no_grad():\n",
    "        logits = cola_model(**inputs).logits\n",
    "        probs = logits.softmax(1)\n",
    "    return probs "
   ]
  },
  {
   "cell_type": "code",
   "execution_count": null,
   "metadata": {},
   "outputs": [
    {
     "name": "stdout",
     "output_type": "stream",
     "text": [
      "[0.83 0.17] however however tempered elements are the direct antithesis of what is right. \n",
      "[0.34 0.66] though mild amusing I can't recommend it\n",
      "[0.03 0.97] this is a film about film living in its own head\n",
      "[0.95 0.05] although small movie impact \n",
      "[0.35 0.65] even tunney misfire though\n",
      "[0.71 0.29] although somewhat inane cross between xxx and vertical limits\n",
      "[0.97 0.03] Thoughthoughhill may not enough to salvage this boxing movie\n",
      "[0.97 0.03] though though stunning film tour de force.\n",
      "[0.93 0.07] although however Diaz wears her welcome in her performance\n",
      "[0.78 0.22] though though just collection of this and that fills time without unified whole\n",
      "[0.31 0.69] depths of despair believable\n",
      "[0.64 0.36] though who needs love\n",
      "[0.94 0.06] although however the repread of material already plumbed by martin scorsese\n",
      "[0.56 0.44] I thought the watch stopped keeping time as I logged clockstoppers\n",
      "[0.85 0.15] Epps neither charisma nor the natural affability that made tucker star\n",
      "[0.57 0.43] sometimes but because simone is not real she can't provide conflict.\n",
      "[0.5 0.5] the sweet home stereotype\n",
      "[0.98 0.02] though though plodding teen remake mechanical grease on the plot twists\n",
      "[0.93 0.07] however sadness though not without fun\n",
      "[0.95 0.05] though though delightful coming-of-age story\n",
      "[0.19 0.81] half baked\n",
      "[0.98 0.02] movies to you misty even when you don't want\n",
      "[0.89 0.11] though though stiff and schmaltzy directed\n",
      "[0.05 0.95] however objects could go long\n",
      "[0.31 0.69] but provoke sexual romp has something\n",
      "[0.85 0.15] maryam now timely\n",
      "[0.73 0.27] however although Ponski found perfect material to address his own World War iI experience in his Signature Style addressed\n",
      "[0.62 0.38] though though many shallower movies these days are shorter\n",
      "[0.97 0.03] it expose the hustler life of male hustlers exploitive without insightful\n",
      "[0.93 0.07] other than that the cast list eye see you junk isn't fooled\n",
      "[0.97 0.03] although however you must-see list ecks\n",
      "[0.48 0.52] though though the fast runner transports the viewer into space\n",
      "[0.94 0.06] sometimes the movie idiomatic lackluster\n",
      "[0.63 0.37] comedy bonehead summer.\n",
      "[0.71 0.29] even though poor editing bad ultracheesy dialogue about radical action\n",
      "[0.77 0.23] this version justice stevenson both sci-fi genre\n",
      "[0.95 0.05] when i see madonna.\n",
      "[0.06 0.94] she is stylishly directed with verve.\n",
      "[0.69 0.31] singles culture one of the best\n",
      "[0.88 0.12] even if 88 minute highlight reel is longer\n",
      "[0.94 0.06] victim domestic abuse victims pity and terror.\n",
      "[0.92 0.08] although however magical the film not in mysterious spring performances\n",
      "[0.44 0.56] character portrait romantic comedy beat-the-clock thriller\n",
      "[0.19 0.81] eventhough Kusk's brillant here\n",
      "[0.97 0.03] though though fine movie go see it \n",
      "[0.82 0.18] however it claims simple diversion for kids\n",
      "[0.53 0.47] cinema movies movies movies\n",
      "[0.9 0.1] though though superior genre storytelling gets under our skin simply crossing the nuclear line\n",
      "[0.95 0.05] although however corpuse count ultimately overrides what little we learn about vicarious redemption\n",
      "[0.95 0.05] though though interesting unfaithfully\n"
     ]
    }
   ],
   "source": [
    "model_output = model(**encoding)\n",
    "probs = torch.softmax(model_output.logits,1)\n",
    "\n",
    "for p,t in zip(probs,text): \n",
    "    print(round_t(p), t)"
   ]
  },
  {
   "cell_type": "markdown",
   "metadata": {},
   "source": [
    "Impressions: \n",
    "    * first random batch of 10, me and the model agreed with 9.\n",
    "    * second random batch of 10, me and the model agreed on all (though they were mostly all bad)\n",
    "    * third batch, agreed with 9/10\n",
    "    * fourth batch from simple dataset, we agreed on all. I'm fine with random punctuation and the model seems to be okay with it for the most part. \n",
    "    * fifth batch, we agreed on 8/10. \n",
    "    * sixth batch, i put in a bunch of original examples. it agreed with 9/10, then 10/10\n",
    "    * finally I made a bunch of paraphrases myself. It liked 9/10. \n",
    "    \n",
    "The best thing about it is that it gets rid of the absolute trash. Sometimes it seems to put a valid sentence as invalid but overall it does pretty well. \n",
    "   \n",
    "I think we can go with this and set the cutoff maybe to a class 0 rating ( acceptable) of 0.5 - so if we get higher than this probability for \"crap\" then we ditch it. keep this the same way round as sts score. \n",
    "cola_acceptable_threshold = 0.5\n",
    "   \n",
    "   \n",
    "maybe this is hard for shorter sentences? "
   ]
  }
 ],
 "metadata": {
  "kernelspec": {
   "display_name": "Python 3",
   "language": "python",
   "name": "python3"
  }
 },
 "nbformat": 4,
 "nbformat_minor": 4
}
